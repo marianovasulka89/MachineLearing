{
 "cells": [
  {
   "cell_type": "code",
   "execution_count": 1470,
   "id": "129c8f6a",
   "metadata": {
    "collapsed": true
   },
   "outputs": [
    {
     "name": "stdout",
     "output_type": "stream",
     "text": [
      "Requirement already satisfied: pygrowup in c:\\users\\daiana_nubi\\anaconda3\\lib\\site-packages (0.8.2)\n",
      "Requirement already satisfied: six in c:\\users\\daiana_nubi\\anaconda3\\lib\\site-packages (from pygrowup) (1.15.0)\n"
     ]
    }
   ],
   "source": [
    "#!pip install pygrowup"
   ]
  },
  {
   "cell_type": "code",
   "execution_count": 1471,
   "id": "83ece907",
   "metadata": {
    "collapsed": true
   },
   "outputs": [
    {
     "name": "stdout",
     "output_type": "stream",
     "text": [
      "Requirement already satisfied: dataframe-image in c:\\users\\daiana_nubi\\anaconda3\\lib\\site-packages (0.1.1)\n",
      "Requirement already satisfied: aiohttp in c:\\users\\daiana_nubi\\anaconda3\\lib\\site-packages (from dataframe-image) (3.8.1)\n",
      "Requirement already satisfied: pandas>=0.24 in c:\\users\\daiana_nubi\\anaconda3\\lib\\site-packages (from dataframe-image) (1.2.4)\n",
      "Requirement already satisfied: requests in c:\\users\\daiana_nubi\\anaconda3\\lib\\site-packages (from dataframe-image) (2.25.1)\n",
      "Requirement already satisfied: nbconvert>=5 in c:\\users\\daiana_nubi\\anaconda3\\lib\\site-packages (from dataframe-image) (6.0.7)\n",
      "Requirement already satisfied: beautifulsoup4 in c:\\users\\daiana_nubi\\anaconda3\\lib\\site-packages (from dataframe-image) (4.9.3)\n",
      "Requirement already satisfied: matplotlib>=3.1 in c:\\users\\daiana_nubi\\anaconda3\\lib\\site-packages (from dataframe-image) (3.3.4)\n",
      "Requirement already satisfied: kiwisolver>=1.0.1 in c:\\users\\daiana_nubi\\anaconda3\\lib\\site-packages (from matplotlib>=3.1->dataframe-image) (1.3.1)\n",
      "Requirement already satisfied: pillow>=6.2.0 in c:\\users\\daiana_nubi\\anaconda3\\lib\\site-packages (from matplotlib>=3.1->dataframe-image) (8.2.0)\n",
      "Requirement already satisfied: cycler>=0.10 in c:\\users\\daiana_nubi\\anaconda3\\lib\\site-packages (from matplotlib>=3.1->dataframe-image) (0.10.0)\n",
      "Requirement already satisfied: python-dateutil>=2.1 in c:\\users\\daiana_nubi\\anaconda3\\lib\\site-packages (from matplotlib>=3.1->dataframe-image) (2.8.1)\n",
      "Requirement already satisfied: pyparsing!=2.0.4,!=2.1.2,!=2.1.6,>=2.0.3 in c:\\users\\daiana_nubi\\anaconda3\\lib\\site-packages (from matplotlib>=3.1->dataframe-image) (2.4.7)\n",
      "Requirement already satisfied: numpy>=1.15 in c:\\users\\daiana_nubi\\anaconda3\\lib\\site-packages (from matplotlib>=3.1->dataframe-image) (1.20.1)\n",
      "Requirement already satisfied: six in c:\\users\\daiana_nubi\\anaconda3\\lib\\site-packages (from cycler>=0.10->matplotlib>=3.1->dataframe-image) (1.15.0)\n",
      "Requirement already satisfied: defusedxml in c:\\users\\daiana_nubi\\anaconda3\\lib\\site-packages (from nbconvert>=5->dataframe-image) (0.7.1)\n",
      "Requirement already satisfied: nbclient<0.6.0,>=0.5.0 in c:\\users\\daiana_nubi\\anaconda3\\lib\\site-packages (from nbconvert>=5->dataframe-image) (0.5.3)\n",
      "Requirement already satisfied: jupyterlab-pygments in c:\\users\\daiana_nubi\\anaconda3\\lib\\site-packages (from nbconvert>=5->dataframe-image) (0.1.2)\n",
      "Requirement already satisfied: pandocfilters>=1.4.1 in c:\\users\\daiana_nubi\\anaconda3\\lib\\site-packages (from nbconvert>=5->dataframe-image) (1.4.3)\n",
      "Requirement already satisfied: entrypoints>=0.2.2 in c:\\users\\daiana_nubi\\anaconda3\\lib\\site-packages (from nbconvert>=5->dataframe-image) (0.3)\n",
      "Requirement already satisfied: jinja2>=2.4 in c:\\users\\daiana_nubi\\anaconda3\\lib\\site-packages (from nbconvert>=5->dataframe-image) (2.11.3)\n",
      "Requirement already satisfied: jupyter-core in c:\\users\\daiana_nubi\\anaconda3\\lib\\site-packages (from nbconvert>=5->dataframe-image) (4.7.1)\n",
      "Requirement already satisfied: testpath in c:\\users\\daiana_nubi\\anaconda3\\lib\\site-packages (from nbconvert>=5->dataframe-image) (0.4.4)\n",
      "Requirement already satisfied: mistune<2,>=0.8.1 in c:\\users\\daiana_nubi\\anaconda3\\lib\\site-packages (from nbconvert>=5->dataframe-image) (0.8.4)\n",
      "Requirement already satisfied: nbformat>=4.4 in c:\\users\\daiana_nubi\\anaconda3\\lib\\site-packages (from nbconvert>=5->dataframe-image) (5.1.3)\n",
      "Requirement already satisfied: traitlets>=4.2 in c:\\users\\daiana_nubi\\anaconda3\\lib\\site-packages (from nbconvert>=5->dataframe-image) (5.0.5)\n",
      "Requirement already satisfied: bleach in c:\\users\\daiana_nubi\\anaconda3\\lib\\site-packages (from nbconvert>=5->dataframe-image) (3.3.0)\n",
      "Requirement already satisfied: pygments>=2.4.1 in c:\\users\\daiana_nubi\\anaconda3\\lib\\site-packages (from nbconvert>=5->dataframe-image) (2.8.1)\n",
      "Requirement already satisfied: MarkupSafe>=0.23 in c:\\users\\daiana_nubi\\anaconda3\\lib\\site-packages (from jinja2>=2.4->nbconvert>=5->dataframe-image) (1.1.1)\n",
      "Requirement already satisfied: jupyter-client>=6.1.5 in c:\\users\\daiana_nubi\\anaconda3\\lib\\site-packages (from nbclient<0.6.0,>=0.5.0->nbconvert>=5->dataframe-image) (6.1.12)\n",
      "Requirement already satisfied: async-generator in c:\\users\\daiana_nubi\\anaconda3\\lib\\site-packages (from nbclient<0.6.0,>=0.5.0->nbconvert>=5->dataframe-image) (1.10)\n",
      "Requirement already satisfied: nest-asyncio in c:\\users\\daiana_nubi\\anaconda3\\lib\\site-packages (from nbclient<0.6.0,>=0.5.0->nbconvert>=5->dataframe-image) (1.5.1)\n",
      "Requirement already satisfied: tornado>=4.1 in c:\\users\\daiana_nubi\\anaconda3\\lib\\site-packages (from jupyter-client>=6.1.5->nbclient<0.6.0,>=0.5.0->nbconvert>=5->dataframe-image) (6.1)\n",
      "Requirement already satisfied: pyzmq>=13 in c:\\users\\daiana_nubi\\anaconda3\\lib\\site-packages (from jupyter-client>=6.1.5->nbclient<0.6.0,>=0.5.0->nbconvert>=5->dataframe-image) (20.0.0)\n",
      "Requirement already satisfied: pywin32>=1.0 in c:\\users\\daiana_nubi\\anaconda3\\lib\\site-packages (from jupyter-core->nbconvert>=5->dataframe-image) (227)\n",
      "Requirement already satisfied: ipython-genutils in c:\\users\\daiana_nubi\\anaconda3\\lib\\site-packages (from nbformat>=4.4->nbconvert>=5->dataframe-image) (0.2.0)\n",
      "Requirement already satisfied: jsonschema!=2.5.0,>=2.4 in c:\\users\\daiana_nubi\\anaconda3\\lib\\site-packages (from nbformat>=4.4->nbconvert>=5->dataframe-image) (3.2.0)\n",
      "Requirement already satisfied: pyrsistent>=0.14.0 in c:\\users\\daiana_nubi\\anaconda3\\lib\\site-packages (from jsonschema!=2.5.0,>=2.4->nbformat>=4.4->nbconvert>=5->dataframe-image) (0.17.3)\n",
      "Requirement already satisfied: attrs>=17.4.0 in c:\\users\\daiana_nubi\\anaconda3\\lib\\site-packages (from jsonschema!=2.5.0,>=2.4->nbformat>=4.4->nbconvert>=5->dataframe-image) (20.3.0)\n",
      "Requirement already satisfied: setuptools in c:\\users\\daiana_nubi\\anaconda3\\lib\\site-packages (from jsonschema!=2.5.0,>=2.4->nbformat>=4.4->nbconvert>=5->dataframe-image) (52.0.0.post20210125)\n",
      "Requirement already satisfied: pytz>=2017.3 in c:\\users\\daiana_nubi\\anaconda3\\lib\\site-packages (from pandas>=0.24->dataframe-image) (2021.1)\n",
      "Requirement already satisfied: frozenlist>=1.1.1 in c:\\users\\daiana_nubi\\anaconda3\\lib\\site-packages (from aiohttp->dataframe-image) (1.3.0)\n",
      "Requirement already satisfied: yarl<2.0,>=1.0 in c:\\users\\daiana_nubi\\anaconda3\\lib\\site-packages (from aiohttp->dataframe-image) (1.7.2)\n",
      "Requirement already satisfied: multidict<7.0,>=4.5 in c:\\users\\daiana_nubi\\anaconda3\\lib\\site-packages (from aiohttp->dataframe-image) (6.0.2)\n",
      "Requirement already satisfied: charset-normalizer<3.0,>=2.0 in c:\\users\\daiana_nubi\\anaconda3\\lib\\site-packages (from aiohttp->dataframe-image) (2.0.12)\n",
      "Requirement already satisfied: async-timeout<5.0,>=4.0.0a3 in c:\\users\\daiana_nubi\\anaconda3\\lib\\site-packages (from aiohttp->dataframe-image) (4.0.2)\n",
      "Requirement already satisfied: aiosignal>=1.1.2 in c:\\users\\daiana_nubi\\anaconda3\\lib\\site-packages (from aiohttp->dataframe-image) (1.2.0)\n",
      "Requirement already satisfied: idna>=2.0 in c:\\users\\daiana_nubi\\anaconda3\\lib\\site-packages (from yarl<2.0,>=1.0->aiohttp->dataframe-image) (2.10)\n",
      "Requirement already satisfied: soupsieve>1.2 in c:\\users\\daiana_nubi\\anaconda3\\lib\\site-packages (from beautifulsoup4->dataframe-image) (2.2.1)\n",
      "Requirement already satisfied: packaging in c:\\users\\daiana_nubi\\anaconda3\\lib\\site-packages (from bleach->nbconvert>=5->dataframe-image) (20.9)\n",
      "Requirement already satisfied: webencodings in c:\\users\\daiana_nubi\\anaconda3\\lib\\site-packages (from bleach->nbconvert>=5->dataframe-image) (0.5.1)\n",
      "Requirement already satisfied: chardet<5,>=3.0.2 in c:\\users\\daiana_nubi\\anaconda3\\lib\\site-packages (from requests->dataframe-image) (4.0.0)\n",
      "Requirement already satisfied: certifi>=2017.4.17 in c:\\users\\daiana_nubi\\anaconda3\\lib\\site-packages (from requests->dataframe-image) (2020.12.5)\n",
      "Requirement already satisfied: urllib3<1.27,>=1.21.1 in c:\\users\\daiana_nubi\\anaconda3\\lib\\site-packages (from requests->dataframe-image) (1.26.4)\n",
      "Note: you may need to restart the kernel to use updated packages.\n"
     ]
    }
   ],
   "source": [
    "#pip install dataframe-image"
   ]
  },
  {
   "cell_type": "code",
   "execution_count": null,
   "id": "96af59c9",
   "metadata": {},
   "outputs": [],
   "source": [
    "# OJO! CON LOS reset_index()"
   ]
  },
  {
   "cell_type": "code",
   "execution_count": 1,
   "id": "219bccb6",
   "metadata": {},
   "outputs": [],
   "source": [
    "import numpy as np\n",
    "import pandas as pd\n",
    "import datetime\n",
    "import seaborn as sns\n",
    "import matplotlib.pyplot as plt\n",
    "%matplotlib inline\n",
    "\n",
    "from pygrowup import Calculator\n",
    "# helpers contains optional utilities for formatting dates, etc\n",
    "from pygrowup import helpers\n",
    "\n",
    "#import dataframe_image as dfi\n",
    "\n",
    "#pd.set_option('display.max_rows', None)"
   ]
  },
  {
   "cell_type": "code",
   "execution_count": null,
   "id": "97570c20",
   "metadata": {},
   "outputs": [],
   "source": []
  },
  {
   "cell_type": "code",
   "execution_count": 2,
   "id": "b0b6051d",
   "metadata": {},
   "outputs": [],
   "source": [
    "def defino_rango(edad_dias):\n",
    "    edad_meses = edad_dias/30.5\n",
    "    \n",
    "    if edad_meses <= 6:\n",
    "        return 'nacimiento - 6 meses'\n",
    "    \n",
    "    elif edad_meses <= 24:\n",
    "        return '6 meses - 2 años'\n",
    "    \n",
    "    elif edad_meses <= 60:\n",
    "        return '2 años - 5 años'\n",
    "    \n",
    "    elif edad_meses <= 228:\n",
    "        return '5 años - 19 años'\n",
    "    \n",
    "    #elif edad_meses <= 228:\n",
    "        #return '10 años - 19 años'\n",
    "    \n",
    "    else:\n",
    "        return 'fuera de rango'"
   ]
  },
  {
   "cell_type": "code",
   "execution_count": null,
   "id": "251d0928",
   "metadata": {},
   "outputs": [],
   "source": []
  },
  {
   "cell_type": "code",
   "execution_count": 312,
   "id": "d5219d7e",
   "metadata": {},
   "outputs": [],
   "source": [
    "def defino_rango_extra(edad_dias):\n",
    "    edad_meses = edad_dias/30.5\n",
    "    \n",
    "    if edad_meses <= 6:\n",
    "        return 'nacimiento - 6 meses'\n",
    "    \n",
    "    elif edad_meses <= 24:\n",
    "        return '6 meses - 2 años'\n",
    "    \n",
    "    elif edad_meses <= 60:\n",
    "        return '2 años - 5 años'\n",
    "    \n",
    "    elif edad_meses <= 120:\n",
    "        return '5 años - 10 años'\n",
    "    \n",
    "    elif edad_meses <= 228:\n",
    "        return '10 años - 19 años'\n",
    "    \n",
    "    else:\n",
    "        return 'fuera de rango'"
   ]
  },
  {
   "cell_type": "code",
   "execution_count": 141,
   "id": "a5e785bd",
   "metadata": {},
   "outputs": [],
   "source": [
    "filename = 'data/controles.csv'\n",
    "df = pd.read_csv(filename, sep=';')"
   ]
  },
  {
   "cell_type": "code",
   "execution_count": 142,
   "id": "2a04d5b9",
   "metadata": {},
   "outputs": [
    {
     "data": {
      "text/html": [
       "<div>\n",
       "<style scoped>\n",
       "    .dataframe tbody tr th:only-of-type {\n",
       "        vertical-align: middle;\n",
       "    }\n",
       "\n",
       "    .dataframe tbody tr th {\n",
       "        vertical-align: top;\n",
       "    }\n",
       "\n",
       "    .dataframe thead th {\n",
       "        text-align: right;\n",
       "    }\n",
       "</style>\n",
       "<table border=\"1\" class=\"dataframe\">\n",
       "  <thead>\n",
       "    <tr style=\"text-align: right;\">\n",
       "      <th></th>\n",
       "      <th>id_individuo</th>\n",
       "      <th>sexo</th>\n",
       "      <th>peso</th>\n",
       "      <th>talla</th>\n",
       "      <th>edad_dias</th>\n",
       "    </tr>\n",
       "  </thead>\n",
       "  <tbody>\n",
       "    <tr>\n",
       "      <th>0</th>\n",
       "      <td>1</td>\n",
       "      <td>F</td>\n",
       "      <td>18,6</td>\n",
       "      <td>104.0</td>\n",
       "      <td>1964.0</td>\n",
       "    </tr>\n",
       "    <tr>\n",
       "      <th>1</th>\n",
       "      <td>1</td>\n",
       "      <td>F</td>\n",
       "      <td>23,5</td>\n",
       "      <td>115.0</td>\n",
       "      <td>2615.0</td>\n",
       "    </tr>\n",
       "    <tr>\n",
       "      <th>2</th>\n",
       "      <td>2</td>\n",
       "      <td>M</td>\n",
       "      <td>7,8</td>\n",
       "      <td>59.0</td>\n",
       "      <td>168.0</td>\n",
       "    </tr>\n",
       "    <tr>\n",
       "      <th>3</th>\n",
       "      <td>2</td>\n",
       "      <td>M</td>\n",
       "      <td>7,8</td>\n",
       "      <td>66.0</td>\n",
       "      <td>193.0</td>\n",
       "    </tr>\n",
       "    <tr>\n",
       "      <th>4</th>\n",
       "      <td>3</td>\n",
       "      <td>F</td>\n",
       "      <td>34,6</td>\n",
       "      <td>141.0</td>\n",
       "      <td>3573.0</td>\n",
       "    </tr>\n",
       "  </tbody>\n",
       "</table>\n",
       "</div>"
      ],
      "text/plain": [
       "   id_individuo sexo  peso  talla  edad_dias\n",
       "0             1    F  18,6  104.0     1964.0\n",
       "1             1    F  23,5  115.0     2615.0\n",
       "2             2    M   7,8   59.0      168.0\n",
       "3             2    M   7,8   66.0      193.0\n",
       "4             3    F  34,6  141.0     3573.0"
      ]
     },
     "execution_count": 142,
     "metadata": {},
     "output_type": "execute_result"
    }
   ],
   "source": [
    "df.head()"
   ]
  },
  {
   "cell_type": "code",
   "execution_count": 143,
   "id": "1e61b561",
   "metadata": {},
   "outputs": [
    {
     "data": {
      "text/plain": [
       "(1161406, 5)"
      ]
     },
     "execution_count": 143,
     "metadata": {},
     "output_type": "execute_result"
    }
   ],
   "source": [
    "df.shape"
   ]
  },
  {
   "cell_type": "code",
   "execution_count": 144,
   "id": "28141e15",
   "metadata": {},
   "outputs": [],
   "source": [
    "shape_original = df.shape[0]"
   ]
  },
  {
   "cell_type": "code",
   "execution_count": 145,
   "id": "6fe3f306",
   "metadata": {},
   "outputs": [
    {
     "name": "stdout",
     "output_type": "stream",
     "text": [
      "<class 'pandas.core.frame.DataFrame'>\n",
      "RangeIndex: 1161406 entries, 0 to 1161405\n",
      "Data columns (total 5 columns):\n",
      " #   Column        Non-Null Count    Dtype  \n",
      "---  ------        --------------    -----  \n",
      " 0   id_individuo  1161406 non-null  int64  \n",
      " 1   sexo          1161219 non-null  object \n",
      " 2   peso          1161232 non-null  object \n",
      " 3   talla         1161292 non-null  float64\n",
      " 4   edad_dias     1161393 non-null  float64\n",
      "dtypes: float64(2), int64(1), object(2)\n",
      "memory usage: 44.3+ MB\n"
     ]
    }
   ],
   "source": [
    "df.info() \n",
    "# sexo tiene 187 nulos\n",
    "# peso       174\n",
    "# talla      114\n",
    "# edad        13"
   ]
  },
  {
   "cell_type": "code",
   "execution_count": 146,
   "id": "ea7f1aa5",
   "metadata": {},
   "outputs": [],
   "source": [
    "# Pasar peso a float - OJO con la coma!\n",
    "df['peso'] = df['peso'].replace(',', '.', regex=True)\n",
    "df['peso'] = df['peso'].apply(lambda x: float(x))"
   ]
  },
  {
   "cell_type": "code",
   "execution_count": 147,
   "id": "516ed368",
   "metadata": {},
   "outputs": [
    {
     "data": {
      "text/plain": [
       "numpy.float64"
      ]
     },
     "execution_count": 147,
     "metadata": {},
     "output_type": "execute_result"
    }
   ],
   "source": [
    "type(df['peso'][0])"
   ]
  },
  {
   "cell_type": "markdown",
   "id": "66e2c109",
   "metadata": {},
   "source": [
    "### Individuo"
   ]
  },
  {
   "cell_type": "code",
   "execution_count": 148,
   "id": "aba5e1fb",
   "metadata": {},
   "outputs": [
    {
     "data": {
      "text/plain": [
       "260002    15\n",
       "74564     15\n",
       "20569     15\n",
       "147054    15\n",
       "116850    15\n",
       "          ..\n",
       "148708     2\n",
       "148710     2\n",
       "148712     2\n",
       "148716     2\n",
       "150001     2\n",
       "Name: id_individuo, Length: 300000, dtype: int64"
      ]
     },
     "execution_count": 148,
     "metadata": {},
     "output_type": "execute_result"
    }
   ],
   "source": [
    "df['id_individuo'].value_counts() #La cantidad de mediciones por individuo va de 2 a 15"
   ]
  },
  {
   "cell_type": "code",
   "execution_count": 149,
   "id": "975517fe",
   "metadata": {},
   "outputs": [
    {
     "name": "stdout",
     "output_type": "stream",
     "text": [
      "cant. valores: 300000\n",
      "min: 1\n",
      "max: 300000\n"
     ]
    }
   ],
   "source": [
    "print('cant. valores:', len(df['id_individuo'].value_counts())) # Se corresponde con los 300 mil individuos \n",
    "print('min:', df['id_individuo'].min())\n",
    "print('max:', df['id_individuo'].max())"
   ]
  },
  {
   "cell_type": "markdown",
   "id": "f4e52fd8",
   "metadata": {},
   "source": [
    "### Edad (días)"
   ]
  },
  {
   "cell_type": "code",
   "execution_count": 150,
   "id": "94ad1f51",
   "metadata": {},
   "outputs": [
    {
     "name": "stdout",
     "output_type": "stream",
     "text": [
      "4.0\n",
      "7304.0\n"
     ]
    }
   ],
   "source": [
    "print(df['edad_dias'].min()) # Hasta que edad es válido ??? 19\n",
    "print(df['edad_dias'].max())\n",
    "# 7304 días - 20 años"
   ]
  },
  {
   "cell_type": "code",
   "execution_count": 151,
   "id": "5bb3525b",
   "metadata": {},
   "outputs": [
    {
     "name": "stdout",
     "output_type": "stream",
     "text": [
      "cant. nulos: 13\n"
     ]
    },
    {
     "data": {
      "text/html": [
       "<div>\n",
       "<style scoped>\n",
       "    .dataframe tbody tr th:only-of-type {\n",
       "        vertical-align: middle;\n",
       "    }\n",
       "\n",
       "    .dataframe tbody tr th {\n",
       "        vertical-align: top;\n",
       "    }\n",
       "\n",
       "    .dataframe thead th {\n",
       "        text-align: right;\n",
       "    }\n",
       "</style>\n",
       "<table border=\"1\" class=\"dataframe\">\n",
       "  <thead>\n",
       "    <tr style=\"text-align: right;\">\n",
       "      <th></th>\n",
       "      <th>id_individuo</th>\n",
       "      <th>sexo</th>\n",
       "      <th>peso</th>\n",
       "      <th>talla</th>\n",
       "      <th>edad_dias</th>\n",
       "    </tr>\n",
       "  </thead>\n",
       "  <tbody>\n",
       "    <tr>\n",
       "      <th>23094</th>\n",
       "      <td>5935</td>\n",
       "      <td>F</td>\n",
       "      <td>31.4</td>\n",
       "      <td>58.0</td>\n",
       "      <td>NaN</td>\n",
       "    </tr>\n",
       "    <tr>\n",
       "      <th>67648</th>\n",
       "      <td>17658</td>\n",
       "      <td>M</td>\n",
       "      <td>20.6</td>\n",
       "      <td>114.0</td>\n",
       "      <td>NaN</td>\n",
       "    </tr>\n",
       "    <tr>\n",
       "      <th>73241</th>\n",
       "      <td>19111</td>\n",
       "      <td>F</td>\n",
       "      <td>13.3</td>\n",
       "      <td>98.0</td>\n",
       "      <td>NaN</td>\n",
       "    </tr>\n",
       "    <tr>\n",
       "      <th>141877</th>\n",
       "      <td>36793</td>\n",
       "      <td>M</td>\n",
       "      <td>10.4</td>\n",
       "      <td>80.0</td>\n",
       "      <td>NaN</td>\n",
       "    </tr>\n",
       "    <tr>\n",
       "      <th>187290</th>\n",
       "      <td>48523</td>\n",
       "      <td>F</td>\n",
       "      <td>3.9</td>\n",
       "      <td>50.0</td>\n",
       "      <td>NaN</td>\n",
       "    </tr>\n",
       "    <tr>\n",
       "      <th>350939</th>\n",
       "      <td>90758</td>\n",
       "      <td>F</td>\n",
       "      <td>3.1</td>\n",
       "      <td>49.0</td>\n",
       "      <td>NaN</td>\n",
       "    </tr>\n",
       "    <tr>\n",
       "      <th>351487</th>\n",
       "      <td>90903</td>\n",
       "      <td>M</td>\n",
       "      <td>8.5</td>\n",
       "      <td>65.0</td>\n",
       "      <td>NaN</td>\n",
       "    </tr>\n",
       "    <tr>\n",
       "      <th>583484</th>\n",
       "      <td>150786</td>\n",
       "      <td>M</td>\n",
       "      <td>10.3</td>\n",
       "      <td>77.0</td>\n",
       "      <td>NaN</td>\n",
       "    </tr>\n",
       "    <tr>\n",
       "      <th>651387</th>\n",
       "      <td>168261</td>\n",
       "      <td>F</td>\n",
       "      <td>14.6</td>\n",
       "      <td>95.0</td>\n",
       "      <td>NaN</td>\n",
       "    </tr>\n",
       "    <tr>\n",
       "      <th>723246</th>\n",
       "      <td>186693</td>\n",
       "      <td>M</td>\n",
       "      <td>11.5</td>\n",
       "      <td>79.0</td>\n",
       "      <td>NaN</td>\n",
       "    </tr>\n",
       "    <tr>\n",
       "      <th>1009474</th>\n",
       "      <td>260780</td>\n",
       "      <td>M</td>\n",
       "      <td>18.4</td>\n",
       "      <td>111.0</td>\n",
       "      <td>NaN</td>\n",
       "    </tr>\n",
       "    <tr>\n",
       "      <th>1116710</th>\n",
       "      <td>288471</td>\n",
       "      <td>F</td>\n",
       "      <td>18.4</td>\n",
       "      <td>82.0</td>\n",
       "      <td>NaN</td>\n",
       "    </tr>\n",
       "    <tr>\n",
       "      <th>1160554</th>\n",
       "      <td>299784</td>\n",
       "      <td>F</td>\n",
       "      <td>259.4</td>\n",
       "      <td>109.0</td>\n",
       "      <td>NaN</td>\n",
       "    </tr>\n",
       "  </tbody>\n",
       "</table>\n",
       "</div>"
      ],
      "text/plain": [
       "         id_individuo sexo   peso  talla  edad_dias\n",
       "23094            5935    F   31.4   58.0        NaN\n",
       "67648           17658    M   20.6  114.0        NaN\n",
       "73241           19111    F   13.3   98.0        NaN\n",
       "141877          36793    M   10.4   80.0        NaN\n",
       "187290          48523    F    3.9   50.0        NaN\n",
       "350939          90758    F    3.1   49.0        NaN\n",
       "351487          90903    M    8.5   65.0        NaN\n",
       "583484         150786    M   10.3   77.0        NaN\n",
       "651387         168261    F   14.6   95.0        NaN\n",
       "723246         186693    M   11.5   79.0        NaN\n",
       "1009474        260780    M   18.4  111.0        NaN\n",
       "1116710        288471    F   18.4   82.0        NaN\n",
       "1160554        299784    F  259.4  109.0        NaN"
      ]
     },
     "execution_count": 151,
     "metadata": {},
     "output_type": "execute_result"
    }
   ],
   "source": [
    "print('cant. nulos:', df[df['edad_dias'].isnull()].shape[0])\n",
    "df[df['edad_dias'].isnull()]"
   ]
  },
  {
   "cell_type": "code",
   "execution_count": 152,
   "id": "4b1483e7",
   "metadata": {},
   "outputs": [],
   "source": [
    "#df.dropna(subset=['edad_dias'], inplace=True)"
   ]
  },
  {
   "cell_type": "code",
   "execution_count": 153,
   "id": "52ac765a",
   "metadata": {},
   "outputs": [
    {
     "data": {
      "text/plain": [
       "count    1.161393e+06\n",
       "mean     1.669827e+03\n",
       "std      1.625521e+03\n",
       "min      4.000000e+00\n",
       "1%       2.400000e+01\n",
       "5%       7.000000e+01\n",
       "10%      1.380000e+02\n",
       "25%      3.720000e+02\n",
       "50%      1.134000e+03\n",
       "75%      2.469000e+03\n",
       "90%      4.205000e+03\n",
       "95%      5.277000e+03\n",
       "99%      6.580000e+03\n",
       "max      7.304000e+03\n",
       "Name: edad_dias, dtype: float64"
      ]
     },
     "execution_count": 153,
     "metadata": {},
     "output_type": "execute_result"
    }
   ],
   "source": [
    "df['edad_dias'].describe([.01, .05, .10, .25, .5, .75, .90, .95, .99]) \n",
    "# hasta el tercer cuartil cubre 6 años de edad\n",
    "# ver percentiles 90-95-99"
   ]
  },
  {
   "cell_type": "code",
   "execution_count": 154,
   "id": "7a295f0e",
   "metadata": {},
   "outputs": [
    {
     "data": {
      "text/plain": [
       "4660"
      ]
     },
     "execution_count": 154,
     "metadata": {},
     "output_type": "execute_result"
    }
   ],
   "source": [
    "df[df['edad_dias']>6935].shape[0]"
   ]
  },
  {
   "cell_type": "code",
   "execution_count": 157,
   "id": "2cf097f6",
   "metadata": {},
   "outputs": [
    {
     "data": {
      "text/plain": [
       "0.4012378100337005"
      ]
     },
     "execution_count": 157,
     "metadata": {},
     "output_type": "execute_result"
    }
   ],
   "source": [
    "(4660 * 100) / 1161406"
   ]
  },
  {
   "cell_type": "code",
   "execution_count": 155,
   "id": "3194d38a",
   "metadata": {},
   "outputs": [],
   "source": [
    "# elimino los que están fuera de rango\n",
    "df = df[df['edad_dias']<=6935]"
   ]
  },
  {
   "cell_type": "code",
   "execution_count": 168,
   "id": "b1817bd1",
   "metadata": {},
   "outputs": [
    {
     "data": {
      "text/plain": [
       "299558"
      ]
     },
     "execution_count": 168,
     "metadata": {},
     "output_type": "execute_result"
    }
   ],
   "source": [
    "df['id_individuo'].nunique()"
   ]
  },
  {
   "cell_type": "markdown",
   "id": "1a29c440",
   "metadata": {},
   "source": [
    "### Sexo"
   ]
  },
  {
   "cell_type": "code",
   "execution_count": 158,
   "id": "bdfafe26",
   "metadata": {},
   "outputs": [
    {
     "data": {
      "text/plain": [
       "array(['F', 'M', nan, 'f', 'm', 'k'], dtype=object)"
      ]
     },
     "execution_count": 158,
     "metadata": {},
     "output_type": "execute_result"
    }
   ],
   "source": [
    "df['sexo'].unique() \n",
    "# Hacer match F-f y M-m\n",
    "# Verificar si hay más info para los individuos con k y sino convertir a Nan"
   ]
  },
  {
   "cell_type": "code",
   "execution_count": 159,
   "id": "5c593299",
   "metadata": {},
   "outputs": [
    {
     "data": {
      "text/plain": [
       "F    582788\n",
       "M    573718\n",
       "f        20\n",
       "m        18\n",
       "k         2\n",
       "Name: sexo, dtype: int64"
      ]
     },
     "execution_count": 159,
     "metadata": {},
     "output_type": "execute_result"
    }
   ],
   "source": [
    "df['sexo'].value_counts() \n",
    "# 0.5051\n",
    "# 0.4948\n",
    "# "
   ]
  },
  {
   "cell_type": "code",
   "execution_count": 160,
   "id": "8e3cd698",
   "metadata": {},
   "outputs": [
    {
     "data": {
      "text/html": [
       "<div>\n",
       "<style scoped>\n",
       "    .dataframe tbody tr th:only-of-type {\n",
       "        vertical-align: middle;\n",
       "    }\n",
       "\n",
       "    .dataframe tbody tr th {\n",
       "        vertical-align: top;\n",
       "    }\n",
       "\n",
       "    .dataframe thead th {\n",
       "        text-align: right;\n",
       "    }\n",
       "</style>\n",
       "<table border=\"1\" class=\"dataframe\">\n",
       "  <thead>\n",
       "    <tr style=\"text-align: right;\">\n",
       "      <th></th>\n",
       "      <th>id_individuo</th>\n",
       "      <th>sexo</th>\n",
       "      <th>peso</th>\n",
       "      <th>talla</th>\n",
       "      <th>edad_dias</th>\n",
       "    </tr>\n",
       "  </thead>\n",
       "  <tbody>\n",
       "    <tr>\n",
       "      <th>364821</th>\n",
       "      <td>94319</td>\n",
       "      <td>k</td>\n",
       "      <td>52.5</td>\n",
       "      <td>161.0</td>\n",
       "      <td>4869.0</td>\n",
       "    </tr>\n",
       "    <tr>\n",
       "      <th>499713</th>\n",
       "      <td>129122</td>\n",
       "      <td>k</td>\n",
       "      <td>19.4</td>\n",
       "      <td>110.0</td>\n",
       "      <td>1924.0</td>\n",
       "    </tr>\n",
       "  </tbody>\n",
       "</table>\n",
       "</div>"
      ],
      "text/plain": [
       "        id_individuo sexo  peso  talla  edad_dias\n",
       "364821         94319    k  52.5  161.0     4869.0\n",
       "499713        129122    k  19.4  110.0     1924.0"
      ]
     },
     "execution_count": 160,
     "metadata": {},
     "output_type": "execute_result"
    }
   ],
   "source": [
    "df[df['sexo']=='k']"
   ]
  },
  {
   "cell_type": "code",
   "execution_count": 161,
   "id": "fec3ea00",
   "metadata": {
    "scrolled": true
   },
   "outputs": [
    {
     "data": {
      "text/html": [
       "<div>\n",
       "<style scoped>\n",
       "    .dataframe tbody tr th:only-of-type {\n",
       "        vertical-align: middle;\n",
       "    }\n",
       "\n",
       "    .dataframe tbody tr th {\n",
       "        vertical-align: top;\n",
       "    }\n",
       "\n",
       "    .dataframe thead th {\n",
       "        text-align: right;\n",
       "    }\n",
       "</style>\n",
       "<table border=\"1\" class=\"dataframe\">\n",
       "  <thead>\n",
       "    <tr style=\"text-align: right;\">\n",
       "      <th></th>\n",
       "      <th>id_individuo</th>\n",
       "      <th>sexo</th>\n",
       "      <th>peso</th>\n",
       "      <th>talla</th>\n",
       "      <th>edad_dias</th>\n",
       "    </tr>\n",
       "  </thead>\n",
       "  <tbody>\n",
       "    <tr>\n",
       "      <th>364821</th>\n",
       "      <td>94319</td>\n",
       "      <td>k</td>\n",
       "      <td>52.5</td>\n",
       "      <td>161.0</td>\n",
       "      <td>4869.0</td>\n",
       "    </tr>\n",
       "    <tr>\n",
       "      <th>364822</th>\n",
       "      <td>94319</td>\n",
       "      <td>M</td>\n",
       "      <td>52.5</td>\n",
       "      <td>151.0</td>\n",
       "      <td>5008.0</td>\n",
       "    </tr>\n",
       "  </tbody>\n",
       "</table>\n",
       "</div>"
      ],
      "text/plain": [
       "        id_individuo sexo  peso  talla  edad_dias\n",
       "364821         94319    k  52.5  161.0     4869.0\n",
       "364822         94319    M  52.5  151.0     5008.0"
      ]
     },
     "execution_count": 161,
     "metadata": {},
     "output_type": "execute_result"
    }
   ],
   "source": [
    "df[df['id_individuo']==94319] # es masculino"
   ]
  },
  {
   "cell_type": "code",
   "execution_count": 162,
   "id": "f880beb0",
   "metadata": {},
   "outputs": [],
   "source": [
    "df.loc[364821, 'sexo'] = 'M'"
   ]
  },
  {
   "cell_type": "code",
   "execution_count": 163,
   "id": "4c66c66a",
   "metadata": {
    "scrolled": true
   },
   "outputs": [
    {
     "data": {
      "text/html": [
       "<div>\n",
       "<style scoped>\n",
       "    .dataframe tbody tr th:only-of-type {\n",
       "        vertical-align: middle;\n",
       "    }\n",
       "\n",
       "    .dataframe tbody tr th {\n",
       "        vertical-align: top;\n",
       "    }\n",
       "\n",
       "    .dataframe thead th {\n",
       "        text-align: right;\n",
       "    }\n",
       "</style>\n",
       "<table border=\"1\" class=\"dataframe\">\n",
       "  <thead>\n",
       "    <tr style=\"text-align: right;\">\n",
       "      <th></th>\n",
       "      <th>id_individuo</th>\n",
       "      <th>sexo</th>\n",
       "      <th>peso</th>\n",
       "      <th>talla</th>\n",
       "      <th>edad_dias</th>\n",
       "    </tr>\n",
       "  </thead>\n",
       "  <tbody>\n",
       "    <tr>\n",
       "      <th>499706</th>\n",
       "      <td>129122</td>\n",
       "      <td>F</td>\n",
       "      <td>7.1</td>\n",
       "      <td>70.0</td>\n",
       "      <td>378.0</td>\n",
       "    </tr>\n",
       "    <tr>\n",
       "      <th>499707</th>\n",
       "      <td>129122</td>\n",
       "      <td>F</td>\n",
       "      <td>8.2</td>\n",
       "      <td>76.0</td>\n",
       "      <td>532.0</td>\n",
       "    </tr>\n",
       "    <tr>\n",
       "      <th>499708</th>\n",
       "      <td>129122</td>\n",
       "      <td>F</td>\n",
       "      <td>13.5</td>\n",
       "      <td>89.0</td>\n",
       "      <td>776.0</td>\n",
       "    </tr>\n",
       "    <tr>\n",
       "      <th>499709</th>\n",
       "      <td>129122</td>\n",
       "      <td>F</td>\n",
       "      <td>10.2</td>\n",
       "      <td>86.0</td>\n",
       "      <td>994.0</td>\n",
       "    </tr>\n",
       "    <tr>\n",
       "      <th>499710</th>\n",
       "      <td>129122</td>\n",
       "      <td>F</td>\n",
       "      <td>14.3</td>\n",
       "      <td>96.0</td>\n",
       "      <td>1161.0</td>\n",
       "    </tr>\n",
       "    <tr>\n",
       "      <th>499711</th>\n",
       "      <td>129122</td>\n",
       "      <td>F</td>\n",
       "      <td>11.2</td>\n",
       "      <td>91.0</td>\n",
       "      <td>1197.0</td>\n",
       "    </tr>\n",
       "    <tr>\n",
       "      <th>499712</th>\n",
       "      <td>129122</td>\n",
       "      <td>F</td>\n",
       "      <td>18.4</td>\n",
       "      <td>109.0</td>\n",
       "      <td>1894.0</td>\n",
       "    </tr>\n",
       "    <tr>\n",
       "      <th>499713</th>\n",
       "      <td>129122</td>\n",
       "      <td>k</td>\n",
       "      <td>19.4</td>\n",
       "      <td>110.0</td>\n",
       "      <td>1924.0</td>\n",
       "    </tr>\n",
       "    <tr>\n",
       "      <th>499714</th>\n",
       "      <td>129122</td>\n",
       "      <td>F</td>\n",
       "      <td>21.4</td>\n",
       "      <td>116.0</td>\n",
       "      <td>2324.0</td>\n",
       "    </tr>\n",
       "  </tbody>\n",
       "</table>\n",
       "</div>"
      ],
      "text/plain": [
       "        id_individuo sexo  peso  talla  edad_dias\n",
       "499706        129122    F   7.1   70.0      378.0\n",
       "499707        129122    F   8.2   76.0      532.0\n",
       "499708        129122    F  13.5   89.0      776.0\n",
       "499709        129122    F  10.2   86.0      994.0\n",
       "499710        129122    F  14.3   96.0     1161.0\n",
       "499711        129122    F  11.2   91.0     1197.0\n",
       "499712        129122    F  18.4  109.0     1894.0\n",
       "499713        129122    k  19.4  110.0     1924.0\n",
       "499714        129122    F  21.4  116.0     2324.0"
      ]
     },
     "execution_count": 163,
     "metadata": {},
     "output_type": "execute_result"
    }
   ],
   "source": [
    "df[df['id_individuo']==129122] # es femenino"
   ]
  },
  {
   "cell_type": "code",
   "execution_count": 164,
   "id": "5ff353c4",
   "metadata": {},
   "outputs": [],
   "source": [
    "df.loc[499713, 'sexo'] = 'F'"
   ]
  },
  {
   "cell_type": "code",
   "execution_count": 165,
   "id": "9e779edf",
   "metadata": {},
   "outputs": [
    {
     "data": {
      "text/plain": [
       "F    582809\n",
       "M    573737\n",
       "Name: sexo, dtype: int64"
      ]
     },
     "execution_count": 165,
     "metadata": {},
     "output_type": "execute_result"
    }
   ],
   "source": [
    "df['sexo'] = df['sexo'].replace('f','F',regex=True)\n",
    "df['sexo'] = df['sexo'].replace('m','M',regex=True)\n",
    "df['sexo'].value_counts()"
   ]
  },
  {
   "cell_type": "code",
   "execution_count": 166,
   "id": "cdcef72b",
   "metadata": {},
   "outputs": [
    {
     "data": {
      "text/plain": [
       "299558"
      ]
     },
     "execution_count": 166,
     "metadata": {},
     "output_type": "execute_result"
    }
   ],
   "source": [
    "df['id_individuo'].nunique()"
   ]
  },
  {
   "cell_type": "code",
   "execution_count": 169,
   "id": "ba455ba0",
   "metadata": {},
   "outputs": [
    {
     "data": {
      "text/plain": [
       "299576"
      ]
     },
     "execution_count": 169,
     "metadata": {},
     "output_type": "execute_result"
    }
   ],
   "source": [
    "df.groupby(['id_individuo', 'sexo']).count()['edad_dias'].reset_index().shape[0] \n",
    "# si hubiese solo uno para cada uno la longitud de esto debería ser igual a la cantidad de individuos únicos - y no lo es"
   ]
  },
  {
   "cell_type": "code",
   "execution_count": 170,
   "id": "7301cc7b",
   "metadata": {},
   "outputs": [],
   "source": [
    "df_sexo = df.groupby(['id_individuo', 'sexo']).count()['edad_dias'].reset_index()"
   ]
  },
  {
   "cell_type": "code",
   "execution_count": 171,
   "id": "4d3598c0",
   "metadata": {},
   "outputs": [],
   "source": [
    "ids_indiv = df_sexo[df_sexo.duplicated(['id_individuo'])]['id_individuo']"
   ]
  },
  {
   "cell_type": "code",
   "execution_count": 172,
   "id": "cfc2deec",
   "metadata": {},
   "outputs": [
    {
     "data": {
      "text/plain": [
       "18"
      ]
     },
     "execution_count": 172,
     "metadata": {},
     "output_type": "execute_result"
    }
   ],
   "source": [
    "len(ids_indiv)"
   ]
  },
  {
   "cell_type": "code",
   "execution_count": 173,
   "id": "960095c2",
   "metadata": {},
   "outputs": [
    {
     "data": {
      "text/html": [
       "<div>\n",
       "<style scoped>\n",
       "    .dataframe tbody tr th:only-of-type {\n",
       "        vertical-align: middle;\n",
       "    }\n",
       "\n",
       "    .dataframe tbody tr th {\n",
       "        vertical-align: top;\n",
       "    }\n",
       "\n",
       "    .dataframe thead th {\n",
       "        text-align: right;\n",
       "    }\n",
       "</style>\n",
       "<table border=\"1\" class=\"dataframe\">\n",
       "  <thead>\n",
       "    <tr style=\"text-align: right;\">\n",
       "      <th></th>\n",
       "      <th>id_individuo</th>\n",
       "      <th>sexo</th>\n",
       "      <th>edad_dias</th>\n",
       "    </tr>\n",
       "  </thead>\n",
       "  <tbody>\n",
       "    <tr>\n",
       "      <th>31936</th>\n",
       "      <td>31984</td>\n",
       "      <td>F</td>\n",
       "      <td>1</td>\n",
       "    </tr>\n",
       "    <tr>\n",
       "      <th>31937</th>\n",
       "      <td>31984</td>\n",
       "      <td>M</td>\n",
       "      <td>5</td>\n",
       "    </tr>\n",
       "    <tr>\n",
       "      <th>40644</th>\n",
       "      <td>40707</td>\n",
       "      <td>F</td>\n",
       "      <td>1</td>\n",
       "    </tr>\n",
       "    <tr>\n",
       "      <th>40645</th>\n",
       "      <td>40707</td>\n",
       "      <td>M</td>\n",
       "      <td>3</td>\n",
       "    </tr>\n",
       "    <tr>\n",
       "      <th>58706</th>\n",
       "      <td>58796</td>\n",
       "      <td>F</td>\n",
       "      <td>1</td>\n",
       "    </tr>\n",
       "    <tr>\n",
       "      <th>58707</th>\n",
       "      <td>58796</td>\n",
       "      <td>M</td>\n",
       "      <td>3</td>\n",
       "    </tr>\n",
       "    <tr>\n",
       "      <th>60244</th>\n",
       "      <td>60333</td>\n",
       "      <td>F</td>\n",
       "      <td>1</td>\n",
       "    </tr>\n",
       "    <tr>\n",
       "      <th>60245</th>\n",
       "      <td>60333</td>\n",
       "      <td>M</td>\n",
       "      <td>3</td>\n",
       "    </tr>\n",
       "    <tr>\n",
       "      <th>95576</th>\n",
       "      <td>95713</td>\n",
       "      <td>F</td>\n",
       "      <td>1</td>\n",
       "    </tr>\n",
       "    <tr>\n",
       "      <th>95577</th>\n",
       "      <td>95713</td>\n",
       "      <td>M</td>\n",
       "      <td>8</td>\n",
       "    </tr>\n",
       "    <tr>\n",
       "      <th>102639</th>\n",
       "      <td>102791</td>\n",
       "      <td>F</td>\n",
       "      <td>1</td>\n",
       "    </tr>\n",
       "    <tr>\n",
       "      <th>102640</th>\n",
       "      <td>102791</td>\n",
       "      <td>M</td>\n",
       "      <td>1</td>\n",
       "    </tr>\n",
       "    <tr>\n",
       "      <th>130375</th>\n",
       "      <td>130574</td>\n",
       "      <td>F</td>\n",
       "      <td>6</td>\n",
       "    </tr>\n",
       "    <tr>\n",
       "      <th>130376</th>\n",
       "      <td>130574</td>\n",
       "      <td>M</td>\n",
       "      <td>1</td>\n",
       "    </tr>\n",
       "    <tr>\n",
       "      <th>149475</th>\n",
       "      <td>149697</td>\n",
       "      <td>F</td>\n",
       "      <td>3</td>\n",
       "    </tr>\n",
       "    <tr>\n",
       "      <th>149476</th>\n",
       "      <td>149697</td>\n",
       "      <td>M</td>\n",
       "      <td>1</td>\n",
       "    </tr>\n",
       "    <tr>\n",
       "      <th>157067</th>\n",
       "      <td>157296</td>\n",
       "      <td>F</td>\n",
       "      <td>1</td>\n",
       "    </tr>\n",
       "    <tr>\n",
       "      <th>157068</th>\n",
       "      <td>157296</td>\n",
       "      <td>M</td>\n",
       "      <td>2</td>\n",
       "    </tr>\n",
       "    <tr>\n",
       "      <th>157302</th>\n",
       "      <td>157531</td>\n",
       "      <td>F</td>\n",
       "      <td>1</td>\n",
       "    </tr>\n",
       "    <tr>\n",
       "      <th>157303</th>\n",
       "      <td>157531</td>\n",
       "      <td>M</td>\n",
       "      <td>3</td>\n",
       "    </tr>\n",
       "    <tr>\n",
       "      <th>165580</th>\n",
       "      <td>165815</td>\n",
       "      <td>F</td>\n",
       "      <td>1</td>\n",
       "    </tr>\n",
       "    <tr>\n",
       "      <th>165581</th>\n",
       "      <td>165815</td>\n",
       "      <td>M</td>\n",
       "      <td>2</td>\n",
       "    </tr>\n",
       "    <tr>\n",
       "      <th>166279</th>\n",
       "      <td>166515</td>\n",
       "      <td>F</td>\n",
       "      <td>4</td>\n",
       "    </tr>\n",
       "    <tr>\n",
       "      <th>166280</th>\n",
       "      <td>166515</td>\n",
       "      <td>M</td>\n",
       "      <td>1</td>\n",
       "    </tr>\n",
       "    <tr>\n",
       "      <th>174677</th>\n",
       "      <td>174924</td>\n",
       "      <td>F</td>\n",
       "      <td>4</td>\n",
       "    </tr>\n",
       "    <tr>\n",
       "      <th>174678</th>\n",
       "      <td>174924</td>\n",
       "      <td>M</td>\n",
       "      <td>1</td>\n",
       "    </tr>\n",
       "    <tr>\n",
       "      <th>180751</th>\n",
       "      <td>181006</td>\n",
       "      <td>F</td>\n",
       "      <td>3</td>\n",
       "    </tr>\n",
       "    <tr>\n",
       "      <th>180752</th>\n",
       "      <td>181006</td>\n",
       "      <td>M</td>\n",
       "      <td>1</td>\n",
       "    </tr>\n",
       "    <tr>\n",
       "      <th>204723</th>\n",
       "      <td>205012</td>\n",
       "      <td>F</td>\n",
       "      <td>1</td>\n",
       "    </tr>\n",
       "    <tr>\n",
       "      <th>204724</th>\n",
       "      <td>205012</td>\n",
       "      <td>M</td>\n",
       "      <td>2</td>\n",
       "    </tr>\n",
       "    <tr>\n",
       "      <th>217542</th>\n",
       "      <td>217841</td>\n",
       "      <td>F</td>\n",
       "      <td>4</td>\n",
       "    </tr>\n",
       "    <tr>\n",
       "      <th>217543</th>\n",
       "      <td>217841</td>\n",
       "      <td>M</td>\n",
       "      <td>1</td>\n",
       "    </tr>\n",
       "    <tr>\n",
       "      <th>250902</th>\n",
       "      <td>251251</td>\n",
       "      <td>F</td>\n",
       "      <td>1</td>\n",
       "    </tr>\n",
       "    <tr>\n",
       "      <th>250903</th>\n",
       "      <td>251251</td>\n",
       "      <td>M</td>\n",
       "      <td>3</td>\n",
       "    </tr>\n",
       "    <tr>\n",
       "      <th>279397</th>\n",
       "      <td>279796</td>\n",
       "      <td>F</td>\n",
       "      <td>4</td>\n",
       "    </tr>\n",
       "    <tr>\n",
       "      <th>279398</th>\n",
       "      <td>279796</td>\n",
       "      <td>M</td>\n",
       "      <td>1</td>\n",
       "    </tr>\n",
       "  </tbody>\n",
       "</table>\n",
       "</div>"
      ],
      "text/plain": [
       "        id_individuo sexo  edad_dias\n",
       "31936          31984    F          1\n",
       "31937          31984    M          5\n",
       "40644          40707    F          1\n",
       "40645          40707    M          3\n",
       "58706          58796    F          1\n",
       "58707          58796    M          3\n",
       "60244          60333    F          1\n",
       "60245          60333    M          3\n",
       "95576          95713    F          1\n",
       "95577          95713    M          8\n",
       "102639        102791    F          1\n",
       "102640        102791    M          1\n",
       "130375        130574    F          6\n",
       "130376        130574    M          1\n",
       "149475        149697    F          3\n",
       "149476        149697    M          1\n",
       "157067        157296    F          1\n",
       "157068        157296    M          2\n",
       "157302        157531    F          1\n",
       "157303        157531    M          3\n",
       "165580        165815    F          1\n",
       "165581        165815    M          2\n",
       "166279        166515    F          4\n",
       "166280        166515    M          1\n",
       "174677        174924    F          4\n",
       "174678        174924    M          1\n",
       "180751        181006    F          3\n",
       "180752        181006    M          1\n",
       "204723        205012    F          1\n",
       "204724        205012    M          2\n",
       "217542        217841    F          4\n",
       "217543        217841    M          1\n",
       "250902        251251    F          1\n",
       "250903        251251    M          3\n",
       "279397        279796    F          4\n",
       "279398        279796    M          1"
      ]
     },
     "execution_count": 173,
     "metadata": {},
     "output_type": "execute_result"
    }
   ],
   "source": [
    "df_sexo[df_sexo['id_individuo'].isin(ids_indiv)]"
   ]
  },
  {
   "cell_type": "code",
   "execution_count": 174,
   "id": "32fe5f90",
   "metadata": {},
   "outputs": [
    {
     "data": {
      "text/plain": [
       "95713     9\n",
       "130574    7\n",
       "31984     6\n",
       "217841    5\n",
       "174924    5\n",
       "166515    5\n",
       "279796    5\n",
       "149697    4\n",
       "40707     4\n",
       "60333     4\n",
       "181006    4\n",
       "58796     4\n",
       "251251    4\n",
       "157531    4\n",
       "157296    3\n",
       "165815    3\n",
       "205012    3\n",
       "102791    2\n",
       "Name: id_individuo, dtype: int64"
      ]
     },
     "execution_count": 174,
     "metadata": {},
     "output_type": "execute_result"
    }
   ],
   "source": [
    "df[df['id_individuo'].isin(ids_indiv)]['id_individuo'].value_counts() "
   ]
  },
  {
   "cell_type": "code",
   "execution_count": 175,
   "id": "e0b8060d",
   "metadata": {},
   "outputs": [
    {
     "data": {
      "text/html": [
       "<div>\n",
       "<style scoped>\n",
       "    .dataframe tbody tr th:only-of-type {\n",
       "        vertical-align: middle;\n",
       "    }\n",
       "\n",
       "    .dataframe tbody tr th {\n",
       "        vertical-align: top;\n",
       "    }\n",
       "\n",
       "    .dataframe thead th {\n",
       "        text-align: right;\n",
       "    }\n",
       "</style>\n",
       "<table border=\"1\" class=\"dataframe\">\n",
       "  <thead>\n",
       "    <tr style=\"text-align: right;\">\n",
       "      <th></th>\n",
       "      <th>id_individuo</th>\n",
       "      <th>sexo</th>\n",
       "      <th>peso</th>\n",
       "      <th>talla</th>\n",
       "      <th>edad_dias</th>\n",
       "    </tr>\n",
       "  </thead>\n",
       "  <tbody>\n",
       "    <tr>\n",
       "      <th>397539</th>\n",
       "      <td>102791</td>\n",
       "      <td>M</td>\n",
       "      <td>19.4</td>\n",
       "      <td>110.0</td>\n",
       "      <td>1881.0</td>\n",
       "    </tr>\n",
       "    <tr>\n",
       "      <th>397540</th>\n",
       "      <td>102791</td>\n",
       "      <td>F</td>\n",
       "      <td>33.7</td>\n",
       "      <td>136.0</td>\n",
       "      <td>3438.0</td>\n",
       "    </tr>\n",
       "  </tbody>\n",
       "</table>\n",
       "</div>"
      ],
      "text/plain": [
       "        id_individuo sexo  peso  talla  edad_dias\n",
       "397539        102791    M  19.4  110.0     1881.0\n",
       "397540        102791    F  33.7  136.0     3438.0"
      ]
     },
     "execution_count": 175,
     "metadata": {},
     "output_type": "execute_result"
    }
   ],
   "source": [
    "df[df['id_individuo']==102791]"
   ]
  },
  {
   "cell_type": "code",
   "execution_count": 176,
   "id": "ed9f9daf",
   "metadata": {},
   "outputs": [],
   "source": [
    "# voy a eliminar este individuo\n",
    "df = df[df['id_individuo']!=102791]"
   ]
  },
  {
   "cell_type": "code",
   "execution_count": 178,
   "id": "2ff245b7",
   "metadata": {},
   "outputs": [],
   "source": [
    "df[df['id_individuo']==95713]\n",
    "df.loc[370247, 'sexo'] = 'M'"
   ]
  },
  {
   "cell_type": "code",
   "execution_count": 179,
   "id": "c235972b",
   "metadata": {},
   "outputs": [],
   "source": [
    "df[df['id_individuo']==130574]\n",
    "df.loc[505323, 'sexo'] = 'F'"
   ]
  },
  {
   "cell_type": "code",
   "execution_count": 180,
   "id": "b15b0f3d",
   "metadata": {},
   "outputs": [],
   "source": [
    "df[df['id_individuo']==31984]\n",
    "df.loc[123285, 'sexo'] = 'M'"
   ]
  },
  {
   "cell_type": "code",
   "execution_count": 181,
   "id": "1cf42289",
   "metadata": {},
   "outputs": [],
   "source": [
    "df[df['id_individuo']==279796]\n",
    "df.loc[1082913, 'sexo'] = 'F'"
   ]
  },
  {
   "cell_type": "code",
   "execution_count": 182,
   "id": "3fe91072",
   "metadata": {},
   "outputs": [],
   "source": [
    "df[df['id_individuo']==174924]\n",
    "df.loc[677275, 'sexo'] = 'F'"
   ]
  },
  {
   "cell_type": "code",
   "execution_count": 183,
   "id": "109c835a",
   "metadata": {},
   "outputs": [],
   "source": [
    "df[df['id_individuo']==166515]\n",
    "df.loc[644583, 'sexo'] = 'F'"
   ]
  },
  {
   "cell_type": "code",
   "execution_count": 184,
   "id": "3fabecb1",
   "metadata": {},
   "outputs": [],
   "source": [
    "df[df['id_individuo']==217841]\n",
    "df.loc[843440, 'sexo'] = 'F'"
   ]
  },
  {
   "cell_type": "code",
   "execution_count": 185,
   "id": "0aa7cb7a",
   "metadata": {},
   "outputs": [],
   "source": [
    "df[df['id_individuo']==181006]\n",
    "df.loc[701127, 'sexo'] = 'F'"
   ]
  },
  {
   "cell_type": "code",
   "execution_count": 186,
   "id": "60c89aef",
   "metadata": {},
   "outputs": [],
   "source": [
    "df[df['id_individuo']==157531]\n",
    "df.loc[609817, 'sexo'] = 'M'"
   ]
  },
  {
   "cell_type": "code",
   "execution_count": 187,
   "id": "0769f174",
   "metadata": {},
   "outputs": [],
   "source": [
    "df[df['id_individuo']==40707]\n",
    "df.loc[156995, 'sexo'] = 'M'"
   ]
  },
  {
   "cell_type": "code",
   "execution_count": 188,
   "id": "2cc4a757",
   "metadata": {},
   "outputs": [],
   "source": [
    "df[df['id_individuo']==149697]\n",
    "df.loc[579273, 'sexo'] = 'F'"
   ]
  },
  {
   "cell_type": "code",
   "execution_count": 189,
   "id": "26a3284b",
   "metadata": {},
   "outputs": [],
   "source": [
    "df[df['id_individuo']==60333]\n",
    "df.loc[232917, 'sexo'] = 'M'"
   ]
  },
  {
   "cell_type": "code",
   "execution_count": 190,
   "id": "f155347b",
   "metadata": {},
   "outputs": [],
   "source": [
    "df[df['id_individuo']==58796]\n",
    "df.loc[226892, 'sexo'] = 'M'"
   ]
  },
  {
   "cell_type": "code",
   "execution_count": 191,
   "id": "5d07206b",
   "metadata": {},
   "outputs": [],
   "source": [
    "df[df['id_individuo']==251251]\n",
    "df.loc[972768, 'sexo'] = 'M'"
   ]
  },
  {
   "cell_type": "code",
   "execution_count": 192,
   "id": "9d8c6163",
   "metadata": {},
   "outputs": [],
   "source": [
    "df[df['id_individuo']==205012]\n",
    "df.loc[794042, 'sexo'] = 'M'"
   ]
  },
  {
   "cell_type": "code",
   "execution_count": 193,
   "id": "cd6772cf",
   "metadata": {},
   "outputs": [],
   "source": [
    "df[df['id_individuo']==165815]\n",
    "df.loc[641996, 'sexo'] = 'M'"
   ]
  },
  {
   "cell_type": "code",
   "execution_count": 194,
   "id": "506b05db",
   "metadata": {},
   "outputs": [],
   "source": [
    "df[df['id_individuo']==157296]\n",
    "df.loc[608886, 'sexo'] = 'M'"
   ]
  },
  {
   "cell_type": "code",
   "execution_count": 195,
   "id": "facb7439",
   "metadata": {
    "scrolled": false
   },
   "outputs": [
    {
     "name": "stdout",
     "output_type": "stream",
     "text": [
      "cant. nulos: 187\n"
     ]
    },
    {
     "data": {
      "text/html": [
       "<div>\n",
       "<style scoped>\n",
       "    .dataframe tbody tr th:only-of-type {\n",
       "        vertical-align: middle;\n",
       "    }\n",
       "\n",
       "    .dataframe tbody tr th {\n",
       "        vertical-align: top;\n",
       "    }\n",
       "\n",
       "    .dataframe thead th {\n",
       "        text-align: right;\n",
       "    }\n",
       "</style>\n",
       "<table border=\"1\" class=\"dataframe\">\n",
       "  <thead>\n",
       "    <tr style=\"text-align: right;\">\n",
       "      <th></th>\n",
       "      <th>id_individuo</th>\n",
       "      <th>sexo</th>\n",
       "      <th>peso</th>\n",
       "      <th>talla</th>\n",
       "      <th>edad_dias</th>\n",
       "    </tr>\n",
       "  </thead>\n",
       "  <tbody>\n",
       "    <tr>\n",
       "      <th>1844</th>\n",
       "      <td>492</td>\n",
       "      <td>NaN</td>\n",
       "      <td>66.0</td>\n",
       "      <td>169.0</td>\n",
       "      <td>6705.0</td>\n",
       "    </tr>\n",
       "    <tr>\n",
       "      <th>15186</th>\n",
       "      <td>3895</td>\n",
       "      <td>NaN</td>\n",
       "      <td>14.3</td>\n",
       "      <td>100.0</td>\n",
       "      <td>1519.0</td>\n",
       "    </tr>\n",
       "    <tr>\n",
       "      <th>17158</th>\n",
       "      <td>4398</td>\n",
       "      <td>NaN</td>\n",
       "      <td>7.3</td>\n",
       "      <td>69.0</td>\n",
       "      <td>197.0</td>\n",
       "    </tr>\n",
       "    <tr>\n",
       "      <th>26113</th>\n",
       "      <td>6733</td>\n",
       "      <td>NaN</td>\n",
       "      <td>5.8</td>\n",
       "      <td>61.0</td>\n",
       "      <td>178.0</td>\n",
       "    </tr>\n",
       "    <tr>\n",
       "      <th>32343</th>\n",
       "      <td>8377</td>\n",
       "      <td>NaN</td>\n",
       "      <td>10.7</td>\n",
       "      <td>76.0</td>\n",
       "      <td>367.0</td>\n",
       "    </tr>\n",
       "    <tr>\n",
       "      <th>...</th>\n",
       "      <td>...</td>\n",
       "      <td>...</td>\n",
       "      <td>...</td>\n",
       "      <td>...</td>\n",
       "      <td>...</td>\n",
       "    </tr>\n",
       "    <tr>\n",
       "      <th>1128570</th>\n",
       "      <td>291529</td>\n",
       "      <td>NaN</td>\n",
       "      <td>10.0</td>\n",
       "      <td>74.0</td>\n",
       "      <td>225.0</td>\n",
       "    </tr>\n",
       "    <tr>\n",
       "      <th>1137707</th>\n",
       "      <td>293872</td>\n",
       "      <td>NaN</td>\n",
       "      <td>7.9</td>\n",
       "      <td>71.0</td>\n",
       "      <td>336.0</td>\n",
       "    </tr>\n",
       "    <tr>\n",
       "      <th>1140867</th>\n",
       "      <td>294732</td>\n",
       "      <td>NaN</td>\n",
       "      <td>26.8</td>\n",
       "      <td>120.0</td>\n",
       "      <td>3021.0</td>\n",
       "    </tr>\n",
       "    <tr>\n",
       "      <th>1143890</th>\n",
       "      <td>295513</td>\n",
       "      <td>NaN</td>\n",
       "      <td>4.8</td>\n",
       "      <td>57.0</td>\n",
       "      <td>110.0</td>\n",
       "    </tr>\n",
       "    <tr>\n",
       "      <th>1144408</th>\n",
       "      <td>295650</td>\n",
       "      <td>NaN</td>\n",
       "      <td>7.5</td>\n",
       "      <td>64.0</td>\n",
       "      <td>114.0</td>\n",
       "    </tr>\n",
       "  </tbody>\n",
       "</table>\n",
       "<p>187 rows × 5 columns</p>\n",
       "</div>"
      ],
      "text/plain": [
       "         id_individuo sexo  peso  talla  edad_dias\n",
       "1844              492  NaN  66.0  169.0     6705.0\n",
       "15186            3895  NaN  14.3  100.0     1519.0\n",
       "17158            4398  NaN   7.3   69.0      197.0\n",
       "26113            6733  NaN   5.8   61.0      178.0\n",
       "32343            8377  NaN  10.7   76.0      367.0\n",
       "...               ...  ...   ...    ...        ...\n",
       "1128570        291529  NaN  10.0   74.0      225.0\n",
       "1137707        293872  NaN   7.9   71.0      336.0\n",
       "1140867        294732  NaN  26.8  120.0     3021.0\n",
       "1143890        295513  NaN   4.8   57.0      110.0\n",
       "1144408        295650  NaN   7.5   64.0      114.0\n",
       "\n",
       "[187 rows x 5 columns]"
      ]
     },
     "execution_count": 195,
     "metadata": {},
     "output_type": "execute_result"
    }
   ],
   "source": [
    "print('cant. nulos:', df[df['sexo'].isnull()].shape[0])\n",
    "df[df['sexo'].isnull()]"
   ]
  },
  {
   "cell_type": "code",
   "execution_count": 196,
   "id": "4875457a",
   "metadata": {},
   "outputs": [],
   "source": [
    "ids_sexo_nan = df[df['sexo'].isna()]['id_individuo'].unique().tolist()"
   ]
  },
  {
   "cell_type": "code",
   "execution_count": 197,
   "id": "4a3ac2db",
   "metadata": {},
   "outputs": [
    {
     "data": {
      "text/plain": [
       "186"
      ]
     },
     "execution_count": 197,
     "metadata": {},
     "output_type": "execute_result"
    }
   ],
   "source": [
    "len(ids_sexo_nan)"
   ]
  },
  {
   "cell_type": "code",
   "execution_count": 213,
   "id": "05c7ce26",
   "metadata": {},
   "outputs": [
    {
     "data": {
      "text/plain": [
       "186"
      ]
     },
     "execution_count": 213,
     "metadata": {},
     "output_type": "execute_result"
    }
   ],
   "source": [
    "df[df['id_individuo'].isin(ids_sexo_nan)].dropna(subset=['sexo'])['id_individuo'].nunique()\n",
    "# esto quiere decir que los 186 con nulos tienen otras mediciones con las que se pueden salvar los registros"
   ]
  },
  {
   "cell_type": "code",
   "execution_count": 214,
   "id": "df9ba3eb",
   "metadata": {
    "collapsed": true
   },
   "outputs": [
    {
     "data": {
      "text/plain": [
       "{492: {'sexo': 'M'},\n",
       " 3895: {'sexo': 'F'},\n",
       " 4398: {'sexo': 'M'},\n",
       " 6733: {'sexo': 'M'},\n",
       " 8377: {'sexo': 'M'},\n",
       " 8903: {'sexo': 'F'},\n",
       " 10398: {'sexo': 'M'},\n",
       " 10938: {'sexo': 'F'},\n",
       " 11370: {'sexo': 'M'},\n",
       " 12654: {'sexo': 'M'},\n",
       " 13170: {'sexo': 'F'},\n",
       " 13733: {'sexo': 'F'},\n",
       " 15969: {'sexo': 'M'},\n",
       " 16368: {'sexo': 'F'},\n",
       " 16533: {'sexo': 'F'},\n",
       " 18279: {'sexo': 'F'},\n",
       " 19270: {'sexo': 'F'},\n",
       " 20106: {'sexo': 'F'},\n",
       " 20749: {'sexo': 'F'},\n",
       " 24709: {'sexo': 'F'},\n",
       " 25261: {'sexo': 'M'},\n",
       " 29550: {'sexo': 'M'},\n",
       " 32825: {'sexo': 'M'},\n",
       " 33007: {'sexo': 'M'},\n",
       " 33420: {'sexo': 'F'},\n",
       " 33546: {'sexo': 'M'},\n",
       " 34387: {'sexo': 'M'},\n",
       " 36823: {'sexo': 'M'},\n",
       " 37298: {'sexo': 'F'},\n",
       " 41217: {'sexo': 'F'},\n",
       " 43079: {'sexo': 'F'},\n",
       " 44751: {'sexo': 'F'},\n",
       " 44868: {'sexo': 'F'},\n",
       " 45482: {'sexo': 'F'},\n",
       " 45770: {'sexo': 'F'},\n",
       " 46530: {'sexo': 'F'},\n",
       " 48199: {'sexo': 'M'},\n",
       " 50815: {'sexo': 'M'},\n",
       " 55298: {'sexo': 'F'},\n",
       " 56267: {'sexo': 'M'},\n",
       " 56416: {'sexo': 'M'},\n",
       " 61237: {'sexo': 'M'},\n",
       " 61567: {'sexo': 'M'},\n",
       " 69698: {'sexo': 'M'},\n",
       " 71303: {'sexo': 'M'},\n",
       " 74298: {'sexo': 'M'},\n",
       " 74996: {'sexo': 'F'},\n",
       " 75970: {'sexo': 'M'},\n",
       " 78536: {'sexo': 'M'},\n",
       " 78657: {'sexo': 'M'},\n",
       " 80401: {'sexo': 'M'},\n",
       " 81302: {'sexo': 'F'},\n",
       " 82612: {'sexo': 'M'},\n",
       " 82802: {'sexo': 'M'},\n",
       " 84584: {'sexo': 'F'},\n",
       " 85220: {'sexo': 'M'},\n",
       " 86975: {'sexo': 'M'},\n",
       " 88346: {'sexo': 'M'},\n",
       " 88369: {'sexo': 'F'},\n",
       " 89012: {'sexo': 'F'},\n",
       " 89158: {'sexo': 'F'},\n",
       " 89348: {'sexo': 'M'},\n",
       " 92000: {'sexo': 'F'},\n",
       " 92119: {'sexo': 'M'},\n",
       " 93444: {'sexo': 'M'},\n",
       " 94764: {'sexo': 'F'},\n",
       " 98638: {'sexo': 'M'},\n",
       " 100094: {'sexo': 'M'},\n",
       " 102326: {'sexo': 'M'},\n",
       " 103163: {'sexo': 'M'},\n",
       " 111078: {'sexo': 'M'},\n",
       " 111197: {'sexo': 'M'},\n",
       " 111452: {'sexo': 'F'},\n",
       " 112527: {'sexo': 'F'},\n",
       " 113810: {'sexo': 'F'},\n",
       " 115557: {'sexo': 'M'},\n",
       " 117106: {'sexo': 'M'},\n",
       " 117399: {'sexo': 'F'},\n",
       " 119247: {'sexo': 'F'},\n",
       " 121264: {'sexo': 'M'},\n",
       " 123464: {'sexo': 'F'},\n",
       " 131067: {'sexo': 'F'},\n",
       " 131421: {'sexo': 'M'},\n",
       " 134106: {'sexo': 'F'},\n",
       " 137069: {'sexo': 'F'},\n",
       " 139446: {'sexo': 'M'},\n",
       " 139994: {'sexo': 'F'},\n",
       " 141518: {'sexo': 'M'},\n",
       " 142767: {'sexo': 'F'},\n",
       " 143118: {'sexo': 'M'},\n",
       " 144207: {'sexo': 'F'},\n",
       " 144363: {'sexo': 'F'},\n",
       " 145317: {'sexo': 'F'},\n",
       " 145409: {'sexo': 'M'},\n",
       " 145516: {'sexo': 'F'},\n",
       " 145546: {'sexo': 'F'},\n",
       " 150337: {'sexo': 'M'},\n",
       " 151166: {'sexo': 'F'},\n",
       " 152636: {'sexo': 'F'},\n",
       " 154229: {'sexo': 'F'},\n",
       " 156991: {'sexo': 'M'},\n",
       " 157309: {'sexo': 'F'},\n",
       " 160830: {'sexo': 'F'},\n",
       " 161207: {'sexo': 'F'},\n",
       " 162816: {'sexo': 'F'},\n",
       " 164019: {'sexo': 'M'},\n",
       " 164064: {'sexo': 'M'},\n",
       " 164353: {'sexo': 'F'},\n",
       " 164517: {'sexo': 'M'},\n",
       " 165597: {'sexo': 'F'},\n",
       " 168230: {'sexo': 'M'},\n",
       " 169540: {'sexo': 'F'},\n",
       " 170641: {'sexo': 'M'},\n",
       " 170821: {'sexo': 'F'},\n",
       " 172036: {'sexo': 'F'},\n",
       " 172434: {'sexo': 'M'},\n",
       " 172581: {'sexo': 'M'},\n",
       " 173040: {'sexo': 'M'},\n",
       " 174665: {'sexo': 'M'},\n",
       " 174874: {'sexo': 'M'},\n",
       " 175931: {'sexo': 'M'},\n",
       " 176007: {'sexo': 'F'},\n",
       " 177680: {'sexo': 'F'},\n",
       " 181554: {'sexo': 'M'},\n",
       " 183551: {'sexo': 'F'},\n",
       " 188175: {'sexo': 'M'},\n",
       " 196986: {'sexo': 'M'},\n",
       " 197869: {'sexo': 'M'},\n",
       " 198289: {'sexo': 'F'},\n",
       " 199376: {'sexo': 'F'},\n",
       " 200232: {'sexo': 'F'},\n",
       " 201332: {'sexo': 'M'},\n",
       " 201537: {'sexo': 'M'},\n",
       " 202742: {'sexo': 'F'},\n",
       " 204472: {'sexo': 'M'},\n",
       " 206160: {'sexo': 'M'},\n",
       " 207456: {'sexo': 'M'},\n",
       " 209973: {'sexo': 'F'},\n",
       " 210237: {'sexo': 'F'},\n",
       " 211594: {'sexo': 'M'},\n",
       " 211907: {'sexo': 'F'},\n",
       " 212113: {'sexo': 'M'},\n",
       " 219553: {'sexo': 'F'},\n",
       " 220936: {'sexo': 'F'},\n",
       " 221395: {'sexo': 'M'},\n",
       " 224270: {'sexo': 'M'},\n",
       " 224321: {'sexo': 'F'},\n",
       " 232658: {'sexo': 'M'},\n",
       " 234970: {'sexo': 'M'},\n",
       " 236888: {'sexo': 'M'},\n",
       " 241044: {'sexo': 'M'},\n",
       " 245124: {'sexo': 'M'},\n",
       " 245171: {'sexo': 'M'},\n",
       " 245820: {'sexo': 'M'},\n",
       " 248215: {'sexo': 'M'},\n",
       " 248847: {'sexo': 'M'},\n",
       " 250051: {'sexo': 'F'},\n",
       " 251056: {'sexo': 'M'},\n",
       " 252232: {'sexo': 'M'},\n",
       " 256631: {'sexo': 'F'},\n",
       " 258726: {'sexo': 'M'},\n",
       " 260903: {'sexo': 'F'},\n",
       " 262104: {'sexo': 'M'},\n",
       " 262198: {'sexo': 'M'},\n",
       " 266056: {'sexo': 'M'},\n",
       " 268003: {'sexo': 'M'},\n",
       " 269862: {'sexo': 'M'},\n",
       " 271323: {'sexo': 'F'},\n",
       " 272768: {'sexo': 'F'},\n",
       " 273107: {'sexo': 'M'},\n",
       " 273393: {'sexo': 'M'},\n",
       " 273728: {'sexo': 'F'},\n",
       " 274908: {'sexo': 'F'},\n",
       " 282898: {'sexo': 'F'},\n",
       " 283038: {'sexo': 'M'},\n",
       " 285756: {'sexo': 'F'},\n",
       " 287090: {'sexo': 'F'},\n",
       " 288876: {'sexo': 'F'},\n",
       " 289153: {'sexo': 'M'},\n",
       " 289579: {'sexo': 'F'},\n",
       " 290508: {'sexo': 'M'},\n",
       " 291529: {'sexo': 'F'},\n",
       " 293872: {'sexo': 'F'},\n",
       " 294732: {'sexo': 'M'},\n",
       " 295513: {'sexo': 'F'},\n",
       " 295650: {'sexo': 'M'}}"
      ]
     },
     "execution_count": 214,
     "metadata": {},
     "output_type": "execute_result"
    }
   ],
   "source": [
    "# de esta forma obtengo el par único id_individuo-sexo\n",
    "dict_ind_sexo = df[df['id_individuo'].isin(ids_sexo_nan)].groupby(['id_individuo', 'sexo']).count().reset_index()[['id_individuo', 'sexo']].set_index('id_individuo').to_dict('index')\n",
    "#df[df['id_individuo'].isin(ids_sexo_nan)].groupby(['id_individuo', 'sexo']).count().reset_index()[['id_individuo', 'sexo']].set_index('id_individuo').to_dict('index')"
   ]
  },
  {
   "cell_type": "code",
   "execution_count": 219,
   "id": "0ef12be1",
   "metadata": {},
   "outputs": [],
   "source": [
    "df['sexo'] = df.apply(lambda row: dict_ind_sexo[row['id_individuo']]['sexo'] if (row['id_individuo'] in ids_sexo_nan) else row['sexo'], axis=1)"
   ]
  },
  {
   "cell_type": "code",
   "execution_count": 220,
   "id": "32d85aff",
   "metadata": {},
   "outputs": [
    {
     "data": {
      "text/html": [
       "<div>\n",
       "<style scoped>\n",
       "    .dataframe tbody tr th:only-of-type {\n",
       "        vertical-align: middle;\n",
       "    }\n",
       "\n",
       "    .dataframe tbody tr th {\n",
       "        vertical-align: top;\n",
       "    }\n",
       "\n",
       "    .dataframe thead th {\n",
       "        text-align: right;\n",
       "    }\n",
       "</style>\n",
       "<table border=\"1\" class=\"dataframe\">\n",
       "  <thead>\n",
       "    <tr style=\"text-align: right;\">\n",
       "      <th></th>\n",
       "      <th>id_individuo</th>\n",
       "      <th>sexo</th>\n",
       "      <th>peso</th>\n",
       "      <th>talla</th>\n",
       "      <th>edad_dias</th>\n",
       "    </tr>\n",
       "  </thead>\n",
       "  <tbody>\n",
       "  </tbody>\n",
       "</table>\n",
       "</div>"
      ],
      "text/plain": [
       "Empty DataFrame\n",
       "Columns: [id_individuo, sexo, peso, talla, edad_dias]\n",
       "Index: []"
      ]
     },
     "execution_count": 220,
     "metadata": {},
     "output_type": "execute_result"
    }
   ],
   "source": [
    "df[df['sexo'].isnull()] # verificación"
   ]
  },
  {
   "cell_type": "code",
   "execution_count": 65,
   "id": "53b5dd19",
   "metadata": {},
   "outputs": [],
   "source": [
    "#df.dropna(subset=['sexo'], inplace=True)"
   ]
  },
  {
   "cell_type": "code",
   "execution_count": 224,
   "id": "dc459eef",
   "metadata": {},
   "outputs": [],
   "source": [
    "# todo esto tarda así que me voy a hacer una copia por las dudas\n",
    "df_copy = df.copy()"
   ]
  },
  {
   "cell_type": "markdown",
   "id": "af84b2b5",
   "metadata": {},
   "source": [
    "### Peso"
   ]
  },
  {
   "cell_type": "code",
   "execution_count": 225,
   "id": "e7dbb952",
   "metadata": {},
   "outputs": [
    {
     "name": "stdout",
     "output_type": "stream",
     "text": [
      "0.0\n",
      "12597.9\n"
     ]
    }
   ],
   "source": [
    "print(df['peso'].min()) # En qué unidad están ??? KG\n",
    "print(df['peso'].max())\n",
    "# Cuál serían el mínimo y máximo valor aceptable?"
   ]
  },
  {
   "cell_type": "code",
   "execution_count": 226,
   "id": "2d29b686",
   "metadata": {},
   "outputs": [
    {
     "data": {
      "text/plain": [
       "6"
      ]
     },
     "execution_count": 226,
     "metadata": {},
     "output_type": "execute_result"
    }
   ],
   "source": [
    "df[df['peso'] == 0].shape[0] \n",
    "# Hay 6 registros con peso 0"
   ]
  },
  {
   "cell_type": "code",
   "execution_count": 227,
   "id": "ecb46d13",
   "metadata": {},
   "outputs": [
    {
     "name": "stdout",
     "output_type": "stream",
     "text": [
      "cant. nulos: 172\n"
     ]
    },
    {
     "data": {
      "text/html": [
       "<div>\n",
       "<style scoped>\n",
       "    .dataframe tbody tr th:only-of-type {\n",
       "        vertical-align: middle;\n",
       "    }\n",
       "\n",
       "    .dataframe tbody tr th {\n",
       "        vertical-align: top;\n",
       "    }\n",
       "\n",
       "    .dataframe thead th {\n",
       "        text-align: right;\n",
       "    }\n",
       "</style>\n",
       "<table border=\"1\" class=\"dataframe\">\n",
       "  <thead>\n",
       "    <tr style=\"text-align: right;\">\n",
       "      <th></th>\n",
       "      <th>id_individuo</th>\n",
       "      <th>sexo</th>\n",
       "      <th>peso</th>\n",
       "      <th>talla</th>\n",
       "      <th>edad_dias</th>\n",
       "    </tr>\n",
       "  </thead>\n",
       "  <tbody>\n",
       "    <tr>\n",
       "      <th>1532</th>\n",
       "      <td>408</td>\n",
       "      <td>F</td>\n",
       "      <td>NaN</td>\n",
       "      <td>169.0</td>\n",
       "      <td>5645.0</td>\n",
       "    </tr>\n",
       "    <tr>\n",
       "      <th>4128</th>\n",
       "      <td>1065</td>\n",
       "      <td>M</td>\n",
       "      <td>NaN</td>\n",
       "      <td>101.0</td>\n",
       "      <td>1307.0</td>\n",
       "    </tr>\n",
       "    <tr>\n",
       "      <th>9086</th>\n",
       "      <td>2329</td>\n",
       "      <td>M</td>\n",
       "      <td>NaN</td>\n",
       "      <td>86.0</td>\n",
       "      <td>768.0</td>\n",
       "    </tr>\n",
       "    <tr>\n",
       "      <th>14746</th>\n",
       "      <td>3781</td>\n",
       "      <td>F</td>\n",
       "      <td>NaN</td>\n",
       "      <td>62.0</td>\n",
       "      <td>165.0</td>\n",
       "    </tr>\n",
       "    <tr>\n",
       "      <th>27901</th>\n",
       "      <td>7198</td>\n",
       "      <td>F</td>\n",
       "      <td>NaN</td>\n",
       "      <td>126.0</td>\n",
       "      <td>2282.0</td>\n",
       "    </tr>\n",
       "    <tr>\n",
       "      <th>...</th>\n",
       "      <td>...</td>\n",
       "      <td>...</td>\n",
       "      <td>...</td>\n",
       "      <td>...</td>\n",
       "      <td>...</td>\n",
       "    </tr>\n",
       "    <tr>\n",
       "      <th>1103129</th>\n",
       "      <td>284983</td>\n",
       "      <td>F</td>\n",
       "      <td>NaN</td>\n",
       "      <td>161.0</td>\n",
       "      <td>6163.0</td>\n",
       "    </tr>\n",
       "    <tr>\n",
       "      <th>1113606</th>\n",
       "      <td>287656</td>\n",
       "      <td>F</td>\n",
       "      <td>NaN</td>\n",
       "      <td>107.0</td>\n",
       "      <td>1465.0</td>\n",
       "    </tr>\n",
       "    <tr>\n",
       "      <th>1122015</th>\n",
       "      <td>289828</td>\n",
       "      <td>M</td>\n",
       "      <td>NaN</td>\n",
       "      <td>85.0</td>\n",
       "      <td>809.0</td>\n",
       "    </tr>\n",
       "    <tr>\n",
       "      <th>1142888</th>\n",
       "      <td>295259</td>\n",
       "      <td>F</td>\n",
       "      <td>NaN</td>\n",
       "      <td>126.0</td>\n",
       "      <td>3330.0</td>\n",
       "    </tr>\n",
       "    <tr>\n",
       "      <th>1158265</th>\n",
       "      <td>299215</td>\n",
       "      <td>F</td>\n",
       "      <td>NaN</td>\n",
       "      <td>41.0</td>\n",
       "      <td>1652.0</td>\n",
       "    </tr>\n",
       "  </tbody>\n",
       "</table>\n",
       "<p>172 rows × 5 columns</p>\n",
       "</div>"
      ],
      "text/plain": [
       "         id_individuo sexo  peso  talla  edad_dias\n",
       "1532              408    F   NaN  169.0     5645.0\n",
       "4128             1065    M   NaN  101.0     1307.0\n",
       "9086             2329    M   NaN   86.0      768.0\n",
       "14746            3781    F   NaN   62.0      165.0\n",
       "27901            7198    F   NaN  126.0     2282.0\n",
       "...               ...  ...   ...    ...        ...\n",
       "1103129        284983    F   NaN  161.0     6163.0\n",
       "1113606        287656    F   NaN  107.0     1465.0\n",
       "1122015        289828    M   NaN   85.0      809.0\n",
       "1142888        295259    F   NaN  126.0     3330.0\n",
       "1158265        299215    F   NaN   41.0     1652.0\n",
       "\n",
       "[172 rows x 5 columns]"
      ]
     },
     "execution_count": 227,
     "metadata": {},
     "output_type": "execute_result"
    }
   ],
   "source": [
    "print('cant. nulos:', df[df['peso'].isnull()].shape[0])\n",
    "df[df['peso'].isnull()]"
   ]
  },
  {
   "cell_type": "markdown",
   "id": "8c2216d6",
   "metadata": {},
   "source": [
    "### Altura (talla)"
   ]
  },
  {
   "cell_type": "code",
   "execution_count": 228,
   "id": "587d8d5a",
   "metadata": {},
   "outputs": [
    {
     "name": "stdout",
     "output_type": "stream",
     "text": [
      "19.0\n",
      "251.0\n"
     ]
    }
   ],
   "source": [
    "print(df['talla'].min()) # En qué unidad están ??? CM\n",
    "print(df['talla'].max())\n",
    "# Cuál serían el mínimo y máximo valor aceptable?"
   ]
  },
  {
   "cell_type": "code",
   "execution_count": 229,
   "id": "9bd84a24",
   "metadata": {},
   "outputs": [
    {
     "data": {
      "text/html": [
       "<div>\n",
       "<style scoped>\n",
       "    .dataframe tbody tr th:only-of-type {\n",
       "        vertical-align: middle;\n",
       "    }\n",
       "\n",
       "    .dataframe tbody tr th {\n",
       "        vertical-align: top;\n",
       "    }\n",
       "\n",
       "    .dataframe thead th {\n",
       "        text-align: right;\n",
       "    }\n",
       "</style>\n",
       "<table border=\"1\" class=\"dataframe\">\n",
       "  <thead>\n",
       "    <tr style=\"text-align: right;\">\n",
       "      <th></th>\n",
       "      <th>id_individuo</th>\n",
       "      <th>sexo</th>\n",
       "      <th>peso</th>\n",
       "      <th>talla</th>\n",
       "      <th>edad_dias</th>\n",
       "    </tr>\n",
       "  </thead>\n",
       "  <tbody>\n",
       "    <tr>\n",
       "      <th>15923</th>\n",
       "      <td>4076</td>\n",
       "      <td>M</td>\n",
       "      <td>8.9</td>\n",
       "      <td>30.0</td>\n",
       "      <td>341.0</td>\n",
       "    </tr>\n",
       "    <tr>\n",
       "      <th>20461</th>\n",
       "      <td>5273</td>\n",
       "      <td>M</td>\n",
       "      <td>13.7</td>\n",
       "      <td>34.0</td>\n",
       "      <td>564.0</td>\n",
       "    </tr>\n",
       "    <tr>\n",
       "      <th>28397</th>\n",
       "      <td>7335</td>\n",
       "      <td>F</td>\n",
       "      <td>22.1</td>\n",
       "      <td>22.0</td>\n",
       "      <td>2216.0</td>\n",
       "    </tr>\n",
       "    <tr>\n",
       "      <th>28903</th>\n",
       "      <td>7466</td>\n",
       "      <td>F</td>\n",
       "      <td>2.7</td>\n",
       "      <td>32.0</td>\n",
       "      <td>23.0</td>\n",
       "    </tr>\n",
       "    <tr>\n",
       "      <th>32958</th>\n",
       "      <td>8542</td>\n",
       "      <td>M</td>\n",
       "      <td>12.6</td>\n",
       "      <td>23.0</td>\n",
       "      <td>730.0</td>\n",
       "    </tr>\n",
       "    <tr>\n",
       "      <th>...</th>\n",
       "      <td>...</td>\n",
       "      <td>...</td>\n",
       "      <td>...</td>\n",
       "      <td>...</td>\n",
       "      <td>...</td>\n",
       "    </tr>\n",
       "    <tr>\n",
       "      <th>1136317</th>\n",
       "      <td>293510</td>\n",
       "      <td>M</td>\n",
       "      <td>19.4</td>\n",
       "      <td>28.0</td>\n",
       "      <td>2003.0</td>\n",
       "    </tr>\n",
       "    <tr>\n",
       "      <th>1137532</th>\n",
       "      <td>293828</td>\n",
       "      <td>M</td>\n",
       "      <td>8.8</td>\n",
       "      <td>22.0</td>\n",
       "      <td>403.0</td>\n",
       "    </tr>\n",
       "    <tr>\n",
       "      <th>1140204</th>\n",
       "      <td>294555</td>\n",
       "      <td>M</td>\n",
       "      <td>31.9</td>\n",
       "      <td>31.0</td>\n",
       "      <td>2646.0</td>\n",
       "    </tr>\n",
       "    <tr>\n",
       "      <th>1147984</th>\n",
       "      <td>296572</td>\n",
       "      <td>F</td>\n",
       "      <td>22.8</td>\n",
       "      <td>24.0</td>\n",
       "      <td>2790.0</td>\n",
       "    </tr>\n",
       "    <tr>\n",
       "      <th>1159651</th>\n",
       "      <td>299561</td>\n",
       "      <td>F</td>\n",
       "      <td>4.0</td>\n",
       "      <td>32.0</td>\n",
       "      <td>30.0</td>\n",
       "    </tr>\n",
       "  </tbody>\n",
       "</table>\n",
       "<p>276 rows × 5 columns</p>\n",
       "</div>"
      ],
      "text/plain": [
       "         id_individuo sexo  peso  talla  edad_dias\n",
       "15923            4076    M   8.9   30.0      341.0\n",
       "20461            5273    M  13.7   34.0      564.0\n",
       "28397            7335    F  22.1   22.0     2216.0\n",
       "28903            7466    F   2.7   32.0       23.0\n",
       "32958            8542    M  12.6   23.0      730.0\n",
       "...               ...  ...   ...    ...        ...\n",
       "1136317        293510    M  19.4   28.0     2003.0\n",
       "1137532        293828    M   8.8   22.0      403.0\n",
       "1140204        294555    M  31.9   31.0     2646.0\n",
       "1147984        296572    F  22.8   24.0     2790.0\n",
       "1159651        299561    F   4.0   32.0       30.0\n",
       "\n",
       "[276 rows x 5 columns]"
      ]
     },
     "execution_count": 229,
     "metadata": {},
     "output_type": "execute_result"
    }
   ],
   "source": [
    "df[df['talla']<35]"
   ]
  },
  {
   "cell_type": "code",
   "execution_count": 230,
   "id": "324d6cb4",
   "metadata": {},
   "outputs": [
    {
     "data": {
      "text/html": [
       "<div>\n",
       "<style scoped>\n",
       "    .dataframe tbody tr th:only-of-type {\n",
       "        vertical-align: middle;\n",
       "    }\n",
       "\n",
       "    .dataframe tbody tr th {\n",
       "        vertical-align: top;\n",
       "    }\n",
       "\n",
       "    .dataframe thead th {\n",
       "        text-align: right;\n",
       "    }\n",
       "</style>\n",
       "<table border=\"1\" class=\"dataframe\">\n",
       "  <thead>\n",
       "    <tr style=\"text-align: right;\">\n",
       "      <th></th>\n",
       "      <th>id_individuo</th>\n",
       "      <th>sexo</th>\n",
       "      <th>peso</th>\n",
       "      <th>talla</th>\n",
       "      <th>edad_dias</th>\n",
       "    </tr>\n",
       "  </thead>\n",
       "  <tbody>\n",
       "    <tr>\n",
       "      <th>68562</th>\n",
       "      <td>17902</td>\n",
       "      <td>F</td>\n",
       "      <td>9.6</td>\n",
       "      <td>251.0</td>\n",
       "      <td>315.0</td>\n",
       "    </tr>\n",
       "  </tbody>\n",
       "</table>\n",
       "</div>"
      ],
      "text/plain": [
       "       id_individuo sexo  peso  talla  edad_dias\n",
       "68562         17902    F   9.6  251.0      315.0"
      ]
     },
     "execution_count": 230,
     "metadata": {},
     "output_type": "execute_result"
    }
   ],
   "source": [
    "df[df['talla']==251]"
   ]
  },
  {
   "cell_type": "code",
   "execution_count": 58,
   "id": "67d899a4",
   "metadata": {},
   "outputs": [
    {
     "name": "stdout",
     "output_type": "stream",
     "text": [
      "cant. nulos: 114\n"
     ]
    },
    {
     "data": {
      "text/html": [
       "<div>\n",
       "<style scoped>\n",
       "    .dataframe tbody tr th:only-of-type {\n",
       "        vertical-align: middle;\n",
       "    }\n",
       "\n",
       "    .dataframe tbody tr th {\n",
       "        vertical-align: top;\n",
       "    }\n",
       "\n",
       "    .dataframe thead th {\n",
       "        text-align: right;\n",
       "    }\n",
       "</style>\n",
       "<table border=\"1\" class=\"dataframe\">\n",
       "  <thead>\n",
       "    <tr style=\"text-align: right;\">\n",
       "      <th></th>\n",
       "      <th>id_individuo</th>\n",
       "      <th>sexo</th>\n",
       "      <th>peso</th>\n",
       "      <th>talla</th>\n",
       "      <th>edad_dias</th>\n",
       "    </tr>\n",
       "  </thead>\n",
       "  <tbody>\n",
       "    <tr>\n",
       "      <th>389</th>\n",
       "      <td>105</td>\n",
       "      <td>F</td>\n",
       "      <td>33.7</td>\n",
       "      <td>NaN</td>\n",
       "      <td>2576.0</td>\n",
       "    </tr>\n",
       "    <tr>\n",
       "      <th>19368</th>\n",
       "      <td>4986</td>\n",
       "      <td>M</td>\n",
       "      <td>3.9</td>\n",
       "      <td>NaN</td>\n",
       "      <td>29.0</td>\n",
       "    </tr>\n",
       "    <tr>\n",
       "      <th>19736</th>\n",
       "      <td>5084</td>\n",
       "      <td>F</td>\n",
       "      <td>17.5</td>\n",
       "      <td>NaN</td>\n",
       "      <td>1503.0</td>\n",
       "    </tr>\n",
       "    <tr>\n",
       "      <th>21847</th>\n",
       "      <td>5615</td>\n",
       "      <td>F</td>\n",
       "      <td>49.4</td>\n",
       "      <td>NaN</td>\n",
       "      <td>4760.0</td>\n",
       "    </tr>\n",
       "    <tr>\n",
       "      <th>25305</th>\n",
       "      <td>6518</td>\n",
       "      <td>M</td>\n",
       "      <td>13.3</td>\n",
       "      <td>NaN</td>\n",
       "      <td>762.0</td>\n",
       "    </tr>\n",
       "    <tr>\n",
       "      <th>...</th>\n",
       "      <td>...</td>\n",
       "      <td>...</td>\n",
       "      <td>...</td>\n",
       "      <td>...</td>\n",
       "      <td>...</td>\n",
       "    </tr>\n",
       "    <tr>\n",
       "      <th>1119690</th>\n",
       "      <td>289214</td>\n",
       "      <td>M</td>\n",
       "      <td>13.1</td>\n",
       "      <td>NaN</td>\n",
       "      <td>818.0</td>\n",
       "    </tr>\n",
       "    <tr>\n",
       "      <th>1130327</th>\n",
       "      <td>291968</td>\n",
       "      <td>M</td>\n",
       "      <td>16.1</td>\n",
       "      <td>NaN</td>\n",
       "      <td>1588.0</td>\n",
       "    </tr>\n",
       "    <tr>\n",
       "      <th>1145304</th>\n",
       "      <td>295881</td>\n",
       "      <td>M</td>\n",
       "      <td>7.6</td>\n",
       "      <td>NaN</td>\n",
       "      <td>256.0</td>\n",
       "    </tr>\n",
       "    <tr>\n",
       "      <th>1148203</th>\n",
       "      <td>296626</td>\n",
       "      <td>M</td>\n",
       "      <td>21.6</td>\n",
       "      <td>NaN</td>\n",
       "      <td>2296.0</td>\n",
       "    </tr>\n",
       "    <tr>\n",
       "      <th>1153674</th>\n",
       "      <td>298047</td>\n",
       "      <td>F</td>\n",
       "      <td>3.2</td>\n",
       "      <td>NaN</td>\n",
       "      <td>18.0</td>\n",
       "    </tr>\n",
       "  </tbody>\n",
       "</table>\n",
       "<p>114 rows × 5 columns</p>\n",
       "</div>"
      ],
      "text/plain": [
       "         id_individuo sexo  peso  talla  edad_dias\n",
       "389               105    F  33.7    NaN     2576.0\n",
       "19368            4986    M   3.9    NaN       29.0\n",
       "19736            5084    F  17.5    NaN     1503.0\n",
       "21847            5615    F  49.4    NaN     4760.0\n",
       "25305            6518    M  13.3    NaN      762.0\n",
       "...               ...  ...   ...    ...        ...\n",
       "1119690        289214    M  13.1    NaN      818.0\n",
       "1130327        291968    M  16.1    NaN     1588.0\n",
       "1145304        295881    M   7.6    NaN      256.0\n",
       "1148203        296626    M  21.6    NaN     2296.0\n",
       "1153674        298047    F   3.2    NaN       18.0\n",
       "\n",
       "[114 rows x 5 columns]"
      ]
     },
     "execution_count": 58,
     "metadata": {},
     "output_type": "execute_result"
    }
   ],
   "source": [
    "print('cant. nulos:', df[df['talla'].isnull()].shape[0])\n",
    "df[df['talla'].isnull()]"
   ]
  },
  {
   "cell_type": "markdown",
   "id": "58790572",
   "metadata": {},
   "source": [
    "# Nulos"
   ]
  },
  {
   "cell_type": "code",
   "execution_count": 255,
   "id": "486fb24d",
   "metadata": {},
   "outputs": [
    {
     "data": {
      "text/plain": [
       "1156731"
      ]
     },
     "execution_count": 255,
     "metadata": {},
     "output_type": "execute_result"
    }
   ],
   "source": [
    "df.shape[0]"
   ]
  },
  {
   "cell_type": "code",
   "execution_count": 256,
   "id": "d772354d",
   "metadata": {},
   "outputs": [],
   "source": [
    "df.dropna(inplace=True) # capaz esto hacerlo al principio pero dejando de lado la columna 'sexo'"
   ]
  },
  {
   "cell_type": "code",
   "execution_count": 257,
   "id": "5767c001",
   "metadata": {},
   "outputs": [
    {
     "data": {
      "text/plain": [
       "1156447"
      ]
     },
     "execution_count": 257,
     "metadata": {},
     "output_type": "execute_result"
    }
   ],
   "source": [
    "df.shape[0]"
   ]
  },
  {
   "cell_type": "code",
   "execution_count": 258,
   "id": "6b179052",
   "metadata": {},
   "outputs": [
    {
     "data": {
      "text/plain": [
       "284"
      ]
     },
     "execution_count": 258,
     "metadata": {},
     "output_type": "execute_result"
    }
   ],
   "source": [
    "1156731 - 1156447"
   ]
  },
  {
   "cell_type": "markdown",
   "id": "e1953c30",
   "metadata": {},
   "source": [
    "# Unicidad\n",
    "- Es la medida en que los datos son únicos, no hay duplicados (no existen dos registros que representen la misma entidad).\n",
    "- Para un mismo individuo puede haber varias mediciones\n",
    "- Puedo ver duplicados y puedo ver si hay más de una medición para el mismo **id_individuo** y misma **edad_dias**"
   ]
  },
  {
   "cell_type": "markdown",
   "id": "85a259dc",
   "metadata": {},
   "source": [
    "### Duplicados"
   ]
  },
  {
   "cell_type": "code",
   "execution_count": 259,
   "id": "dde2a1c2",
   "metadata": {},
   "outputs": [
    {
     "data": {
      "text/plain": [
       "732"
      ]
     },
     "execution_count": 259,
     "metadata": {},
     "output_type": "execute_result"
    }
   ],
   "source": [
    "df[df.duplicated()].shape[0]"
   ]
  },
  {
   "cell_type": "code",
   "execution_count": 260,
   "id": "6fc3bc94",
   "metadata": {},
   "outputs": [
    {
     "data": {
      "text/html": [
       "<div>\n",
       "<style scoped>\n",
       "    .dataframe tbody tr th:only-of-type {\n",
       "        vertical-align: middle;\n",
       "    }\n",
       "\n",
       "    .dataframe tbody tr th {\n",
       "        vertical-align: top;\n",
       "    }\n",
       "\n",
       "    .dataframe thead th {\n",
       "        text-align: right;\n",
       "    }\n",
       "</style>\n",
       "<table border=\"1\" class=\"dataframe\">\n",
       "  <thead>\n",
       "    <tr style=\"text-align: right;\">\n",
       "      <th></th>\n",
       "      <th>id_individuo</th>\n",
       "      <th>sexo</th>\n",
       "      <th>peso</th>\n",
       "      <th>talla</th>\n",
       "      <th>edad_dias</th>\n",
       "    </tr>\n",
       "  </thead>\n",
       "  <tbody>\n",
       "    <tr>\n",
       "      <th>1445</th>\n",
       "      <td>382</td>\n",
       "      <td>M</td>\n",
       "      <td>16.1</td>\n",
       "      <td>96.0</td>\n",
       "      <td>1462.0</td>\n",
       "    </tr>\n",
       "    <tr>\n",
       "      <th>2240</th>\n",
       "      <td>579</td>\n",
       "      <td>F</td>\n",
       "      <td>12.1</td>\n",
       "      <td>85.0</td>\n",
       "      <td>708.0</td>\n",
       "    </tr>\n",
       "    <tr>\n",
       "      <th>3024</th>\n",
       "      <td>783</td>\n",
       "      <td>M</td>\n",
       "      <td>10.1</td>\n",
       "      <td>77.0</td>\n",
       "      <td>442.0</td>\n",
       "    </tr>\n",
       "    <tr>\n",
       "      <th>3082</th>\n",
       "      <td>797</td>\n",
       "      <td>F</td>\n",
       "      <td>12.2</td>\n",
       "      <td>84.0</td>\n",
       "      <td>725.0</td>\n",
       "    </tr>\n",
       "    <tr>\n",
       "      <th>3782</th>\n",
       "      <td>982</td>\n",
       "      <td>F</td>\n",
       "      <td>10.7</td>\n",
       "      <td>89.0</td>\n",
       "      <td>568.0</td>\n",
       "    </tr>\n",
       "    <tr>\n",
       "      <th>...</th>\n",
       "      <td>...</td>\n",
       "      <td>...</td>\n",
       "      <td>...</td>\n",
       "      <td>...</td>\n",
       "      <td>...</td>\n",
       "    </tr>\n",
       "    <tr>\n",
       "      <th>1156748</th>\n",
       "      <td>298816</td>\n",
       "      <td>M</td>\n",
       "      <td>9.2</td>\n",
       "      <td>75.0</td>\n",
       "      <td>430.0</td>\n",
       "    </tr>\n",
       "    <tr>\n",
       "      <th>1157398</th>\n",
       "      <td>298992</td>\n",
       "      <td>M</td>\n",
       "      <td>9.0</td>\n",
       "      <td>67.0</td>\n",
       "      <td>210.0</td>\n",
       "    </tr>\n",
       "    <tr>\n",
       "      <th>1160215</th>\n",
       "      <td>299703</td>\n",
       "      <td>M</td>\n",
       "      <td>6.2</td>\n",
       "      <td>63.0</td>\n",
       "      <td>135.0</td>\n",
       "    </tr>\n",
       "    <tr>\n",
       "      <th>1160300</th>\n",
       "      <td>299723</td>\n",
       "      <td>F</td>\n",
       "      <td>4.1</td>\n",
       "      <td>55.0</td>\n",
       "      <td>21.0</td>\n",
       "    </tr>\n",
       "    <tr>\n",
       "      <th>1161179</th>\n",
       "      <td>299934</td>\n",
       "      <td>F</td>\n",
       "      <td>64.9</td>\n",
       "      <td>181.0</td>\n",
       "      <td>6336.0</td>\n",
       "    </tr>\n",
       "  </tbody>\n",
       "</table>\n",
       "<p>732 rows × 5 columns</p>\n",
       "</div>"
      ],
      "text/plain": [
       "         id_individuo sexo  peso  talla  edad_dias\n",
       "1445              382    M  16.1   96.0     1462.0\n",
       "2240              579    F  12.1   85.0      708.0\n",
       "3024              783    M  10.1   77.0      442.0\n",
       "3082              797    F  12.2   84.0      725.0\n",
       "3782              982    F  10.7   89.0      568.0\n",
       "...               ...  ...   ...    ...        ...\n",
       "1156748        298816    M   9.2   75.0      430.0\n",
       "1157398        298992    M   9.0   67.0      210.0\n",
       "1160215        299703    M   6.2   63.0      135.0\n",
       "1160300        299723    F   4.1   55.0       21.0\n",
       "1161179        299934    F  64.9  181.0     6336.0\n",
       "\n",
       "[732 rows x 5 columns]"
      ]
     },
     "execution_count": 260,
     "metadata": {},
     "output_type": "execute_result"
    }
   ],
   "source": [
    "df_duplicados = df[df.duplicated()]\n",
    "df_duplicados"
   ]
  },
  {
   "cell_type": "code",
   "execution_count": 261,
   "id": "8ee879c6",
   "metadata": {},
   "outputs": [],
   "source": [
    "ids_duplicados = df_duplicados['id_individuo']"
   ]
  },
  {
   "cell_type": "code",
   "execution_count": 262,
   "id": "297eb5d2",
   "metadata": {},
   "outputs": [
    {
     "data": {
      "text/plain": [
       "1156447"
      ]
     },
     "execution_count": 262,
     "metadata": {},
     "output_type": "execute_result"
    }
   ],
   "source": [
    "df.shape[0]"
   ]
  },
  {
   "cell_type": "code",
   "execution_count": 263,
   "id": "8dc310d8",
   "metadata": {},
   "outputs": [],
   "source": [
    "df.drop_duplicates(inplace=True)#.reset_index(drop=True,inplace=True)"
   ]
  },
  {
   "cell_type": "code",
   "execution_count": 264,
   "id": "4533610c",
   "metadata": {},
   "outputs": [
    {
     "data": {
      "text/plain": [
       "1155715"
      ]
     },
     "execution_count": 264,
     "metadata": {},
     "output_type": "execute_result"
    }
   ],
   "source": [
    "df.shape[0]"
   ]
  },
  {
   "cell_type": "code",
   "execution_count": 265,
   "id": "95172fa4",
   "metadata": {},
   "outputs": [
    {
     "data": {
      "text/plain": [
       "732"
      ]
     },
     "execution_count": 265,
     "metadata": {},
     "output_type": "execute_result"
    }
   ],
   "source": [
    "1156447 - 1155715"
   ]
  },
  {
   "cell_type": "markdown",
   "id": "9b704312",
   "metadata": {},
   "source": [
    "### Duplicados individuo - edad"
   ]
  },
  {
   "cell_type": "code",
   "execution_count": 266,
   "id": "36eb4bbf",
   "metadata": {},
   "outputs": [
    {
     "data": {
      "text/plain": [
       "392"
      ]
     },
     "execution_count": 266,
     "metadata": {},
     "output_type": "execute_result"
    }
   ],
   "source": [
    "df[df[['id_individuo', 'edad_dias']].duplicated()].shape[0]"
   ]
  },
  {
   "cell_type": "code",
   "execution_count": 267,
   "id": "6a19645e",
   "metadata": {},
   "outputs": [
    {
     "data": {
      "text/plain": [
       "784"
      ]
     },
     "execution_count": 267,
     "metadata": {},
     "output_type": "execute_result"
    }
   ],
   "source": [
    "df.shape[0] - df.drop_duplicates(['id_individuo', 'edad_dias'], keep=False).shape[0] # cantidad de registros"
   ]
  },
  {
   "cell_type": "code",
   "execution_count": 268,
   "id": "80aa617e",
   "metadata": {},
   "outputs": [
    {
     "data": {
      "text/html": [
       "<div>\n",
       "<style scoped>\n",
       "    .dataframe tbody tr th:only-of-type {\n",
       "        vertical-align: middle;\n",
       "    }\n",
       "\n",
       "    .dataframe tbody tr th {\n",
       "        vertical-align: top;\n",
       "    }\n",
       "\n",
       "    .dataframe thead th {\n",
       "        text-align: right;\n",
       "    }\n",
       "</style>\n",
       "<table border=\"1\" class=\"dataframe\">\n",
       "  <thead>\n",
       "    <tr style=\"text-align: right;\">\n",
       "      <th></th>\n",
       "      <th>id_individuo</th>\n",
       "      <th>sexo</th>\n",
       "      <th>peso</th>\n",
       "      <th>talla</th>\n",
       "      <th>edad_dias</th>\n",
       "    </tr>\n",
       "  </thead>\n",
       "  <tbody>\n",
       "    <tr>\n",
       "      <th>5123</th>\n",
       "      <td>1332</td>\n",
       "      <td>F</td>\n",
       "      <td>293.6</td>\n",
       "      <td>133.0</td>\n",
       "      <td>2511.0</td>\n",
       "    </tr>\n",
       "    <tr>\n",
       "      <th>9527</th>\n",
       "      <td>2445</td>\n",
       "      <td>F</td>\n",
       "      <td>13.3</td>\n",
       "      <td>89.0</td>\n",
       "      <td>1009.0</td>\n",
       "    </tr>\n",
       "    <tr>\n",
       "      <th>11339</th>\n",
       "      <td>2901</td>\n",
       "      <td>M</td>\n",
       "      <td>8.3</td>\n",
       "      <td>69.0</td>\n",
       "      <td>374.0</td>\n",
       "    </tr>\n",
       "    <tr>\n",
       "      <th>11721</th>\n",
       "      <td>2994</td>\n",
       "      <td>F</td>\n",
       "      <td>11.6</td>\n",
       "      <td>84.0</td>\n",
       "      <td>585.0</td>\n",
       "    </tr>\n",
       "    <tr>\n",
       "      <th>17084</th>\n",
       "      <td>4377</td>\n",
       "      <td>F</td>\n",
       "      <td>24.4</td>\n",
       "      <td>121.0</td>\n",
       "      <td>2554.0</td>\n",
       "    </tr>\n",
       "    <tr>\n",
       "      <th>...</th>\n",
       "      <td>...</td>\n",
       "      <td>...</td>\n",
       "      <td>...</td>\n",
       "      <td>...</td>\n",
       "      <td>...</td>\n",
       "    </tr>\n",
       "    <tr>\n",
       "      <th>1156388</th>\n",
       "      <td>298727</td>\n",
       "      <td>M</td>\n",
       "      <td>7.7</td>\n",
       "      <td>68.0</td>\n",
       "      <td>247.0</td>\n",
       "    </tr>\n",
       "    <tr>\n",
       "      <th>1156722</th>\n",
       "      <td>298808</td>\n",
       "      <td>F</td>\n",
       "      <td>11.7</td>\n",
       "      <td>85.0</td>\n",
       "      <td>1159.0</td>\n",
       "    </tr>\n",
       "    <tr>\n",
       "      <th>1157838</th>\n",
       "      <td>299105</td>\n",
       "      <td>M</td>\n",
       "      <td>10.8</td>\n",
       "      <td>81.0</td>\n",
       "      <td>482.0</td>\n",
       "    </tr>\n",
       "    <tr>\n",
       "      <th>1159389</th>\n",
       "      <td>299496</td>\n",
       "      <td>F</td>\n",
       "      <td>6.4</td>\n",
       "      <td>59.0</td>\n",
       "      <td>95.0</td>\n",
       "    </tr>\n",
       "    <tr>\n",
       "      <th>1159905</th>\n",
       "      <td>299616</td>\n",
       "      <td>M</td>\n",
       "      <td>8.3</td>\n",
       "      <td>71.0</td>\n",
       "      <td>214.0</td>\n",
       "    </tr>\n",
       "  </tbody>\n",
       "</table>\n",
       "<p>392 rows × 5 columns</p>\n",
       "</div>"
      ],
      "text/plain": [
       "         id_individuo sexo   peso  talla  edad_dias\n",
       "5123             1332    F  293.6  133.0     2511.0\n",
       "9527             2445    F   13.3   89.0     1009.0\n",
       "11339            2901    M    8.3   69.0      374.0\n",
       "11721            2994    F   11.6   84.0      585.0\n",
       "17084            4377    F   24.4  121.0     2554.0\n",
       "...               ...  ...    ...    ...        ...\n",
       "1156388        298727    M    7.7   68.0      247.0\n",
       "1156722        298808    F   11.7   85.0     1159.0\n",
       "1157838        299105    M   10.8   81.0      482.0\n",
       "1159389        299496    F    6.4   59.0       95.0\n",
       "1159905        299616    M    8.3   71.0      214.0\n",
       "\n",
       "[392 rows x 5 columns]"
      ]
     },
     "execution_count": 268,
     "metadata": {},
     "output_type": "execute_result"
    }
   ],
   "source": [
    "df_ind_edad = df[df[['id_individuo', 'edad_dias']].duplicated()]\n",
    "df_ind_edad"
   ]
  },
  {
   "cell_type": "code",
   "execution_count": 269,
   "id": "5fbddb06",
   "metadata": {},
   "outputs": [
    {
     "data": {
      "text/plain": [
       "155773    2\n",
       "1332      1\n",
       "202890    1\n",
       "209922    1\n",
       "209622    1\n",
       "         ..\n",
       "105397    1\n",
       "105262    1\n",
       "105154    1\n",
       "102949    1\n",
       "299616    1\n",
       "Name: id_individuo, Length: 391, dtype: int64"
      ]
     },
     "execution_count": 269,
     "metadata": {},
     "output_type": "execute_result"
    }
   ],
   "source": [
    "df_ind_edad['id_individuo'].value_counts()"
   ]
  },
  {
   "cell_type": "code",
   "execution_count": 270,
   "id": "89f9333e",
   "metadata": {},
   "outputs": [
    {
     "data": {
      "text/html": [
       "<div>\n",
       "<style scoped>\n",
       "    .dataframe tbody tr th:only-of-type {\n",
       "        vertical-align: middle;\n",
       "    }\n",
       "\n",
       "    .dataframe tbody tr th {\n",
       "        vertical-align: top;\n",
       "    }\n",
       "\n",
       "    .dataframe thead th {\n",
       "        text-align: right;\n",
       "    }\n",
       "</style>\n",
       "<table border=\"1\" class=\"dataframe\">\n",
       "  <thead>\n",
       "    <tr style=\"text-align: right;\">\n",
       "      <th></th>\n",
       "      <th>id_individuo</th>\n",
       "      <th>sexo</th>\n",
       "      <th>peso</th>\n",
       "      <th>talla</th>\n",
       "      <th>edad_dias</th>\n",
       "    </tr>\n",
       "  </thead>\n",
       "  <tbody>\n",
       "    <tr>\n",
       "      <th>1159388</th>\n",
       "      <td>299496</td>\n",
       "      <td>F</td>\n",
       "      <td>6.3</td>\n",
       "      <td>59.0</td>\n",
       "      <td>95.0</td>\n",
       "    </tr>\n",
       "    <tr>\n",
       "      <th>1159389</th>\n",
       "      <td>299496</td>\n",
       "      <td>F</td>\n",
       "      <td>6.4</td>\n",
       "      <td>59.0</td>\n",
       "      <td>95.0</td>\n",
       "    </tr>\n",
       "  </tbody>\n",
       "</table>\n",
       "</div>"
      ],
      "text/plain": [
       "         id_individuo sexo  peso  talla  edad_dias\n",
       "1159388        299496    F   6.3   59.0       95.0\n",
       "1159389        299496    F   6.4   59.0       95.0"
      ]
     },
     "execution_count": 270,
     "metadata": {},
     "output_type": "execute_result"
    }
   ],
   "source": [
    "df[(df['id_individuo'] == 299496) & (df['edad_dias'] == 95)] # Ejemplo: diferencia en la medición de peso"
   ]
  },
  {
   "cell_type": "markdown",
   "id": "41ab52cc",
   "metadata": {},
   "source": [
    "#### Diferencia en sexo"
   ]
  },
  {
   "cell_type": "code",
   "execution_count": 271,
   "id": "aa959b14",
   "metadata": {},
   "outputs": [
    {
     "data": {
      "text/html": [
       "<div>\n",
       "<style scoped>\n",
       "    .dataframe tbody tr th:only-of-type {\n",
       "        vertical-align: middle;\n",
       "    }\n",
       "\n",
       "    .dataframe tbody tr th {\n",
       "        vertical-align: top;\n",
       "    }\n",
       "\n",
       "    .dataframe thead th {\n",
       "        text-align: right;\n",
       "    }\n",
       "</style>\n",
       "<table border=\"1\" class=\"dataframe\">\n",
       "  <thead>\n",
       "    <tr style=\"text-align: right;\">\n",
       "      <th></th>\n",
       "      <th>id_individuo</th>\n",
       "      <th>sexo</th>\n",
       "      <th>peso</th>\n",
       "      <th>talla</th>\n",
       "      <th>edad_dias</th>\n",
       "    </tr>\n",
       "  </thead>\n",
       "  <tbody>\n",
       "  </tbody>\n",
       "</table>\n",
       "</div>"
      ],
      "text/plain": [
       "Empty DataFrame\n",
       "Columns: [id_individuo, sexo, peso, talla, edad_dias]\n",
       "Index: []"
      ]
     },
     "execution_count": 271,
     "metadata": {},
     "output_type": "execute_result"
    }
   ],
   "source": [
    "# diferencia en sexo ?\n",
    "df[(df[['id_individuo', 'edad_dias', 'peso', 'talla']].duplicated())] # NO HAY"
   ]
  },
  {
   "cell_type": "markdown",
   "id": "cdda7b27",
   "metadata": {},
   "source": [
    "#### Diferencia en peso"
   ]
  },
  {
   "cell_type": "code",
   "execution_count": 272,
   "id": "51c9cfc2",
   "metadata": {},
   "outputs": [
    {
     "data": {
      "text/plain": [
       "155773    2\n",
       "1332      1\n",
       "203594    1\n",
       "210166    1\n",
       "209922    1\n",
       "         ..\n",
       "107475    1\n",
       "107209    1\n",
       "105397    1\n",
       "105262    1\n",
       "299616    1\n",
       "Name: id_individuo, Length: 367, dtype: int64"
      ]
     },
     "execution_count": 272,
     "metadata": {},
     "output_type": "execute_result"
    }
   ],
   "source": [
    "# diferencia en peso\n",
    "df_dup_peso = df[(df[['id_individuo', 'edad_dias', 'talla']].duplicated())]\n",
    "ids_dup_peso = df_dup_peso['id_individuo']\n",
    "df_dup_peso['id_individuo'].value_counts()"
   ]
  },
  {
   "cell_type": "code",
   "execution_count": 273,
   "id": "8ba72a25",
   "metadata": {},
   "outputs": [],
   "source": [
    "df_dif_peso = df[(df['id_individuo'].isin(ids_dup_peso))]"
   ]
  },
  {
   "cell_type": "code",
   "execution_count": 274,
   "id": "043f9664",
   "metadata": {},
   "outputs": [
    {
     "data": {
      "text/html": [
       "<div>\n",
       "<style scoped>\n",
       "    .dataframe tbody tr th:only-of-type {\n",
       "        vertical-align: middle;\n",
       "    }\n",
       "\n",
       "    .dataframe tbody tr th {\n",
       "        vertical-align: top;\n",
       "    }\n",
       "\n",
       "    .dataframe thead th {\n",
       "        text-align: right;\n",
       "    }\n",
       "</style>\n",
       "<table border=\"1\" class=\"dataframe\">\n",
       "  <thead>\n",
       "    <tr style=\"text-align: right;\">\n",
       "      <th></th>\n",
       "      <th>id_individuo</th>\n",
       "      <th>edad_dias</th>\n",
       "      <th>peso_med_1</th>\n",
       "      <th>peso_med_2</th>\n",
       "    </tr>\n",
       "  </thead>\n",
       "  <tbody>\n",
       "    <tr>\n",
       "      <th>0</th>\n",
       "      <td>6822</td>\n",
       "      <td>656.0</td>\n",
       "      <td>10.8</td>\n",
       "      <td>108.2</td>\n",
       "    </tr>\n",
       "    <tr>\n",
       "      <th>1</th>\n",
       "      <td>108167</td>\n",
       "      <td>593.0</td>\n",
       "      <td>11.2</td>\n",
       "      <td>111.7</td>\n",
       "    </tr>\n",
       "    <tr>\n",
       "      <th>2</th>\n",
       "      <td>264560</td>\n",
       "      <td>715.0</td>\n",
       "      <td>12.2</td>\n",
       "      <td>120.4</td>\n",
       "    </tr>\n",
       "    <tr>\n",
       "      <th>3</th>\n",
       "      <td>222855</td>\n",
       "      <td>2932.0</td>\n",
       "      <td>26.7</td>\n",
       "      <td>266.8</td>\n",
       "    </tr>\n",
       "    <tr>\n",
       "      <th>4</th>\n",
       "      <td>1332</td>\n",
       "      <td>2511.0</td>\n",
       "      <td>29.4</td>\n",
       "      <td>293.6</td>\n",
       "    </tr>\n",
       "    <tr>\n",
       "      <th>5</th>\n",
       "      <td>177821</td>\n",
       "      <td>1019.0</td>\n",
       "      <td>12.6</td>\n",
       "      <td>12597.9</td>\n",
       "    </tr>\n",
       "  </tbody>\n",
       "</table>\n",
       "</div>"
      ],
      "text/plain": [
       "   id_individuo  edad_dias  peso_med_1  peso_med_2\n",
       "0          6822      656.0        10.8       108.2\n",
       "1        108167      593.0        11.2       111.7\n",
       "2        264560      715.0        12.2       120.4\n",
       "3        222855     2932.0        26.7       266.8\n",
       "4          1332     2511.0        29.4       293.6\n",
       "5        177821     1019.0        12.6     12597.9"
      ]
     },
     "execution_count": 274,
     "metadata": {},
     "output_type": "execute_result"
    }
   ],
   "source": [
    "dif_peso = df_dif_peso.groupby(['id_individuo', 'edad_dias']).agg({'peso': ['min', 'max']})\n",
    "dif_peso['dif'] = dif_peso[('peso',    'max')] - dif_peso[('peso',    'min')]\n",
    "#dif_peso[(dif_peso['dif']>0) & (dif_peso['dif']<=10)].sort_values('dif') # 360\n",
    "ejemplo = dif_peso[(dif_peso['dif']>90)].sort_values('dif') # 7\n",
    "ejemplo.drop(columns='dif',inplace=True)\n",
    "ejemplo = ejemplo.reset_index()\n",
    "ejemplo.columns = ['_'.join(col) for col in ejemplo.columns.values]\n",
    "ejemplo.rename(columns={'id_individuo_': 'id_individuo', 'edad_dias_': 'edad_dias', 'peso_min': 'peso_med_1', 'peso_max': 'peso_med_2'},inplace=True)\n",
    "\n",
    "#dfi.export(ejemplo, 'images/dif_pesos.png')\n",
    "ejemplo\n",
    "#ejemplo.style.hide_index()\n",
    "#ejemplo.rename(columns={('peso',    'min'): ('peso',    'med_1')})\n",
    "# podemos tomar para los que difieren en menos de 10 kilos el promedio\n",
    "# que hacemos para el 155773 que no tiene sentido ninguna de las mediciones ???\n",
    "# para los que difieren en más de 10 kilos se puede ver que para la edad el peso razonable es el mínimo, \n",
    "# y viendo los números parecería que el error está en la unidad en que los datos fueron cargados, debería ser en kilos pero los cargaron en gramos"
   ]
  },
  {
   "cell_type": "code",
   "execution_count": 275,
   "id": "6041d4e5",
   "metadata": {},
   "outputs": [
    {
     "data": {
      "text/plain": [
       "1155715"
      ]
     },
     "execution_count": 275,
     "metadata": {},
     "output_type": "execute_result"
    }
   ],
   "source": [
    "df.shape[0]"
   ]
  },
  {
   "cell_type": "code",
   "execution_count": 76,
   "id": "07484aaa",
   "metadata": {},
   "outputs": [],
   "source": [
    "# elimino los fuera de rango de estos casos # ESTOS NO LOS QUIERO ELIMINAR DE ESTA FORMA - QUIERO ESTABLECER UN RANGO VÁLIDO\n",
    "#df.drop([687886],inplace=True)\n",
    "#df.drop([5114],inplace=True)\n",
    "#df.drop([862170],inplace=True)\n",
    "#df.drop([1023018],inplace=True)\n",
    "#df.drop([417895],inplace=True)\n",
    "#df.drop([26386],inplace=True)"
   ]
  },
  {
   "cell_type": "code",
   "execution_count": 77,
   "id": "7f51c71e",
   "metadata": {},
   "outputs": [],
   "source": [
    "# elimino los demás duplicados # ANTES DE ELIMINAR ESTOS ESTABLEZCO EL RANGO, para que no se me vayan los duplicados que están dentro\n",
    "#df.drop_duplicates(['id_individuo', 'edad_dias', 'talla'], keep=False,inplace=True)"
   ]
  },
  {
   "cell_type": "code",
   "execution_count": 276,
   "id": "ab930e72",
   "metadata": {},
   "outputs": [
    {
     "data": {
      "text/plain": [
       "1155715"
      ]
     },
     "execution_count": 276,
     "metadata": {},
     "output_type": "execute_result"
    }
   ],
   "source": [
    "df.shape[0]"
   ]
  },
  {
   "cell_type": "code",
   "execution_count": 250,
   "id": "cea24c50",
   "metadata": {},
   "outputs": [
    {
     "data": {
      "text/html": [
       "<div>\n",
       "<style scoped>\n",
       "    .dataframe tbody tr th:only-of-type {\n",
       "        vertical-align: middle;\n",
       "    }\n",
       "\n",
       "    .dataframe tbody tr th {\n",
       "        vertical-align: top;\n",
       "    }\n",
       "\n",
       "    .dataframe thead th {\n",
       "        text-align: right;\n",
       "    }\n",
       "</style>\n",
       "<table border=\"1\" class=\"dataframe\">\n",
       "  <thead>\n",
       "    <tr style=\"text-align: right;\">\n",
       "      <th></th>\n",
       "      <th>id_individuo</th>\n",
       "      <th>sexo</th>\n",
       "      <th>peso</th>\n",
       "      <th>talla</th>\n",
       "      <th>edad_dias</th>\n",
       "    </tr>\n",
       "  </thead>\n",
       "  <tbody>\n",
       "    <tr>\n",
       "      <th>602858</th>\n",
       "      <td>155773</td>\n",
       "      <td>F</td>\n",
       "      <td>34.3</td>\n",
       "      <td>55.0</td>\n",
       "      <td>70.0</td>\n",
       "    </tr>\n",
       "    <tr>\n",
       "      <th>602859</th>\n",
       "      <td>155773</td>\n",
       "      <td>F</td>\n",
       "      <td>67.6</td>\n",
       "      <td>55.0</td>\n",
       "      <td>70.0</td>\n",
       "    </tr>\n",
       "    <tr>\n",
       "      <th>602860</th>\n",
       "      <td>155773</td>\n",
       "      <td>F</td>\n",
       "      <td>34.3</td>\n",
       "      <td>61.0</td>\n",
       "      <td>98.0</td>\n",
       "    </tr>\n",
       "    <tr>\n",
       "      <th>602861</th>\n",
       "      <td>155773</td>\n",
       "      <td>F</td>\n",
       "      <td>67.6</td>\n",
       "      <td>61.0</td>\n",
       "      <td>98.0</td>\n",
       "    </tr>\n",
       "  </tbody>\n",
       "</table>\n",
       "</div>"
      ],
      "text/plain": [
       "        id_individuo sexo  peso  talla  edad_dias\n",
       "602858        155773    F  34.3   55.0       70.0\n",
       "602859        155773    F  67.6   55.0       70.0\n",
       "602860        155773    F  34.3   61.0       98.0\n",
       "602861        155773    F  67.6   61.0       98.0"
      ]
     },
     "execution_count": 250,
     "metadata": {},
     "output_type": "execute_result"
    }
   ],
   "source": [
    "# el 155773 lo voy a ver por separado\n",
    "df_dif_peso[((df_dif_peso['id_individuo'] == 155773) & (df_dif_peso['edad_dias'] == 70)) | ((df_dif_peso['id_individuo'] == 155773) & (df_dif_peso['edad_dias'] == 98))]\n",
    "# ninguno de los pesos tiene sentido para la cantidad de días - probablemente sea un error\n",
    "# ELIMINAR ESTOS REGISTROS"
   ]
  },
  {
   "cell_type": "code",
   "execution_count": 80,
   "id": "5a1fa287",
   "metadata": {
    "collapsed": true
   },
   "outputs": [
    {
     "data": {
      "text/html": [
       "<div>\n",
       "<style scoped>\n",
       "    .dataframe tbody tr th:only-of-type {\n",
       "        vertical-align: middle;\n",
       "    }\n",
       "\n",
       "    .dataframe tbody tr th {\n",
       "        vertical-align: top;\n",
       "    }\n",
       "\n",
       "    .dataframe thead th {\n",
       "        text-align: right;\n",
       "    }\n",
       "</style>\n",
       "<table border=\"1\" class=\"dataframe\">\n",
       "  <thead>\n",
       "    <tr style=\"text-align: right;\">\n",
       "      <th></th>\n",
       "      <th>id_individuo</th>\n",
       "      <th>sexo</th>\n",
       "      <th>peso</th>\n",
       "      <th>talla</th>\n",
       "      <th>edad_dias</th>\n",
       "    </tr>\n",
       "  </thead>\n",
       "  <tbody>\n",
       "    <tr>\n",
       "      <th>602210</th>\n",
       "      <td>155773</td>\n",
       "      <td>F</td>\n",
       "      <td>34.3</td>\n",
       "      <td>55.0</td>\n",
       "      <td>43.0</td>\n",
       "    </tr>\n",
       "    <tr>\n",
       "      <th>602211</th>\n",
       "      <td>155773</td>\n",
       "      <td>F</td>\n",
       "      <td>67.6</td>\n",
       "      <td>55.0</td>\n",
       "      <td>48.0</td>\n",
       "    </tr>\n",
       "    <tr>\n",
       "      <th>602212</th>\n",
       "      <td>155773</td>\n",
       "      <td>F</td>\n",
       "      <td>34.3</td>\n",
       "      <td>55.0</td>\n",
       "      <td>70.0</td>\n",
       "    </tr>\n",
       "    <tr>\n",
       "      <th>602213</th>\n",
       "      <td>155773</td>\n",
       "      <td>F</td>\n",
       "      <td>67.6</td>\n",
       "      <td>55.0</td>\n",
       "      <td>70.0</td>\n",
       "    </tr>\n",
       "    <tr>\n",
       "      <th>602214</th>\n",
       "      <td>155773</td>\n",
       "      <td>F</td>\n",
       "      <td>34.3</td>\n",
       "      <td>61.0</td>\n",
       "      <td>98.0</td>\n",
       "    </tr>\n",
       "    <tr>\n",
       "      <th>602215</th>\n",
       "      <td>155773</td>\n",
       "      <td>F</td>\n",
       "      <td>67.6</td>\n",
       "      <td>61.0</td>\n",
       "      <td>98.0</td>\n",
       "    </tr>\n",
       "    <tr>\n",
       "      <th>602216</th>\n",
       "      <td>155773</td>\n",
       "      <td>F</td>\n",
       "      <td>9.6</td>\n",
       "      <td>75.0</td>\n",
       "      <td>325.0</td>\n",
       "    </tr>\n",
       "    <tr>\n",
       "      <th>602217</th>\n",
       "      <td>155773</td>\n",
       "      <td>F</td>\n",
       "      <td>10.2</td>\n",
       "      <td>75.0</td>\n",
       "      <td>373.0</td>\n",
       "    </tr>\n",
       "    <tr>\n",
       "      <th>602218</th>\n",
       "      <td>155773</td>\n",
       "      <td>F</td>\n",
       "      <td>12.2</td>\n",
       "      <td>30.0</td>\n",
       "      <td>555.0</td>\n",
       "    </tr>\n",
       "    <tr>\n",
       "      <th>602219</th>\n",
       "      <td>155773</td>\n",
       "      <td>F</td>\n",
       "      <td>12.5</td>\n",
       "      <td>86.0</td>\n",
       "      <td>653.0</td>\n",
       "    </tr>\n",
       "    <tr>\n",
       "      <th>602220</th>\n",
       "      <td>155773</td>\n",
       "      <td>F</td>\n",
       "      <td>15.7</td>\n",
       "      <td>97.0</td>\n",
       "      <td>1122.0</td>\n",
       "    </tr>\n",
       "    <tr>\n",
       "      <th>602221</th>\n",
       "      <td>155773</td>\n",
       "      <td>F</td>\n",
       "      <td>16.6</td>\n",
       "      <td>101.0</td>\n",
       "      <td>1318.0</td>\n",
       "    </tr>\n",
       "    <tr>\n",
       "      <th>602222</th>\n",
       "      <td>155773</td>\n",
       "      <td>F</td>\n",
       "      <td>21.7</td>\n",
       "      <td>110.0</td>\n",
       "      <td>2004.0</td>\n",
       "    </tr>\n",
       "  </tbody>\n",
       "</table>\n",
       "</div>"
      ],
      "text/plain": [
       "        id_individuo sexo  peso  talla  edad_dias\n",
       "602210        155773    F  34.3   55.0       43.0\n",
       "602211        155773    F  67.6   55.0       48.0\n",
       "602212        155773    F  34.3   55.0       70.0\n",
       "602213        155773    F  67.6   55.0       70.0\n",
       "602214        155773    F  34.3   61.0       98.0\n",
       "602215        155773    F  67.6   61.0       98.0\n",
       "602216        155773    F   9.6   75.0      325.0\n",
       "602217        155773    F  10.2   75.0      373.0\n",
       "602218        155773    F  12.2   30.0      555.0\n",
       "602219        155773    F  12.5   86.0      653.0\n",
       "602220        155773    F  15.7   97.0     1122.0\n",
       "602221        155773    F  16.6  101.0     1318.0\n",
       "602222        155773    F  21.7  110.0     2004.0"
      ]
     },
     "execution_count": 80,
     "metadata": {},
     "output_type": "execute_result"
    }
   ],
   "source": [
    "df_dif_peso[df_dif_peso['id_individuo'] == 155773]"
   ]
  },
  {
   "cell_type": "markdown",
   "id": "39cbaae7",
   "metadata": {},
   "source": [
    "#### Diferencia en talla"
   ]
  },
  {
   "cell_type": "code",
   "execution_count": 277,
   "id": "4278f99d",
   "metadata": {},
   "outputs": [
    {
     "data": {
      "text/html": [
       "<div>\n",
       "<style scoped>\n",
       "    .dataframe tbody tr th:only-of-type {\n",
       "        vertical-align: middle;\n",
       "    }\n",
       "\n",
       "    .dataframe tbody tr th {\n",
       "        vertical-align: top;\n",
       "    }\n",
       "\n",
       "    .dataframe thead th {\n",
       "        text-align: right;\n",
       "    }\n",
       "</style>\n",
       "<table border=\"1\" class=\"dataframe\">\n",
       "  <thead>\n",
       "    <tr style=\"text-align: right;\">\n",
       "      <th></th>\n",
       "      <th>id_individuo</th>\n",
       "      <th>sexo</th>\n",
       "      <th>peso</th>\n",
       "      <th>talla</th>\n",
       "      <th>edad_dias</th>\n",
       "    </tr>\n",
       "  </thead>\n",
       "  <tbody>\n",
       "    <tr>\n",
       "      <th>389103</th>\n",
       "      <td>100620</td>\n",
       "      <td>F</td>\n",
       "      <td>4.1</td>\n",
       "      <td>96.0</td>\n",
       "      <td>14.0</td>\n",
       "    </tr>\n",
       "    <tr>\n",
       "      <th>1142543</th>\n",
       "      <td>295161</td>\n",
       "      <td>F</td>\n",
       "      <td>9.3</td>\n",
       "      <td>74.0</td>\n",
       "      <td>314.0</td>\n",
       "    </tr>\n",
       "  </tbody>\n",
       "</table>\n",
       "</div>"
      ],
      "text/plain": [
       "         id_individuo sexo  peso  talla  edad_dias\n",
       "389103         100620    F   4.1   96.0       14.0\n",
       "1142543        295161    F   9.3   74.0      314.0"
      ]
     },
     "execution_count": 277,
     "metadata": {},
     "output_type": "execute_result"
    }
   ],
   "source": [
    "# diferencia en talla\n",
    "df_dup_talla = df[(df[['id_individuo', 'edad_dias', 'peso']].duplicated())]\n",
    "ids_dup_talla = df_dup_talla['id_individuo']\n",
    "df_dup_talla"
   ]
  },
  {
   "cell_type": "code",
   "execution_count": 278,
   "id": "266056e6",
   "metadata": {},
   "outputs": [
    {
     "data": {
      "text/html": [
       "<div>\n",
       "<style scoped>\n",
       "    .dataframe tbody tr th:only-of-type {\n",
       "        vertical-align: middle;\n",
       "    }\n",
       "\n",
       "    .dataframe tbody tr th {\n",
       "        vertical-align: top;\n",
       "    }\n",
       "\n",
       "    .dataframe thead th {\n",
       "        text-align: right;\n",
       "    }\n",
       "</style>\n",
       "<table border=\"1\" class=\"dataframe\">\n",
       "  <thead>\n",
       "    <tr style=\"text-align: right;\">\n",
       "      <th></th>\n",
       "      <th>id_individuo</th>\n",
       "      <th>sexo</th>\n",
       "      <th>peso</th>\n",
       "      <th>talla</th>\n",
       "      <th>edad_dias</th>\n",
       "    </tr>\n",
       "  </thead>\n",
       "  <tbody>\n",
       "    <tr>\n",
       "      <th>389102</th>\n",
       "      <td>100620</td>\n",
       "      <td>F</td>\n",
       "      <td>4.1</td>\n",
       "      <td>51.0</td>\n",
       "      <td>14.0</td>\n",
       "    </tr>\n",
       "    <tr>\n",
       "      <th>389103</th>\n",
       "      <td>100620</td>\n",
       "      <td>F</td>\n",
       "      <td>4.1</td>\n",
       "      <td>96.0</td>\n",
       "      <td>14.0</td>\n",
       "    </tr>\n",
       "  </tbody>\n",
       "</table>\n",
       "</div>"
      ],
      "text/plain": [
       "        id_individuo sexo  peso  talla  edad_dias\n",
       "389102        100620    F   4.1   51.0       14.0\n",
       "389103        100620    F   4.1   96.0       14.0"
      ]
     },
     "execution_count": 278,
     "metadata": {},
     "output_type": "execute_result"
    }
   ],
   "source": [
    "df[(df['id_individuo'] == 100620) & (df['edad_dias'] == 14)]"
   ]
  },
  {
   "cell_type": "code",
   "execution_count": 83,
   "id": "dd0fb0ff",
   "metadata": {},
   "outputs": [
    {
     "data": {
      "text/html": [
       "<div>\n",
       "<style scoped>\n",
       "    .dataframe tbody tr th:only-of-type {\n",
       "        vertical-align: middle;\n",
       "    }\n",
       "\n",
       "    .dataframe tbody tr th {\n",
       "        vertical-align: top;\n",
       "    }\n",
       "\n",
       "    .dataframe thead th {\n",
       "        text-align: right;\n",
       "    }\n",
       "</style>\n",
       "<table border=\"1\" class=\"dataframe\">\n",
       "  <thead>\n",
       "    <tr style=\"text-align: right;\">\n",
       "      <th></th>\n",
       "      <th>id_individuo</th>\n",
       "      <th>sexo</th>\n",
       "      <th>peso</th>\n",
       "      <th>talla</th>\n",
       "      <th>edad_dias</th>\n",
       "    </tr>\n",
       "  </thead>\n",
       "  <tbody>\n",
       "    <tr>\n",
       "      <th>388671</th>\n",
       "      <td>100620</td>\n",
       "      <td>F</td>\n",
       "      <td>4.1</td>\n",
       "      <td>51.0</td>\n",
       "      <td>14.0</td>\n",
       "    </tr>\n",
       "    <tr>\n",
       "      <th>388672</th>\n",
       "      <td>100620</td>\n",
       "      <td>F</td>\n",
       "      <td>4.1</td>\n",
       "      <td>96.0</td>\n",
       "      <td>14.0</td>\n",
       "    </tr>\n",
       "    <tr>\n",
       "      <th>388673</th>\n",
       "      <td>100620</td>\n",
       "      <td>F</td>\n",
       "      <td>5.0</td>\n",
       "      <td>55.0</td>\n",
       "      <td>35.0</td>\n",
       "    </tr>\n",
       "    <tr>\n",
       "      <th>388674</th>\n",
       "      <td>100620</td>\n",
       "      <td>F</td>\n",
       "      <td>6.7</td>\n",
       "      <td>58.0</td>\n",
       "      <td>86.0</td>\n",
       "    </tr>\n",
       "    <tr>\n",
       "      <th>388675</th>\n",
       "      <td>100620</td>\n",
       "      <td>F</td>\n",
       "      <td>10.2</td>\n",
       "      <td>74.0</td>\n",
       "      <td>288.0</td>\n",
       "    </tr>\n",
       "    <tr>\n",
       "      <th>388676</th>\n",
       "      <td>100620</td>\n",
       "      <td>F</td>\n",
       "      <td>11.2</td>\n",
       "      <td>78.0</td>\n",
       "      <td>380.0</td>\n",
       "    </tr>\n",
       "    <tr>\n",
       "      <th>388677</th>\n",
       "      <td>100620</td>\n",
       "      <td>F</td>\n",
       "      <td>12.0</td>\n",
       "      <td>81.0</td>\n",
       "      <td>477.0</td>\n",
       "    </tr>\n",
       "    <tr>\n",
       "      <th>388678</th>\n",
       "      <td>100620</td>\n",
       "      <td>F</td>\n",
       "      <td>13.8</td>\n",
       "      <td>89.0</td>\n",
       "      <td>797.0</td>\n",
       "    </tr>\n",
       "  </tbody>\n",
       "</table>\n",
       "</div>"
      ],
      "text/plain": [
       "        id_individuo sexo  peso  talla  edad_dias\n",
       "388671        100620    F   4.1   51.0       14.0\n",
       "388672        100620    F   4.1   96.0       14.0\n",
       "388673        100620    F   5.0   55.0       35.0\n",
       "388674        100620    F   6.7   58.0       86.0\n",
       "388675        100620    F  10.2   74.0      288.0\n",
       "388676        100620    F  11.2   78.0      380.0\n",
       "388677        100620    F  12.0   81.0      477.0\n",
       "388678        100620    F  13.8   89.0      797.0"
      ]
     },
     "execution_count": 83,
     "metadata": {},
     "output_type": "execute_result"
    }
   ],
   "source": [
    "df[(df['id_individuo'] == 100620)] # el de 96 está mal"
   ]
  },
  {
   "cell_type": "code",
   "execution_count": 279,
   "id": "da40a098",
   "metadata": {},
   "outputs": [
    {
     "data": {
      "text/html": [
       "<div>\n",
       "<style scoped>\n",
       "    .dataframe tbody tr th:only-of-type {\n",
       "        vertical-align: middle;\n",
       "    }\n",
       "\n",
       "    .dataframe tbody tr th {\n",
       "        vertical-align: top;\n",
       "    }\n",
       "\n",
       "    .dataframe thead th {\n",
       "        text-align: right;\n",
       "    }\n",
       "</style>\n",
       "<table border=\"1\" class=\"dataframe\">\n",
       "  <thead>\n",
       "    <tr style=\"text-align: right;\">\n",
       "      <th></th>\n",
       "      <th>id_individuo</th>\n",
       "      <th>sexo</th>\n",
       "      <th>peso</th>\n",
       "      <th>talla</th>\n",
       "      <th>edad_dias</th>\n",
       "    </tr>\n",
       "  </thead>\n",
       "  <tbody>\n",
       "    <tr>\n",
       "      <th>1142542</th>\n",
       "      <td>295161</td>\n",
       "      <td>F</td>\n",
       "      <td>9.3</td>\n",
       "      <td>49.0</td>\n",
       "      <td>314.0</td>\n",
       "    </tr>\n",
       "    <tr>\n",
       "      <th>1142543</th>\n",
       "      <td>295161</td>\n",
       "      <td>F</td>\n",
       "      <td>9.3</td>\n",
       "      <td>74.0</td>\n",
       "      <td>314.0</td>\n",
       "    </tr>\n",
       "  </tbody>\n",
       "</table>\n",
       "</div>"
      ],
      "text/plain": [
       "         id_individuo sexo  peso  talla  edad_dias\n",
       "1142542        295161    F   9.3   49.0      314.0\n",
       "1142543        295161    F   9.3   74.0      314.0"
      ]
     },
     "execution_count": 279,
     "metadata": {},
     "output_type": "execute_result"
    }
   ],
   "source": [
    "df[(df['id_individuo'] == 295161) & (df['edad_dias'] == 314)]"
   ]
  },
  {
   "cell_type": "code",
   "execution_count": 280,
   "id": "e11e5837",
   "metadata": {},
   "outputs": [
    {
     "data": {
      "text/html": [
       "<div>\n",
       "<style scoped>\n",
       "    .dataframe tbody tr th:only-of-type {\n",
       "        vertical-align: middle;\n",
       "    }\n",
       "\n",
       "    .dataframe tbody tr th {\n",
       "        vertical-align: top;\n",
       "    }\n",
       "\n",
       "    .dataframe thead th {\n",
       "        text-align: right;\n",
       "    }\n",
       "</style>\n",
       "<table border=\"1\" class=\"dataframe\">\n",
       "  <thead>\n",
       "    <tr style=\"text-align: right;\">\n",
       "      <th></th>\n",
       "      <th>id_individuo</th>\n",
       "      <th>sexo</th>\n",
       "      <th>peso</th>\n",
       "      <th>talla</th>\n",
       "      <th>edad_dias</th>\n",
       "    </tr>\n",
       "  </thead>\n",
       "  <tbody>\n",
       "    <tr>\n",
       "      <th>1142540</th>\n",
       "      <td>295161</td>\n",
       "      <td>F</td>\n",
       "      <td>4.3</td>\n",
       "      <td>52.0</td>\n",
       "      <td>39.0</td>\n",
       "    </tr>\n",
       "    <tr>\n",
       "      <th>1142541</th>\n",
       "      <td>295161</td>\n",
       "      <td>F</td>\n",
       "      <td>5.1</td>\n",
       "      <td>56.0</td>\n",
       "      <td>69.0</td>\n",
       "    </tr>\n",
       "    <tr>\n",
       "      <th>1142542</th>\n",
       "      <td>295161</td>\n",
       "      <td>F</td>\n",
       "      <td>9.3</td>\n",
       "      <td>49.0</td>\n",
       "      <td>314.0</td>\n",
       "    </tr>\n",
       "    <tr>\n",
       "      <th>1142543</th>\n",
       "      <td>295161</td>\n",
       "      <td>F</td>\n",
       "      <td>9.3</td>\n",
       "      <td>74.0</td>\n",
       "      <td>314.0</td>\n",
       "    </tr>\n",
       "    <tr>\n",
       "      <th>1142544</th>\n",
       "      <td>295161</td>\n",
       "      <td>F</td>\n",
       "      <td>10.4</td>\n",
       "      <td>79.0</td>\n",
       "      <td>561.0</td>\n",
       "    </tr>\n",
       "    <tr>\n",
       "      <th>1142545</th>\n",
       "      <td>295161</td>\n",
       "      <td>F</td>\n",
       "      <td>11.6</td>\n",
       "      <td>84.0</td>\n",
       "      <td>749.0</td>\n",
       "    </tr>\n",
       "  </tbody>\n",
       "</table>\n",
       "</div>"
      ],
      "text/plain": [
       "         id_individuo sexo  peso  talla  edad_dias\n",
       "1142540        295161    F   4.3   52.0       39.0\n",
       "1142541        295161    F   5.1   56.0       69.0\n",
       "1142542        295161    F   9.3   49.0      314.0\n",
       "1142543        295161    F   9.3   74.0      314.0\n",
       "1142544        295161    F  10.4   79.0      561.0\n",
       "1142545        295161    F  11.6   84.0      749.0"
      ]
     },
     "execution_count": 280,
     "metadata": {},
     "output_type": "execute_result"
    }
   ],
   "source": [
    "df[(df['id_individuo'] == 295161)] # el de 49 está mal"
   ]
  },
  {
   "cell_type": "code",
   "execution_count": 281,
   "id": "fcce0c58",
   "metadata": {},
   "outputs": [],
   "source": [
    "# hago los drop necesarios\n",
    "df.drop([388672], inplace = True)\n",
    "df.drop([1141339], inplace = True)"
   ]
  },
  {
   "cell_type": "markdown",
   "id": "f55a7603",
   "metadata": {},
   "source": [
    "#### Diferencia en peso y talla"
   ]
  },
  {
   "cell_type": "code",
   "execution_count": 282,
   "id": "f5b26c40",
   "metadata": {},
   "outputs": [
    {
     "data": {
      "text/html": [
       "<div>\n",
       "<style scoped>\n",
       "    .dataframe tbody tr th:only-of-type {\n",
       "        vertical-align: middle;\n",
       "    }\n",
       "\n",
       "    .dataframe tbody tr th {\n",
       "        vertical-align: top;\n",
       "    }\n",
       "\n",
       "    .dataframe thead th {\n",
       "        text-align: right;\n",
       "    }\n",
       "</style>\n",
       "<table border=\"1\" class=\"dataframe\">\n",
       "  <thead>\n",
       "    <tr style=\"text-align: right;\">\n",
       "      <th></th>\n",
       "      <th>id_individuo</th>\n",
       "      <th>sexo</th>\n",
       "      <th>peso</th>\n",
       "      <th>talla</th>\n",
       "      <th>edad_dias</th>\n",
       "    </tr>\n",
       "  </thead>\n",
       "  <tbody>\n",
       "    <tr>\n",
       "      <th>29369</th>\n",
       "      <td>7589</td>\n",
       "      <td>M</td>\n",
       "      <td>57.5</td>\n",
       "      <td>163.0</td>\n",
       "      <td>5547.0</td>\n",
       "    </tr>\n",
       "    <tr>\n",
       "      <th>78154</th>\n",
       "      <td>20374</td>\n",
       "      <td>F</td>\n",
       "      <td>19.9</td>\n",
       "      <td>120.0</td>\n",
       "      <td>2018.0</td>\n",
       "    </tr>\n",
       "    <tr>\n",
       "      <th>143220</th>\n",
       "      <td>37146</td>\n",
       "      <td>F</td>\n",
       "      <td>57.8</td>\n",
       "      <td>155.0</td>\n",
       "      <td>5765.0</td>\n",
       "    </tr>\n",
       "    <tr>\n",
       "      <th>220755</th>\n",
       "      <td>57197</td>\n",
       "      <td>M</td>\n",
       "      <td>9.5</td>\n",
       "      <td>76.0</td>\n",
       "      <td>392.0</td>\n",
       "    </tr>\n",
       "    <tr>\n",
       "      <th>339267</th>\n",
       "      <td>87774</td>\n",
       "      <td>M</td>\n",
       "      <td>14.2</td>\n",
       "      <td>54.0</td>\n",
       "      <td>758.0</td>\n",
       "    </tr>\n",
       "    <tr>\n",
       "      <th>361459</th>\n",
       "      <td>93448</td>\n",
       "      <td>M</td>\n",
       "      <td>24.1</td>\n",
       "      <td>116.0</td>\n",
       "      <td>2248.0</td>\n",
       "    </tr>\n",
       "    <tr>\n",
       "      <th>368521</th>\n",
       "      <td>95277</td>\n",
       "      <td>F</td>\n",
       "      <td>39.5</td>\n",
       "      <td>143.0</td>\n",
       "      <td>4169.0</td>\n",
       "    </tr>\n",
       "    <tr>\n",
       "      <th>386355</th>\n",
       "      <td>99897</td>\n",
       "      <td>F</td>\n",
       "      <td>25.8</td>\n",
       "      <td>121.0</td>\n",
       "      <td>2437.0</td>\n",
       "    </tr>\n",
       "    <tr>\n",
       "      <th>417160</th>\n",
       "      <td>107879</td>\n",
       "      <td>F</td>\n",
       "      <td>34.7</td>\n",
       "      <td>139.0</td>\n",
       "      <td>3589.0</td>\n",
       "    </tr>\n",
       "    <tr>\n",
       "      <th>464175</th>\n",
       "      <td>119982</td>\n",
       "      <td>F</td>\n",
       "      <td>43.9</td>\n",
       "      <td>132.0</td>\n",
       "      <td>2877.0</td>\n",
       "    </tr>\n",
       "    <tr>\n",
       "      <th>501422</th>\n",
       "      <td>129569</td>\n",
       "      <td>M</td>\n",
       "      <td>14.6</td>\n",
       "      <td>101.0</td>\n",
       "      <td>1157.0</td>\n",
       "    </tr>\n",
       "    <tr>\n",
       "      <th>562303</th>\n",
       "      <td>145358</td>\n",
       "      <td>F</td>\n",
       "      <td>21.0</td>\n",
       "      <td>137.0</td>\n",
       "      <td>342.0</td>\n",
       "    </tr>\n",
       "    <tr>\n",
       "      <th>587594</th>\n",
       "      <td>151870</td>\n",
       "      <td>F</td>\n",
       "      <td>6.0</td>\n",
       "      <td>59.0</td>\n",
       "      <td>121.0</td>\n",
       "    </tr>\n",
       "    <tr>\n",
       "      <th>588004</th>\n",
       "      <td>151976</td>\n",
       "      <td>M</td>\n",
       "      <td>23.4</td>\n",
       "      <td>112.0</td>\n",
       "      <td>759.0</td>\n",
       "    </tr>\n",
       "    <tr>\n",
       "      <th>632161</th>\n",
       "      <td>163301</td>\n",
       "      <td>M</td>\n",
       "      <td>56.7</td>\n",
       "      <td>163.0</td>\n",
       "      <td>4708.0</td>\n",
       "    </tr>\n",
       "    <tr>\n",
       "      <th>716955</th>\n",
       "      <td>185085</td>\n",
       "      <td>F</td>\n",
       "      <td>94.7</td>\n",
       "      <td>152.0</td>\n",
       "      <td>1084.0</td>\n",
       "    </tr>\n",
       "    <tr>\n",
       "      <th>794975</th>\n",
       "      <td>205279</td>\n",
       "      <td>M</td>\n",
       "      <td>67.0</td>\n",
       "      <td>171.0</td>\n",
       "      <td>6010.0</td>\n",
       "    </tr>\n",
       "    <tr>\n",
       "      <th>894203</th>\n",
       "      <td>230953</td>\n",
       "      <td>F</td>\n",
       "      <td>269.5</td>\n",
       "      <td>138.0</td>\n",
       "      <td>2789.0</td>\n",
       "    </tr>\n",
       "    <tr>\n",
       "      <th>899173</th>\n",
       "      <td>232247</td>\n",
       "      <td>F</td>\n",
       "      <td>43.3</td>\n",
       "      <td>150.0</td>\n",
       "      <td>4302.0</td>\n",
       "    </tr>\n",
       "    <tr>\n",
       "      <th>919772</th>\n",
       "      <td>237574</td>\n",
       "      <td>F</td>\n",
       "      <td>14.7</td>\n",
       "      <td>89.0</td>\n",
       "      <td>1151.0</td>\n",
       "    </tr>\n",
       "    <tr>\n",
       "      <th>1012579</th>\n",
       "      <td>261603</td>\n",
       "      <td>F</td>\n",
       "      <td>41.3</td>\n",
       "      <td>148.0</td>\n",
       "      <td>4661.0</td>\n",
       "    </tr>\n",
       "    <tr>\n",
       "      <th>1086150</th>\n",
       "      <td>280634</td>\n",
       "      <td>F</td>\n",
       "      <td>4.7</td>\n",
       "      <td>52.0</td>\n",
       "      <td>31.0</td>\n",
       "    </tr>\n",
       "  </tbody>\n",
       "</table>\n",
       "</div>"
      ],
      "text/plain": [
       "         id_individuo sexo   peso  talla  edad_dias\n",
       "29369            7589    M   57.5  163.0     5547.0\n",
       "78154           20374    F   19.9  120.0     2018.0\n",
       "143220          37146    F   57.8  155.0     5765.0\n",
       "220755          57197    M    9.5   76.0      392.0\n",
       "339267          87774    M   14.2   54.0      758.0\n",
       "361459          93448    M   24.1  116.0     2248.0\n",
       "368521          95277    F   39.5  143.0     4169.0\n",
       "386355          99897    F   25.8  121.0     2437.0\n",
       "417160         107879    F   34.7  139.0     3589.0\n",
       "464175         119982    F   43.9  132.0     2877.0\n",
       "501422         129569    M   14.6  101.0     1157.0\n",
       "562303         145358    F   21.0  137.0      342.0\n",
       "587594         151870    F    6.0   59.0      121.0\n",
       "588004         151976    M   23.4  112.0      759.0\n",
       "632161         163301    M   56.7  163.0     4708.0\n",
       "716955         185085    F   94.7  152.0     1084.0\n",
       "794975         205279    M   67.0  171.0     6010.0\n",
       "894203         230953    F  269.5  138.0     2789.0\n",
       "899173         232247    F   43.3  150.0     4302.0\n",
       "919772         237574    F   14.7   89.0     1151.0\n",
       "1012579        261603    F   41.3  148.0     4661.0\n",
       "1086150        280634    F    4.7   52.0       31.0"
      ]
     },
     "execution_count": 282,
     "metadata": {},
     "output_type": "execute_result"
    }
   ],
   "source": [
    "# diferencia en ambos\n",
    "df_dup_ambos = df[(df[['id_individuo', 'edad_dias']].duplicated()) & (~df['id_individuo'].isin(ids_dup_talla)) & (~df['id_individuo'].isin(ids_dup_peso))]\n",
    "ids_dup_ambos = df_dup_ambos['id_individuo']\n",
    "df_dup_ambos"
   ]
  },
  {
   "cell_type": "code",
   "execution_count": 283,
   "id": "0fa2eca4",
   "metadata": {},
   "outputs": [
    {
     "data": {
      "text/plain": [
       "22"
      ]
     },
     "execution_count": 283,
     "metadata": {},
     "output_type": "execute_result"
    }
   ],
   "source": [
    "len(df_dup_ambos['id_individuo'].value_counts())"
   ]
  },
  {
   "cell_type": "code",
   "execution_count": 98,
   "id": "a35e5e1b",
   "metadata": {},
   "outputs": [
    {
     "data": {
      "text/plain": [
       "1159449"
      ]
     },
     "execution_count": 98,
     "metadata": {},
     "output_type": "execute_result"
    }
   ],
   "source": [
    "df.shape[0]"
   ]
  },
  {
   "cell_type": "code",
   "execution_count": 99,
   "id": "fa46b386",
   "metadata": {},
   "outputs": [],
   "source": [
    "#df.drop_duplicates(['id_individuo', 'edad_dias'], keep=False,inplace=True) # ELIMINAR LUEGO DE ESTABLECER EL RANGO"
   ]
  },
  {
   "cell_type": "code",
   "execution_count": 100,
   "id": "b42665d8",
   "metadata": {},
   "outputs": [
    {
     "data": {
      "text/plain": [
       "1159405"
      ]
     },
     "execution_count": 100,
     "metadata": {},
     "output_type": "execute_result"
    }
   ],
   "source": [
    "df.shape[0]"
   ]
  },
  {
   "cell_type": "markdown",
   "id": "2b98075d",
   "metadata": {},
   "source": [
    "# Análisis descriptivo\n",
    "- Peso\n",
    "- Talla"
   ]
  },
  {
   "cell_type": "code",
   "execution_count": 284,
   "id": "f0e4be1b",
   "metadata": {},
   "outputs": [
    {
     "data": {
      "text/plain": [
       "array(['5 años - 19 años', 'nacimiento - 6 meses', '6 meses - 2 años',\n",
       "       '2 años - 5 años'], dtype=object)"
      ]
     },
     "execution_count": 284,
     "metadata": {},
     "output_type": "execute_result"
    }
   ],
   "source": [
    "# defino los rangos etarios:\n",
    "# nacimiento a 6 meses \n",
    "# 6 meses a 2 años (24 meses)\n",
    "# 2 años a 5 - 24 meses a 60 meses\n",
    "# 5 a 19 (hasta 1140 meses)\n",
    "\n",
    "df_rangos = df.copy()\n",
    "\n",
    "df_rangos['rango_etario'] = df_rangos['edad_dias'].apply(lambda x: defino_rango(x))\n",
    "\n",
    "df_rangos['rango_etario'].unique() # está bien que no figuren los 'fuera de rango' porque ya los eliminé al principio"
   ]
  },
  {
   "cell_type": "code",
   "execution_count": 290,
   "id": "86507d1f",
   "metadata": {},
   "outputs": [
    {
     "data": {
      "text/plain": [
       "5 años - 19 años        35.522747\n",
       "6 meses - 2 años        25.874503\n",
       "2 años - 5 años         25.427766\n",
       "nacimiento - 6 meses    13.174984\n",
       "Name: rango_etario, dtype: float64"
      ]
     },
     "execution_count": 290,
     "metadata": {},
     "output_type": "execute_result"
    }
   ],
   "source": [
    "df_rangos['rango_etario'].value_counts(normalize=True)*100"
   ]
  },
  {
   "cell_type": "markdown",
   "id": "119ff8e5",
   "metadata": {},
   "source": [
    "### Peso"
   ]
  },
  {
   "cell_type": "code",
   "execution_count": 291,
   "id": "ea10a4d4",
   "metadata": {
    "collapsed": true
   },
   "outputs": [
    {
     "ename": "KeyboardInterrupt",
     "evalue": "",
     "output_type": "error",
     "traceback": [
      "\u001b[1;31m---------------------------------------------------------------------------\u001b[0m",
      "\u001b[1;31mKeyboardInterrupt\u001b[0m                         Traceback (most recent call last)",
      "\u001b[1;32m<ipython-input-291-aab283f09f60>\u001b[0m in \u001b[0;36m<module>\u001b[1;34m\u001b[0m\n\u001b[0;32m      3\u001b[0m \u001b[0maxs\u001b[0m\u001b[1;33m.\u001b[0m\u001b[0mset_xlabel\u001b[0m\u001b[1;33m(\u001b[0m\u001b[1;34m'Peso'\u001b[0m\u001b[1;33m)\u001b[0m\u001b[1;33m\u001b[0m\u001b[1;33m\u001b[0m\u001b[0m\n\u001b[0;32m      4\u001b[0m \u001b[1;31m#plt.savefig('images/peso_histpng')\u001b[0m\u001b[1;33m\u001b[0m\u001b[1;33m\u001b[0m\u001b[1;33m\u001b[0m\u001b[0m\n\u001b[1;32m----> 5\u001b[1;33m \u001b[0mplt\u001b[0m\u001b[1;33m.\u001b[0m\u001b[0mshow\u001b[0m\u001b[1;33m(\u001b[0m\u001b[1;33m)\u001b[0m\u001b[1;33m\u001b[0m\u001b[1;33m\u001b[0m\u001b[0m\n\u001b[0m",
      "\u001b[1;32m~\\anaconda3\\lib\\site-packages\\matplotlib\\pyplot.py\u001b[0m in \u001b[0;36mshow\u001b[1;34m(*args, **kwargs)\u001b[0m\n\u001b[0;32m    387\u001b[0m     \"\"\"\n\u001b[0;32m    388\u001b[0m     \u001b[0m_warn_if_gui_out_of_main_thread\u001b[0m\u001b[1;33m(\u001b[0m\u001b[1;33m)\u001b[0m\u001b[1;33m\u001b[0m\u001b[1;33m\u001b[0m\u001b[0m\n\u001b[1;32m--> 389\u001b[1;33m     \u001b[1;32mreturn\u001b[0m \u001b[0m_get_backend_mod\u001b[0m\u001b[1;33m(\u001b[0m\u001b[1;33m)\u001b[0m\u001b[1;33m.\u001b[0m\u001b[0mshow\u001b[0m\u001b[1;33m(\u001b[0m\u001b[1;33m*\u001b[0m\u001b[0margs\u001b[0m\u001b[1;33m,\u001b[0m \u001b[1;33m**\u001b[0m\u001b[0mkwargs\u001b[0m\u001b[1;33m)\u001b[0m\u001b[1;33m\u001b[0m\u001b[1;33m\u001b[0m\u001b[0m\n\u001b[0m\u001b[0;32m    390\u001b[0m \u001b[1;33m\u001b[0m\u001b[0m\n\u001b[0;32m    391\u001b[0m \u001b[1;33m\u001b[0m\u001b[0m\n",
      "\u001b[1;32m~\\anaconda3\\lib\\site-packages\\ipykernel\\pylab\\backend_inline.py\u001b[0m in \u001b[0;36mshow\u001b[1;34m(close, block)\u001b[0m\n\u001b[0;32m     39\u001b[0m     \u001b[1;32mtry\u001b[0m\u001b[1;33m:\u001b[0m\u001b[1;33m\u001b[0m\u001b[1;33m\u001b[0m\u001b[0m\n\u001b[0;32m     40\u001b[0m         \u001b[1;32mfor\u001b[0m \u001b[0mfigure_manager\u001b[0m \u001b[1;32min\u001b[0m \u001b[0mGcf\u001b[0m\u001b[1;33m.\u001b[0m\u001b[0mget_all_fig_managers\u001b[0m\u001b[1;33m(\u001b[0m\u001b[1;33m)\u001b[0m\u001b[1;33m:\u001b[0m\u001b[1;33m\u001b[0m\u001b[1;33m\u001b[0m\u001b[0m\n\u001b[1;32m---> 41\u001b[1;33m             display(\n\u001b[0m\u001b[0;32m     42\u001b[0m                 \u001b[0mfigure_manager\u001b[0m\u001b[1;33m.\u001b[0m\u001b[0mcanvas\u001b[0m\u001b[1;33m.\u001b[0m\u001b[0mfigure\u001b[0m\u001b[1;33m,\u001b[0m\u001b[1;33m\u001b[0m\u001b[1;33m\u001b[0m\u001b[0m\n\u001b[0;32m     43\u001b[0m                 \u001b[0mmetadata\u001b[0m\u001b[1;33m=\u001b[0m\u001b[0m_fetch_figure_metadata\u001b[0m\u001b[1;33m(\u001b[0m\u001b[0mfigure_manager\u001b[0m\u001b[1;33m.\u001b[0m\u001b[0mcanvas\u001b[0m\u001b[1;33m.\u001b[0m\u001b[0mfigure\u001b[0m\u001b[1;33m)\u001b[0m\u001b[1;33m\u001b[0m\u001b[1;33m\u001b[0m\u001b[0m\n",
      "\u001b[1;32m~\\anaconda3\\lib\\site-packages\\IPython\\core\\display.py\u001b[0m in \u001b[0;36mdisplay\u001b[1;34m(include, exclude, metadata, transient, display_id, *objs, **kwargs)\u001b[0m\n\u001b[0;32m    311\u001b[0m             \u001b[0mpublish_display_data\u001b[0m\u001b[1;33m(\u001b[0m\u001b[0mdata\u001b[0m\u001b[1;33m=\u001b[0m\u001b[0mobj\u001b[0m\u001b[1;33m,\u001b[0m \u001b[0mmetadata\u001b[0m\u001b[1;33m=\u001b[0m\u001b[0mmetadata\u001b[0m\u001b[1;33m,\u001b[0m \u001b[1;33m**\u001b[0m\u001b[0mkwargs\u001b[0m\u001b[1;33m)\u001b[0m\u001b[1;33m\u001b[0m\u001b[1;33m\u001b[0m\u001b[0m\n\u001b[0;32m    312\u001b[0m         \u001b[1;32melse\u001b[0m\u001b[1;33m:\u001b[0m\u001b[1;33m\u001b[0m\u001b[1;33m\u001b[0m\u001b[0m\n\u001b[1;32m--> 313\u001b[1;33m             \u001b[0mformat_dict\u001b[0m\u001b[1;33m,\u001b[0m \u001b[0mmd_dict\u001b[0m \u001b[1;33m=\u001b[0m \u001b[0mformat\u001b[0m\u001b[1;33m(\u001b[0m\u001b[0mobj\u001b[0m\u001b[1;33m,\u001b[0m \u001b[0minclude\u001b[0m\u001b[1;33m=\u001b[0m\u001b[0minclude\u001b[0m\u001b[1;33m,\u001b[0m \u001b[0mexclude\u001b[0m\u001b[1;33m=\u001b[0m\u001b[0mexclude\u001b[0m\u001b[1;33m)\u001b[0m\u001b[1;33m\u001b[0m\u001b[1;33m\u001b[0m\u001b[0m\n\u001b[0m\u001b[0;32m    314\u001b[0m             \u001b[1;32mif\u001b[0m \u001b[1;32mnot\u001b[0m \u001b[0mformat_dict\u001b[0m\u001b[1;33m:\u001b[0m\u001b[1;33m\u001b[0m\u001b[1;33m\u001b[0m\u001b[0m\n\u001b[0;32m    315\u001b[0m                 \u001b[1;31m# nothing to display (e.g. _ipython_display_ took over)\u001b[0m\u001b[1;33m\u001b[0m\u001b[1;33m\u001b[0m\u001b[1;33m\u001b[0m\u001b[0m\n",
      "\u001b[1;32m~\\anaconda3\\lib\\site-packages\\IPython\\core\\formatters.py\u001b[0m in \u001b[0;36mformat\u001b[1;34m(self, obj, include, exclude)\u001b[0m\n\u001b[0;32m    178\u001b[0m             \u001b[0mmd\u001b[0m \u001b[1;33m=\u001b[0m \u001b[1;32mNone\u001b[0m\u001b[1;33m\u001b[0m\u001b[1;33m\u001b[0m\u001b[0m\n\u001b[0;32m    179\u001b[0m             \u001b[1;32mtry\u001b[0m\u001b[1;33m:\u001b[0m\u001b[1;33m\u001b[0m\u001b[1;33m\u001b[0m\u001b[0m\n\u001b[1;32m--> 180\u001b[1;33m                 \u001b[0mdata\u001b[0m \u001b[1;33m=\u001b[0m \u001b[0mformatter\u001b[0m\u001b[1;33m(\u001b[0m\u001b[0mobj\u001b[0m\u001b[1;33m)\u001b[0m\u001b[1;33m\u001b[0m\u001b[1;33m\u001b[0m\u001b[0m\n\u001b[0m\u001b[0;32m    181\u001b[0m             \u001b[1;32mexcept\u001b[0m\u001b[1;33m:\u001b[0m\u001b[1;33m\u001b[0m\u001b[1;33m\u001b[0m\u001b[0m\n\u001b[0;32m    182\u001b[0m                 \u001b[1;31m# FIXME: log the exception\u001b[0m\u001b[1;33m\u001b[0m\u001b[1;33m\u001b[0m\u001b[1;33m\u001b[0m\u001b[0m\n",
      "\u001b[1;32m~\\anaconda3\\lib\\site-packages\\decorator.py\u001b[0m in \u001b[0;36mfun\u001b[1;34m(*args, **kw)\u001b[0m\n\u001b[0;32m    229\u001b[0m             \u001b[1;32mif\u001b[0m \u001b[1;32mnot\u001b[0m \u001b[0mkwsyntax\u001b[0m\u001b[1;33m:\u001b[0m\u001b[1;33m\u001b[0m\u001b[1;33m\u001b[0m\u001b[0m\n\u001b[0;32m    230\u001b[0m                 \u001b[0margs\u001b[0m\u001b[1;33m,\u001b[0m \u001b[0mkw\u001b[0m \u001b[1;33m=\u001b[0m \u001b[0mfix\u001b[0m\u001b[1;33m(\u001b[0m\u001b[0margs\u001b[0m\u001b[1;33m,\u001b[0m \u001b[0mkw\u001b[0m\u001b[1;33m,\u001b[0m \u001b[0msig\u001b[0m\u001b[1;33m)\u001b[0m\u001b[1;33m\u001b[0m\u001b[1;33m\u001b[0m\u001b[0m\n\u001b[1;32m--> 231\u001b[1;33m             \u001b[1;32mreturn\u001b[0m \u001b[0mcaller\u001b[0m\u001b[1;33m(\u001b[0m\u001b[0mfunc\u001b[0m\u001b[1;33m,\u001b[0m \u001b[1;33m*\u001b[0m\u001b[1;33m(\u001b[0m\u001b[0mextras\u001b[0m \u001b[1;33m+\u001b[0m \u001b[0margs\u001b[0m\u001b[1;33m)\u001b[0m\u001b[1;33m,\u001b[0m \u001b[1;33m**\u001b[0m\u001b[0mkw\u001b[0m\u001b[1;33m)\u001b[0m\u001b[1;33m\u001b[0m\u001b[1;33m\u001b[0m\u001b[0m\n\u001b[0m\u001b[0;32m    232\u001b[0m     \u001b[0mfun\u001b[0m\u001b[1;33m.\u001b[0m\u001b[0m__name__\u001b[0m \u001b[1;33m=\u001b[0m \u001b[0mfunc\u001b[0m\u001b[1;33m.\u001b[0m\u001b[0m__name__\u001b[0m\u001b[1;33m\u001b[0m\u001b[1;33m\u001b[0m\u001b[0m\n\u001b[0;32m    233\u001b[0m     \u001b[0mfun\u001b[0m\u001b[1;33m.\u001b[0m\u001b[0m__doc__\u001b[0m \u001b[1;33m=\u001b[0m \u001b[0mfunc\u001b[0m\u001b[1;33m.\u001b[0m\u001b[0m__doc__\u001b[0m\u001b[1;33m\u001b[0m\u001b[1;33m\u001b[0m\u001b[0m\n",
      "\u001b[1;32m~\\anaconda3\\lib\\site-packages\\IPython\\core\\formatters.py\u001b[0m in \u001b[0;36mcatch_format_error\u001b[1;34m(method, self, *args, **kwargs)\u001b[0m\n\u001b[0;32m    222\u001b[0m     \u001b[1;34m\"\"\"show traceback on failed format call\"\"\"\u001b[0m\u001b[1;33m\u001b[0m\u001b[1;33m\u001b[0m\u001b[0m\n\u001b[0;32m    223\u001b[0m     \u001b[1;32mtry\u001b[0m\u001b[1;33m:\u001b[0m\u001b[1;33m\u001b[0m\u001b[1;33m\u001b[0m\u001b[0m\n\u001b[1;32m--> 224\u001b[1;33m         \u001b[0mr\u001b[0m \u001b[1;33m=\u001b[0m \u001b[0mmethod\u001b[0m\u001b[1;33m(\u001b[0m\u001b[0mself\u001b[0m\u001b[1;33m,\u001b[0m \u001b[1;33m*\u001b[0m\u001b[0margs\u001b[0m\u001b[1;33m,\u001b[0m \u001b[1;33m**\u001b[0m\u001b[0mkwargs\u001b[0m\u001b[1;33m)\u001b[0m\u001b[1;33m\u001b[0m\u001b[1;33m\u001b[0m\u001b[0m\n\u001b[0m\u001b[0;32m    225\u001b[0m     \u001b[1;32mexcept\u001b[0m \u001b[0mNotImplementedError\u001b[0m\u001b[1;33m:\u001b[0m\u001b[1;33m\u001b[0m\u001b[1;33m\u001b[0m\u001b[0m\n\u001b[0;32m    226\u001b[0m         \u001b[1;31m# don't warn on NotImplementedErrors\u001b[0m\u001b[1;33m\u001b[0m\u001b[1;33m\u001b[0m\u001b[1;33m\u001b[0m\u001b[0m\n",
      "\u001b[1;32m~\\anaconda3\\lib\\site-packages\\IPython\\core\\formatters.py\u001b[0m in \u001b[0;36m__call__\u001b[1;34m(self, obj)\u001b[0m\n\u001b[0;32m    339\u001b[0m                 \u001b[1;32mpass\u001b[0m\u001b[1;33m\u001b[0m\u001b[1;33m\u001b[0m\u001b[0m\n\u001b[0;32m    340\u001b[0m             \u001b[1;32melse\u001b[0m\u001b[1;33m:\u001b[0m\u001b[1;33m\u001b[0m\u001b[1;33m\u001b[0m\u001b[0m\n\u001b[1;32m--> 341\u001b[1;33m                 \u001b[1;32mreturn\u001b[0m \u001b[0mprinter\u001b[0m\u001b[1;33m(\u001b[0m\u001b[0mobj\u001b[0m\u001b[1;33m)\u001b[0m\u001b[1;33m\u001b[0m\u001b[1;33m\u001b[0m\u001b[0m\n\u001b[0m\u001b[0;32m    342\u001b[0m             \u001b[1;31m# Finally look for special method names\u001b[0m\u001b[1;33m\u001b[0m\u001b[1;33m\u001b[0m\u001b[1;33m\u001b[0m\u001b[0m\n\u001b[0;32m    343\u001b[0m             \u001b[0mmethod\u001b[0m \u001b[1;33m=\u001b[0m \u001b[0mget_real_method\u001b[0m\u001b[1;33m(\u001b[0m\u001b[0mobj\u001b[0m\u001b[1;33m,\u001b[0m \u001b[0mself\u001b[0m\u001b[1;33m.\u001b[0m\u001b[0mprint_method\u001b[0m\u001b[1;33m)\u001b[0m\u001b[1;33m\u001b[0m\u001b[1;33m\u001b[0m\u001b[0m\n",
      "\u001b[1;32m~\\anaconda3\\lib\\site-packages\\IPython\\core\\pylabtools.py\u001b[0m in \u001b[0;36m<lambda>\u001b[1;34m(fig)\u001b[0m\n\u001b[0;32m    246\u001b[0m \u001b[1;33m\u001b[0m\u001b[0m\n\u001b[0;32m    247\u001b[0m     \u001b[1;32mif\u001b[0m \u001b[1;34m'png'\u001b[0m \u001b[1;32min\u001b[0m \u001b[0mformats\u001b[0m\u001b[1;33m:\u001b[0m\u001b[1;33m\u001b[0m\u001b[1;33m\u001b[0m\u001b[0m\n\u001b[1;32m--> 248\u001b[1;33m         \u001b[0mpng_formatter\u001b[0m\u001b[1;33m.\u001b[0m\u001b[0mfor_type\u001b[0m\u001b[1;33m(\u001b[0m\u001b[0mFigure\u001b[0m\u001b[1;33m,\u001b[0m \u001b[1;32mlambda\u001b[0m \u001b[0mfig\u001b[0m\u001b[1;33m:\u001b[0m \u001b[0mprint_figure\u001b[0m\u001b[1;33m(\u001b[0m\u001b[0mfig\u001b[0m\u001b[1;33m,\u001b[0m \u001b[1;34m'png'\u001b[0m\u001b[1;33m,\u001b[0m \u001b[1;33m**\u001b[0m\u001b[0mkwargs\u001b[0m\u001b[1;33m)\u001b[0m\u001b[1;33m)\u001b[0m\u001b[1;33m\u001b[0m\u001b[1;33m\u001b[0m\u001b[0m\n\u001b[0m\u001b[0;32m    249\u001b[0m     \u001b[1;32mif\u001b[0m \u001b[1;34m'retina'\u001b[0m \u001b[1;32min\u001b[0m \u001b[0mformats\u001b[0m \u001b[1;32mor\u001b[0m \u001b[1;34m'png2x'\u001b[0m \u001b[1;32min\u001b[0m \u001b[0mformats\u001b[0m\u001b[1;33m:\u001b[0m\u001b[1;33m\u001b[0m\u001b[1;33m\u001b[0m\u001b[0m\n\u001b[0;32m    250\u001b[0m         \u001b[0mpng_formatter\u001b[0m\u001b[1;33m.\u001b[0m\u001b[0mfor_type\u001b[0m\u001b[1;33m(\u001b[0m\u001b[0mFigure\u001b[0m\u001b[1;33m,\u001b[0m \u001b[1;32mlambda\u001b[0m \u001b[0mfig\u001b[0m\u001b[1;33m:\u001b[0m \u001b[0mretina_figure\u001b[0m\u001b[1;33m(\u001b[0m\u001b[0mfig\u001b[0m\u001b[1;33m,\u001b[0m \u001b[1;33m**\u001b[0m\u001b[0mkwargs\u001b[0m\u001b[1;33m)\u001b[0m\u001b[1;33m)\u001b[0m\u001b[1;33m\u001b[0m\u001b[1;33m\u001b[0m\u001b[0m\n",
      "\u001b[1;32m~\\anaconda3\\lib\\site-packages\\IPython\\core\\pylabtools.py\u001b[0m in \u001b[0;36mprint_figure\u001b[1;34m(fig, fmt, bbox_inches, **kwargs)\u001b[0m\n\u001b[0;32m    130\u001b[0m         \u001b[0mFigureCanvasBase\u001b[0m\u001b[1;33m(\u001b[0m\u001b[0mfig\u001b[0m\u001b[1;33m)\u001b[0m\u001b[1;33m\u001b[0m\u001b[1;33m\u001b[0m\u001b[0m\n\u001b[0;32m    131\u001b[0m \u001b[1;33m\u001b[0m\u001b[0m\n\u001b[1;32m--> 132\u001b[1;33m     \u001b[0mfig\u001b[0m\u001b[1;33m.\u001b[0m\u001b[0mcanvas\u001b[0m\u001b[1;33m.\u001b[0m\u001b[0mprint_figure\u001b[0m\u001b[1;33m(\u001b[0m\u001b[0mbytes_io\u001b[0m\u001b[1;33m,\u001b[0m \u001b[1;33m**\u001b[0m\u001b[0mkw\u001b[0m\u001b[1;33m)\u001b[0m\u001b[1;33m\u001b[0m\u001b[1;33m\u001b[0m\u001b[0m\n\u001b[0m\u001b[0;32m    133\u001b[0m     \u001b[0mdata\u001b[0m \u001b[1;33m=\u001b[0m \u001b[0mbytes_io\u001b[0m\u001b[1;33m.\u001b[0m\u001b[0mgetvalue\u001b[0m\u001b[1;33m(\u001b[0m\u001b[1;33m)\u001b[0m\u001b[1;33m\u001b[0m\u001b[1;33m\u001b[0m\u001b[0m\n\u001b[0;32m    134\u001b[0m     \u001b[1;32mif\u001b[0m \u001b[0mfmt\u001b[0m \u001b[1;33m==\u001b[0m \u001b[1;34m'svg'\u001b[0m\u001b[1;33m:\u001b[0m\u001b[1;33m\u001b[0m\u001b[1;33m\u001b[0m\u001b[0m\n",
      "\u001b[1;32m~\\anaconda3\\lib\\site-packages\\matplotlib\\backend_bases.py\u001b[0m in \u001b[0;36mprint_figure\u001b[1;34m(self, filename, dpi, facecolor, edgecolor, orientation, format, bbox_inches, pad_inches, bbox_extra_artists, backend, **kwargs)\u001b[0m\n\u001b[0;32m   2297\u001b[0m             \u001b[1;32mif\u001b[0m \u001b[0mbbox_inches\u001b[0m\u001b[1;33m:\u001b[0m\u001b[1;33m\u001b[0m\u001b[1;33m\u001b[0m\u001b[0m\n\u001b[0;32m   2298\u001b[0m                 \u001b[1;32mif\u001b[0m \u001b[0mbbox_inches\u001b[0m \u001b[1;33m==\u001b[0m \u001b[1;34m\"tight\"\u001b[0m\u001b[1;33m:\u001b[0m\u001b[1;33m\u001b[0m\u001b[1;33m\u001b[0m\u001b[0m\n\u001b[1;32m-> 2299\u001b[1;33m                     bbox_inches = self.figure.get_tightbbox(\n\u001b[0m\u001b[0;32m   2300\u001b[0m                         renderer, bbox_extra_artists=bbox_extra_artists)\n\u001b[0;32m   2301\u001b[0m                     \u001b[1;32mif\u001b[0m \u001b[0mpad_inches\u001b[0m \u001b[1;32mis\u001b[0m \u001b[1;32mNone\u001b[0m\u001b[1;33m:\u001b[0m\u001b[1;33m\u001b[0m\u001b[1;33m\u001b[0m\u001b[0m\n",
      "\u001b[1;32m~\\anaconda3\\lib\\site-packages\\matplotlib\\figure.py\u001b[0m in \u001b[0;36mget_tightbbox\u001b[1;34m(self, renderer, bbox_extra_artists)\u001b[0m\n\u001b[0;32m   1682\u001b[0m \u001b[1;33m\u001b[0m\u001b[0m\n\u001b[0;32m   1683\u001b[0m         \u001b[1;32mfor\u001b[0m \u001b[0ma\u001b[0m \u001b[1;32min\u001b[0m \u001b[0martists\u001b[0m\u001b[1;33m:\u001b[0m\u001b[1;33m\u001b[0m\u001b[1;33m\u001b[0m\u001b[0m\n\u001b[1;32m-> 1684\u001b[1;33m             \u001b[0mbbox\u001b[0m \u001b[1;33m=\u001b[0m \u001b[0ma\u001b[0m\u001b[1;33m.\u001b[0m\u001b[0mget_tightbbox\u001b[0m\u001b[1;33m(\u001b[0m\u001b[0mrenderer\u001b[0m\u001b[1;33m)\u001b[0m\u001b[1;33m\u001b[0m\u001b[1;33m\u001b[0m\u001b[0m\n\u001b[0m\u001b[0;32m   1685\u001b[0m             \u001b[1;32mif\u001b[0m \u001b[0mbbox\u001b[0m \u001b[1;32mis\u001b[0m \u001b[1;32mnot\u001b[0m \u001b[1;32mNone\u001b[0m \u001b[1;32mand\u001b[0m \u001b[1;33m(\u001b[0m\u001b[0mbbox\u001b[0m\u001b[1;33m.\u001b[0m\u001b[0mwidth\u001b[0m \u001b[1;33m!=\u001b[0m \u001b[1;36m0\u001b[0m \u001b[1;32mor\u001b[0m \u001b[0mbbox\u001b[0m\u001b[1;33m.\u001b[0m\u001b[0mheight\u001b[0m \u001b[1;33m!=\u001b[0m \u001b[1;36m0\u001b[0m\u001b[1;33m)\u001b[0m\u001b[1;33m:\u001b[0m\u001b[1;33m\u001b[0m\u001b[1;33m\u001b[0m\u001b[0m\n\u001b[0;32m   1686\u001b[0m                 \u001b[0mbb\u001b[0m\u001b[1;33m.\u001b[0m\u001b[0mappend\u001b[0m\u001b[1;33m(\u001b[0m\u001b[0mbbox\u001b[0m\u001b[1;33m)\u001b[0m\u001b[1;33m\u001b[0m\u001b[1;33m\u001b[0m\u001b[0m\n",
      "\u001b[1;32m~\\anaconda3\\lib\\site-packages\\matplotlib\\artist.py\u001b[0m in \u001b[0;36mget_tightbbox\u001b[1;34m(self, renderer)\u001b[0m\n\u001b[0;32m    353\u001b[0m             \u001b[0mThe\u001b[0m \u001b[0menclosing\u001b[0m \u001b[0mbounding\u001b[0m \u001b[0mbox\u001b[0m \u001b[1;33m(\u001b[0m\u001b[1;32min\u001b[0m \u001b[0mfigure\u001b[0m \u001b[0mpixel\u001b[0m \u001b[0mcoordinates\u001b[0m\u001b[1;33m)\u001b[0m\u001b[1;33m.\u001b[0m\u001b[1;33m\u001b[0m\u001b[1;33m\u001b[0m\u001b[0m\n\u001b[0;32m    354\u001b[0m         \"\"\"\n\u001b[1;32m--> 355\u001b[1;33m         \u001b[0mbbox\u001b[0m \u001b[1;33m=\u001b[0m \u001b[0mself\u001b[0m\u001b[1;33m.\u001b[0m\u001b[0mget_window_extent\u001b[0m\u001b[1;33m(\u001b[0m\u001b[0mrenderer\u001b[0m\u001b[1;33m)\u001b[0m\u001b[1;33m\u001b[0m\u001b[1;33m\u001b[0m\u001b[0m\n\u001b[0m\u001b[0;32m    356\u001b[0m         \u001b[1;32mif\u001b[0m \u001b[0mself\u001b[0m\u001b[1;33m.\u001b[0m\u001b[0mget_clip_on\u001b[0m\u001b[1;33m(\u001b[0m\u001b[1;33m)\u001b[0m\u001b[1;33m:\u001b[0m\u001b[1;33m\u001b[0m\u001b[1;33m\u001b[0m\u001b[0m\n\u001b[0;32m    357\u001b[0m             \u001b[0mclip_box\u001b[0m \u001b[1;33m=\u001b[0m \u001b[0mself\u001b[0m\u001b[1;33m.\u001b[0m\u001b[0mget_clip_box\u001b[0m\u001b[1;33m(\u001b[0m\u001b[1;33m)\u001b[0m\u001b[1;33m\u001b[0m\u001b[1;33m\u001b[0m\u001b[0m\n",
      "\u001b[1;32m~\\anaconda3\\lib\\site-packages\\matplotlib\\patches.py\u001b[0m in \u001b[0;36mget_window_extent\u001b[1;34m(self, renderer)\u001b[0m\n\u001b[0;32m    627\u001b[0m \u001b[1;33m\u001b[0m\u001b[0m\n\u001b[0;32m    628\u001b[0m     \u001b[1;32mdef\u001b[0m \u001b[0mget_window_extent\u001b[0m\u001b[1;33m(\u001b[0m\u001b[0mself\u001b[0m\u001b[1;33m,\u001b[0m \u001b[0mrenderer\u001b[0m\u001b[1;33m=\u001b[0m\u001b[1;32mNone\u001b[0m\u001b[1;33m)\u001b[0m\u001b[1;33m:\u001b[0m\u001b[1;33m\u001b[0m\u001b[1;33m\u001b[0m\u001b[0m\n\u001b[1;32m--> 629\u001b[1;33m         \u001b[1;32mreturn\u001b[0m \u001b[0mself\u001b[0m\u001b[1;33m.\u001b[0m\u001b[0mget_path\u001b[0m\u001b[1;33m(\u001b[0m\u001b[1;33m)\u001b[0m\u001b[1;33m.\u001b[0m\u001b[0mget_extents\u001b[0m\u001b[1;33m(\u001b[0m\u001b[0mself\u001b[0m\u001b[1;33m.\u001b[0m\u001b[0mget_transform\u001b[0m\u001b[1;33m(\u001b[0m\u001b[1;33m)\u001b[0m\u001b[1;33m)\u001b[0m\u001b[1;33m\u001b[0m\u001b[1;33m\u001b[0m\u001b[0m\n\u001b[0m\u001b[0;32m    630\u001b[0m \u001b[1;33m\u001b[0m\u001b[0m\n\u001b[0;32m    631\u001b[0m     \u001b[1;32mdef\u001b[0m \u001b[0m_convert_xy_units\u001b[0m\u001b[1;33m(\u001b[0m\u001b[0mself\u001b[0m\u001b[1;33m,\u001b[0m \u001b[0mxy\u001b[0m\u001b[1;33m)\u001b[0m\u001b[1;33m:\u001b[0m\u001b[1;33m\u001b[0m\u001b[1;33m\u001b[0m\u001b[0m\n",
      "\u001b[1;32m~\\anaconda3\\lib\\site-packages\\matplotlib\\path.py\u001b[0m in \u001b[0;36mget_extents\u001b[1;34m(self, transform, **kwargs)\u001b[0m\n\u001b[0;32m    612\u001b[0m         \u001b[1;32mfrom\u001b[0m \u001b[1;33m.\u001b[0m\u001b[0mtransforms\u001b[0m \u001b[1;32mimport\u001b[0m \u001b[0mBbox\u001b[0m\u001b[1;33m\u001b[0m\u001b[1;33m\u001b[0m\u001b[0m\n\u001b[0;32m    613\u001b[0m         \u001b[1;32mif\u001b[0m \u001b[0mtransform\u001b[0m \u001b[1;32mis\u001b[0m \u001b[1;32mnot\u001b[0m \u001b[1;32mNone\u001b[0m\u001b[1;33m:\u001b[0m\u001b[1;33m\u001b[0m\u001b[1;33m\u001b[0m\u001b[0m\n\u001b[1;32m--> 614\u001b[1;33m             \u001b[0mself\u001b[0m \u001b[1;33m=\u001b[0m \u001b[0mtransform\u001b[0m\u001b[1;33m.\u001b[0m\u001b[0mtransform_path\u001b[0m\u001b[1;33m(\u001b[0m\u001b[0mself\u001b[0m\u001b[1;33m)\u001b[0m\u001b[1;33m\u001b[0m\u001b[1;33m\u001b[0m\u001b[0m\n\u001b[0m\u001b[0;32m    615\u001b[0m         \u001b[1;32mif\u001b[0m \u001b[0mself\u001b[0m\u001b[1;33m.\u001b[0m\u001b[0mcodes\u001b[0m \u001b[1;32mis\u001b[0m \u001b[1;32mNone\u001b[0m\u001b[1;33m:\u001b[0m\u001b[1;33m\u001b[0m\u001b[1;33m\u001b[0m\u001b[0m\n\u001b[0;32m    616\u001b[0m             \u001b[0mxys\u001b[0m \u001b[1;33m=\u001b[0m \u001b[0mself\u001b[0m\u001b[1;33m.\u001b[0m\u001b[0mvertices\u001b[0m\u001b[1;33m\u001b[0m\u001b[1;33m\u001b[0m\u001b[0m\n",
      "\u001b[1;32m~\\anaconda3\\lib\\site-packages\\matplotlib\\transforms.py\u001b[0m in \u001b[0;36mtransform_path\u001b[1;34m(self, path)\u001b[0m\n\u001b[0;32m   1606\u001b[0m         \u001b[0mthat\u001b[0m \u001b[0mbegan\u001b[0m \u001b[1;32mas\u001b[0m \u001b[0mline\u001b[0m \u001b[0msegments\u001b[0m\u001b[1;33m.\u001b[0m\u001b[1;33m\u001b[0m\u001b[1;33m\u001b[0m\u001b[0m\n\u001b[0;32m   1607\u001b[0m         \"\"\"\n\u001b[1;32m-> 1608\u001b[1;33m         \u001b[1;32mreturn\u001b[0m \u001b[0mself\u001b[0m\u001b[1;33m.\u001b[0m\u001b[0mtransform_path_affine\u001b[0m\u001b[1;33m(\u001b[0m\u001b[0mself\u001b[0m\u001b[1;33m.\u001b[0m\u001b[0mtransform_path_non_affine\u001b[0m\u001b[1;33m(\u001b[0m\u001b[0mpath\u001b[0m\u001b[1;33m)\u001b[0m\u001b[1;33m)\u001b[0m\u001b[1;33m\u001b[0m\u001b[1;33m\u001b[0m\u001b[0m\n\u001b[0m\u001b[0;32m   1609\u001b[0m \u001b[1;33m\u001b[0m\u001b[0m\n\u001b[0;32m   1610\u001b[0m     \u001b[1;32mdef\u001b[0m \u001b[0mtransform_path_affine\u001b[0m\u001b[1;33m(\u001b[0m\u001b[0mself\u001b[0m\u001b[1;33m,\u001b[0m \u001b[0mpath\u001b[0m\u001b[1;33m)\u001b[0m\u001b[1;33m:\u001b[0m\u001b[1;33m\u001b[0m\u001b[1;33m\u001b[0m\u001b[0m\n",
      "\u001b[1;32m~\\anaconda3\\lib\\site-packages\\matplotlib\\transforms.py\u001b[0m in \u001b[0;36mtransform_path_affine\u001b[1;34m(self, path)\u001b[0m\n\u001b[0;32m   1616\u001b[0m         \u001b[0;31m`\u001b[0m\u001b[0;31m`\u001b[0m\u001b[0mtransform_path_affine\u001b[0m\u001b[1;33m(\u001b[0m\u001b[0mtransform_path_non_affine\u001b[0m\u001b[1;33m(\u001b[0m\u001b[0mvalues\u001b[0m\u001b[1;33m)\u001b[0m\u001b[1;33m)\u001b[0m\u001b[0;31m`\u001b[0m\u001b[0;31m`\u001b[0m\u001b[1;33m.\u001b[0m\u001b[1;33m\u001b[0m\u001b[1;33m\u001b[0m\u001b[0m\n\u001b[0;32m   1617\u001b[0m         \"\"\"\n\u001b[1;32m-> 1618\u001b[1;33m         \u001b[1;32mreturn\u001b[0m \u001b[0mself\u001b[0m\u001b[1;33m.\u001b[0m\u001b[0mget_affine\u001b[0m\u001b[1;33m(\u001b[0m\u001b[1;33m)\u001b[0m\u001b[1;33m.\u001b[0m\u001b[0mtransform_path_affine\u001b[0m\u001b[1;33m(\u001b[0m\u001b[0mpath\u001b[0m\u001b[1;33m)\u001b[0m\u001b[1;33m\u001b[0m\u001b[1;33m\u001b[0m\u001b[0m\n\u001b[0m\u001b[0;32m   1619\u001b[0m \u001b[1;33m\u001b[0m\u001b[0m\n\u001b[0;32m   1620\u001b[0m     \u001b[1;32mdef\u001b[0m \u001b[0mtransform_path_non_affine\u001b[0m\u001b[1;33m(\u001b[0m\u001b[0mself\u001b[0m\u001b[1;33m,\u001b[0m \u001b[0mpath\u001b[0m\u001b[1;33m)\u001b[0m\u001b[1;33m:\u001b[0m\u001b[1;33m\u001b[0m\u001b[1;33m\u001b[0m\u001b[0m\n",
      "\u001b[1;32m~\\anaconda3\\lib\\site-packages\\matplotlib\\transforms.py\u001b[0m in \u001b[0;36mget_affine\u001b[1;34m(self)\u001b[0m\n\u001b[0;32m   2444\u001b[0m             \u001b[1;32mreturn\u001b[0m \u001b[0mself\u001b[0m\u001b[1;33m.\u001b[0m\u001b[0m_b\u001b[0m\u001b[1;33m.\u001b[0m\u001b[0mget_affine\u001b[0m\u001b[1;33m(\u001b[0m\u001b[1;33m)\u001b[0m\u001b[1;33m\u001b[0m\u001b[1;33m\u001b[0m\u001b[0m\n\u001b[0;32m   2445\u001b[0m         \u001b[1;32melse\u001b[0m\u001b[1;33m:\u001b[0m\u001b[1;33m\u001b[0m\u001b[1;33m\u001b[0m\u001b[0m\n\u001b[1;32m-> 2446\u001b[1;33m             return Affine2D(np.dot(self._b.get_affine().get_matrix(),\n\u001b[0m\u001b[0;32m   2447\u001b[0m                                    self._a.get_affine().get_matrix()))\n\u001b[0;32m   2448\u001b[0m \u001b[1;33m\u001b[0m\u001b[0m\n",
      "\u001b[1;32m~\\anaconda3\\lib\\site-packages\\matplotlib\\transforms.py\u001b[0m in \u001b[0;36mget_affine\u001b[1;34m(self)\u001b[0m\n\u001b[0;32m   2444\u001b[0m             \u001b[1;32mreturn\u001b[0m \u001b[0mself\u001b[0m\u001b[1;33m.\u001b[0m\u001b[0m_b\u001b[0m\u001b[1;33m.\u001b[0m\u001b[0mget_affine\u001b[0m\u001b[1;33m(\u001b[0m\u001b[1;33m)\u001b[0m\u001b[1;33m\u001b[0m\u001b[1;33m\u001b[0m\u001b[0m\n\u001b[0;32m   2445\u001b[0m         \u001b[1;32melse\u001b[0m\u001b[1;33m:\u001b[0m\u001b[1;33m\u001b[0m\u001b[1;33m\u001b[0m\u001b[0m\n\u001b[1;32m-> 2446\u001b[1;33m             return Affine2D(np.dot(self._b.get_affine().get_matrix(),\n\u001b[0m\u001b[0;32m   2447\u001b[0m                                    self._a.get_affine().get_matrix()))\n\u001b[0;32m   2448\u001b[0m \u001b[1;33m\u001b[0m\u001b[0m\n",
      "\u001b[1;32m~\\anaconda3\\lib\\site-packages\\matplotlib\\transforms.py\u001b[0m in \u001b[0;36mget_affine\u001b[1;34m(self)\u001b[0m\n\u001b[0;32m   2444\u001b[0m             \u001b[1;32mreturn\u001b[0m \u001b[0mself\u001b[0m\u001b[1;33m.\u001b[0m\u001b[0m_b\u001b[0m\u001b[1;33m.\u001b[0m\u001b[0mget_affine\u001b[0m\u001b[1;33m(\u001b[0m\u001b[1;33m)\u001b[0m\u001b[1;33m\u001b[0m\u001b[1;33m\u001b[0m\u001b[0m\n\u001b[0;32m   2445\u001b[0m         \u001b[1;32melse\u001b[0m\u001b[1;33m:\u001b[0m\u001b[1;33m\u001b[0m\u001b[1;33m\u001b[0m\u001b[0m\n\u001b[1;32m-> 2446\u001b[1;33m             return Affine2D(np.dot(self._b.get_affine().get_matrix(),\n\u001b[0m\u001b[0;32m   2447\u001b[0m                                    self._a.get_affine().get_matrix()))\n\u001b[0;32m   2448\u001b[0m \u001b[1;33m\u001b[0m\u001b[0m\n",
      "\u001b[1;32m<__array_function__ internals>\u001b[0m in \u001b[0;36mdot\u001b[1;34m(*args, **kwargs)\u001b[0m\n",
      "\u001b[1;31mKeyboardInterrupt\u001b[0m: "
     ]
    }
   ],
   "source": [
    "fig, axs = plt.subplots(figsize = (8, 5))\n",
    "sns.histplot(x = 'peso', data=df)\n",
    "axs.set_xlabel('Peso')\n",
    "#plt.savefig('images/peso_hist.png')\n",
    "plt.show()"
   ]
  },
  {
   "cell_type": "code",
   "execution_count": 106,
   "id": "7400a58c",
   "metadata": {},
   "outputs": [
    {
     "data": {
      "image/png": "[encoded data removed]",
      "text/plain": [
       "<Figure size 576x360 with 1 Axes>"
      ]
     },
     "metadata": {
      "needs_background": "light"
     },
     "output_type": "display_data"
    }
   ],
   "source": [
    "fig, axs = plt.subplots(figsize = (8, 5))\n",
    "sns.histplot(x = 'peso', data=df[df['peso']<1000])\n",
    "axs.set_xlabel('Peso')\n",
    "#plt.savefig('images/peso_hist_zoom_300.png')\n",
    "plt.show()\n",
    "# distribución sesgada a la derecha"
   ]
  },
  {
   "cell_type": "code",
   "execution_count": null,
   "id": "88935c79",
   "metadata": {},
   "outputs": [],
   "source": [
    "fig, axs = plt.subplots(figsize = (8, 5))\n",
    "sns.histplot(x = 'peso', data=df[df['peso']<100])\n",
    "axs.set_xlabel('Peso')\n",
    "#plt.savefig('images/peso_hist_zoom_100.png')\n",
    "plt.show()"
   ]
  },
  {
   "cell_type": "code",
   "execution_count": 108,
   "id": "65e4c230",
   "metadata": {},
   "outputs": [
    {
     "data": {
      "text/html": [
       "<div>\n",
       "<style scoped>\n",
       "    .dataframe tbody tr th:only-of-type {\n",
       "        vertical-align: middle;\n",
       "    }\n",
       "\n",
       "    .dataframe tbody tr th {\n",
       "        vertical-align: top;\n",
       "    }\n",
       "\n",
       "    .dataframe thead th {\n",
       "        text-align: right;\n",
       "    }\n",
       "</style>\n",
       "<table border=\"1\" class=\"dataframe\">\n",
       "  <thead>\n",
       "    <tr style=\"text-align: right;\">\n",
       "      <th></th>\n",
       "      <th>peso</th>\n",
       "    </tr>\n",
       "  </thead>\n",
       "  <tbody>\n",
       "    <tr>\n",
       "      <th>count</th>\n",
       "      <td>1.159403e+06</td>\n",
       "    </tr>\n",
       "    <tr>\n",
       "      <th>mean</th>\n",
       "      <td>2.031048e+01</td>\n",
       "    </tr>\n",
       "    <tr>\n",
       "      <th>std</th>\n",
       "      <td>1.829603e+01</td>\n",
       "    </tr>\n",
       "    <tr>\n",
       "      <th>min</th>\n",
       "      <td>0.000000e+00</td>\n",
       "    </tr>\n",
       "    <tr>\n",
       "      <th>0.06%</th>\n",
       "      <td>2.000000e+00</td>\n",
       "    </tr>\n",
       "    <tr>\n",
       "      <th>1%</th>\n",
       "      <td>3.400000e+00</td>\n",
       "    </tr>\n",
       "    <tr>\n",
       "      <th>5%</th>\n",
       "      <td>5.200000e+00</td>\n",
       "    </tr>\n",
       "    <tr>\n",
       "      <th>10%</th>\n",
       "      <td>6.800000e+00</td>\n",
       "    </tr>\n",
       "    <tr>\n",
       "      <th>25%</th>\n",
       "      <td>9.500000e+00</td>\n",
       "    </tr>\n",
       "    <tr>\n",
       "      <th>50%</th>\n",
       "      <td>1.460000e+01</td>\n",
       "    </tr>\n",
       "    <tr>\n",
       "      <th>75%</th>\n",
       "      <td>2.370000e+01</td>\n",
       "    </tr>\n",
       "    <tr>\n",
       "      <th>90%</th>\n",
       "      <td>4.410000e+01</td>\n",
       "    </tr>\n",
       "    <tr>\n",
       "      <th>95%</th>\n",
       "      <td>5.710000e+01</td>\n",
       "    </tr>\n",
       "    <tr>\n",
       "      <th>99%</th>\n",
       "      <td>8.160000e+01</td>\n",
       "    </tr>\n",
       "    <tr>\n",
       "      <th>max</th>\n",
       "      <td>3.150000e+02</td>\n",
       "    </tr>\n",
       "  </tbody>\n",
       "</table>\n",
       "</div>"
      ],
      "text/plain": [
       "               peso\n",
       "count  1.159403e+06\n",
       "mean   2.031048e+01\n",
       "std    1.829603e+01\n",
       "min    0.000000e+00\n",
       "0.06%  2.000000e+00\n",
       "1%     3.400000e+00\n",
       "5%     5.200000e+00\n",
       "10%    6.800000e+00\n",
       "25%    9.500000e+00\n",
       "50%    1.460000e+01\n",
       "75%    2.370000e+01\n",
       "90%    4.410000e+01\n",
       "95%    5.710000e+01\n",
       "99%    8.160000e+01\n",
       "max    3.150000e+02"
      ]
     },
     "execution_count": 108,
     "metadata": {},
     "output_type": "execute_result"
    }
   ],
   "source": [
    "df[['peso']].describe(percentiles=[.0006, .01, .05, .10, .25, .5, .75, .90, .95, .99]) # max 315 \n",
    "# VOLVER A HACER ESTO CON EL RANGO YA DEFINIDO"
   ]
  },
  {
   "cell_type": "code",
   "execution_count": 109,
   "id": "d7e57a91",
   "metadata": {},
   "outputs": [
    {
     "data": {
      "text/html": [
       "<div>\n",
       "<style scoped>\n",
       "    .dataframe tbody tr th:only-of-type {\n",
       "        vertical-align: middle;\n",
       "    }\n",
       "\n",
       "    .dataframe tbody tr th {\n",
       "        vertical-align: top;\n",
       "    }\n",
       "\n",
       "    .dataframe thead th {\n",
       "        text-align: right;\n",
       "    }\n",
       "</style>\n",
       "<table border=\"1\" class=\"dataframe\">\n",
       "  <thead>\n",
       "    <tr style=\"text-align: right;\">\n",
       "      <th></th>\n",
       "      <th>peso</th>\n",
       "    </tr>\n",
       "  </thead>\n",
       "  <tbody>\n",
       "    <tr>\n",
       "      <th>count</th>\n",
       "      <td>1.159402e+06</td>\n",
       "    </tr>\n",
       "    <tr>\n",
       "      <th>mean</th>\n",
       "      <td>2.031049e+01</td>\n",
       "    </tr>\n",
       "    <tr>\n",
       "      <th>std</th>\n",
       "      <td>1.829604e+01</td>\n",
       "    </tr>\n",
       "    <tr>\n",
       "      <th>min</th>\n",
       "      <td>0.000000e+00</td>\n",
       "    </tr>\n",
       "    <tr>\n",
       "      <th>25%</th>\n",
       "      <td>9.500000e+00</td>\n",
       "    </tr>\n",
       "    <tr>\n",
       "      <th>50%</th>\n",
       "      <td>1.460000e+01</td>\n",
       "    </tr>\n",
       "    <tr>\n",
       "      <th>75%</th>\n",
       "      <td>2.370000e+01</td>\n",
       "    </tr>\n",
       "    <tr>\n",
       "      <th>max</th>\n",
       "      <td>3.150000e+02</td>\n",
       "    </tr>\n",
       "  </tbody>\n",
       "</table>\n",
       "</div>"
      ],
      "text/plain": [
       "               peso\n",
       "count  1.159402e+06\n",
       "mean   2.031049e+01\n",
       "std    1.829604e+01\n",
       "min    0.000000e+00\n",
       "25%    9.500000e+00\n",
       "50%    1.460000e+01\n",
       "75%    2.370000e+01\n",
       "max    3.150000e+02"
      ]
     },
     "execution_count": 109,
     "metadata": {},
     "output_type": "execute_result"
    }
   ],
   "source": [
    "df.drop([688190])[['peso']].describe() # 315 sigue siendo un montón - cuánto es aceptable ???"
   ]
  },
  {
   "cell_type": "code",
   "execution_count": 110,
   "id": "f0cb9ace",
   "metadata": {},
   "outputs": [
    {
     "data": {
      "text/html": [
       "<div>\n",
       "<style scoped>\n",
       "    .dataframe tbody tr th:only-of-type {\n",
       "        vertical-align: middle;\n",
       "    }\n",
       "\n",
       "    .dataframe tbody tr th {\n",
       "        vertical-align: top;\n",
       "    }\n",
       "\n",
       "    .dataframe thead th {\n",
       "        text-align: right;\n",
       "    }\n",
       "</style>\n",
       "<table border=\"1\" class=\"dataframe\">\n",
       "  <thead>\n",
       "    <tr style=\"text-align: right;\">\n",
       "      <th></th>\n",
       "      <th>id_individuo</th>\n",
       "      <th>sexo</th>\n",
       "      <th>peso</th>\n",
       "      <th>talla</th>\n",
       "      <th>edad_dias</th>\n",
       "    </tr>\n",
       "  </thead>\n",
       "  <tbody>\n",
       "    <tr>\n",
       "      <th>620535</th>\n",
       "      <td>160503</td>\n",
       "      <td>M</td>\n",
       "      <td>315.0</td>\n",
       "      <td>48.0</td>\n",
       "      <td>15.0</td>\n",
       "    </tr>\n",
       "  </tbody>\n",
       "</table>\n",
       "</div>"
      ],
      "text/plain": [
       "        id_individuo sexo   peso  talla  edad_dias\n",
       "620535        160503    M  315.0   48.0       15.0"
      ]
     },
     "execution_count": 110,
     "metadata": {},
     "output_type": "execute_result"
    }
   ],
   "source": [
    "df[df['peso'] == 315] # este podría ser un error en donde va la coma - 3 kilos para un bebé de 15 días podría ser"
   ]
  },
  {
   "cell_type": "code",
   "execution_count": 111,
   "id": "55e3ca0b",
   "metadata": {
    "scrolled": true
   },
   "outputs": [
    {
     "data": {
      "text/html": [
       "<div>\n",
       "<style scoped>\n",
       "    .dataframe tbody tr th:only-of-type {\n",
       "        vertical-align: middle;\n",
       "    }\n",
       "\n",
       "    .dataframe tbody tr th {\n",
       "        vertical-align: top;\n",
       "    }\n",
       "\n",
       "    .dataframe thead th {\n",
       "        text-align: right;\n",
       "    }\n",
       "</style>\n",
       "<table border=\"1\" class=\"dataframe\">\n",
       "  <thead>\n",
       "    <tr style=\"text-align: right;\">\n",
       "      <th></th>\n",
       "      <th>id_individuo</th>\n",
       "      <th>sexo</th>\n",
       "      <th>peso</th>\n",
       "      <th>talla</th>\n",
       "      <th>edad_dias</th>\n",
       "    </tr>\n",
       "  </thead>\n",
       "  <tbody>\n",
       "    <tr>\n",
       "      <th>864712</th>\n",
       "      <td>223512</td>\n",
       "      <td>M</td>\n",
       "      <td>309.8</td>\n",
       "      <td>127.0</td>\n",
       "      <td>3025.0</td>\n",
       "    </tr>\n",
       "  </tbody>\n",
       "</table>\n",
       "</div>"
      ],
      "text/plain": [
       "        id_individuo sexo   peso  talla  edad_dias\n",
       "864712        223512    M  309.8  127.0     3025.0"
      ]
     },
     "execution_count": 111,
     "metadata": {},
     "output_type": "execute_result"
    }
   ],
   "source": [
    "df[df['peso']==309.8] # lo mismo acá - 30 kilos sería un peso razonable para un chico de 8 años"
   ]
  },
  {
   "cell_type": "code",
   "execution_count": 112,
   "id": "ef958ad9",
   "metadata": {},
   "outputs": [
    {
     "data": {
      "text/html": [
       "<div>\n",
       "<style scoped>\n",
       "    .dataframe tbody tr th:only-of-type {\n",
       "        vertical-align: middle;\n",
       "    }\n",
       "\n",
       "    .dataframe tbody tr th {\n",
       "        vertical-align: top;\n",
       "    }\n",
       "\n",
       "    .dataframe thead th {\n",
       "        text-align: right;\n",
       "    }\n",
       "</style>\n",
       "<table border=\"1\" class=\"dataframe\">\n",
       "  <thead>\n",
       "    <tr style=\"text-align: right;\">\n",
       "      <th></th>\n",
       "      <th>id_individuo</th>\n",
       "      <th>sexo</th>\n",
       "      <th>peso</th>\n",
       "      <th>talla</th>\n",
       "      <th>edad_dias</th>\n",
       "    </tr>\n",
       "  </thead>\n",
       "  <tbody>\n",
       "    <tr>\n",
       "      <th>55131</th>\n",
       "      <td>14393</td>\n",
       "      <td>F</td>\n",
       "      <td>303.9</td>\n",
       "      <td>123.0</td>\n",
       "      <td>3207.0</td>\n",
       "    </tr>\n",
       "    <tr>\n",
       "      <th>183390</th>\n",
       "      <td>47577</td>\n",
       "      <td>F</td>\n",
       "      <td>300.9</td>\n",
       "      <td>119.0</td>\n",
       "      <td>2765.0</td>\n",
       "    </tr>\n",
       "    <tr>\n",
       "      <th>620535</th>\n",
       "      <td>160503</td>\n",
       "      <td>M</td>\n",
       "      <td>315.0</td>\n",
       "      <td>48.0</td>\n",
       "      <td>15.0</td>\n",
       "    </tr>\n",
       "    <tr>\n",
       "      <th>635403</th>\n",
       "      <td>164314</td>\n",
       "      <td>F</td>\n",
       "      <td>302.4</td>\n",
       "      <td>137.0</td>\n",
       "      <td>3569.0</td>\n",
       "    </tr>\n",
       "    <tr>\n",
       "      <th>684483</th>\n",
       "      <td>176958</td>\n",
       "      <td>M</td>\n",
       "      <td>306.0</td>\n",
       "      <td>131.0</td>\n",
       "      <td>2287.0</td>\n",
       "    </tr>\n",
       "    <tr>\n",
       "      <th>772706</th>\n",
       "      <td>199715</td>\n",
       "      <td>F</td>\n",
       "      <td>301.8</td>\n",
       "      <td>131.0</td>\n",
       "      <td>3226.0</td>\n",
       "    </tr>\n",
       "    <tr>\n",
       "      <th>779447</th>\n",
       "      <td>201446</td>\n",
       "      <td>F</td>\n",
       "      <td>305.6</td>\n",
       "      <td>50.0</td>\n",
       "      <td>16.0</td>\n",
       "    </tr>\n",
       "    <tr>\n",
       "      <th>837645</th>\n",
       "      <td>216572</td>\n",
       "      <td>F</td>\n",
       "      <td>305.9</td>\n",
       "      <td>116.0</td>\n",
       "      <td>2199.0</td>\n",
       "    </tr>\n",
       "    <tr>\n",
       "      <th>864712</th>\n",
       "      <td>223512</td>\n",
       "      <td>M</td>\n",
       "      <td>309.8</td>\n",
       "      <td>127.0</td>\n",
       "      <td>3025.0</td>\n",
       "    </tr>\n",
       "    <tr>\n",
       "      <th>989048</th>\n",
       "      <td>255719</td>\n",
       "      <td>M</td>\n",
       "      <td>304.5</td>\n",
       "      <td>124.0</td>\n",
       "      <td>2765.0</td>\n",
       "    </tr>\n",
       "    <tr>\n",
       "      <th>1072878</th>\n",
       "      <td>277477</td>\n",
       "      <td>F</td>\n",
       "      <td>300.9</td>\n",
       "      <td>125.0</td>\n",
       "      <td>2744.0</td>\n",
       "    </tr>\n",
       "    <tr>\n",
       "      <th>1081103</th>\n",
       "      <td>279607</td>\n",
       "      <td>M</td>\n",
       "      <td>303.9</td>\n",
       "      <td>135.0</td>\n",
       "      <td>3418.0</td>\n",
       "    </tr>\n",
       "    <tr>\n",
       "      <th>1095030</th>\n",
       "      <td>283208</td>\n",
       "      <td>M</td>\n",
       "      <td>300.3</td>\n",
       "      <td>132.0</td>\n",
       "      <td>3323.0</td>\n",
       "    </tr>\n",
       "    <tr>\n",
       "      <th>1154456</th>\n",
       "      <td>298551</td>\n",
       "      <td>M</td>\n",
       "      <td>300.9</td>\n",
       "      <td>118.0</td>\n",
       "      <td>2169.0</td>\n",
       "    </tr>\n",
       "  </tbody>\n",
       "</table>\n",
       "</div>"
      ],
      "text/plain": [
       "         id_individuo sexo   peso  talla  edad_dias\n",
       "55131           14393    F  303.9  123.0     3207.0\n",
       "183390          47577    F  300.9  119.0     2765.0\n",
       "620535         160503    M  315.0   48.0       15.0\n",
       "635403         164314    F  302.4  137.0     3569.0\n",
       "684483         176958    M  306.0  131.0     2287.0\n",
       "772706         199715    F  301.8  131.0     3226.0\n",
       "779447         201446    F  305.6   50.0       16.0\n",
       "837645         216572    F  305.9  116.0     2199.0\n",
       "864712         223512    M  309.8  127.0     3025.0\n",
       "989048         255719    M  304.5  124.0     2765.0\n",
       "1072878        277477    F  300.9  125.0     2744.0\n",
       "1081103        279607    M  303.9  135.0     3418.0\n",
       "1095030        283208    M  300.3  132.0     3323.0\n",
       "1154456        298551    M  300.9  118.0     2169.0"
      ]
     },
     "execution_count": 112,
     "metadata": {},
     "output_type": "execute_result"
    }
   ],
   "source": [
    "df[df['peso']>300]"
   ]
  },
  {
   "cell_type": "markdown",
   "id": "05f41c32",
   "metadata": {},
   "source": [
    "#### Por rango etario"
   ]
  },
  {
   "cell_type": "code",
   "execution_count": 294,
   "id": "02c843e6",
   "metadata": {},
   "outputs": [
    {
     "data": {
      "image/png": "[encoded data removed]",
      "text/plain": [
       "<Figure size 576x360 with 1 Axes>"
      ]
     },
     "metadata": {
      "needs_background": "light"
     },
     "output_type": "display_data"
    }
   ],
   "source": [
    "fig, axs = plt.subplots(figsize = (8, 5))\n",
    "order = ['nacimiento - 6 meses', '6 meses - 2 años', '2 años - 5 años', '5 años - 19 años']\n",
    "sns.histplot(x = 'peso', data=df_rangos[df_rangos['peso']<100], binwidth=1, hue='rango_etario',  hue_order = order, palette = sns.color_palette(\"hls\",4), fill=True)\n",
    "axs.set_xlabel('Peso')\n",
    "#plt.savefig('images/peso_rango_5.png')\n",
    "plt.show()\n",
    "# esto está bueno porque podemos ver que se ordenan perfectamente por rango etario, de nacimiento a 6 meses se encuentran en los pesos menores, y así hasta los 5 años a 19 años que se encuentran los pesos mayores"
   ]
  },
  {
   "cell_type": "code",
   "execution_count": 114,
   "id": "fb88ebf8",
   "metadata": {
    "collapsed": true
   },
   "outputs": [
    {
     "data": {
      "text/plain": [
       "'fig, axs = plt.subplots(figsize = (8, 5))\\norder = [\\'nacimiento - 6 meses\\', \\'6 meses - 2 años\\', \\'2 años - 5 años\\', \\'5 años - 10 años\\', \\'10 años - 19 años\\', \\'fuera de rango\\']\\nsns.histplot(x = \\'peso\\', data=df_rangos[df_rangos[\\'peso\\']<100], binwidth=1, hue=\\'rango_etario\\',  hue_order = order, palette = sns.color_palette(\"hls\",6), fill=True)\\naxs.set_xlabel(\\'Peso\\')\\n#plt.savefig(\\'images/peso_rango_6png\\')\\nplt.show()'"
      ]
     },
     "execution_count": 114,
     "metadata": {},
     "output_type": "execute_result"
    }
   ],
   "source": [
    "'''fig, axs = plt.subplots(figsize = (8, 5))\n",
    "order = ['nacimiento - 6 meses', '6 meses - 2 años', '2 años - 5 años', '5 años - 10 años', '10 años - 19 años', 'fuera de rango']\n",
    "sns.histplot(x = 'peso', data=df_rangos[df_rangos['peso']<100], binwidth=1, hue='rango_etario',  hue_order = order, palette = sns.color_palette(\"hls\",6), fill=True)\n",
    "axs.set_xlabel('Peso')\n",
    "#plt.savefig('images/peso_rango_6png')\n",
    "plt.show()'''"
   ]
  },
  {
   "cell_type": "code",
   "execution_count": 296,
   "id": "c21c7eb6",
   "metadata": {},
   "outputs": [
    {
     "data": {
      "image/png": "[encoded data removed]",
      "text/plain": [
       "<Figure size 576x360 with 1 Axes>"
      ]
     },
     "metadata": {
      "needs_background": "light"
     },
     "output_type": "display_data"
    }
   ],
   "source": [
    "# boxplot\n",
    "# ver de ordenar bien y agregar cositas lindas al gráfico - título, etc\n",
    "fig, axs = plt.subplots(figsize = (8, 5))\n",
    "order = ['nacimiento - 6 meses', '6 meses - 2 años', '2 años - 5 años', '5 años - 19 años']#, 'fuera de rango']\n",
    "sns.boxplot(x='rango_etario', y='peso', data=df_rangos[(df_rangos['rango_etario']!='fuera de rango')&(df_rangos['peso']<74)], order=order, palette=sns.color_palette(\"hls\",4), showfliers = False)\n",
    "axs.set_ylabel('Peso')\n",
    "axs.set_xlabel('Rango etario')\n",
    "#plt.savefig('images/peso_boxplot_rango_etario_nac_a_19.png')\n",
    "plt.show()"
   ]
  },
  {
   "cell_type": "code",
   "execution_count": 298,
   "id": "1c7afa2d",
   "metadata": {},
   "outputs": [
    {
     "data": {
      "image/png": "[encoded data removed]",
      "text/plain": [
       "<Figure size 432x360 with 1 Axes>"
      ]
     },
     "metadata": {
      "needs_background": "light"
     },
     "output_type": "display_data"
    }
   ],
   "source": [
    "# boxplot\n",
    "# ver de ordenar bien y agregar cositas lindas al gráfico - título, etc\n",
    "fig, axs = plt.subplots(figsize = (6, 5))\n",
    "order = ['nacimiento - 6 meses', '6 meses - 2 años', '2 años - 5 años']#, '5 años - 19 años', 'fuera de rango']\n",
    "sns.boxplot(x='rango_etario', y='peso', data=df_rangos[((df_rangos['rango_etario']!='fuera de rango')&(df_rangos['rango_etario']!='5 años - 19 años'))&(df_rangos['peso']<22)], order=order, palette=sns.color_palette(\"hls\",4), showfliers = False)\n",
    "axs.set_ylabel('Peso')\n",
    "axs.set_xlabel('Rango etario')\n",
    "#plt.savefig('images/peso_boxplot_rango_etario_nac_a_5.png')\n",
    "plt.show()"
   ]
  },
  {
   "cell_type": "code",
   "execution_count": 299,
   "id": "4f9b504d",
   "metadata": {},
   "outputs": [
    {
     "data": {
      "text/html": [
       "<div>\n",
       "<style scoped>\n",
       "    .dataframe tbody tr th:only-of-type {\n",
       "        vertical-align: middle;\n",
       "    }\n",
       "\n",
       "    .dataframe tbody tr th {\n",
       "        vertical-align: top;\n",
       "    }\n",
       "\n",
       "    .dataframe thead th {\n",
       "        text-align: right;\n",
       "    }\n",
       "</style>\n",
       "<table border=\"1\" class=\"dataframe\">\n",
       "  <thead>\n",
       "    <tr style=\"text-align: right;\">\n",
       "      <th></th>\n",
       "      <th>count</th>\n",
       "      <th>mean</th>\n",
       "      <th>std</th>\n",
       "      <th>min</th>\n",
       "      <th>1%</th>\n",
       "      <th>5%</th>\n",
       "      <th>10%</th>\n",
       "      <th>25%</th>\n",
       "      <th>50%</th>\n",
       "      <th>75%</th>\n",
       "      <th>90%</th>\n",
       "      <th>95%</th>\n",
       "      <th>99%</th>\n",
       "      <th>max</th>\n",
       "    </tr>\n",
       "    <tr>\n",
       "      <th>rango_etario</th>\n",
       "      <th></th>\n",
       "      <th></th>\n",
       "      <th></th>\n",
       "      <th></th>\n",
       "      <th></th>\n",
       "      <th></th>\n",
       "      <th></th>\n",
       "      <th></th>\n",
       "      <th></th>\n",
       "      <th></th>\n",
       "      <th></th>\n",
       "      <th></th>\n",
       "      <th></th>\n",
       "      <th></th>\n",
       "    </tr>\n",
       "  </thead>\n",
       "  <tbody>\n",
       "    <tr>\n",
       "      <th>2 años - 5 años</th>\n",
       "      <td>293872.0</td>\n",
       "      <td>16.356336</td>\n",
       "      <td>26.398048</td>\n",
       "      <td>1.0</td>\n",
       "      <td>9.1</td>\n",
       "      <td>10.8</td>\n",
       "      <td>11.6</td>\n",
       "      <td>12.9</td>\n",
       "      <td>14.7</td>\n",
       "      <td>16.9</td>\n",
       "      <td>19.5</td>\n",
       "      <td>21.6</td>\n",
       "      <td>42.1</td>\n",
       "      <td>12597.9</td>\n",
       "    </tr>\n",
       "    <tr>\n",
       "      <th>5 años - 19 años</th>\n",
       "      <td>410541.0</td>\n",
       "      <td>34.970817</td>\n",
       "      <td>19.421473</td>\n",
       "      <td>0.0</td>\n",
       "      <td>14.3</td>\n",
       "      <td>17.2</td>\n",
       "      <td>18.6</td>\n",
       "      <td>21.7</td>\n",
       "      <td>28.4</td>\n",
       "      <td>44.6</td>\n",
       "      <td>59.7</td>\n",
       "      <td>67.6</td>\n",
       "      <td>89.6</td>\n",
       "      <td>309.8</td>\n",
       "    </tr>\n",
       "    <tr>\n",
       "      <th>6 meses - 2 años</th>\n",
       "      <td>299035.0</td>\n",
       "      <td>10.583345</td>\n",
       "      <td>8.102997</td>\n",
       "      <td>0.0</td>\n",
       "      <td>5.8</td>\n",
       "      <td>7.1</td>\n",
       "      <td>7.6</td>\n",
       "      <td>8.6</td>\n",
       "      <td>9.7</td>\n",
       "      <td>11.1</td>\n",
       "      <td>12.4</td>\n",
       "      <td>13.5</td>\n",
       "      <td>20.9</td>\n",
       "      <td>264.6</td>\n",
       "    </tr>\n",
       "    <tr>\n",
       "      <th>nacimiento - 6 meses</th>\n",
       "      <td>152265.0</td>\n",
       "      <td>6.200462</td>\n",
       "      <td>6.159000</td>\n",
       "      <td>0.4</td>\n",
       "      <td>2.8</td>\n",
       "      <td>3.1</td>\n",
       "      <td>3.8</td>\n",
       "      <td>4.6</td>\n",
       "      <td>5.9</td>\n",
       "      <td>7.0</td>\n",
       "      <td>8.0</td>\n",
       "      <td>8.6</td>\n",
       "      <td>10.6</td>\n",
       "      <td>315.0</td>\n",
       "    </tr>\n",
       "  </tbody>\n",
       "</table>\n",
       "</div>"
      ],
      "text/plain": [
       "                         count       mean        std  min    1%    5%   10%  \\\n",
       "rango_etario                                                                  \n",
       "2 años - 5 años       293872.0  16.356336  26.398048  1.0   9.1  10.8  11.6   \n",
       "5 años - 19 años      410541.0  34.970817  19.421473  0.0  14.3  17.2  18.6   \n",
       "6 meses - 2 años      299035.0  10.583345   8.102997  0.0   5.8   7.1   7.6   \n",
       "nacimiento - 6 meses  152265.0   6.200462   6.159000  0.4   2.8   3.1   3.8   \n",
       "\n",
       "                       25%   50%   75%   90%   95%   99%      max  \n",
       "rango_etario                                                       \n",
       "2 años - 5 años       12.9  14.7  16.9  19.5  21.6  42.1  12597.9  \n",
       "5 años - 19 años      21.7  28.4  44.6  59.7  67.6  89.6    309.8  \n",
       "6 meses - 2 años       8.6   9.7  11.1  12.4  13.5  20.9    264.6  \n",
       "nacimiento - 6 meses   4.6   5.9   7.0   8.0   8.6  10.6    315.0  "
      ]
     },
     "execution_count": 299,
     "metadata": {},
     "output_type": "execute_result"
    }
   ],
   "source": [
    "df_rangos.groupby('rango_etario')['peso'].describe(percentiles=[.01, .05, .10, .25, .5, .75, .90, .95, .99])\n",
    "# VOLVER A HACER ESTO CON EL RANGO YA DEFINIDO"
   ]
  },
  {
   "cell_type": "markdown",
   "id": "afbb1dd1",
   "metadata": {},
   "source": [
    "#### Por sexo"
   ]
  },
  {
   "cell_type": "code",
   "execution_count": 118,
   "id": "ef0b5051",
   "metadata": {},
   "outputs": [
    {
     "data": {
      "image/png": "[encoded data removed]",
      "text/plain": [
       "<Figure size 576x360 with 1 Axes>"
      ]
     },
     "metadata": {
      "needs_background": "light"
     },
     "output_type": "display_data"
    }
   ],
   "source": [
    "# distribución\n",
    "fig, axs = plt.subplots(figsize = (8, 5))\n",
    "sns.histplot(x = 'peso', data=df[df['peso']<100], binwidth=1.5, hue='sexo', fill=True, kde=True)\n",
    "axs.set_xlabel('Peso')\n",
    "#plt.savefig('images/peso_hist_sexo.png')\n",
    "plt.show()\n",
    "# la distribución es prácticamente idéntica para ambos sexos\n",
    "# teniendo una distribución sesgada a la derecha"
   ]
  },
  {
   "cell_type": "code",
   "execution_count": 119,
   "id": "2ecd0088",
   "metadata": {},
   "outputs": [
    {
     "data": {
      "text/html": [
       "<div>\n",
       "<style scoped>\n",
       "    .dataframe tbody tr th:only-of-type {\n",
       "        vertical-align: middle;\n",
       "    }\n",
       "\n",
       "    .dataframe tbody tr th {\n",
       "        vertical-align: top;\n",
       "    }\n",
       "\n",
       "    .dataframe thead th {\n",
       "        text-align: right;\n",
       "    }\n",
       "</style>\n",
       "<table border=\"1\" class=\"dataframe\">\n",
       "  <thead>\n",
       "    <tr style=\"text-align: right;\">\n",
       "      <th></th>\n",
       "      <th>count</th>\n",
       "      <th>mean</th>\n",
       "      <th>std</th>\n",
       "      <th>min</th>\n",
       "      <th>25%</th>\n",
       "      <th>50%</th>\n",
       "      <th>75%</th>\n",
       "      <th>max</th>\n",
       "    </tr>\n",
       "    <tr>\n",
       "      <th>sexo</th>\n",
       "      <th></th>\n",
       "      <th></th>\n",
       "      <th></th>\n",
       "      <th></th>\n",
       "      <th></th>\n",
       "      <th></th>\n",
       "      <th></th>\n",
       "      <th></th>\n",
       "    </tr>\n",
       "  </thead>\n",
       "  <tbody>\n",
       "    <tr>\n",
       "      <th>F</th>\n",
       "      <td>585679.0</td>\n",
       "      <td>20.829853</td>\n",
       "      <td>18.902728</td>\n",
       "      <td>0.0</td>\n",
       "      <td>9.4</td>\n",
       "      <td>14.6</td>\n",
       "      <td>24.5</td>\n",
       "      <td>305.9</td>\n",
       "    </tr>\n",
       "    <tr>\n",
       "      <th>M</th>\n",
       "      <td>573724.0</td>\n",
       "      <td>19.780289</td>\n",
       "      <td>17.639454</td>\n",
       "      <td>0.0</td>\n",
       "      <td>9.7</td>\n",
       "      <td>14.5</td>\n",
       "      <td>22.8</td>\n",
       "      <td>315.0</td>\n",
       "    </tr>\n",
       "  </tbody>\n",
       "</table>\n",
       "</div>"
      ],
      "text/plain": [
       "         count       mean        std  min  25%   50%   75%    max\n",
       "sexo                                                             \n",
       "F     585679.0  20.829853  18.902728  0.0  9.4  14.6  24.5  305.9\n",
       "M     573724.0  19.780289  17.639454  0.0  9.7  14.5  22.8  315.0"
      ]
     },
     "execution_count": 119,
     "metadata": {},
     "output_type": "execute_result"
    }
   ],
   "source": [
    "df.groupby('sexo')['peso'].describe() # los estadísticos reflajan lo dicho anteriormente. \n",
    "# identificamos también un valor atípico, el máximo para F es de 12597\n",
    "# VOLVER A HACER ESTO CON EL RANGO YA DEFINIDO"
   ]
  },
  {
   "cell_type": "code",
   "execution_count": 134,
   "id": "29199b37",
   "metadata": {},
   "outputs": [
    {
     "data": {
      "image/png": "[encoded data removed]",
      "text/plain": [
       "<Figure size 576x360 with 1 Axes>"
      ]
     },
     "metadata": {
      "needs_background": "light"
     },
     "output_type": "display_data"
    }
   ],
   "source": [
    "# boxplot\n",
    "fig, axs = plt.subplots(figsize = (8, 5))\n",
    "sns.boxplot(x='sexo', y='peso', data=df[df['peso']<33], showfliers = False)\n",
    "axs.set_ylabel('Peso')\n",
    "axs.set_xlabel('Sexo')\n",
    "#plt.savefig('images/peso_boxplot_sexo.png')\n",
    "plt.show()"
   ]
  },
  {
   "cell_type": "markdown",
   "id": "07426e4a",
   "metadata": {},
   "source": [
    "### Talla"
   ]
  },
  {
   "cell_type": "code",
   "execution_count": null,
   "id": "53a1223f",
   "metadata": {},
   "outputs": [],
   "source": [
    "fig, axs = plt.subplots(figsize = (8, 5))\n",
    "sns.histplot(x = 'talla', binwidth=2, data=df)\n",
    "axs.set_xlabel('Talla')\n",
    "#plt.savefig('images/talla_hist.png')\n",
    "plt.show()"
   ]
  },
  {
   "cell_type": "code",
   "execution_count": 300,
   "id": "6a727224",
   "metadata": {},
   "outputs": [
    {
     "data": {
      "text/html": [
       "<div>\n",
       "<style scoped>\n",
       "    .dataframe tbody tr th:only-of-type {\n",
       "        vertical-align: middle;\n",
       "    }\n",
       "\n",
       "    .dataframe tbody tr th {\n",
       "        vertical-align: top;\n",
       "    }\n",
       "\n",
       "    .dataframe thead th {\n",
       "        text-align: right;\n",
       "    }\n",
       "</style>\n",
       "<table border=\"1\" class=\"dataframe\">\n",
       "  <thead>\n",
       "    <tr style=\"text-align: right;\">\n",
       "      <th></th>\n",
       "      <th>talla</th>\n",
       "    </tr>\n",
       "  </thead>\n",
       "  <tbody>\n",
       "    <tr>\n",
       "      <th>count</th>\n",
       "      <td>1.155713e+06</td>\n",
       "    </tr>\n",
       "    <tr>\n",
       "      <th>mean</th>\n",
       "      <td>9.824268e+01</td>\n",
       "    </tr>\n",
       "    <tr>\n",
       "      <th>std</th>\n",
       "      <td>3.064606e+01</td>\n",
       "    </tr>\n",
       "    <tr>\n",
       "      <th>min</th>\n",
       "      <td>1.900000e+01</td>\n",
       "    </tr>\n",
       "    <tr>\n",
       "      <th>1%</th>\n",
       "      <td>4.900000e+01</td>\n",
       "    </tr>\n",
       "    <tr>\n",
       "      <th>5%</th>\n",
       "      <td>5.600000e+01</td>\n",
       "    </tr>\n",
       "    <tr>\n",
       "      <th>10%</th>\n",
       "      <td>6.200000e+01</td>\n",
       "    </tr>\n",
       "    <tr>\n",
       "      <th>25%</th>\n",
       "      <td>7.300000e+01</td>\n",
       "    </tr>\n",
       "    <tr>\n",
       "      <th>50%</th>\n",
       "      <td>9.400000e+01</td>\n",
       "    </tr>\n",
       "    <tr>\n",
       "      <th>75%</th>\n",
       "      <td>1.190000e+02</td>\n",
       "    </tr>\n",
       "    <tr>\n",
       "      <th>90%</th>\n",
       "      <td>1.440000e+02</td>\n",
       "    </tr>\n",
       "    <tr>\n",
       "      <th>95%</th>\n",
       "      <td>1.580000e+02</td>\n",
       "    </tr>\n",
       "    <tr>\n",
       "      <th>99%</th>\n",
       "      <td>1.700000e+02</td>\n",
       "    </tr>\n",
       "    <tr>\n",
       "      <th>max</th>\n",
       "      <td>2.510000e+02</td>\n",
       "    </tr>\n",
       "  </tbody>\n",
       "</table>\n",
       "</div>"
      ],
      "text/plain": [
       "              talla\n",
       "count  1.155713e+06\n",
       "mean   9.824268e+01\n",
       "std    3.064606e+01\n",
       "min    1.900000e+01\n",
       "1%     4.900000e+01\n",
       "5%     5.600000e+01\n",
       "10%    6.200000e+01\n",
       "25%    7.300000e+01\n",
       "50%    9.400000e+01\n",
       "75%    1.190000e+02\n",
       "90%    1.440000e+02\n",
       "95%    1.580000e+02\n",
       "99%    1.700000e+02\n",
       "max    2.510000e+02"
      ]
     },
     "execution_count": 300,
     "metadata": {},
     "output_type": "execute_result"
    }
   ],
   "source": [
    "df[['talla']].describe(percentiles=[.01, .05, .10, .25, .5, .75, .90, .95, .99])\n",
    "# VOLVER A HACER ESTO CON EL RANGO YA DEFINIDO"
   ]
  },
  {
   "cell_type": "code",
   "execution_count": null,
   "id": "b0bc73a3",
   "metadata": {},
   "outputs": [],
   "source": [
    "df[df['talla'] == 251] # este valor no tiene sentido para la edad "
   ]
  },
  {
   "cell_type": "markdown",
   "id": "f491bf9b",
   "metadata": {},
   "source": [
    "#### Por rango etario"
   ]
  },
  {
   "cell_type": "code",
   "execution_count": 303,
   "id": "86308ec1",
   "metadata": {},
   "outputs": [
    {
     "data": {
      "image/png": "[encoded data removed]",
      "text/plain": [
       "<Figure size 576x360 with 1 Axes>"
      ]
     },
     "metadata": {
      "needs_background": "light"
     },
     "output_type": "display_data"
    }
   ],
   "source": [
    "fig, axs = plt.subplots(figsize = (8, 5))\n",
    "order = ['nacimiento - 6 meses', '6 meses - 2 años', '2 años - 5 años', '5 años - 19 años']#, 'fuera de rango']\n",
    "sns.histplot(x = 'talla', data=df_rangos, binwidth=2, hue='rango_etario',  hue_order = order, palette = sns.color_palette(\"hls\",4), fill=True)\n",
    "axs.set_xlabel('Talla')\n",
    "#plt.savefig('images/talla_rango_5.png')\n",
    "plt.show()"
   ]
  },
  {
   "cell_type": "code",
   "execution_count": 310,
   "id": "e0435bda",
   "metadata": {},
   "outputs": [
    {
     "data": {
      "text/plain": [
       "6 meses - 2 años        0.258745\n",
       "2 años - 5 años         0.254278\n",
       "5 años - 19 años        0.240015\n",
       "nacimiento - 6 meses    0.131750\n",
       "10 años - 19 años       0.115213\n",
       "Name: rango_etario, dtype: float64"
      ]
     },
     "execution_count": 310,
     "metadata": {},
     "output_type": "execute_result"
    }
   ],
   "source": [
    "df_rangos_extra['rango_etario'].value_counts(normalize=True)"
   ]
  },
  {
   "cell_type": "code",
   "execution_count": 314,
   "id": "8ad444b3",
   "metadata": {},
   "outputs": [
    {
     "data": {
      "image/png": "[encoded data removed]",
      "text/plain": [
       "<Figure size 576x360 with 1 Axes>"
      ]
     },
     "metadata": {
      "needs_background": "light"
     },
     "output_type": "display_data"
    }
   ],
   "source": [
    "# 5 a 19 años subdividido\n",
    "df_rangos_extra = df.copy()\n",
    "df_rangos_extra['rango_etario'] = df_rangos_extra['edad_dias'].apply(lambda x: defino_rango_extra(x))\n",
    "\n",
    "\n",
    "fig, axs = plt.subplots(figsize = (8, 5))\n",
    "order = ['nacimiento - 6 meses', '6 meses - 2 años', '2 años - 5 años', '5 años - 10 años', '10 años - 19 años']#, 'fuera de rango']\n",
    "sns.histplot(x = 'talla', data=df_rangos_extra, binwidth=2, hue='rango_etario',  hue_order = order, palette = sns.color_palette(\"hls\",5), fill=True)\n",
    "axs.set_xlabel('Talla')\n",
    "#plt.savefig('images/talla_rango_6.png')\n",
    "plt.show()"
   ]
  },
  {
   "cell_type": "code",
   "execution_count": 316,
   "id": "28fea6bb",
   "metadata": {},
   "outputs": [
    {
     "data": {
      "image/png": "[encoded data removed]",
      "text/plain": [
       "<Figure size 432x360 with 1 Axes>"
      ]
     },
     "metadata": {
      "needs_background": "light"
     },
     "output_type": "display_data"
    }
   ],
   "source": [
    "fig, axs = plt.subplots(figsize = (6, 5))\n",
    "order = ['nacimiento - 6 meses', '6 meses - 2 años', '2 años - 5 años']#, '5 años - 19 años', 'fuera de rango']\n",
    "sns.boxplot(x='rango_etario', y='talla', data=df_rangos[((df_rangos['rango_etario']!='fuera de rango')&(df_rangos['rango_etario']!='5 años - 19 años')) & (df_rangos['talla']<200)], order=order, palette=sns.color_palette(\"hls\",4), showfliers = False)\n",
    "axs.set_ylabel('Talla')\n",
    "axs.set_xlabel('Rango etario')\n",
    "#plt.savefig('images/talla_boxplot_rango_etario_nac_a_5.png')\n",
    "plt.show()"
   ]
  },
  {
   "cell_type": "code",
   "execution_count": 317,
   "id": "47f2926b",
   "metadata": {},
   "outputs": [
    {
     "data": {
      "image/png": "[encoded data removed]",
      "text/plain": [
       "<Figure size 576x360 with 1 Axes>"
      ]
     },
     "metadata": {
      "needs_background": "light"
     },
     "output_type": "display_data"
    }
   ],
   "source": [
    "fig, axs = plt.subplots(figsize = (8, 5))\n",
    "order = ['nacimiento - 6 meses', '6 meses - 2 años', '2 años - 5 años', '5 años - 19 años']#, 'fuera de rango']\n",
    "sns.boxplot(x='rango_etario', y='talla', data=df_rangos[(df_rangos['rango_etario']!='fuera de rango') & (df_rangos['talla']<200)], order=order, palette=sns.color_palette(\"hls\",4), showfliers = False)\n",
    "axs.set_ylabel('Talla')\n",
    "axs.set_xlabel('Rango etario')\n",
    "#plt.savefig('images/talla_boxplot_rango_etario_nac_a_19.png')\n",
    "plt.show()"
   ]
  },
  {
   "cell_type": "code",
   "execution_count": 318,
   "id": "af30de54",
   "metadata": {},
   "outputs": [
    {
     "data": {
      "text/html": [
       "<div>\n",
       "<style scoped>\n",
       "    .dataframe tbody tr th:only-of-type {\n",
       "        vertical-align: middle;\n",
       "    }\n",
       "\n",
       "    .dataframe tbody tr th {\n",
       "        vertical-align: top;\n",
       "    }\n",
       "\n",
       "    .dataframe thead th {\n",
       "        text-align: right;\n",
       "    }\n",
       "</style>\n",
       "<table border=\"1\" class=\"dataframe\">\n",
       "  <thead>\n",
       "    <tr style=\"text-align: right;\">\n",
       "      <th></th>\n",
       "      <th>count</th>\n",
       "      <th>mean</th>\n",
       "      <th>std</th>\n",
       "      <th>min</th>\n",
       "      <th>1%</th>\n",
       "      <th>5%</th>\n",
       "      <th>10%</th>\n",
       "      <th>25%</th>\n",
       "      <th>50%</th>\n",
       "      <th>75%</th>\n",
       "      <th>90%</th>\n",
       "      <th>95%</th>\n",
       "      <th>99%</th>\n",
       "      <th>max</th>\n",
       "    </tr>\n",
       "    <tr>\n",
       "      <th>rango_etario</th>\n",
       "      <th></th>\n",
       "      <th></th>\n",
       "      <th></th>\n",
       "      <th></th>\n",
       "      <th></th>\n",
       "      <th></th>\n",
       "      <th></th>\n",
       "      <th></th>\n",
       "      <th></th>\n",
       "      <th></th>\n",
       "      <th></th>\n",
       "      <th></th>\n",
       "      <th></th>\n",
       "      <th></th>\n",
       "    </tr>\n",
       "  </thead>\n",
       "  <tbody>\n",
       "    <tr>\n",
       "      <th>2 años - 5 años</th>\n",
       "      <td>293872.0</td>\n",
       "      <td>95.873765</td>\n",
       "      <td>10.518664</td>\n",
       "      <td>19.0</td>\n",
       "      <td>69.0</td>\n",
       "      <td>82.0</td>\n",
       "      <td>85.0</td>\n",
       "      <td>89.0</td>\n",
       "      <td>96.0</td>\n",
       "      <td>102.0</td>\n",
       "      <td>108.0</td>\n",
       "      <td>111.0</td>\n",
       "      <td>121.0</td>\n",
       "      <td>232.0</td>\n",
       "    </tr>\n",
       "    <tr>\n",
       "      <th>5 años - 19 años</th>\n",
       "      <td>410541.0</td>\n",
       "      <td>131.626848</td>\n",
       "      <td>20.063998</td>\n",
       "      <td>19.0</td>\n",
       "      <td>95.0</td>\n",
       "      <td>107.0</td>\n",
       "      <td>109.0</td>\n",
       "      <td>116.0</td>\n",
       "      <td>127.0</td>\n",
       "      <td>147.0</td>\n",
       "      <td>161.0</td>\n",
       "      <td>167.0</td>\n",
       "      <td>175.0</td>\n",
       "      <td>247.0</td>\n",
       "    </tr>\n",
       "    <tr>\n",
       "      <th>6 meses - 2 años</th>\n",
       "      <td>299035.0</td>\n",
       "      <td>74.838939</td>\n",
       "      <td>8.342664</td>\n",
       "      <td>19.0</td>\n",
       "      <td>56.0</td>\n",
       "      <td>64.0</td>\n",
       "      <td>66.0</td>\n",
       "      <td>70.0</td>\n",
       "      <td>74.0</td>\n",
       "      <td>79.0</td>\n",
       "      <td>84.0</td>\n",
       "      <td>87.0</td>\n",
       "      <td>96.0</td>\n",
       "      <td>251.0</td>\n",
       "    </tr>\n",
       "    <tr>\n",
       "      <th>nacimiento - 6 meses</th>\n",
       "      <td>152265.0</td>\n",
       "      <td>58.766263</td>\n",
       "      <td>6.558171</td>\n",
       "      <td>19.0</td>\n",
       "      <td>46.0</td>\n",
       "      <td>49.0</td>\n",
       "      <td>51.0</td>\n",
       "      <td>54.0</td>\n",
       "      <td>59.0</td>\n",
       "      <td>63.0</td>\n",
       "      <td>66.0</td>\n",
       "      <td>67.0</td>\n",
       "      <td>72.0</td>\n",
       "      <td>181.0</td>\n",
       "    </tr>\n",
       "  </tbody>\n",
       "</table>\n",
       "</div>"
      ],
      "text/plain": [
       "                         count        mean        std   min    1%     5%  \\\n",
       "rango_etario                                                               \n",
       "2 años - 5 años       293872.0   95.873765  10.518664  19.0  69.0   82.0   \n",
       "5 años - 19 años      410541.0  131.626848  20.063998  19.0  95.0  107.0   \n",
       "6 meses - 2 años      299035.0   74.838939   8.342664  19.0  56.0   64.0   \n",
       "nacimiento - 6 meses  152265.0   58.766263   6.558171  19.0  46.0   49.0   \n",
       "\n",
       "                        10%    25%    50%    75%    90%    95%    99%    max  \n",
       "rango_etario                                                                  \n",
       "2 años - 5 años        85.0   89.0   96.0  102.0  108.0  111.0  121.0  232.0  \n",
       "5 años - 19 años      109.0  116.0  127.0  147.0  161.0  167.0  175.0  247.0  \n",
       "6 meses - 2 años       66.0   70.0   74.0   79.0   84.0   87.0   96.0  251.0  \n",
       "nacimiento - 6 meses   51.0   54.0   59.0   63.0   66.0   67.0   72.0  181.0  "
      ]
     },
     "execution_count": 318,
     "metadata": {},
     "output_type": "execute_result"
    }
   ],
   "source": [
    "df_rangos.groupby('rango_etario')['talla'].describe(percentiles=[.01, .05, .10, .25, .5, .75, .90, .95, .99])\n",
    "# VOLVER A HACER ESTO CON EL RANGO YA DEFINIDO"
   ]
  },
  {
   "cell_type": "markdown",
   "id": "db1bdace",
   "metadata": {},
   "source": [
    "#### Por sexo"
   ]
  },
  {
   "cell_type": "code",
   "execution_count": 172,
   "id": "24148dbb",
   "metadata": {},
   "outputs": [
    {
     "data": {
      "image/png": "[encoded data removed]",
      "text/plain": [
       "<Figure size 576x360 with 1 Axes>"
      ]
     },
     "metadata": {
      "needs_background": "light"
     },
     "output_type": "display_data"
    }
   ],
   "source": [
    "# distribución\n",
    "fig, axs = plt.subplots(figsize = (8, 5))\n",
    "sns.histplot(x = 'talla', data=df, binwidth=2, hue='sexo', fill=True, kde=True)\n",
    "axs.set_xlabel('Talla')\n",
    "#plt.savefig('images/talla_hist_sexo.png')\n",
    "plt.show()\n",
    "# vemos que la ditribución para ambos sexos se comporta de forma similar, con una diferencia al rededor de los 160 cm"
   ]
  },
  {
   "cell_type": "code",
   "execution_count": null,
   "id": "1efede4a",
   "metadata": {},
   "outputs": [],
   "source": [
    "df.groupby('sexo')['talla'].describe() # los estadísticos reflejan lo mismo\n",
    "# VOLVER A HACER ESTO CON EL RANGO YA DEFINIDO"
   ]
  },
  {
   "cell_type": "code",
   "execution_count": 176,
   "id": "19e9fab2",
   "metadata": {},
   "outputs": [
    {
     "data": {
      "image/png": "[encoded data removed]",
      "text/plain": [
       "<Figure size 576x360 with 1 Axes>"
      ]
     },
     "metadata": {
      "needs_background": "light"
     },
     "output_type": "display_data"
    }
   ],
   "source": [
    "# boxplot\n",
    "fig, axs = plt.subplots(figsize = (8, 5))\n",
    "sns.boxplot(x='sexo', y='talla', data=df[df['talla']<200], showfliers = False)\n",
    "axs.set_ylabel('Talla')\n",
    "axs.set_xlabel('Sexo')\n",
    "#plt.savefig('images/talla_boxplot_sexo.png')\n",
    "plt.show()"
   ]
  },
  {
   "cell_type": "markdown",
   "id": "8b72fb31",
   "metadata": {},
   "source": [
    "# Z-scores\n",
    "- **HAZ:** talla para la edad\n",
    "- **WAZ:** peso para la edad\n",
    "- **BMIZ:** índice de masa corporal para la edad"
   ]
  },
  {
   "cell_type": "code",
   "execution_count": 1580,
   "id": "d8966999",
   "metadata": {},
   "outputs": [],
   "source": [
    "# The \"include_cdc\" option will enable CDC measurements for children >5 years.\n",
    "\n",
    "calculator = Calculator(adjust_height_data=False, adjust_weight_scores=False,\n",
    "                       include_cdc=True, logger_name='pygrowup',\n",
    "                       log_level='INFO')"
   ]
  },
  {
   "cell_type": "code",
   "execution_count": 1581,
   "id": "d9ac019c",
   "metadata": {},
   "outputs": [],
   "source": [
    "# Utiliza edad en meses\n",
    "df['edad_meses'] = round(df['edad_dias']/30.5,1) # a cuanto redondeamos ???"
   ]
  },
  {
   "cell_type": "code",
   "execution_count": 1582,
   "id": "613af303",
   "metadata": {},
   "outputs": [],
   "source": [
    "# Elimino los que tienen peso = 0\n",
    "df = df[df['peso']>0]"
   ]
  },
  {
   "cell_type": "code",
   "execution_count": 1583,
   "id": "cc32f1b8",
   "metadata": {},
   "outputs": [
    {
     "data": {
      "text/plain": [
       "1159397"
      ]
     },
     "execution_count": 1583,
     "metadata": {},
     "output_type": "execute_result"
    }
   ],
   "source": [
    "df.shape[0]"
   ]
  },
  {
   "cell_type": "code",
   "execution_count": 1584,
   "id": "02bd59ec",
   "metadata": {},
   "outputs": [
    {
     "data": {
      "text/plain": [
       "299985"
      ]
     },
     "execution_count": 1584,
     "metadata": {},
     "output_type": "execute_result"
    }
   ],
   "source": [
    "df['id_individuo'].nunique()"
   ]
  },
  {
   "cell_type": "code",
   "execution_count": 1585,
   "id": "d997c3de",
   "metadata": {},
   "outputs": [
    {
     "data": {
      "text/plain": [
       "0.1729799914930696"
      ]
     },
     "execution_count": 1585,
     "metadata": {},
     "output_type": "execute_result"
    }
   ],
   "source": [
    "((shape_original - df.shape[0]) *100) / shape_original"
   ]
  },
  {
   "cell_type": "code",
   "execution_count": 1586,
   "id": "03d6020d",
   "metadata": {},
   "outputs": [],
   "source": [
    "# Calculo la masa corporal - TIENE QUE ESTAR EN KG/M2\n",
    "df['masa_corporal'] = round(df['peso'] / ((df['talla']/100)**2),2) "
   ]
  },
  {
   "cell_type": "code",
   "execution_count": 1587,
   "id": "6587e0a5",
   "metadata": {},
   "outputs": [
    {
     "data": {
      "text/plain": [
       "count    1.159397e+06\n",
       "mean     1.878048e+01\n",
       "std      1.930422e+01\n",
       "min      1.700000e-01\n",
       "25%      1.562000e+01\n",
       "50%      1.694000e+01\n",
       "75%      1.891000e+01\n",
       "max      3.230000e+03\n",
       "Name: masa_corporal, dtype: float64"
      ]
     },
     "execution_count": 1587,
     "metadata": {},
     "output_type": "execute_result"
    }
   ],
   "source": [
    "df['masa_corporal'].describe()"
   ]
  },
  {
   "cell_type": "code",
   "execution_count": 1588,
   "id": "15e8db14",
   "metadata": {},
   "outputs": [
    {
     "data": {
      "text/plain": [
       "0.17"
      ]
     },
     "execution_count": 1588,
     "metadata": {},
     "output_type": "execute_result"
    }
   ],
   "source": [
    "df['masa_corporal'].min()"
   ]
  },
  {
   "cell_type": "code",
   "execution_count": 1589,
   "id": "a5c62776",
   "metadata": {},
   "outputs": [
    {
     "data": {
      "text/plain": [
       "3230.0"
      ]
     },
     "execution_count": 1589,
     "metadata": {},
     "output_type": "execute_result"
    }
   ],
   "source": [
    "df['masa_corporal'].max()"
   ]
  },
  {
   "cell_type": "code",
   "execution_count": 1590,
   "id": "0a1a62f5",
   "metadata": {},
   "outputs": [
    {
     "data": {
      "text/plain": [
       "24245"
      ]
     },
     "execution_count": 1590,
     "metadata": {},
     "output_type": "execute_result"
    }
   ],
   "source": [
    "df[(df['masa_corporal']>30)].shape[0]"
   ]
  },
  {
   "cell_type": "code",
   "execution_count": 1591,
   "id": "35abaaab",
   "metadata": {},
   "outputs": [
    {
     "data": {
      "text/plain": [
       "1159397"
      ]
     },
     "execution_count": 1591,
     "metadata": {},
     "output_type": "execute_result"
    }
   ],
   "source": [
    "df.shape[0]"
   ]
  },
  {
   "cell_type": "code",
   "execution_count": 1592,
   "id": "fc8da097",
   "metadata": {},
   "outputs": [
    {
     "data": {
      "text/plain": [
       "2.0911732564427887"
      ]
     },
     "execution_count": 1592,
     "metadata": {},
     "output_type": "execute_result"
    }
   ],
   "source": [
    "(24245 * 100) / 1159397"
   ]
  },
  {
   "cell_type": "code",
   "execution_count": 1593,
   "id": "009cedef",
   "metadata": {},
   "outputs": [
    {
     "data": {
      "text/plain": [
       "47.59071980963713"
      ]
     },
     "execution_count": 1593,
     "metadata": {},
     "output_type": "execute_result"
    }
   ],
   "source": [
    "8/(0.41**2)"
   ]
  },
  {
   "cell_type": "code",
   "execution_count": 1594,
   "id": "df2c8fa6",
   "metadata": {},
   "outputs": [
    {
     "data": {
      "text/html": [
       "<div>\n",
       "<style scoped>\n",
       "    .dataframe tbody tr th:only-of-type {\n",
       "        vertical-align: middle;\n",
       "    }\n",
       "\n",
       "    .dataframe tbody tr th {\n",
       "        vertical-align: top;\n",
       "    }\n",
       "\n",
       "    .dataframe thead th {\n",
       "        text-align: right;\n",
       "    }\n",
       "</style>\n",
       "<table border=\"1\" class=\"dataframe\">\n",
       "  <thead>\n",
       "    <tr style=\"text-align: right;\">\n",
       "      <th></th>\n",
       "      <th>id_individuo</th>\n",
       "      <th>sexo</th>\n",
       "      <th>peso</th>\n",
       "      <th>talla</th>\n",
       "      <th>edad_dias</th>\n",
       "      <th>edad_meses</th>\n",
       "      <th>masa_corporal</th>\n",
       "    </tr>\n",
       "  </thead>\n",
       "  <tbody>\n",
       "    <tr>\n",
       "      <th>95</th>\n",
       "      <td>25</td>\n",
       "      <td>M</td>\n",
       "      <td>208.1</td>\n",
       "      <td>114.0</td>\n",
       "      <td>2121.0</td>\n",
       "      <td>69.5</td>\n",
       "      <td>160.13</td>\n",
       "    </tr>\n",
       "    <tr>\n",
       "      <th>224</th>\n",
       "      <td>60</td>\n",
       "      <td>M</td>\n",
       "      <td>106.7</td>\n",
       "      <td>127.0</td>\n",
       "      <td>1087.0</td>\n",
       "      <td>35.6</td>\n",
       "      <td>66.15</td>\n",
       "    </tr>\n",
       "    <tr>\n",
       "      <th>654</th>\n",
       "      <td>173</td>\n",
       "      <td>F</td>\n",
       "      <td>199.9</td>\n",
       "      <td>99.0</td>\n",
       "      <td>1159.0</td>\n",
       "      <td>38.0</td>\n",
       "      <td>203.96</td>\n",
       "    </tr>\n",
       "    <tr>\n",
       "      <th>703</th>\n",
       "      <td>187</td>\n",
       "      <td>F</td>\n",
       "      <td>36.3</td>\n",
       "      <td>63.0</td>\n",
       "      <td>3560.0</td>\n",
       "      <td>116.7</td>\n",
       "      <td>91.46</td>\n",
       "    </tr>\n",
       "    <tr>\n",
       "      <th>763</th>\n",
       "      <td>206</td>\n",
       "      <td>M</td>\n",
       "      <td>8.5</td>\n",
       "      <td>41.0</td>\n",
       "      <td>197.0</td>\n",
       "      <td>6.5</td>\n",
       "      <td>50.57</td>\n",
       "    </tr>\n",
       "    <tr>\n",
       "      <th>...</th>\n",
       "      <td>...</td>\n",
       "      <td>...</td>\n",
       "      <td>...</td>\n",
       "      <td>...</td>\n",
       "      <td>...</td>\n",
       "      <td>...</td>\n",
       "      <td>...</td>\n",
       "    </tr>\n",
       "    <tr>\n",
       "      <th>1159818</th>\n",
       "      <td>299903</td>\n",
       "      <td>F</td>\n",
       "      <td>132.6</td>\n",
       "      <td>87.0</td>\n",
       "      <td>619.0</td>\n",
       "      <td>20.3</td>\n",
       "      <td>175.19</td>\n",
       "    </tr>\n",
       "    <tr>\n",
       "      <th>1159848</th>\n",
       "      <td>299909</td>\n",
       "      <td>M</td>\n",
       "      <td>104.0</td>\n",
       "      <td>75.0</td>\n",
       "      <td>364.0</td>\n",
       "      <td>11.9</td>\n",
       "      <td>184.89</td>\n",
       "    </tr>\n",
       "    <tr>\n",
       "      <th>1160089</th>\n",
       "      <td>299975</td>\n",
       "      <td>M</td>\n",
       "      <td>33.6</td>\n",
       "      <td>70.0</td>\n",
       "      <td>2733.0</td>\n",
       "      <td>89.6</td>\n",
       "      <td>68.57</td>\n",
       "    </tr>\n",
       "    <tr>\n",
       "      <th>1160124</th>\n",
       "      <td>299984</td>\n",
       "      <td>M</td>\n",
       "      <td>65.0</td>\n",
       "      <td>62.0</td>\n",
       "      <td>127.0</td>\n",
       "      <td>4.2</td>\n",
       "      <td>169.09</td>\n",
       "    </tr>\n",
       "    <tr>\n",
       "      <th>1160177</th>\n",
       "      <td>300000</td>\n",
       "      <td>F</td>\n",
       "      <td>140.1</td>\n",
       "      <td>93.0</td>\n",
       "      <td>1210.0</td>\n",
       "      <td>39.7</td>\n",
       "      <td>161.98</td>\n",
       "    </tr>\n",
       "  </tbody>\n",
       "</table>\n",
       "<p>9271 rows × 7 columns</p>\n",
       "</div>"
      ],
      "text/plain": [
       "         id_individuo sexo   peso  talla  edad_dias  edad_meses  masa_corporal\n",
       "95                 25    M  208.1  114.0     2121.0        69.5         160.13\n",
       "224                60    M  106.7  127.0     1087.0        35.6          66.15\n",
       "654               173    F  199.9   99.0     1159.0        38.0         203.96\n",
       "703               187    F   36.3   63.0     3560.0       116.7          91.46\n",
       "763               206    M    8.5   41.0      197.0         6.5          50.57\n",
       "...               ...  ...    ...    ...        ...         ...            ...\n",
       "1159818        299903    F  132.6   87.0      619.0        20.3         175.19\n",
       "1159848        299909    M  104.0   75.0      364.0        11.9         184.89\n",
       "1160089        299975    M   33.6   70.0     2733.0        89.6          68.57\n",
       "1160124        299984    M   65.0   62.0      127.0         4.2         169.09\n",
       "1160177        300000    F  140.1   93.0     1210.0        39.7         161.98\n",
       "\n",
       "[9271 rows x 7 columns]"
      ]
     },
     "execution_count": 1594,
     "metadata": {},
     "output_type": "execute_result"
    }
   ],
   "source": [
    "df[df['masa_corporal']>50]"
   ]
  },
  {
   "cell_type": "code",
   "execution_count": 1595,
   "id": "9b85fe54",
   "metadata": {},
   "outputs": [
    {
     "data": {
      "text/plain": [
       "0.7985149034876693"
      ]
     },
     "execution_count": 1595,
     "metadata": {},
     "output_type": "execute_result"
    }
   ],
   "source": [
    "(9274 * 100) / 1161406"
   ]
  },
  {
   "cell_type": "code",
   "execution_count": 1596,
   "id": "9eff38af",
   "metadata": {},
   "outputs": [
    {
     "data": {
      "image/png": "[encoded data removed]",
      "text/plain": [
       "<Figure size 576x360 with 1 Axes>"
      ]
     },
     "metadata": {
      "needs_background": "light"
     },
     "output_type": "display_data"
    }
   ],
   "source": [
    "fig, axs = plt.subplots(figsize = (8, 5))\n",
    "sns.histplot(x = 'masa_corporal', data=df[df['masa_corporal']<50])\n",
    "axs.set_xlabel('Masa corporal')\n",
    "#plt.savefig('images/hist_masa_corporal.png')\n",
    "plt.show()"
   ]
  },
  {
   "cell_type": "markdown",
   "id": "cde54f76",
   "metadata": {},
   "source": [
    "#### HAZ"
   ]
  },
  {
   "cell_type": "code",
   "execution_count": 1597,
   "id": "4538fafe",
   "metadata": {},
   "outputs": [
    {
     "data": {
      "text/plain": [
       "Decimal('-2.54')"
      ]
     },
     "execution_count": 1597,
     "metadata": {},
     "output_type": "execute_result"
    }
   ],
   "source": [
    "# ejemplo - debería estar entre -2 y -3 \n",
    "calculator.lhfa(measurement=df.loc[30]['talla'], age_in_months=str(df.loc[30]['edad_meses']), sex=df.loc[30]['sexo'])"
   ]
  },
  {
   "cell_type": "code",
   "execution_count": 1598,
   "id": "7fa05621",
   "metadata": {},
   "outputs": [
    {
     "data": {
      "text/plain": [
       "id_individuo         9\n",
       "sexo                 F\n",
       "peso               8.1\n",
       "talla             64.0\n",
       "edad_dias        292.0\n",
       "edad_meses         9.6\n",
       "masa_corporal    19.78\n",
       "Name: 30, dtype: object"
      ]
     },
     "execution_count": 1598,
     "metadata": {},
     "output_type": "execute_result"
    }
   ],
   "source": [
    "df.loc[30]"
   ]
  },
  {
   "cell_type": "code",
   "execution_count": 1599,
   "id": "16bca2f7",
   "metadata": {},
   "outputs": [],
   "source": [
    "df_haz = df.dropna(subset=['sexo', 'edad_meses', 'talla'])"
   ]
  },
  {
   "cell_type": "code",
   "execution_count": 1600,
   "id": "f67586af",
   "metadata": {},
   "outputs": [],
   "source": [
    "def get_haz(talla, edad_meses, sexo):\n",
    "    haz = calculator.lhfa(measurement=talla, age_in_months=edad_meses, sex=sexo)\n",
    "    return haz"
   ]
  },
  {
   "cell_type": "code",
   "execution_count": 1601,
   "id": "43f91955",
   "metadata": {},
   "outputs": [],
   "source": [
    "df_haz['haz'] = df_haz.apply(lambda d: float(get_haz(d['talla'], d['edad_meses'], d['sexo'])), axis =1)"
   ]
  },
  {
   "cell_type": "code",
   "execution_count": 1602,
   "id": "b21e6383",
   "metadata": {},
   "outputs": [
    {
     "data": {
      "text/html": [
       "<div>\n",
       "<style scoped>\n",
       "    .dataframe tbody tr th:only-of-type {\n",
       "        vertical-align: middle;\n",
       "    }\n",
       "\n",
       "    .dataframe tbody tr th {\n",
       "        vertical-align: top;\n",
       "    }\n",
       "\n",
       "    .dataframe thead th {\n",
       "        text-align: right;\n",
       "    }\n",
       "</style>\n",
       "<table border=\"1\" class=\"dataframe\">\n",
       "  <thead>\n",
       "    <tr style=\"text-align: right;\">\n",
       "      <th></th>\n",
       "      <th>id_individuo</th>\n",
       "      <th>sexo</th>\n",
       "      <th>peso</th>\n",
       "      <th>talla</th>\n",
       "      <th>edad_dias</th>\n",
       "      <th>edad_meses</th>\n",
       "      <th>masa_corporal</th>\n",
       "      <th>haz</th>\n",
       "    </tr>\n",
       "  </thead>\n",
       "  <tbody>\n",
       "    <tr>\n",
       "      <th>0</th>\n",
       "      <td>1</td>\n",
       "      <td>F</td>\n",
       "      <td>18.6</td>\n",
       "      <td>104.0</td>\n",
       "      <td>1964.0</td>\n",
       "      <td>64.4</td>\n",
       "      <td>17.20</td>\n",
       "      <td>-1.33</td>\n",
       "    </tr>\n",
       "    <tr>\n",
       "      <th>1</th>\n",
       "      <td>1</td>\n",
       "      <td>F</td>\n",
       "      <td>23.5</td>\n",
       "      <td>115.0</td>\n",
       "      <td>2615.0</td>\n",
       "      <td>85.7</td>\n",
       "      <td>17.77</td>\n",
       "      <td>-1.36</td>\n",
       "    </tr>\n",
       "    <tr>\n",
       "      <th>2</th>\n",
       "      <td>2</td>\n",
       "      <td>M</td>\n",
       "      <td>7.8</td>\n",
       "      <td>59.0</td>\n",
       "      <td>168.0</td>\n",
       "      <td>5.5</td>\n",
       "      <td>22.41</td>\n",
       "      <td>-3.27</td>\n",
       "    </tr>\n",
       "    <tr>\n",
       "      <th>3</th>\n",
       "      <td>2</td>\n",
       "      <td>M</td>\n",
       "      <td>7.8</td>\n",
       "      <td>66.0</td>\n",
       "      <td>193.0</td>\n",
       "      <td>6.3</td>\n",
       "      <td>17.91</td>\n",
       "      <td>-0.76</td>\n",
       "    </tr>\n",
       "    <tr>\n",
       "      <th>4</th>\n",
       "      <td>3</td>\n",
       "      <td>F</td>\n",
       "      <td>34.6</td>\n",
       "      <td>141.0</td>\n",
       "      <td>3573.0</td>\n",
       "      <td>117.1</td>\n",
       "      <td>17.40</td>\n",
       "      <td>0.61</td>\n",
       "    </tr>\n",
       "  </tbody>\n",
       "</table>\n",
       "</div>"
      ],
      "text/plain": [
       "   id_individuo sexo  peso  talla  edad_dias  edad_meses  masa_corporal   haz\n",
       "0             1    F  18.6  104.0     1964.0        64.4          17.20 -1.33\n",
       "1             1    F  23.5  115.0     2615.0        85.7          17.77 -1.36\n",
       "2             2    M   7.8   59.0      168.0         5.5          22.41 -3.27\n",
       "3             2    M   7.8   66.0      193.0         6.3          17.91 -0.76\n",
       "4             3    F  34.6  141.0     3573.0       117.1          17.40  0.61"
      ]
     },
     "execution_count": 1602,
     "metadata": {},
     "output_type": "execute_result"
    }
   ],
   "source": [
    "df_haz.head()"
   ]
  },
  {
   "cell_type": "code",
   "execution_count": 1603,
   "id": "f47d1c89",
   "metadata": {},
   "outputs": [
    {
     "data": {
      "text/plain": [
       "1159397"
      ]
     },
     "execution_count": 1603,
     "metadata": {},
     "output_type": "execute_result"
    }
   ],
   "source": [
    "df_haz.shape[0]"
   ]
  },
  {
   "cell_type": "code",
   "execution_count": 1604,
   "id": "8c1001ee",
   "metadata": {},
   "outputs": [
    {
     "data": {
      "text/plain": [
       "1159397"
      ]
     },
     "execution_count": 1604,
     "metadata": {},
     "output_type": "execute_result"
    }
   ],
   "source": [
    "df.shape[0]"
   ]
  },
  {
   "cell_type": "code",
   "execution_count": 1605,
   "id": "8690cb1a",
   "metadata": {},
   "outputs": [
    {
     "data": {
      "text/html": [
       "<div>\n",
       "<style scoped>\n",
       "    .dataframe tbody tr th:only-of-type {\n",
       "        vertical-align: middle;\n",
       "    }\n",
       "\n",
       "    .dataframe tbody tr th {\n",
       "        vertical-align: top;\n",
       "    }\n",
       "\n",
       "    .dataframe thead th {\n",
       "        text-align: right;\n",
       "    }\n",
       "</style>\n",
       "<table border=\"1\" class=\"dataframe\">\n",
       "  <thead>\n",
       "    <tr style=\"text-align: right;\">\n",
       "      <th></th>\n",
       "      <th>id_individuo</th>\n",
       "      <th>sexo</th>\n",
       "      <th>peso</th>\n",
       "      <th>talla</th>\n",
       "      <th>edad_dias</th>\n",
       "      <th>edad_meses</th>\n",
       "      <th>masa_corporal</th>\n",
       "      <th>haz</th>\n",
       "    </tr>\n",
       "  </thead>\n",
       "  <tbody>\n",
       "    <tr>\n",
       "      <th>0</th>\n",
       "      <td>1</td>\n",
       "      <td>F</td>\n",
       "      <td>18.6</td>\n",
       "      <td>104.0</td>\n",
       "      <td>1964.0</td>\n",
       "      <td>64.4</td>\n",
       "      <td>17.20</td>\n",
       "      <td>-1.33</td>\n",
       "    </tr>\n",
       "    <tr>\n",
       "      <th>1</th>\n",
       "      <td>1</td>\n",
       "      <td>F</td>\n",
       "      <td>23.5</td>\n",
       "      <td>115.0</td>\n",
       "      <td>2615.0</td>\n",
       "      <td>85.7</td>\n",
       "      <td>17.77</td>\n",
       "      <td>-1.36</td>\n",
       "    </tr>\n",
       "    <tr>\n",
       "      <th>2</th>\n",
       "      <td>2</td>\n",
       "      <td>M</td>\n",
       "      <td>7.8</td>\n",
       "      <td>59.0</td>\n",
       "      <td>168.0</td>\n",
       "      <td>5.5</td>\n",
       "      <td>22.41</td>\n",
       "      <td>-3.27</td>\n",
       "    </tr>\n",
       "    <tr>\n",
       "      <th>3</th>\n",
       "      <td>2</td>\n",
       "      <td>M</td>\n",
       "      <td>7.8</td>\n",
       "      <td>66.0</td>\n",
       "      <td>193.0</td>\n",
       "      <td>6.3</td>\n",
       "      <td>17.91</td>\n",
       "      <td>-0.76</td>\n",
       "    </tr>\n",
       "    <tr>\n",
       "      <th>4</th>\n",
       "      <td>3</td>\n",
       "      <td>F</td>\n",
       "      <td>34.6</td>\n",
       "      <td>141.0</td>\n",
       "      <td>3573.0</td>\n",
       "      <td>117.1</td>\n",
       "      <td>17.40</td>\n",
       "      <td>0.61</td>\n",
       "    </tr>\n",
       "  </tbody>\n",
       "</table>\n",
       "</div>"
      ],
      "text/plain": [
       "   id_individuo sexo  peso  talla  edad_dias  edad_meses  masa_corporal   haz\n",
       "0             1    F  18.6  104.0     1964.0        64.4          17.20 -1.33\n",
       "1             1    F  23.5  115.0     2615.0        85.7          17.77 -1.36\n",
       "2             2    M   7.8   59.0      168.0         5.5          22.41 -3.27\n",
       "3             2    M   7.8   66.0      193.0         6.3          17.91 -0.76\n",
       "4             3    F  34.6  141.0     3573.0       117.1          17.40  0.61"
      ]
     },
     "execution_count": 1605,
     "metadata": {},
     "output_type": "execute_result"
    }
   ],
   "source": [
    "# finalmente voy a querer hacer un join con el df original\n",
    "df_final = df.merge(df_haz, on=['id_individuo', 'sexo', 'peso', 'talla', 'edad_dias', 'edad_meses', 'masa_corporal'], how='left')\n",
    "df_final.head()"
   ]
  },
  {
   "cell_type": "code",
   "execution_count": 1606,
   "id": "3ba56fdd",
   "metadata": {},
   "outputs": [
    {
     "data": {
      "text/plain": [
       "1159397"
      ]
     },
     "execution_count": 1606,
     "metadata": {},
     "output_type": "execute_result"
    }
   ],
   "source": [
    "df_final.shape[0]"
   ]
  },
  {
   "cell_type": "markdown",
   "id": "6ee88d03",
   "metadata": {},
   "source": [
    "#### WAZ"
   ]
  },
  {
   "cell_type": "code",
   "execution_count": 1607,
   "id": "43a22561",
   "metadata": {},
   "outputs": [
    {
     "data": {
      "text/plain": [
       "Decimal('-0.13')"
      ]
     },
     "execution_count": 1607,
     "metadata": {},
     "output_type": "execute_result"
    }
   ],
   "source": [
    "# ejemplo \n",
    "calculator.wfa(measurement=df.loc[30]['peso'], age_in_months=str(df.loc[30]['edad_meses']), sex=df.loc[30]['sexo'])"
   ]
  },
  {
   "cell_type": "code",
   "execution_count": 1608,
   "id": "eaae76ea",
   "metadata": {},
   "outputs": [],
   "source": [
    "df_waz = df.dropna(subset=['sexo', 'edad_meses', 'peso'])\n",
    "df_waz = df_waz[df_waz['peso']>0] # tiene que ser mayor a 0 para que pueda hacer el cálculo"
   ]
  },
  {
   "cell_type": "code",
   "execution_count": 1609,
   "id": "c467686d",
   "metadata": {},
   "outputs": [],
   "source": [
    "def get_waz(peso, edad_meses, sexo):\n",
    "    waz = calculator.wfa(measurement=peso, age_in_months=edad_meses, sex=sexo)\n",
    "    return waz"
   ]
  },
  {
   "cell_type": "code",
   "execution_count": 1610,
   "id": "55742838",
   "metadata": {},
   "outputs": [],
   "source": [
    "df_waz['waz'] = df_waz.apply(lambda d: float(get_waz(d['peso'], d['edad_meses'], d['sexo'])), axis =1)"
   ]
  },
  {
   "cell_type": "code",
   "execution_count": 1611,
   "id": "9b18241f",
   "metadata": {},
   "outputs": [
    {
     "data": {
      "text/html": [
       "<div>\n",
       "<style scoped>\n",
       "    .dataframe tbody tr th:only-of-type {\n",
       "        vertical-align: middle;\n",
       "    }\n",
       "\n",
       "    .dataframe tbody tr th {\n",
       "        vertical-align: top;\n",
       "    }\n",
       "\n",
       "    .dataframe thead th {\n",
       "        text-align: right;\n",
       "    }\n",
       "</style>\n",
       "<table border=\"1\" class=\"dataframe\">\n",
       "  <thead>\n",
       "    <tr style=\"text-align: right;\">\n",
       "      <th></th>\n",
       "      <th>id_individuo</th>\n",
       "      <th>sexo</th>\n",
       "      <th>peso</th>\n",
       "      <th>talla</th>\n",
       "      <th>edad_dias</th>\n",
       "      <th>edad_meses</th>\n",
       "      <th>masa_corporal</th>\n",
       "      <th>waz</th>\n",
       "    </tr>\n",
       "  </thead>\n",
       "  <tbody>\n",
       "    <tr>\n",
       "      <th>0</th>\n",
       "      <td>1</td>\n",
       "      <td>F</td>\n",
       "      <td>18.6</td>\n",
       "      <td>104.0</td>\n",
       "      <td>1964.0</td>\n",
       "      <td>64.4</td>\n",
       "      <td>17.20</td>\n",
       "      <td>-0.07</td>\n",
       "    </tr>\n",
       "    <tr>\n",
       "      <th>1</th>\n",
       "      <td>1</td>\n",
       "      <td>F</td>\n",
       "      <td>23.5</td>\n",
       "      <td>115.0</td>\n",
       "      <td>2615.0</td>\n",
       "      <td>85.7</td>\n",
       "      <td>17.77</td>\n",
       "      <td>0.11</td>\n",
       "    </tr>\n",
       "    <tr>\n",
       "      <th>2</th>\n",
       "      <td>2</td>\n",
       "      <td>M</td>\n",
       "      <td>7.8</td>\n",
       "      <td>59.0</td>\n",
       "      <td>168.0</td>\n",
       "      <td>5.5</td>\n",
       "      <td>22.41</td>\n",
       "      <td>0.34</td>\n",
       "    </tr>\n",
       "    <tr>\n",
       "      <th>3</th>\n",
       "      <td>2</td>\n",
       "      <td>M</td>\n",
       "      <td>7.8</td>\n",
       "      <td>66.0</td>\n",
       "      <td>193.0</td>\n",
       "      <td>6.3</td>\n",
       "      <td>17.91</td>\n",
       "      <td>-0.16</td>\n",
       "    </tr>\n",
       "    <tr>\n",
       "      <th>4</th>\n",
       "      <td>3</td>\n",
       "      <td>F</td>\n",
       "      <td>34.6</td>\n",
       "      <td>141.0</td>\n",
       "      <td>3573.0</td>\n",
       "      <td>117.1</td>\n",
       "      <td>17.40</td>\n",
       "      <td>0.38</td>\n",
       "    </tr>\n",
       "  </tbody>\n",
       "</table>\n",
       "</div>"
      ],
      "text/plain": [
       "   id_individuo sexo  peso  talla  edad_dias  edad_meses  masa_corporal   waz\n",
       "0             1    F  18.6  104.0     1964.0        64.4          17.20 -0.07\n",
       "1             1    F  23.5  115.0     2615.0        85.7          17.77  0.11\n",
       "2             2    M   7.8   59.0      168.0         5.5          22.41  0.34\n",
       "3             2    M   7.8   66.0      193.0         6.3          17.91 -0.16\n",
       "4             3    F  34.6  141.0     3573.0       117.1          17.40  0.38"
      ]
     },
     "execution_count": 1611,
     "metadata": {},
     "output_type": "execute_result"
    }
   ],
   "source": [
    "df_waz.head()"
   ]
  },
  {
   "cell_type": "code",
   "execution_count": 1612,
   "id": "6ceb4a98",
   "metadata": {},
   "outputs": [
    {
     "data": {
      "text/plain": [
       "1159397"
      ]
     },
     "execution_count": 1612,
     "metadata": {},
     "output_type": "execute_result"
    }
   ],
   "source": [
    "df_waz.shape[0]"
   ]
  },
  {
   "cell_type": "code",
   "execution_count": 1613,
   "id": "f389162c",
   "metadata": {},
   "outputs": [
    {
     "data": {
      "text/plain": [
       "1159397"
      ]
     },
     "execution_count": 1613,
     "metadata": {},
     "output_type": "execute_result"
    }
   ],
   "source": [
    "df.shape[0]"
   ]
  },
  {
   "cell_type": "code",
   "execution_count": 1614,
   "id": "39c497bd",
   "metadata": {},
   "outputs": [
    {
     "data": {
      "text/html": [
       "<div>\n",
       "<style scoped>\n",
       "    .dataframe tbody tr th:only-of-type {\n",
       "        vertical-align: middle;\n",
       "    }\n",
       "\n",
       "    .dataframe tbody tr th {\n",
       "        vertical-align: top;\n",
       "    }\n",
       "\n",
       "    .dataframe thead th {\n",
       "        text-align: right;\n",
       "    }\n",
       "</style>\n",
       "<table border=\"1\" class=\"dataframe\">\n",
       "  <thead>\n",
       "    <tr style=\"text-align: right;\">\n",
       "      <th></th>\n",
       "      <th>id_individuo</th>\n",
       "      <th>sexo</th>\n",
       "      <th>peso</th>\n",
       "      <th>talla</th>\n",
       "      <th>edad_dias</th>\n",
       "      <th>edad_meses</th>\n",
       "      <th>masa_corporal</th>\n",
       "      <th>haz</th>\n",
       "      <th>waz</th>\n",
       "    </tr>\n",
       "  </thead>\n",
       "  <tbody>\n",
       "    <tr>\n",
       "      <th>0</th>\n",
       "      <td>1</td>\n",
       "      <td>F</td>\n",
       "      <td>18.6</td>\n",
       "      <td>104.0</td>\n",
       "      <td>1964.0</td>\n",
       "      <td>64.4</td>\n",
       "      <td>17.20</td>\n",
       "      <td>-1.33</td>\n",
       "      <td>-0.07</td>\n",
       "    </tr>\n",
       "    <tr>\n",
       "      <th>1</th>\n",
       "      <td>1</td>\n",
       "      <td>F</td>\n",
       "      <td>23.5</td>\n",
       "      <td>115.0</td>\n",
       "      <td>2615.0</td>\n",
       "      <td>85.7</td>\n",
       "      <td>17.77</td>\n",
       "      <td>-1.36</td>\n",
       "      <td>0.11</td>\n",
       "    </tr>\n",
       "    <tr>\n",
       "      <th>2</th>\n",
       "      <td>2</td>\n",
       "      <td>M</td>\n",
       "      <td>7.8</td>\n",
       "      <td>59.0</td>\n",
       "      <td>168.0</td>\n",
       "      <td>5.5</td>\n",
       "      <td>22.41</td>\n",
       "      <td>-3.27</td>\n",
       "      <td>0.34</td>\n",
       "    </tr>\n",
       "    <tr>\n",
       "      <th>3</th>\n",
       "      <td>2</td>\n",
       "      <td>M</td>\n",
       "      <td>7.8</td>\n",
       "      <td>66.0</td>\n",
       "      <td>193.0</td>\n",
       "      <td>6.3</td>\n",
       "      <td>17.91</td>\n",
       "      <td>-0.76</td>\n",
       "      <td>-0.16</td>\n",
       "    </tr>\n",
       "    <tr>\n",
       "      <th>4</th>\n",
       "      <td>3</td>\n",
       "      <td>F</td>\n",
       "      <td>34.6</td>\n",
       "      <td>141.0</td>\n",
       "      <td>3573.0</td>\n",
       "      <td>117.1</td>\n",
       "      <td>17.40</td>\n",
       "      <td>0.61</td>\n",
       "      <td>0.38</td>\n",
       "    </tr>\n",
       "  </tbody>\n",
       "</table>\n",
       "</div>"
      ],
      "text/plain": [
       "   id_individuo sexo  peso  talla  edad_dias  edad_meses  masa_corporal   haz  \\\n",
       "0             1    F  18.6  104.0     1964.0        64.4          17.20 -1.33   \n",
       "1             1    F  23.5  115.0     2615.0        85.7          17.77 -1.36   \n",
       "2             2    M   7.8   59.0      168.0         5.5          22.41 -3.27   \n",
       "3             2    M   7.8   66.0      193.0         6.3          17.91 -0.76   \n",
       "4             3    F  34.6  141.0     3573.0       117.1          17.40  0.61   \n",
       "\n",
       "    waz  \n",
       "0 -0.07  \n",
       "1  0.11  \n",
       "2  0.34  \n",
       "3 -0.16  \n",
       "4  0.38  "
      ]
     },
     "execution_count": 1614,
     "metadata": {},
     "output_type": "execute_result"
    }
   ],
   "source": [
    "# finalmente voy a querer hacer un join con el df original\n",
    "df_final = df_final.merge(df_waz, on=['id_individuo', 'sexo', 'peso', 'talla', 'edad_dias', 'edad_meses', 'masa_corporal'], how='left')\n",
    "df_final.head()"
   ]
  },
  {
   "cell_type": "code",
   "execution_count": 1615,
   "id": "12d7157b",
   "metadata": {},
   "outputs": [
    {
     "data": {
      "text/plain": [
       "1159397"
      ]
     },
     "execution_count": 1615,
     "metadata": {},
     "output_type": "execute_result"
    }
   ],
   "source": [
    "df_final.shape[0]"
   ]
  },
  {
   "cell_type": "markdown",
   "id": "f98dc0a1",
   "metadata": {},
   "source": [
    "#### BMIZ"
   ]
  },
  {
   "cell_type": "code",
   "execution_count": 1616,
   "id": "269db4e0",
   "metadata": {},
   "outputs": [
    {
     "data": {
      "text/plain": [
       "1.83"
      ]
     },
     "execution_count": 1616,
     "metadata": {},
     "output_type": "execute_result"
    }
   ],
   "source": [
    "# ejemplo \n",
    "float(calculator.bmifa(measurement=df.loc[30]['masa_corporal'], age_in_months=str(df.loc[30]['edad_meses']), sex=df.loc[30]['sexo']))"
   ]
  },
  {
   "cell_type": "code",
   "execution_count": 1617,
   "id": "90d24789",
   "metadata": {},
   "outputs": [],
   "source": [
    "df_bmiz = df.dropna(subset=['sexo', 'edad_meses', 'masa_corporal'])\n",
    "df_bmiz = df_bmiz[df_bmiz['masa_corporal']>0] # tiene que ser mayor a 0 para que pueda hacer el cálculo"
   ]
  },
  {
   "cell_type": "code",
   "execution_count": 1618,
   "id": "1c365e6b",
   "metadata": {},
   "outputs": [],
   "source": [
    "def get_bmiz(masa_corporal, edad_meses, sexo):\n",
    "    bmiz = calculator.bmifa(measurement=masa_corporal, age_in_months=edad_meses, sex=sexo)\n",
    "    return bmiz"
   ]
  },
  {
   "cell_type": "code",
   "execution_count": 1619,
   "id": "3728981c",
   "metadata": {},
   "outputs": [],
   "source": [
    "df_bmiz['bmiz'] = df_bmiz.apply(lambda d: float(get_bmiz(d['masa_corporal'], d['edad_meses'], d['sexo'])), axis =1)"
   ]
  },
  {
   "cell_type": "code",
   "execution_count": 1620,
   "id": "8f4ee603",
   "metadata": {},
   "outputs": [
    {
     "data": {
      "text/html": [
       "<div>\n",
       "<style scoped>\n",
       "    .dataframe tbody tr th:only-of-type {\n",
       "        vertical-align: middle;\n",
       "    }\n",
       "\n",
       "    .dataframe tbody tr th {\n",
       "        vertical-align: top;\n",
       "    }\n",
       "\n",
       "    .dataframe thead th {\n",
       "        text-align: right;\n",
       "    }\n",
       "</style>\n",
       "<table border=\"1\" class=\"dataframe\">\n",
       "  <thead>\n",
       "    <tr style=\"text-align: right;\">\n",
       "      <th></th>\n",
       "      <th>id_individuo</th>\n",
       "      <th>sexo</th>\n",
       "      <th>peso</th>\n",
       "      <th>talla</th>\n",
       "      <th>edad_dias</th>\n",
       "      <th>edad_meses</th>\n",
       "      <th>masa_corporal</th>\n",
       "      <th>bmiz</th>\n",
       "    </tr>\n",
       "  </thead>\n",
       "  <tbody>\n",
       "    <tr>\n",
       "      <th>0</th>\n",
       "      <td>1</td>\n",
       "      <td>F</td>\n",
       "      <td>18.6</td>\n",
       "      <td>104.0</td>\n",
       "      <td>1964.0</td>\n",
       "      <td>64.4</td>\n",
       "      <td>17.20</td>\n",
       "      <td>1.19</td>\n",
       "    </tr>\n",
       "    <tr>\n",
       "      <th>1</th>\n",
       "      <td>1</td>\n",
       "      <td>F</td>\n",
       "      <td>23.5</td>\n",
       "      <td>115.0</td>\n",
       "      <td>2615.0</td>\n",
       "      <td>85.7</td>\n",
       "      <td>17.77</td>\n",
       "      <td>1.07</td>\n",
       "    </tr>\n",
       "    <tr>\n",
       "      <th>2</th>\n",
       "      <td>2</td>\n",
       "      <td>M</td>\n",
       "      <td>7.8</td>\n",
       "      <td>59.0</td>\n",
       "      <td>168.0</td>\n",
       "      <td>5.5</td>\n",
       "      <td>22.41</td>\n",
       "      <td>3.07</td>\n",
       "    </tr>\n",
       "    <tr>\n",
       "      <th>3</th>\n",
       "      <td>2</td>\n",
       "      <td>M</td>\n",
       "      <td>7.8</td>\n",
       "      <td>66.0</td>\n",
       "      <td>193.0</td>\n",
       "      <td>6.3</td>\n",
       "      <td>17.91</td>\n",
       "      <td>0.39</td>\n",
       "    </tr>\n",
       "    <tr>\n",
       "      <th>4</th>\n",
       "      <td>3</td>\n",
       "      <td>F</td>\n",
       "      <td>34.6</td>\n",
       "      <td>141.0</td>\n",
       "      <td>3573.0</td>\n",
       "      <td>117.1</td>\n",
       "      <td>17.40</td>\n",
       "      <td>0.28</td>\n",
       "    </tr>\n",
       "  </tbody>\n",
       "</table>\n",
       "</div>"
      ],
      "text/plain": [
       "   id_individuo sexo  peso  talla  edad_dias  edad_meses  masa_corporal  bmiz\n",
       "0             1    F  18.6  104.0     1964.0        64.4          17.20  1.19\n",
       "1             1    F  23.5  115.0     2615.0        85.7          17.77  1.07\n",
       "2             2    M   7.8   59.0      168.0         5.5          22.41  3.07\n",
       "3             2    M   7.8   66.0      193.0         6.3          17.91  0.39\n",
       "4             3    F  34.6  141.0     3573.0       117.1          17.40  0.28"
      ]
     },
     "execution_count": 1620,
     "metadata": {},
     "output_type": "execute_result"
    }
   ],
   "source": [
    "df_bmiz.head()"
   ]
  },
  {
   "cell_type": "code",
   "execution_count": 1621,
   "id": "59738925",
   "metadata": {},
   "outputs": [
    {
     "data": {
      "text/plain": [
       "1159397"
      ]
     },
     "execution_count": 1621,
     "metadata": {},
     "output_type": "execute_result"
    }
   ],
   "source": [
    "df_bmiz.shape[0]"
   ]
  },
  {
   "cell_type": "code",
   "execution_count": 1622,
   "id": "1a75eeaa",
   "metadata": {},
   "outputs": [
    {
     "data": {
      "text/plain": [
       "1159397"
      ]
     },
     "execution_count": 1622,
     "metadata": {},
     "output_type": "execute_result"
    }
   ],
   "source": [
    "df.shape[0]"
   ]
  },
  {
   "cell_type": "code",
   "execution_count": 1623,
   "id": "c7aa17e6",
   "metadata": {},
   "outputs": [
    {
     "data": {
      "text/html": [
       "<div>\n",
       "<style scoped>\n",
       "    .dataframe tbody tr th:only-of-type {\n",
       "        vertical-align: middle;\n",
       "    }\n",
       "\n",
       "    .dataframe tbody tr th {\n",
       "        vertical-align: top;\n",
       "    }\n",
       "\n",
       "    .dataframe thead th {\n",
       "        text-align: right;\n",
       "    }\n",
       "</style>\n",
       "<table border=\"1\" class=\"dataframe\">\n",
       "  <thead>\n",
       "    <tr style=\"text-align: right;\">\n",
       "      <th></th>\n",
       "      <th>id_individuo</th>\n",
       "      <th>sexo</th>\n",
       "      <th>peso</th>\n",
       "      <th>talla</th>\n",
       "      <th>edad_dias</th>\n",
       "      <th>edad_meses</th>\n",
       "      <th>masa_corporal</th>\n",
       "      <th>haz</th>\n",
       "      <th>waz</th>\n",
       "      <th>bmiz</th>\n",
       "    </tr>\n",
       "  </thead>\n",
       "  <tbody>\n",
       "    <tr>\n",
       "      <th>0</th>\n",
       "      <td>1</td>\n",
       "      <td>F</td>\n",
       "      <td>18.6</td>\n",
       "      <td>104.0</td>\n",
       "      <td>1964.0</td>\n",
       "      <td>64.4</td>\n",
       "      <td>17.20</td>\n",
       "      <td>-1.33</td>\n",
       "      <td>-0.07</td>\n",
       "      <td>1.19</td>\n",
       "    </tr>\n",
       "    <tr>\n",
       "      <th>1</th>\n",
       "      <td>1</td>\n",
       "      <td>F</td>\n",
       "      <td>23.5</td>\n",
       "      <td>115.0</td>\n",
       "      <td>2615.0</td>\n",
       "      <td>85.7</td>\n",
       "      <td>17.77</td>\n",
       "      <td>-1.36</td>\n",
       "      <td>0.11</td>\n",
       "      <td>1.07</td>\n",
       "    </tr>\n",
       "    <tr>\n",
       "      <th>2</th>\n",
       "      <td>2</td>\n",
       "      <td>M</td>\n",
       "      <td>7.8</td>\n",
       "      <td>59.0</td>\n",
       "      <td>168.0</td>\n",
       "      <td>5.5</td>\n",
       "      <td>22.41</td>\n",
       "      <td>-3.27</td>\n",
       "      <td>0.34</td>\n",
       "      <td>3.07</td>\n",
       "    </tr>\n",
       "    <tr>\n",
       "      <th>3</th>\n",
       "      <td>2</td>\n",
       "      <td>M</td>\n",
       "      <td>7.8</td>\n",
       "      <td>66.0</td>\n",
       "      <td>193.0</td>\n",
       "      <td>6.3</td>\n",
       "      <td>17.91</td>\n",
       "      <td>-0.76</td>\n",
       "      <td>-0.16</td>\n",
       "      <td>0.39</td>\n",
       "    </tr>\n",
       "    <tr>\n",
       "      <th>4</th>\n",
       "      <td>3</td>\n",
       "      <td>F</td>\n",
       "      <td>34.6</td>\n",
       "      <td>141.0</td>\n",
       "      <td>3573.0</td>\n",
       "      <td>117.1</td>\n",
       "      <td>17.40</td>\n",
       "      <td>0.61</td>\n",
       "      <td>0.38</td>\n",
       "      <td>0.28</td>\n",
       "    </tr>\n",
       "  </tbody>\n",
       "</table>\n",
       "</div>"
      ],
      "text/plain": [
       "   id_individuo sexo  peso  talla  edad_dias  edad_meses  masa_corporal   haz  \\\n",
       "0             1    F  18.6  104.0     1964.0        64.4          17.20 -1.33   \n",
       "1             1    F  23.5  115.0     2615.0        85.7          17.77 -1.36   \n",
       "2             2    M   7.8   59.0      168.0         5.5          22.41 -3.27   \n",
       "3             2    M   7.8   66.0      193.0         6.3          17.91 -0.76   \n",
       "4             3    F  34.6  141.0     3573.0       117.1          17.40  0.61   \n",
       "\n",
       "    waz  bmiz  \n",
       "0 -0.07  1.19  \n",
       "1  0.11  1.07  \n",
       "2  0.34  3.07  \n",
       "3 -0.16  0.39  \n",
       "4  0.38  0.28  "
      ]
     },
     "execution_count": 1623,
     "metadata": {},
     "output_type": "execute_result"
    }
   ],
   "source": [
    "# finalmente voy a querer hacer un join con el df original\n",
    "df_final = df_final.merge(df_bmiz, on=['id_individuo', 'sexo', 'peso', 'talla', 'edad_dias', 'edad_meses', 'masa_corporal'], how='left')\n",
    "df_final.head()"
   ]
  },
  {
   "cell_type": "code",
   "execution_count": 1624,
   "id": "50b18d48",
   "metadata": {},
   "outputs": [
    {
     "data": {
      "text/plain": [
       "1159397"
      ]
     },
     "execution_count": 1624,
     "metadata": {},
     "output_type": "execute_result"
    }
   ],
   "source": [
    "df_final.shape[0]"
   ]
  },
  {
   "cell_type": "code",
   "execution_count": 1112,
   "id": "b97350a2",
   "metadata": {},
   "outputs": [
    {
     "name": "stdout",
     "output_type": "stream",
     "text": [
      "<class 'pandas.core.frame.DataFrame'>\n",
      "Int64Index: 1159781 entries, 0 to 1159780\n",
      "Data columns (total 10 columns):\n",
      " #   Column         Non-Null Count    Dtype  \n",
      "---  ------         --------------    -----  \n",
      " 0   id_individuo   1159781 non-null  int64  \n",
      " 1   sexo           1159781 non-null  object \n",
      " 2   peso           1159781 non-null  float64\n",
      " 3   talla          1159781 non-null  float64\n",
      " 4   edad_dias      1159781 non-null  float64\n",
      " 5   edad_meses     1159781 non-null  float64\n",
      " 6   masa_corporal  1159781 non-null  float64\n",
      " 7   haz            1159781 non-null  float64\n",
      " 8   waz            1159781 non-null  float64\n",
      " 9   bmiz           1159781 non-null  float64\n",
      "dtypes: float64(8), int64(1), object(1)\n",
      "memory usage: 97.3+ MB\n"
     ]
    }
   ],
   "source": [
    "df_final.info()"
   ]
  },
  {
   "cell_type": "code",
   "execution_count": 1156,
   "id": "63e324cd",
   "metadata": {},
   "outputs": [
    {
     "data": {
      "text/html": [
       "<div>\n",
       "<style scoped>\n",
       "    .dataframe tbody tr th:only-of-type {\n",
       "        vertical-align: middle;\n",
       "    }\n",
       "\n",
       "    .dataframe tbody tr th {\n",
       "        vertical-align: top;\n",
       "    }\n",
       "\n",
       "    .dataframe thead th {\n",
       "        text-align: right;\n",
       "    }\n",
       "</style>\n",
       "<table border=\"1\" class=\"dataframe\">\n",
       "  <thead>\n",
       "    <tr style=\"text-align: right;\">\n",
       "      <th></th>\n",
       "      <th>id_individuo</th>\n",
       "      <th>sexo</th>\n",
       "      <th>peso</th>\n",
       "      <th>talla</th>\n",
       "      <th>edad_dias</th>\n",
       "      <th>edad_meses</th>\n",
       "      <th>masa_corporal</th>\n",
       "      <th>haz</th>\n",
       "      <th>waz</th>\n",
       "      <th>bmiz</th>\n",
       "    </tr>\n",
       "  </thead>\n",
       "  <tbody>\n",
       "    <tr>\n",
       "      <th>1076679</th>\n",
       "      <td>278547</td>\n",
       "      <td>M</td>\n",
       "      <td>11.3</td>\n",
       "      <td>82.0</td>\n",
       "      <td>612.0</td>\n",
       "      <td>20.1</td>\n",
       "      <td>16.81</td>\n",
       "      <td>-0.78</td>\n",
       "      <td>-0.04</td>\n",
       "      <td>0.64</td>\n",
       "    </tr>\n",
       "    <tr>\n",
       "      <th>357129</th>\n",
       "      <td>92462</td>\n",
       "      <td>M</td>\n",
       "      <td>64.3</td>\n",
       "      <td>171.0</td>\n",
       "      <td>4838.0</td>\n",
       "      <td>158.6</td>\n",
       "      <td>21.99</td>\n",
       "      <td>1.67</td>\n",
       "      <td>1.47</td>\n",
       "      <td>1.04</td>\n",
       "    </tr>\n",
       "    <tr>\n",
       "      <th>1032763</th>\n",
       "      <td>267185</td>\n",
       "      <td>F</td>\n",
       "      <td>9.5</td>\n",
       "      <td>72.0</td>\n",
       "      <td>366.0</td>\n",
       "      <td>12.0</td>\n",
       "      <td>18.33</td>\n",
       "      <td>-0.78</td>\n",
       "      <td>0.48</td>\n",
       "      <td>1.27</td>\n",
       "    </tr>\n",
       "    <tr>\n",
       "      <th>391808</th>\n",
       "      <td>101488</td>\n",
       "      <td>M</td>\n",
       "      <td>24.3</td>\n",
       "      <td>117.0</td>\n",
       "      <td>2314.0</td>\n",
       "      <td>75.9</td>\n",
       "      <td>17.75</td>\n",
       "      <td>-0.05</td>\n",
       "      <td>0.85</td>\n",
       "      <td>1.33</td>\n",
       "    </tr>\n",
       "    <tr>\n",
       "      <th>1133283</th>\n",
       "      <td>293132</td>\n",
       "      <td>F</td>\n",
       "      <td>30.9</td>\n",
       "      <td>133.0</td>\n",
       "      <td>2956.0</td>\n",
       "      <td>96.9</td>\n",
       "      <td>17.47</td>\n",
       "      <td>0.86</td>\n",
       "      <td>0.96</td>\n",
       "      <td>0.74</td>\n",
       "    </tr>\n",
       "  </tbody>\n",
       "</table>\n",
       "</div>"
      ],
      "text/plain": [
       "         id_individuo sexo  peso  talla  edad_dias  edad_meses  masa_corporal  \\\n",
       "1076679        278547    M  11.3   82.0      612.0        20.1          16.81   \n",
       "357129          92462    M  64.3  171.0     4838.0       158.6          21.99   \n",
       "1032763        267185    F   9.5   72.0      366.0        12.0          18.33   \n",
       "391808         101488    M  24.3  117.0     2314.0        75.9          17.75   \n",
       "1133283        293132    F  30.9  133.0     2956.0        96.9          17.47   \n",
       "\n",
       "          haz   waz  bmiz  \n",
       "1076679 -0.78 -0.04  0.64  \n",
       "357129   1.67  1.47  1.04  \n",
       "1032763 -0.78  0.48  1.27  \n",
       "391808  -0.05  0.85  1.33  \n",
       "1133283  0.86  0.96  0.74  "
      ]
     },
     "execution_count": 1156,
     "metadata": {},
     "output_type": "execute_result"
    }
   ],
   "source": [
    "df_final.sample(5, random_state=15).head(5)"
   ]
  },
  {
   "cell_type": "code",
   "execution_count": 1157,
   "id": "c7854359",
   "metadata": {},
   "outputs": [],
   "source": [
    "# extraer imagen\n",
    "df_sample = df_final.sample(5, random_state=15).head(5).reset_index(drop=True)\n",
    "dfi.export(df_sample, 'images/data_zscores_5.png')"
   ]
  },
  {
   "cell_type": "code",
   "execution_count": 1625,
   "id": "6d9ff00b",
   "metadata": {},
   "outputs": [],
   "source": [
    "# guardarlo\n",
    "#df_final.to_csv('data/df_zscores.csv', index=False)"
   ]
  },
  {
   "cell_type": "markdown",
   "id": "fb401745",
   "metadata": {},
   "source": [
    "## Análisis Z-scores"
   ]
  },
  {
   "cell_type": "code",
   "execution_count": 4,
   "id": "89857f8b",
   "metadata": {},
   "outputs": [],
   "source": [
    "df_final = pd.read_csv('df_zscores.csv')"
   ]
  },
  {
   "cell_type": "code",
   "execution_count": null,
   "id": "43c6e0ad",
   "metadata": {},
   "outputs": [],
   "source": []
  },
  {
   "cell_type": "code",
   "execution_count": null,
   "id": "e0faca23",
   "metadata": {},
   "outputs": [],
   "source": []
  },
  {
   "cell_type": "code",
   "execution_count": 5,
   "id": "f4cf35f2",
   "metadata": {},
   "outputs": [
    {
     "data": {
      "text/plain": [
       "1159397"
      ]
     },
     "execution_count": 5,
     "metadata": {},
     "output_type": "execute_result"
    }
   ],
   "source": [
    "df_final.shape[0]"
   ]
  },
  {
   "cell_type": "code",
   "execution_count": 6,
   "id": "6616c001",
   "metadata": {},
   "outputs": [],
   "source": [
    "# df_final = df_final[df_final['masa_corporal']<50] # estos los borramos por qué ???"
   ]
  },
  {
   "cell_type": "code",
   "execution_count": 7,
   "id": "c9f88431",
   "metadata": {},
   "outputs": [
    {
     "data": {
      "text/html": [
       "<div>\n",
       "<style scoped>\n",
       "    .dataframe tbody tr th:only-of-type {\n",
       "        vertical-align: middle;\n",
       "    }\n",
       "\n",
       "    .dataframe tbody tr th {\n",
       "        vertical-align: top;\n",
       "    }\n",
       "\n",
       "    .dataframe thead th {\n",
       "        text-align: right;\n",
       "    }\n",
       "</style>\n",
       "<table border=\"1\" class=\"dataframe\">\n",
       "  <thead>\n",
       "    <tr style=\"text-align: right;\">\n",
       "      <th></th>\n",
       "      <th>id_individuo</th>\n",
       "      <th>sexo</th>\n",
       "      <th>peso</th>\n",
       "      <th>talla</th>\n",
       "      <th>edad_dias</th>\n",
       "      <th>edad_meses</th>\n",
       "      <th>masa_corporal</th>\n",
       "      <th>haz</th>\n",
       "      <th>waz</th>\n",
       "      <th>bmiz</th>\n",
       "    </tr>\n",
       "  </thead>\n",
       "  <tbody>\n",
       "    <tr>\n",
       "      <th>0</th>\n",
       "      <td>1</td>\n",
       "      <td>F</td>\n",
       "      <td>18.6</td>\n",
       "      <td>104.0</td>\n",
       "      <td>1964.0</td>\n",
       "      <td>64.4</td>\n",
       "      <td>17.2</td>\n",
       "      <td>-1.33</td>\n",
       "      <td>-0.07</td>\n",
       "      <td>1.19</td>\n",
       "    </tr>\n",
       "  </tbody>\n",
       "</table>\n",
       "</div>"
      ],
      "text/plain": [
       "   id_individuo sexo  peso  talla  edad_dias  edad_meses  masa_corporal   haz  \\\n",
       "0             1    F  18.6  104.0     1964.0        64.4           17.2 -1.33   \n",
       "\n",
       "    waz  bmiz  \n",
       "0 -0.07  1.19  "
      ]
     },
     "execution_count": 7,
     "metadata": {},
     "output_type": "execute_result"
    }
   ],
   "source": [
    "df_final.head(1)"
   ]
  },
  {
   "cell_type": "code",
   "execution_count": 5,
   "id": "68b1a499",
   "metadata": {},
   "outputs": [],
   "source": [
    "df_final['rango_etario'] = df_final['edad_dias'].apply(lambda x: defino_rango(x))\n",
    "\n",
    "# no quiero los de fuera de rango\n",
    "df_final = df_final[df_final['rango_etario']!='fuera de rango']"
   ]
  },
  {
   "cell_type": "code",
   "execution_count": null,
   "id": "d8935454",
   "metadata": {},
   "outputs": [],
   "source": []
  },
  {
   "cell_type": "code",
   "execution_count": 6,
   "id": "9df67a24",
   "metadata": {},
   "outputs": [],
   "source": [
    "df_plau = df_final[((df_final['haz']<=6) & (df_final['haz']>=(-6))) &\n",
    "                      ((df_final['waz']<=5) & (df_final['waz']>=(-6))) &\n",
    "                      ((df_final['bmiz']<=5) & (df_final['bmiz']>=(-5)))] # esto pide que los tres estén en rango\n",
    "\n",
    "df_no_plau = df_final[((df_final['haz']>6) | (df_final['haz']<(-6))) |\n",
    "                      ((df_final['waz']>5) | (df_final['waz']<(-6))) |\n",
    "                      ((df_final['bmiz']>5) | (df_final['bmiz']<(-5)))] # esto me devuelve los que tienen mal en alguna de las tres"
   ]
  },
  {
   "cell_type": "code",
   "execution_count": null,
   "id": "7544a294",
   "metadata": {},
   "outputs": [],
   "source": []
  },
  {
   "cell_type": "markdown",
   "id": "7c1ad9fd",
   "metadata": {},
   "source": [
    "#### BMIZ"
   ]
  },
  {
   "cell_type": "code",
   "execution_count": 13,
   "id": "2110900d",
   "metadata": {},
   "outputs": [
    {
     "data": {
      "text/plain": [
       "count    1.118600e+06\n",
       "mean     5.160990e-01\n",
       "std      1.253523e+00\n",
       "min     -5.000000e+00\n",
       "25%     -1.900000e-01\n",
       "50%      5.100000e-01\n",
       "75%      1.280000e+00\n",
       "max      5.000000e+00\n",
       "Name: bmiz, dtype: float64"
      ]
     },
     "execution_count": 13,
     "metadata": {},
     "output_type": "execute_result"
    }
   ],
   "source": [
    "df_plau.describe()['bmiz']"
   ]
  },
  {
   "cell_type": "code",
   "execution_count": 14,
   "id": "070474dd",
   "metadata": {},
   "outputs": [
    {
     "data": {
      "image/png": "[encoded data removed]",
      "text/plain": [
       "<Figure size 432x288 with 1 Axes>"
      ]
     },
     "metadata": {
      "needs_background": "light"
     },
     "output_type": "display_data"
    }
   ],
   "source": [
    "bmiz_fig = df_plau.hist('bmiz', bins=30)\n",
    "#plt.savefig('images/bmiz.png')"
   ]
  },
  {
   "cell_type": "markdown",
   "id": "52caed25",
   "metadata": {},
   "source": [
    "### HAZ"
   ]
  },
  {
   "cell_type": "code",
   "execution_count": 15,
   "id": "d132ec38",
   "metadata": {},
   "outputs": [
    {
     "data": {
      "text/plain": [
       "count    1.118600e+06\n",
       "mean    -3.079551e-01\n",
       "std      1.348068e+00\n",
       "min     -6.000000e+00\n",
       "25%     -1.080000e+00\n",
       "50%     -3.200000e-01\n",
       "75%      4.900000e-01\n",
       "max      6.000000e+00\n",
       "Name: haz, dtype: float64"
      ]
     },
     "execution_count": 15,
     "metadata": {},
     "output_type": "execute_result"
    }
   ],
   "source": [
    "df_plau['haz'].describe()"
   ]
  },
  {
   "cell_type": "code",
   "execution_count": 16,
   "id": "e20db2e1",
   "metadata": {},
   "outputs": [
    {
     "data": {
      "image/png": "[encoded data removed]",
      "text/plain": [
       "<Figure size 432x288 with 1 Axes>"
      ]
     },
     "metadata": {
      "needs_background": "light"
     },
     "output_type": "display_data"
    }
   ],
   "source": [
    "haz_fig = df_plau.hist('haz', bins = 30)\n",
    "#plt.savefig('images/haz.png')"
   ]
  },
  {
   "cell_type": "markdown",
   "id": "e1e87141",
   "metadata": {},
   "source": [
    "### WAZ"
   ]
  },
  {
   "cell_type": "code",
   "execution_count": 17,
   "id": "4907fe39",
   "metadata": {},
   "outputs": [
    {
     "data": {
      "text/plain": [
       "count    1.118600e+06\n",
       "mean     1.320755e-01\n",
       "std      1.213139e+00\n",
       "min     -6.000000e+00\n",
       "25%     -5.900000e-01\n",
       "50%      1.100000e-01\n",
       "75%      8.900000e-01\n",
       "max      5.000000e+00\n",
       "Name: waz, dtype: float64"
      ]
     },
     "execution_count": 17,
     "metadata": {},
     "output_type": "execute_result"
    }
   ],
   "source": [
    "df_plau['waz'].describe()"
   ]
  },
  {
   "cell_type": "code",
   "execution_count": 18,
   "id": "a158e8be",
   "metadata": {},
   "outputs": [
    {
     "data": {
      "image/png": "[encoded data removed]",
      "text/plain": [
       "<Figure size 432x288 with 1 Axes>"
      ]
     },
     "metadata": {
      "needs_background": "light"
     },
     "output_type": "display_data"
    }
   ],
   "source": [
    "waz_fig = df_plau.hist('waz', bins = 30)\n",
    "#plt.savefig('images/waz.png')"
   ]
  },
  {
   "cell_type": "markdown",
   "id": "3db007fb",
   "metadata": {},
   "source": [
    "### Registros no plausibles"
   ]
  },
  {
   "cell_type": "code",
   "execution_count": 19,
   "id": "c074e10a",
   "metadata": {},
   "outputs": [
    {
     "data": {
      "text/plain": [
       "36508"
      ]
     },
     "execution_count": 19,
     "metadata": {},
     "output_type": "execute_result"
    }
   ],
   "source": [
    "df_no_plau.shape[0]"
   ]
  },
  {
   "cell_type": "markdown",
   "id": "0993dacc",
   "metadata": {},
   "source": [
    "#### Sexo"
   ]
  },
  {
   "cell_type": "code",
   "execution_count": 20,
   "id": "308c7881",
   "metadata": {},
   "outputs": [
    {
     "data": {
      "text/plain": [
       "30430"
      ]
     },
     "execution_count": 20,
     "metadata": {},
     "output_type": "execute_result"
    }
   ],
   "source": [
    "df_no_plau['id_individuo'].nunique() # cantidad de individuos - corresponde con la suma de lo anterior"
   ]
  },
  {
   "cell_type": "code",
   "execution_count": 21,
   "id": "5cc18112",
   "metadata": {},
   "outputs": [
    {
     "data": {
      "text/html": [
       "<div>\n",
       "<style scoped>\n",
       "    .dataframe tbody tr th:only-of-type {\n",
       "        vertical-align: middle;\n",
       "    }\n",
       "\n",
       "    .dataframe tbody tr th {\n",
       "        vertical-align: top;\n",
       "    }\n",
       "\n",
       "    .dataframe thead th {\n",
       "        text-align: right;\n",
       "    }\n",
       "</style>\n",
       "<table border=\"1\" class=\"dataframe\">\n",
       "  <thead>\n",
       "    <tr style=\"text-align: right;\">\n",
       "      <th></th>\n",
       "      <th>sexo</th>\n",
       "      <th>id_individuo</th>\n",
       "      <th>per</th>\n",
       "    </tr>\n",
       "  </thead>\n",
       "  <tbody>\n",
       "    <tr>\n",
       "      <th>0</th>\n",
       "      <td>F</td>\n",
       "      <td>14368</td>\n",
       "      <td>47.22</td>\n",
       "    </tr>\n",
       "    <tr>\n",
       "      <th>1</th>\n",
       "      <td>M</td>\n",
       "      <td>16062</td>\n",
       "      <td>52.78</td>\n",
       "    </tr>\n",
       "  </tbody>\n",
       "</table>\n",
       "</div>"
      ],
      "text/plain": [
       "  sexo  id_individuo    per\n",
       "0    F         14368  47.22\n",
       "1    M         16062  52.78"
      ]
     },
     "execution_count": 21,
     "metadata": {},
     "output_type": "execute_result"
    }
   ],
   "source": [
    "no_plau_sexo = df_no_plau.groupby(['sexo']).nunique()['id_individuo'].reset_index()\n",
    "no_plau_sexo['per'] = no_plau_sexo['id_individuo'].apply(lambda x: round(x/ no_plau_sexo['id_individuo'].sum()*100, 2))\n",
    "no_plau_sexo"
   ]
  },
  {
   "cell_type": "code",
   "execution_count": null,
   "id": "ee4c2dde",
   "metadata": {},
   "outputs": [],
   "source": [
    "df_no_plau['sexo'].value_counts()#(normalize=True)*100 # es prácticamente el mismo porcentaje agrupando o no, pero qué es lo correcto ???"
   ]
  },
  {
   "cell_type": "code",
   "execution_count": 23,
   "id": "7cc71dd5",
   "metadata": {},
   "outputs": [
    {
     "data": {
      "text/plain": [
       "F    50.400309\n",
       "M    49.599691\n",
       "Name: sexo, dtype: float64"
      ]
     },
     "execution_count": 23,
     "metadata": {},
     "output_type": "execute_result"
    }
   ],
   "source": [
    "df_final['sexo'].value_counts(normalize=True)*100"
   ]
  },
  {
   "cell_type": "code",
   "execution_count": 24,
   "id": "added4fe",
   "metadata": {},
   "outputs": [
    {
     "data": {
      "text/plain": [
       "F    0.029450\n",
       "M    0.033796\n",
       "Name: sexo, dtype: float64"
      ]
     },
     "execution_count": 24,
     "metadata": {},
     "output_type": "execute_result"
    }
   ],
   "source": [
    "df_no_plau['sexo'].value_counts()/df_final['sexo'].value_counts()"
   ]
  },
  {
   "cell_type": "code",
   "execution_count": 25,
   "id": "6414ec24",
   "metadata": {},
   "outputs": [
    {
     "data": {
      "image/png": "[encoded data removed]",
      "text/plain": [
       "<Figure size 288x360 with 1 Axes>"
      ]
     },
     "metadata": {
      "needs_background": "light"
     },
     "output_type": "display_data"
    }
   ],
   "source": [
    "#data = df_no_plau.groupby(['id_individuo', 'sexo']).count()['peso'].reset_index() # Esto no se si esta bien, capaz en realidad no hay que agrupar por individuo\n",
    "g = sns.catplot(x=\"sexo\", kind=\"count\", data=df_no_plau, height=5, aspect=4/5)\n",
    "g.set_xlabels('Sexo')\n",
    "#plt.savefig('images/errores_sexo.png')\n",
    "plt.show()"
   ]
  },
  {
   "cell_type": "code",
   "execution_count": 26,
   "id": "c21970ae",
   "metadata": {},
   "outputs": [
    {
     "data": {
      "image/png": "[encoded data removed]",
      "text/plain": [
       "<Figure size 288x360 with 1 Axes>"
      ]
     },
     "metadata": {
      "needs_background": "light"
     },
     "output_type": "display_data"
    }
   ],
   "source": [
    "data = df_no_plau.groupby(['id_individuo', 'sexo']).count()['peso'].reset_index() # Esto no se si esta bien, capaz en realidad no hay que agrupar por individuo\n",
    "g = sns.catplot(x=\"sexo\", kind=\"count\", data=data, height=5, aspect=4/5)\n",
    "g.set_xlabels('Sexo')\n",
    "#plt.savefig('images/errores_sexo.png')\n",
    "plt.show()"
   ]
  },
  {
   "cell_type": "markdown",
   "id": "728f09c5",
   "metadata": {},
   "source": [
    "#### Rango etario"
   ]
  },
  {
   "cell_type": "code",
   "execution_count": 27,
   "id": "5ca4f9dd",
   "metadata": {},
   "outputs": [
    {
     "data": {
      "text/html": [
       "<div>\n",
       "<style scoped>\n",
       "    .dataframe tbody tr th:only-of-type {\n",
       "        vertical-align: middle;\n",
       "    }\n",
       "\n",
       "    .dataframe tbody tr th {\n",
       "        vertical-align: top;\n",
       "    }\n",
       "\n",
       "    .dataframe thead th {\n",
       "        text-align: right;\n",
       "    }\n",
       "</style>\n",
       "<table border=\"1\" class=\"dataframe\">\n",
       "  <thead>\n",
       "    <tr style=\"text-align: right;\">\n",
       "      <th></th>\n",
       "      <th>id_individuo</th>\n",
       "      <th>sexo</th>\n",
       "      <th>peso</th>\n",
       "      <th>talla</th>\n",
       "      <th>edad_dias</th>\n",
       "      <th>edad_meses</th>\n",
       "      <th>masa_corporal</th>\n",
       "      <th>haz</th>\n",
       "      <th>waz</th>\n",
       "      <th>bmiz</th>\n",
       "      <th>rango_etario</th>\n",
       "    </tr>\n",
       "  </thead>\n",
       "  <tbody>\n",
       "    <tr>\n",
       "      <th>145</th>\n",
       "      <td>37</td>\n",
       "      <td>F</td>\n",
       "      <td>3.2</td>\n",
       "      <td>49.0</td>\n",
       "      <td>160.0</td>\n",
       "      <td>5.2</td>\n",
       "      <td>13.33</td>\n",
       "      <td>-6.78</td>\n",
       "      <td>-6.36</td>\n",
       "      <td>-2.59</td>\n",
       "      <td>nacimiento - 6 meses</td>\n",
       "    </tr>\n",
       "    <tr>\n",
       "      <th>149</th>\n",
       "      <td>37</td>\n",
       "      <td>F</td>\n",
       "      <td>17.1</td>\n",
       "      <td>78.0</td>\n",
       "      <td>414.0</td>\n",
       "      <td>13.6</td>\n",
       "      <td>28.11</td>\n",
       "      <td>1.06</td>\n",
       "      <td>4.75</td>\n",
       "      <td>5.63</td>\n",
       "      <td>6 meses - 2 años</td>\n",
       "    </tr>\n",
       "    <tr>\n",
       "      <th>150</th>\n",
       "      <td>37</td>\n",
       "      <td>F</td>\n",
       "      <td>15.2</td>\n",
       "      <td>115.0</td>\n",
       "      <td>622.0</td>\n",
       "      <td>20.4</td>\n",
       "      <td>11.49</td>\n",
       "      <td>10.72</td>\n",
       "      <td>2.75</td>\n",
       "      <td>-3.85</td>\n",
       "      <td>6 meses - 2 años</td>\n",
       "    </tr>\n",
       "  </tbody>\n",
       "</table>\n",
       "</div>"
      ],
      "text/plain": [
       "     id_individuo sexo  peso  talla  edad_dias  edad_meses  masa_corporal  \\\n",
       "145            37    F   3.2   49.0      160.0         5.2          13.33   \n",
       "149            37    F  17.1   78.0      414.0        13.6          28.11   \n",
       "150            37    F  15.2  115.0      622.0        20.4          11.49   \n",
       "\n",
       "       haz   waz  bmiz          rango_etario  \n",
       "145  -6.78 -6.36 -2.59  nacimiento - 6 meses  \n",
       "149   1.06  4.75  5.63      6 meses - 2 años  \n",
       "150  10.72  2.75 -3.85      6 meses - 2 años  "
      ]
     },
     "execution_count": 27,
     "metadata": {},
     "output_type": "execute_result"
    }
   ],
   "source": [
    "df_no_plau[df_no_plau['id_individuo'] == 37] # puede tener errores en más de un rango etario"
   ]
  },
  {
   "cell_type": "code",
   "execution_count": 28,
   "id": "165702a4",
   "metadata": {},
   "outputs": [
    {
     "data": {
      "text/plain": [
       "32547"
      ]
     },
     "execution_count": 28,
     "metadata": {},
     "output_type": "execute_result"
    }
   ],
   "source": [
    "df_no_plau.groupby(['id_individuo', 'rango_etario']).ngroups # cantidad de combinaciones únicas id_individup-rango_etario"
   ]
  },
  {
   "cell_type": "code",
   "execution_count": 29,
   "id": "84edb69b",
   "metadata": {},
   "outputs": [
    {
     "data": {
      "text/html": [
       "<div>\n",
       "<style scoped>\n",
       "    .dataframe tbody tr th:only-of-type {\n",
       "        vertical-align: middle;\n",
       "    }\n",
       "\n",
       "    .dataframe tbody tr th {\n",
       "        vertical-align: top;\n",
       "    }\n",
       "\n",
       "    .dataframe thead th {\n",
       "        text-align: right;\n",
       "    }\n",
       "</style>\n",
       "<table border=\"1\" class=\"dataframe\">\n",
       "  <thead>\n",
       "    <tr style=\"text-align: right;\">\n",
       "      <th></th>\n",
       "      <th>rango_etario</th>\n",
       "      <th>id_individuo</th>\n",
       "      <th>per</th>\n",
       "    </tr>\n",
       "  </thead>\n",
       "  <tbody>\n",
       "    <tr>\n",
       "      <th>0</th>\n",
       "      <td>2 años - 5 años</td>\n",
       "      <td>10805</td>\n",
       "      <td>33.20</td>\n",
       "    </tr>\n",
       "    <tr>\n",
       "      <th>1</th>\n",
       "      <td>5 años - 19 años</td>\n",
       "      <td>7520</td>\n",
       "      <td>23.11</td>\n",
       "    </tr>\n",
       "    <tr>\n",
       "      <th>2</th>\n",
       "      <td>6 meses - 2 años</td>\n",
       "      <td>10625</td>\n",
       "      <td>32.65</td>\n",
       "    </tr>\n",
       "    <tr>\n",
       "      <th>3</th>\n",
       "      <td>nacimiento - 6 meses</td>\n",
       "      <td>3597</td>\n",
       "      <td>11.05</td>\n",
       "    </tr>\n",
       "  </tbody>\n",
       "</table>\n",
       "</div>"
      ],
      "text/plain": [
       "           rango_etario  id_individuo    per\n",
       "0       2 años - 5 años         10805  33.20\n",
       "1      5 años - 19 años          7520  23.11\n",
       "2      6 meses - 2 años         10625  32.65\n",
       "3  nacimiento - 6 meses          3597  11.05"
      ]
     },
     "execution_count": 29,
     "metadata": {},
     "output_type": "execute_result"
    }
   ],
   "source": [
    "no_plau_rangos = df_no_plau.groupby(['rango_etario']).nunique()['id_individuo'].reset_index()\n",
    "no_plau_rangos['per'] = no_plau_rangos['id_individuo'].apply(lambda x: round(x/ no_plau_rangos['id_individuo'].sum()*100, 2))\n",
    "no_plau_rangos\n",
    "# Está bien que sume más que la cantidad de individuos ya que como vimos en el caso anterior, un individuo puede tener errores en distintos rangos de edad"
   ]
  },
  {
   "cell_type": "code",
   "execution_count": 30,
   "id": "07bc1aa3",
   "metadata": {},
   "outputs": [
    {
     "data": {
      "text/plain": [
       "2 años - 5 años         33.376246\n",
       "6 meses - 2 años        32.902378\n",
       "5 años - 19 años        22.940177\n",
       "nacimiento - 6 meses    10.781199\n",
       "Name: rango_etario, dtype: float64"
      ]
     },
     "execution_count": 30,
     "metadata": {},
     "output_type": "execute_result"
    }
   ],
   "source": [
    "df_no_plau['rango_etario'].value_counts(normalize=True)*100 # es prácticamente el mismo porcentaje agrupando o no, pero qué es lo correcto ???"
   ]
  },
  {
   "cell_type": "code",
   "execution_count": 31,
   "id": "8c139d2a",
   "metadata": {},
   "outputs": [
    {
     "data": {
      "text/plain": [
       "5 años - 19 años        35.557022\n",
       "6 meses - 2 años        25.854812\n",
       "2 años - 5 años         25.420913\n",
       "nacimiento - 6 meses    13.167254\n",
       "Name: edad_dias, dtype: float64"
      ]
     },
     "execution_count": 31,
     "metadata": {},
     "output_type": "execute_result"
    }
   ],
   "source": [
    "# veamos los porcentajes de rangos en el df original\n",
    "df_final['edad_dias'].apply(lambda x: defino_rango(x)).value_counts(normalize=True)*100"
   ]
  },
  {
   "cell_type": "code",
   "execution_count": 32,
   "id": "59baeb42",
   "metadata": {},
   "outputs": [
    {
     "data": {
      "text/plain": [
       "2 años - 5 años         0.041497\n",
       "5 años - 19 años        0.020391\n",
       "6 meses - 2 años        0.040221\n",
       "nacimiento - 6 meses    0.025878\n",
       "dtype: float64"
      ]
     },
     "execution_count": 32,
     "metadata": {},
     "output_type": "execute_result"
    }
   ],
   "source": [
    "df_no_plau['rango_etario'].value_counts()/df_final['edad_dias'].apply(lambda x: defino_rango(x)).value_counts()"
   ]
  },
  {
   "cell_type": "code",
   "execution_count": 33,
   "id": "9a4b002d",
   "metadata": {},
   "outputs": [
    {
     "data": {
      "image/png": "[encoded data removed]",
      "text/plain": [
       "<Figure size 504x360 with 1 Axes>"
      ]
     },
     "metadata": {
      "needs_background": "light"
     },
     "output_type": "display_data"
    }
   ],
   "source": [
    "order = ['nacimiento - 6 meses', '6 meses - 2 años', '2 años - 5 años', '5 años - 19 años']\n",
    "g = sns.catplot(x=\"rango_etario\", kind=\"count\", data=df_no_plau, height=5, aspect=7/5, order=order, palette=sns.color_palette(\"hls\",5))\n",
    "g.set_xlabels('Rango etario')\n",
    "#plt.savefig('images/errores_rango.png')\n",
    "plt.show()"
   ]
  },
  {
   "cell_type": "code",
   "execution_count": 34,
   "id": "102b487f",
   "metadata": {},
   "outputs": [
    {
     "data": {
      "image/png": "[encoded data removed]",
      "text/plain": [
       "<Figure size 504x360 with 1 Axes>"
      ]
     },
     "metadata": {
      "needs_background": "light"
     },
     "output_type": "display_data"
    }
   ],
   "source": [
    "data = df_no_plau.groupby(['rango_etario', 'id_individuo']).count()['peso'].reset_index()\n",
    "order = ['nacimiento - 6 meses', '6 meses - 2 años', '2 años - 5 años', '5 años - 19 años']\n",
    "g = sns.catplot(x=\"rango_etario\", kind=\"count\", data=data, height=5, aspect=7/5, order=order, palette=sns.color_palette(\"hls\",5))\n",
    "g.set_xlabels('Rango etario')\n",
    "#plt.savefig('images/errores_rango.png')\n",
    "plt.show()"
   ]
  },
  {
   "cell_type": "code",
   "execution_count": 35,
   "id": "0a74f775",
   "metadata": {},
   "outputs": [
    {
     "data": {
      "text/html": [
       "<div>\n",
       "<style scoped>\n",
       "    .dataframe tbody tr th:only-of-type {\n",
       "        vertical-align: middle;\n",
       "    }\n",
       "\n",
       "    .dataframe tbody tr th {\n",
       "        vertical-align: top;\n",
       "    }\n",
       "\n",
       "    .dataframe thead th {\n",
       "        text-align: right;\n",
       "    }\n",
       "</style>\n",
       "<table border=\"1\" class=\"dataframe\">\n",
       "  <thead>\n",
       "    <tr style=\"text-align: right;\">\n",
       "      <th></th>\n",
       "      <th>sexo</th>\n",
       "      <th>rango_etario</th>\n",
       "      <th>id_individuo</th>\n",
       "    </tr>\n",
       "  </thead>\n",
       "  <tbody>\n",
       "    <tr>\n",
       "      <th>0</th>\n",
       "      <td>F</td>\n",
       "      <td>2 años - 5 años</td>\n",
       "      <td>4993</td>\n",
       "    </tr>\n",
       "    <tr>\n",
       "      <th>1</th>\n",
       "      <td>F</td>\n",
       "      <td>5 años - 19 años</td>\n",
       "      <td>3716</td>\n",
       "    </tr>\n",
       "    <tr>\n",
       "      <th>2</th>\n",
       "      <td>F</td>\n",
       "      <td>6 meses - 2 años</td>\n",
       "      <td>4986</td>\n",
       "    </tr>\n",
       "    <tr>\n",
       "      <th>3</th>\n",
       "      <td>F</td>\n",
       "      <td>nacimiento - 6 meses</td>\n",
       "      <td>1655</td>\n",
       "    </tr>\n",
       "    <tr>\n",
       "      <th>4</th>\n",
       "      <td>M</td>\n",
       "      <td>2 años - 5 años</td>\n",
       "      <td>5812</td>\n",
       "    </tr>\n",
       "    <tr>\n",
       "      <th>5</th>\n",
       "      <td>M</td>\n",
       "      <td>5 años - 19 años</td>\n",
       "      <td>3804</td>\n",
       "    </tr>\n",
       "    <tr>\n",
       "      <th>6</th>\n",
       "      <td>M</td>\n",
       "      <td>6 meses - 2 años</td>\n",
       "      <td>5639</td>\n",
       "    </tr>\n",
       "    <tr>\n",
       "      <th>7</th>\n",
       "      <td>M</td>\n",
       "      <td>nacimiento - 6 meses</td>\n",
       "      <td>1942</td>\n",
       "    </tr>\n",
       "  </tbody>\n",
       "</table>\n",
       "</div>"
      ],
      "text/plain": [
       "  sexo          rango_etario  id_individuo\n",
       "0    F       2 años - 5 años          4993\n",
       "1    F      5 años - 19 años          3716\n",
       "2    F      6 meses - 2 años          4986\n",
       "3    F  nacimiento - 6 meses          1655\n",
       "4    M       2 años - 5 años          5812\n",
       "5    M      5 años - 19 años          3804\n",
       "6    M      6 meses - 2 años          5639\n",
       "7    M  nacimiento - 6 meses          1942"
      ]
     },
     "execution_count": 35,
     "metadata": {},
     "output_type": "execute_result"
    }
   ],
   "source": [
    "df_no_plau.groupby(['sexo', 'rango_etario']).nunique()['id_individuo'].reset_index()"
   ]
  },
  {
   "cell_type": "code",
   "execution_count": 36,
   "id": "46219c69",
   "metadata": {},
   "outputs": [
    {
     "data": {
      "text/html": [
       "<div>\n",
       "<style scoped>\n",
       "    .dataframe tbody tr th:only-of-type {\n",
       "        vertical-align: middle;\n",
       "    }\n",
       "\n",
       "    .dataframe tbody tr th {\n",
       "        vertical-align: top;\n",
       "    }\n",
       "\n",
       "    .dataframe thead th {\n",
       "        text-align: right;\n",
       "    }\n",
       "</style>\n",
       "<table border=\"1\" class=\"dataframe\">\n",
       "  <thead>\n",
       "    <tr style=\"text-align: right;\">\n",
       "      <th>sexo</th>\n",
       "      <th>F</th>\n",
       "      <th>M</th>\n",
       "    </tr>\n",
       "    <tr>\n",
       "      <th>rango_etario</th>\n",
       "      <th></th>\n",
       "      <th></th>\n",
       "    </tr>\n",
       "  </thead>\n",
       "  <tbody>\n",
       "    <tr>\n",
       "      <th>2 años - 5 años</th>\n",
       "      <td>4993</td>\n",
       "      <td>5812</td>\n",
       "    </tr>\n",
       "    <tr>\n",
       "      <th>5 años - 19 años</th>\n",
       "      <td>3716</td>\n",
       "      <td>3804</td>\n",
       "    </tr>\n",
       "    <tr>\n",
       "      <th>6 meses - 2 años</th>\n",
       "      <td>4986</td>\n",
       "      <td>5639</td>\n",
       "    </tr>\n",
       "    <tr>\n",
       "      <th>nacimiento - 6 meses</th>\n",
       "      <td>1655</td>\n",
       "      <td>1942</td>\n",
       "    </tr>\n",
       "  </tbody>\n",
       "</table>\n",
       "</div>"
      ],
      "text/plain": [
       "sexo                     F     M\n",
       "rango_etario                    \n",
       "2 años - 5 años       4993  5812\n",
       "5 años - 19 años      3716  3804\n",
       "6 meses - 2 años      4986  5639\n",
       "nacimiento - 6 meses  1655  1942"
      ]
     },
     "execution_count": 36,
     "metadata": {},
     "output_type": "execute_result"
    }
   ],
   "source": [
    "# no se si sirve esto porque porque un mismo individuo puede figurar en distintos rangos de edad\n",
    "# pero en F/M una sola vez entonces la suma de los casos queda medio extraña, capaz conviene mostrarlo en distintas tablas\n",
    "pd.pivot(df_no_plau.groupby(['sexo', 'rango_etario']).nunique()['id_individuo'].reset_index(), index='rango_etario', columns='sexo', values='id_individuo')"
   ]
  },
  {
   "cell_type": "markdown",
   "id": "918af445",
   "metadata": {},
   "source": [
    "### Registros plausibles"
   ]
  },
  {
   "cell_type": "markdown",
   "id": "31a8ad29",
   "metadata": {},
   "source": [
    "#### Problemas en la serie de mediciones de Talla"
   ]
  },
  {
   "cell_type": "code",
   "execution_count": 37,
   "id": "8a34c5c7",
   "metadata": {},
   "outputs": [
    {
     "data": {
      "text/plain": [
       "[97.0, 100.0, 96.0, 98.0]"
      ]
     },
     "execution_count": 37,
     "metadata": {},
     "output_type": "execute_result"
    }
   ],
   "source": [
    "df_plau[df_plau['id_individuo']==6].sort_values('edad_dias')['talla'].tolist()"
   ]
  },
  {
   "cell_type": "code",
   "execution_count": 38,
   "id": "24a9598f",
   "metadata": {
    "collapsed": true
   },
   "outputs": [
    {
     "ename": "KeyboardInterrupt",
     "evalue": "",
     "output_type": "error",
     "traceback": [
      "\u001b[1;31m---------------------------------------------------------------------------\u001b[0m",
      "\u001b[1;31mKeyboardInterrupt\u001b[0m                         Traceback (most recent call last)",
      "\u001b[1;32m<ipython-input-38-0aaac2350d61>\u001b[0m in \u001b[0;36m<module>\u001b[1;34m\u001b[0m\n\u001b[0;32m     10\u001b[0m     \u001b[1;31m# me quedo con el pedazo de df que corresponde al individuo\u001b[0m\u001b[1;33m\u001b[0m\u001b[1;33m\u001b[0m\u001b[1;33m\u001b[0m\u001b[0m\n\u001b[0;32m     11\u001b[0m     \u001b[1;31m# lo ordeno por edad y me quedo con los valores de la talla\u001b[0m\u001b[1;33m\u001b[0m\u001b[1;33m\u001b[0m\u001b[1;33m\u001b[0m\u001b[0m\n\u001b[1;32m---> 12\u001b[1;33m     \u001b[0mtallas\u001b[0m \u001b[1;33m=\u001b[0m \u001b[0mdf_plau\u001b[0m\u001b[1;33m[\u001b[0m\u001b[0mdf_plau\u001b[0m\u001b[1;33m[\u001b[0m\u001b[1;34m'id_individuo'\u001b[0m\u001b[1;33m]\u001b[0m\u001b[1;33m==\u001b[0m\u001b[0mi\u001b[0m\u001b[1;33m]\u001b[0m\u001b[1;33m.\u001b[0m\u001b[0msort_values\u001b[0m\u001b[1;33m(\u001b[0m\u001b[1;34m'edad_dias'\u001b[0m\u001b[1;33m)\u001b[0m\u001b[1;33m[\u001b[0m\u001b[1;34m'talla'\u001b[0m\u001b[1;33m]\u001b[0m\u001b[1;33m.\u001b[0m\u001b[0mtolist\u001b[0m\u001b[1;33m(\u001b[0m\u001b[1;33m)\u001b[0m\u001b[1;33m\u001b[0m\u001b[1;33m\u001b[0m\u001b[0m\n\u001b[0m\u001b[0;32m     13\u001b[0m \u001b[1;33m\u001b[0m\u001b[0m\n\u001b[0;32m     14\u001b[0m     \u001b[0mtalla\u001b[0m \u001b[1;33m=\u001b[0m \u001b[1;36m0\u001b[0m\u001b[1;33m\u001b[0m\u001b[1;33m\u001b[0m\u001b[0m\n",
      "\u001b[1;32m~\\anaconda3\\lib\\site-packages\\pandas\\core\\frame.py\u001b[0m in \u001b[0;36m__getitem__\u001b[1;34m(self, key)\u001b[0m\n\u001b[0;32m   3447\u001b[0m         \u001b[1;31m# Do we have a (boolean) 1d indexer?\u001b[0m\u001b[1;33m\u001b[0m\u001b[1;33m\u001b[0m\u001b[1;33m\u001b[0m\u001b[0m\n\u001b[0;32m   3448\u001b[0m         \u001b[1;32mif\u001b[0m \u001b[0mcom\u001b[0m\u001b[1;33m.\u001b[0m\u001b[0mis_bool_indexer\u001b[0m\u001b[1;33m(\u001b[0m\u001b[0mkey\u001b[0m\u001b[1;33m)\u001b[0m\u001b[1;33m:\u001b[0m\u001b[1;33m\u001b[0m\u001b[1;33m\u001b[0m\u001b[0m\n\u001b[1;32m-> 3449\u001b[1;33m             \u001b[1;32mreturn\u001b[0m \u001b[0mself\u001b[0m\u001b[1;33m.\u001b[0m\u001b[0m_getitem_bool_array\u001b[0m\u001b[1;33m(\u001b[0m\u001b[0mkey\u001b[0m\u001b[1;33m)\u001b[0m\u001b[1;33m\u001b[0m\u001b[1;33m\u001b[0m\u001b[0m\n\u001b[0m\u001b[0;32m   3450\u001b[0m \u001b[1;33m\u001b[0m\u001b[0m\n\u001b[0;32m   3451\u001b[0m         \u001b[1;31m# We are left with two options: a single key, and a collection of keys,\u001b[0m\u001b[1;33m\u001b[0m\u001b[1;33m\u001b[0m\u001b[1;33m\u001b[0m\u001b[0m\n",
      "\u001b[1;32m~\\anaconda3\\lib\\site-packages\\pandas\\core\\frame.py\u001b[0m in \u001b[0;36m_getitem_bool_array\u001b[1;34m(self, key)\u001b[0m\n\u001b[0;32m   3501\u001b[0m         \u001b[1;31m# be reindexed to match DataFrame rows\u001b[0m\u001b[1;33m\u001b[0m\u001b[1;33m\u001b[0m\u001b[1;33m\u001b[0m\u001b[0m\n\u001b[0;32m   3502\u001b[0m         \u001b[0mkey\u001b[0m \u001b[1;33m=\u001b[0m \u001b[0mcheck_bool_indexer\u001b[0m\u001b[1;33m(\u001b[0m\u001b[0mself\u001b[0m\u001b[1;33m.\u001b[0m\u001b[0mindex\u001b[0m\u001b[1;33m,\u001b[0m \u001b[0mkey\u001b[0m\u001b[1;33m)\u001b[0m\u001b[1;33m\u001b[0m\u001b[1;33m\u001b[0m\u001b[0m\n\u001b[1;32m-> 3503\u001b[1;33m         \u001b[0mindexer\u001b[0m \u001b[1;33m=\u001b[0m \u001b[0mkey\u001b[0m\u001b[1;33m.\u001b[0m\u001b[0mnonzero\u001b[0m\u001b[1;33m(\u001b[0m\u001b[1;33m)\u001b[0m\u001b[1;33m[\u001b[0m\u001b[1;36m0\u001b[0m\u001b[1;33m]\u001b[0m\u001b[1;33m\u001b[0m\u001b[1;33m\u001b[0m\u001b[0m\n\u001b[0m\u001b[0;32m   3504\u001b[0m         \u001b[1;32mreturn\u001b[0m \u001b[0mself\u001b[0m\u001b[1;33m.\u001b[0m\u001b[0m_take_with_is_copy\u001b[0m\u001b[1;33m(\u001b[0m\u001b[0mindexer\u001b[0m\u001b[1;33m,\u001b[0m \u001b[0maxis\u001b[0m\u001b[1;33m=\u001b[0m\u001b[1;36m0\u001b[0m\u001b[1;33m)\u001b[0m\u001b[1;33m\u001b[0m\u001b[1;33m\u001b[0m\u001b[0m\n\u001b[0;32m   3505\u001b[0m \u001b[1;33m\u001b[0m\u001b[0m\n",
      "\u001b[1;31mKeyboardInterrupt\u001b[0m: "
     ]
    }
   ],
   "source": [
    "# lista de individuos\n",
    "individuos = df_plau['id_individuo'].unique().tolist()\n",
    "\n",
    "individuos_error = []\n",
    "diferencias = []\n",
    "\n",
    "# habría que ver cuántos cm consideramos en estos casos, ya que la diferencia podría ser por distintos elementos de medición\n",
    "for i in individuos:\n",
    "    \n",
    "    # me quedo con el pedazo de df que corresponde al individuo\n",
    "    # lo ordeno por edad y me quedo con los valores de la talla\n",
    "    tallas = df_plau[df_plau['id_individuo']==i].sort_values('edad_dias')['talla'].tolist()\n",
    "    \n",
    "    talla = 0\n",
    "    j = 0\n",
    "    while j < len(tallas):\n",
    "        \n",
    "        if tallas[j] < talla - 1: # en este caso considero que puede haber un error de 1 cm\n",
    "            #print(i)\n",
    "            individuos_error.append(i)\n",
    "            diferencias.append(talla-tallas[j])\n",
    "            break\n",
    "            \n",
    "        else:\n",
    "            talla = tallas[j]\n",
    "        \n",
    "        j = j+1"
   ]
  },
  {
   "cell_type": "code",
   "execution_count": null,
   "id": "b13ad152",
   "metadata": {},
   "outputs": [],
   "source": [
    "len(individuos_con) # 55715\n",
    "#individuos_con = individuos_error\n",
    "# si descarto los de error 1 cm\n",
    "len(individuos_error)"
   ]
  },
  {
   "cell_type": "code",
   "execution_count": 57,
   "id": "b06565c3",
   "metadata": {},
   "outputs": [
    {
     "data": {
      "text/plain": [
       "Counter({1.0: 11962,\n",
       "         2.0: 8134,\n",
       "         3.0: 6110,\n",
       "         4.0: 4727,\n",
       "         5.0: 4273,\n",
       "         6.0: 3586,\n",
       "         7.0: 2707,\n",
       "         8.0: 2343,\n",
       "         9.0: 1768,\n",
       "         10.0: 1872,\n",
       "         11.0: 1241,\n",
       "         12.0: 1076,\n",
       "         13.0: 877,\n",
       "         14.0: 698,\n",
       "         15.0: 762,\n",
       "         16.0: 530,\n",
       "         17.0: 449,\n",
       "         18.0: 393,\n",
       "         19.0: 265,\n",
       "         20.0: 319,\n",
       "         21.0: 233,\n",
       "         22.0: 187,\n",
       "         23.0: 148,\n",
       "         24.0: 141,\n",
       "         25.0: 152,\n",
       "         26.0: 111,\n",
       "         27.0: 91,\n",
       "         28.0: 86,\n",
       "         29.0: 59,\n",
       "         30.0: 76,\n",
       "         31.0: 47,\n",
       "         32.0: 38,\n",
       "         33.0: 30,\n",
       "         34.0: 29,\n",
       "         35.0: 36,\n",
       "         36.0: 27,\n",
       "         37.0: 18,\n",
       "         38.0: 12,\n",
       "         39.0: 13,\n",
       "         40.0: 12,\n",
       "         41.0: 12,\n",
       "         42.0: 13,\n",
       "         43.0: 6,\n",
       "         44.0: 11,\n",
       "         45.0: 10,\n",
       "         46.0: 4,\n",
       "         47.0: 6,\n",
       "         48.0: 4,\n",
       "         49.0: 1,\n",
       "         50.0: 3,\n",
       "         51.0: 2,\n",
       "         53.0: 1,\n",
       "         55.0: 2,\n",
       "         58.0: 2,\n",
       "         60.0: 1})"
      ]
     },
     "execution_count": 57,
     "metadata": {},
     "output_type": "execute_result"
    }
   ],
   "source": [
    "from collections import Counter\n",
    "diferencias.sort()\n",
    "Counter(diferencias)"
   ]
  },
  {
   "cell_type": "markdown",
   "id": "9f906a9c",
   "metadata": {},
   "source": [
    "#### Peso"
   ]
  },
  {
   "cell_type": "code",
   "execution_count": 10,
   "id": "a7ce33e8",
   "metadata": {
    "scrolled": true
   },
   "outputs": [],
   "source": [
    "# lista de individuos\n",
    "individuos = df_plau['id_individuo'].unique().tolist()\n",
    "\n",
    "individuos_error_peso = []\n",
    "diferencias = []\n",
    "\n",
    "for i in individuos:\n",
    "    \n",
    "    # me quedo con el pedazo de df que corresponde al individuo\n",
    "    # lo ordeno por edad y me quedo con los valores de la talla\n",
    "    pesos = df_plau[df_plau['id_individuo']==i].sort_values('edad_dias')['peso'].tolist()\n",
    "    \n",
    "    \n",
    "    j = 0\n",
    "    while j < len(pesos)-1:\n",
    "        \n",
    "        if pesos[j+1] < pesos[j]:\n",
    "            individuos_error_peso.append(i)\n",
    "            diferencias.append(pesos[j]-pesos[j+1])\n",
    "    \n",
    "        j = j+1"
   ]
  },
  {
   "cell_type": "code",
   "execution_count": null,
   "id": "7301a4ad",
   "metadata": {},
   "outputs": [],
   "source": []
  },
  {
   "cell_type": "code",
   "execution_count": null,
   "id": "b6ba1afd",
   "metadata": {},
   "outputs": [],
   "source": []
  },
  {
   "cell_type": "code",
   "execution_count": null,
   "id": "f31d4abd",
   "metadata": {},
   "outputs": [],
   "source": [
    "df_plau[df_plau['id_individuo'].isin(individuos_error_peso)].nunique()"
   ]
  },
  {
   "cell_type": "code",
   "execution_count": 11,
   "id": "e5d57db6",
   "metadata": {},
   "outputs": [
    {
     "ename": "KeyboardInterrupt",
     "evalue": "",
     "output_type": "error",
     "traceback": [
      "\u001b[0;31m---------------------------------------------------------------------------\u001b[0m",
      "\u001b[0;31mKeyboardInterrupt\u001b[0m                         Traceback (most recent call last)",
      "Input \u001b[0;32mIn [11]\u001b[0m, in \u001b[0;36m<cell line: 7>\u001b[0;34m()\u001b[0m\n\u001b[1;32m     17\u001b[0m meses \u001b[38;5;241m=\u001b[39m df_no_plau_peso[(df_no_plau_peso[\u001b[38;5;124m'\u001b[39m\u001b[38;5;124mrango_etario\u001b[39m\u001b[38;5;124m'\u001b[39m]\u001b[38;5;241m==\u001b[39mrango)\u001b[38;5;241m&\u001b[39m(df_no_plau_peso[\u001b[38;5;124m'\u001b[39m\u001b[38;5;124mid_individuo\u001b[39m\u001b[38;5;124m'\u001b[39m]\u001b[38;5;241m==\u001b[39mi)]\u001b[38;5;241m.\u001b[39msort_values(\u001b[38;5;124m'\u001b[39m\u001b[38;5;124medad_dias\u001b[39m\u001b[38;5;124m'\u001b[39m)[\u001b[38;5;124m'\u001b[39m\u001b[38;5;124medad_meses\u001b[39m\u001b[38;5;124m'\u001b[39m]\u001b[38;5;241m.\u001b[39mtolist()\n\u001b[1;32m     19\u001b[0m j \u001b[38;5;241m=\u001b[39m \u001b[38;5;241m0\u001b[39m\n\u001b[0;32m---> 20\u001b[0m \u001b[38;5;28;01mwhile\u001b[39;00m j \u001b[38;5;241m<\u001b[39m \u001b[38;5;28;43mlen\u001b[39;49m(pesos)\u001b[38;5;241m-\u001b[39m\u001b[38;5;241m1\u001b[39m:\n\u001b[1;32m     22\u001b[0m     \u001b[38;5;28;01mif\u001b[39;00m(pesos[j\u001b[38;5;241m+\u001b[39m\u001b[38;5;241m1\u001b[39m] \u001b[38;5;241m<\u001b[39m pesos[j]):\u001b[38;5;66;03m#aca evaluo si en la siguiente fecha el peso es <\u001b[39;00m\n\u001b[1;32m     23\u001b[0m         dif_pesos\u001b[38;5;241m.\u001b[39mappend(pesos[j]\u001b[38;5;241m-\u001b[39mpesos[j\u001b[38;5;241m+\u001b[39m\u001b[38;5;241m1\u001b[39m])\n",
      "\u001b[0;31mKeyboardInterrupt\u001b[0m: "
     ]
    }
   ],
   "source": [
    "# Acá le voy a pasar los que baja el peso\n",
    "df_no_plau_peso = df_plau[df_plau['id_individuo'].isin(individuos_error_peso)]\n",
    "\n",
    "dic_deltas = {}\n",
    "\n",
    "# habría que ver cuántos cm consideramos en estos casos, ya que la diferencia podría ser por distintos elementos de medición\n",
    "for rango in df_no_plau_peso['rango_etario'].unique().tolist():\n",
    "    \n",
    "    dif_pesos = []\n",
    "    dif_meses = []\n",
    "    \n",
    "    for i in df_no_plau_peso[df_no_plau_peso['rango_etario']==rango]['id_individuo'].unique().tolist():\n",
    "    \n",
    "        # me quedo con el pedazo de df que corresponde al individuo\n",
    "        # lo ordeno por edad y me quedo con los valores de la talla y la edad en meses\n",
    "        pesos = df_no_plau_peso[(df_no_plau_peso['rango_etario']==rango)&(df_no_plau_peso['id_individuo']==i)].sort_values('edad_dias')['peso'].tolist()\n",
    "        meses = df_no_plau_peso[(df_no_plau_peso['rango_etario']==rango)&(df_no_plau_peso['id_individuo']==i)].sort_values('edad_dias')['edad_meses'].tolist()\n",
    "    \n",
    "        j = 0\n",
    "        while j < len(pesos)-1:\n",
    "            \n",
    "            if(pesos[j+1] < pesos[j]):#aca evaluo si en la siguiente fecha el peso es <\n",
    "                dif_pesos.append(pesos[j]-pesos[j+1])\n",
    "                dif_meses.append(meses[j+1]-meses[j])        \n",
    "                j = j+1\n",
    "            \n",
    "    dic_deltas[rango] = [dif_pesos, dif_meses]\n",
    "    print(f'Terminó rango {rango}')"
   ]
  },
  {
   "cell_type": "code",
   "execution_count": null,
   "id": "8bd4e64e",
   "metadata": {},
   "outputs": [],
   "source": []
  },
  {
   "cell_type": "code",
   "execution_count": null,
   "id": "0b9194a2",
   "metadata": {},
   "outputs": [],
   "source": []
  },
  {
   "cell_type": "code",
   "execution_count": null,
   "id": "fa18238a",
   "metadata": {},
   "outputs": [],
   "source": []
  },
  {
   "cell_type": "code",
   "execution_count": null,
   "id": "938fe1a4",
   "metadata": {},
   "outputs": [],
   "source": [
    "# Acá le voy a pasar los que no baja el peso\n",
    "df_plau_peso = df_plau[~df_plau['id_individuo'].isin(individuos_error_peso)]\n",
    "\n",
    "dic_deltas = {}\n",
    "\n",
    "# habría que ver cuántos cm consideramos en estos casos, ya que la diferencia podría ser por distintos elementos de medición\n",
    "for rango in df_plau['rango_etario'].unique().tolist():\n",
    "    \n",
    "    dif_pesos = []\n",
    "    dif_meses = []\n",
    "    \n",
    "    for i in df_plau[df_plau['rango_etario']==rango]['id_individuo'].unique().tolist():\n",
    "    \n",
    "        # me quedo con el pedazo de df que corresponde al individuo\n",
    "        # lo ordeno por edad y me quedo con los valores de la talla y la edad en meses\n",
    "        pesos = df_plau[(df_plau['rango_etario']==rango)&(df_plau['id_individuo']==i)].sort_values('edad_dias')['peso'].tolist()\n",
    "        meses = df_plau[(df_plau['rango_etario']==rango)&(df_plau['id_individuo']==i)].sort_values('edad_dias')['edad_meses'].tolist()\n",
    "    \n",
    "        j = 0\n",
    "        while j < len(pesos)-1:\n",
    "            \n",
    "            dif_pesos.append(pesos[j+1]-pesos[j])\n",
    "            dif_meses.append(meses[j+1]-meses[j])        \n",
    "            j = j+1\n",
    "            \n",
    "    dic_deltas[rango] = [dif_pesos, dif_meses]\n",
    "    print(f'Terminó rango {rango}')"
   ]
  },
  {
   "cell_type": "code",
   "execution_count": 1,
   "id": "079211a1",
   "metadata": {
    "collapsed": true
   },
   "outputs": [
    {
     "ename": "NameError",
     "evalue": "name 'dic_deltas' is not defined",
     "output_type": "error",
     "traceback": [
      "\u001b[1;31m---------------------------------------------------------------------------\u001b[0m",
      "\u001b[1;31mNameError\u001b[0m                                 Traceback (most recent call last)",
      "\u001b[1;32m<ipython-input-1-dea925cf5960>\u001b[0m in \u001b[0;36m<module>\u001b[1;34m\u001b[0m\n\u001b[1;32m----> 1\u001b[1;33m \u001b[0mdic_deltas\u001b[0m\u001b[1;33m[\u001b[0m\u001b[1;34m'5 años - 19 años'\u001b[0m\u001b[1;33m]\u001b[0m\u001b[1;33m[\u001b[0m\u001b[1;36m0\u001b[0m\u001b[1;33m]\u001b[0m\u001b[1;33m\u001b[0m\u001b[1;33m\u001b[0m\u001b[0m\n\u001b[0m",
      "\u001b[1;31mNameError\u001b[0m: name 'dic_deltas' is not defined"
     ]
    }
   ],
   "source": [
    "dic_deltas['5 años - 19 años'][0]"
   ]
  },
  {
   "cell_type": "code",
   "execution_count": 26,
   "id": "9e28e548",
   "metadata": {},
   "outputs": [
    {
     "data": {
      "text/plain": [
       "<AxesSubplot:>"
      ]
     },
     "execution_count": 26,
     "metadata": {},
     "output_type": "execute_result"
    },
    {
     "data": {
      "image/png": "[encoded data removed]",
      "text/plain": [
       "<Figure size 432x288 with 1 Axes>"
      ]
     },
     "metadata": {
      "needs_background": "light"
     },
     "output_type": "display_data"
    }
   ],
   "source": [
    "pd.Series(dic_deltas['5 años - 19 años'][0]).hist(bins=50)"
   ]
  },
  {
   "cell_type": "code",
   "execution_count": 27,
   "id": "293feb35",
   "metadata": {},
   "outputs": [
    {
     "data": {
      "text/plain": [
       "<AxesSubplot:>"
      ]
     },
     "execution_count": 27,
     "metadata": {},
     "output_type": "execute_result"
    },
    {
     "data": {
      "image/png": "[encoded data removed]",
      "text/plain": [
       "<Figure size 432x288 with 1 Axes>"
      ]
     },
     "metadata": {
      "needs_background": "light"
     },
     "output_type": "display_data"
    }
   ],
   "source": [
    "pd.Series(dic_deltas['5 años - 19 años'][1]).hist(bins=50)"
   ]
  },
  {
   "cell_type": "code",
   "execution_count": 28,
   "id": "a43519b2",
   "metadata": {},
   "outputs": [
    {
     "data": {
      "text/plain": [
       "<AxesSubplot:>"
      ]
     },
     "execution_count": 28,
     "metadata": {},
     "output_type": "execute_result"
    },
    {
     "data": {
      "image/png": "[encoded data removed]",
      "text/plain": [
       "<Figure size 432x288 with 1 Axes>"
      ]
     },
     "metadata": {
      "needs_background": "light"
     },
     "output_type": "display_data"
    }
   ],
   "source": [
    "pd.Series(dic_deltas['nacimiento - 6 meses'][0]).hist(bins=50)"
   ]
  },
  {
   "cell_type": "code",
   "execution_count": 29,
   "id": "bd4a29e4",
   "metadata": {},
   "outputs": [
    {
     "data": {
      "text/plain": [
       "<AxesSubplot:>"
      ]
     },
     "execution_count": 29,
     "metadata": {},
     "output_type": "execute_result"
    },
    {
     "data": {
      "image/png": "[encoded data removed]",
      "text/plain": [
       "<Figure size 432x288 with 1 Axes>"
      ]
     },
     "metadata": {
      "needs_background": "light"
     },
     "output_type": "display_data"
    }
   ],
   "source": [
    "pd.Series(dic_deltas['nacimiento - 6 meses'][1]).hist(bins=50)"
   ]
  },
  {
   "cell_type": "code",
   "execution_count": null,
   "id": "533481b3",
   "metadata": {},
   "outputs": [],
   "source": [
    "# definir para la talla cuánto puede bajar la medición \n",
    "# tambieén se puede definir cuánto es lógico que aumente\n",
    "# lo mismo para el peso \n",
    "# repetir el mismo análisis anterior (para los no plausibles) pero para estos casos\n",
    "# definir estas reglas con las que identificamos los casos, para que la serie de mediciones sea consistente\n",
    "# proponer mecanismo de remediacion automática para estos casos "
   ]
  },
  {
   "cell_type": "code",
   "execution_count": null,
   "id": "850460a3",
   "metadata": {},
   "outputs": [],
   "source": [
    "# PESO\n",
    "    # 1er mes:  # 907 gramos en peso. \n",
    "                # Lo normal es una ganancia de peso de alrededor de 150-250 gramos a la semana durante el primer mes de vida o 20 gramos al día.\n",
    "    # 1 a 3 meses: aumento de 680 a 900 gramos por mes\n",
    "    \n",
    "    # Quiero saber cuánto es aceptable que baje de peso ???\n",
    "\n",
    "\n",
    "# TALLA\n",
    "    # 1er mes: de 2,5 a 3,8 cm\n",
    "    # 1 a 3 meses: 2.50 cm por mes\n",
    "    # 1er año: durante el primero año el niño crece unos 25 centímetros. Se estima un aumento de talla promedio de dos centímetros al mes\n",
    "    # 2do año: crecerá unos 12,5 centímetros.\n",
    "    # entre los dos y tres años se estima que aumente una media de 8 centímetros, entre los tres y los cuatro, 7 centímetros, entre los cuatro y los cinco, 6 centímetros, y partir de los 6 años una media de 4 centímetros por año.\n",
    "    # la media de edad a la que cesa el crecimiento en los varones es a los 21 años y en las mujeres a los 17 años.\n",
    "\n",
    "#############33\n",
    "    \n",
    "    # Del nacimiento a los 6 meses, un bebé puede crecer de 1/2 a 1 pulgada (aprox. 1.5 a 2.5 centímetros) por mes y aumentar entre 5 y 7 onzas (de 140 a 200 gramos) por semana. Puedes esperar que tu bebé haya doblado su peso al nacer cuando tenga más o menos 5 meses.\n",
    "    # Entre los 6 y los 12 meses, puede crecer un 3/8 de pulgada (como un centímetro) por mes y aumentar entre 3 a 5 onzas (aprox. 85 a 140 gramos) por semana. Puedes esperar que tu bebé triplique su peso al nacer para el momento en que tenga 1 año.\n",
    "    # Durante los primeros tres meses, el aumento de peso oscila entre 750 - 900 gramos mensuales.\n",
    "    # Entre el tercero y sexto mes, decrece y el aumento gira en torno a 500 - 600 gramos mensuales.\n",
    "    # Entre el sexto y noveno mes, el aumento de peso es menor, entre 350 - 400 gramos mensuales.\n",
    "    # Y, finalmente, entre el noveno mes y el año de edad, el promedio mensual se sitúa entre 250 - 300 gramos"
   ]
  }
 ],
 "metadata": {
  "kernelspec": {
   "display_name": "Python 3 (ipykernel)",
   "language": "python",
   "name": "python3"
  },
  "language_info": {
   "codemirror_mode": {
    "name": "ipython",
    "version": 3
   },
   "file_extension": ".py",
   "mimetype": "text/x-python",
   "name": "python",
   "nbconvert_exporter": "python",
   "pygments_lexer": "ipython3",
   "version": "3.9.7"
  }
 },
 "nbformat": 4,
 "nbformat_minor": 5
}
