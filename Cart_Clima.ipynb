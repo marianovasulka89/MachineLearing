{
 "cells": [
  {
   "cell_type": "code",
   "execution_count": 1,
   "id": "2c7f45df",
   "metadata": {},
   "outputs": [
    {
     "data": {
      "text/plain": [
       "Index(['Date', 'Location', 'MinTemp', 'MaxTemp', 'Rainfall', 'Evaporation',\n",
       "       'Sunshine', 'WindGustDir', 'WindGustSpeed', 'WindDir9am', 'WindDir3pm',\n",
       "       'WindSpeed9am', 'WindSpeed3pm', 'Humidity9am', 'Humidity3pm',\n",
       "       'Pressure9am', 'Pressure3pm', 'Cloud9am', 'Cloud3pm', 'Temp9am',\n",
       "       'Temp3pm', 'RainToday', 'RainTomorrow'],\n",
       "      dtype='object')"
      ]
     },
     "execution_count": 1,
     "metadata": {},
     "output_type": "execute_result"
    }
   ],
   "source": [
    "import pandas as pd\n",
    "\n",
    "import numpy as np\n",
    "\n",
    "df = pd.read_csv('weatherAUS.csv')\n",
    "\n",
    "df.columns"
   ]
  },
  {
   "cell_type": "code",
   "execution_count": 2,
   "id": "43e299d5",
   "metadata": {},
   "outputs": [
    {
     "name": "stdout",
     "output_type": "stream",
     "text": [
      "<class 'pandas.core.frame.DataFrame'>\n",
      "RangeIndex: 145460 entries, 0 to 145459\n",
      "Data columns (total 23 columns):\n",
      " #   Column         Non-Null Count   Dtype  \n",
      "---  ------         --------------   -----  \n",
      " 0   Date           145460 non-null  object \n",
      " 1   Location       145460 non-null  object \n",
      " 2   MinTemp        143975 non-null  float64\n",
      " 3   MaxTemp        144199 non-null  float64\n",
      " 4   Rainfall       142199 non-null  float64\n",
      " 5   Evaporation    82670 non-null   float64\n",
      " 6   Sunshine       75625 non-null   float64\n",
      " 7   WindGustDir    135134 non-null  object \n",
      " 8   WindGustSpeed  135197 non-null  float64\n",
      " 9   WindDir9am     134894 non-null  object \n",
      " 10  WindDir3pm     141232 non-null  object \n",
      " 11  WindSpeed9am   143693 non-null  float64\n",
      " 12  WindSpeed3pm   142398 non-null  float64\n",
      " 13  Humidity9am    142806 non-null  float64\n",
      " 14  Humidity3pm    140953 non-null  float64\n",
      " 15  Pressure9am    130395 non-null  float64\n",
      " 16  Pressure3pm    130432 non-null  float64\n",
      " 17  Cloud9am       89572 non-null   float64\n",
      " 18  Cloud3pm       86102 non-null   float64\n",
      " 19  Temp9am        143693 non-null  float64\n",
      " 20  Temp3pm        141851 non-null  float64\n",
      " 21  RainToday      142199 non-null  object \n",
      " 22  RainTomorrow   142193 non-null  object \n",
      "dtypes: float64(16), object(7)\n",
      "memory usage: 25.5+ MB\n"
     ]
    }
   ],
   "source": [
    "df.info()"
   ]
  },
  {
   "cell_type": "code",
   "execution_count": 3,
   "id": "e68ea779",
   "metadata": {},
   "outputs": [
    {
     "name": "stdout",
     "output_type": "stream",
     "text": [
      "<class 'pandas.core.frame.DataFrame'>\n",
      "Int64Index: 56420 entries, 6049 to 142302\n",
      "Data columns (total 23 columns):\n",
      " #   Column         Non-Null Count  Dtype  \n",
      "---  ------         --------------  -----  \n",
      " 0   Date           56420 non-null  object \n",
      " 1   Location       56420 non-null  object \n",
      " 2   MinTemp        56420 non-null  float64\n",
      " 3   MaxTemp        56420 non-null  float64\n",
      " 4   Rainfall       56420 non-null  float64\n",
      " 5   Evaporation    56420 non-null  float64\n",
      " 6   Sunshine       56420 non-null  float64\n",
      " 7   WindGustDir    56420 non-null  object \n",
      " 8   WindGustSpeed  56420 non-null  float64\n",
      " 9   WindDir9am     56420 non-null  object \n",
      " 10  WindDir3pm     56420 non-null  object \n",
      " 11  WindSpeed9am   56420 non-null  float64\n",
      " 12  WindSpeed3pm   56420 non-null  float64\n",
      " 13  Humidity9am    56420 non-null  float64\n",
      " 14  Humidity3pm    56420 non-null  float64\n",
      " 15  Pressure9am    56420 non-null  float64\n",
      " 16  Pressure3pm    56420 non-null  float64\n",
      " 17  Cloud9am       56420 non-null  float64\n",
      " 18  Cloud3pm       56420 non-null  float64\n",
      " 19  Temp9am        56420 non-null  float64\n",
      " 20  Temp3pm        56420 non-null  float64\n",
      " 21  RainToday      56420 non-null  object \n",
      " 22  RainTomorrow   56420 non-null  object \n",
      "dtypes: float64(16), object(7)\n",
      "memory usage: 10.3+ MB\n"
     ]
    }
   ],
   "source": [
    "#voy a hacer una prueba de concepto\n",
    "\n",
    "df.dropna().info()"
   ]
  },
  {
   "cell_type": "code",
   "execution_count": 4,
   "id": "074231f9",
   "metadata": {},
   "outputs": [
    {
     "data": {
      "text/plain": [
       "38.78729547641964"
      ]
     },
     "execution_count": 4,
     "metadata": {},
     "output_type": "execute_result"
    }
   ],
   "source": [
    "(56420/145460)*100#sacando todos los nan, queda el 38.78% de los datos"
   ]
  },
  {
   "cell_type": "code",
   "execution_count": 5,
   "id": "980356c2",
   "metadata": {},
   "outputs": [
    {
     "data": {
      "text/plain": [
       "(145460, 23)"
      ]
     },
     "execution_count": 5,
     "metadata": {},
     "output_type": "execute_result"
    }
   ],
   "source": [
    "df.shape"
   ]
  },
  {
   "cell_type": "code",
   "execution_count": 6,
   "id": "5ccc9679",
   "metadata": {},
   "outputs": [],
   "source": [
    "df_nonull = df.dropna()#voy a trabaajr con ambos df, a ver que tal sale todo"
   ]
  },
  {
   "cell_type": "code",
   "execution_count": 7,
   "id": "f1ca68d8",
   "metadata": {},
   "outputs": [],
   "source": [
    "#entonces trabajo con ambos df, para ver si hay grandes diferencias"
   ]
  },
  {
   "cell_type": "code",
   "execution_count": 8,
   "id": "bfdb52ac",
   "metadata": {},
   "outputs": [
    {
     "data": {
      "text/plain": [
       "False"
      ]
     },
     "execution_count": 8,
     "metadata": {},
     "output_type": "execute_result"
    }
   ],
   "source": [
    "#primero seria util pasar las fechas a formato datetime, y obtener el mes como valor\n",
    "\n",
    "#prueba de concepto\n",
    "\n",
    "df['Date'].isna().any()"
   ]
  },
  {
   "cell_type": "code",
   "execution_count": null,
   "id": "5c0141e8",
   "metadata": {},
   "outputs": [],
   "source": []
  },
  {
   "cell_type": "code",
   "execution_count": 9,
   "id": "f0dfcccc",
   "metadata": {},
   "outputs": [
    {
     "name": "stdout",
     "output_type": "stream",
     "text": [
      "<class 'pandas.core.frame.DataFrame'>\n",
      "Int64Index: 140787 entries, 0 to 145458\n",
      "Data columns (total 23 columns):\n",
      " #   Column         Non-Null Count   Dtype  \n",
      "---  ------         --------------   -----  \n",
      " 0   Date           140787 non-null  object \n",
      " 1   Location       140787 non-null  object \n",
      " 2   MinTemp        140319 non-null  float64\n",
      " 3   MaxTemp        140480 non-null  float64\n",
      " 4   Rainfall       140787 non-null  float64\n",
      " 5   Evaporation    81093 non-null   float64\n",
      " 6   Sunshine       73982 non-null   float64\n",
      " 7   WindGustDir    131624 non-null  object \n",
      " 8   WindGustSpeed  131682 non-null  float64\n",
      " 9   WindDir9am     131127 non-null  object \n",
      " 10  WindDir3pm     137117 non-null  object \n",
      " 11  WindSpeed9am   139732 non-null  float64\n",
      " 12  WindSpeed3pm   138256 non-null  float64\n",
      " 13  Humidity9am    139270 non-null  float64\n",
      " 14  Humidity3pm    137286 non-null  float64\n",
      " 15  Pressure9am    127044 non-null  float64\n",
      " 16  Pressure3pm    127018 non-null  float64\n",
      " 17  Cloud9am       88162 non-null   float64\n",
      " 18  Cloud3pm       84693 non-null   float64\n",
      " 19  Temp9am        140131 non-null  float64\n",
      " 20  Temp3pm        138163 non-null  float64\n",
      " 21  RainToday      140787 non-null  object \n",
      " 22  RainTomorrow   140787 non-null  object \n",
      "dtypes: float64(16), object(7)\n",
      "memory usage: 25.8+ MB\n"
     ]
    }
   ],
   "source": [
    "df.dropna(subset=['RainToday' , 'RainTomorrow']).info()"
   ]
  },
  {
   "cell_type": "code",
   "execution_count": null,
   "id": "db029f95",
   "metadata": {},
   "outputs": [],
   "source": []
  },
  {
   "cell_type": "code",
   "execution_count": null,
   "id": "171ae0cf",
   "metadata": {},
   "outputs": [],
   "source": []
  },
  {
   "cell_type": "code",
   "execution_count": null,
   "id": "516f38a1",
   "metadata": {},
   "outputs": [],
   "source": []
  },
  {
   "cell_type": "code",
   "execution_count": 10,
   "id": "1d69eddb",
   "metadata": {},
   "outputs": [
    {
     "data": {
      "text/plain": [
       "12"
      ]
     },
     "execution_count": 10,
     "metadata": {},
     "output_type": "execute_result"
    }
   ],
   "source": [
    "pd.to_datetime(df['Date'][0]).month"
   ]
  },
  {
   "cell_type": "code",
   "execution_count": null,
   "id": "cc7ead7b",
   "metadata": {},
   "outputs": [],
   "source": []
  },
  {
   "cell_type": "code",
   "execution_count": null,
   "id": "83e4ccac",
   "metadata": {},
   "outputs": [],
   "source": []
  },
  {
   "cell_type": "code",
   "execution_count": null,
   "id": "c9f2e80c",
   "metadata": {},
   "outputs": [],
   "source": []
  },
  {
   "cell_type": "code",
   "execution_count": null,
   "id": "ade306fb",
   "metadata": {},
   "outputs": [],
   "source": []
  },
  {
   "cell_type": "code",
   "execution_count": null,
   "id": "b3817076",
   "metadata": {},
   "outputs": [],
   "source": []
  },
  {
   "cell_type": "code",
   "execution_count": 11,
   "id": "1078885c",
   "metadata": {},
   "outputs": [],
   "source": [
    "#ahora puedo crear una funcion que haga esto"
   ]
  },
  {
   "cell_type": "code",
   "execution_count": 12,
   "id": "a6524443",
   "metadata": {},
   "outputs": [
    {
     "name": "stderr",
     "output_type": "stream",
     "text": [
      "/tmp/ipykernel_56358/2094322140.py:10: SettingWithCopyWarning: \n",
      "A value is trying to be set on a copy of a slice from a DataFrame.\n",
      "Try using .loc[row_indexer,col_indexer] = value instead\n",
      "\n",
      "See the caveats in the documentation: https://pandas.pydata.org/pandas-docs/stable/user_guide/indexing.html#returning-a-view-versus-a-copy\n",
      "  dataframe['mes'] = lista_meses\n"
     ]
    },
    {
     "data": {
      "text/plain": [
       "6049      12\n",
       "6050      12\n",
       "6052      12\n",
       "6053      12\n",
       "6054      12\n",
       "          ..\n",
       "142298     8\n",
       "142299     8\n",
       "142300     8\n",
       "142301     8\n",
       "142302     8\n",
       "Name: mes, Length: 56420, dtype: int64"
      ]
     },
     "execution_count": 12,
     "metadata": {},
     "output_type": "execute_result"
    }
   ],
   "source": [
    "def mesNumerico(dataframe , strcol):\n",
    "    \n",
    "    lista_meses = []\n",
    "    \n",
    "    for fila in range(0 , dataframe.shape[0]):\n",
    "        \n",
    "        lista_meses.append(pd.to_datetime(df['Date'][fila]).month)\n",
    "    \n",
    "    \n",
    "    dataframe['mes'] = lista_meses\n",
    "    \n",
    "    return(dataframe)\n",
    "\n",
    "mesNumerico(df_nonull , 'Date')\n",
    "\n",
    "df_nonull['mes']"
   ]
  },
  {
   "cell_type": "code",
   "execution_count": 13,
   "id": "a7c311c2",
   "metadata": {},
   "outputs": [
    {
     "data": {
      "text/html": [
       "<div>\n",
       "<style scoped>\n",
       "    .dataframe tbody tr th:only-of-type {\n",
       "        vertical-align: middle;\n",
       "    }\n",
       "\n",
       "    .dataframe tbody tr th {\n",
       "        vertical-align: top;\n",
       "    }\n",
       "\n",
       "    .dataframe thead th {\n",
       "        text-align: right;\n",
       "    }\n",
       "</style>\n",
       "<table border=\"1\" class=\"dataframe\">\n",
       "  <thead>\n",
       "    <tr style=\"text-align: right;\">\n",
       "      <th></th>\n",
       "      <th>Date</th>\n",
       "      <th>Location</th>\n",
       "      <th>MinTemp</th>\n",
       "      <th>MaxTemp</th>\n",
       "      <th>Rainfall</th>\n",
       "      <th>Evaporation</th>\n",
       "      <th>Sunshine</th>\n",
       "      <th>WindGustDir</th>\n",
       "      <th>WindGustSpeed</th>\n",
       "      <th>WindDir9am</th>\n",
       "      <th>...</th>\n",
       "      <th>Humidity3pm</th>\n",
       "      <th>Pressure9am</th>\n",
       "      <th>Pressure3pm</th>\n",
       "      <th>Cloud9am</th>\n",
       "      <th>Cloud3pm</th>\n",
       "      <th>Temp9am</th>\n",
       "      <th>Temp3pm</th>\n",
       "      <th>RainToday</th>\n",
       "      <th>RainTomorrow</th>\n",
       "      <th>mes</th>\n",
       "    </tr>\n",
       "  </thead>\n",
       "  <tbody>\n",
       "    <tr>\n",
       "      <th>6049</th>\n",
       "      <td>2009-01-01</td>\n",
       "      <td>Cobar</td>\n",
       "      <td>17.9</td>\n",
       "      <td>35.2</td>\n",
       "      <td>0.0</td>\n",
       "      <td>12.0</td>\n",
       "      <td>12.3</td>\n",
       "      <td>SSW</td>\n",
       "      <td>48.0</td>\n",
       "      <td>ENE</td>\n",
       "      <td>...</td>\n",
       "      <td>13.0</td>\n",
       "      <td>1006.3</td>\n",
       "      <td>1004.4</td>\n",
       "      <td>2.0</td>\n",
       "      <td>5.0</td>\n",
       "      <td>26.6</td>\n",
       "      <td>33.4</td>\n",
       "      <td>No</td>\n",
       "      <td>No</td>\n",
       "      <td>12</td>\n",
       "    </tr>\n",
       "    <tr>\n",
       "      <th>6050</th>\n",
       "      <td>2009-01-02</td>\n",
       "      <td>Cobar</td>\n",
       "      <td>18.4</td>\n",
       "      <td>28.9</td>\n",
       "      <td>0.0</td>\n",
       "      <td>14.8</td>\n",
       "      <td>13.0</td>\n",
       "      <td>S</td>\n",
       "      <td>37.0</td>\n",
       "      <td>SSE</td>\n",
       "      <td>...</td>\n",
       "      <td>8.0</td>\n",
       "      <td>1012.9</td>\n",
       "      <td>1012.1</td>\n",
       "      <td>1.0</td>\n",
       "      <td>1.0</td>\n",
       "      <td>20.3</td>\n",
       "      <td>27.0</td>\n",
       "      <td>No</td>\n",
       "      <td>No</td>\n",
       "      <td>12</td>\n",
       "    </tr>\n",
       "    <tr>\n",
       "      <th>6052</th>\n",
       "      <td>2009-01-04</td>\n",
       "      <td>Cobar</td>\n",
       "      <td>19.4</td>\n",
       "      <td>37.6</td>\n",
       "      <td>0.0</td>\n",
       "      <td>10.8</td>\n",
       "      <td>10.6</td>\n",
       "      <td>NNE</td>\n",
       "      <td>46.0</td>\n",
       "      <td>NNE</td>\n",
       "      <td>...</td>\n",
       "      <td>22.0</td>\n",
       "      <td>1012.3</td>\n",
       "      <td>1009.2</td>\n",
       "      <td>1.0</td>\n",
       "      <td>6.0</td>\n",
       "      <td>28.7</td>\n",
       "      <td>34.9</td>\n",
       "      <td>No</td>\n",
       "      <td>No</td>\n",
       "      <td>12</td>\n",
       "    </tr>\n",
       "    <tr>\n",
       "      <th>6053</th>\n",
       "      <td>2009-01-05</td>\n",
       "      <td>Cobar</td>\n",
       "      <td>21.9</td>\n",
       "      <td>38.4</td>\n",
       "      <td>0.0</td>\n",
       "      <td>11.4</td>\n",
       "      <td>12.2</td>\n",
       "      <td>WNW</td>\n",
       "      <td>31.0</td>\n",
       "      <td>WNW</td>\n",
       "      <td>...</td>\n",
       "      <td>22.0</td>\n",
       "      <td>1012.7</td>\n",
       "      <td>1009.1</td>\n",
       "      <td>1.0</td>\n",
       "      <td>5.0</td>\n",
       "      <td>29.1</td>\n",
       "      <td>35.6</td>\n",
       "      <td>No</td>\n",
       "      <td>No</td>\n",
       "      <td>12</td>\n",
       "    </tr>\n",
       "    <tr>\n",
       "      <th>6054</th>\n",
       "      <td>2009-01-06</td>\n",
       "      <td>Cobar</td>\n",
       "      <td>24.2</td>\n",
       "      <td>41.0</td>\n",
       "      <td>0.0</td>\n",
       "      <td>11.2</td>\n",
       "      <td>8.4</td>\n",
       "      <td>WNW</td>\n",
       "      <td>35.0</td>\n",
       "      <td>NW</td>\n",
       "      <td>...</td>\n",
       "      <td>15.0</td>\n",
       "      <td>1010.7</td>\n",
       "      <td>1007.4</td>\n",
       "      <td>1.0</td>\n",
       "      <td>6.0</td>\n",
       "      <td>33.6</td>\n",
       "      <td>37.6</td>\n",
       "      <td>No</td>\n",
       "      <td>No</td>\n",
       "      <td>12</td>\n",
       "    </tr>\n",
       "    <tr>\n",
       "      <th>...</th>\n",
       "      <td>...</td>\n",
       "      <td>...</td>\n",
       "      <td>...</td>\n",
       "      <td>...</td>\n",
       "      <td>...</td>\n",
       "      <td>...</td>\n",
       "      <td>...</td>\n",
       "      <td>...</td>\n",
       "      <td>...</td>\n",
       "      <td>...</td>\n",
       "      <td>...</td>\n",
       "      <td>...</td>\n",
       "      <td>...</td>\n",
       "      <td>...</td>\n",
       "      <td>...</td>\n",
       "      <td>...</td>\n",
       "      <td>...</td>\n",
       "      <td>...</td>\n",
       "      <td>...</td>\n",
       "      <td>...</td>\n",
       "      <td>...</td>\n",
       "    </tr>\n",
       "    <tr>\n",
       "      <th>142298</th>\n",
       "      <td>2017-06-20</td>\n",
       "      <td>Darwin</td>\n",
       "      <td>19.3</td>\n",
       "      <td>33.4</td>\n",
       "      <td>0.0</td>\n",
       "      <td>6.0</td>\n",
       "      <td>11.0</td>\n",
       "      <td>ENE</td>\n",
       "      <td>35.0</td>\n",
       "      <td>SE</td>\n",
       "      <td>...</td>\n",
       "      <td>32.0</td>\n",
       "      <td>1013.9</td>\n",
       "      <td>1010.5</td>\n",
       "      <td>0.0</td>\n",
       "      <td>1.0</td>\n",
       "      <td>24.5</td>\n",
       "      <td>32.3</td>\n",
       "      <td>No</td>\n",
       "      <td>No</td>\n",
       "      <td>8</td>\n",
       "    </tr>\n",
       "    <tr>\n",
       "      <th>142299</th>\n",
       "      <td>2017-06-21</td>\n",
       "      <td>Darwin</td>\n",
       "      <td>21.2</td>\n",
       "      <td>32.6</td>\n",
       "      <td>0.0</td>\n",
       "      <td>7.6</td>\n",
       "      <td>8.6</td>\n",
       "      <td>E</td>\n",
       "      <td>37.0</td>\n",
       "      <td>SE</td>\n",
       "      <td>...</td>\n",
       "      <td>28.0</td>\n",
       "      <td>1014.6</td>\n",
       "      <td>1011.2</td>\n",
       "      <td>7.0</td>\n",
       "      <td>0.0</td>\n",
       "      <td>24.8</td>\n",
       "      <td>32.0</td>\n",
       "      <td>No</td>\n",
       "      <td>No</td>\n",
       "      <td>8</td>\n",
       "    </tr>\n",
       "    <tr>\n",
       "      <th>142300</th>\n",
       "      <td>2017-06-22</td>\n",
       "      <td>Darwin</td>\n",
       "      <td>20.7</td>\n",
       "      <td>32.8</td>\n",
       "      <td>0.0</td>\n",
       "      <td>5.6</td>\n",
       "      <td>11.0</td>\n",
       "      <td>E</td>\n",
       "      <td>33.0</td>\n",
       "      <td>E</td>\n",
       "      <td>...</td>\n",
       "      <td>23.0</td>\n",
       "      <td>1015.3</td>\n",
       "      <td>1011.8</td>\n",
       "      <td>0.0</td>\n",
       "      <td>0.0</td>\n",
       "      <td>24.8</td>\n",
       "      <td>32.1</td>\n",
       "      <td>No</td>\n",
       "      <td>No</td>\n",
       "      <td>8</td>\n",
       "    </tr>\n",
       "    <tr>\n",
       "      <th>142301</th>\n",
       "      <td>2017-06-23</td>\n",
       "      <td>Darwin</td>\n",
       "      <td>19.5</td>\n",
       "      <td>31.8</td>\n",
       "      <td>0.0</td>\n",
       "      <td>6.2</td>\n",
       "      <td>10.6</td>\n",
       "      <td>ESE</td>\n",
       "      <td>26.0</td>\n",
       "      <td>SE</td>\n",
       "      <td>...</td>\n",
       "      <td>58.0</td>\n",
       "      <td>1014.9</td>\n",
       "      <td>1010.7</td>\n",
       "      <td>1.0</td>\n",
       "      <td>1.0</td>\n",
       "      <td>24.8</td>\n",
       "      <td>29.2</td>\n",
       "      <td>No</td>\n",
       "      <td>No</td>\n",
       "      <td>8</td>\n",
       "    </tr>\n",
       "    <tr>\n",
       "      <th>142302</th>\n",
       "      <td>2017-06-24</td>\n",
       "      <td>Darwin</td>\n",
       "      <td>20.2</td>\n",
       "      <td>31.7</td>\n",
       "      <td>0.0</td>\n",
       "      <td>5.6</td>\n",
       "      <td>10.7</td>\n",
       "      <td>ENE</td>\n",
       "      <td>30.0</td>\n",
       "      <td>ENE</td>\n",
       "      <td>...</td>\n",
       "      <td>32.0</td>\n",
       "      <td>1013.9</td>\n",
       "      <td>1009.7</td>\n",
       "      <td>6.0</td>\n",
       "      <td>5.0</td>\n",
       "      <td>25.4</td>\n",
       "      <td>31.0</td>\n",
       "      <td>No</td>\n",
       "      <td>No</td>\n",
       "      <td>8</td>\n",
       "    </tr>\n",
       "  </tbody>\n",
       "</table>\n",
       "<p>56420 rows × 24 columns</p>\n",
       "</div>"
      ],
      "text/plain": [
       "              Date Location  MinTemp  MaxTemp  Rainfall  Evaporation  \\\n",
       "6049    2009-01-01    Cobar     17.9     35.2       0.0         12.0   \n",
       "6050    2009-01-02    Cobar     18.4     28.9       0.0         14.8   \n",
       "6052    2009-01-04    Cobar     19.4     37.6       0.0         10.8   \n",
       "6053    2009-01-05    Cobar     21.9     38.4       0.0         11.4   \n",
       "6054    2009-01-06    Cobar     24.2     41.0       0.0         11.2   \n",
       "...            ...      ...      ...      ...       ...          ...   \n",
       "142298  2017-06-20   Darwin     19.3     33.4       0.0          6.0   \n",
       "142299  2017-06-21   Darwin     21.2     32.6       0.0          7.6   \n",
       "142300  2017-06-22   Darwin     20.7     32.8       0.0          5.6   \n",
       "142301  2017-06-23   Darwin     19.5     31.8       0.0          6.2   \n",
       "142302  2017-06-24   Darwin     20.2     31.7       0.0          5.6   \n",
       "\n",
       "        Sunshine WindGustDir  WindGustSpeed WindDir9am  ... Humidity3pm  \\\n",
       "6049        12.3         SSW           48.0        ENE  ...        13.0   \n",
       "6050        13.0           S           37.0        SSE  ...         8.0   \n",
       "6052        10.6         NNE           46.0        NNE  ...        22.0   \n",
       "6053        12.2         WNW           31.0        WNW  ...        22.0   \n",
       "6054         8.4         WNW           35.0         NW  ...        15.0   \n",
       "...          ...         ...            ...        ...  ...         ...   \n",
       "142298      11.0         ENE           35.0         SE  ...        32.0   \n",
       "142299       8.6           E           37.0         SE  ...        28.0   \n",
       "142300      11.0           E           33.0          E  ...        23.0   \n",
       "142301      10.6         ESE           26.0         SE  ...        58.0   \n",
       "142302      10.7         ENE           30.0        ENE  ...        32.0   \n",
       "\n",
       "        Pressure9am  Pressure3pm  Cloud9am  Cloud3pm  Temp9am  Temp3pm  \\\n",
       "6049         1006.3       1004.4       2.0       5.0     26.6     33.4   \n",
       "6050         1012.9       1012.1       1.0       1.0     20.3     27.0   \n",
       "6052         1012.3       1009.2       1.0       6.0     28.7     34.9   \n",
       "6053         1012.7       1009.1       1.0       5.0     29.1     35.6   \n",
       "6054         1010.7       1007.4       1.0       6.0     33.6     37.6   \n",
       "...             ...          ...       ...       ...      ...      ...   \n",
       "142298       1013.9       1010.5       0.0       1.0     24.5     32.3   \n",
       "142299       1014.6       1011.2       7.0       0.0     24.8     32.0   \n",
       "142300       1015.3       1011.8       0.0       0.0     24.8     32.1   \n",
       "142301       1014.9       1010.7       1.0       1.0     24.8     29.2   \n",
       "142302       1013.9       1009.7       6.0       5.0     25.4     31.0   \n",
       "\n",
       "        RainToday  RainTomorrow  mes  \n",
       "6049           No            No   12  \n",
       "6050           No            No   12  \n",
       "6052           No            No   12  \n",
       "6053           No            No   12  \n",
       "6054           No            No   12  \n",
       "...           ...           ...  ...  \n",
       "142298         No            No    8  \n",
       "142299         No            No    8  \n",
       "142300         No            No    8  \n",
       "142301         No            No    8  \n",
       "142302         No            No    8  \n",
       "\n",
       "[56420 rows x 24 columns]"
      ]
     },
     "execution_count": 13,
     "metadata": {},
     "output_type": "execute_result"
    }
   ],
   "source": [
    "df_nonull"
   ]
  },
  {
   "cell_type": "code",
   "execution_count": 14,
   "id": "1afb8b94",
   "metadata": {},
   "outputs": [
    {
     "name": "stdout",
     "output_type": "stream",
     "text": [
      "<class 'pandas.core.frame.DataFrame'>\n",
      "Int64Index: 56420 entries, 6049 to 142302\n",
      "Data columns (total 24 columns):\n",
      " #   Column         Non-Null Count  Dtype  \n",
      "---  ------         --------------  -----  \n",
      " 0   Date           56420 non-null  object \n",
      " 1   Location       56420 non-null  object \n",
      " 2   MinTemp        56420 non-null  float64\n",
      " 3   MaxTemp        56420 non-null  float64\n",
      " 4   Rainfall       56420 non-null  float64\n",
      " 5   Evaporation    56420 non-null  float64\n",
      " 6   Sunshine       56420 non-null  float64\n",
      " 7   WindGustDir    56420 non-null  object \n",
      " 8   WindGustSpeed  56420 non-null  float64\n",
      " 9   WindDir9am     56420 non-null  object \n",
      " 10  WindDir3pm     56420 non-null  object \n",
      " 11  WindSpeed9am   56420 non-null  float64\n",
      " 12  WindSpeed3pm   56420 non-null  float64\n",
      " 13  Humidity9am    56420 non-null  float64\n",
      " 14  Humidity3pm    56420 non-null  float64\n",
      " 15  Pressure9am    56420 non-null  float64\n",
      " 16  Pressure3pm    56420 non-null  float64\n",
      " 17  Cloud9am       56420 non-null  float64\n",
      " 18  Cloud3pm       56420 non-null  float64\n",
      " 19  Temp9am        56420 non-null  float64\n",
      " 20  Temp3pm        56420 non-null  float64\n",
      " 21  RainToday      56420 non-null  object \n",
      " 22  RainTomorrow   56420 non-null  object \n",
      " 23  mes            56420 non-null  int64  \n",
      "dtypes: float64(16), int64(1), object(7)\n",
      "memory usage: 10.8+ MB\n"
     ]
    }
   ],
   "source": [
    "df_nonull.info()"
   ]
  },
  {
   "cell_type": "code",
   "execution_count": null,
   "id": "ebec0ebf",
   "metadata": {},
   "outputs": [],
   "source": []
  },
  {
   "cell_type": "code",
   "execution_count": null,
   "id": "29362f7c",
   "metadata": {},
   "outputs": [],
   "source": []
  },
  {
   "cell_type": "code",
   "execution_count": 15,
   "id": "4fd63c2b",
   "metadata": {},
   "outputs": [],
   "source": [
    "#mesNumerico(df , 'Date')\n",
    "\n",
    "#df['mes']"
   ]
  },
  {
   "cell_type": "code",
   "execution_count": 16,
   "id": "2940e452",
   "metadata": {},
   "outputs": [],
   "source": [
    "#df.info()"
   ]
  },
  {
   "cell_type": "code",
   "execution_count": 17,
   "id": "9afccafa",
   "metadata": {},
   "outputs": [
    {
     "name": "stderr",
     "output_type": "stream",
     "text": [
      "/tmp/ipykernel_56358/1905260504.py:12: SettingWithCopyWarning: \n",
      "A value is trying to be set on a copy of a slice from a DataFrame.\n",
      "Try using .loc[row_indexer,col_indexer] = value instead\n",
      "\n",
      "See the caveats in the documentation: https://pandas.pydata.org/pandas-docs/stable/user_guide/indexing.html#returning-a-view-versus-a-copy\n",
      "  dataframe['anio'] = lista_anios\n"
     ]
    },
    {
     "name": "stdout",
     "output_type": "stream",
     "text": [
      "56420 145460\n"
     ]
    }
   ],
   "source": [
    "#anio como otra variable\n",
    "\n",
    "def anioNumerico(dataframe , strcol):\n",
    "    \n",
    "    lista_anios = []\n",
    "    \n",
    "    for fila in range(0 , dataframe.shape[0]):\n",
    "        \n",
    "        lista_anios.append(pd.to_datetime(df['Date'][fila]).year)\n",
    "    \n",
    "    \n",
    "    dataframe['anio'] = lista_anios\n",
    "    \n",
    "    return(dataframe)\n",
    "\n",
    "anioNumerico(df_nonull , 'Date')\n",
    "\n",
    "anioNumerico(df , 'Date')\n",
    "\n",
    "print(len(df_nonull['anio']) , len(df['anio']))"
   ]
  },
  {
   "cell_type": "code",
   "execution_count": null,
   "id": "5e35944e",
   "metadata": {},
   "outputs": [],
   "source": []
  },
  {
   "cell_type": "code",
   "execution_count": null,
   "id": "73ee24cc",
   "metadata": {},
   "outputs": [],
   "source": []
  },
  {
   "cell_type": "code",
   "execution_count": 18,
   "id": "08341aad",
   "metadata": {},
   "outputs": [
    {
     "data": {
      "text/plain": [
       "array(['Albury', 'BadgerysCreek', 'Cobar', 'CoffsHarbour', 'Moree',\n",
       "       'Newcastle', 'NorahHead', 'NorfolkIsland', 'Penrith', 'Richmond',\n",
       "       'Sydney', 'SydneyAirport', 'WaggaWagga', 'Williamtown',\n",
       "       'Wollongong', 'Canberra', 'Tuggeranong', 'MountGinini', 'Ballarat',\n",
       "       'Bendigo', 'Sale', 'MelbourneAirport', 'Melbourne', 'Mildura',\n",
       "       'Nhil', 'Portland', 'Watsonia', 'Dartmoor', 'Brisbane', 'Cairns',\n",
       "       'GoldCoast', 'Townsville', 'Adelaide', 'MountGambier', 'Nuriootpa',\n",
       "       'Woomera', 'Albany', 'Witchcliffe', 'PearceRAAF', 'PerthAirport',\n",
       "       'Perth', 'SalmonGums', 'Walpole', 'Hobart', 'Launceston',\n",
       "       'AliceSprings', 'Darwin', 'Katherine', 'Uluru'], dtype=object)"
      ]
     },
     "execution_count": 18,
     "metadata": {},
     "output_type": "execute_result"
    }
   ],
   "source": [
    "#otra cosa util, es pasar las localidades a formato numerico\n",
    "\n",
    "#vamos a explorarlo\n",
    "\n",
    "df['Location'].unique()"
   ]
  },
  {
   "cell_type": "code",
   "execution_count": 19,
   "id": "5033eda1",
   "metadata": {},
   "outputs": [],
   "source": [
    "lista_localidades = list(df['Location'].unique())"
   ]
  },
  {
   "cell_type": "code",
   "execution_count": 20,
   "id": "c43ef539",
   "metadata": {},
   "outputs": [
    {
     "name": "stdout",
     "output_type": "stream",
     "text": [
      "49 49\n"
     ]
    }
   ],
   "source": [
    "lista_loc_num = list(np.arange(0,len(lista_localidades)))\n",
    "\n",
    "print(len(lista_loc_num) , len(lista_localidades))"
   ]
  },
  {
   "cell_type": "code",
   "execution_count": 21,
   "id": "5b8905b0",
   "metadata": {},
   "outputs": [
    {
     "data": {
      "text/plain": [
       "dict_keys(['Albury', 'BadgerysCreek', 'Cobar', 'CoffsHarbour', 'Moree', 'Newcastle', 'NorahHead', 'NorfolkIsland', 'Penrith', 'Richmond', 'Sydney', 'SydneyAirport', 'WaggaWagga', 'Williamtown', 'Wollongong', 'Canberra', 'Tuggeranong', 'MountGinini', 'Ballarat', 'Bendigo', 'Sale', 'MelbourneAirport', 'Melbourne', 'Mildura', 'Nhil', 'Portland', 'Watsonia', 'Dartmoor', 'Brisbane', 'Cairns', 'GoldCoast', 'Townsville', 'Adelaide', 'MountGambier', 'Nuriootpa', 'Woomera', 'Albany', 'Witchcliffe', 'PearceRAAF', 'PerthAirport', 'Perth', 'SalmonGums', 'Walpole', 'Hobart', 'Launceston', 'AliceSprings', 'Darwin', 'Katherine', 'Uluru'])"
      ]
     },
     "execution_count": 21,
     "metadata": {},
     "output_type": "execute_result"
    }
   ],
   "source": [
    "dic_localidades = dict(zip(lista_localidades , lista_loc_num))\n",
    "\n",
    "dic_localidades.keys()"
   ]
  },
  {
   "cell_type": "code",
   "execution_count": null,
   "id": "046d694c",
   "metadata": {},
   "outputs": [],
   "source": []
  },
  {
   "cell_type": "code",
   "execution_count": 22,
   "id": "7f7a5943",
   "metadata": {},
   "outputs": [
    {
     "data": {
      "text/plain": [
       "{'Albury': 0,\n",
       " 'BadgerysCreek': 1,\n",
       " 'Cobar': 2,\n",
       " 'CoffsHarbour': 3,\n",
       " 'Moree': 4,\n",
       " 'Newcastle': 5,\n",
       " 'NorahHead': 6,\n",
       " 'NorfolkIsland': 7,\n",
       " 'Penrith': 8,\n",
       " 'Richmond': 9,\n",
       " 'Sydney': 10,\n",
       " 'SydneyAirport': 11,\n",
       " 'WaggaWagga': 12,\n",
       " 'Williamtown': 13,\n",
       " 'Wollongong': 14,\n",
       " 'Canberra': 15,\n",
       " 'Tuggeranong': 16,\n",
       " 'MountGinini': 17,\n",
       " 'Ballarat': 18,\n",
       " 'Bendigo': 19,\n",
       " 'Sale': 20,\n",
       " 'MelbourneAirport': 21,\n",
       " 'Melbourne': 22,\n",
       " 'Mildura': 23,\n",
       " 'Nhil': 24,\n",
       " 'Portland': 25,\n",
       " 'Watsonia': 26,\n",
       " 'Dartmoor': 27,\n",
       " 'Brisbane': 28,\n",
       " 'Cairns': 29,\n",
       " 'GoldCoast': 30,\n",
       " 'Townsville': 31,\n",
       " 'Adelaide': 32,\n",
       " 'MountGambier': 33,\n",
       " 'Nuriootpa': 34,\n",
       " 'Woomera': 35,\n",
       " 'Albany': 36,\n",
       " 'Witchcliffe': 37,\n",
       " 'PearceRAAF': 38,\n",
       " 'PerthAirport': 39,\n",
       " 'Perth': 40,\n",
       " 'SalmonGums': 41,\n",
       " 'Walpole': 42,\n",
       " 'Hobart': 43,\n",
       " 'Launceston': 44,\n",
       " 'AliceSprings': 45,\n",
       " 'Darwin': 46,\n",
       " 'Katherine': 47,\n",
       " 'Uluru': 48}"
      ]
     },
     "execution_count": 22,
     "metadata": {},
     "output_type": "execute_result"
    }
   ],
   "source": [
    "dic_localidades"
   ]
  },
  {
   "cell_type": "code",
   "execution_count": null,
   "id": "898588fc",
   "metadata": {},
   "outputs": [],
   "source": []
  },
  {
   "cell_type": "code",
   "execution_count": 23,
   "id": "4489376b",
   "metadata": {},
   "outputs": [
    {
     "name": "stderr",
     "output_type": "stream",
     "text": [
      "/tmp/ipykernel_56358/4130167193.py:7: SettingWithCopyWarning: \n",
      "A value is trying to be set on a copy of a slice from a DataFrame.\n",
      "Try using .loc[row_indexer,col_indexer] = value instead\n",
      "\n",
      "See the caveats in the documentation: https://pandas.pydata.org/pandas-docs/stable/user_guide/indexing.html#returning-a-view-versus-a-copy\n",
      "  dataframe['loc_num'] = dataframe[strcol].map(dic_localidades)\n"
     ]
    },
    {
     "data": {
      "text/plain": [
       "6049       2\n",
       "6050       2\n",
       "6052       2\n",
       "6053       2\n",
       "6054       2\n",
       "          ..\n",
       "142298    46\n",
       "142299    46\n",
       "142300    46\n",
       "142301    46\n",
       "142302    46\n",
       "Name: loc_num, Length: 56420, dtype: int64"
      ]
     },
     "execution_count": 23,
     "metadata": {},
     "output_type": "execute_result"
    }
   ],
   "source": [
    "#entonces ahroa puedo mapear y modificar el dataset, para que la lcoalidad sea numerica\n",
    "\n",
    "#lo pruebo\n",
    "\n",
    "def localidad_num(dataframe , strcol):\n",
    "    \n",
    "    dataframe['loc_num'] = dataframe[strcol].map(dic_localidades)\n",
    "    \n",
    "    return(dataframe)\n",
    "\n",
    "localidad_num(df_nonull , 'Location')\n",
    "\n",
    "df_nonull['loc_num']"
   ]
  },
  {
   "cell_type": "code",
   "execution_count": 24,
   "id": "0b19c501",
   "metadata": {},
   "outputs": [
    {
     "name": "stdout",
     "output_type": "stream",
     "text": [
      "<class 'pandas.core.frame.DataFrame'>\n",
      "Int64Index: 56420 entries, 6049 to 142302\n",
      "Data columns (total 26 columns):\n",
      " #   Column         Non-Null Count  Dtype  \n",
      "---  ------         --------------  -----  \n",
      " 0   Date           56420 non-null  object \n",
      " 1   Location       56420 non-null  object \n",
      " 2   MinTemp        56420 non-null  float64\n",
      " 3   MaxTemp        56420 non-null  float64\n",
      " 4   Rainfall       56420 non-null  float64\n",
      " 5   Evaporation    56420 non-null  float64\n",
      " 6   Sunshine       56420 non-null  float64\n",
      " 7   WindGustDir    56420 non-null  object \n",
      " 8   WindGustSpeed  56420 non-null  float64\n",
      " 9   WindDir9am     56420 non-null  object \n",
      " 10  WindDir3pm     56420 non-null  object \n",
      " 11  WindSpeed9am   56420 non-null  float64\n",
      " 12  WindSpeed3pm   56420 non-null  float64\n",
      " 13  Humidity9am    56420 non-null  float64\n",
      " 14  Humidity3pm    56420 non-null  float64\n",
      " 15  Pressure9am    56420 non-null  float64\n",
      " 16  Pressure3pm    56420 non-null  float64\n",
      " 17  Cloud9am       56420 non-null  float64\n",
      " 18  Cloud3pm       56420 non-null  float64\n",
      " 19  Temp9am        56420 non-null  float64\n",
      " 20  Temp3pm        56420 non-null  float64\n",
      " 21  RainToday      56420 non-null  object \n",
      " 22  RainTomorrow   56420 non-null  object \n",
      " 23  mes            56420 non-null  int64  \n",
      " 24  anio           56420 non-null  int64  \n",
      " 25  loc_num        56420 non-null  int64  \n",
      "dtypes: float64(16), int64(3), object(7)\n",
      "memory usage: 11.6+ MB\n"
     ]
    }
   ],
   "source": [
    "df_nonull.info()"
   ]
  },
  {
   "cell_type": "code",
   "execution_count": 25,
   "id": "03f3b2c6",
   "metadata": {},
   "outputs": [],
   "source": [
    "#localidad_num(df , 'Location')\n",
    "\n",
    "#df['loc_num'].info()"
   ]
  },
  {
   "cell_type": "code",
   "execution_count": 26,
   "id": "6c9a4287",
   "metadata": {},
   "outputs": [],
   "source": [
    "#creo que ya estan todas las columnas transformadas a formatos utiles\n",
    "\n",
    "#queda seleccionar las columnas a utilizar para el arbol de desicion\n",
    "\n",
    "#df.columns"
   ]
  },
  {
   "cell_type": "code",
   "execution_count": 27,
   "id": "be18ddda",
   "metadata": {},
   "outputs": [],
   "source": [
    "#falta convertir a numerico los datos de raintoday , y de raintomorrow, y evaluar si las columnas del tipo\n",
    "\n",
    "#object son o no relevantes-informativas\n",
    "\n",
    "#para ello vamos a ver como estan codificados\n",
    "\n",
    "#df['RainToday'].unique()"
   ]
  },
  {
   "cell_type": "code",
   "execution_count": 28,
   "id": "d8a2bca5",
   "metadata": {},
   "outputs": [],
   "source": [
    "#df['RainTomorrow'].unique()"
   ]
  },
  {
   "cell_type": "code",
   "execution_count": 29,
   "id": "fcf31c9c",
   "metadata": {},
   "outputs": [],
   "source": [
    "#df = df.dropna(subset=['RainToday' , 'RainTomorrow'])\n",
    "#elimino los nan de las filas donde en esas columnas hay nan"
   ]
  },
  {
   "cell_type": "code",
   "execution_count": 30,
   "id": "9ad9a738",
   "metadata": {},
   "outputs": [],
   "source": [
    "#df.info()"
   ]
  },
  {
   "cell_type": "code",
   "execution_count": 31,
   "id": "f53e3dac",
   "metadata": {},
   "outputs": [],
   "source": [
    "#df[\"RainToday\"].unique()"
   ]
  },
  {
   "cell_type": "code",
   "execution_count": 32,
   "id": "ff45bd35",
   "metadata": {},
   "outputs": [],
   "source": [
    "#df['RainTomorrow'].unique()"
   ]
  },
  {
   "cell_type": "code",
   "execution_count": 33,
   "id": "adba57d1",
   "metadata": {},
   "outputs": [
    {
     "name": "stdout",
     "output_type": "stream",
     "text": [
      "[0 1] [0 1]\n"
     ]
    },
    {
     "name": "stderr",
     "output_type": "stream",
     "text": [
      "/tmp/ipykernel_56358/434707965.py:7: SettingWithCopyWarning: \n",
      "A value is trying to be set on a copy of a slice from a DataFrame.\n",
      "Try using .loc[row_indexer,col_indexer] = value instead\n",
      "\n",
      "See the caveats in the documentation: https://pandas.pydata.org/pandas-docs/stable/user_guide/indexing.html#returning-a-view-versus-a-copy\n",
      "  dataframe[strcol_nueva] = dataframe[strcol_original].map(dicc)\n",
      "/tmp/ipykernel_56358/434707965.py:7: SettingWithCopyWarning: \n",
      "A value is trying to be set on a copy of a slice from a DataFrame.\n",
      "Try using .loc[row_indexer,col_indexer] = value instead\n",
      "\n",
      "See the caveats in the documentation: https://pandas.pydata.org/pandas-docs/stable/user_guide/indexing.html#returning-a-view-versus-a-copy\n",
      "  dataframe[strcol_nueva] = dataframe[strcol_original].map(dicc)\n"
     ]
    }
   ],
   "source": [
    "#ahora ya puedo convertir estas variables a yes = 1 , no = 0\n",
    "\n",
    "def codeNoYes(dataframe , strcol_original , strcol_nueva):\n",
    "    \n",
    "    dicc = {'Yes':1 , 'No': 0}\n",
    "    \n",
    "    dataframe[strcol_nueva] = dataframe[strcol_original].map(dicc)\n",
    "    \n",
    "    return(dataframe)\n",
    "\n",
    "#codeNoYes(df , \"RainToday\" , \"llovio_hoy\")\n",
    "\n",
    "#codeNoYes(df , \"RainTomorrow\" , \"llueve_man\")\n",
    "\n",
    "codeNoYes(df_nonull , \"RainToday\" , \"llovio_hoy\")\n",
    "\n",
    "codeNoYes(df_nonull , \"RainTomorrow\" , \"llueve_man\")\n",
    "\n",
    "print(df_nonull[\"llovio_hoy\"].unique() ,  \n",
    "      df_nonull[\"llueve_man\"].unique())"
   ]
  },
  {
   "cell_type": "code",
   "execution_count": 34,
   "id": "b4bd45ab",
   "metadata": {},
   "outputs": [
    {
     "name": "stdout",
     "output_type": "stream",
     "text": [
      "<class 'pandas.core.frame.DataFrame'>\n",
      "Int64Index: 56420 entries, 6049 to 142302\n",
      "Data columns (total 28 columns):\n",
      " #   Column         Non-Null Count  Dtype  \n",
      "---  ------         --------------  -----  \n",
      " 0   Date           56420 non-null  object \n",
      " 1   Location       56420 non-null  object \n",
      " 2   MinTemp        56420 non-null  float64\n",
      " 3   MaxTemp        56420 non-null  float64\n",
      " 4   Rainfall       56420 non-null  float64\n",
      " 5   Evaporation    56420 non-null  float64\n",
      " 6   Sunshine       56420 non-null  float64\n",
      " 7   WindGustDir    56420 non-null  object \n",
      " 8   WindGustSpeed  56420 non-null  float64\n",
      " 9   WindDir9am     56420 non-null  object \n",
      " 10  WindDir3pm     56420 non-null  object \n",
      " 11  WindSpeed9am   56420 non-null  float64\n",
      " 12  WindSpeed3pm   56420 non-null  float64\n",
      " 13  Humidity9am    56420 non-null  float64\n",
      " 14  Humidity3pm    56420 non-null  float64\n",
      " 15  Pressure9am    56420 non-null  float64\n",
      " 16  Pressure3pm    56420 non-null  float64\n",
      " 17  Cloud9am       56420 non-null  float64\n",
      " 18  Cloud3pm       56420 non-null  float64\n",
      " 19  Temp9am        56420 non-null  float64\n",
      " 20  Temp3pm        56420 non-null  float64\n",
      " 21  RainToday      56420 non-null  object \n",
      " 22  RainTomorrow   56420 non-null  object \n",
      " 23  mes            56420 non-null  int64  \n",
      " 24  anio           56420 non-null  int64  \n",
      " 25  loc_num        56420 non-null  int64  \n",
      " 26  llovio_hoy     56420 non-null  int64  \n",
      " 27  llueve_man     56420 non-null  int64  \n",
      "dtypes: float64(16), int64(5), object(7)\n",
      "memory usage: 12.5+ MB\n"
     ]
    }
   ],
   "source": [
    "#a chequear el resto de las variables del tipo object\n",
    "\n",
    "df_nonull.info()"
   ]
  },
  {
   "cell_type": "code",
   "execution_count": 35,
   "id": "a3e15f38",
   "metadata": {},
   "outputs": [
    {
     "name": "stdout",
     "output_type": "stream",
     "text": [
      "['SSW', 'S', 'NNE', 'WNW', 'N', 'SE', 'ENE', 'NE', 'E', 'SW', 'W', 'WSW', 'NNW', 'ESE', 'SSE', 'NW'] ['ENE', 'SSE', 'NNE', 'WNW', 'NW', 'N', 'S', 'SE', 'NE', 'W', 'SSW', 'E', 'NNW', 'ESE', 'WSW', 'SW'] ['SW', 'SSE', 'NNW', 'WSW', 'WNW', 'S', 'ENE', 'N', 'SE', 'NNE', 'NW', 'E', 'ESE', 'NE', 'SSW', 'W']\n"
     ]
    }
   ],
   "source": [
    "#las variables a chequear son: WindGustDir , WindDir9am , WindDir3pm\n",
    "\n",
    "print(list(df_nonull['WindGustDir'].unique()) , list(df_nonull['WindDir9am'].unique()) , list(df_nonull['WindDir3pm'].unique()))"
   ]
  },
  {
   "cell_type": "code",
   "execution_count": null,
   "id": "ad96d546",
   "metadata": {},
   "outputs": [],
   "source": []
  },
  {
   "cell_type": "code",
   "execution_count": 36,
   "id": "1949da29",
   "metadata": {},
   "outputs": [],
   "source": [
    "vientos = set(list(df_nonull['WindGustDir'].unique()) + list(df_nonull['WindDir9am'].unique()) + list(df_nonull['WindDir3pm'].unique()))"
   ]
  },
  {
   "cell_type": "code",
   "execution_count": 37,
   "id": "2482877c",
   "metadata": {},
   "outputs": [
    {
     "data": {
      "text/plain": [
       "16"
      ]
     },
     "execution_count": 37,
     "metadata": {},
     "output_type": "execute_result"
    }
   ],
   "source": [
    "len(vientos)"
   ]
  },
  {
   "cell_type": "code",
   "execution_count": 38,
   "id": "8e0e297f",
   "metadata": {},
   "outputs": [
    {
     "data": {
      "text/plain": [
       "{'E',\n",
       " 'ENE',\n",
       " 'ESE',\n",
       " 'N',\n",
       " 'NE',\n",
       " 'NNE',\n",
       " 'NNW',\n",
       " 'NW',\n",
       " 'S',\n",
       " 'SE',\n",
       " 'SSE',\n",
       " 'SSW',\n",
       " 'SW',\n",
       " 'W',\n",
       " 'WNW',\n",
       " 'WSW'}"
      ]
     },
     "execution_count": 38,
     "metadata": {},
     "output_type": "execute_result"
    }
   ],
   "source": [
    "vientos"
   ]
  },
  {
   "cell_type": "code",
   "execution_count": 39,
   "id": "1b193f83",
   "metadata": {},
   "outputs": [
    {
     "data": {
      "text/plain": [
       "['E',\n",
       " 'WNW',\n",
       " 'SSW',\n",
       " 'NNE',\n",
       " 'SW',\n",
       " 'NE',\n",
       " 'WSW',\n",
       " 'ESE',\n",
       " 'NW',\n",
       " 'NNW',\n",
       " 'ENE',\n",
       " 'SSE',\n",
       " 'S',\n",
       " 'N',\n",
       " 'W',\n",
       " 'SE']"
      ]
     },
     "execution_count": 39,
     "metadata": {},
     "output_type": "execute_result"
    }
   ],
   "source": [
    "vientos = list(vientos)\n",
    "\n",
    "vientos"
   ]
  },
  {
   "cell_type": "code",
   "execution_count": 40,
   "id": "67f9a3d1",
   "metadata": {},
   "outputs": [
    {
     "data": {
      "text/plain": [
       "'E'"
      ]
     },
     "execution_count": 40,
     "metadata": {},
     "output_type": "execute_result"
    }
   ],
   "source": [
    "vientos[0]"
   ]
  },
  {
   "cell_type": "code",
   "execution_count": 41,
   "id": "0fec7d3e",
   "metadata": {},
   "outputs": [],
   "source": [
    "#voy a armar un vector de 16 dim para cada posible tipo de viento\n",
    "#codificando como 0 si no aparece, 1 si aparece\n",
    "#ej NNE sera 0 para el resto, 1 E\n",
    "\n",
    "#['N','ESE','NE','W','SSW','NNW','ENE','NW','E','SE','NNE','WSW','SSE','SW','WNW','S']\n",
    "\n",
    "#lista_vectores = [[1,0,0,0,0,0,0,0,0,0,0,0,0,0,0,0],\n",
    "#                 [0,1,0,0,0,0,0,0,0,0,0,0,0,0,0,0],\n",
    "#                 [0,0,1,0,0,0,0,0,0,0,0,0,0,0,0,0],\n",
    "#                 [0,0,0,1,0,0,0,0,0,0,0,0,0,0,0,0],\n",
    "#                 [0,0,0,0,1,0,0,0,0,0,0,0,0,0,0,0],\n",
    "#                 [0,0,0,0,0,1,0,0,0,0,0,0,0,0,0,0],\n",
    "#                 [0,0,0,0,0,0,1,0,0,0,0,0,0,0,0,0],\n",
    "#                 [0,0,0,0,0,0,0,1,0,0,0,0,0,0,0,0],\n",
    "#                 [0,0,0,0,0,0,0,0,1,0,0,0,0,0,0,0],\n",
    "#                 [0,0,0,0,0,0,0,0,0,1,0,0,0,0,0,0],\n",
    "#                 [0,0,0,0,0,0,0,0,0,0,1,0,0,0,0,0],\n",
    "#                 [0,0,0,0,0,0,0,0,0,0,0,1,0,0,0,0],\n",
    "#                 [0,0,0,0,0,0,0,0,0,0,0,0,1,0,0,0],\n",
    "#                 [0,0,0,0,0,0,0,0,0,0,0,0,0,1,0,0],\n",
    "#                 [0,0,0,0,0,0,0,0,0,0,0,0,0,0,1,0],\n",
    "#                 [0,0,0,0,0,0,0,0,0,0,0,0,0,0,0,1]]\n",
    "\n",
    "#dict_vientos = dict(zip(vientos , lista_vectores))\n",
    "\n",
    "#df_nonull['vientos_rafaga'] = df_nonull['WindGustDir'].map(dict_vientos)\n",
    "\n",
    "#df_nonull['vientos_9am'] = df_nonull['WindDir9am'].map(dict_vientos)\n",
    "\n",
    "#df_nonull['vientos_3pm'] = df_nonull['WindDir3pm'].map(dict_vientos)\n",
    "\n",
    "#df['vientos_rafaga'] = df['WindGustDir'].map(dict_vientos)\n",
    "\n",
    "#df['vientos_9am'] = df['WindDir9am'].map(dict_vientos)\n",
    "\n",
    "#df['vientos_3pm'] = df['WindDir3pm'].map(dict_vientos)"
   ]
  },
  {
   "cell_type": "code",
   "execution_count": 43,
   "id": "48863449",
   "metadata": {},
   "outputs": [
    {
     "name": "stderr",
     "output_type": "stream",
     "text": [
      "/tmp/ipykernel_56358/3117492525.py:3: SettingWithCopyWarning: \n",
      "A value is trying to be set on a copy of a slice from a DataFrame.\n",
      "Try using .loc[row_indexer,col_indexer] = value instead\n",
      "\n",
      "See the caveats in the documentation: https://pandas.pydata.org/pandas-docs/stable/user_guide/indexing.html#returning-a-view-versus-a-copy\n",
      "  df_nonull[f\"{wind_col}_one_key_{direction}\"] = df_nonull[wind_col] == direction\n",
      "/tmp/ipykernel_56358/3117492525.py:3: SettingWithCopyWarning: \n",
      "A value is trying to be set on a copy of a slice from a DataFrame.\n",
      "Try using .loc[row_indexer,col_indexer] = value instead\n",
      "\n",
      "See the caveats in the documentation: https://pandas.pydata.org/pandas-docs/stable/user_guide/indexing.html#returning-a-view-versus-a-copy\n",
      "  df_nonull[f\"{wind_col}_one_key_{direction}\"] = df_nonull[wind_col] == direction\n",
      "/tmp/ipykernel_56358/3117492525.py:3: SettingWithCopyWarning: \n",
      "A value is trying to be set on a copy of a slice from a DataFrame.\n",
      "Try using .loc[row_indexer,col_indexer] = value instead\n",
      "\n",
      "See the caveats in the documentation: https://pandas.pydata.org/pandas-docs/stable/user_guide/indexing.html#returning-a-view-versus-a-copy\n",
      "  df_nonull[f\"{wind_col}_one_key_{direction}\"] = df_nonull[wind_col] == direction\n",
      "/tmp/ipykernel_56358/3117492525.py:3: SettingWithCopyWarning: \n",
      "A value is trying to be set on a copy of a slice from a DataFrame.\n",
      "Try using .loc[row_indexer,col_indexer] = value instead\n",
      "\n",
      "See the caveats in the documentation: https://pandas.pydata.org/pandas-docs/stable/user_guide/indexing.html#returning-a-view-versus-a-copy\n",
      "  df_nonull[f\"{wind_col}_one_key_{direction}\"] = df_nonull[wind_col] == direction\n",
      "/tmp/ipykernel_56358/3117492525.py:3: SettingWithCopyWarning: \n",
      "A value is trying to be set on a copy of a slice from a DataFrame.\n",
      "Try using .loc[row_indexer,col_indexer] = value instead\n",
      "\n",
      "See the caveats in the documentation: https://pandas.pydata.org/pandas-docs/stable/user_guide/indexing.html#returning-a-view-versus-a-copy\n",
      "  df_nonull[f\"{wind_col}_one_key_{direction}\"] = df_nonull[wind_col] == direction\n",
      "/tmp/ipykernel_56358/3117492525.py:3: SettingWithCopyWarning: \n",
      "A value is trying to be set on a copy of a slice from a DataFrame.\n",
      "Try using .loc[row_indexer,col_indexer] = value instead\n",
      "\n",
      "See the caveats in the documentation: https://pandas.pydata.org/pandas-docs/stable/user_guide/indexing.html#returning-a-view-versus-a-copy\n",
      "  df_nonull[f\"{wind_col}_one_key_{direction}\"] = df_nonull[wind_col] == direction\n",
      "/tmp/ipykernel_56358/3117492525.py:3: SettingWithCopyWarning: \n",
      "A value is trying to be set on a copy of a slice from a DataFrame.\n",
      "Try using .loc[row_indexer,col_indexer] = value instead\n",
      "\n",
      "See the caveats in the documentation: https://pandas.pydata.org/pandas-docs/stable/user_guide/indexing.html#returning-a-view-versus-a-copy\n",
      "  df_nonull[f\"{wind_col}_one_key_{direction}\"] = df_nonull[wind_col] == direction\n",
      "/tmp/ipykernel_56358/3117492525.py:3: SettingWithCopyWarning: \n",
      "A value is trying to be set on a copy of a slice from a DataFrame.\n",
      "Try using .loc[row_indexer,col_indexer] = value instead\n",
      "\n",
      "See the caveats in the documentation: https://pandas.pydata.org/pandas-docs/stable/user_guide/indexing.html#returning-a-view-versus-a-copy\n",
      "  df_nonull[f\"{wind_col}_one_key_{direction}\"] = df_nonull[wind_col] == direction\n",
      "/tmp/ipykernel_56358/3117492525.py:3: SettingWithCopyWarning: \n",
      "A value is trying to be set on a copy of a slice from a DataFrame.\n",
      "Try using .loc[row_indexer,col_indexer] = value instead\n",
      "\n",
      "See the caveats in the documentation: https://pandas.pydata.org/pandas-docs/stable/user_guide/indexing.html#returning-a-view-versus-a-copy\n",
      "  df_nonull[f\"{wind_col}_one_key_{direction}\"] = df_nonull[wind_col] == direction\n",
      "/tmp/ipykernel_56358/3117492525.py:3: SettingWithCopyWarning: \n",
      "A value is trying to be set on a copy of a slice from a DataFrame.\n",
      "Try using .loc[row_indexer,col_indexer] = value instead\n",
      "\n",
      "See the caveats in the documentation: https://pandas.pydata.org/pandas-docs/stable/user_guide/indexing.html#returning-a-view-versus-a-copy\n",
      "  df_nonull[f\"{wind_col}_one_key_{direction}\"] = df_nonull[wind_col] == direction\n",
      "/tmp/ipykernel_56358/3117492525.py:3: SettingWithCopyWarning: \n",
      "A value is trying to be set on a copy of a slice from a DataFrame.\n",
      "Try using .loc[row_indexer,col_indexer] = value instead\n",
      "\n",
      "See the caveats in the documentation: https://pandas.pydata.org/pandas-docs/stable/user_guide/indexing.html#returning-a-view-versus-a-copy\n",
      "  df_nonull[f\"{wind_col}_one_key_{direction}\"] = df_nonull[wind_col] == direction\n",
      "/tmp/ipykernel_56358/3117492525.py:3: SettingWithCopyWarning: \n",
      "A value is trying to be set on a copy of a slice from a DataFrame.\n",
      "Try using .loc[row_indexer,col_indexer] = value instead\n",
      "\n",
      "See the caveats in the documentation: https://pandas.pydata.org/pandas-docs/stable/user_guide/indexing.html#returning-a-view-versus-a-copy\n",
      "  df_nonull[f\"{wind_col}_one_key_{direction}\"] = df_nonull[wind_col] == direction\n",
      "/tmp/ipykernel_56358/3117492525.py:3: SettingWithCopyWarning: \n",
      "A value is trying to be set on a copy of a slice from a DataFrame.\n",
      "Try using .loc[row_indexer,col_indexer] = value instead\n",
      "\n",
      "See the caveats in the documentation: https://pandas.pydata.org/pandas-docs/stable/user_guide/indexing.html#returning-a-view-versus-a-copy\n",
      "  df_nonull[f\"{wind_col}_one_key_{direction}\"] = df_nonull[wind_col] == direction\n",
      "/tmp/ipykernel_56358/3117492525.py:3: SettingWithCopyWarning: \n",
      "A value is trying to be set on a copy of a slice from a DataFrame.\n",
      "Try using .loc[row_indexer,col_indexer] = value instead\n",
      "\n",
      "See the caveats in the documentation: https://pandas.pydata.org/pandas-docs/stable/user_guide/indexing.html#returning-a-view-versus-a-copy\n",
      "  df_nonull[f\"{wind_col}_one_key_{direction}\"] = df_nonull[wind_col] == direction\n",
      "/tmp/ipykernel_56358/3117492525.py:3: SettingWithCopyWarning: \n",
      "A value is trying to be set on a copy of a slice from a DataFrame.\n",
      "Try using .loc[row_indexer,col_indexer] = value instead\n",
      "\n",
      "See the caveats in the documentation: https://pandas.pydata.org/pandas-docs/stable/user_guide/indexing.html#returning-a-view-versus-a-copy\n",
      "  df_nonull[f\"{wind_col}_one_key_{direction}\"] = df_nonull[wind_col] == direction\n",
      "/tmp/ipykernel_56358/3117492525.py:3: SettingWithCopyWarning: \n",
      "A value is trying to be set on a copy of a slice from a DataFrame.\n",
      "Try using .loc[row_indexer,col_indexer] = value instead\n",
      "\n",
      "See the caveats in the documentation: https://pandas.pydata.org/pandas-docs/stable/user_guide/indexing.html#returning-a-view-versus-a-copy\n",
      "  df_nonull[f\"{wind_col}_one_key_{direction}\"] = df_nonull[wind_col] == direction\n",
      "/tmp/ipykernel_56358/3117492525.py:3: SettingWithCopyWarning: \n",
      "A value is trying to be set on a copy of a slice from a DataFrame.\n",
      "Try using .loc[row_indexer,col_indexer] = value instead\n",
      "\n",
      "See the caveats in the documentation: https://pandas.pydata.org/pandas-docs/stable/user_guide/indexing.html#returning-a-view-versus-a-copy\n",
      "  df_nonull[f\"{wind_col}_one_key_{direction}\"] = df_nonull[wind_col] == direction\n",
      "/tmp/ipykernel_56358/3117492525.py:3: SettingWithCopyWarning: \n",
      "A value is trying to be set on a copy of a slice from a DataFrame.\n",
      "Try using .loc[row_indexer,col_indexer] = value instead\n",
      "\n",
      "See the caveats in the documentation: https://pandas.pydata.org/pandas-docs/stable/user_guide/indexing.html#returning-a-view-versus-a-copy\n",
      "  df_nonull[f\"{wind_col}_one_key_{direction}\"] = df_nonull[wind_col] == direction\n",
      "/tmp/ipykernel_56358/3117492525.py:3: SettingWithCopyWarning: \n",
      "A value is trying to be set on a copy of a slice from a DataFrame.\n",
      "Try using .loc[row_indexer,col_indexer] = value instead\n",
      "\n",
      "See the caveats in the documentation: https://pandas.pydata.org/pandas-docs/stable/user_guide/indexing.html#returning-a-view-versus-a-copy\n",
      "  df_nonull[f\"{wind_col}_one_key_{direction}\"] = df_nonull[wind_col] == direction\n",
      "/tmp/ipykernel_56358/3117492525.py:3: SettingWithCopyWarning: \n",
      "A value is trying to be set on a copy of a slice from a DataFrame.\n",
      "Try using .loc[row_indexer,col_indexer] = value instead\n",
      "\n",
      "See the caveats in the documentation: https://pandas.pydata.org/pandas-docs/stable/user_guide/indexing.html#returning-a-view-versus-a-copy\n",
      "  df_nonull[f\"{wind_col}_one_key_{direction}\"] = df_nonull[wind_col] == direction\n",
      "/tmp/ipykernel_56358/3117492525.py:3: SettingWithCopyWarning: \n",
      "A value is trying to be set on a copy of a slice from a DataFrame.\n",
      "Try using .loc[row_indexer,col_indexer] = value instead\n",
      "\n",
      "See the caveats in the documentation: https://pandas.pydata.org/pandas-docs/stable/user_guide/indexing.html#returning-a-view-versus-a-copy\n",
      "  df_nonull[f\"{wind_col}_one_key_{direction}\"] = df_nonull[wind_col] == direction\n",
      "/tmp/ipykernel_56358/3117492525.py:3: SettingWithCopyWarning: \n",
      "A value is trying to be set on a copy of a slice from a DataFrame.\n",
      "Try using .loc[row_indexer,col_indexer] = value instead\n",
      "\n",
      "See the caveats in the documentation: https://pandas.pydata.org/pandas-docs/stable/user_guide/indexing.html#returning-a-view-versus-a-copy\n",
      "  df_nonull[f\"{wind_col}_one_key_{direction}\"] = df_nonull[wind_col] == direction\n"
     ]
    },
    {
     "name": "stderr",
     "output_type": "stream",
     "text": [
      "/tmp/ipykernel_56358/3117492525.py:3: SettingWithCopyWarning: \n",
      "A value is trying to be set on a copy of a slice from a DataFrame.\n",
      "Try using .loc[row_indexer,col_indexer] = value instead\n",
      "\n",
      "See the caveats in the documentation: https://pandas.pydata.org/pandas-docs/stable/user_guide/indexing.html#returning-a-view-versus-a-copy\n",
      "  df_nonull[f\"{wind_col}_one_key_{direction}\"] = df_nonull[wind_col] == direction\n",
      "/tmp/ipykernel_56358/3117492525.py:3: SettingWithCopyWarning: \n",
      "A value is trying to be set on a copy of a slice from a DataFrame.\n",
      "Try using .loc[row_indexer,col_indexer] = value instead\n",
      "\n",
      "See the caveats in the documentation: https://pandas.pydata.org/pandas-docs/stable/user_guide/indexing.html#returning-a-view-versus-a-copy\n",
      "  df_nonull[f\"{wind_col}_one_key_{direction}\"] = df_nonull[wind_col] == direction\n",
      "/tmp/ipykernel_56358/3117492525.py:3: SettingWithCopyWarning: \n",
      "A value is trying to be set on a copy of a slice from a DataFrame.\n",
      "Try using .loc[row_indexer,col_indexer] = value instead\n",
      "\n",
      "See the caveats in the documentation: https://pandas.pydata.org/pandas-docs/stable/user_guide/indexing.html#returning-a-view-versus-a-copy\n",
      "  df_nonull[f\"{wind_col}_one_key_{direction}\"] = df_nonull[wind_col] == direction\n",
      "/tmp/ipykernel_56358/3117492525.py:3: SettingWithCopyWarning: \n",
      "A value is trying to be set on a copy of a slice from a DataFrame.\n",
      "Try using .loc[row_indexer,col_indexer] = value instead\n",
      "\n",
      "See the caveats in the documentation: https://pandas.pydata.org/pandas-docs/stable/user_guide/indexing.html#returning-a-view-versus-a-copy\n",
      "  df_nonull[f\"{wind_col}_one_key_{direction}\"] = df_nonull[wind_col] == direction\n",
      "/tmp/ipykernel_56358/3117492525.py:3: SettingWithCopyWarning: \n",
      "A value is trying to be set on a copy of a slice from a DataFrame.\n",
      "Try using .loc[row_indexer,col_indexer] = value instead\n",
      "\n",
      "See the caveats in the documentation: https://pandas.pydata.org/pandas-docs/stable/user_guide/indexing.html#returning-a-view-versus-a-copy\n",
      "  df_nonull[f\"{wind_col}_one_key_{direction}\"] = df_nonull[wind_col] == direction\n",
      "/tmp/ipykernel_56358/3117492525.py:3: SettingWithCopyWarning: \n",
      "A value is trying to be set on a copy of a slice from a DataFrame.\n",
      "Try using .loc[row_indexer,col_indexer] = value instead\n",
      "\n",
      "See the caveats in the documentation: https://pandas.pydata.org/pandas-docs/stable/user_guide/indexing.html#returning-a-view-versus-a-copy\n",
      "  df_nonull[f\"{wind_col}_one_key_{direction}\"] = df_nonull[wind_col] == direction\n",
      "/tmp/ipykernel_56358/3117492525.py:3: SettingWithCopyWarning: \n",
      "A value is trying to be set on a copy of a slice from a DataFrame.\n",
      "Try using .loc[row_indexer,col_indexer] = value instead\n",
      "\n",
      "See the caveats in the documentation: https://pandas.pydata.org/pandas-docs/stable/user_guide/indexing.html#returning-a-view-versus-a-copy\n",
      "  df_nonull[f\"{wind_col}_one_key_{direction}\"] = df_nonull[wind_col] == direction\n",
      "/tmp/ipykernel_56358/3117492525.py:3: SettingWithCopyWarning: \n",
      "A value is trying to be set on a copy of a slice from a DataFrame.\n",
      "Try using .loc[row_indexer,col_indexer] = value instead\n",
      "\n",
      "See the caveats in the documentation: https://pandas.pydata.org/pandas-docs/stable/user_guide/indexing.html#returning-a-view-versus-a-copy\n",
      "  df_nonull[f\"{wind_col}_one_key_{direction}\"] = df_nonull[wind_col] == direction\n",
      "/tmp/ipykernel_56358/3117492525.py:3: SettingWithCopyWarning: \n",
      "A value is trying to be set on a copy of a slice from a DataFrame.\n",
      "Try using .loc[row_indexer,col_indexer] = value instead\n",
      "\n",
      "See the caveats in the documentation: https://pandas.pydata.org/pandas-docs/stable/user_guide/indexing.html#returning-a-view-versus-a-copy\n",
      "  df_nonull[f\"{wind_col}_one_key_{direction}\"] = df_nonull[wind_col] == direction\n",
      "/tmp/ipykernel_56358/3117492525.py:3: SettingWithCopyWarning: \n",
      "A value is trying to be set on a copy of a slice from a DataFrame.\n",
      "Try using .loc[row_indexer,col_indexer] = value instead\n",
      "\n",
      "See the caveats in the documentation: https://pandas.pydata.org/pandas-docs/stable/user_guide/indexing.html#returning-a-view-versus-a-copy\n",
      "  df_nonull[f\"{wind_col}_one_key_{direction}\"] = df_nonull[wind_col] == direction\n",
      "/tmp/ipykernel_56358/3117492525.py:3: SettingWithCopyWarning: \n",
      "A value is trying to be set on a copy of a slice from a DataFrame.\n",
      "Try using .loc[row_indexer,col_indexer] = value instead\n",
      "\n",
      "See the caveats in the documentation: https://pandas.pydata.org/pandas-docs/stable/user_guide/indexing.html#returning-a-view-versus-a-copy\n",
      "  df_nonull[f\"{wind_col}_one_key_{direction}\"] = df_nonull[wind_col] == direction\n",
      "/tmp/ipykernel_56358/3117492525.py:3: SettingWithCopyWarning: \n",
      "A value is trying to be set on a copy of a slice from a DataFrame.\n",
      "Try using .loc[row_indexer,col_indexer] = value instead\n",
      "\n",
      "See the caveats in the documentation: https://pandas.pydata.org/pandas-docs/stable/user_guide/indexing.html#returning-a-view-versus-a-copy\n",
      "  df_nonull[f\"{wind_col}_one_key_{direction}\"] = df_nonull[wind_col] == direction\n",
      "/tmp/ipykernel_56358/3117492525.py:3: SettingWithCopyWarning: \n",
      "A value is trying to be set on a copy of a slice from a DataFrame.\n",
      "Try using .loc[row_indexer,col_indexer] = value instead\n",
      "\n",
      "See the caveats in the documentation: https://pandas.pydata.org/pandas-docs/stable/user_guide/indexing.html#returning-a-view-versus-a-copy\n",
      "  df_nonull[f\"{wind_col}_one_key_{direction}\"] = df_nonull[wind_col] == direction\n",
      "/tmp/ipykernel_56358/3117492525.py:3: SettingWithCopyWarning: \n",
      "A value is trying to be set on a copy of a slice from a DataFrame.\n",
      "Try using .loc[row_indexer,col_indexer] = value instead\n",
      "\n",
      "See the caveats in the documentation: https://pandas.pydata.org/pandas-docs/stable/user_guide/indexing.html#returning-a-view-versus-a-copy\n",
      "  df_nonull[f\"{wind_col}_one_key_{direction}\"] = df_nonull[wind_col] == direction\n",
      "/tmp/ipykernel_56358/3117492525.py:3: SettingWithCopyWarning: \n",
      "A value is trying to be set on a copy of a slice from a DataFrame.\n",
      "Try using .loc[row_indexer,col_indexer] = value instead\n",
      "\n",
      "See the caveats in the documentation: https://pandas.pydata.org/pandas-docs/stable/user_guide/indexing.html#returning-a-view-versus-a-copy\n",
      "  df_nonull[f\"{wind_col}_one_key_{direction}\"] = df_nonull[wind_col] == direction\n",
      "/tmp/ipykernel_56358/3117492525.py:3: SettingWithCopyWarning: \n",
      "A value is trying to be set on a copy of a slice from a DataFrame.\n",
      "Try using .loc[row_indexer,col_indexer] = value instead\n",
      "\n",
      "See the caveats in the documentation: https://pandas.pydata.org/pandas-docs/stable/user_guide/indexing.html#returning-a-view-versus-a-copy\n",
      "  df_nonull[f\"{wind_col}_one_key_{direction}\"] = df_nonull[wind_col] == direction\n",
      "/tmp/ipykernel_56358/3117492525.py:3: SettingWithCopyWarning: \n",
      "A value is trying to be set on a copy of a slice from a DataFrame.\n",
      "Try using .loc[row_indexer,col_indexer] = value instead\n",
      "\n",
      "See the caveats in the documentation: https://pandas.pydata.org/pandas-docs/stable/user_guide/indexing.html#returning-a-view-versus-a-copy\n",
      "  df_nonull[f\"{wind_col}_one_key_{direction}\"] = df_nonull[wind_col] == direction\n",
      "/tmp/ipykernel_56358/3117492525.py:3: SettingWithCopyWarning: \n",
      "A value is trying to be set on a copy of a slice from a DataFrame.\n",
      "Try using .loc[row_indexer,col_indexer] = value instead\n",
      "\n",
      "See the caveats in the documentation: https://pandas.pydata.org/pandas-docs/stable/user_guide/indexing.html#returning-a-view-versus-a-copy\n",
      "  df_nonull[f\"{wind_col}_one_key_{direction}\"] = df_nonull[wind_col] == direction\n",
      "/tmp/ipykernel_56358/3117492525.py:3: SettingWithCopyWarning: \n",
      "A value is trying to be set on a copy of a slice from a DataFrame.\n",
      "Try using .loc[row_indexer,col_indexer] = value instead\n",
      "\n",
      "See the caveats in the documentation: https://pandas.pydata.org/pandas-docs/stable/user_guide/indexing.html#returning-a-view-versus-a-copy\n",
      "  df_nonull[f\"{wind_col}_one_key_{direction}\"] = df_nonull[wind_col] == direction\n",
      "/tmp/ipykernel_56358/3117492525.py:3: SettingWithCopyWarning: \n",
      "A value is trying to be set on a copy of a slice from a DataFrame.\n",
      "Try using .loc[row_indexer,col_indexer] = value instead\n",
      "\n",
      "See the caveats in the documentation: https://pandas.pydata.org/pandas-docs/stable/user_guide/indexing.html#returning-a-view-versus-a-copy\n",
      "  df_nonull[f\"{wind_col}_one_key_{direction}\"] = df_nonull[wind_col] == direction\n",
      "/tmp/ipykernel_56358/3117492525.py:3: SettingWithCopyWarning: \n",
      "A value is trying to be set on a copy of a slice from a DataFrame.\n",
      "Try using .loc[row_indexer,col_indexer] = value instead\n",
      "\n",
      "See the caveats in the documentation: https://pandas.pydata.org/pandas-docs/stable/user_guide/indexing.html#returning-a-view-versus-a-copy\n",
      "  df_nonull[f\"{wind_col}_one_key_{direction}\"] = df_nonull[wind_col] == direction\n",
      "/tmp/ipykernel_56358/3117492525.py:3: SettingWithCopyWarning: \n",
      "A value is trying to be set on a copy of a slice from a DataFrame.\n",
      "Try using .loc[row_indexer,col_indexer] = value instead\n",
      "\n",
      "See the caveats in the documentation: https://pandas.pydata.org/pandas-docs/stable/user_guide/indexing.html#returning-a-view-versus-a-copy\n",
      "  df_nonull[f\"{wind_col}_one_key_{direction}\"] = df_nonull[wind_col] == direction\n",
      "/tmp/ipykernel_56358/3117492525.py:3: SettingWithCopyWarning: \n",
      "A value is trying to be set on a copy of a slice from a DataFrame.\n",
      "Try using .loc[row_indexer,col_indexer] = value instead\n",
      "\n",
      "See the caveats in the documentation: https://pandas.pydata.org/pandas-docs/stable/user_guide/indexing.html#returning-a-view-versus-a-copy\n",
      "  df_nonull[f\"{wind_col}_one_key_{direction}\"] = df_nonull[wind_col] == direction\n",
      "/tmp/ipykernel_56358/3117492525.py:3: SettingWithCopyWarning: \n",
      "A value is trying to be set on a copy of a slice from a DataFrame.\n",
      "Try using .loc[row_indexer,col_indexer] = value instead\n",
      "\n",
      "See the caveats in the documentation: https://pandas.pydata.org/pandas-docs/stable/user_guide/indexing.html#returning-a-view-versus-a-copy\n",
      "  df_nonull[f\"{wind_col}_one_key_{direction}\"] = df_nonull[wind_col] == direction\n",
      "/tmp/ipykernel_56358/3117492525.py:3: SettingWithCopyWarning: \n",
      "A value is trying to be set on a copy of a slice from a DataFrame.\n",
      "Try using .loc[row_indexer,col_indexer] = value instead\n",
      "\n",
      "See the caveats in the documentation: https://pandas.pydata.org/pandas-docs/stable/user_guide/indexing.html#returning-a-view-versus-a-copy\n",
      "  df_nonull[f\"{wind_col}_one_key_{direction}\"] = df_nonull[wind_col] == direction\n",
      "/tmp/ipykernel_56358/3117492525.py:3: SettingWithCopyWarning: \n",
      "A value is trying to be set on a copy of a slice from a DataFrame.\n",
      "Try using .loc[row_indexer,col_indexer] = value instead\n",
      "\n",
      "See the caveats in the documentation: https://pandas.pydata.org/pandas-docs/stable/user_guide/indexing.html#returning-a-view-versus-a-copy\n",
      "  df_nonull[f\"{wind_col}_one_key_{direction}\"] = df_nonull[wind_col] == direction\n"
     ]
    }
   ],
   "source": [
    "for wind_col in {\"WindDir3pm\", \"WindDir9am\", \"WindGustDir\"}:\n",
    "    for direction, rows in df_nonull.groupby(wind_col):\n",
    "        df_nonull[f\"{wind_col}_one_key_{direction}\"] = df_nonull[wind_col] == direction"
   ]
  },
  {
   "cell_type": "code",
   "execution_count": null,
   "id": "4c5e21ce",
   "metadata": {},
   "outputs": [],
   "source": []
  },
  {
   "cell_type": "code",
   "execution_count": 45,
   "id": "115abcc1",
   "metadata": {},
   "outputs": [
    {
     "data": {
      "text/html": [
       "<div>\n",
       "<style scoped>\n",
       "    .dataframe tbody tr th:only-of-type {\n",
       "        vertical-align: middle;\n",
       "    }\n",
       "\n",
       "    .dataframe tbody tr th {\n",
       "        vertical-align: top;\n",
       "    }\n",
       "\n",
       "    .dataframe thead th {\n",
       "        text-align: right;\n",
       "    }\n",
       "</style>\n",
       "<table border=\"1\" class=\"dataframe\">\n",
       "  <thead>\n",
       "    <tr style=\"text-align: right;\">\n",
       "      <th></th>\n",
       "      <th>Date</th>\n",
       "      <th>Location</th>\n",
       "      <th>MinTemp</th>\n",
       "      <th>MaxTemp</th>\n",
       "      <th>Rainfall</th>\n",
       "      <th>Evaporation</th>\n",
       "      <th>Sunshine</th>\n",
       "      <th>WindGustDir</th>\n",
       "      <th>WindGustSpeed</th>\n",
       "      <th>WindDir9am</th>\n",
       "      <th>...</th>\n",
       "      <th>WindDir9am_one_key_NNW</th>\n",
       "      <th>WindDir9am_one_key_NW</th>\n",
       "      <th>WindDir9am_one_key_S</th>\n",
       "      <th>WindDir9am_one_key_SE</th>\n",
       "      <th>WindDir9am_one_key_SSE</th>\n",
       "      <th>WindDir9am_one_key_SSW</th>\n",
       "      <th>WindDir9am_one_key_SW</th>\n",
       "      <th>WindDir9am_one_key_W</th>\n",
       "      <th>WindDir9am_one_key_WNW</th>\n",
       "      <th>WindDir9am_one_key_WSW</th>\n",
       "    </tr>\n",
       "  </thead>\n",
       "  <tbody>\n",
       "    <tr>\n",
       "      <th>6049</th>\n",
       "      <td>2009-01-01</td>\n",
       "      <td>Cobar</td>\n",
       "      <td>17.9</td>\n",
       "      <td>35.2</td>\n",
       "      <td>0.0</td>\n",
       "      <td>12.0</td>\n",
       "      <td>12.3</td>\n",
       "      <td>SSW</td>\n",
       "      <td>48.0</td>\n",
       "      <td>ENE</td>\n",
       "      <td>...</td>\n",
       "      <td>False</td>\n",
       "      <td>False</td>\n",
       "      <td>False</td>\n",
       "      <td>False</td>\n",
       "      <td>False</td>\n",
       "      <td>False</td>\n",
       "      <td>False</td>\n",
       "      <td>False</td>\n",
       "      <td>False</td>\n",
       "      <td>False</td>\n",
       "    </tr>\n",
       "    <tr>\n",
       "      <th>6050</th>\n",
       "      <td>2009-01-02</td>\n",
       "      <td>Cobar</td>\n",
       "      <td>18.4</td>\n",
       "      <td>28.9</td>\n",
       "      <td>0.0</td>\n",
       "      <td>14.8</td>\n",
       "      <td>13.0</td>\n",
       "      <td>S</td>\n",
       "      <td>37.0</td>\n",
       "      <td>SSE</td>\n",
       "      <td>...</td>\n",
       "      <td>False</td>\n",
       "      <td>False</td>\n",
       "      <td>False</td>\n",
       "      <td>False</td>\n",
       "      <td>True</td>\n",
       "      <td>False</td>\n",
       "      <td>False</td>\n",
       "      <td>False</td>\n",
       "      <td>False</td>\n",
       "      <td>False</td>\n",
       "    </tr>\n",
       "    <tr>\n",
       "      <th>6052</th>\n",
       "      <td>2009-01-04</td>\n",
       "      <td>Cobar</td>\n",
       "      <td>19.4</td>\n",
       "      <td>37.6</td>\n",
       "      <td>0.0</td>\n",
       "      <td>10.8</td>\n",
       "      <td>10.6</td>\n",
       "      <td>NNE</td>\n",
       "      <td>46.0</td>\n",
       "      <td>NNE</td>\n",
       "      <td>...</td>\n",
       "      <td>False</td>\n",
       "      <td>False</td>\n",
       "      <td>False</td>\n",
       "      <td>False</td>\n",
       "      <td>False</td>\n",
       "      <td>False</td>\n",
       "      <td>False</td>\n",
       "      <td>False</td>\n",
       "      <td>False</td>\n",
       "      <td>False</td>\n",
       "    </tr>\n",
       "    <tr>\n",
       "      <th>6053</th>\n",
       "      <td>2009-01-05</td>\n",
       "      <td>Cobar</td>\n",
       "      <td>21.9</td>\n",
       "      <td>38.4</td>\n",
       "      <td>0.0</td>\n",
       "      <td>11.4</td>\n",
       "      <td>12.2</td>\n",
       "      <td>WNW</td>\n",
       "      <td>31.0</td>\n",
       "      <td>WNW</td>\n",
       "      <td>...</td>\n",
       "      <td>False</td>\n",
       "      <td>False</td>\n",
       "      <td>False</td>\n",
       "      <td>False</td>\n",
       "      <td>False</td>\n",
       "      <td>False</td>\n",
       "      <td>False</td>\n",
       "      <td>False</td>\n",
       "      <td>True</td>\n",
       "      <td>False</td>\n",
       "    </tr>\n",
       "    <tr>\n",
       "      <th>6054</th>\n",
       "      <td>2009-01-06</td>\n",
       "      <td>Cobar</td>\n",
       "      <td>24.2</td>\n",
       "      <td>41.0</td>\n",
       "      <td>0.0</td>\n",
       "      <td>11.2</td>\n",
       "      <td>8.4</td>\n",
       "      <td>WNW</td>\n",
       "      <td>35.0</td>\n",
       "      <td>NW</td>\n",
       "      <td>...</td>\n",
       "      <td>False</td>\n",
       "      <td>True</td>\n",
       "      <td>False</td>\n",
       "      <td>False</td>\n",
       "      <td>False</td>\n",
       "      <td>False</td>\n",
       "      <td>False</td>\n",
       "      <td>False</td>\n",
       "      <td>False</td>\n",
       "      <td>False</td>\n",
       "    </tr>\n",
       "    <tr>\n",
       "      <th>6055</th>\n",
       "      <td>2009-01-07</td>\n",
       "      <td>Cobar</td>\n",
       "      <td>27.1</td>\n",
       "      <td>36.1</td>\n",
       "      <td>0.0</td>\n",
       "      <td>13.0</td>\n",
       "      <td>0.0</td>\n",
       "      <td>N</td>\n",
       "      <td>43.0</td>\n",
       "      <td>N</td>\n",
       "      <td>...</td>\n",
       "      <td>False</td>\n",
       "      <td>False</td>\n",
       "      <td>False</td>\n",
       "      <td>False</td>\n",
       "      <td>False</td>\n",
       "      <td>False</td>\n",
       "      <td>False</td>\n",
       "      <td>False</td>\n",
       "      <td>False</td>\n",
       "      <td>False</td>\n",
       "    </tr>\n",
       "    <tr>\n",
       "      <th>6056</th>\n",
       "      <td>2009-01-08</td>\n",
       "      <td>Cobar</td>\n",
       "      <td>23.3</td>\n",
       "      <td>34.0</td>\n",
       "      <td>0.0</td>\n",
       "      <td>9.8</td>\n",
       "      <td>12.6</td>\n",
       "      <td>SSW</td>\n",
       "      <td>41.0</td>\n",
       "      <td>S</td>\n",
       "      <td>...</td>\n",
       "      <td>False</td>\n",
       "      <td>False</td>\n",
       "      <td>True</td>\n",
       "      <td>False</td>\n",
       "      <td>False</td>\n",
       "      <td>False</td>\n",
       "      <td>False</td>\n",
       "      <td>False</td>\n",
       "      <td>False</td>\n",
       "      <td>False</td>\n",
       "    </tr>\n",
       "    <tr>\n",
       "      <th>6057</th>\n",
       "      <td>2009-01-09</td>\n",
       "      <td>Cobar</td>\n",
       "      <td>16.1</td>\n",
       "      <td>34.2</td>\n",
       "      <td>0.0</td>\n",
       "      <td>14.6</td>\n",
       "      <td>13.2</td>\n",
       "      <td>SE</td>\n",
       "      <td>37.0</td>\n",
       "      <td>SE</td>\n",
       "      <td>...</td>\n",
       "      <td>False</td>\n",
       "      <td>False</td>\n",
       "      <td>False</td>\n",
       "      <td>True</td>\n",
       "      <td>False</td>\n",
       "      <td>False</td>\n",
       "      <td>False</td>\n",
       "      <td>False</td>\n",
       "      <td>False</td>\n",
       "      <td>False</td>\n",
       "    </tr>\n",
       "    <tr>\n",
       "      <th>6058</th>\n",
       "      <td>2009-01-10</td>\n",
       "      <td>Cobar</td>\n",
       "      <td>19.0</td>\n",
       "      <td>35.5</td>\n",
       "      <td>0.0</td>\n",
       "      <td>12.0</td>\n",
       "      <td>12.3</td>\n",
       "      <td>ENE</td>\n",
       "      <td>48.0</td>\n",
       "      <td>ENE</td>\n",
       "      <td>...</td>\n",
       "      <td>False</td>\n",
       "      <td>False</td>\n",
       "      <td>False</td>\n",
       "      <td>False</td>\n",
       "      <td>False</td>\n",
       "      <td>False</td>\n",
       "      <td>False</td>\n",
       "      <td>False</td>\n",
       "      <td>False</td>\n",
       "      <td>False</td>\n",
       "    </tr>\n",
       "    <tr>\n",
       "      <th>6059</th>\n",
       "      <td>2009-01-11</td>\n",
       "      <td>Cobar</td>\n",
       "      <td>19.7</td>\n",
       "      <td>35.5</td>\n",
       "      <td>0.0</td>\n",
       "      <td>11.0</td>\n",
       "      <td>12.7</td>\n",
       "      <td>NE</td>\n",
       "      <td>41.0</td>\n",
       "      <td>NNE</td>\n",
       "      <td>...</td>\n",
       "      <td>False</td>\n",
       "      <td>False</td>\n",
       "      <td>False</td>\n",
       "      <td>False</td>\n",
       "      <td>False</td>\n",
       "      <td>False</td>\n",
       "      <td>False</td>\n",
       "      <td>False</td>\n",
       "      <td>False</td>\n",
       "      <td>False</td>\n",
       "    </tr>\n",
       "    <tr>\n",
       "      <th>6060</th>\n",
       "      <td>2009-01-12</td>\n",
       "      <td>Cobar</td>\n",
       "      <td>20.9</td>\n",
       "      <td>37.8</td>\n",
       "      <td>0.0</td>\n",
       "      <td>12.8</td>\n",
       "      <td>13.2</td>\n",
       "      <td>E</td>\n",
       "      <td>30.0</td>\n",
       "      <td>SE</td>\n",
       "      <td>...</td>\n",
       "      <td>False</td>\n",
       "      <td>False</td>\n",
       "      <td>False</td>\n",
       "      <td>True</td>\n",
       "      <td>False</td>\n",
       "      <td>False</td>\n",
       "      <td>False</td>\n",
       "      <td>False</td>\n",
       "      <td>False</td>\n",
       "      <td>False</td>\n",
       "    </tr>\n",
       "    <tr>\n",
       "      <th>6061</th>\n",
       "      <td>2009-01-13</td>\n",
       "      <td>Cobar</td>\n",
       "      <td>23.9</td>\n",
       "      <td>39.1</td>\n",
       "      <td>0.0</td>\n",
       "      <td>13.8</td>\n",
       "      <td>12.1</td>\n",
       "      <td>ENE</td>\n",
       "      <td>39.0</td>\n",
       "      <td>NE</td>\n",
       "      <td>...</td>\n",
       "      <td>False</td>\n",
       "      <td>False</td>\n",
       "      <td>False</td>\n",
       "      <td>False</td>\n",
       "      <td>False</td>\n",
       "      <td>False</td>\n",
       "      <td>False</td>\n",
       "      <td>False</td>\n",
       "      <td>False</td>\n",
       "      <td>False</td>\n",
       "    </tr>\n",
       "    <tr>\n",
       "      <th>6062</th>\n",
       "      <td>2009-01-14</td>\n",
       "      <td>Cobar</td>\n",
       "      <td>24.9</td>\n",
       "      <td>41.2</td>\n",
       "      <td>0.0</td>\n",
       "      <td>14.8</td>\n",
       "      <td>13.0</td>\n",
       "      <td>SSW</td>\n",
       "      <td>43.0</td>\n",
       "      <td>N</td>\n",
       "      <td>...</td>\n",
       "      <td>False</td>\n",
       "      <td>False</td>\n",
       "      <td>False</td>\n",
       "      <td>False</td>\n",
       "      <td>False</td>\n",
       "      <td>False</td>\n",
       "      <td>False</td>\n",
       "      <td>False</td>\n",
       "      <td>False</td>\n",
       "      <td>False</td>\n",
       "    </tr>\n",
       "    <tr>\n",
       "      <th>6063</th>\n",
       "      <td>2009-01-15</td>\n",
       "      <td>Cobar</td>\n",
       "      <td>25.2</td>\n",
       "      <td>40.5</td>\n",
       "      <td>0.0</td>\n",
       "      <td>16.4</td>\n",
       "      <td>10.3</td>\n",
       "      <td>SW</td>\n",
       "      <td>44.0</td>\n",
       "      <td>W</td>\n",
       "      <td>...</td>\n",
       "      <td>False</td>\n",
       "      <td>False</td>\n",
       "      <td>False</td>\n",
       "      <td>False</td>\n",
       "      <td>False</td>\n",
       "      <td>False</td>\n",
       "      <td>False</td>\n",
       "      <td>True</td>\n",
       "      <td>False</td>\n",
       "      <td>False</td>\n",
       "    </tr>\n",
       "    <tr>\n",
       "      <th>6064</th>\n",
       "      <td>2009-01-16</td>\n",
       "      <td>Cobar</td>\n",
       "      <td>21.6</td>\n",
       "      <td>34.2</td>\n",
       "      <td>0.0</td>\n",
       "      <td>17.4</td>\n",
       "      <td>13.1</td>\n",
       "      <td>SW</td>\n",
       "      <td>44.0</td>\n",
       "      <td>S</td>\n",
       "      <td>...</td>\n",
       "      <td>False</td>\n",
       "      <td>False</td>\n",
       "      <td>True</td>\n",
       "      <td>False</td>\n",
       "      <td>False</td>\n",
       "      <td>False</td>\n",
       "      <td>False</td>\n",
       "      <td>False</td>\n",
       "      <td>False</td>\n",
       "      <td>False</td>\n",
       "    </tr>\n",
       "  </tbody>\n",
       "</table>\n",
       "<p>15 rows × 76 columns</p>\n",
       "</div>"
      ],
      "text/plain": [
       "            Date Location  MinTemp  MaxTemp  Rainfall  Evaporation  Sunshine  \\\n",
       "6049  2009-01-01    Cobar     17.9     35.2       0.0         12.0      12.3   \n",
       "6050  2009-01-02    Cobar     18.4     28.9       0.0         14.8      13.0   \n",
       "6052  2009-01-04    Cobar     19.4     37.6       0.0         10.8      10.6   \n",
       "6053  2009-01-05    Cobar     21.9     38.4       0.0         11.4      12.2   \n",
       "6054  2009-01-06    Cobar     24.2     41.0       0.0         11.2       8.4   \n",
       "6055  2009-01-07    Cobar     27.1     36.1       0.0         13.0       0.0   \n",
       "6056  2009-01-08    Cobar     23.3     34.0       0.0          9.8      12.6   \n",
       "6057  2009-01-09    Cobar     16.1     34.2       0.0         14.6      13.2   \n",
       "6058  2009-01-10    Cobar     19.0     35.5       0.0         12.0      12.3   \n",
       "6059  2009-01-11    Cobar     19.7     35.5       0.0         11.0      12.7   \n",
       "6060  2009-01-12    Cobar     20.9     37.8       0.0         12.8      13.2   \n",
       "6061  2009-01-13    Cobar     23.9     39.1       0.0         13.8      12.1   \n",
       "6062  2009-01-14    Cobar     24.9     41.2       0.0         14.8      13.0   \n",
       "6063  2009-01-15    Cobar     25.2     40.5       0.0         16.4      10.3   \n",
       "6064  2009-01-16    Cobar     21.6     34.2       0.0         17.4      13.1   \n",
       "\n",
       "     WindGustDir  WindGustSpeed WindDir9am  ... WindDir9am_one_key_NNW  \\\n",
       "6049         SSW           48.0        ENE  ...                  False   \n",
       "6050           S           37.0        SSE  ...                  False   \n",
       "6052         NNE           46.0        NNE  ...                  False   \n",
       "6053         WNW           31.0        WNW  ...                  False   \n",
       "6054         WNW           35.0         NW  ...                  False   \n",
       "6055           N           43.0          N  ...                  False   \n",
       "6056         SSW           41.0          S  ...                  False   \n",
       "6057          SE           37.0         SE  ...                  False   \n",
       "6058         ENE           48.0        ENE  ...                  False   \n",
       "6059          NE           41.0        NNE  ...                  False   \n",
       "6060           E           30.0         SE  ...                  False   \n",
       "6061         ENE           39.0         NE  ...                  False   \n",
       "6062         SSW           43.0          N  ...                  False   \n",
       "6063          SW           44.0          W  ...                  False   \n",
       "6064          SW           44.0          S  ...                  False   \n",
       "\n",
       "      WindDir9am_one_key_NW  WindDir9am_one_key_S  WindDir9am_one_key_SE  \\\n",
       "6049                  False                 False                  False   \n",
       "6050                  False                 False                  False   \n",
       "6052                  False                 False                  False   \n",
       "6053                  False                 False                  False   \n",
       "6054                   True                 False                  False   \n",
       "6055                  False                 False                  False   \n",
       "6056                  False                  True                  False   \n",
       "6057                  False                 False                   True   \n",
       "6058                  False                 False                  False   \n",
       "6059                  False                 False                  False   \n",
       "6060                  False                 False                   True   \n",
       "6061                  False                 False                  False   \n",
       "6062                  False                 False                  False   \n",
       "6063                  False                 False                  False   \n",
       "6064                  False                  True                  False   \n",
       "\n",
       "      WindDir9am_one_key_SSE  WindDir9am_one_key_SSW  WindDir9am_one_key_SW  \\\n",
       "6049                   False                   False                  False   \n",
       "6050                    True                   False                  False   \n",
       "6052                   False                   False                  False   \n",
       "6053                   False                   False                  False   \n",
       "6054                   False                   False                  False   \n",
       "6055                   False                   False                  False   \n",
       "6056                   False                   False                  False   \n",
       "6057                   False                   False                  False   \n",
       "6058                   False                   False                  False   \n",
       "6059                   False                   False                  False   \n",
       "6060                   False                   False                  False   \n",
       "6061                   False                   False                  False   \n",
       "6062                   False                   False                  False   \n",
       "6063                   False                   False                  False   \n",
       "6064                   False                   False                  False   \n",
       "\n",
       "      WindDir9am_one_key_W  WindDir9am_one_key_WNW  WindDir9am_one_key_WSW  \n",
       "6049                 False                   False                   False  \n",
       "6050                 False                   False                   False  \n",
       "6052                 False                   False                   False  \n",
       "6053                 False                    True                   False  \n",
       "6054                 False                   False                   False  \n",
       "6055                 False                   False                   False  \n",
       "6056                 False                   False                   False  \n",
       "6057                 False                   False                   False  \n",
       "6058                 False                   False                   False  \n",
       "6059                 False                   False                   False  \n",
       "6060                 False                   False                   False  \n",
       "6061                 False                   False                   False  \n",
       "6062                 False                   False                   False  \n",
       "6063                  True                   False                   False  \n",
       "6064                 False                   False                   False  \n",
       "\n",
       "[15 rows x 76 columns]"
      ]
     },
     "execution_count": 45,
     "metadata": {},
     "output_type": "execute_result"
    }
   ],
   "source": [
    "df_nonull.head(15)"
   ]
  },
  {
   "cell_type": "code",
   "execution_count": null,
   "id": "eca020d6",
   "metadata": {},
   "outputs": [],
   "source": []
  },
  {
   "cell_type": "code",
   "execution_count": null,
   "id": "02b6e771",
   "metadata": {},
   "outputs": [],
   "source": []
  },
  {
   "cell_type": "code",
   "execution_count": null,
   "id": "135ca704",
   "metadata": {},
   "outputs": [],
   "source": []
  },
  {
   "cell_type": "code",
   "execution_count": null,
   "id": "4f33e38d",
   "metadata": {},
   "outputs": [],
   "source": []
  },
  {
   "cell_type": "code",
   "execution_count": 60,
   "id": "a9438385",
   "metadata": {},
   "outputs": [
    {
     "data": {
      "text/plain": [
       "6049      [0, 0, 0, 0, 0, 0, 0, 0, 0, 0, 0, 0, 0, 0, 1, 0]\n",
       "6050      [0, 0, 0, 0, 0, 0, 0, 0, 0, 0, 0, 0, 0, 0, 0, 1]\n",
       "6052      [0, 0, 0, 0, 0, 0, 0, 0, 0, 0, 0, 1, 0, 0, 0, 0]\n",
       "6053      [0, 0, 1, 0, 0, 0, 0, 0, 0, 0, 0, 0, 0, 0, 0, 0]\n",
       "6054      [0, 0, 1, 0, 0, 0, 0, 0, 0, 0, 0, 0, 0, 0, 0, 0]\n",
       "                                ...                       \n",
       "142298    [0, 0, 0, 0, 0, 0, 0, 0, 0, 0, 0, 0, 0, 1, 0, 0]\n",
       "142299    [0, 0, 0, 0, 1, 0, 0, 0, 0, 0, 0, 0, 0, 0, 0, 0]\n",
       "142300    [0, 0, 0, 0, 1, 0, 0, 0, 0, 0, 0, 0, 0, 0, 0, 0]\n",
       "142301    [0, 0, 0, 0, 0, 1, 0, 0, 0, 0, 0, 0, 0, 0, 0, 0]\n",
       "142302    [0, 0, 0, 0, 0, 0, 0, 0, 0, 0, 0, 0, 0, 1, 0, 0]\n",
       "Name: vientos_rafaga, Length: 56420, dtype: object"
      ]
     },
     "execution_count": 60,
     "metadata": {},
     "output_type": "execute_result"
    }
   ],
   "source": [
    "#df_nonull['vientos_rafaga']"
   ]
  },
  {
   "cell_type": "code",
   "execution_count": null,
   "id": "50ea93f7",
   "metadata": {},
   "outputs": [],
   "source": []
  },
  {
   "cell_type": "code",
   "execution_count": null,
   "id": "0c280a2f",
   "metadata": {},
   "outputs": [],
   "source": []
  },
  {
   "cell_type": "code",
   "execution_count": null,
   "id": "dac33c4a",
   "metadata": {},
   "outputs": [],
   "source": []
  },
  {
   "cell_type": "code",
   "execution_count": null,
   "id": "6d5ca1e2",
   "metadata": {},
   "outputs": [],
   "source": []
  },
  {
   "cell_type": "code",
   "execution_count": null,
   "id": "064a5d67",
   "metadata": {},
   "outputs": [],
   "source": []
  },
  {
   "cell_type": "code",
   "execution_count": null,
   "id": "42200fd9",
   "metadata": {},
   "outputs": [],
   "source": []
  },
  {
   "cell_type": "code",
   "execution_count": null,
   "id": "8c7f7a00",
   "metadata": {},
   "outputs": [],
   "source": []
  },
  {
   "cell_type": "code",
   "execution_count": null,
   "id": "63fdb83b",
   "metadata": {},
   "outputs": [],
   "source": []
  },
  {
   "cell_type": "code",
   "execution_count": 46,
   "id": "cebdffe7",
   "metadata": {},
   "outputs": [
    {
     "data": {
      "text/plain": [
       "Index(['Date', 'Location', 'MinTemp', 'MaxTemp', 'Rainfall', 'Evaporation',\n",
       "       'Sunshine', 'WindGustDir', 'WindGustSpeed', 'WindDir9am', 'WindDir3pm',\n",
       "       'WindSpeed9am', 'WindSpeed3pm', 'Humidity9am', 'Humidity3pm',\n",
       "       'Pressure9am', 'Pressure3pm', 'Cloud9am', 'Cloud3pm', 'Temp9am',\n",
       "       'Temp3pm', 'RainToday', 'RainTomorrow', 'mes', 'anio', 'loc_num',\n",
       "       'llovio_hoy', 'llueve_man', 'WindGustDir_one_key_E',\n",
       "       'WindGustDir_one_key_ENE', 'WindGustDir_one_key_ESE',\n",
       "       'WindGustDir_one_key_N', 'WindGustDir_one_key_NE',\n",
       "       'WindGustDir_one_key_NNE', 'WindGustDir_one_key_NNW',\n",
       "       'WindGustDir_one_key_NW', 'WindGustDir_one_key_S',\n",
       "       'WindGustDir_one_key_SE', 'WindGustDir_one_key_SSE',\n",
       "       'WindGustDir_one_key_SSW', 'WindGustDir_one_key_SW',\n",
       "       'WindGustDir_one_key_W', 'WindGustDir_one_key_WNW',\n",
       "       'WindGustDir_one_key_WSW', 'WindDir3pm_one_key_E',\n",
       "       'WindDir3pm_one_key_ENE', 'WindDir3pm_one_key_ESE',\n",
       "       'WindDir3pm_one_key_N', 'WindDir3pm_one_key_NE',\n",
       "       'WindDir3pm_one_key_NNE', 'WindDir3pm_one_key_NNW',\n",
       "       'WindDir3pm_one_key_NW', 'WindDir3pm_one_key_S',\n",
       "       'WindDir3pm_one_key_SE', 'WindDir3pm_one_key_SSE',\n",
       "       'WindDir3pm_one_key_SSW', 'WindDir3pm_one_key_SW',\n",
       "       'WindDir3pm_one_key_W', 'WindDir3pm_one_key_WNW',\n",
       "       'WindDir3pm_one_key_WSW', 'WindDir9am_one_key_E',\n",
       "       'WindDir9am_one_key_ENE', 'WindDir9am_one_key_ESE',\n",
       "       'WindDir9am_one_key_N', 'WindDir9am_one_key_NE',\n",
       "       'WindDir9am_one_key_NNE', 'WindDir9am_one_key_NNW',\n",
       "       'WindDir9am_one_key_NW', 'WindDir9am_one_key_S',\n",
       "       'WindDir9am_one_key_SE', 'WindDir9am_one_key_SSE',\n",
       "       'WindDir9am_one_key_SSW', 'WindDir9am_one_key_SW',\n",
       "       'WindDir9am_one_key_W', 'WindDir9am_one_key_WNW',\n",
       "       'WindDir9am_one_key_WSW'],\n",
       "      dtype='object')"
      ]
     },
     "execution_count": 46,
     "metadata": {},
     "output_type": "execute_result"
    }
   ],
   "source": [
    "df_nonull.columns"
   ]
  },
  {
   "cell_type": "code",
   "execution_count": null,
   "id": "ec54df8c",
   "metadata": {},
   "outputs": [],
   "source": []
  },
  {
   "cell_type": "code",
   "execution_count": null,
   "id": "9fcc57df",
   "metadata": {},
   "outputs": [],
   "source": []
  },
  {
   "cell_type": "code",
   "execution_count": 48,
   "id": "72ff4c52",
   "metadata": {},
   "outputs": [],
   "source": [
    "#completo = df.loc[: , ['anio' , 'mes' , 'loc_num' , 'MinTemp', 'MaxTemp', 'Rainfall', 'Evaporation',\n",
    "#'Sunshine', 'vientos_rafaga', 'WindGustSpeed', 'vientos_9am', 'vientos_3pm','WindSpeed9am', 'WindSpeed3pm',\n",
    "#'Humidity9am','Humidity3pm','Pressure9am', 'Pressure3pm', 'Cloud9am', 'Cloud3pm', 'Temp9am',\n",
    "#'Temp3pm', 'llovio_hoy', 'llueve_man']]\n",
    "\n",
    "nonull = df_nonull.loc[: , ['MinTemp', 'MaxTemp', 'Rainfall', 'Evaporation',\n",
    "       'Sunshine', 'WindGustDir', 'WindGustSpeed', 'WindDir9am', 'WindDir3pm',\n",
    "       'WindSpeed9am', 'WindSpeed3pm', 'Humidity9am', 'Humidity3pm',\n",
    "       'Pressure9am', 'Pressure3pm', 'Cloud9am', 'Cloud3pm', 'Temp9am',\n",
    "       'Temp3pm', 'RainToday', 'RainTomorrow', 'mes', 'anio', 'loc_num',\n",
    "       'llovio_hoy', 'llueve_man', 'WindGustDir_one_key_E',\n",
    "       'WindGustDir_one_key_ENE', 'WindGustDir_one_key_ESE',\n",
    "       'WindGustDir_one_key_N', 'WindGustDir_one_key_NE',\n",
    "       'WindGustDir_one_key_NNE', 'WindGustDir_one_key_NNW',\n",
    "       'WindGustDir_one_key_NW', 'WindGustDir_one_key_S',\n",
    "       'WindGustDir_one_key_SE', 'WindGustDir_one_key_SSE',\n",
    "       'WindGustDir_one_key_SSW', 'WindGustDir_one_key_SW',\n",
    "       'WindGustDir_one_key_W', 'WindGustDir_one_key_WNW',\n",
    "       'WindGustDir_one_key_WSW', 'WindDir3pm_one_key_E',\n",
    "       'WindDir3pm_one_key_ENE', 'WindDir3pm_one_key_ESE',\n",
    "       'WindDir3pm_one_key_N', 'WindDir3pm_one_key_NE',\n",
    "       'WindDir3pm_one_key_NNE', 'WindDir3pm_one_key_NNW',\n",
    "       'WindDir3pm_one_key_NW', 'WindDir3pm_one_key_S',\n",
    "       'WindDir3pm_one_key_SE', 'WindDir3pm_one_key_SSE',\n",
    "       'WindDir3pm_one_key_SSW', 'WindDir3pm_one_key_SW',\n",
    "       'WindDir3pm_one_key_W', 'WindDir3pm_one_key_WNW',\n",
    "       'WindDir3pm_one_key_WSW', 'WindDir9am_one_key_E',\n",
    "       'WindDir9am_one_key_ENE', 'WindDir9am_one_key_ESE',\n",
    "       'WindDir9am_one_key_N', 'WindDir9am_one_key_NE',\n",
    "       'WindDir9am_one_key_NNE', 'WindDir9am_one_key_NNW',\n",
    "       'WindDir9am_one_key_NW', 'WindDir9am_one_key_S',\n",
    "       'WindDir9am_one_key_SE', 'WindDir9am_one_key_SSE',\n",
    "       'WindDir9am_one_key_SSW', 'WindDir9am_one_key_SW',\n",
    "       'WindDir9am_one_key_W', 'WindDir9am_one_key_WNW',\n",
    "       'WindDir9am_one_key_WSW']]"
   ]
  },
  {
   "cell_type": "code",
   "execution_count": 49,
   "id": "1f35c2d6",
   "metadata": {},
   "outputs": [
    {
     "data": {
      "text/plain": [
       "(56420, 74)"
      ]
     },
     "execution_count": 49,
     "metadata": {},
     "output_type": "execute_result"
    }
   ],
   "source": [
    "nonull.shape"
   ]
  },
  {
   "cell_type": "code",
   "execution_count": 50,
   "id": "92e3210e",
   "metadata": {},
   "outputs": [
    {
     "name": "stdout",
     "output_type": "stream",
     "text": [
      "<class 'pandas.core.frame.DataFrame'>\n",
      "Int64Index: 56420 entries, 6049 to 142302\n",
      "Data columns (total 74 columns):\n",
      " #   Column                   Non-Null Count  Dtype  \n",
      "---  ------                   --------------  -----  \n",
      " 0   MinTemp                  56420 non-null  float64\n",
      " 1   MaxTemp                  56420 non-null  float64\n",
      " 2   Rainfall                 56420 non-null  float64\n",
      " 3   Evaporation              56420 non-null  float64\n",
      " 4   Sunshine                 56420 non-null  float64\n",
      " 5   WindGustDir              56420 non-null  object \n",
      " 6   WindGustSpeed            56420 non-null  float64\n",
      " 7   WindDir9am               56420 non-null  object \n",
      " 8   WindDir3pm               56420 non-null  object \n",
      " 9   WindSpeed9am             56420 non-null  float64\n",
      " 10  WindSpeed3pm             56420 non-null  float64\n",
      " 11  Humidity9am              56420 non-null  float64\n",
      " 12  Humidity3pm              56420 non-null  float64\n",
      " 13  Pressure9am              56420 non-null  float64\n",
      " 14  Pressure3pm              56420 non-null  float64\n",
      " 15  Cloud9am                 56420 non-null  float64\n",
      " 16  Cloud3pm                 56420 non-null  float64\n",
      " 17  Temp9am                  56420 non-null  float64\n",
      " 18  Temp3pm                  56420 non-null  float64\n",
      " 19  RainToday                56420 non-null  object \n",
      " 20  RainTomorrow             56420 non-null  object \n",
      " 21  mes                      56420 non-null  int64  \n",
      " 22  anio                     56420 non-null  int64  \n",
      " 23  loc_num                  56420 non-null  int64  \n",
      " 24  llovio_hoy               56420 non-null  int64  \n",
      " 25  llueve_man               56420 non-null  int64  \n",
      " 26  WindGustDir_one_key_E    56420 non-null  bool   \n",
      " 27  WindGustDir_one_key_ENE  56420 non-null  bool   \n",
      " 28  WindGustDir_one_key_ESE  56420 non-null  bool   \n",
      " 29  WindGustDir_one_key_N    56420 non-null  bool   \n",
      " 30  WindGustDir_one_key_NE   56420 non-null  bool   \n",
      " 31  WindGustDir_one_key_NNE  56420 non-null  bool   \n",
      " 32  WindGustDir_one_key_NNW  56420 non-null  bool   \n",
      " 33  WindGustDir_one_key_NW   56420 non-null  bool   \n",
      " 34  WindGustDir_one_key_S    56420 non-null  bool   \n",
      " 35  WindGustDir_one_key_SE   56420 non-null  bool   \n",
      " 36  WindGustDir_one_key_SSE  56420 non-null  bool   \n",
      " 37  WindGustDir_one_key_SSW  56420 non-null  bool   \n",
      " 38  WindGustDir_one_key_SW   56420 non-null  bool   \n",
      " 39  WindGustDir_one_key_W    56420 non-null  bool   \n",
      " 40  WindGustDir_one_key_WNW  56420 non-null  bool   \n",
      " 41  WindGustDir_one_key_WSW  56420 non-null  bool   \n",
      " 42  WindDir3pm_one_key_E     56420 non-null  bool   \n",
      " 43  WindDir3pm_one_key_ENE   56420 non-null  bool   \n",
      " 44  WindDir3pm_one_key_ESE   56420 non-null  bool   \n",
      " 45  WindDir3pm_one_key_N     56420 non-null  bool   \n",
      " 46  WindDir3pm_one_key_NE    56420 non-null  bool   \n",
      " 47  WindDir3pm_one_key_NNE   56420 non-null  bool   \n",
      " 48  WindDir3pm_one_key_NNW   56420 non-null  bool   \n",
      " 49  WindDir3pm_one_key_NW    56420 non-null  bool   \n",
      " 50  WindDir3pm_one_key_S     56420 non-null  bool   \n",
      " 51  WindDir3pm_one_key_SE    56420 non-null  bool   \n",
      " 52  WindDir3pm_one_key_SSE   56420 non-null  bool   \n",
      " 53  WindDir3pm_one_key_SSW   56420 non-null  bool   \n",
      " 54  WindDir3pm_one_key_SW    56420 non-null  bool   \n",
      " 55  WindDir3pm_one_key_W     56420 non-null  bool   \n",
      " 56  WindDir3pm_one_key_WNW   56420 non-null  bool   \n",
      " 57  WindDir3pm_one_key_WSW   56420 non-null  bool   \n",
      " 58  WindDir9am_one_key_E     56420 non-null  bool   \n",
      " 59  WindDir9am_one_key_ENE   56420 non-null  bool   \n",
      " 60  WindDir9am_one_key_ESE   56420 non-null  bool   \n",
      " 61  WindDir9am_one_key_N     56420 non-null  bool   \n",
      " 62  WindDir9am_one_key_NE    56420 non-null  bool   \n",
      " 63  WindDir9am_one_key_NNE   56420 non-null  bool   \n",
      " 64  WindDir9am_one_key_NNW   56420 non-null  bool   \n",
      " 65  WindDir9am_one_key_NW    56420 non-null  bool   \n",
      " 66  WindDir9am_one_key_S     56420 non-null  bool   \n",
      " 67  WindDir9am_one_key_SE    56420 non-null  bool   \n",
      " 68  WindDir9am_one_key_SSE   56420 non-null  bool   \n",
      " 69  WindDir9am_one_key_SSW   56420 non-null  bool   \n",
      " 70  WindDir9am_one_key_SW    56420 non-null  bool   \n",
      " 71  WindDir9am_one_key_W     56420 non-null  bool   \n",
      " 72  WindDir9am_one_key_WNW   56420 non-null  bool   \n",
      " 73  WindDir9am_one_key_WSW   56420 non-null  bool   \n",
      "dtypes: bool(48), float64(16), int64(5), object(5)\n",
      "memory usage: 14.2+ MB\n"
     ]
    }
   ],
   "source": [
    "nonull.info()"
   ]
  },
  {
   "cell_type": "code",
   "execution_count": 53,
   "id": "21305caa",
   "metadata": {},
   "outputs": [],
   "source": [
    "nonull[['WindGustDir_one_key_E',\n",
    "       'WindGustDir_one_key_ENE', 'WindGustDir_one_key_ESE',\n",
    "       'WindGustDir_one_key_N', 'WindGustDir_one_key_NE',\n",
    "       'WindGustDir_one_key_NNE', 'WindGustDir_one_key_NNW',\n",
    "       'WindGustDir_one_key_NW', 'WindGustDir_one_key_S',\n",
    "       'WindGustDir_one_key_SE', 'WindGustDir_one_key_SSE',\n",
    "       'WindGustDir_one_key_SSW', 'WindGustDir_one_key_SW',\n",
    "       'WindGustDir_one_key_W', 'WindGustDir_one_key_WNW',\n",
    "       'WindGustDir_one_key_WSW', 'WindDir3pm_one_key_E',\n",
    "       'WindDir3pm_one_key_ENE', 'WindDir3pm_one_key_ESE',\n",
    "       'WindDir3pm_one_key_N', 'WindDir3pm_one_key_NE',\n",
    "       'WindDir3pm_one_key_NNE', 'WindDir3pm_one_key_NNW',\n",
    "       'WindDir3pm_one_key_NW', 'WindDir3pm_one_key_S',\n",
    "       'WindDir3pm_one_key_SE', 'WindDir3pm_one_key_SSE',\n",
    "       'WindDir3pm_one_key_SSW', 'WindDir3pm_one_key_SW',\n",
    "       'WindDir3pm_one_key_W', 'WindDir3pm_one_key_WNW',\n",
    "       'WindDir3pm_one_key_WSW', 'WindDir9am_one_key_E',\n",
    "       'WindDir9am_one_key_ENE', 'WindDir9am_one_key_ESE',\n",
    "       'WindDir9am_one_key_N', 'WindDir9am_one_key_NE',\n",
    "       'WindDir9am_one_key_NNE', 'WindDir9am_one_key_NNW',\n",
    "       'WindDir9am_one_key_NW', 'WindDir9am_one_key_S',\n",
    "       'WindDir9am_one_key_SE', 'WindDir9am_one_key_SSE',\n",
    "       'WindDir9am_one_key_SSW', 'WindDir9am_one_key_SW',\n",
    "       'WindDir9am_one_key_W', 'WindDir9am_one_key_WNW',\n",
    "       'WindDir9am_one_key_WSW']] = nonull[['WindGustDir_one_key_E',\n",
    "       'WindGustDir_one_key_ENE', 'WindGustDir_one_key_ESE',\n",
    "       'WindGustDir_one_key_N', 'WindGustDir_one_key_NE',\n",
    "       'WindGustDir_one_key_NNE', 'WindGustDir_one_key_NNW',\n",
    "       'WindGustDir_one_key_NW', 'WindGustDir_one_key_S',\n",
    "       'WindGustDir_one_key_SE', 'WindGustDir_one_key_SSE',\n",
    "       'WindGustDir_one_key_SSW', 'WindGustDir_one_key_SW',\n",
    "       'WindGustDir_one_key_W', 'WindGustDir_one_key_WNW',\n",
    "       'WindGustDir_one_key_WSW', 'WindDir3pm_one_key_E',\n",
    "       'WindDir3pm_one_key_ENE', 'WindDir3pm_one_key_ESE',\n",
    "       'WindDir3pm_one_key_N', 'WindDir3pm_one_key_NE',\n",
    "       'WindDir3pm_one_key_NNE', 'WindDir3pm_one_key_NNW',\n",
    "       'WindDir3pm_one_key_NW', 'WindDir3pm_one_key_S',\n",
    "       'WindDir3pm_one_key_SE', 'WindDir3pm_one_key_SSE',\n",
    "       'WindDir3pm_one_key_SSW', 'WindDir3pm_one_key_SW',\n",
    "       'WindDir3pm_one_key_W', 'WindDir3pm_one_key_WNW',\n",
    "       'WindDir3pm_one_key_WSW', 'WindDir9am_one_key_E',\n",
    "       'WindDir9am_one_key_ENE', 'WindDir9am_one_key_ESE',\n",
    "       'WindDir9am_one_key_N', 'WindDir9am_one_key_NE',\n",
    "       'WindDir9am_one_key_NNE', 'WindDir9am_one_key_NNW',\n",
    "       'WindDir9am_one_key_NW', 'WindDir9am_one_key_S',\n",
    "       'WindDir9am_one_key_SE', 'WindDir9am_one_key_SSE',\n",
    "       'WindDir9am_one_key_SSW', 'WindDir9am_one_key_SW',\n",
    "       'WindDir9am_one_key_W', 'WindDir9am_one_key_WNW',\n",
    "       'WindDir9am_one_key_WSW']].applymap(np.int64)"
   ]
  },
  {
   "cell_type": "code",
   "execution_count": null,
   "id": "a2605771",
   "metadata": {},
   "outputs": [],
   "source": []
  },
  {
   "cell_type": "code",
   "execution_count": 54,
   "id": "05c57157",
   "metadata": {},
   "outputs": [
    {
     "name": "stdout",
     "output_type": "stream",
     "text": [
      "<class 'pandas.core.frame.DataFrame'>\n",
      "Int64Index: 56420 entries, 6049 to 142302\n",
      "Data columns (total 74 columns):\n",
      " #   Column                   Non-Null Count  Dtype  \n",
      "---  ------                   --------------  -----  \n",
      " 0   MinTemp                  56420 non-null  float64\n",
      " 1   MaxTemp                  56420 non-null  float64\n",
      " 2   Rainfall                 56420 non-null  float64\n",
      " 3   Evaporation              56420 non-null  float64\n",
      " 4   Sunshine                 56420 non-null  float64\n",
      " 5   WindGustDir              56420 non-null  object \n",
      " 6   WindGustSpeed            56420 non-null  float64\n",
      " 7   WindDir9am               56420 non-null  object \n",
      " 8   WindDir3pm               56420 non-null  object \n",
      " 9   WindSpeed9am             56420 non-null  float64\n",
      " 10  WindSpeed3pm             56420 non-null  float64\n",
      " 11  Humidity9am              56420 non-null  float64\n",
      " 12  Humidity3pm              56420 non-null  float64\n",
      " 13  Pressure9am              56420 non-null  float64\n",
      " 14  Pressure3pm              56420 non-null  float64\n",
      " 15  Cloud9am                 56420 non-null  float64\n",
      " 16  Cloud3pm                 56420 non-null  float64\n",
      " 17  Temp9am                  56420 non-null  float64\n",
      " 18  Temp3pm                  56420 non-null  float64\n",
      " 19  RainToday                56420 non-null  object \n",
      " 20  RainTomorrow             56420 non-null  object \n",
      " 21  mes                      56420 non-null  int64  \n",
      " 22  anio                     56420 non-null  int64  \n",
      " 23  loc_num                  56420 non-null  int64  \n",
      " 24  llovio_hoy               56420 non-null  int64  \n",
      " 25  llueve_man               56420 non-null  int64  \n",
      " 26  WindGustDir_one_key_E    56420 non-null  int64  \n",
      " 27  WindGustDir_one_key_ENE  56420 non-null  int64  \n",
      " 28  WindGustDir_one_key_ESE  56420 non-null  int64  \n",
      " 29  WindGustDir_one_key_N    56420 non-null  int64  \n",
      " 30  WindGustDir_one_key_NE   56420 non-null  int64  \n",
      " 31  WindGustDir_one_key_NNE  56420 non-null  int64  \n",
      " 32  WindGustDir_one_key_NNW  56420 non-null  int64  \n",
      " 33  WindGustDir_one_key_NW   56420 non-null  int64  \n",
      " 34  WindGustDir_one_key_S    56420 non-null  int64  \n",
      " 35  WindGustDir_one_key_SE   56420 non-null  int64  \n",
      " 36  WindGustDir_one_key_SSE  56420 non-null  int64  \n",
      " 37  WindGustDir_one_key_SSW  56420 non-null  int64  \n",
      " 38  WindGustDir_one_key_SW   56420 non-null  int64  \n",
      " 39  WindGustDir_one_key_W    56420 non-null  int64  \n",
      " 40  WindGustDir_one_key_WNW  56420 non-null  int64  \n",
      " 41  WindGustDir_one_key_WSW  56420 non-null  int64  \n",
      " 42  WindDir3pm_one_key_E     56420 non-null  int64  \n",
      " 43  WindDir3pm_one_key_ENE   56420 non-null  int64  \n",
      " 44  WindDir3pm_one_key_ESE   56420 non-null  int64  \n",
      " 45  WindDir3pm_one_key_N     56420 non-null  int64  \n",
      " 46  WindDir3pm_one_key_NE    56420 non-null  int64  \n",
      " 47  WindDir3pm_one_key_NNE   56420 non-null  int64  \n",
      " 48  WindDir3pm_one_key_NNW   56420 non-null  int64  \n",
      " 49  WindDir3pm_one_key_NW    56420 non-null  int64  \n",
      " 50  WindDir3pm_one_key_S     56420 non-null  int64  \n",
      " 51  WindDir3pm_one_key_SE    56420 non-null  int64  \n",
      " 52  WindDir3pm_one_key_SSE   56420 non-null  int64  \n",
      " 53  WindDir3pm_one_key_SSW   56420 non-null  int64  \n",
      " 54  WindDir3pm_one_key_SW    56420 non-null  int64  \n",
      " 55  WindDir3pm_one_key_W     56420 non-null  int64  \n",
      " 56  WindDir3pm_one_key_WNW   56420 non-null  int64  \n",
      " 57  WindDir3pm_one_key_WSW   56420 non-null  int64  \n",
      " 58  WindDir9am_one_key_E     56420 non-null  int64  \n",
      " 59  WindDir9am_one_key_ENE   56420 non-null  int64  \n",
      " 60  WindDir9am_one_key_ESE   56420 non-null  int64  \n",
      " 61  WindDir9am_one_key_N     56420 non-null  int64  \n",
      " 62  WindDir9am_one_key_NE    56420 non-null  int64  \n",
      " 63  WindDir9am_one_key_NNE   56420 non-null  int64  \n",
      " 64  WindDir9am_one_key_NNW   56420 non-null  int64  \n",
      " 65  WindDir9am_one_key_NW    56420 non-null  int64  \n",
      " 66  WindDir9am_one_key_S     56420 non-null  int64  \n",
      " 67  WindDir9am_one_key_SE    56420 non-null  int64  \n",
      " 68  WindDir9am_one_key_SSE   56420 non-null  int64  \n",
      " 69  WindDir9am_one_key_SSW   56420 non-null  int64  \n",
      " 70  WindDir9am_one_key_SW    56420 non-null  int64  \n",
      " 71  WindDir9am_one_key_W     56420 non-null  int64  \n",
      " 72  WindDir9am_one_key_WNW   56420 non-null  int64  \n",
      " 73  WindDir9am_one_key_WSW   56420 non-null  int64  \n",
      "dtypes: float64(16), int64(53), object(5)\n",
      "memory usage: 32.3+ MB\n"
     ]
    }
   ],
   "source": [
    "nonull.info()"
   ]
  },
  {
   "cell_type": "code",
   "execution_count": null,
   "id": "450637b5",
   "metadata": {},
   "outputs": [],
   "source": []
  },
  {
   "cell_type": "code",
   "execution_count": 55,
   "id": "91c412f5",
   "metadata": {},
   "outputs": [
    {
     "data": {
      "text/plain": [
       "Index(['MinTemp', 'MaxTemp', 'Rainfall', 'Evaporation', 'Sunshine',\n",
       "       'WindGustDir', 'WindGustSpeed', 'WindDir9am', 'WindDir3pm',\n",
       "       'WindSpeed9am', 'WindSpeed3pm', 'Humidity9am', 'Humidity3pm',\n",
       "       'Pressure9am', 'Pressure3pm', 'Cloud9am', 'Cloud3pm', 'Temp9am',\n",
       "       'Temp3pm', 'RainToday', 'RainTomorrow', 'mes', 'anio', 'loc_num',\n",
       "       'llovio_hoy', 'llueve_man', 'WindGustDir_one_key_E',\n",
       "       'WindGustDir_one_key_ENE', 'WindGustDir_one_key_ESE',\n",
       "       'WindGustDir_one_key_N', 'WindGustDir_one_key_NE',\n",
       "       'WindGustDir_one_key_NNE', 'WindGustDir_one_key_NNW',\n",
       "       'WindGustDir_one_key_NW', 'WindGustDir_one_key_S',\n",
       "       'WindGustDir_one_key_SE', 'WindGustDir_one_key_SSE',\n",
       "       'WindGustDir_one_key_SSW', 'WindGustDir_one_key_SW',\n",
       "       'WindGustDir_one_key_W', 'WindGustDir_one_key_WNW',\n",
       "       'WindGustDir_one_key_WSW', 'WindDir3pm_one_key_E',\n",
       "       'WindDir3pm_one_key_ENE', 'WindDir3pm_one_key_ESE',\n",
       "       'WindDir3pm_one_key_N', 'WindDir3pm_one_key_NE',\n",
       "       'WindDir3pm_one_key_NNE', 'WindDir3pm_one_key_NNW',\n",
       "       'WindDir3pm_one_key_NW', 'WindDir3pm_one_key_S',\n",
       "       'WindDir3pm_one_key_SE', 'WindDir3pm_one_key_SSE',\n",
       "       'WindDir3pm_one_key_SSW', 'WindDir3pm_one_key_SW',\n",
       "       'WindDir3pm_one_key_W', 'WindDir3pm_one_key_WNW',\n",
       "       'WindDir3pm_one_key_WSW', 'WindDir9am_one_key_E',\n",
       "       'WindDir9am_one_key_ENE', 'WindDir9am_one_key_ESE',\n",
       "       'WindDir9am_one_key_N', 'WindDir9am_one_key_NE',\n",
       "       'WindDir9am_one_key_NNE', 'WindDir9am_one_key_NNW',\n",
       "       'WindDir9am_one_key_NW', 'WindDir9am_one_key_S',\n",
       "       'WindDir9am_one_key_SE', 'WindDir9am_one_key_SSE',\n",
       "       'WindDir9am_one_key_SSW', 'WindDir9am_one_key_SW',\n",
       "       'WindDir9am_one_key_W', 'WindDir9am_one_key_WNW',\n",
       "       'WindDir9am_one_key_WSW'],\n",
       "      dtype='object')"
      ]
     },
     "execution_count": 55,
     "metadata": {},
     "output_type": "execute_result"
    }
   ],
   "source": [
    "nonull.columns"
   ]
  },
  {
   "cell_type": "code",
   "execution_count": null,
   "id": "35bff673",
   "metadata": {},
   "outputs": [],
   "source": []
  },
  {
   "cell_type": "code",
   "execution_count": 56,
   "id": "225d7481",
   "metadata": {},
   "outputs": [],
   "source": [
    "nonull = nonull.loc[: , ['MinTemp', 'MaxTemp', 'Rainfall', 'Evaporation', 'Sunshine',\n",
    "        'WindGustSpeed',\n",
    "       'WindSpeed9am', 'WindSpeed3pm', 'Humidity9am', 'Humidity3pm',\n",
    "       'Pressure9am', 'Pressure3pm', 'Cloud9am', 'Cloud3pm', 'Temp9am',\n",
    "       'Temp3pm',  'mes', 'anio', 'loc_num',\n",
    "       'llovio_hoy', 'llueve_man', 'WindGustDir_one_key_E',\n",
    "       'WindGustDir_one_key_ENE', 'WindGustDir_one_key_ESE',\n",
    "       'WindGustDir_one_key_N', 'WindGustDir_one_key_NE',\n",
    "       'WindGustDir_one_key_NNE', 'WindGustDir_one_key_NNW',\n",
    "       'WindGustDir_one_key_NW', 'WindGustDir_one_key_S',\n",
    "       'WindGustDir_one_key_SE', 'WindGustDir_one_key_SSE',\n",
    "       'WindGustDir_one_key_SSW', 'WindGustDir_one_key_SW',\n",
    "       'WindGustDir_one_key_W', 'WindGustDir_one_key_WNW',\n",
    "       'WindGustDir_one_key_WSW', 'WindDir3pm_one_key_E',\n",
    "       'WindDir3pm_one_key_ENE', 'WindDir3pm_one_key_ESE',\n",
    "       'WindDir3pm_one_key_N', 'WindDir3pm_one_key_NE',\n",
    "       'WindDir3pm_one_key_NNE', 'WindDir3pm_one_key_NNW',\n",
    "       'WindDir3pm_one_key_NW', 'WindDir3pm_one_key_S',\n",
    "       'WindDir3pm_one_key_SE', 'WindDir3pm_one_key_SSE',\n",
    "       'WindDir3pm_one_key_SSW', 'WindDir3pm_one_key_SW',\n",
    "       'WindDir3pm_one_key_W', 'WindDir3pm_one_key_WNW',\n",
    "       'WindDir3pm_one_key_WSW', 'WindDir9am_one_key_E',\n",
    "       'WindDir9am_one_key_ENE', 'WindDir9am_one_key_ESE',\n",
    "       'WindDir9am_one_key_N', 'WindDir9am_one_key_NE',\n",
    "       'WindDir9am_one_key_NNE', 'WindDir9am_one_key_NNW',\n",
    "       'WindDir9am_one_key_NW', 'WindDir9am_one_key_S',\n",
    "       'WindDir9am_one_key_SE', 'WindDir9am_one_key_SSE',\n",
    "       'WindDir9am_one_key_SSW', 'WindDir9am_one_key_SW',\n",
    "       'WindDir9am_one_key_W', 'WindDir9am_one_key_WNW',\n",
    "       'WindDir9am_one_key_WSW']]"
   ]
  },
  {
   "cell_type": "code",
   "execution_count": null,
   "id": "1b5f2231",
   "metadata": {},
   "outputs": [],
   "source": []
  },
  {
   "cell_type": "code",
   "execution_count": 57,
   "id": "866a0611",
   "metadata": {},
   "outputs": [
    {
     "name": "stdout",
     "output_type": "stream",
     "text": [
      "<class 'pandas.core.frame.DataFrame'>\n",
      "Int64Index: 56420 entries, 6049 to 142302\n",
      "Data columns (total 69 columns):\n",
      " #   Column                   Non-Null Count  Dtype  \n",
      "---  ------                   --------------  -----  \n",
      " 0   MinTemp                  56420 non-null  float64\n",
      " 1   MaxTemp                  56420 non-null  float64\n",
      " 2   Rainfall                 56420 non-null  float64\n",
      " 3   Evaporation              56420 non-null  float64\n",
      " 4   Sunshine                 56420 non-null  float64\n",
      " 5   WindGustSpeed            56420 non-null  float64\n",
      " 6   WindSpeed9am             56420 non-null  float64\n",
      " 7   WindSpeed3pm             56420 non-null  float64\n",
      " 8   Humidity9am              56420 non-null  float64\n",
      " 9   Humidity3pm              56420 non-null  float64\n",
      " 10  Pressure9am              56420 non-null  float64\n",
      " 11  Pressure3pm              56420 non-null  float64\n",
      " 12  Cloud9am                 56420 non-null  float64\n",
      " 13  Cloud3pm                 56420 non-null  float64\n",
      " 14  Temp9am                  56420 non-null  float64\n",
      " 15  Temp3pm                  56420 non-null  float64\n",
      " 16  mes                      56420 non-null  int64  \n",
      " 17  anio                     56420 non-null  int64  \n",
      " 18  loc_num                  56420 non-null  int64  \n",
      " 19  llovio_hoy               56420 non-null  int64  \n",
      " 20  llueve_man               56420 non-null  int64  \n",
      " 21  WindGustDir_one_key_E    56420 non-null  int64  \n",
      " 22  WindGustDir_one_key_ENE  56420 non-null  int64  \n",
      " 23  WindGustDir_one_key_ESE  56420 non-null  int64  \n",
      " 24  WindGustDir_one_key_N    56420 non-null  int64  \n",
      " 25  WindGustDir_one_key_NE   56420 non-null  int64  \n",
      " 26  WindGustDir_one_key_NNE  56420 non-null  int64  \n",
      " 27  WindGustDir_one_key_NNW  56420 non-null  int64  \n",
      " 28  WindGustDir_one_key_NW   56420 non-null  int64  \n",
      " 29  WindGustDir_one_key_S    56420 non-null  int64  \n",
      " 30  WindGustDir_one_key_SE   56420 non-null  int64  \n",
      " 31  WindGustDir_one_key_SSE  56420 non-null  int64  \n",
      " 32  WindGustDir_one_key_SSW  56420 non-null  int64  \n",
      " 33  WindGustDir_one_key_SW   56420 non-null  int64  \n",
      " 34  WindGustDir_one_key_W    56420 non-null  int64  \n",
      " 35  WindGustDir_one_key_WNW  56420 non-null  int64  \n",
      " 36  WindGustDir_one_key_WSW  56420 non-null  int64  \n",
      " 37  WindDir3pm_one_key_E     56420 non-null  int64  \n",
      " 38  WindDir3pm_one_key_ENE   56420 non-null  int64  \n",
      " 39  WindDir3pm_one_key_ESE   56420 non-null  int64  \n",
      " 40  WindDir3pm_one_key_N     56420 non-null  int64  \n",
      " 41  WindDir3pm_one_key_NE    56420 non-null  int64  \n",
      " 42  WindDir3pm_one_key_NNE   56420 non-null  int64  \n",
      " 43  WindDir3pm_one_key_NNW   56420 non-null  int64  \n",
      " 44  WindDir3pm_one_key_NW    56420 non-null  int64  \n",
      " 45  WindDir3pm_one_key_S     56420 non-null  int64  \n",
      " 46  WindDir3pm_one_key_SE    56420 non-null  int64  \n",
      " 47  WindDir3pm_one_key_SSE   56420 non-null  int64  \n",
      " 48  WindDir3pm_one_key_SSW   56420 non-null  int64  \n",
      " 49  WindDir3pm_one_key_SW    56420 non-null  int64  \n",
      " 50  WindDir3pm_one_key_W     56420 non-null  int64  \n",
      " 51  WindDir3pm_one_key_WNW   56420 non-null  int64  \n",
      " 52  WindDir3pm_one_key_WSW   56420 non-null  int64  \n",
      " 53  WindDir9am_one_key_E     56420 non-null  int64  \n",
      " 54  WindDir9am_one_key_ENE   56420 non-null  int64  \n",
      " 55  WindDir9am_one_key_ESE   56420 non-null  int64  \n",
      " 56  WindDir9am_one_key_N     56420 non-null  int64  \n",
      " 57  WindDir9am_one_key_NE    56420 non-null  int64  \n",
      " 58  WindDir9am_one_key_NNE   56420 non-null  int64  \n",
      " 59  WindDir9am_one_key_NNW   56420 non-null  int64  \n",
      " 60  WindDir9am_one_key_NW    56420 non-null  int64  \n",
      " 61  WindDir9am_one_key_S     56420 non-null  int64  \n",
      " 62  WindDir9am_one_key_SE    56420 non-null  int64  \n",
      " 63  WindDir9am_one_key_SSE   56420 non-null  int64  \n",
      " 64  WindDir9am_one_key_SSW   56420 non-null  int64  \n",
      " 65  WindDir9am_one_key_SW    56420 non-null  int64  \n",
      " 66  WindDir9am_one_key_W     56420 non-null  int64  \n",
      " 67  WindDir9am_one_key_WNW   56420 non-null  int64  \n",
      " 68  WindDir9am_one_key_WSW   56420 non-null  int64  \n",
      "dtypes: float64(16), int64(53)\n",
      "memory usage: 30.1 MB\n"
     ]
    }
   ],
   "source": [
    "nonull.info()"
   ]
  },
  {
   "cell_type": "code",
   "execution_count": null,
   "id": "f027940c",
   "metadata": {},
   "outputs": [],
   "source": []
  },
  {
   "cell_type": "code",
   "execution_count": 59,
   "id": "9544045b",
   "metadata": {},
   "outputs": [
    {
     "name": "stdout",
     "output_type": "stream",
     "text": [
      "(56420, 69) (45136, 68) (11284, 68) (45136, 1) (11284, 1)\n"
     ]
    }
   ],
   "source": [
    "#ahora voy a armar los trainig y testng sets, de cada dataset...\n",
    "\n",
    "from sklearn.model_selection import train_test_split\n",
    "\n",
    "#completo_train, completo_test, y_completo_train, y_completo_test = train_test_split(\n",
    "#    completo.loc[: , ['anio' , 'mes' , 'loc_num' , 'MinTemp', 'MaxTemp', 'Rainfall', 'Evaporation',\n",
    "#'Sunshine', 'vientos_rafaga', 'WindGustSpeed', 'vientos_9am', 'vientos_3pm','WindSpeed9am', 'WindSpeed3pm',\n",
    "#'Humidity9am','Humidity3pm','Pressure9am', 'Pressure3pm', 'Cloud9am', 'Cloud3pm', 'Temp9am',\n",
    "#'Temp3pm', 'llovio_hoy']] , completo.loc[: , ['llueve_man']] , test_size=0.2, random_state=512)\n",
    "\n",
    "nonull_train, nonull_test, y_nonull_train, y_nonull_test = train_test_split(\n",
    "    nonull.loc[: , ['MinTemp', 'MaxTemp', 'Rainfall', 'Evaporation', 'Sunshine',\n",
    "        'WindGustSpeed',\n",
    "       'WindSpeed9am', 'WindSpeed3pm', 'Humidity9am', 'Humidity3pm',\n",
    "       'Pressure9am', 'Pressure3pm', 'Cloud9am', 'Cloud3pm', 'Temp9am',\n",
    "       'Temp3pm',  'mes', 'anio', 'loc_num',\n",
    "       'llovio_hoy', 'WindGustDir_one_key_E',\n",
    "       'WindGustDir_one_key_ENE', 'WindGustDir_one_key_ESE',\n",
    "       'WindGustDir_one_key_N', 'WindGustDir_one_key_NE',\n",
    "       'WindGustDir_one_key_NNE', 'WindGustDir_one_key_NNW',\n",
    "       'WindGustDir_one_key_NW', 'WindGustDir_one_key_S',\n",
    "       'WindGustDir_one_key_SE', 'WindGustDir_one_key_SSE',\n",
    "       'WindGustDir_one_key_SSW', 'WindGustDir_one_key_SW',\n",
    "       'WindGustDir_one_key_W', 'WindGustDir_one_key_WNW',\n",
    "       'WindGustDir_one_key_WSW', 'WindDir3pm_one_key_E',\n",
    "       'WindDir3pm_one_key_ENE', 'WindDir3pm_one_key_ESE',\n",
    "       'WindDir3pm_one_key_N', 'WindDir3pm_one_key_NE',\n",
    "       'WindDir3pm_one_key_NNE', 'WindDir3pm_one_key_NNW',\n",
    "       'WindDir3pm_one_key_NW', 'WindDir3pm_one_key_S',\n",
    "       'WindDir3pm_one_key_SE', 'WindDir3pm_one_key_SSE',\n",
    "       'WindDir3pm_one_key_SSW', 'WindDir3pm_one_key_SW',\n",
    "       'WindDir3pm_one_key_W', 'WindDir3pm_one_key_WNW',\n",
    "       'WindDir3pm_one_key_WSW', 'WindDir9am_one_key_E',\n",
    "       'WindDir9am_one_key_ENE', 'WindDir9am_one_key_ESE',\n",
    "       'WindDir9am_one_key_N', 'WindDir9am_one_key_NE',\n",
    "       'WindDir9am_one_key_NNE', 'WindDir9am_one_key_NNW',\n",
    "       'WindDir9am_one_key_NW', 'WindDir9am_one_key_S',\n",
    "       'WindDir9am_one_key_SE', 'WindDir9am_one_key_SSE',\n",
    "       'WindDir9am_one_key_SSW', 'WindDir9am_one_key_SW',\n",
    "       'WindDir9am_one_key_W', 'WindDir9am_one_key_WNW',\n",
    "       'WindDir9am_one_key_WSW']] , nonull.loc[: , ['llueve_man']] , test_size=0.2, random_state=512)\n",
    "\n",
    "print(nonull.shape ,nonull_train.shape, nonull_test.shape, y_nonull_train.shape, y_nonull_test.shape)"
   ]
  },
  {
   "cell_type": "code",
   "execution_count": null,
   "id": "945f6432",
   "metadata": {},
   "outputs": [],
   "source": []
  },
  {
   "cell_type": "code",
   "execution_count": null,
   "id": "1a7a5771",
   "metadata": {},
   "outputs": [],
   "source": []
  },
  {
   "cell_type": "code",
   "execution_count": null,
   "id": "2a407272",
   "metadata": {},
   "outputs": [],
   "source": []
  },
  {
   "cell_type": "code",
   "execution_count": 60,
   "id": "178a0f30",
   "metadata": {},
   "outputs": [
    {
     "data": {
      "text/plain": [
       "MinTemp                   False\n",
       "MaxTemp                   False\n",
       "Rainfall                  False\n",
       "Evaporation               False\n",
       "Sunshine                  False\n",
       "                          ...  \n",
       "WindDir9am_one_key_SSW    False\n",
       "WindDir9am_one_key_SW     False\n",
       "WindDir9am_one_key_W      False\n",
       "WindDir9am_one_key_WNW    False\n",
       "WindDir9am_one_key_WSW    False\n",
       "Length: 69, dtype: bool"
      ]
     },
     "execution_count": 60,
     "metadata": {},
     "output_type": "execute_result"
    }
   ],
   "source": [
    "nonull.isna().any()"
   ]
  },
  {
   "cell_type": "code",
   "execution_count": null,
   "id": "fdbf239f",
   "metadata": {},
   "outputs": [],
   "source": []
  },
  {
   "cell_type": "code",
   "execution_count": null,
   "id": "085f71de",
   "metadata": {},
   "outputs": [],
   "source": []
  },
  {
   "cell_type": "code",
   "execution_count": 64,
   "id": "f1bcd4fd",
   "metadata": {},
   "outputs": [],
   "source": [
    "#voy a probar con un subsampleado, xq sino es imposible manejar le volumen de datos\n",
    "\n",
    "#df_sub_train = nonull_train.sample(1000 , random_state = 512)\n",
    "\n",
    "#df_sub_test = nonull_test.sample(100 , random_state = 512)\n",
    "\n",
    "#df_y_sub_train = y_nonull_train.sample(1000 , random_state = 512)\n",
    "\n",
    "#df_y_sub_test = y_nonull_test.sample(100 , random_state = 512)"
   ]
  },
  {
   "cell_type": "code",
   "execution_count": null,
   "id": "7850d696",
   "metadata": {},
   "outputs": [],
   "source": []
  },
  {
   "cell_type": "code",
   "execution_count": null,
   "id": "3d46f3e4",
   "metadata": {},
   "outputs": [],
   "source": []
  },
  {
   "cell_type": "code",
   "execution_count": 65,
   "id": "0ccc5c33",
   "metadata": {},
   "outputs": [
    {
     "data": {
      "text/plain": [
       "Index(['anio', 'mes', 'loc_num', 'MinTemp', 'MaxTemp', 'Rainfall',\n",
       "       'Evaporation', 'Sunshine', 'vientos_rafaga', 'WindGustSpeed',\n",
       "       'vientos_9am', 'vientos_3pm', 'WindSpeed9am', 'WindSpeed3pm',\n",
       "       'Humidity9am', 'Humidity3pm', 'Pressure9am', 'Pressure3pm', 'Cloud9am',\n",
       "       'Cloud3pm', 'Temp9am', 'Temp3pm', 'llovio_hoy'],\n",
       "      dtype='object')"
      ]
     },
     "execution_count": 65,
     "metadata": {},
     "output_type": "execute_result"
    }
   ],
   "source": [
    "#como no funciona, y es por algo de los parametros en X,  voy a probar eliminando los vientos de df_sub_X\n",
    "\n",
    "#df_sub_train.columns\n",
    "\n",
    "#chequeado, el problema era el vector"
   ]
  },
  {
   "cell_type": "code",
   "execution_count": null,
   "id": "3f3d02e7",
   "metadata": {},
   "outputs": [],
   "source": []
  },
  {
   "cell_type": "code",
   "execution_count": null,
   "id": "b0dd7e8e",
   "metadata": {},
   "outputs": [],
   "source": []
  },
  {
   "cell_type": "code",
   "execution_count": 66,
   "id": "d45d275b",
   "metadata": {},
   "outputs": [],
   "source": [
    "#para testear, si el problema es el vector(tupla)de vientos, elimino las col de vientos\n",
    "\n",
    "#df_sub_train2 = df_sub_train.loc[: , ['anio', 'mes', 'loc_num', 'MinTemp', 'MaxTemp', 'Rainfall',\n",
    "#       'Evaporation', 'Sunshine', 'WindGustSpeed',\n",
    "#        'WindSpeed9am', 'WindSpeed3pm',\n",
    "#       'Humidity9am', 'Humidity3pm', 'Pressure9am', 'Pressure3pm', 'Cloud9am',\n",
    "#       'Cloud3pm', 'Temp9am', 'Temp3pm', 'llovio_hoy']]"
   ]
  },
  {
   "cell_type": "code",
   "execution_count": null,
   "id": "46b790ee",
   "metadata": {},
   "outputs": [],
   "source": []
  },
  {
   "cell_type": "code",
   "execution_count": null,
   "id": "198132f0",
   "metadata": {},
   "outputs": [],
   "source": []
  },
  {
   "cell_type": "code",
   "execution_count": null,
   "id": "525d564e",
   "metadata": {},
   "outputs": [],
   "source": []
  },
  {
   "cell_type": "code",
   "execution_count": 56,
   "id": "754ca5a8",
   "metadata": {},
   "outputs": [
    {
     "name": "stdout",
     "output_type": "stream",
     "text": [
      "(1000, 20) (1000, 1)\n"
     ]
    }
   ],
   "source": [
    "#print(df_sub_train2.shape , df_y_sub_train.shape)"
   ]
  },
  {
   "cell_type": "code",
   "execution_count": null,
   "id": "6d65487b",
   "metadata": {},
   "outputs": [],
   "source": []
  },
  {
   "cell_type": "code",
   "execution_count": null,
   "id": "2d06e623",
   "metadata": {},
   "outputs": [],
   "source": []
  },
  {
   "cell_type": "code",
   "execution_count": 61,
   "id": "1d589c8f",
   "metadata": {},
   "outputs": [
    {
     "data": {
      "text/plain": [
       "DecisionTreeClassifier()"
      ]
     },
     "execution_count": 61,
     "metadata": {},
     "output_type": "execute_result"
    }
   ],
   "source": [
    "#vamos al arbol...\n",
    "\n",
    "from sklearn.tree import DecisionTreeClassifier\n",
    "\n",
    "#arbol_completo = DecisionTreeClassifier()\n",
    "\n",
    "#arbol_completo.fit(completo_train , y_completo_train)\n",
    "\n",
    "arbol_nonull = DecisionTreeClassifier()\n",
    "\n",
    "arbol_nonull.fit(nonull_train , y_nonull_train)"
   ]
  },
  {
   "cell_type": "code",
   "execution_count": 78,
   "id": "0fd30726",
   "metadata": {},
   "outputs": [],
   "source": [
    "#arbol_nonull.predict(nonull_test , y_nonull_test)\n",
    "#probemos con score(x_test , y_test)\n",
    "\n",
    "todas_variables = arbol_nonull.score(nonull_test , y_nonull_test)"
   ]
  },
  {
   "cell_type": "code",
   "execution_count": 189,
   "id": "2f79000b",
   "metadata": {},
   "outputs": [
    {
     "data": {
      "text/plain": [
       "0.804767812832329"
      ]
     },
     "execution_count": 189,
     "metadata": {},
     "output_type": "execute_result"
    }
   ],
   "source": [
    "todas_variables"
   ]
  },
  {
   "cell_type": "code",
   "execution_count": null,
   "id": "d9bef3e1",
   "metadata": {},
   "outputs": [],
   "source": []
  },
  {
   "cell_type": "code",
   "execution_count": null,
   "id": "7ed89296",
   "metadata": {},
   "outputs": [],
   "source": []
  },
  {
   "cell_type": "code",
   "execution_count": null,
   "id": "af0ae74e",
   "metadata": {},
   "outputs": [],
   "source": []
  },
  {
   "cell_type": "code",
   "execution_count": null,
   "id": "2b0f17f8",
   "metadata": {},
   "outputs": [],
   "source": [
    "#ahora me puedo preguntar lo mismo pero sin alguna columna"
   ]
  },
  {
   "cell_type": "code",
   "execution_count": 65,
   "id": "2d02ad85",
   "metadata": {},
   "outputs": [
    {
     "data": {
      "text/plain": [
       "Index(['MinTemp', 'MaxTemp', 'Rainfall', 'Evaporation', 'Sunshine',\n",
       "       'WindGustSpeed', 'WindSpeed9am', 'WindSpeed3pm', 'Humidity9am',\n",
       "       'Humidity3pm', 'Pressure9am', 'Pressure3pm', 'Cloud9am', 'Cloud3pm',\n",
       "       'Temp9am', 'Temp3pm', 'mes', 'anio', 'loc_num', 'llovio_hoy',\n",
       "       'WindGustDir_one_key_E', 'WindGustDir_one_key_ENE',\n",
       "       'WindGustDir_one_key_ESE', 'WindGustDir_one_key_N',\n",
       "       'WindGustDir_one_key_NE', 'WindGustDir_one_key_NNE',\n",
       "       'WindGustDir_one_key_NNW', 'WindGustDir_one_key_NW',\n",
       "       'WindGustDir_one_key_S', 'WindGustDir_one_key_SE',\n",
       "       'WindGustDir_one_key_SSE', 'WindGustDir_one_key_SSW',\n",
       "       'WindGustDir_one_key_SW', 'WindGustDir_one_key_W',\n",
       "       'WindGustDir_one_key_WNW', 'WindGustDir_one_key_WSW',\n",
       "       'WindDir3pm_one_key_E', 'WindDir3pm_one_key_ENE',\n",
       "       'WindDir3pm_one_key_ESE', 'WindDir3pm_one_key_N',\n",
       "       'WindDir3pm_one_key_NE', 'WindDir3pm_one_key_NNE',\n",
       "       'WindDir3pm_one_key_NNW', 'WindDir3pm_one_key_NW',\n",
       "       'WindDir3pm_one_key_S', 'WindDir3pm_one_key_SE',\n",
       "       'WindDir3pm_one_key_SSE', 'WindDir3pm_one_key_SSW',\n",
       "       'WindDir3pm_one_key_SW', 'WindDir3pm_one_key_W',\n",
       "       'WindDir3pm_one_key_WNW', 'WindDir3pm_one_key_WSW',\n",
       "       'WindDir9am_one_key_E', 'WindDir9am_one_key_ENE',\n",
       "       'WindDir9am_one_key_ESE', 'WindDir9am_one_key_N',\n",
       "       'WindDir9am_one_key_NE', 'WindDir9am_one_key_NNE',\n",
       "       'WindDir9am_one_key_NNW', 'WindDir9am_one_key_NW',\n",
       "       'WindDir9am_one_key_S', 'WindDir9am_one_key_SE',\n",
       "       'WindDir9am_one_key_SSE', 'WindDir9am_one_key_SSW',\n",
       "       'WindDir9am_one_key_SW', 'WindDir9am_one_key_W',\n",
       "       'WindDir9am_one_key_WNW', 'WindDir9am_one_key_WSW'],\n",
       "      dtype='object')"
      ]
     },
     "execution_count": 65,
     "metadata": {},
     "output_type": "execute_result"
    }
   ],
   "source": [
    "nonull_train.columns"
   ]
  },
  {
   "cell_type": "code",
   "execution_count": null,
   "id": "dbaa31e2",
   "metadata": {},
   "outputs": [],
   "source": []
  },
  {
   "cell_type": "code",
   "execution_count": 79,
   "id": "396cbeff",
   "metadata": {},
   "outputs": [],
   "source": [
    "arbol_nonull_sin_dir_vientos = DecisionTreeClassifier()\n",
    "\n",
    "arbol_nonull_sin_dir_vientos.fit(nonull_train.loc[: , ['MinTemp', 'MaxTemp', 'Rainfall', 'Evaporation', 'Sunshine',\n",
    "       'WindGustSpeed', 'WindSpeed9am', 'WindSpeed3pm', 'Humidity9am',\n",
    "       'Humidity3pm', 'Pressure9am', 'Pressure3pm', 'Cloud9am', 'Cloud3pm',\n",
    "       'Temp9am', 'Temp3pm', 'mes', 'anio', 'loc_num', 'llovio_hoy']] , y_nonull_train)\n",
    "\n",
    "sin_dir_viento = arbol_nonull_sin_dir_vientos.score(nonull_test.loc[: , ['MinTemp', 'MaxTemp', 'Rainfall', 'Evaporation', 'Sunshine',\n",
    "       'WindGustSpeed', 'WindSpeed9am', 'WindSpeed3pm', 'Humidity9am',\n",
    "       'Humidity3pm', 'Pressure9am', 'Pressure3pm', 'Cloud9am', 'Cloud3pm',\n",
    "       'Temp9am', 'Temp3pm', 'mes', 'anio', 'loc_num', 'llovio_hoy']] , y_nonull_test)"
   ]
  },
  {
   "cell_type": "code",
   "execution_count": null,
   "id": "c12532ac",
   "metadata": {},
   "outputs": [],
   "source": []
  },
  {
   "cell_type": "code",
   "execution_count": null,
   "id": "f9d8f4a5",
   "metadata": {},
   "outputs": [],
   "source": []
  },
  {
   "cell_type": "code",
   "execution_count": 80,
   "id": "a56ab779",
   "metadata": {},
   "outputs": [],
   "source": [
    "arbol_nonull_sin_vientos = DecisionTreeClassifier()\n",
    "\n",
    "arbol_nonull_sin_vientos.fit(nonull_train.loc[: , ['MinTemp', 'MaxTemp', 'Rainfall', 'Evaporation', 'Sunshine',\n",
    "        'Humidity9am',\n",
    "       'Humidity3pm', 'Pressure9am', 'Pressure3pm', 'Cloud9am', 'Cloud3pm',\n",
    "       'Temp9am', 'Temp3pm', 'mes', 'anio', 'loc_num', 'llovio_hoy']] , y_nonull_train)\n",
    "\n",
    "sin_viento = arbol_nonull_sin_vientos.score(nonull_test.loc[: , ['MinTemp', 'MaxTemp', 'Rainfall', 'Evaporation', 'Sunshine',\n",
    "        'Humidity9am',\n",
    "       'Humidity3pm', 'Pressure9am', 'Pressure3pm', 'Cloud9am', 'Cloud3pm',\n",
    "       'Temp9am', 'Temp3pm', 'mes', 'anio', 'loc_num', 'llovio_hoy']] , y_nonull_test)"
   ]
  },
  {
   "cell_type": "code",
   "execution_count": null,
   "id": "f62ea262",
   "metadata": {},
   "outputs": [],
   "source": []
  },
  {
   "cell_type": "code",
   "execution_count": null,
   "id": "0c82796c",
   "metadata": {},
   "outputs": [],
   "source": []
  },
  {
   "cell_type": "code",
   "execution_count": 81,
   "id": "52476e53",
   "metadata": {},
   "outputs": [],
   "source": [
    "arbol_nonull_sin_vientos_humedad = DecisionTreeClassifier()\n",
    "\n",
    "arbol_nonull_sin_vientos_humedad.fit(nonull_train.loc[: , ['MinTemp', 'MaxTemp', 'Rainfall', 'Evaporation', 'Sunshine',\n",
    "         'Pressure9am', 'Pressure3pm', 'Cloud9am', 'Cloud3pm',\n",
    "       'Temp9am', 'Temp3pm', 'mes', 'anio', 'loc_num', 'llovio_hoy']] , y_nonull_train)\n",
    "\n",
    "sin_viento_humedad = arbol_nonull_sin_vientos_humedad.score(nonull_test.loc[: , ['MinTemp', 'MaxTemp', 'Rainfall', 'Evaporation', 'Sunshine',\n",
    "         'Pressure9am', 'Pressure3pm', 'Cloud9am', 'Cloud3pm',\n",
    "       'Temp9am', 'Temp3pm', 'mes', 'anio', 'loc_num', 'llovio_hoy']] , y_nonull_test)"
   ]
  },
  {
   "cell_type": "code",
   "execution_count": null,
   "id": "aae45f94",
   "metadata": {},
   "outputs": [],
   "source": []
  },
  {
   "cell_type": "code",
   "execution_count": null,
   "id": "7f0a496f",
   "metadata": {},
   "outputs": [],
   "source": []
  },
  {
   "cell_type": "code",
   "execution_count": 82,
   "id": "9e3eb030",
   "metadata": {},
   "outputs": [],
   "source": [
    "arbol_nonull_sin_vientos_evapo = DecisionTreeClassifier()\n",
    "\n",
    "arbol_nonull_sin_vientos_evapo.fit(nonull_train.loc[: , ['MinTemp', 'MaxTemp', 'Rainfall', 'Sunshine',\n",
    "        'Humidity9am',\n",
    "       'Humidity3pm', 'Pressure9am', 'Pressure3pm', 'Cloud9am', 'Cloud3pm',\n",
    "       'Temp9am', 'Temp3pm', 'mes', 'anio', 'loc_num', 'llovio_hoy']] , y_nonull_train)\n",
    "\n",
    "sin_viento_evapo = arbol_nonull_sin_vientos_evapo.score(nonull_test.loc[: , ['MinTemp', 'MaxTemp', 'Rainfall', 'Sunshine',\n",
    "        'Humidity9am',\n",
    "       'Humidity3pm', 'Pressure9am', 'Pressure3pm', 'Cloud9am', 'Cloud3pm',\n",
    "       'Temp9am', 'Temp3pm', 'mes', 'anio', 'loc_num', 'llovio_hoy']] , y_nonull_test)"
   ]
  },
  {
   "cell_type": "code",
   "execution_count": null,
   "id": "9754039e",
   "metadata": {},
   "outputs": [],
   "source": []
  },
  {
   "cell_type": "code",
   "execution_count": null,
   "id": "eb55d453",
   "metadata": {},
   "outputs": [],
   "source": []
  },
  {
   "cell_type": "code",
   "execution_count": 83,
   "id": "e0b8e22b",
   "metadata": {},
   "outputs": [],
   "source": [
    "arbol_nonull_sin_dir_vientos_sol = DecisionTreeClassifier()\n",
    "\n",
    "arbol_nonull_sin_dir_vientos_sol.fit(nonull_train.loc[: , ['MinTemp', 'MaxTemp', 'Rainfall', 'Evaporation',\n",
    "       'WindGustSpeed', 'WindSpeed9am', 'WindSpeed3pm', 'Humidity9am',\n",
    "       'Humidity3pm', 'Pressure9am', 'Pressure3pm', 'Cloud9am', 'Cloud3pm',\n",
    "       'Temp9am', 'Temp3pm', 'mes', 'anio', 'loc_num', 'llovio_hoy']] , y_nonull_train)\n",
    "\n",
    "sin_viento_sol = arbol_nonull_sin_dir_vientos_sol.score(nonull_test.loc[: , ['MinTemp', 'MaxTemp', 'Rainfall', 'Evaporation',\n",
    "       'WindGustSpeed', 'WindSpeed9am', 'WindSpeed3pm', 'Humidity9am',\n",
    "       'Humidity3pm', 'Pressure9am', 'Pressure3pm', 'Cloud9am', 'Cloud3pm',\n",
    "       'Temp9am', 'Temp3pm', 'mes', 'anio', 'loc_num', 'llovio_hoy']] , y_nonull_test)"
   ]
  },
  {
   "cell_type": "code",
   "execution_count": null,
   "id": "92e44a4d",
   "metadata": {},
   "outputs": [],
   "source": []
  },
  {
   "cell_type": "code",
   "execution_count": null,
   "id": "b30901ef",
   "metadata": {},
   "outputs": [],
   "source": []
  },
  {
   "cell_type": "code",
   "execution_count": 84,
   "id": "658131d3",
   "metadata": {},
   "outputs": [],
   "source": [
    "arbol_nonull_sin_vientos_localidad = DecisionTreeClassifier()\n",
    "\n",
    "arbol_nonull_sin_vientos_localidad.fit(nonull_train.loc[: , ['MinTemp', 'MaxTemp', 'Rainfall', 'Evaporation', 'Sunshine',\n",
    "        'Humidity9am',\n",
    "       'Humidity3pm', 'Pressure9am', 'Pressure3pm', 'Cloud9am', 'Cloud3pm',\n",
    "       'Temp9am', 'Temp3pm', 'mes', 'anio', 'llovio_hoy']] , y_nonull_train)\n",
    "\n",
    "sin_viento_localidad = arbol_nonull_sin_vientos_localidad.score(nonull_test.loc[: , ['MinTemp', 'MaxTemp', 'Rainfall', 'Evaporation', 'Sunshine',\n",
    "        'Humidity9am',\n",
    "       'Humidity3pm', 'Pressure9am', 'Pressure3pm', 'Cloud9am', 'Cloud3pm',\n",
    "       'Temp9am', 'Temp3pm', 'mes', 'anio', 'llovio_hoy']] , y_nonull_test)"
   ]
  },
  {
   "cell_type": "code",
   "execution_count": null,
   "id": "fe2a76d3",
   "metadata": {},
   "outputs": [],
   "source": []
  },
  {
   "cell_type": "code",
   "execution_count": null,
   "id": "721bc3eb",
   "metadata": {},
   "outputs": [],
   "source": []
  },
  {
   "cell_type": "code",
   "execution_count": 85,
   "id": "6e39680b",
   "metadata": {},
   "outputs": [],
   "source": [
    "arbol_nonull_sin_vientos_lluvia = DecisionTreeClassifier()\n",
    "\n",
    "arbol_nonull_sin_vientos_lluvia.fit(nonull_train.loc[: , ['MinTemp', 'MaxTemp', 'Rainfall', 'Evaporation', 'Sunshine',\n",
    "        'Humidity9am',\n",
    "       'Humidity3pm', 'Pressure9am', 'Pressure3pm', 'Cloud9am', 'Cloud3pm',\n",
    "       'Temp9am', 'Temp3pm', 'mes', 'anio', 'loc_num']] , y_nonull_train)\n",
    "\n",
    "sin_viento_lluvia = arbol_nonull_sin_vientos_lluvia.score(nonull_test.loc[: , ['MinTemp', 'MaxTemp', 'Rainfall', 'Evaporation', 'Sunshine',\n",
    "        'Humidity9am',\n",
    "       'Humidity3pm', 'Pressure9am', 'Pressure3pm', 'Cloud9am', 'Cloud3pm',\n",
    "       'Temp9am', 'Temp3pm', 'mes', 'anio', 'loc_num']] , y_nonull_test)"
   ]
  },
  {
   "cell_type": "code",
   "execution_count": null,
   "id": "015810df",
   "metadata": {},
   "outputs": [],
   "source": []
  },
  {
   "cell_type": "code",
   "execution_count": 86,
   "id": "46816c52",
   "metadata": {},
   "outputs": [],
   "source": [
    "arbol_nonull_sin_vientos_rainfall = DecisionTreeClassifier()\n",
    "\n",
    "arbol_nonull_sin_vientos_rainfall.fit(nonull_train.loc[: , ['MinTemp', 'MaxTemp', 'Evaporation', 'Sunshine',\n",
    "        'Humidity9am',\n",
    "       'Humidity3pm', 'Pressure9am', 'Pressure3pm', 'Cloud9am', 'Cloud3pm',\n",
    "       'Temp9am', 'Temp3pm', 'mes', 'anio', 'loc_num', 'llovio_hoy']] , y_nonull_train)\n",
    "\n",
    "sin_viento_rainfall = arbol_nonull_sin_vientos_rainfall.score(nonull_test.loc[: , ['MinTemp', 'MaxTemp', 'Evaporation', 'Sunshine',\n",
    "        'Humidity9am',\n",
    "       'Humidity3pm', 'Pressure9am', 'Pressure3pm', 'Cloud9am', 'Cloud3pm',\n",
    "       'Temp9am', 'Temp3pm', 'mes', 'anio', 'loc_num', 'llovio_hoy']] , y_nonull_test)"
   ]
  },
  {
   "cell_type": "code",
   "execution_count": null,
   "id": "3de1be0c",
   "metadata": {},
   "outputs": [],
   "source": []
  },
  {
   "cell_type": "code",
   "execution_count": 87,
   "id": "0d979e8d",
   "metadata": {},
   "outputs": [],
   "source": [
    "arbol_nonull_sin_vientos_presion = DecisionTreeClassifier()\n",
    "\n",
    "arbol_nonull_sin_vientos_presion.fit(nonull_train.loc[: , ['MinTemp', 'MaxTemp', 'Rainfall', 'Evaporation', 'Sunshine',\n",
    "        'Humidity9am',\n",
    "       'Humidity3pm', 'Cloud9am', 'Cloud3pm',\n",
    "       'Temp9am', 'Temp3pm', 'mes', 'anio', 'loc_num', 'llovio_hoy']] , y_nonull_train)\n",
    "\n",
    "sin_viento_presion = arbol_nonull_sin_vientos_presion.score(nonull_test.loc[: , ['MinTemp', 'MaxTemp', 'Rainfall', 'Evaporation', 'Sunshine',\n",
    "        'Humidity9am',\n",
    "       'Humidity3pm',  'Cloud9am', 'Cloud3pm',\n",
    "       'Temp9am', 'Temp3pm', 'mes', 'anio', 'loc_num', 'llovio_hoy']] , y_nonull_test)"
   ]
  },
  {
   "cell_type": "code",
   "execution_count": null,
   "id": "a504cb60",
   "metadata": {},
   "outputs": [],
   "source": []
  },
  {
   "cell_type": "code",
   "execution_count": 88,
   "id": "c2b59494",
   "metadata": {},
   "outputs": [
    {
     "name": "stderr",
     "output_type": "stream",
     "text": [
      "/home/mariano/anaconda3/lib/python3.9/site-packages/seaborn/_decorators.py:36: FutureWarning: Pass the following variables as keyword args: x, y. From version 0.12, the only valid positional argument will be `data`, and passing other arguments without an explicit keyword will result in an error or misinterpretation.\n",
      "  warnings.warn(\n"
     ]
    },
    {
     "data": {
      "text/plain": [
       "<AxesSubplot:>"
      ]
     },
     "execution_count": 88,
     "metadata": {},
     "output_type": "execute_result"
    },
    {
     "data": {
      "image/png": "[encoded data removed]",
      "text/plain": [
       "<Figure size 432x288 with 1 Axes>"
      ]
     },
     "metadata": {
      "needs_background": "light"
     },
     "output_type": "display_data"
    }
   ],
   "source": [
    "#luego de probar eliminar viarias variables se observa que\n",
    "\n",
    "lista_var = ['todas_variables' , 'sin_dir_viento' , 'sin_viento' , 'sin_viento_humedad' , 'sin_viento_evapo',\n",
    "'sin_viento_sol' , 'sin_viento_localidad' , 'sin_viento_lluvia' , 'sin_viento_rainfall' , 'sin_viento_presion']\n",
    "\n",
    "lista_scores = [todas_variables , sin_dir_viento , sin_viento , sin_viento_humedad , sin_viento_evapo,\n",
    "sin_viento_sol , sin_viento_localidad , sin_viento_lluvia , sin_viento_rainfall , sin_viento_presion]\n",
    "\n",
    "import seaborn as sns\n",
    "\n",
    "sns.barplot(lista_scores , lista_var)"
   ]
  },
  {
   "cell_type": "code",
   "execution_count": 111,
   "id": "3e21c6da",
   "metadata": {},
   "outputs": [
    {
     "name": "stderr",
     "output_type": "stream",
     "text": [
      "/tmp/ipykernel_56358/3767242169.py:5: FutureWarning: Index.ravel returning ndarray is deprecated; in a future version this will return a view on self.\n",
      "  feature_names=nonull_test.columns.ravel(),\n"
     ]
    },
    {
     "ename": "IndexError",
     "evalue": "index 1 is out of bounds for axis 0 with size 1",
     "output_type": "error",
     "traceback": [
      "\u001b[0;31m---------------------------------------------------------------------------\u001b[0m",
      "\u001b[0;31mIndexError\u001b[0m                                Traceback (most recent call last)",
      "Input \u001b[0;32mIn [111]\u001b[0m, in \u001b[0;36m<cell line: 2>\u001b[0;34m()\u001b[0m\n\u001b[1;32m      1\u001b[0m \u001b[38;5;28;01mfrom\u001b[39;00m \u001b[38;5;21;01msklearn\u001b[39;00m\u001b[38;5;21;01m.\u001b[39;00m\u001b[38;5;21;01mtree\u001b[39;00m \u001b[38;5;28;01mimport\u001b[39;00m export_graphviz\n\u001b[0;32m----> 2\u001b[0m \u001b[43mexport_graphviz\u001b[49m\u001b[43m(\u001b[49m\n\u001b[1;32m      3\u001b[0m \u001b[43marbol_nonull\u001b[49m\u001b[43m,\u001b[49m\n\u001b[1;32m      4\u001b[0m \u001b[43mout_file\u001b[49m\u001b[38;5;241;43m=\u001b[39;49m\u001b[43m(\u001b[49m\u001b[38;5;124;43m\"\u001b[39;49m\u001b[38;5;124;43marbol_nonull.dot\u001b[39;49m\u001b[38;5;124;43m\"\u001b[39;49m\u001b[43m)\u001b[49m\u001b[43m,\u001b[49m\n\u001b[1;32m      5\u001b[0m \u001b[43mfeature_names\u001b[49m\u001b[38;5;241;43m=\u001b[39;49m\u001b[43mnonull_test\u001b[49m\u001b[38;5;241;43m.\u001b[39;49m\u001b[43mcolumns\u001b[49m\u001b[38;5;241;43m.\u001b[39;49m\u001b[43mravel\u001b[49m\u001b[43m(\u001b[49m\u001b[43m)\u001b[49m\u001b[43m,\u001b[49m\n\u001b[1;32m      6\u001b[0m \u001b[43mclass_names\u001b[49m\u001b[38;5;241;43m=\u001b[39;49m\u001b[43m(\u001b[49m\u001b[43my_nonull_test\u001b[49m\u001b[38;5;241;43m.\u001b[39;49m\u001b[43miloc\u001b[49m\u001b[43m[\u001b[49m\u001b[38;5;241;43m0\u001b[39;49m\u001b[43m]\u001b[49m\u001b[43m)\u001b[49m\u001b[38;5;241;43m.\u001b[39;49m\u001b[43mastype\u001b[49m\u001b[43m(\u001b[49m\u001b[38;5;28;43mstr\u001b[39;49m\u001b[43m)\u001b[49m\u001b[43m,\u001b[49m\n\u001b[1;32m      7\u001b[0m \u001b[43mrounded\u001b[49m\u001b[38;5;241;43m=\u001b[39;49m\u001b[38;5;28;43;01mTrue\u001b[39;49;00m\u001b[43m,\u001b[49m\n\u001b[1;32m      8\u001b[0m \u001b[43mfilled\u001b[49m\u001b[38;5;241;43m=\u001b[39;49m\u001b[38;5;28;43;01mTrue\u001b[39;49;00m\n\u001b[1;32m      9\u001b[0m \u001b[43m)\u001b[49m\n",
      "File \u001b[0;32m~/anaconda3/lib/python3.9/site-packages/sklearn/tree/_export.py:889\u001b[0m, in \u001b[0;36mexport_graphviz\u001b[0;34m(decision_tree, out_file, max_depth, feature_names, class_names, label, filled, leaves_parallel, impurity, node_ids, proportion, rotate, rounded, special_characters, precision, fontname)\u001b[0m\n\u001b[1;32m    870\u001b[0m     out_file \u001b[38;5;241m=\u001b[39m StringIO()\n\u001b[1;32m    872\u001b[0m exporter \u001b[38;5;241m=\u001b[39m _DOTTreeExporter(\n\u001b[1;32m    873\u001b[0m     out_file\u001b[38;5;241m=\u001b[39mout_file,\n\u001b[1;32m    874\u001b[0m     max_depth\u001b[38;5;241m=\u001b[39mmax_depth,\n\u001b[0;32m   (...)\u001b[0m\n\u001b[1;32m    887\u001b[0m     fontname\u001b[38;5;241m=\u001b[39mfontname,\n\u001b[1;32m    888\u001b[0m )\n\u001b[0;32m--> 889\u001b[0m \u001b[43mexporter\u001b[49m\u001b[38;5;241;43m.\u001b[39;49m\u001b[43mexport\u001b[49m\u001b[43m(\u001b[49m\u001b[43mdecision_tree\u001b[49m\u001b[43m)\u001b[49m\n\u001b[1;32m    891\u001b[0m \u001b[38;5;28;01mif\u001b[39;00m return_string:\n\u001b[1;32m    892\u001b[0m     \u001b[38;5;28;01mreturn\u001b[39;00m exporter\u001b[38;5;241m.\u001b[39mout_file\u001b[38;5;241m.\u001b[39mgetvalue()\n",
      "File \u001b[0;32m~/anaconda3/lib/python3.9/site-packages/sklearn/tree/_export.py:462\u001b[0m, in \u001b[0;36m_DOTTreeExporter.export\u001b[0;34m(self, decision_tree)\u001b[0m\n\u001b[1;32m    460\u001b[0m     \u001b[38;5;28mself\u001b[39m\u001b[38;5;241m.\u001b[39mrecurse(decision_tree, \u001b[38;5;241m0\u001b[39m, criterion\u001b[38;5;241m=\u001b[39m\u001b[38;5;124m\"\u001b[39m\u001b[38;5;124mimpurity\u001b[39m\u001b[38;5;124m\"\u001b[39m)\n\u001b[1;32m    461\u001b[0m \u001b[38;5;28;01melse\u001b[39;00m:\n\u001b[0;32m--> 462\u001b[0m     \u001b[38;5;28;43mself\u001b[39;49m\u001b[38;5;241;43m.\u001b[39;49m\u001b[43mrecurse\u001b[49m\u001b[43m(\u001b[49m\u001b[43mdecision_tree\u001b[49m\u001b[38;5;241;43m.\u001b[39;49m\u001b[43mtree_\u001b[49m\u001b[43m,\u001b[49m\u001b[43m \u001b[49m\u001b[38;5;241;43m0\u001b[39;49m\u001b[43m,\u001b[49m\u001b[43m \u001b[49m\u001b[43mcriterion\u001b[49m\u001b[38;5;241;43m=\u001b[39;49m\u001b[43mdecision_tree\u001b[49m\u001b[38;5;241;43m.\u001b[39;49m\u001b[43mcriterion\u001b[49m\u001b[43m)\u001b[49m\n\u001b[1;32m    464\u001b[0m \u001b[38;5;28mself\u001b[39m\u001b[38;5;241m.\u001b[39mtail()\n",
      "File \u001b[0;32m~/anaconda3/lib/python3.9/site-packages/sklearn/tree/_export.py:544\u001b[0m, in \u001b[0;36m_DOTTreeExporter.recurse\u001b[0;34m(self, tree, node_id, criterion, parent, depth)\u001b[0m\n\u001b[1;32m    541\u001b[0m         \u001b[38;5;28mself\u001b[39m\u001b[38;5;241m.\u001b[39mout_file\u001b[38;5;241m.\u001b[39mwrite(\u001b[38;5;124m\"\u001b[39m\u001b[38;5;124m ;\u001b[39m\u001b[38;5;130;01m\\n\u001b[39;00m\u001b[38;5;124m\"\u001b[39m)\n\u001b[1;32m    543\u001b[0m     \u001b[38;5;28;01mif\u001b[39;00m left_child \u001b[38;5;241m!=\u001b[39m _tree\u001b[38;5;241m.\u001b[39mTREE_LEAF:\n\u001b[0;32m--> 544\u001b[0m         \u001b[38;5;28;43mself\u001b[39;49m\u001b[38;5;241;43m.\u001b[39;49m\u001b[43mrecurse\u001b[49m\u001b[43m(\u001b[49m\n\u001b[1;32m    545\u001b[0m \u001b[43m            \u001b[49m\u001b[43mtree\u001b[49m\u001b[43m,\u001b[49m\n\u001b[1;32m    546\u001b[0m \u001b[43m            \u001b[49m\u001b[43mleft_child\u001b[49m\u001b[43m,\u001b[49m\n\u001b[1;32m    547\u001b[0m \u001b[43m            \u001b[49m\u001b[43mcriterion\u001b[49m\u001b[38;5;241;43m=\u001b[39;49m\u001b[43mcriterion\u001b[49m\u001b[43m,\u001b[49m\n\u001b[1;32m    548\u001b[0m \u001b[43m            \u001b[49m\u001b[43mparent\u001b[49m\u001b[38;5;241;43m=\u001b[39;49m\u001b[43mnode_id\u001b[49m\u001b[43m,\u001b[49m\n\u001b[1;32m    549\u001b[0m \u001b[43m            \u001b[49m\u001b[43mdepth\u001b[49m\u001b[38;5;241;43m=\u001b[39;49m\u001b[43mdepth\u001b[49m\u001b[43m \u001b[49m\u001b[38;5;241;43m+\u001b[39;49m\u001b[43m \u001b[49m\u001b[38;5;241;43m1\u001b[39;49m\u001b[43m,\u001b[49m\n\u001b[1;32m    550\u001b[0m \u001b[43m        \u001b[49m\u001b[43m)\u001b[49m\n\u001b[1;32m    551\u001b[0m         \u001b[38;5;28mself\u001b[39m\u001b[38;5;241m.\u001b[39mrecurse(\n\u001b[1;32m    552\u001b[0m             tree,\n\u001b[1;32m    553\u001b[0m             right_child,\n\u001b[0;32m   (...)\u001b[0m\n\u001b[1;32m    556\u001b[0m             depth\u001b[38;5;241m=\u001b[39mdepth \u001b[38;5;241m+\u001b[39m \u001b[38;5;241m1\u001b[39m,\n\u001b[1;32m    557\u001b[0m         )\n\u001b[1;32m    559\u001b[0m \u001b[38;5;28;01melse\u001b[39;00m:\n",
      "File \u001b[0;32m~/anaconda3/lib/python3.9/site-packages/sklearn/tree/_export.py:544\u001b[0m, in \u001b[0;36m_DOTTreeExporter.recurse\u001b[0;34m(self, tree, node_id, criterion, parent, depth)\u001b[0m\n\u001b[1;32m    541\u001b[0m         \u001b[38;5;28mself\u001b[39m\u001b[38;5;241m.\u001b[39mout_file\u001b[38;5;241m.\u001b[39mwrite(\u001b[38;5;124m\"\u001b[39m\u001b[38;5;124m ;\u001b[39m\u001b[38;5;130;01m\\n\u001b[39;00m\u001b[38;5;124m\"\u001b[39m)\n\u001b[1;32m    543\u001b[0m     \u001b[38;5;28;01mif\u001b[39;00m left_child \u001b[38;5;241m!=\u001b[39m _tree\u001b[38;5;241m.\u001b[39mTREE_LEAF:\n\u001b[0;32m--> 544\u001b[0m         \u001b[38;5;28;43mself\u001b[39;49m\u001b[38;5;241;43m.\u001b[39;49m\u001b[43mrecurse\u001b[49m\u001b[43m(\u001b[49m\n\u001b[1;32m    545\u001b[0m \u001b[43m            \u001b[49m\u001b[43mtree\u001b[49m\u001b[43m,\u001b[49m\n\u001b[1;32m    546\u001b[0m \u001b[43m            \u001b[49m\u001b[43mleft_child\u001b[49m\u001b[43m,\u001b[49m\n\u001b[1;32m    547\u001b[0m \u001b[43m            \u001b[49m\u001b[43mcriterion\u001b[49m\u001b[38;5;241;43m=\u001b[39;49m\u001b[43mcriterion\u001b[49m\u001b[43m,\u001b[49m\n\u001b[1;32m    548\u001b[0m \u001b[43m            \u001b[49m\u001b[43mparent\u001b[49m\u001b[38;5;241;43m=\u001b[39;49m\u001b[43mnode_id\u001b[49m\u001b[43m,\u001b[49m\n\u001b[1;32m    549\u001b[0m \u001b[43m            \u001b[49m\u001b[43mdepth\u001b[49m\u001b[38;5;241;43m=\u001b[39;49m\u001b[43mdepth\u001b[49m\u001b[43m \u001b[49m\u001b[38;5;241;43m+\u001b[39;49m\u001b[43m \u001b[49m\u001b[38;5;241;43m1\u001b[39;49m\u001b[43m,\u001b[49m\n\u001b[1;32m    550\u001b[0m \u001b[43m        \u001b[49m\u001b[43m)\u001b[49m\n\u001b[1;32m    551\u001b[0m         \u001b[38;5;28mself\u001b[39m\u001b[38;5;241m.\u001b[39mrecurse(\n\u001b[1;32m    552\u001b[0m             tree,\n\u001b[1;32m    553\u001b[0m             right_child,\n\u001b[0;32m   (...)\u001b[0m\n\u001b[1;32m    556\u001b[0m             depth\u001b[38;5;241m=\u001b[39mdepth \u001b[38;5;241m+\u001b[39m \u001b[38;5;241m1\u001b[39m,\n\u001b[1;32m    557\u001b[0m         )\n\u001b[1;32m    559\u001b[0m \u001b[38;5;28;01melse\u001b[39;00m:\n",
      "    \u001b[0;31m[... skipping similar frames: _DOTTreeExporter.recurse at line 544 (7 times)]\u001b[0m\n",
      "File \u001b[0;32m~/anaconda3/lib/python3.9/site-packages/sklearn/tree/_export.py:544\u001b[0m, in \u001b[0;36m_DOTTreeExporter.recurse\u001b[0;34m(self, tree, node_id, criterion, parent, depth)\u001b[0m\n\u001b[1;32m    541\u001b[0m         \u001b[38;5;28mself\u001b[39m\u001b[38;5;241m.\u001b[39mout_file\u001b[38;5;241m.\u001b[39mwrite(\u001b[38;5;124m\"\u001b[39m\u001b[38;5;124m ;\u001b[39m\u001b[38;5;130;01m\\n\u001b[39;00m\u001b[38;5;124m\"\u001b[39m)\n\u001b[1;32m    543\u001b[0m     \u001b[38;5;28;01mif\u001b[39;00m left_child \u001b[38;5;241m!=\u001b[39m _tree\u001b[38;5;241m.\u001b[39mTREE_LEAF:\n\u001b[0;32m--> 544\u001b[0m         \u001b[38;5;28;43mself\u001b[39;49m\u001b[38;5;241;43m.\u001b[39;49m\u001b[43mrecurse\u001b[49m\u001b[43m(\u001b[49m\n\u001b[1;32m    545\u001b[0m \u001b[43m            \u001b[49m\u001b[43mtree\u001b[49m\u001b[43m,\u001b[49m\n\u001b[1;32m    546\u001b[0m \u001b[43m            \u001b[49m\u001b[43mleft_child\u001b[49m\u001b[43m,\u001b[49m\n\u001b[1;32m    547\u001b[0m \u001b[43m            \u001b[49m\u001b[43mcriterion\u001b[49m\u001b[38;5;241;43m=\u001b[39;49m\u001b[43mcriterion\u001b[49m\u001b[43m,\u001b[49m\n\u001b[1;32m    548\u001b[0m \u001b[43m            \u001b[49m\u001b[43mparent\u001b[49m\u001b[38;5;241;43m=\u001b[39;49m\u001b[43mnode_id\u001b[49m\u001b[43m,\u001b[49m\n\u001b[1;32m    549\u001b[0m \u001b[43m            \u001b[49m\u001b[43mdepth\u001b[49m\u001b[38;5;241;43m=\u001b[39;49m\u001b[43mdepth\u001b[49m\u001b[43m \u001b[49m\u001b[38;5;241;43m+\u001b[39;49m\u001b[43m \u001b[49m\u001b[38;5;241;43m1\u001b[39;49m\u001b[43m,\u001b[49m\n\u001b[1;32m    550\u001b[0m \u001b[43m        \u001b[49m\u001b[43m)\u001b[49m\n\u001b[1;32m    551\u001b[0m         \u001b[38;5;28mself\u001b[39m\u001b[38;5;241m.\u001b[39mrecurse(\n\u001b[1;32m    552\u001b[0m             tree,\n\u001b[1;32m    553\u001b[0m             right_child,\n\u001b[0;32m   (...)\u001b[0m\n\u001b[1;32m    556\u001b[0m             depth\u001b[38;5;241m=\u001b[39mdepth \u001b[38;5;241m+\u001b[39m \u001b[38;5;241m1\u001b[39m,\n\u001b[1;32m    557\u001b[0m         )\n\u001b[1;32m    559\u001b[0m \u001b[38;5;28;01melse\u001b[39;00m:\n",
      "File \u001b[0;32m~/anaconda3/lib/python3.9/site-packages/sklearn/tree/_export.py:521\u001b[0m, in \u001b[0;36m_DOTTreeExporter.recurse\u001b[0;34m(self, tree, node_id, criterion, parent, depth)\u001b[0m\n\u001b[1;32m    517\u001b[0m \u001b[38;5;28;01melse\u001b[39;00m:\n\u001b[1;32m    518\u001b[0m     \u001b[38;5;28mself\u001b[39m\u001b[38;5;241m.\u001b[39mranks[\u001b[38;5;28mstr\u001b[39m(depth)]\u001b[38;5;241m.\u001b[39mappend(\u001b[38;5;28mstr\u001b[39m(node_id))\n\u001b[1;32m    520\u001b[0m \u001b[38;5;28mself\u001b[39m\u001b[38;5;241m.\u001b[39mout_file\u001b[38;5;241m.\u001b[39mwrite(\n\u001b[0;32m--> 521\u001b[0m     \u001b[38;5;124m\"\u001b[39m\u001b[38;5;132;01m%d\u001b[39;00m\u001b[38;5;124m [label=\u001b[39m\u001b[38;5;132;01m%s\u001b[39;00m\u001b[38;5;124m\"\u001b[39m \u001b[38;5;241m%\u001b[39m (node_id, \u001b[38;5;28;43mself\u001b[39;49m\u001b[38;5;241;43m.\u001b[39;49m\u001b[43mnode_to_str\u001b[49m\u001b[43m(\u001b[49m\u001b[43mtree\u001b[49m\u001b[43m,\u001b[49m\u001b[43m \u001b[49m\u001b[43mnode_id\u001b[49m\u001b[43m,\u001b[49m\u001b[43m \u001b[49m\u001b[43mcriterion\u001b[49m\u001b[43m)\u001b[49m)\n\u001b[1;32m    522\u001b[0m )\n\u001b[1;32m    524\u001b[0m \u001b[38;5;28;01mif\u001b[39;00m \u001b[38;5;28mself\u001b[39m\u001b[38;5;241m.\u001b[39mfilled:\n\u001b[1;32m    525\u001b[0m     \u001b[38;5;28mself\u001b[39m\u001b[38;5;241m.\u001b[39mout_file\u001b[38;5;241m.\u001b[39mwrite(\n\u001b[1;32m    526\u001b[0m         \u001b[38;5;124m'\u001b[39m\u001b[38;5;124m, fillcolor=\u001b[39m\u001b[38;5;124m\"\u001b[39m\u001b[38;5;132;01m%s\u001b[39;00m\u001b[38;5;124m\"\u001b[39m\u001b[38;5;124m'\u001b[39m \u001b[38;5;241m%\u001b[39m \u001b[38;5;28mself\u001b[39m\u001b[38;5;241m.\u001b[39mget_fill_color(tree, node_id)\n\u001b[1;32m    527\u001b[0m     )\n",
      "File \u001b[0;32m~/anaconda3/lib/python3.9/site-packages/sklearn/tree/_export.py:367\u001b[0m, in \u001b[0;36m_BaseTreeExporter.node_to_str\u001b[0;34m(self, tree, node_id, criterion)\u001b[0m\n\u001b[1;32m    365\u001b[0m     node_string \u001b[38;5;241m+\u001b[39m\u001b[38;5;241m=\u001b[39m \u001b[38;5;124m\"\u001b[39m\u001b[38;5;124mclass = \u001b[39m\u001b[38;5;124m\"\u001b[39m\n\u001b[1;32m    366\u001b[0m \u001b[38;5;28;01mif\u001b[39;00m \u001b[38;5;28mself\u001b[39m\u001b[38;5;241m.\u001b[39mclass_names \u001b[38;5;129;01mis\u001b[39;00m \u001b[38;5;129;01mnot\u001b[39;00m \u001b[38;5;28;01mTrue\u001b[39;00m:\n\u001b[0;32m--> 367\u001b[0m     class_name \u001b[38;5;241m=\u001b[39m \u001b[38;5;28;43mself\u001b[39;49m\u001b[38;5;241;43m.\u001b[39;49m\u001b[43mclass_names\u001b[49m\u001b[43m[\u001b[49m\u001b[43mnp\u001b[49m\u001b[38;5;241;43m.\u001b[39;49m\u001b[43margmax\u001b[49m\u001b[43m(\u001b[49m\u001b[43mvalue\u001b[49m\u001b[43m)\u001b[49m\u001b[43m]\u001b[49m\n\u001b[1;32m    368\u001b[0m \u001b[38;5;28;01melse\u001b[39;00m:\n\u001b[1;32m    369\u001b[0m     class_name \u001b[38;5;241m=\u001b[39m \u001b[38;5;124m\"\u001b[39m\u001b[38;5;124my\u001b[39m\u001b[38;5;132;01m%s\u001b[39;00m\u001b[38;5;132;01m%s\u001b[39;00m\u001b[38;5;132;01m%s\u001b[39;00m\u001b[38;5;124m\"\u001b[39m \u001b[38;5;241m%\u001b[39m (\n\u001b[1;32m    370\u001b[0m         characters[\u001b[38;5;241m1\u001b[39m],\n\u001b[1;32m    371\u001b[0m         np\u001b[38;5;241m.\u001b[39margmax(value),\n\u001b[1;32m    372\u001b[0m         characters[\u001b[38;5;241m2\u001b[39m],\n\u001b[1;32m    373\u001b[0m     )\n",
      "File \u001b[0;32m~/anaconda3/lib/python3.9/site-packages/pandas/core/series.py:955\u001b[0m, in \u001b[0;36mSeries.__getitem__\u001b[0;34m(self, key)\u001b[0m\n\u001b[1;32m    952\u001b[0m     key \u001b[38;5;241m=\u001b[39m unpack_1tuple(key)\n\u001b[1;32m    954\u001b[0m \u001b[38;5;28;01mif\u001b[39;00m is_integer(key) \u001b[38;5;129;01mand\u001b[39;00m \u001b[38;5;28mself\u001b[39m\u001b[38;5;241m.\u001b[39mindex\u001b[38;5;241m.\u001b[39m_should_fallback_to_positional:\n\u001b[0;32m--> 955\u001b[0m     \u001b[38;5;28;01mreturn\u001b[39;00m \u001b[38;5;28;43mself\u001b[39;49m\u001b[38;5;241;43m.\u001b[39;49m\u001b[43m_values\u001b[49m\u001b[43m[\u001b[49m\u001b[43mkey\u001b[49m\u001b[43m]\u001b[49m\n\u001b[1;32m    957\u001b[0m \u001b[38;5;28;01melif\u001b[39;00m key_is_scalar:\n\u001b[1;32m    958\u001b[0m     \u001b[38;5;28;01mreturn\u001b[39;00m \u001b[38;5;28mself\u001b[39m\u001b[38;5;241m.\u001b[39m_get_value(key)\n",
      "\u001b[0;31mIndexError\u001b[0m: index 1 is out of bounds for axis 0 with size 1"
     ]
    }
   ],
   "source": [
    "#from sklearn.tree import export_graphviz\n",
    "#export_graphviz(\n",
    "#arbol_nonull,\n",
    "#out_file=(\"arbol_nonull.dot\"),\n",
    "#feature_names=nonull_test.columns.ravel(),\n",
    "#class_names=(y_nonull_test.iloc[0]).astype(str),#aca me hace ruido, y no lo puedo resolver\n",
    "#rounded=True,\n",
    "#filled=True\n",
    "#)"
   ]
  },
  {
   "cell_type": "code",
   "execution_count": null,
   "id": "fe9bc747",
   "metadata": {},
   "outputs": [],
   "source": []
  },
  {
   "cell_type": "code",
   "execution_count": null,
   "id": "021b01c7",
   "metadata": {},
   "outputs": [],
   "source": []
  },
  {
   "cell_type": "code",
   "execution_count": null,
   "id": "20589123",
   "metadata": {},
   "outputs": [],
   "source": []
  },
  {
   "cell_type": "code",
   "execution_count": null,
   "id": "687479a9",
   "metadata": {},
   "outputs": [],
   "source": []
  },
  {
   "cell_type": "code",
   "execution_count": null,
   "id": "208933be",
   "metadata": {},
   "outputs": [],
   "source": []
  },
  {
   "cell_type": "code",
   "execution_count": null,
   "id": "a52c31ef",
   "metadata": {},
   "outputs": [],
   "source": []
  },
  {
   "cell_type": "code",
   "execution_count": null,
   "id": "d2b304df",
   "metadata": {},
   "outputs": [],
   "source": []
  },
  {
   "cell_type": "code",
   "execution_count": null,
   "id": "8b109d94",
   "metadata": {},
   "outputs": [],
   "source": []
  },
  {
   "cell_type": "code",
   "execution_count": null,
   "id": "6c159211",
   "metadata": {},
   "outputs": [],
   "source": []
  },
  {
   "cell_type": "code",
   "execution_count": null,
   "id": "16da579a",
   "metadata": {},
   "outputs": [],
   "source": []
  },
  {
   "cell_type": "code",
   "execution_count": null,
   "id": "4b27b8d3",
   "metadata": {},
   "outputs": [],
   "source": []
  },
  {
   "cell_type": "code",
   "execution_count": null,
   "id": "bd8db5bf",
   "metadata": {},
   "outputs": [],
   "source": []
  },
  {
   "cell_type": "code",
   "execution_count": null,
   "id": "dad32da0",
   "metadata": {},
   "outputs": [],
   "source": []
  },
  {
   "cell_type": "code",
   "execution_count": null,
   "id": "9f7866e4",
   "metadata": {},
   "outputs": [],
   "source": []
  },
  {
   "cell_type": "code",
   "execution_count": null,
   "id": "1e6700a7",
   "metadata": {},
   "outputs": [],
   "source": []
  },
  {
   "cell_type": "code",
   "execution_count": null,
   "id": "c50688c5",
   "metadata": {},
   "outputs": [],
   "source": []
  },
  {
   "cell_type": "code",
   "execution_count": null,
   "id": "454f6e21",
   "metadata": {},
   "outputs": [],
   "source": []
  },
  {
   "cell_type": "code",
   "execution_count": null,
   "id": "913d9b61",
   "metadata": {},
   "outputs": [],
   "source": []
  },
  {
   "cell_type": "code",
   "execution_count": null,
   "id": "cf84e546",
   "metadata": {},
   "outputs": [],
   "source": []
  },
  {
   "cell_type": "code",
   "execution_count": null,
   "id": "83185903",
   "metadata": {},
   "outputs": [],
   "source": []
  },
  {
   "cell_type": "code",
   "execution_count": null,
   "id": "3d094c13",
   "metadata": {},
   "outputs": [],
   "source": []
  },
  {
   "cell_type": "code",
   "execution_count": null,
   "id": "a38f26c9",
   "metadata": {},
   "outputs": [],
   "source": []
  },
  {
   "cell_type": "code",
   "execution_count": 141,
   "id": "6127efc8",
   "metadata": {},
   "outputs": [
    {
     "data": {
      "text/plain": [
       "RandomForestClassifier(oob_score=True)"
      ]
     },
     "execution_count": 141,
     "metadata": {},
     "output_type": "execute_result"
    }
   ],
   "source": [
    "#ahora qeuda ustilizar random forest\n",
    "\n",
    "'''from sklearn.ensemble import RandomForestClassifier\n",
    "rnd_clf = RandomForestClassifier(n_estimators=500, max_leaf_nodes=16, n_jobs=-1)\n",
    "rnd_clf.fit(X_train, y_train)\n",
    "y_pred_rf = rnd_clf.predict(X_test)'''\n",
    "\n",
    "from sklearn.ensemble import RandomForestClassifier\n",
    "\n",
    "rf = RandomForestClassifier(oob_score=True)\n",
    "\n",
    "rf.fit(nonull_train , np.asarray(y_nonull_train).ravel())"
   ]
  },
  {
   "cell_type": "code",
   "execution_count": null,
   "id": "e5f48b55",
   "metadata": {},
   "outputs": [],
   "source": []
  },
  {
   "cell_type": "code",
   "execution_count": null,
   "id": "0547cc76",
   "metadata": {},
   "outputs": [],
   "source": []
  },
  {
   "cell_type": "code",
   "execution_count": null,
   "id": "9e1df140",
   "metadata": {},
   "outputs": [],
   "source": []
  },
  {
   "cell_type": "code",
   "execution_count": 142,
   "id": "6fd5cf33",
   "metadata": {},
   "outputs": [],
   "source": [
    "variables_rf = list(rf.feature_names_in_)"
   ]
  },
  {
   "cell_type": "code",
   "execution_count": null,
   "id": "1c822b2c",
   "metadata": {},
   "outputs": [],
   "source": []
  },
  {
   "cell_type": "code",
   "execution_count": null,
   "id": "2d1449ab",
   "metadata": {},
   "outputs": [],
   "source": []
  },
  {
   "cell_type": "code",
   "execution_count": null,
   "id": "e5c6071d",
   "metadata": {},
   "outputs": [],
   "source": []
  },
  {
   "cell_type": "code",
   "execution_count": 144,
   "id": "e1820bd1",
   "metadata": {},
   "outputs": [],
   "source": [
    "importancia_variables_rf = list(rf.feature_importances_)"
   ]
  },
  {
   "cell_type": "code",
   "execution_count": null,
   "id": "bcb8a507",
   "metadata": {},
   "outputs": [],
   "source": []
  },
  {
   "cell_type": "code",
   "execution_count": null,
   "id": "65c1db7e",
   "metadata": {},
   "outputs": [],
   "source": []
  },
  {
   "cell_type": "code",
   "execution_count": 125,
   "id": "5e81bd38",
   "metadata": {},
   "outputs": [
    {
     "data": {
      "text/plain": [
       "0.0018859808883479221"
      ]
     },
     "execution_count": 125,
     "metadata": {},
     "output_type": "execute_result"
    }
   ],
   "source": [
    "rf.feature_importances_.min()"
   ]
  },
  {
   "cell_type": "code",
   "execution_count": null,
   "id": "38e7204e",
   "metadata": {},
   "outputs": [],
   "source": []
  },
  {
   "cell_type": "code",
   "execution_count": 145,
   "id": "8fbd5da4",
   "metadata": {},
   "outputs": [
    {
     "name": "stderr",
     "output_type": "stream",
     "text": [
      "/home/mariano/anaconda3/lib/python3.9/site-packages/seaborn/_decorators.py:36: FutureWarning: Pass the following variables as keyword args: x, y. From version 0.12, the only valid positional argument will be `data`, and passing other arguments without an explicit keyword will result in an error or misinterpretation.\n",
      "  warnings.warn(\n"
     ]
    },
    {
     "data": {
      "text/plain": [
       "<AxesSubplot:>"
      ]
     },
     "execution_count": 145,
     "metadata": {},
     "output_type": "execute_result"
    },
    {
     "data": {
      "image/png": "[encoded data removed]",
      "text/plain": [
       "<Figure size 432x288 with 1 Axes>"
      ]
     },
     "metadata": {
      "needs_background": "light"
     },
     "output_type": "display_data"
    }
   ],
   "source": [
    "sns.barplot(importancia_variables_rf[:21] , variables_rf[:21])"
   ]
  },
  {
   "cell_type": "code",
   "execution_count": null,
   "id": "44a16788",
   "metadata": {},
   "outputs": [],
   "source": [
    "rf."
   ]
  },
  {
   "cell_type": "code",
   "execution_count": 146,
   "id": "9ab718ba",
   "metadata": {},
   "outputs": [
    {
     "data": {
      "text/plain": [
       "0.8578296703296703"
      ]
     },
     "execution_count": 146,
     "metadata": {},
     "output_type": "execute_result"
    }
   ],
   "source": [
    "rf.oob_score_"
   ]
  },
  {
   "cell_type": "code",
   "execution_count": 147,
   "id": "af890710",
   "metadata": {},
   "outputs": [
    {
     "data": {
      "text/plain": [
       "[0.03605425997832922,\n",
       " 0.035439701729544394,\n",
       " 0.03891491439292132,\n",
       " 0.031962804927356855,\n",
       " 0.09998752669747976,\n",
       " 0.04762911279826115,\n",
       " 0.0255537937701055,\n",
       " 0.02719532973247168,\n",
       " 0.04803264558673969,\n",
       " 0.1298262387986038,\n",
       " 0.054482364499284966,\n",
       " 0.05555658201904043,\n",
       " 0.028559073771000174,\n",
       " 0.048114904111843146,\n",
       " 0.035083183215799014,\n",
       " 0.03875818774564755,\n",
       " 0.021177105139708927,\n",
       " 0.01997275422463935,\n",
       " 0.02682698988204445,\n",
       " 0.023381718181275372]"
      ]
     },
     "execution_count": 147,
     "metadata": {},
     "output_type": "execute_result"
    }
   ],
   "source": [
    "importancia_variables_rf[:20]"
   ]
  },
  {
   "cell_type": "code",
   "execution_count": 151,
   "id": "54d7eb65",
   "metadata": {},
   "outputs": [
    {
     "data": {
      "text/plain": [
       "['MinTemp',\n",
       " 'MaxTemp',\n",
       " 'Rainfall',\n",
       " 'Evaporation',\n",
       " 'Sunshine',\n",
       " 'WindGustSpeed',\n",
       " 'WindSpeed9am',\n",
       " 'WindSpeed3pm',\n",
       " 'Humidity9am',\n",
       " 'Humidity3pm',\n",
       " 'Pressure9am',\n",
       " 'Pressure3pm',\n",
       " 'Cloud9am',\n",
       " 'Cloud3pm',\n",
       " 'Temp9am',\n",
       " 'Temp3pm',\n",
       " 'mes',\n",
       " 'anio',\n",
       " 'loc_num',\n",
       " 'llovio_hoy']"
      ]
     },
     "execution_count": 151,
     "metadata": {},
     "output_type": "execute_result"
    }
   ],
   "source": [
    "variables_rf[:20]"
   ]
  },
  {
   "cell_type": "code",
   "execution_count": null,
   "id": "7171042e",
   "metadata": {},
   "outputs": [],
   "source": []
  },
  {
   "cell_type": "code",
   "execution_count": null,
   "id": "9f5025fe",
   "metadata": {},
   "outputs": [],
   "source": []
  },
  {
   "cell_type": "code",
   "execution_count": null,
   "id": "11bfbc1e",
   "metadata": {},
   "outputs": [],
   "source": []
  },
  {
   "cell_type": "code",
   "execution_count": null,
   "id": "99c64478",
   "metadata": {},
   "outputs": [],
   "source": [
    "variables_rf[:20]"
   ]
  },
  {
   "cell_type": "code",
   "execution_count": 152,
   "id": "fb8a832a",
   "metadata": {},
   "outputs": [
    {
     "data": {
      "text/plain": [
       "RandomForestClassifier(oob_score=True)"
      ]
     },
     "execution_count": 152,
     "metadata": {},
     "output_type": "execute_result"
    }
   ],
   "source": [
    "rf_var_relevantes = RandomForestClassifier(oob_score=True)\n",
    "\n",
    "rf_var_relevantes.fit(nonull_train.loc[:,variables_rf[:20]] , np.asarray(y_nonull_train).ravel())"
   ]
  },
  {
   "cell_type": "code",
   "execution_count": null,
   "id": "de494154",
   "metadata": {},
   "outputs": [],
   "source": []
  },
  {
   "cell_type": "code",
   "execution_count": 153,
   "id": "a9471e20",
   "metadata": {},
   "outputs": [
    {
     "data": {
      "text/plain": [
       "0.8592032967032966"
      ]
     },
     "execution_count": 153,
     "metadata": {},
     "output_type": "execute_result"
    }
   ],
   "source": [
    "rf_var_relevantes.oob_score_"
   ]
  },
  {
   "cell_type": "code",
   "execution_count": null,
   "id": "67c279da",
   "metadata": {},
   "outputs": [],
   "source": []
  },
  {
   "cell_type": "code",
   "execution_count": 154,
   "id": "322f0116",
   "metadata": {},
   "outputs": [
    {
     "data": {
      "text/plain": [
       "array([0.04239824, 0.04010713, 0.04479083, 0.03801375, 0.10561168,\n",
       "       0.05666205, 0.0306524 , 0.03134477, 0.04982435, 0.15801677,\n",
       "       0.06009576, 0.06833431, 0.02891199, 0.06388456, 0.04072675,\n",
       "       0.04200963, 0.02529351, 0.0246497 , 0.03173098, 0.01694083])"
      ]
     },
     "execution_count": 154,
     "metadata": {},
     "output_type": "execute_result"
    }
   ],
   "source": [
    "rf_var_relevantes.feature_importances_"
   ]
  },
  {
   "cell_type": "code",
   "execution_count": null,
   "id": "776ae903",
   "metadata": {},
   "outputs": [],
   "source": []
  },
  {
   "cell_type": "code",
   "execution_count": null,
   "id": "d1ba45eb",
   "metadata": {},
   "outputs": [],
   "source": []
  },
  {
   "cell_type": "code",
   "execution_count": 155,
   "id": "0be5eff0",
   "metadata": {},
   "outputs": [
    {
     "data": {
      "text/plain": [
       "array(['MinTemp', 'MaxTemp', 'Rainfall', 'Evaporation', 'Sunshine',\n",
       "       'WindGustSpeed', 'WindSpeed9am', 'WindSpeed3pm', 'Humidity9am',\n",
       "       'Humidity3pm', 'Pressure9am', 'Pressure3pm', 'Cloud9am',\n",
       "       'Cloud3pm', 'Temp9am', 'Temp3pm', 'mes', 'anio', 'loc_num',\n",
       "       'llovio_hoy'], dtype=object)"
      ]
     },
     "execution_count": 155,
     "metadata": {},
     "output_type": "execute_result"
    }
   ],
   "source": [
    "rf_var_relevantes.feature_names_in_"
   ]
  },
  {
   "cell_type": "code",
   "execution_count": null,
   "id": "52a83721",
   "metadata": {},
   "outputs": [],
   "source": []
  },
  {
   "cell_type": "code",
   "execution_count": 157,
   "id": "82ebc384",
   "metadata": {},
   "outputs": [
    {
     "name": "stderr",
     "output_type": "stream",
     "text": [
      "/home/mariano/anaconda3/lib/python3.9/site-packages/seaborn/_decorators.py:36: FutureWarning: Pass the following variables as keyword args: x, y. From version 0.12, the only valid positional argument will be `data`, and passing other arguments without an explicit keyword will result in an error or misinterpretation.\n",
      "  warnings.warn(\n"
     ]
    },
    {
     "data": {
      "text/plain": [
       "<AxesSubplot:>"
      ]
     },
     "execution_count": 157,
     "metadata": {},
     "output_type": "execute_result"
    },
    {
     "data": {
      "image/png": "[encoded data removed]",
      "text/plain": [
       "<Figure size 432x288 with 1 Axes>"
      ]
     },
     "metadata": {
      "needs_background": "light"
     },
     "output_type": "display_data"
    }
   ],
   "source": [
    "sns.barplot(rf_var_relevantes.feature_importances_ , rf_var_relevantes.feature_names_in_)"
   ]
  },
  {
   "cell_type": "code",
   "execution_count": 158,
   "id": "df7ad9f3",
   "metadata": {},
   "outputs": [
    {
     "name": "stderr",
     "output_type": "stream",
     "text": [
      "/home/mariano/anaconda3/lib/python3.9/site-packages/seaborn/_decorators.py:36: FutureWarning: Pass the following variables as keyword args: x, y. From version 0.12, the only valid positional argument will be `data`, and passing other arguments without an explicit keyword will result in an error or misinterpretation.\n",
      "  warnings.warn(\n"
     ]
    },
    {
     "data": {
      "text/plain": [
       "<AxesSubplot:>"
      ]
     },
     "execution_count": 158,
     "metadata": {},
     "output_type": "execute_result"
    },
    {
     "data": {
      "image/png": "[encoded data removed]",
      "text/plain": [
       "<Figure size 432x288 with 1 Axes>"
      ]
     },
     "metadata": {
      "needs_background": "light"
     },
     "output_type": "display_data"
    }
   ],
   "source": [
    "#otra vez con todas las variables, las 20 de mayor imiportancia, para comparar\n",
    "sns.barplot(importancia_variables_rf[:21] , variables_rf[:21])"
   ]
  },
  {
   "cell_type": "code",
   "execution_count": null,
   "id": "04b73492",
   "metadata": {},
   "outputs": [],
   "source": [
    "#debajo de la cuarta rankeada, se modifican algunas de las iimportancias relativas de las variables"
   ]
  },
  {
   "cell_type": "code",
   "execution_count": null,
   "id": "0dce8e27",
   "metadata": {},
   "outputs": [],
   "source": []
  },
  {
   "cell_type": "code",
   "execution_count": null,
   "id": "8f9ed822",
   "metadata": {},
   "outputs": [],
   "source": []
  },
  {
   "cell_type": "code",
   "execution_count": null,
   "id": "b81f3515",
   "metadata": {},
   "outputs": [],
   "source": []
  },
  {
   "cell_type": "code",
   "execution_count": null,
   "id": "a07dda0e",
   "metadata": {},
   "outputs": [],
   "source": []
  },
  {
   "cell_type": "code",
   "execution_count": null,
   "id": "380095d8",
   "metadata": {},
   "outputs": [],
   "source": []
  },
  {
   "cell_type": "code",
   "execution_count": null,
   "id": "8f9f4cc6",
   "metadata": {},
   "outputs": [],
   "source": []
  },
  {
   "cell_type": "code",
   "execution_count": null,
   "id": "7b8b1799",
   "metadata": {},
   "outputs": [],
   "source": [
    "########prueba de concepto#############"
   ]
  },
  {
   "cell_type": "code",
   "execution_count": 161,
   "id": "d2ff5826",
   "metadata": {},
   "outputs": [],
   "source": []
  },
  {
   "cell_type": "code",
   "execution_count": 172,
   "id": "65ca6252",
   "metadata": {},
   "outputs": [
    {
     "data": {
      "text/plain": [
       "<enumerate at 0x7f4884798f40>"
      ]
     },
     "execution_count": 172,
     "metadata": {},
     "output_type": "execute_result"
    }
   ],
   "source": []
  },
  {
   "cell_type": "code",
   "execution_count": 174,
   "id": "88ae1733",
   "metadata": {},
   "outputs": [],
   "source": []
  },
  {
   "cell_type": "code",
   "execution_count": null,
   "id": "8276826e",
   "metadata": {},
   "outputs": [],
   "source": [
    "#voy a escribir algo, para qeudarme ocn los 20 mayores\n"
   ]
  },
  {
   "cell_type": "code",
   "execution_count": null,
   "id": "aa66688f",
   "metadata": {},
   "outputs": [],
   "source": []
  },
  {
   "cell_type": "code",
   "execution_count": null,
   "id": "aeb66fe6",
   "metadata": {},
   "outputs": [],
   "source": []
  },
  {
   "cell_type": "code",
   "execution_count": null,
   "id": "d15cc8a4",
   "metadata": {},
   "outputs": [],
   "source": []
  },
  {
   "cell_type": "code",
   "execution_count": null,
   "id": "031c28e5",
   "metadata": {},
   "outputs": [],
   "source": []
  },
  {
   "cell_type": "code",
   "execution_count": null,
   "id": "ec472d17",
   "metadata": {},
   "outputs": [],
   "source": []
  },
  {
   "cell_type": "code",
   "execution_count": null,
   "id": "9562b319",
   "metadata": {},
   "outputs": [],
   "source": []
  },
  {
   "cell_type": "code",
   "execution_count": 166,
   "id": "f64dec81",
   "metadata": {},
   "outputs": [
    {
     "ename": "TypeError",
     "evalue": "'enumerate' object is not callable",
     "output_type": "error",
     "traceback": [
      "\u001b[0;31m---------------------------------------------------------------------------\u001b[0m",
      "\u001b[0;31mTypeError\u001b[0m                                 Traceback (most recent call last)",
      "Input \u001b[0;32mIn [166]\u001b[0m, in \u001b[0;36m<cell line: 1>\u001b[0;34m()\u001b[0m\n\u001b[0;32m----> 1\u001b[0m \u001b[43menum\u001b[49m\u001b[43m(\u001b[49m\u001b[38;5;241;43m0\u001b[39;49m\u001b[43m)\u001b[49m\n",
      "\u001b[0;31mTypeError\u001b[0m: 'enumerate' object is not callable"
     ]
    }
   ],
   "source": []
  },
  {
   "cell_type": "code",
   "execution_count": null,
   "id": "3c2ee992",
   "metadata": {},
   "outputs": [],
   "source": []
  },
  {
   "cell_type": "code",
   "execution_count": null,
   "id": "49ecc5be",
   "metadata": {},
   "outputs": [],
   "source": []
  },
  {
   "cell_type": "code",
   "execution_count": null,
   "id": "115b1697",
   "metadata": {},
   "outputs": [],
   "source": []
  },
  {
   "cell_type": "code",
   "execution_count": null,
   "id": "486f1792",
   "metadata": {},
   "outputs": [],
   "source": []
  },
  {
   "cell_type": "code",
   "execution_count": null,
   "id": "c3543173",
   "metadata": {},
   "outputs": [],
   "source": []
  },
  {
   "cell_type": "code",
   "execution_count": null,
   "id": "16c69b75",
   "metadata": {},
   "outputs": [],
   "source": [
    "rf_var_relevantes.feature_importances_[:20]"
   ]
  },
  {
   "cell_type": "code",
   "execution_count": 175,
   "id": "c72be444",
   "metadata": {},
   "outputs": [],
   "source": [
    "lista_var_relevantes = list(rf_var_relevantes.feature_importances_[:20])"
   ]
  },
  {
   "cell_type": "code",
   "execution_count": null,
   "id": "dbe23152",
   "metadata": {},
   "outputs": [],
   "source": [
    "#lista.max() devuelve el max valor de la lista\n",
    "\n",
    "#lista.index(valor) devuelve el indice de dicho valor dentro de la lista\n",
    "\n",
    "#lista.remove() remueve un dado valor\n",
    "\n",
    "#lista.del() remueve por indice"
   ]
  },
  {
   "cell_type": "code",
   "execution_count": 176,
   "id": "4b910ab6",
   "metadata": {},
   "outputs": [],
   "source": [
    "lista_variables = variables_rf[:20]"
   ]
  },
  {
   "cell_type": "code",
   "execution_count": 179,
   "id": "46125800",
   "metadata": {},
   "outputs": [
    {
     "name": "stdout",
     "output_type": "stream",
     "text": [
      "20 20\n"
     ]
    }
   ],
   "source": [
    "importancia = []\n",
    "variable = []\n",
    "for i in range(0 , len(lista_var_relevantes)):\n",
    "    \n",
    "    maxim = max(lista_var_relevantes)\n",
    "    indice_max = lista_var_relevantes.index(maxim)\n",
    "    la_variable = lista_variables[indice_max]\n",
    "    \n",
    "    importancia.append(maxim)\n",
    "    \n",
    "    variable.append(la_variable)\n",
    "    \n",
    "    del lista_var_relevantes[indice_max]\n",
    "    \n",
    "    del lista_variables[indice_max]\n",
    "    \n",
    "print(len(importancia) , len(variable))"
   ]
  },
  {
   "cell_type": "code",
   "execution_count": 180,
   "id": "fedc3279",
   "metadata": {},
   "outputs": [
    {
     "data": {
      "text/plain": [
       "[0.15801676535279538,\n",
       " 0.10561168385570889,\n",
       " 0.06833431069557848,\n",
       " 0.06388456429364622,\n",
       " 0.06009576255174578,\n",
       " 0.056662053400864026,\n",
       " 0.04982434676187415,\n",
       " 0.044790828818987605,\n",
       " 0.04239824175908297,\n",
       " 0.04200963066789619,\n",
       " 0.04072675211344433,\n",
       " 0.04010713277679522,\n",
       " 0.03801374885717526,\n",
       " 0.031730977092997034,\n",
       " 0.031344765758659444,\n",
       " 0.030652403952907276,\n",
       " 0.028911993767446936,\n",
       " 0.0252935087086527,\n",
       " 0.024649703684314767,\n",
       " 0.016940825129427368]"
      ]
     },
     "execution_count": 180,
     "metadata": {},
     "output_type": "execute_result"
    }
   ],
   "source": [
    "importancia"
   ]
  },
  {
   "cell_type": "code",
   "execution_count": null,
   "id": "b7fec42a",
   "metadata": {},
   "outputs": [],
   "source": []
  },
  {
   "cell_type": "code",
   "execution_count": 181,
   "id": "6f44518a",
   "metadata": {},
   "outputs": [
    {
     "data": {
      "text/plain": [
       "['Humidity3pm',\n",
       " 'Sunshine',\n",
       " 'Pressure3pm',\n",
       " 'Cloud3pm',\n",
       " 'Pressure9am',\n",
       " 'WindGustSpeed',\n",
       " 'Humidity9am',\n",
       " 'Rainfall',\n",
       " 'MinTemp',\n",
       " 'Temp3pm',\n",
       " 'Temp9am',\n",
       " 'MaxTemp',\n",
       " 'Evaporation',\n",
       " 'loc_num',\n",
       " 'WindSpeed3pm',\n",
       " 'WindSpeed9am',\n",
       " 'Cloud9am',\n",
       " 'mes',\n",
       " 'anio',\n",
       " 'llovio_hoy']"
      ]
     },
     "execution_count": 181,
     "metadata": {},
     "output_type": "execute_result"
    }
   ],
   "source": [
    "variable"
   ]
  },
  {
   "cell_type": "code",
   "execution_count": 186,
   "id": "4d89a6b0",
   "metadata": {},
   "outputs": [
    {
     "name": "stdout",
     "output_type": "stream",
     "text": [
      "68 68\n"
     ]
    }
   ],
   "source": [
    "importancia2 = []\n",
    "variable2 = []\n",
    "lista_var_relevantes2 = list(rf.feature_importances_)\n",
    "lista_variables2 = list(rf.feature_names_in_)\n",
    "for i in range(0 , len(lista_var_relevantes2)):\n",
    "    \n",
    "    maxim = max(lista_var_relevantes2)\n",
    "    indice_max = lista_var_relevantes2.index(maxim)\n",
    "    la_variable = lista_variables2[indice_max]\n",
    "    \n",
    "    importancia2.append(maxim)\n",
    "    \n",
    "    variable2.append(la_variable)\n",
    "    \n",
    "    del lista_var_relevantes2[indice_max]\n",
    "    \n",
    "    del lista_variables2[indice_max]\n",
    "    \n",
    "print(len(importancia2) , len(variable2))"
   ]
  },
  {
   "cell_type": "code",
   "execution_count": null,
   "id": "270d0277",
   "metadata": {},
   "outputs": [],
   "source": []
  },
  {
   "cell_type": "code",
   "execution_count": null,
   "id": "56036b10",
   "metadata": {},
   "outputs": [],
   "source": []
  },
  {
   "cell_type": "code",
   "execution_count": 184,
   "id": "031e2e94",
   "metadata": {},
   "outputs": [
    {
     "name": "stderr",
     "output_type": "stream",
     "text": [
      "/home/mariano/anaconda3/lib/python3.9/site-packages/seaborn/_decorators.py:36: FutureWarning: Pass the following variables as keyword args: x, y. From version 0.12, the only valid positional argument will be `data`, and passing other arguments without an explicit keyword will result in an error or misinterpretation.\n",
      "  warnings.warn(\n"
     ]
    },
    {
     "data": {
      "text/plain": [
       "<AxesSubplot:>"
      ]
     },
     "execution_count": 184,
     "metadata": {},
     "output_type": "execute_result"
    },
    {
     "data": {
      "image/png": "[encoded data removed]",
      "text/plain": [
       "<Figure size 432x288 with 1 Axes>"
      ]
     },
     "metadata": {
      "needs_background": "light"
     },
     "output_type": "display_data"
    }
   ],
   "source": [
    "sns.barplot(importancia,variable)#con menso features"
   ]
  },
  {
   "cell_type": "code",
   "execution_count": 188,
   "id": "135d2f43",
   "metadata": {},
   "outputs": [
    {
     "name": "stderr",
     "output_type": "stream",
     "text": [
      "/home/mariano/anaconda3/lib/python3.9/site-packages/seaborn/_decorators.py:36: FutureWarning: Pass the following variables as keyword args: x, y. From version 0.12, the only valid positional argument will be `data`, and passing other arguments without an explicit keyword will result in an error or misinterpretation.\n",
      "  warnings.warn(\n"
     ]
    },
    {
     "data": {
      "text/plain": [
       "<AxesSubplot:>"
      ]
     },
     "execution_count": 188,
     "metadata": {},
     "output_type": "execute_result"
    },
    {
     "data": {
      "image/png": "[encoded data removed]",
      "text/plain": [
       "<Figure size 432x288 with 1 Axes>"
      ]
     },
     "metadata": {
      "needs_background": "light"
     },
     "output_type": "display_data"
    }
   ],
   "source": [
    "sns.barplot(importancia2[:20],variable2[:20])\n",
    "#con mas features\n",
    "\n"
   ]
  },
  {
   "cell_type": "code",
   "execution_count": null,
   "id": "cdd2ae38",
   "metadata": {},
   "outputs": [],
   "source": []
  },
  {
   "cell_type": "code",
   "execution_count": null,
   "id": "8542fcfa",
   "metadata": {},
   "outputs": [],
   "source": []
  },
  {
   "cell_type": "code",
   "execution_count": null,
   "id": "b5a32b52",
   "metadata": {},
   "outputs": [],
   "source": []
  },
  {
   "cell_type": "code",
   "execution_count": null,
   "id": "87353a35",
   "metadata": {},
   "outputs": [],
   "source": []
  },
  {
   "cell_type": "code",
   "execution_count": null,
   "id": "20ffaaa7",
   "metadata": {},
   "outputs": [],
   "source": []
  },
  {
   "cell_type": "code",
   "execution_count": null,
   "id": "c1a99adf",
   "metadata": {},
   "outputs": [],
   "source": []
  },
  {
   "cell_type": "code",
   "execution_count": null,
   "id": "1d0c3398",
   "metadata": {},
   "outputs": [],
   "source": []
  },
  {
   "cell_type": "code",
   "execution_count": null,
   "id": "64495290",
   "metadata": {},
   "outputs": [],
   "source": []
  },
  {
   "cell_type": "code",
   "execution_count": null,
   "id": "898d0ee4",
   "metadata": {},
   "outputs": [],
   "source": []
  }
 ],
 "metadata": {
  "kernelspec": {
   "display_name": "Python 3 (ipykernel)",
   "language": "python",
   "name": "python3"
  },
  "language_info": {
   "codemirror_mode": {
    "name": "ipython",
    "version": 3
   },
   "file_extension": ".py",
   "mimetype": "text/x-python",
   "name": "python",
   "nbconvert_exporter": "python",
   "pygments_lexer": "ipython3",
   "version": "3.9.7"
  }
 },
 "nbformat": 4,
 "nbformat_minor": 5
}
