{
 "cells": [
  {
   "cell_type": "code",
   "execution_count": 1,
   "id": "1e8fd334-c5d3-4199-b449-8e33c0ae9d72",
   "metadata": {},
   "outputs": [],
   "source": [
    "import numpy as np"
   ]
  },
  {
   "cell_type": "code",
   "execution_count": 3,
   "id": "50367f9f-0778-425a-a368-dd6cfde39781",
   "metadata": {},
   "outputs": [
    {
     "ename": "AttributeError",
     "evalue": "module 'numpy' has no attribute 'range'",
     "output_type": "error",
     "traceback": [
      "\u001b[0;31m---------------------------------------------------------------------------\u001b[0m",
      "\u001b[0;31mAttributeError\u001b[0m                            Traceback (most recent call last)",
      "Cell \u001b[0;32mIn[3], line 1\u001b[0m\n\u001b[0;32m----> 1\u001b[0m \u001b[43mnp\u001b[49m\u001b[38;5;241;43m.\u001b[39;49m\u001b[43mrange\u001b[49m(\u001b[38;5;241m5\u001b[39m)\n",
      "File \u001b[0;32m/opt/miniconda3/envs/redes_neuronales/lib/python3.11/site-packages/numpy/__init__.py:320\u001b[0m, in \u001b[0;36m__getattr__\u001b[0;34m(attr)\u001b[0m\n\u001b[1;32m    317\u001b[0m     \u001b[38;5;28;01mfrom\u001b[39;00m \u001b[38;5;21;01m.\u001b[39;00m\u001b[38;5;21;01mtesting\u001b[39;00m \u001b[38;5;28;01mimport\u001b[39;00m Tester\n\u001b[1;32m    318\u001b[0m     \u001b[38;5;28;01mreturn\u001b[39;00m Tester\n\u001b[0;32m--> 320\u001b[0m \u001b[38;5;28;01mraise\u001b[39;00m \u001b[38;5;167;01mAttributeError\u001b[39;00m(\u001b[38;5;124m\"\u001b[39m\u001b[38;5;124mmodule \u001b[39m\u001b[38;5;132;01m{!r}\u001b[39;00m\u001b[38;5;124m has no attribute \u001b[39m\u001b[38;5;124m\"\u001b[39m\n\u001b[1;32m    321\u001b[0m                      \u001b[38;5;124m\"\u001b[39m\u001b[38;5;132;01m{!r}\u001b[39;00m\u001b[38;5;124m\"\u001b[39m\u001b[38;5;241m.\u001b[39mformat(\u001b[38;5;18m__name__\u001b[39m, attr))\n",
      "\u001b[0;31mAttributeError\u001b[0m: module 'numpy' has no attribute 'range'"
     ]
    }
   ],
   "source": [
    "np.range(5)"
   ]
  },
  {
   "cell_type": "code",
   "execution_count": 4,
   "id": "e215af54-f38e-4d96-acd7-2a8f8137ddcd",
   "metadata": {},
   "outputs": [
    {
     "data": {
      "text/plain": [
       "range(0, 5)"
      ]
     },
     "execution_count": 4,
     "metadata": {},
     "output_type": "execute_result"
    }
   ],
   "source": [
    "range(5)"
   ]
  },
  {
   "cell_type": "code",
   "execution_count": 5,
   "id": "354469dc-78ea-407a-b871-e903d9e8d56f",
   "metadata": {},
   "outputs": [
    {
     "data": {
      "text/plain": [
       "[0, 1, 2, 3, 4]"
      ]
     },
     "execution_count": 5,
     "metadata": {},
     "output_type": "execute_result"
    }
   ],
   "source": [
    "list(range(5))"
   ]
  },
  {
   "cell_type": "code",
   "execution_count": 6,
   "id": "57cf1704-d355-4d2d-becb-e5ce58290a55",
   "metadata": {},
   "outputs": [
    {
     "name": "stdout",
     "output_type": "stream",
     "text": [
      "range(0, 5)\n"
     ]
    }
   ],
   "source": [
    "a = range(5)\n",
    "print(a)"
   ]
  },
  {
   "cell_type": "code",
   "execution_count": 7,
   "id": "eaa2a1a4-5ff2-496b-908c-5608a10fc841",
   "metadata": {},
   "outputs": [],
   "source": [
    "b = list(range(5))"
   ]
  },
  {
   "cell_type": "code",
   "execution_count": 8,
   "id": "599e34a4-636f-4d64-909e-0c91ed1b3759",
   "metadata": {},
   "outputs": [
    {
     "name": "stdout",
     "output_type": "stream",
     "text": [
      "[0, 1, 2, 3, 4]\n"
     ]
    }
   ],
   "source": [
    "print(b)"
   ]
  },
  {
   "cell_type": "code",
   "execution_count": 10,
   "id": "de749c55-20d2-49af-9485-01baad9d40d6",
   "metadata": {},
   "outputs": [
    {
     "name": "stdout",
     "output_type": "stream",
     "text": [
      "[0, 1, 4, 9, 16]\n"
     ]
    }
   ],
   "source": [
    "#lista pro compresion\n",
    "\n",
    "c = [x**2 for x in range(5)]\n",
    "print(c)\n"
   ]
  },
  {
   "cell_type": "code",
   "execution_count": 11,
   "id": "26b46abf-addc-4f3e-af6f-f69b1611130e",
   "metadata": {},
   "outputs": [
    {
     "data": {
      "text/plain": [
       "[0, 2, 4]"
      ]
     },
     "execution_count": 11,
     "metadata": {},
     "output_type": "execute_result"
    }
   ],
   "source": [
    "b[::2]"
   ]
  },
  {
   "cell_type": "code",
   "execution_count": 12,
   "id": "ff8398be-bd8b-4f3d-a1ee-cc781abb2bf5",
   "metadata": {},
   "outputs": [
    {
     "data": {
      "text/plain": [
       "[0, 1, 2, 3, 4]"
      ]
     },
     "execution_count": 12,
     "metadata": {},
     "output_type": "execute_result"
    }
   ],
   "source": [
    "b"
   ]
  },
  {
   "cell_type": "code",
   "execution_count": 13,
   "id": "dea410d2-f085-49bf-bcfd-e8a2ea943614",
   "metadata": {},
   "outputs": [
    {
     "name": "stdout",
     "output_type": "stream",
     "text": [
      "[0, 1, 9, 10, 3, 4]\n"
     ]
    }
   ],
   "source": [
    "#reemplazar pedazos de lista, por numeros\n",
    "b[2:3] = [9,10]\n",
    "\n",
    "print(b)"
   ]
  },
  {
   "cell_type": "code",
   "execution_count": null,
   "id": "cd56d8de-f8ab-47e9-b90c-f686c6aad6f5",
   "metadata": {},
   "outputs": [],
   "source": []
  },
  {
   "cell_type": "code",
   "execution_count": 14,
   "id": "276d4afa-e645-4d40-b0bc-ee0b1e173927",
   "metadata": {},
   "outputs": [
    {
     "data": {
      "text/plain": [
       "array([5, 7])"
      ]
     },
     "execution_count": 14,
     "metadata": {},
     "output_type": "execute_result"
    }
   ],
   "source": [
    "np.array([5,7])"
   ]
  },
  {
   "cell_type": "code",
   "execution_count": 15,
   "id": "61a93614-6995-4320-90cc-87079eeef450",
   "metadata": {},
   "outputs": [
    {
     "data": {
      "text/plain": [
       "array([0., 0., 0., 0., 0.])"
      ]
     },
     "execution_count": 15,
     "metadata": {},
     "output_type": "execute_result"
    }
   ],
   "source": [
    "np.zeros(5)"
   ]
  },
  {
   "cell_type": "code",
   "execution_count": 16,
   "id": "2506cb6f-7ab3-4b01-9fad-22f9d5135ecb",
   "metadata": {},
   "outputs": [
    {
     "data": {
      "text/plain": [
       "array([[0., 0., 0.]])"
      ]
     },
     "execution_count": 16,
     "metadata": {},
     "output_type": "execute_result"
    }
   ],
   "source": [
    "np.zeros((1,3))#las dimenciones del array fila col"
   ]
  },
  {
   "cell_type": "code",
   "execution_count": 17,
   "id": "090119e6-712a-46d4-bbd1-472498b6c61e",
   "metadata": {},
   "outputs": [
    {
     "data": {
      "text/plain": [
       "array([[1., 1.],\n",
       "       [1., 1.],\n",
       "       [1., 1.]])"
      ]
     },
     "execution_count": 17,
     "metadata": {},
     "output_type": "execute_result"
    }
   ],
   "source": [
    "np.ones((3,2))#es un array de 3 fil 2 col"
   ]
  },
  {
   "cell_type": "code",
   "execution_count": 18,
   "id": "63e3de70-fc3d-481b-8029-af2ec4d380dc",
   "metadata": {},
   "outputs": [
    {
     "name": "stdout",
     "output_type": "stream",
     "text": [
      "6\n",
      "(3, 2)\n"
     ]
    }
   ],
   "source": [
    "v = np.ones((3,2))\n",
    "\n",
    "print(v.size)#num elementos\n",
    "\n",
    "print(v.shape)#filas columnas"
   ]
  },
  {
   "cell_type": "code",
   "execution_count": 19,
   "id": "f566c094-6018-45b2-9cac-38fe371d1a02",
   "metadata": {},
   "outputs": [
    {
     "name": "stdout",
     "output_type": "stream",
     "text": [
      "[[1. 1.]\n",
      " [1. 1.]\n",
      " [1. 1.]]\n"
     ]
    }
   ],
   "source": [
    "print(v)"
   ]
  },
  {
   "cell_type": "code",
   "execution_count": 20,
   "id": "caa50633-7222-4dc5-8376-853fd2d9c062",
   "metadata": {},
   "outputs": [
    {
     "name": "stdout",
     "output_type": "stream",
     "text": [
      "[[90. 50.]\n",
      " [90. 50.]\n",
      " [90. 50.]]\n"
     ]
    }
   ],
   "source": [
    "v[:] = [90,50]\n",
    "\n",
    "print(v)"
   ]
  },
  {
   "cell_type": "code",
   "execution_count": null,
   "id": "588373a9-5fa6-4c5a-8040-cb3673b7ad9e",
   "metadata": {},
   "outputs": [],
   "source": [
    "array1.dot(array2)#prod interno\n",
    "\n",
    "np.dot(array1 , array2)#producto interno"
   ]
  },
  {
   "cell_type": "code",
   "execution_count": 21,
   "id": "6c11ff99-3785-4605-8d40-689e9cc993ee",
   "metadata": {},
   "outputs": [
    {
     "data": {
      "text/plain": [
       "array([[10600., 10600., 10600.],\n",
       "       [10600., 10600., 10600.],\n",
       "       [10600., 10600., 10600.]])"
      ]
     },
     "execution_count": 21,
     "metadata": {},
     "output_type": "execute_result"
    }
   ],
   "source": [
    "np.dot(v , v.T)"
   ]
  },
  {
   "cell_type": "code",
   "execution_count": 26,
   "id": "7751dca8-f158-49d9-bc8d-a04388da626a",
   "metadata": {},
   "outputs": [
    {
     "data": {
      "text/plain": [
       "array([[12., 14., 16.],\n",
       "       [12., 14., 16.],\n",
       "       [12., 14., 16.]])"
      ]
     },
     "execution_count": 26,
     "metadata": {},
     "output_type": "execute_result"
    }
   ],
   "source": [
    "np.dot(np.ones((3,2)) , np.array([[3,4,5],[9,10,11]]))"
   ]
  },
  {
   "cell_type": "code",
   "execution_count": 31,
   "id": "a5185f74-a609-4e01-8c8c-c9bfa19d2515",
   "metadata": {},
   "outputs": [
    {
     "data": {
      "text/plain": [
       "array([[ 50, 122],\n",
       "       [122, 302]])"
      ]
     },
     "execution_count": 31,
     "metadata": {},
     "output_type": "execute_result"
    }
   ],
   "source": [
    "np.dot(np.array([[3,4,5],[9,10,11]]) , np.array([[3,4,5],[9,10,11]]).T)"
   ]
  },
  {
   "cell_type": "code",
   "execution_count": 34,
   "id": "23e69e02-9a38-47a4-b933-33dc98a0f6fb",
   "metadata": {},
   "outputs": [
    {
     "name": "stdout",
     "output_type": "stream",
     "text": [
      "[100   1   1]\n"
     ]
    }
   ],
   "source": [
    "#condiiconales en array\n",
    "\n",
    "y = np.array([-1 , 8 , 20])\n",
    "\n",
    "j = np.where(y<0 , 100 , 1)\n",
    "\n",
    "print(j)\n",
    "#guarda el valor 100 si ocndiicon true, sino 1"
   ]
  },
  {
   "cell_type": "code",
   "execution_count": null,
   "id": "489a12ab-0130-4e23-8e6d-90f90e705b6f",
   "metadata": {},
   "outputs": [],
   "source": []
  },
  {
   "cell_type": "code",
   "execution_count": 36,
   "id": "95283b5d-b8e5-46ee-929f-dfe25b8f4bdb",
   "metadata": {},
   "outputs": [],
   "source": [
    "from matplotlib import pyplot as plt"
   ]
  },
  {
   "cell_type": "code",
   "execution_count": null,
   "id": "29a1daf7-da3e-4697-a48a-9d469017777d",
   "metadata": {},
   "outputs": [],
   "source": []
  },
  {
   "cell_type": "code",
   "execution_count": null,
   "id": "af93f449-2efe-4809-ae25-89b5d2673214",
   "metadata": {},
   "outputs": [],
   "source": []
  },
  {
   "cell_type": "code",
   "execution_count": 38,
   "id": "21c5b891-0c26-4673-a78f-0c5d5942d6f1",
   "metadata": {},
   "outputs": [
    {
     "data": {
      "image/png": "[encoded data removed]",
      "text/plain": [
       "<Figure size 640x480 with 1 Axes>"
      ]
     },
     "metadata": {},
     "output_type": "display_data"
    }
   ],
   "source": [
    "x = np.linspace(0,np.pi*2 , 100)\n",
    "\n",
    "y = np.sin(x)\n",
    "\n",
    "z = np.cos(x)\n",
    "\n",
    "graf = plt.plot(x , y , \"b-\" , x,z ,\"r.\")\n",
    "\n",
    "plt.show()"
   ]
  },
  {
   "cell_type": "code",
   "execution_count": 39,
   "id": "9bdf46c3-627a-43fc-9097-4fed83c9b947",
   "metadata": {},
   "outputs": [
    {
     "data": {
      "text/plain": [
       "array([[90., 50.],\n",
       "       [90., 50.],\n",
       "       [90., 50.]])"
      ]
     },
     "execution_count": 39,
     "metadata": {},
     "output_type": "execute_result"
    }
   ],
   "source": [
    "v"
   ]
  },
  {
   "cell_type": "code",
   "execution_count": null,
   "id": "f23b28f5-f732-479e-acc4-0487086a1bc4",
   "metadata": {},
   "outputs": [],
   "source": []
  },
  {
   "cell_type": "code",
   "execution_count": 41,
   "id": "77785c4a-4d02-4336-bdcb-7c95c324c6bf",
   "metadata": {},
   "outputs": [
    {
     "data": {
      "text/plain": [
       "<matplotlib.image.AxesImage at 0x7fbce5a329d0>"
      ]
     },
     "execution_count": 41,
     "metadata": {},
     "output_type": "execute_result"
    },
    {
     "data": {
      "image/png": "[encoded data removed]",
      "text/plain": [
       "<Figure size 400x600 with 1 Axes>"
      ]
     },
     "metadata": {},
     "output_type": "display_data"
    }
   ],
   "source": [
    "plt.matshow(v)"
   ]
  },
  {
   "cell_type": "code",
   "execution_count": null,
   "id": "85e0ced9-3511-4d06-8e55-220fe191cd11",
   "metadata": {},
   "outputs": [],
   "source": []
  },
  {
   "cell_type": "code",
   "execution_count": null,
   "id": "653bb46f-066b-4fc7-9735-fb8fe095870b",
   "metadata": {},
   "outputs": [],
   "source": []
  },
  {
   "cell_type": "code",
   "execution_count": null,
   "id": "91706d12-eea3-409b-8623-937b021d3222",
   "metadata": {},
   "outputs": [],
   "source": []
  },
  {
   "cell_type": "code",
   "execution_count": null,
   "id": "8732fc3a-5e35-426a-adbd-a071c8c5ac8e",
   "metadata": {},
   "outputs": [],
   "source": []
  },
  {
   "cell_type": "code",
   "execution_count": null,
   "id": "b22a05c9-7afb-442f-ad6d-a8dcfa75b7e0",
   "metadata": {},
   "outputs": [],
   "source": []
  },
  {
   "cell_type": "code",
   "execution_count": null,
   "id": "9c84b6f9-1669-4346-a453-fca3f828b387",
   "metadata": {},
   "outputs": [],
   "source": []
  },
  {
   "cell_type": "code",
   "execution_count": null,
   "id": "6ed5b672-e6c3-4d63-8aaa-da41db57da51",
   "metadata": {},
   "outputs": [],
   "source": []
  },
  {
   "cell_type": "code",
   "execution_count": null,
   "id": "5e822731-9e1e-4606-a409-fdaa7ab5c0a8",
   "metadata": {},
   "outputs": [],
   "source": []
  },
  {
   "cell_type": "code",
   "execution_count": null,
   "id": "64cfc9fb-f7fe-4b0b-b71c-dc3346c82d85",
   "metadata": {},
   "outputs": [],
   "source": []
  },
  {
   "cell_type": "code",
   "execution_count": null,
   "id": "a68c12b7-13c9-4607-b5a3-11d0dbc9b079",
   "metadata": {},
   "outputs": [],
   "source": []
  }
 ],
 "metadata": {
  "kernelspec": {
   "display_name": "Python 3 (ipykernel)",
   "language": "python",
   "name": "python3"
  },
  "language_info": {
   "codemirror_mode": {
    "name": "ipython",
    "version": 3
   },
   "file_extension": ".py",
   "mimetype": "text/x-python",
   "name": "python",
   "nbconvert_exporter": "python",
   "pygments_lexer": "ipython3",
   "version": "3.11.0"
  }
 },
 "nbformat": 4,
 "nbformat_minor": 5
}
