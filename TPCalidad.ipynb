{
 "cells": [
  {
   "cell_type": "code",
   "execution_count": 1235,
   "id": "219bccb6",
   "metadata": {},
   "outputs": [],
   "source": [
    "import numpy as np\n",
    "import pandas as pd\n",
    "import datetime\n",
    "import seaborn as sns\n",
    "import matplotlib.pyplot as plt\n",
    "%matplotlib inline\n",
    "\n",
    "#pd.set_option('display.max_rows', None)"
   ]
  },
  {
   "cell_type": "code",
   "execution_count": 1236,
   "id": "129c8f6a",
   "metadata": {},
   "outputs": [
    {
     "name": "stdout",
     "output_type": "stream",
     "text": [
      "Requirement already satisfied: pygrowup in c:\\users\\daiana_nubi\\anaconda3\\lib\\site-packages (0.8.2)\n",
      "Requirement already satisfied: six in c:\\users\\daiana_nubi\\anaconda3\\lib\\site-packages (from pygrowup) (1.15.0)\n"
     ]
    }
   ],
   "source": [
    "!pip install pygrowup"
   ]
  },
  {
   "cell_type": "code",
   "execution_count": 1237,
   "id": "83ece907",
   "metadata": {},
   "outputs": [
    {
     "name": "stdout",
     "output_type": "stream",
     "text": [
      "Requirement already satisfied: dataframe-image in c:\\users\\daiana_nubi\\anaconda3\\lib\\site-packages (0.1.1)\n",
      "Requirement already satisfied: nbconvert>=5 in c:\\users\\daiana_nubi\\anaconda3\\lib\\site-packages (from dataframe-image) (6.0.7)\n",
      "Requirement already satisfied: aiohttp in c:\\users\\daiana_nubi\\anaconda3\\lib\\site-packages (from dataframe-image) (3.8.1)\n",
      "Requirement already satisfied: beautifulsoup4 in c:\\users\\daiana_nubi\\anaconda3\\lib\\site-packages (from dataframe-image) (4.9.3)\n",
      "Requirement already satisfied: requests in c:\\users\\daiana_nubi\\anaconda3\\lib\\site-packages (from dataframe-image) (2.25.1)\n",
      "Requirement already satisfied: matplotlib>=3.1 in c:\\users\\daiana_nubi\\anaconda3\\lib\\site-packages (from dataframe-image) (3.3.4)\n",
      "Requirement already satisfied: pandas>=0.24 in c:\\users\\daiana_nubi\\anaconda3\\lib\\site-packages (from dataframe-image) (1.2.4)\n",
      "Requirement already satisfied: numpy>=1.15 in c:\\users\\daiana_nubi\\anaconda3\\lib\\site-packages (from matplotlib>=3.1->dataframe-image) (1.20.1)\n",
      "Requirement already satisfied: python-dateutil>=2.1 in c:\\users\\daiana_nubi\\anaconda3\\lib\\site-packages (from matplotlib>=3.1->dataframe-image) (2.8.1)\n",
      "Requirement already satisfied: cycler>=0.10 in c:\\users\\daiana_nubi\\anaconda3\\lib\\site-packages (from matplotlib>=3.1->dataframe-image) (0.10.0)\n",
      "Requirement already satisfied: pyparsing!=2.0.4,!=2.1.2,!=2.1.6,>=2.0.3 in c:\\users\\daiana_nubi\\anaconda3\\lib\\site-packages (from matplotlib>=3.1->dataframe-image) (2.4.7)\n",
      "Requirement already satisfied: kiwisolver>=1.0.1 in c:\\users\\daiana_nubi\\anaconda3\\lib\\site-packages (from matplotlib>=3.1->dataframe-image) (1.3.1)\n",
      "Requirement already satisfied: pillow>=6.2.0 in c:\\users\\daiana_nubi\\anaconda3\\lib\\site-packages (from matplotlib>=3.1->dataframe-image) (8.2.0)\n",
      "Requirement already satisfied: six in c:\\users\\daiana_nubi\\anaconda3\\lib\\site-packages (from cycler>=0.10->matplotlib>=3.1->dataframe-image) (1.15.0)\n",
      "Requirement already satisfied: entrypoints>=0.2.2 in c:\\users\\daiana_nubi\\anaconda3\\lib\\site-packages (from nbconvert>=5->dataframe-image) (0.3)\n",
      "Requirement already satisfied: mistune<2,>=0.8.1 in c:\\users\\daiana_nubi\\anaconda3\\lib\\site-packages (from nbconvert>=5->dataframe-image) (0.8.4)\n",
      "Requirement already satisfied: jinja2>=2.4 in c:\\users\\daiana_nubi\\anaconda3\\lib\\site-packages (from nbconvert>=5->dataframe-image) (2.11.3)\n",
      "Requirement already satisfied: testpath in c:\\users\\daiana_nubi\\anaconda3\\lib\\site-packages (from nbconvert>=5->dataframe-image) (0.4.4)\n",
      "Requirement already satisfied: pandocfilters>=1.4.1 in c:\\users\\daiana_nubi\\anaconda3\\lib\\site-packages (from nbconvert>=5->dataframe-image) (1.4.3)\n",
      "Requirement already satisfied: traitlets>=4.2 in c:\\users\\daiana_nubi\\anaconda3\\lib\\site-packages (from nbconvert>=5->dataframe-image) (5.0.5)\n",
      "Requirement already satisfied: nbclient<0.6.0,>=0.5.0 in c:\\users\\daiana_nubi\\anaconda3\\lib\\site-packages (from nbconvert>=5->dataframe-image) (0.5.3)\n",
      "Requirement already satisfied: jupyter-core in c:\\users\\daiana_nubi\\anaconda3\\lib\\site-packages (from nbconvert>=5->dataframe-image) (4.7.1)\n",
      "Requirement already satisfied: pygments>=2.4.1 in c:\\users\\daiana_nubi\\anaconda3\\lib\\site-packages (from nbconvert>=5->dataframe-image) (2.8.1)\n",
      "Requirement already satisfied: defusedxml in c:\\users\\daiana_nubi\\anaconda3\\lib\\site-packages (from nbconvert>=5->dataframe-image) (0.7.1)\n",
      "Requirement already satisfied: nbformat>=4.4 in c:\\users\\daiana_nubi\\anaconda3\\lib\\site-packages (from nbconvert>=5->dataframe-image) (5.1.3)\n",
      "Requirement already satisfied: jupyterlab-pygments in c:\\users\\daiana_nubi\\anaconda3\\lib\\site-packages (from nbconvert>=5->dataframe-image) (0.1.2)\n",
      "Requirement already satisfied: bleach in c:\\users\\daiana_nubi\\anaconda3\\lib\\site-packages (from nbconvert>=5->dataframe-image) (3.3.0)\n",
      "Requirement already satisfied: MarkupSafe>=0.23 in c:\\users\\daiana_nubi\\anaconda3\\lib\\site-packages (from jinja2>=2.4->nbconvert>=5->dataframe-image) (1.1.1)\n",
      "Requirement already satisfied: async-generator in c:\\users\\daiana_nubi\\anaconda3\\lib\\site-packages (from nbclient<0.6.0,>=0.5.0->nbconvert>=5->dataframe-image) (1.10)\n",
      "Requirement already satisfied: jupyter-client>=6.1.5 in c:\\users\\daiana_nubi\\anaconda3\\lib\\site-packages (from nbclient<0.6.0,>=0.5.0->nbconvert>=5->dataframe-image) (6.1.12)\n",
      "Requirement already satisfied: nest-asyncio in c:\\users\\daiana_nubi\\anaconda3\\lib\\site-packages (from nbclient<0.6.0,>=0.5.0->nbconvert>=5->dataframe-image) (1.5.1)\n",
      "Requirement already satisfied: tornado>=4.1 in c:\\users\\daiana_nubi\\anaconda3\\lib\\site-packages (from jupyter-client>=6.1.5->nbclient<0.6.0,>=0.5.0->nbconvert>=5->dataframe-image) (6.1)\n",
      "Requirement already satisfied: pyzmq>=13 in c:\\users\\daiana_nubi\\anaconda3\\lib\\site-packages (from jupyter-client>=6.1.5->nbclient<0.6.0,>=0.5.0->nbconvert>=5->dataframe-image) (20.0.0)\n",
      "Requirement already satisfied: pywin32>=1.0 in c:\\users\\daiana_nubi\\anaconda3\\lib\\site-packages (from jupyter-core->nbconvert>=5->dataframe-image) (227)\n",
      "Requirement already satisfied: ipython-genutils in c:\\users\\daiana_nubi\\anaconda3\\lib\\site-packages (from nbformat>=4.4->nbconvert>=5->dataframe-image) (0.2.0)\n",
      "Requirement already satisfied: jsonschema!=2.5.0,>=2.4 in c:\\users\\daiana_nubi\\anaconda3\\lib\\site-packages (from nbformat>=4.4->nbconvert>=5->dataframe-image) (3.2.0)\n",
      "Requirement already satisfied: setuptools in c:\\users\\daiana_nubi\\anaconda3\\lib\\site-packages (from jsonschema!=2.5.0,>=2.4->nbformat>=4.4->nbconvert>=5->dataframe-image) (52.0.0.post20210125)\n",
      "Requirement already satisfied: pyrsistent>=0.14.0 in c:\\users\\daiana_nubi\\anaconda3\\lib\\site-packages (from jsonschema!=2.5.0,>=2.4->nbformat>=4.4->nbconvert>=5->dataframe-image) (0.17.3)\n",
      "Requirement already satisfied: attrs>=17.4.0 in c:\\users\\daiana_nubi\\anaconda3\\lib\\site-packages (from jsonschema!=2.5.0,>=2.4->nbformat>=4.4->nbconvert>=5->dataframe-image) (20.3.0)\n",
      "Requirement already satisfied: pytz>=2017.3 in c:\\users\\daiana_nubi\\anaconda3\\lib\\site-packages (from pandas>=0.24->dataframe-image) (2021.1)\n",
      "Requirement already satisfied: charset-normalizer<3.0,>=2.0 in c:\\users\\daiana_nubi\\anaconda3\\lib\\site-packages (from aiohttp->dataframe-image) (2.0.12)\n",
      "Requirement already satisfied: async-timeout<5.0,>=4.0.0a3 in c:\\users\\daiana_nubi\\anaconda3\\lib\\site-packages (from aiohttp->dataframe-image) (4.0.2)\n",
      "Requirement already satisfied: frozenlist>=1.1.1 in c:\\users\\daiana_nubi\\anaconda3\\lib\\site-packages (from aiohttp->dataframe-image) (1.3.0)\n",
      "Requirement already satisfied: yarl<2.0,>=1.0 in c:\\users\\daiana_nubi\\anaconda3\\lib\\site-packages (from aiohttp->dataframe-image) (1.7.2)\n",
      "Requirement already satisfied: aiosignal>=1.1.2 in c:\\users\\daiana_nubi\\anaconda3\\lib\\site-packages (from aiohttp->dataframe-image) (1.2.0)\n",
      "Requirement already satisfied: multidict<7.0,>=4.5 in c:\\users\\daiana_nubi\\anaconda3\\lib\\site-packages (from aiohttp->dataframe-image) (6.0.2)\n",
      "Requirement already satisfied: idna>=2.0 in c:\\users\\daiana_nubi\\anaconda3\\lib\\site-packages (from yarl<2.0,>=1.0->aiohttp->dataframe-image) (2.10)\n",
      "Requirement already satisfied: soupsieve>1.2 in c:\\users\\daiana_nubi\\anaconda3\\lib\\site-packages (from beautifulsoup4->dataframe-image) (2.2.1)\n",
      "Requirement already satisfied: webencodings in c:\\users\\daiana_nubi\\anaconda3\\lib\\site-packages (from bleach->nbconvert>=5->dataframe-image) (0.5.1)\n",
      "Requirement already satisfied: packaging in c:\\users\\daiana_nubi\\anaconda3\\lib\\site-packages (from bleach->nbconvert>=5->dataframe-image) (20.9)\n",
      "Requirement already satisfied: certifi>=2017.4.17 in c:\\users\\daiana_nubi\\anaconda3\\lib\\site-packages (from requests->dataframe-image) (2020.12.5)\n",
      "Requirement already satisfied: chardet<5,>=3.0.2 in c:\\users\\daiana_nubi\\anaconda3\\lib\\site-packages (from requests->dataframe-image) (4.0.0)\n",
      "Requirement already satisfied: urllib3<1.27,>=1.21.1 in c:\\users\\daiana_nubi\\anaconda3\\lib\\site-packages (from requests->dataframe-image) (1.26.4)\n",
      "Note: you may need to restart the kernel to use updated packages.\n"
     ]
    }
   ],
   "source": [
    "pip install dataframe-image"
   ]
  },
  {
   "cell_type": "code",
   "execution_count": 1238,
   "id": "7dd5fcdb",
   "metadata": {},
   "outputs": [],
   "source": [
    "from pygrowup import Calculator\n",
    "# helpers contains optional utilities for formatting dates, etc\n",
    "from pygrowup import helpers"
   ]
  },
  {
   "cell_type": "code",
   "execution_count": 1239,
   "id": "f3c024a0",
   "metadata": {},
   "outputs": [],
   "source": [
    "import dataframe_image as dfi"
   ]
  },
  {
   "cell_type": "code",
   "execution_count": 1240,
   "id": "a5e785bd",
   "metadata": {},
   "outputs": [],
   "source": [
    "filename = 'data/controles.csv'\n",
    "df = pd.read_csv(filename, sep=';')"
   ]
  },
  {
   "cell_type": "code",
   "execution_count": 1241,
   "id": "2a04d5b9",
   "metadata": {},
   "outputs": [
    {
     "data": {
      "text/html": [
       "<div>\n",
       "<style scoped>\n",
       "    .dataframe tbody tr th:only-of-type {\n",
       "        vertical-align: middle;\n",
       "    }\n",
       "\n",
       "    .dataframe tbody tr th {\n",
       "        vertical-align: top;\n",
       "    }\n",
       "\n",
       "    .dataframe thead th {\n",
       "        text-align: right;\n",
       "    }\n",
       "</style>\n",
       "<table border=\"1\" class=\"dataframe\">\n",
       "  <thead>\n",
       "    <tr style=\"text-align: right;\">\n",
       "      <th></th>\n",
       "      <th>id_individuo</th>\n",
       "      <th>sexo</th>\n",
       "      <th>peso</th>\n",
       "      <th>talla</th>\n",
       "      <th>edad_dias</th>\n",
       "    </tr>\n",
       "  </thead>\n",
       "  <tbody>\n",
       "    <tr>\n",
       "      <th>0</th>\n",
       "      <td>1</td>\n",
       "      <td>F</td>\n",
       "      <td>18,6</td>\n",
       "      <td>104.0</td>\n",
       "      <td>1964.0</td>\n",
       "    </tr>\n",
       "    <tr>\n",
       "      <th>1</th>\n",
       "      <td>1</td>\n",
       "      <td>F</td>\n",
       "      <td>23,5</td>\n",
       "      <td>115.0</td>\n",
       "      <td>2615.0</td>\n",
       "    </tr>\n",
       "    <tr>\n",
       "      <th>2</th>\n",
       "      <td>2</td>\n",
       "      <td>M</td>\n",
       "      <td>7,8</td>\n",
       "      <td>59.0</td>\n",
       "      <td>168.0</td>\n",
       "    </tr>\n",
       "    <tr>\n",
       "      <th>3</th>\n",
       "      <td>2</td>\n",
       "      <td>M</td>\n",
       "      <td>7,8</td>\n",
       "      <td>66.0</td>\n",
       "      <td>193.0</td>\n",
       "    </tr>\n",
       "    <tr>\n",
       "      <th>4</th>\n",
       "      <td>3</td>\n",
       "      <td>F</td>\n",
       "      <td>34,6</td>\n",
       "      <td>141.0</td>\n",
       "      <td>3573.0</td>\n",
       "    </tr>\n",
       "  </tbody>\n",
       "</table>\n",
       "</div>"
      ],
      "text/plain": [
       "   id_individuo sexo  peso  talla  edad_dias\n",
       "0             1    F  18,6  104.0     1964.0\n",
       "1             1    F  23,5  115.0     2615.0\n",
       "2             2    M   7,8   59.0      168.0\n",
       "3             2    M   7,8   66.0      193.0\n",
       "4             3    F  34,6  141.0     3573.0"
      ]
     },
     "execution_count": 1241,
     "metadata": {},
     "output_type": "execute_result"
    }
   ],
   "source": [
    "df.head()"
   ]
  },
  {
   "cell_type": "code",
   "execution_count": 1242,
   "id": "1e61b561",
   "metadata": {},
   "outputs": [
    {
     "data": {
      "text/plain": [
       "(1161406, 5)"
      ]
     },
     "execution_count": 1242,
     "metadata": {},
     "output_type": "execute_result"
    }
   ],
   "source": [
    "df.shape"
   ]
  },
  {
   "cell_type": "code",
   "execution_count": 1243,
   "id": "8fcec3f8",
   "metadata": {},
   "outputs": [],
   "source": [
    "shape_original = df.shape[0]"
   ]
  },
  {
   "cell_type": "code",
   "execution_count": 1244,
   "id": "6fe3f306",
   "metadata": {},
   "outputs": [
    {
     "name": "stdout",
     "output_type": "stream",
     "text": [
      "<class 'pandas.core.frame.DataFrame'>\n",
      "RangeIndex: 1161406 entries, 0 to 1161405\n",
      "Data columns (total 5 columns):\n",
      " #   Column        Non-Null Count    Dtype  \n",
      "---  ------        --------------    -----  \n",
      " 0   id_individuo  1161406 non-null  int64  \n",
      " 1   sexo          1161219 non-null  object \n",
      " 2   peso          1161232 non-null  object \n",
      " 3   talla         1161292 non-null  float64\n",
      " 4   edad_dias     1161393 non-null  float64\n",
      "dtypes: float64(2), int64(1), object(2)\n",
      "memory usage: 44.3+ MB\n"
     ]
    }
   ],
   "source": [
    "df.info() \n",
    "# sexo tiene 187 nulos\n",
    "# peso       174\n",
    "# talla      114\n",
    "# edad        13"
   ]
  },
  {
   "cell_type": "code",
   "execution_count": 1245,
   "id": "ea7f1aa5",
   "metadata": {},
   "outputs": [],
   "source": [
    "# Pasar peso a float - OJO con la coma!\n",
    "df['peso'] = df['peso'].replace(',', '.', regex=True)\n",
    "df['peso'] = df['peso'].apply(lambda x: float(x))"
   ]
  },
  {
   "cell_type": "code",
   "execution_count": 1246,
   "id": "516ed368",
   "metadata": {},
   "outputs": [
    {
     "data": {
      "text/plain": [
       "numpy.float64"
      ]
     },
     "execution_count": 1246,
     "metadata": {},
     "output_type": "execute_result"
    }
   ],
   "source": [
    "type(df['peso'][0])"
   ]
  },
  {
   "cell_type": "markdown",
   "id": "66e2c109",
   "metadata": {},
   "source": [
    "### Individuo"
   ]
  },
  {
   "cell_type": "code",
   "execution_count": 1247,
   "id": "aba5e1fb",
   "metadata": {},
   "outputs": [
    {
     "data": {
      "text/plain": [
       "148519    15\n",
       "240592    15\n",
       "167724    15\n",
       "125839    15\n",
       "138005    15\n",
       "          ..\n",
       "112077     2\n",
       "107983     2\n",
       "89552      2\n",
       "87505      2\n",
       "2047       2\n",
       "Name: id_individuo, Length: 300000, dtype: int64"
      ]
     },
     "execution_count": 1247,
     "metadata": {},
     "output_type": "execute_result"
    }
   ],
   "source": [
    "df['id_individuo'].value_counts() #La cantidad de mediciones por individuo va de 2 a 15"
   ]
  },
  {
   "cell_type": "code",
   "execution_count": 1248,
   "id": "975517fe",
   "metadata": {},
   "outputs": [
    {
     "name": "stdout",
     "output_type": "stream",
     "text": [
      "cant. valores: 300000\n",
      "min: 1\n",
      "max: 300000\n"
     ]
    }
   ],
   "source": [
    "print('cant. valores:', len(df['id_individuo'].value_counts())) # Se corresponde con los 300 mil individuos \n",
    "print('min:', df['id_individuo'].min())\n",
    "print('max:', df['id_individuo'].max())"
   ]
  },
  {
   "cell_type": "markdown",
   "id": "1a29c440",
   "metadata": {},
   "source": [
    "### Sexo"
   ]
  },
  {
   "cell_type": "code",
   "execution_count": 1249,
   "id": "bdfafe26",
   "metadata": {},
   "outputs": [
    {
     "data": {
      "text/plain": [
       "array(['F', 'M', nan, 'f', 'm', 'k'], dtype=object)"
      ]
     },
     "execution_count": 1249,
     "metadata": {},
     "output_type": "execute_result"
    }
   ],
   "source": [
    "df['sexo'].unique() \n",
    "# Hacer match F-f y M-m\n",
    "# Verificar si hay más info para los individuos con k y sino convertir a Nan"
   ]
  },
  {
   "cell_type": "code",
   "execution_count": 1250,
   "id": "5c593299",
   "metadata": {},
   "outputs": [
    {
     "data": {
      "text/plain": [
       "F    586580\n",
       "M    574599\n",
       "f        20\n",
       "m        18\n",
       "k         2\n",
       "Name: sexo, dtype: int64"
      ]
     },
     "execution_count": 1250,
     "metadata": {},
     "output_type": "execute_result"
    }
   ],
   "source": [
    "df['sexo'].value_counts() \n",
    "# 0.5051\n",
    "# 0.4948\n",
    "# "
   ]
  },
  {
   "cell_type": "code",
   "execution_count": 1251,
   "id": "8e3cd698",
   "metadata": {},
   "outputs": [
    {
     "data": {
      "text/html": [
       "<div>\n",
       "<style scoped>\n",
       "    .dataframe tbody tr th:only-of-type {\n",
       "        vertical-align: middle;\n",
       "    }\n",
       "\n",
       "    .dataframe tbody tr th {\n",
       "        vertical-align: top;\n",
       "    }\n",
       "\n",
       "    .dataframe thead th {\n",
       "        text-align: right;\n",
       "    }\n",
       "</style>\n",
       "<table border=\"1\" class=\"dataframe\">\n",
       "  <thead>\n",
       "    <tr style=\"text-align: right;\">\n",
       "      <th></th>\n",
       "      <th>id_individuo</th>\n",
       "      <th>sexo</th>\n",
       "      <th>peso</th>\n",
       "      <th>talla</th>\n",
       "      <th>edad_dias</th>\n",
       "    </tr>\n",
       "  </thead>\n",
       "  <tbody>\n",
       "    <tr>\n",
       "      <th>364821</th>\n",
       "      <td>94319</td>\n",
       "      <td>k</td>\n",
       "      <td>52.5</td>\n",
       "      <td>161.0</td>\n",
       "      <td>4869.0</td>\n",
       "    </tr>\n",
       "    <tr>\n",
       "      <th>499713</th>\n",
       "      <td>129122</td>\n",
       "      <td>k</td>\n",
       "      <td>19.4</td>\n",
       "      <td>110.0</td>\n",
       "      <td>1924.0</td>\n",
       "    </tr>\n",
       "  </tbody>\n",
       "</table>\n",
       "</div>"
      ],
      "text/plain": [
       "        id_individuo sexo  peso  talla  edad_dias\n",
       "364821         94319    k  52.5  161.0     4869.0\n",
       "499713        129122    k  19.4  110.0     1924.0"
      ]
     },
     "execution_count": 1251,
     "metadata": {},
     "output_type": "execute_result"
    }
   ],
   "source": [
    "df[df['sexo']=='k']"
   ]
  },
  {
   "cell_type": "code",
   "execution_count": 1252,
   "id": "fec3ea00",
   "metadata": {
    "scrolled": true
   },
   "outputs": [
    {
     "data": {
      "text/html": [
       "<div>\n",
       "<style scoped>\n",
       "    .dataframe tbody tr th:only-of-type {\n",
       "        vertical-align: middle;\n",
       "    }\n",
       "\n",
       "    .dataframe tbody tr th {\n",
       "        vertical-align: top;\n",
       "    }\n",
       "\n",
       "    .dataframe thead th {\n",
       "        text-align: right;\n",
       "    }\n",
       "</style>\n",
       "<table border=\"1\" class=\"dataframe\">\n",
       "  <thead>\n",
       "    <tr style=\"text-align: right;\">\n",
       "      <th></th>\n",
       "      <th>id_individuo</th>\n",
       "      <th>sexo</th>\n",
       "      <th>peso</th>\n",
       "      <th>talla</th>\n",
       "      <th>edad_dias</th>\n",
       "    </tr>\n",
       "  </thead>\n",
       "  <tbody>\n",
       "    <tr>\n",
       "      <th>364821</th>\n",
       "      <td>94319</td>\n",
       "      <td>k</td>\n",
       "      <td>52.5</td>\n",
       "      <td>161.0</td>\n",
       "      <td>4869.0</td>\n",
       "    </tr>\n",
       "    <tr>\n",
       "      <th>364822</th>\n",
       "      <td>94319</td>\n",
       "      <td>M</td>\n",
       "      <td>52.5</td>\n",
       "      <td>151.0</td>\n",
       "      <td>5008.0</td>\n",
       "    </tr>\n",
       "  </tbody>\n",
       "</table>\n",
       "</div>"
      ],
      "text/plain": [
       "        id_individuo sexo  peso  talla  edad_dias\n",
       "364821         94319    k  52.5  161.0     4869.0\n",
       "364822         94319    M  52.5  151.0     5008.0"
      ]
     },
     "execution_count": 1252,
     "metadata": {},
     "output_type": "execute_result"
    }
   ],
   "source": [
    "df[df['id_individuo']==94319] # es masculino"
   ]
  },
  {
   "cell_type": "code",
   "execution_count": 1253,
   "id": "f880beb0",
   "metadata": {},
   "outputs": [],
   "source": [
    "df.loc[364821, 'sexo'] = 'M'"
   ]
  },
  {
   "cell_type": "code",
   "execution_count": 1254,
   "id": "4c66c66a",
   "metadata": {
    "scrolled": true
   },
   "outputs": [
    {
     "data": {
      "text/html": [
       "<div>\n",
       "<style scoped>\n",
       "    .dataframe tbody tr th:only-of-type {\n",
       "        vertical-align: middle;\n",
       "    }\n",
       "\n",
       "    .dataframe tbody tr th {\n",
       "        vertical-align: top;\n",
       "    }\n",
       "\n",
       "    .dataframe thead th {\n",
       "        text-align: right;\n",
       "    }\n",
       "</style>\n",
       "<table border=\"1\" class=\"dataframe\">\n",
       "  <thead>\n",
       "    <tr style=\"text-align: right;\">\n",
       "      <th></th>\n",
       "      <th>id_individuo</th>\n",
       "      <th>sexo</th>\n",
       "      <th>peso</th>\n",
       "      <th>talla</th>\n",
       "      <th>edad_dias</th>\n",
       "    </tr>\n",
       "  </thead>\n",
       "  <tbody>\n",
       "    <tr>\n",
       "      <th>499706</th>\n",
       "      <td>129122</td>\n",
       "      <td>F</td>\n",
       "      <td>7.1</td>\n",
       "      <td>70.0</td>\n",
       "      <td>378.0</td>\n",
       "    </tr>\n",
       "    <tr>\n",
       "      <th>499707</th>\n",
       "      <td>129122</td>\n",
       "      <td>F</td>\n",
       "      <td>8.2</td>\n",
       "      <td>76.0</td>\n",
       "      <td>532.0</td>\n",
       "    </tr>\n",
       "    <tr>\n",
       "      <th>499708</th>\n",
       "      <td>129122</td>\n",
       "      <td>F</td>\n",
       "      <td>13.5</td>\n",
       "      <td>89.0</td>\n",
       "      <td>776.0</td>\n",
       "    </tr>\n",
       "    <tr>\n",
       "      <th>499709</th>\n",
       "      <td>129122</td>\n",
       "      <td>F</td>\n",
       "      <td>10.2</td>\n",
       "      <td>86.0</td>\n",
       "      <td>994.0</td>\n",
       "    </tr>\n",
       "    <tr>\n",
       "      <th>499710</th>\n",
       "      <td>129122</td>\n",
       "      <td>F</td>\n",
       "      <td>14.3</td>\n",
       "      <td>96.0</td>\n",
       "      <td>1161.0</td>\n",
       "    </tr>\n",
       "    <tr>\n",
       "      <th>499711</th>\n",
       "      <td>129122</td>\n",
       "      <td>F</td>\n",
       "      <td>11.2</td>\n",
       "      <td>91.0</td>\n",
       "      <td>1197.0</td>\n",
       "    </tr>\n",
       "    <tr>\n",
       "      <th>499712</th>\n",
       "      <td>129122</td>\n",
       "      <td>F</td>\n",
       "      <td>18.4</td>\n",
       "      <td>109.0</td>\n",
       "      <td>1894.0</td>\n",
       "    </tr>\n",
       "    <tr>\n",
       "      <th>499713</th>\n",
       "      <td>129122</td>\n",
       "      <td>k</td>\n",
       "      <td>19.4</td>\n",
       "      <td>110.0</td>\n",
       "      <td>1924.0</td>\n",
       "    </tr>\n",
       "    <tr>\n",
       "      <th>499714</th>\n",
       "      <td>129122</td>\n",
       "      <td>F</td>\n",
       "      <td>21.4</td>\n",
       "      <td>116.0</td>\n",
       "      <td>2324.0</td>\n",
       "    </tr>\n",
       "  </tbody>\n",
       "</table>\n",
       "</div>"
      ],
      "text/plain": [
       "        id_individuo sexo  peso  talla  edad_dias\n",
       "499706        129122    F   7.1   70.0      378.0\n",
       "499707        129122    F   8.2   76.0      532.0\n",
       "499708        129122    F  13.5   89.0      776.0\n",
       "499709        129122    F  10.2   86.0      994.0\n",
       "499710        129122    F  14.3   96.0     1161.0\n",
       "499711        129122    F  11.2   91.0     1197.0\n",
       "499712        129122    F  18.4  109.0     1894.0\n",
       "499713        129122    k  19.4  110.0     1924.0\n",
       "499714        129122    F  21.4  116.0     2324.0"
      ]
     },
     "execution_count": 1254,
     "metadata": {},
     "output_type": "execute_result"
    }
   ],
   "source": [
    "df[df['id_individuo']==129122] # es femenino"
   ]
  },
  {
   "cell_type": "code",
   "execution_count": 1255,
   "id": "5ff353c4",
   "metadata": {},
   "outputs": [],
   "source": [
    "df.loc[499713, 'sexo'] = 'F'"
   ]
  },
  {
   "cell_type": "code",
   "execution_count": 1256,
   "id": "9e779edf",
   "metadata": {},
   "outputs": [
    {
     "data": {
      "text/plain": [
       "F    586601\n",
       "M    574618\n",
       "Name: sexo, dtype: int64"
      ]
     },
     "execution_count": 1256,
     "metadata": {},
     "output_type": "execute_result"
    }
   ],
   "source": [
    "df['sexo'] = df['sexo'].replace('f','F',regex=True)\n",
    "df['sexo'] = df['sexo'].replace('m','M',regex=True)\n",
    "df['sexo'].value_counts()"
   ]
  },
  {
   "cell_type": "code",
   "execution_count": 1257,
   "id": "cdcef72b",
   "metadata": {},
   "outputs": [
    {
     "data": {
      "text/plain": [
       "300000"
      ]
     },
     "execution_count": 1257,
     "metadata": {},
     "output_type": "execute_result"
    }
   ],
   "source": [
    "df['id_individuo'].nunique()"
   ]
  },
  {
   "cell_type": "code",
   "execution_count": 1258,
   "id": "ba455ba0",
   "metadata": {},
   "outputs": [
    {
     "data": {
      "text/plain": [
       "300018"
      ]
     },
     "execution_count": 1258,
     "metadata": {},
     "output_type": "execute_result"
    }
   ],
   "source": [
    "df.groupby(['id_individuo', 'sexo']).count()['edad_dias'].reset_index().shape[0] \n",
    "# si hubiese solo uno para cada uno la longitud de esto debería ser igual a la cantidad de individuos únicos - y no lo es"
   ]
  },
  {
   "cell_type": "code",
   "execution_count": 1259,
   "id": "f4d132c9",
   "metadata": {},
   "outputs": [],
   "source": [
    "df_sexo = df.groupby(['id_individuo', 'sexo']).count()['edad_dias'].reset_index()"
   ]
  },
  {
   "cell_type": "code",
   "execution_count": 1260,
   "id": "e6a472de",
   "metadata": {},
   "outputs": [],
   "source": [
    "ids_indiv = df_sexo[df_sexo.duplicated(['id_individuo'])]['id_individuo']"
   ]
  },
  {
   "cell_type": "code",
   "execution_count": 1261,
   "id": "c9238a58",
   "metadata": {},
   "outputs": [
    {
     "data": {
      "text/plain": [
       "18"
      ]
     },
     "execution_count": 1261,
     "metadata": {},
     "output_type": "execute_result"
    }
   ],
   "source": [
    "len(ids_indiv)"
   ]
  },
  {
   "cell_type": "code",
   "execution_count": 1262,
   "id": "91a373b8",
   "metadata": {},
   "outputs": [
    {
     "data": {
      "text/html": [
       "<div>\n",
       "<style scoped>\n",
       "    .dataframe tbody tr th:only-of-type {\n",
       "        vertical-align: middle;\n",
       "    }\n",
       "\n",
       "    .dataframe tbody tr th {\n",
       "        vertical-align: top;\n",
       "    }\n",
       "\n",
       "    .dataframe thead th {\n",
       "        text-align: right;\n",
       "    }\n",
       "</style>\n",
       "<table border=\"1\" class=\"dataframe\">\n",
       "  <thead>\n",
       "    <tr style=\"text-align: right;\">\n",
       "      <th></th>\n",
       "      <th>id_individuo</th>\n",
       "      <th>sexo</th>\n",
       "      <th>edad_dias</th>\n",
       "    </tr>\n",
       "  </thead>\n",
       "  <tbody>\n",
       "    <tr>\n",
       "      <th>31983</th>\n",
       "      <td>31984</td>\n",
       "      <td>F</td>\n",
       "      <td>1</td>\n",
       "    </tr>\n",
       "    <tr>\n",
       "      <th>31984</th>\n",
       "      <td>31984</td>\n",
       "      <td>M</td>\n",
       "      <td>5</td>\n",
       "    </tr>\n",
       "    <tr>\n",
       "      <th>40707</th>\n",
       "      <td>40707</td>\n",
       "      <td>F</td>\n",
       "      <td>1</td>\n",
       "    </tr>\n",
       "    <tr>\n",
       "      <th>40708</th>\n",
       "      <td>40707</td>\n",
       "      <td>M</td>\n",
       "      <td>3</td>\n",
       "    </tr>\n",
       "    <tr>\n",
       "      <th>58797</th>\n",
       "      <td>58796</td>\n",
       "      <td>F</td>\n",
       "      <td>1</td>\n",
       "    </tr>\n",
       "    <tr>\n",
       "      <th>58798</th>\n",
       "      <td>58796</td>\n",
       "      <td>M</td>\n",
       "      <td>3</td>\n",
       "    </tr>\n",
       "    <tr>\n",
       "      <th>60335</th>\n",
       "      <td>60333</td>\n",
       "      <td>F</td>\n",
       "      <td>1</td>\n",
       "    </tr>\n",
       "    <tr>\n",
       "      <th>60336</th>\n",
       "      <td>60333</td>\n",
       "      <td>M</td>\n",
       "      <td>3</td>\n",
       "    </tr>\n",
       "    <tr>\n",
       "      <th>95716</th>\n",
       "      <td>95713</td>\n",
       "      <td>F</td>\n",
       "      <td>1</td>\n",
       "    </tr>\n",
       "    <tr>\n",
       "      <th>95717</th>\n",
       "      <td>95713</td>\n",
       "      <td>M</td>\n",
       "      <td>8</td>\n",
       "    </tr>\n",
       "    <tr>\n",
       "      <th>102795</th>\n",
       "      <td>102791</td>\n",
       "      <td>F</td>\n",
       "      <td>1</td>\n",
       "    </tr>\n",
       "    <tr>\n",
       "      <th>102796</th>\n",
       "      <td>102791</td>\n",
       "      <td>M</td>\n",
       "      <td>1</td>\n",
       "    </tr>\n",
       "    <tr>\n",
       "      <th>130579</th>\n",
       "      <td>130574</td>\n",
       "      <td>F</td>\n",
       "      <td>6</td>\n",
       "    </tr>\n",
       "    <tr>\n",
       "      <th>130580</th>\n",
       "      <td>130574</td>\n",
       "      <td>M</td>\n",
       "      <td>1</td>\n",
       "    </tr>\n",
       "    <tr>\n",
       "      <th>149703</th>\n",
       "      <td>149697</td>\n",
       "      <td>F</td>\n",
       "      <td>3</td>\n",
       "    </tr>\n",
       "    <tr>\n",
       "      <th>149704</th>\n",
       "      <td>149697</td>\n",
       "      <td>M</td>\n",
       "      <td>1</td>\n",
       "    </tr>\n",
       "    <tr>\n",
       "      <th>157303</th>\n",
       "      <td>157296</td>\n",
       "      <td>F</td>\n",
       "      <td>1</td>\n",
       "    </tr>\n",
       "    <tr>\n",
       "      <th>157304</th>\n",
       "      <td>157296</td>\n",
       "      <td>M</td>\n",
       "      <td>2</td>\n",
       "    </tr>\n",
       "    <tr>\n",
       "      <th>157539</th>\n",
       "      <td>157531</td>\n",
       "      <td>F</td>\n",
       "      <td>1</td>\n",
       "    </tr>\n",
       "    <tr>\n",
       "      <th>157540</th>\n",
       "      <td>157531</td>\n",
       "      <td>M</td>\n",
       "      <td>3</td>\n",
       "    </tr>\n",
       "    <tr>\n",
       "      <th>165824</th>\n",
       "      <td>165815</td>\n",
       "      <td>F</td>\n",
       "      <td>1</td>\n",
       "    </tr>\n",
       "    <tr>\n",
       "      <th>165825</th>\n",
       "      <td>165815</td>\n",
       "      <td>M</td>\n",
       "      <td>2</td>\n",
       "    </tr>\n",
       "    <tr>\n",
       "      <th>166525</th>\n",
       "      <td>166515</td>\n",
       "      <td>F</td>\n",
       "      <td>4</td>\n",
       "    </tr>\n",
       "    <tr>\n",
       "      <th>166526</th>\n",
       "      <td>166515</td>\n",
       "      <td>M</td>\n",
       "      <td>1</td>\n",
       "    </tr>\n",
       "    <tr>\n",
       "      <th>174935</th>\n",
       "      <td>174924</td>\n",
       "      <td>F</td>\n",
       "      <td>4</td>\n",
       "    </tr>\n",
       "    <tr>\n",
       "      <th>174936</th>\n",
       "      <td>174924</td>\n",
       "      <td>M</td>\n",
       "      <td>1</td>\n",
       "    </tr>\n",
       "    <tr>\n",
       "      <th>181018</th>\n",
       "      <td>181006</td>\n",
       "      <td>F</td>\n",
       "      <td>3</td>\n",
       "    </tr>\n",
       "    <tr>\n",
       "      <th>181019</th>\n",
       "      <td>181006</td>\n",
       "      <td>M</td>\n",
       "      <td>1</td>\n",
       "    </tr>\n",
       "    <tr>\n",
       "      <th>205025</th>\n",
       "      <td>205012</td>\n",
       "      <td>F</td>\n",
       "      <td>1</td>\n",
       "    </tr>\n",
       "    <tr>\n",
       "      <th>205026</th>\n",
       "      <td>205012</td>\n",
       "      <td>M</td>\n",
       "      <td>2</td>\n",
       "    </tr>\n",
       "    <tr>\n",
       "      <th>217855</th>\n",
       "      <td>217841</td>\n",
       "      <td>F</td>\n",
       "      <td>4</td>\n",
       "    </tr>\n",
       "    <tr>\n",
       "      <th>217856</th>\n",
       "      <td>217841</td>\n",
       "      <td>M</td>\n",
       "      <td>1</td>\n",
       "    </tr>\n",
       "    <tr>\n",
       "      <th>251266</th>\n",
       "      <td>251251</td>\n",
       "      <td>F</td>\n",
       "      <td>1</td>\n",
       "    </tr>\n",
       "    <tr>\n",
       "      <th>251267</th>\n",
       "      <td>251251</td>\n",
       "      <td>M</td>\n",
       "      <td>3</td>\n",
       "    </tr>\n",
       "    <tr>\n",
       "      <th>279812</th>\n",
       "      <td>279796</td>\n",
       "      <td>F</td>\n",
       "      <td>4</td>\n",
       "    </tr>\n",
       "    <tr>\n",
       "      <th>279813</th>\n",
       "      <td>279796</td>\n",
       "      <td>M</td>\n",
       "      <td>1</td>\n",
       "    </tr>\n",
       "  </tbody>\n",
       "</table>\n",
       "</div>"
      ],
      "text/plain": [
       "        id_individuo sexo  edad_dias\n",
       "31983          31984    F          1\n",
       "31984          31984    M          5\n",
       "40707          40707    F          1\n",
       "40708          40707    M          3\n",
       "58797          58796    F          1\n",
       "58798          58796    M          3\n",
       "60335          60333    F          1\n",
       "60336          60333    M          3\n",
       "95716          95713    F          1\n",
       "95717          95713    M          8\n",
       "102795        102791    F          1\n",
       "102796        102791    M          1\n",
       "130579        130574    F          6\n",
       "130580        130574    M          1\n",
       "149703        149697    F          3\n",
       "149704        149697    M          1\n",
       "157303        157296    F          1\n",
       "157304        157296    M          2\n",
       "157539        157531    F          1\n",
       "157540        157531    M          3\n",
       "165824        165815    F          1\n",
       "165825        165815    M          2\n",
       "166525        166515    F          4\n",
       "166526        166515    M          1\n",
       "174935        174924    F          4\n",
       "174936        174924    M          1\n",
       "181018        181006    F          3\n",
       "181019        181006    M          1\n",
       "205025        205012    F          1\n",
       "205026        205012    M          2\n",
       "217855        217841    F          4\n",
       "217856        217841    M          1\n",
       "251266        251251    F          1\n",
       "251267        251251    M          3\n",
       "279812        279796    F          4\n",
       "279813        279796    M          1"
      ]
     },
     "execution_count": 1262,
     "metadata": {},
     "output_type": "execute_result"
    }
   ],
   "source": [
    "df_sexo[df_sexo['id_individuo'].isin(ids_indiv)]"
   ]
  },
  {
   "cell_type": "code",
   "execution_count": 1263,
   "id": "529b3bb6",
   "metadata": {},
   "outputs": [
    {
     "data": {
      "text/plain": [
       "95713     9\n",
       "130574    7\n",
       "31984     6\n",
       "279796    5\n",
       "174924    5\n",
       "166515    5\n",
       "217841    5\n",
       "181006    4\n",
       "157531    4\n",
       "40707     4\n",
       "149697    4\n",
       "60333     4\n",
       "58796     4\n",
       "251251    4\n",
       "205012    3\n",
       "165815    3\n",
       "157296    3\n",
       "102791    2\n",
       "Name: id_individuo, dtype: int64"
      ]
     },
     "execution_count": 1263,
     "metadata": {},
     "output_type": "execute_result"
    }
   ],
   "source": [
    "df[df['id_individuo'].isin(ids_indiv)]['id_individuo'].value_counts() "
   ]
  },
  {
   "cell_type": "code",
   "execution_count": 1264,
   "id": "f0978685",
   "metadata": {},
   "outputs": [
    {
     "data": {
      "text/html": [
       "<div>\n",
       "<style scoped>\n",
       "    .dataframe tbody tr th:only-of-type {\n",
       "        vertical-align: middle;\n",
       "    }\n",
       "\n",
       "    .dataframe tbody tr th {\n",
       "        vertical-align: top;\n",
       "    }\n",
       "\n",
       "    .dataframe thead th {\n",
       "        text-align: right;\n",
       "    }\n",
       "</style>\n",
       "<table border=\"1\" class=\"dataframe\">\n",
       "  <thead>\n",
       "    <tr style=\"text-align: right;\">\n",
       "      <th></th>\n",
       "      <th>id_individuo</th>\n",
       "      <th>sexo</th>\n",
       "      <th>peso</th>\n",
       "      <th>talla</th>\n",
       "      <th>edad_dias</th>\n",
       "    </tr>\n",
       "  </thead>\n",
       "  <tbody>\n",
       "    <tr>\n",
       "      <th>397539</th>\n",
       "      <td>102791</td>\n",
       "      <td>M</td>\n",
       "      <td>19.4</td>\n",
       "      <td>110.0</td>\n",
       "      <td>1881.0</td>\n",
       "    </tr>\n",
       "    <tr>\n",
       "      <th>397540</th>\n",
       "      <td>102791</td>\n",
       "      <td>F</td>\n",
       "      <td>33.7</td>\n",
       "      <td>136.0</td>\n",
       "      <td>3438.0</td>\n",
       "    </tr>\n",
       "  </tbody>\n",
       "</table>\n",
       "</div>"
      ],
      "text/plain": [
       "        id_individuo sexo  peso  talla  edad_dias\n",
       "397539        102791    M  19.4  110.0     1881.0\n",
       "397540        102791    F  33.7  136.0     3438.0"
      ]
     },
     "execution_count": 1264,
     "metadata": {},
     "output_type": "execute_result"
    }
   ],
   "source": [
    "df[df['id_individuo']==102791]"
   ]
  },
  {
   "cell_type": "code",
   "execution_count": 1265,
   "id": "9c928cee",
   "metadata": {},
   "outputs": [],
   "source": [
    "df[df['id_individuo']==95713]\n",
    "df.loc[370247, 'sexo'] = 'M'"
   ]
  },
  {
   "cell_type": "code",
   "execution_count": 1266,
   "id": "ccaf87b3",
   "metadata": {},
   "outputs": [],
   "source": [
    "df[df['id_individuo']==130574]\n",
    "df.loc[505323, 'sexo'] = 'F'"
   ]
  },
  {
   "cell_type": "code",
   "execution_count": 1267,
   "id": "f14f3c6d",
   "metadata": {},
   "outputs": [],
   "source": [
    "df[df['id_individuo']==31984]\n",
    "df.loc[123285, 'sexo'] = 'M'"
   ]
  },
  {
   "cell_type": "code",
   "execution_count": 1268,
   "id": "c93e65dd",
   "metadata": {},
   "outputs": [],
   "source": [
    "df[df['id_individuo']==279796]\n",
    "df.loc[1082913, 'sexo'] = 'F'"
   ]
  },
  {
   "cell_type": "code",
   "execution_count": 1269,
   "id": "5008512e",
   "metadata": {},
   "outputs": [],
   "source": [
    "df[df['id_individuo']==174924]\n",
    "df.loc[677275, 'sexo'] = 'F'"
   ]
  },
  {
   "cell_type": "code",
   "execution_count": 1270,
   "id": "a4f12a20",
   "metadata": {},
   "outputs": [],
   "source": [
    "df[df['id_individuo']==166515]\n",
    "df.loc[644583, 'sexo'] = 'F'"
   ]
  },
  {
   "cell_type": "code",
   "execution_count": 1271,
   "id": "1c8e6905",
   "metadata": {},
   "outputs": [],
   "source": [
    "df[df['id_individuo']==217841]\n",
    "df.loc[843440, 'sexo'] = 'F'"
   ]
  },
  {
   "cell_type": "code",
   "execution_count": 1272,
   "id": "c81476ff",
   "metadata": {},
   "outputs": [],
   "source": [
    "df[df['id_individuo']==181006]\n",
    "df.loc[701127, 'sexo'] = 'F'"
   ]
  },
  {
   "cell_type": "code",
   "execution_count": 1273,
   "id": "15f85473",
   "metadata": {},
   "outputs": [],
   "source": [
    "df[df['id_individuo']==157531]\n",
    "df.loc[609817, 'sexo'] = 'M'"
   ]
  },
  {
   "cell_type": "code",
   "execution_count": 1274,
   "id": "e2528592",
   "metadata": {},
   "outputs": [],
   "source": [
    "df[df['id_individuo']==40707]\n",
    "df.loc[156995, 'sexo'] = 'M'"
   ]
  },
  {
   "cell_type": "code",
   "execution_count": 1275,
   "id": "aea8d91f",
   "metadata": {},
   "outputs": [],
   "source": [
    "df[df['id_individuo']==149697]\n",
    "df.loc[579273, 'sexo'] = 'F'"
   ]
  },
  {
   "cell_type": "code",
   "execution_count": 1276,
   "id": "c0e00dd1",
   "metadata": {},
   "outputs": [],
   "source": [
    "df[df['id_individuo']==60333]\n",
    "df.loc[232917, 'sexo'] = 'M'"
   ]
  },
  {
   "cell_type": "code",
   "execution_count": 1277,
   "id": "a9fc6dd5",
   "metadata": {},
   "outputs": [],
   "source": [
    "df[df['id_individuo']==58796]\n",
    "df.loc[226892, 'sexo'] = 'M'"
   ]
  },
  {
   "cell_type": "code",
   "execution_count": 1278,
   "id": "ff7b260d",
   "metadata": {},
   "outputs": [],
   "source": [
    "df[df['id_individuo']==251251]\n",
    "df.loc[972768, 'sexo'] = 'M'"
   ]
  },
  {
   "cell_type": "code",
   "execution_count": 1279,
   "id": "108d49f5",
   "metadata": {},
   "outputs": [],
   "source": [
    "df[df['id_individuo']==205012]\n",
    "df.loc[794042, 'sexo'] = 'M'"
   ]
  },
  {
   "cell_type": "code",
   "execution_count": 1280,
   "id": "f5ec399c",
   "metadata": {},
   "outputs": [],
   "source": [
    "df[df['id_individuo']==165815]\n",
    "df.loc[641996, 'sexo'] = 'M'"
   ]
  },
  {
   "cell_type": "code",
   "execution_count": 1281,
   "id": "9bcfbccb",
   "metadata": {},
   "outputs": [],
   "source": [
    "df[df['id_individuo']==157296]\n",
    "df.loc[608886, 'sexo'] = 'M'"
   ]
  },
  {
   "cell_type": "code",
   "execution_count": 1282,
   "id": "facb7439",
   "metadata": {
    "scrolled": false
   },
   "outputs": [
    {
     "name": "stdout",
     "output_type": "stream",
     "text": [
      "cant. nulos: 187\n"
     ]
    },
    {
     "data": {
      "text/html": [
       "<div>\n",
       "<style scoped>\n",
       "    .dataframe tbody tr th:only-of-type {\n",
       "        vertical-align: middle;\n",
       "    }\n",
       "\n",
       "    .dataframe tbody tr th {\n",
       "        vertical-align: top;\n",
       "    }\n",
       "\n",
       "    .dataframe thead th {\n",
       "        text-align: right;\n",
       "    }\n",
       "</style>\n",
       "<table border=\"1\" class=\"dataframe\">\n",
       "  <thead>\n",
       "    <tr style=\"text-align: right;\">\n",
       "      <th></th>\n",
       "      <th>id_individuo</th>\n",
       "      <th>sexo</th>\n",
       "      <th>peso</th>\n",
       "      <th>talla</th>\n",
       "      <th>edad_dias</th>\n",
       "    </tr>\n",
       "  </thead>\n",
       "  <tbody>\n",
       "    <tr>\n",
       "      <th>1844</th>\n",
       "      <td>492</td>\n",
       "      <td>NaN</td>\n",
       "      <td>66.0</td>\n",
       "      <td>169.0</td>\n",
       "      <td>6705.0</td>\n",
       "    </tr>\n",
       "    <tr>\n",
       "      <th>15186</th>\n",
       "      <td>3895</td>\n",
       "      <td>NaN</td>\n",
       "      <td>14.3</td>\n",
       "      <td>100.0</td>\n",
       "      <td>1519.0</td>\n",
       "    </tr>\n",
       "    <tr>\n",
       "      <th>17158</th>\n",
       "      <td>4398</td>\n",
       "      <td>NaN</td>\n",
       "      <td>7.3</td>\n",
       "      <td>69.0</td>\n",
       "      <td>197.0</td>\n",
       "    </tr>\n",
       "    <tr>\n",
       "      <th>26113</th>\n",
       "      <td>6733</td>\n",
       "      <td>NaN</td>\n",
       "      <td>5.8</td>\n",
       "      <td>61.0</td>\n",
       "      <td>178.0</td>\n",
       "    </tr>\n",
       "    <tr>\n",
       "      <th>32343</th>\n",
       "      <td>8377</td>\n",
       "      <td>NaN</td>\n",
       "      <td>10.7</td>\n",
       "      <td>76.0</td>\n",
       "      <td>367.0</td>\n",
       "    </tr>\n",
       "    <tr>\n",
       "      <th>...</th>\n",
       "      <td>...</td>\n",
       "      <td>...</td>\n",
       "      <td>...</td>\n",
       "      <td>...</td>\n",
       "      <td>...</td>\n",
       "    </tr>\n",
       "    <tr>\n",
       "      <th>1128570</th>\n",
       "      <td>291529</td>\n",
       "      <td>NaN</td>\n",
       "      <td>10.0</td>\n",
       "      <td>74.0</td>\n",
       "      <td>225.0</td>\n",
       "    </tr>\n",
       "    <tr>\n",
       "      <th>1137707</th>\n",
       "      <td>293872</td>\n",
       "      <td>NaN</td>\n",
       "      <td>7.9</td>\n",
       "      <td>71.0</td>\n",
       "      <td>336.0</td>\n",
       "    </tr>\n",
       "    <tr>\n",
       "      <th>1140867</th>\n",
       "      <td>294732</td>\n",
       "      <td>NaN</td>\n",
       "      <td>26.8</td>\n",
       "      <td>120.0</td>\n",
       "      <td>3021.0</td>\n",
       "    </tr>\n",
       "    <tr>\n",
       "      <th>1143890</th>\n",
       "      <td>295513</td>\n",
       "      <td>NaN</td>\n",
       "      <td>4.8</td>\n",
       "      <td>57.0</td>\n",
       "      <td>110.0</td>\n",
       "    </tr>\n",
       "    <tr>\n",
       "      <th>1144408</th>\n",
       "      <td>295650</td>\n",
       "      <td>NaN</td>\n",
       "      <td>7.5</td>\n",
       "      <td>64.0</td>\n",
       "      <td>114.0</td>\n",
       "    </tr>\n",
       "  </tbody>\n",
       "</table>\n",
       "<p>187 rows × 5 columns</p>\n",
       "</div>"
      ],
      "text/plain": [
       "         id_individuo sexo  peso  talla  edad_dias\n",
       "1844              492  NaN  66.0  169.0     6705.0\n",
       "15186            3895  NaN  14.3  100.0     1519.0\n",
       "17158            4398  NaN   7.3   69.0      197.0\n",
       "26113            6733  NaN   5.8   61.0      178.0\n",
       "32343            8377  NaN  10.7   76.0      367.0\n",
       "...               ...  ...   ...    ...        ...\n",
       "1128570        291529  NaN  10.0   74.0      225.0\n",
       "1137707        293872  NaN   7.9   71.0      336.0\n",
       "1140867        294732  NaN  26.8  120.0     3021.0\n",
       "1143890        295513  NaN   4.8   57.0      110.0\n",
       "1144408        295650  NaN   7.5   64.0      114.0\n",
       "\n",
       "[187 rows x 5 columns]"
      ]
     },
     "execution_count": 1282,
     "metadata": {},
     "output_type": "execute_result"
    }
   ],
   "source": [
    "print('cant. nulos:', df[df['sexo'].isnull()].shape[0])\n",
    "df[df['sexo'].isnull()]"
   ]
  },
  {
   "cell_type": "code",
   "execution_count": 1283,
   "id": "53b5dd19",
   "metadata": {},
   "outputs": [],
   "source": [
    "#df.dropna(subset=['sexo'], inplace=True)"
   ]
  },
  {
   "cell_type": "markdown",
   "id": "f4e52fd8",
   "metadata": {},
   "source": [
    "### Edad (días)"
   ]
  },
  {
   "cell_type": "code",
   "execution_count": 1284,
   "id": "94ad1f51",
   "metadata": {},
   "outputs": [
    {
     "name": "stdout",
     "output_type": "stream",
     "text": [
      "4.0\n",
      "7304.0\n"
     ]
    }
   ],
   "source": [
    "print(df['edad_dias'].min()) # Hasta que edad es válido ??? 19\n",
    "print(df['edad_dias'].max())\n",
    "# 7304 días - 20 años"
   ]
  },
  {
   "cell_type": "code",
   "execution_count": 1285,
   "id": "5bb3525b",
   "metadata": {},
   "outputs": [
    {
     "name": "stdout",
     "output_type": "stream",
     "text": [
      "cant. nulos: 13\n"
     ]
    },
    {
     "data": {
      "text/html": [
       "<div>\n",
       "<style scoped>\n",
       "    .dataframe tbody tr th:only-of-type {\n",
       "        vertical-align: middle;\n",
       "    }\n",
       "\n",
       "    .dataframe tbody tr th {\n",
       "        vertical-align: top;\n",
       "    }\n",
       "\n",
       "    .dataframe thead th {\n",
       "        text-align: right;\n",
       "    }\n",
       "</style>\n",
       "<table border=\"1\" class=\"dataframe\">\n",
       "  <thead>\n",
       "    <tr style=\"text-align: right;\">\n",
       "      <th></th>\n",
       "      <th>id_individuo</th>\n",
       "      <th>sexo</th>\n",
       "      <th>peso</th>\n",
       "      <th>talla</th>\n",
       "      <th>edad_dias</th>\n",
       "    </tr>\n",
       "  </thead>\n",
       "  <tbody>\n",
       "    <tr>\n",
       "      <th>23094</th>\n",
       "      <td>5935</td>\n",
       "      <td>F</td>\n",
       "      <td>31.4</td>\n",
       "      <td>58.0</td>\n",
       "      <td>NaN</td>\n",
       "    </tr>\n",
       "    <tr>\n",
       "      <th>67648</th>\n",
       "      <td>17658</td>\n",
       "      <td>M</td>\n",
       "      <td>20.6</td>\n",
       "      <td>114.0</td>\n",
       "      <td>NaN</td>\n",
       "    </tr>\n",
       "    <tr>\n",
       "      <th>73241</th>\n",
       "      <td>19111</td>\n",
       "      <td>F</td>\n",
       "      <td>13.3</td>\n",
       "      <td>98.0</td>\n",
       "      <td>NaN</td>\n",
       "    </tr>\n",
       "    <tr>\n",
       "      <th>141877</th>\n",
       "      <td>36793</td>\n",
       "      <td>M</td>\n",
       "      <td>10.4</td>\n",
       "      <td>80.0</td>\n",
       "      <td>NaN</td>\n",
       "    </tr>\n",
       "    <tr>\n",
       "      <th>187290</th>\n",
       "      <td>48523</td>\n",
       "      <td>F</td>\n",
       "      <td>3.9</td>\n",
       "      <td>50.0</td>\n",
       "      <td>NaN</td>\n",
       "    </tr>\n",
       "    <tr>\n",
       "      <th>350939</th>\n",
       "      <td>90758</td>\n",
       "      <td>F</td>\n",
       "      <td>3.1</td>\n",
       "      <td>49.0</td>\n",
       "      <td>NaN</td>\n",
       "    </tr>\n",
       "    <tr>\n",
       "      <th>351487</th>\n",
       "      <td>90903</td>\n",
       "      <td>M</td>\n",
       "      <td>8.5</td>\n",
       "      <td>65.0</td>\n",
       "      <td>NaN</td>\n",
       "    </tr>\n",
       "    <tr>\n",
       "      <th>583484</th>\n",
       "      <td>150786</td>\n",
       "      <td>M</td>\n",
       "      <td>10.3</td>\n",
       "      <td>77.0</td>\n",
       "      <td>NaN</td>\n",
       "    </tr>\n",
       "    <tr>\n",
       "      <th>651387</th>\n",
       "      <td>168261</td>\n",
       "      <td>F</td>\n",
       "      <td>14.6</td>\n",
       "      <td>95.0</td>\n",
       "      <td>NaN</td>\n",
       "    </tr>\n",
       "    <tr>\n",
       "      <th>723246</th>\n",
       "      <td>186693</td>\n",
       "      <td>M</td>\n",
       "      <td>11.5</td>\n",
       "      <td>79.0</td>\n",
       "      <td>NaN</td>\n",
       "    </tr>\n",
       "    <tr>\n",
       "      <th>1009474</th>\n",
       "      <td>260780</td>\n",
       "      <td>M</td>\n",
       "      <td>18.4</td>\n",
       "      <td>111.0</td>\n",
       "      <td>NaN</td>\n",
       "    </tr>\n",
       "    <tr>\n",
       "      <th>1116710</th>\n",
       "      <td>288471</td>\n",
       "      <td>F</td>\n",
       "      <td>18.4</td>\n",
       "      <td>82.0</td>\n",
       "      <td>NaN</td>\n",
       "    </tr>\n",
       "    <tr>\n",
       "      <th>1160554</th>\n",
       "      <td>299784</td>\n",
       "      <td>F</td>\n",
       "      <td>259.4</td>\n",
       "      <td>109.0</td>\n",
       "      <td>NaN</td>\n",
       "    </tr>\n",
       "  </tbody>\n",
       "</table>\n",
       "</div>"
      ],
      "text/plain": [
       "         id_individuo sexo   peso  talla  edad_dias\n",
       "23094            5935    F   31.4   58.0        NaN\n",
       "67648           17658    M   20.6  114.0        NaN\n",
       "73241           19111    F   13.3   98.0        NaN\n",
       "141877          36793    M   10.4   80.0        NaN\n",
       "187290          48523    F    3.9   50.0        NaN\n",
       "350939          90758    F    3.1   49.0        NaN\n",
       "351487          90903    M    8.5   65.0        NaN\n",
       "583484         150786    M   10.3   77.0        NaN\n",
       "651387         168261    F   14.6   95.0        NaN\n",
       "723246         186693    M   11.5   79.0        NaN\n",
       "1009474        260780    M   18.4  111.0        NaN\n",
       "1116710        288471    F   18.4   82.0        NaN\n",
       "1160554        299784    F  259.4  109.0        NaN"
      ]
     },
     "execution_count": 1285,
     "metadata": {},
     "output_type": "execute_result"
    }
   ],
   "source": [
    "print('cant. nulos:', df[df['edad_dias'].isnull()].shape[0])\n",
    "df[df['edad_dias'].isnull()]"
   ]
  },
  {
   "cell_type": "code",
   "execution_count": 1286,
   "id": "4b1483e7",
   "metadata": {},
   "outputs": [],
   "source": [
    "#df.dropna(subset=['edad_dias'], inplace=True)"
   ]
  },
  {
   "cell_type": "code",
   "execution_count": 1287,
   "id": "52ac765a",
   "metadata": {},
   "outputs": [
    {
     "data": {
      "text/plain": [
       "count    1.161393e+06\n",
       "mean     1.669827e+03\n",
       "std      1.625521e+03\n",
       "min      4.000000e+00\n",
       "1%       2.400000e+01\n",
       "5%       7.000000e+01\n",
       "10%      1.380000e+02\n",
       "25%      3.720000e+02\n",
       "50%      1.134000e+03\n",
       "75%      2.469000e+03\n",
       "90%      4.205000e+03\n",
       "95%      5.277000e+03\n",
       "99%      6.580000e+03\n",
       "max      7.304000e+03\n",
       "Name: edad_dias, dtype: float64"
      ]
     },
     "execution_count": 1287,
     "metadata": {},
     "output_type": "execute_result"
    }
   ],
   "source": [
    "df['edad_dias'].describe([.01, .05, .10, .25, .5, .75, .90, .95, .99]) \n",
    "# hasta el tercer cuartil cubre 6 años de edad\n",
    "# ver percentiles 90-95-99"
   ]
  },
  {
   "cell_type": "code",
   "execution_count": 1288,
   "id": "7a295f0e",
   "metadata": {},
   "outputs": [
    {
     "data": {
      "text/plain": [
       "4660"
      ]
     },
     "execution_count": 1288,
     "metadata": {},
     "output_type": "execute_result"
    }
   ],
   "source": [
    "df[df['edad_dias']>6935].shape[0]"
   ]
  },
  {
   "cell_type": "code",
   "execution_count": 1289,
   "id": "2cf097f6",
   "metadata": {},
   "outputs": [
    {
     "data": {
      "text/plain": [
       "0.40080729736199056"
      ]
     },
     "execution_count": 1289,
     "metadata": {},
     "output_type": "execute_result"
    }
   ],
   "source": [
    "(4655 * 100) / 1161406"
   ]
  },
  {
   "cell_type": "markdown",
   "id": "af84b2b5",
   "metadata": {},
   "source": [
    "### Peso"
   ]
  },
  {
   "cell_type": "code",
   "execution_count": 1290,
   "id": "e7dbb952",
   "metadata": {},
   "outputs": [
    {
     "name": "stdout",
     "output_type": "stream",
     "text": [
      "0.0\n",
      "12597.9\n"
     ]
    }
   ],
   "source": [
    "print(df['peso'].min()) # En qué unidad están ??? KG\n",
    "print(df['peso'].max())\n",
    "# Cuál serían el mínimo y máximo valor aceptable?"
   ]
  },
  {
   "cell_type": "code",
   "execution_count": 1291,
   "id": "2d29b686",
   "metadata": {},
   "outputs": [
    {
     "data": {
      "text/plain": [
       "6"
      ]
     },
     "execution_count": 1291,
     "metadata": {},
     "output_type": "execute_result"
    }
   ],
   "source": [
    "df[df['peso'] == 0].shape[0] \n",
    "# Hay 6 registros con peso 0"
   ]
  },
  {
   "cell_type": "code",
   "execution_count": 1292,
   "id": "ecb46d13",
   "metadata": {},
   "outputs": [
    {
     "name": "stdout",
     "output_type": "stream",
     "text": [
      "cant. nulos: 174\n"
     ]
    },
    {
     "data": {
      "text/html": [
       "<div>\n",
       "<style scoped>\n",
       "    .dataframe tbody tr th:only-of-type {\n",
       "        vertical-align: middle;\n",
       "    }\n",
       "\n",
       "    .dataframe tbody tr th {\n",
       "        vertical-align: top;\n",
       "    }\n",
       "\n",
       "    .dataframe thead th {\n",
       "        text-align: right;\n",
       "    }\n",
       "</style>\n",
       "<table border=\"1\" class=\"dataframe\">\n",
       "  <thead>\n",
       "    <tr style=\"text-align: right;\">\n",
       "      <th></th>\n",
       "      <th>id_individuo</th>\n",
       "      <th>sexo</th>\n",
       "      <th>peso</th>\n",
       "      <th>talla</th>\n",
       "      <th>edad_dias</th>\n",
       "    </tr>\n",
       "  </thead>\n",
       "  <tbody>\n",
       "    <tr>\n",
       "      <th>1532</th>\n",
       "      <td>408</td>\n",
       "      <td>F</td>\n",
       "      <td>NaN</td>\n",
       "      <td>169.0</td>\n",
       "      <td>5645.0</td>\n",
       "    </tr>\n",
       "    <tr>\n",
       "      <th>4128</th>\n",
       "      <td>1065</td>\n",
       "      <td>M</td>\n",
       "      <td>NaN</td>\n",
       "      <td>101.0</td>\n",
       "      <td>1307.0</td>\n",
       "    </tr>\n",
       "    <tr>\n",
       "      <th>9086</th>\n",
       "      <td>2329</td>\n",
       "      <td>M</td>\n",
       "      <td>NaN</td>\n",
       "      <td>86.0</td>\n",
       "      <td>768.0</td>\n",
       "    </tr>\n",
       "    <tr>\n",
       "      <th>14746</th>\n",
       "      <td>3781</td>\n",
       "      <td>F</td>\n",
       "      <td>NaN</td>\n",
       "      <td>62.0</td>\n",
       "      <td>165.0</td>\n",
       "    </tr>\n",
       "    <tr>\n",
       "      <th>27901</th>\n",
       "      <td>7198</td>\n",
       "      <td>F</td>\n",
       "      <td>NaN</td>\n",
       "      <td>126.0</td>\n",
       "      <td>2282.0</td>\n",
       "    </tr>\n",
       "    <tr>\n",
       "      <th>...</th>\n",
       "      <td>...</td>\n",
       "      <td>...</td>\n",
       "      <td>...</td>\n",
       "      <td>...</td>\n",
       "      <td>...</td>\n",
       "    </tr>\n",
       "    <tr>\n",
       "      <th>1103129</th>\n",
       "      <td>284983</td>\n",
       "      <td>F</td>\n",
       "      <td>NaN</td>\n",
       "      <td>161.0</td>\n",
       "      <td>6163.0</td>\n",
       "    </tr>\n",
       "    <tr>\n",
       "      <th>1113606</th>\n",
       "      <td>287656</td>\n",
       "      <td>F</td>\n",
       "      <td>NaN</td>\n",
       "      <td>107.0</td>\n",
       "      <td>1465.0</td>\n",
       "    </tr>\n",
       "    <tr>\n",
       "      <th>1122015</th>\n",
       "      <td>289828</td>\n",
       "      <td>M</td>\n",
       "      <td>NaN</td>\n",
       "      <td>85.0</td>\n",
       "      <td>809.0</td>\n",
       "    </tr>\n",
       "    <tr>\n",
       "      <th>1142888</th>\n",
       "      <td>295259</td>\n",
       "      <td>F</td>\n",
       "      <td>NaN</td>\n",
       "      <td>126.0</td>\n",
       "      <td>3330.0</td>\n",
       "    </tr>\n",
       "    <tr>\n",
       "      <th>1158265</th>\n",
       "      <td>299215</td>\n",
       "      <td>F</td>\n",
       "      <td>NaN</td>\n",
       "      <td>41.0</td>\n",
       "      <td>1652.0</td>\n",
       "    </tr>\n",
       "  </tbody>\n",
       "</table>\n",
       "<p>174 rows × 5 columns</p>\n",
       "</div>"
      ],
      "text/plain": [
       "         id_individuo sexo  peso  talla  edad_dias\n",
       "1532              408    F   NaN  169.0     5645.0\n",
       "4128             1065    M   NaN  101.0     1307.0\n",
       "9086             2329    M   NaN   86.0      768.0\n",
       "14746            3781    F   NaN   62.0      165.0\n",
       "27901            7198    F   NaN  126.0     2282.0\n",
       "...               ...  ...   ...    ...        ...\n",
       "1103129        284983    F   NaN  161.0     6163.0\n",
       "1113606        287656    F   NaN  107.0     1465.0\n",
       "1122015        289828    M   NaN   85.0      809.0\n",
       "1142888        295259    F   NaN  126.0     3330.0\n",
       "1158265        299215    F   NaN   41.0     1652.0\n",
       "\n",
       "[174 rows x 5 columns]"
      ]
     },
     "execution_count": 1292,
     "metadata": {},
     "output_type": "execute_result"
    }
   ],
   "source": [
    "print('cant. nulos:', df[df['peso'].isnull()].shape[0])\n",
    "df[df['peso'].isnull()]"
   ]
  },
  {
   "cell_type": "markdown",
   "id": "8c2216d6",
   "metadata": {},
   "source": [
    "### Altura (talla)"
   ]
  },
  {
   "cell_type": "code",
   "execution_count": 1293,
   "id": "587d8d5a",
   "metadata": {},
   "outputs": [
    {
     "name": "stdout",
     "output_type": "stream",
     "text": [
      "19.0\n",
      "251.0\n"
     ]
    }
   ],
   "source": [
    "print(df['talla'].min()) # En qué unidad están ??? CM\n",
    "print(df['talla'].max())\n",
    "# Cuál serían el mínimo y máximo valor aceptable?"
   ]
  },
  {
   "cell_type": "code",
   "execution_count": 1294,
   "id": "9bd84a24",
   "metadata": {},
   "outputs": [
    {
     "data": {
      "text/html": [
       "<div>\n",
       "<style scoped>\n",
       "    .dataframe tbody tr th:only-of-type {\n",
       "        vertical-align: middle;\n",
       "    }\n",
       "\n",
       "    .dataframe tbody tr th {\n",
       "        vertical-align: top;\n",
       "    }\n",
       "\n",
       "    .dataframe thead th {\n",
       "        text-align: right;\n",
       "    }\n",
       "</style>\n",
       "<table border=\"1\" class=\"dataframe\">\n",
       "  <thead>\n",
       "    <tr style=\"text-align: right;\">\n",
       "      <th></th>\n",
       "      <th>id_individuo</th>\n",
       "      <th>sexo</th>\n",
       "      <th>peso</th>\n",
       "      <th>talla</th>\n",
       "      <th>edad_dias</th>\n",
       "    </tr>\n",
       "  </thead>\n",
       "  <tbody>\n",
       "    <tr>\n",
       "      <th>15923</th>\n",
       "      <td>4076</td>\n",
       "      <td>M</td>\n",
       "      <td>8.9</td>\n",
       "      <td>30.0</td>\n",
       "      <td>341.0</td>\n",
       "    </tr>\n",
       "    <tr>\n",
       "      <th>20461</th>\n",
       "      <td>5273</td>\n",
       "      <td>M</td>\n",
       "      <td>13.7</td>\n",
       "      <td>34.0</td>\n",
       "      <td>564.0</td>\n",
       "    </tr>\n",
       "    <tr>\n",
       "      <th>28397</th>\n",
       "      <td>7335</td>\n",
       "      <td>F</td>\n",
       "      <td>22.1</td>\n",
       "      <td>22.0</td>\n",
       "      <td>2216.0</td>\n",
       "    </tr>\n",
       "    <tr>\n",
       "      <th>28903</th>\n",
       "      <td>7466</td>\n",
       "      <td>F</td>\n",
       "      <td>2.7</td>\n",
       "      <td>32.0</td>\n",
       "      <td>23.0</td>\n",
       "    </tr>\n",
       "    <tr>\n",
       "      <th>32958</th>\n",
       "      <td>8542</td>\n",
       "      <td>M</td>\n",
       "      <td>12.6</td>\n",
       "      <td>23.0</td>\n",
       "      <td>730.0</td>\n",
       "    </tr>\n",
       "    <tr>\n",
       "      <th>...</th>\n",
       "      <td>...</td>\n",
       "      <td>...</td>\n",
       "      <td>...</td>\n",
       "      <td>...</td>\n",
       "      <td>...</td>\n",
       "    </tr>\n",
       "    <tr>\n",
       "      <th>1136317</th>\n",
       "      <td>293510</td>\n",
       "      <td>M</td>\n",
       "      <td>19.4</td>\n",
       "      <td>28.0</td>\n",
       "      <td>2003.0</td>\n",
       "    </tr>\n",
       "    <tr>\n",
       "      <th>1137532</th>\n",
       "      <td>293828</td>\n",
       "      <td>M</td>\n",
       "      <td>8.8</td>\n",
       "      <td>22.0</td>\n",
       "      <td>403.0</td>\n",
       "    </tr>\n",
       "    <tr>\n",
       "      <th>1140204</th>\n",
       "      <td>294555</td>\n",
       "      <td>M</td>\n",
       "      <td>31.9</td>\n",
       "      <td>31.0</td>\n",
       "      <td>2646.0</td>\n",
       "    </tr>\n",
       "    <tr>\n",
       "      <th>1147984</th>\n",
       "      <td>296572</td>\n",
       "      <td>F</td>\n",
       "      <td>22.8</td>\n",
       "      <td>24.0</td>\n",
       "      <td>2790.0</td>\n",
       "    </tr>\n",
       "    <tr>\n",
       "      <th>1159651</th>\n",
       "      <td>299561</td>\n",
       "      <td>F</td>\n",
       "      <td>4.0</td>\n",
       "      <td>32.0</td>\n",
       "      <td>30.0</td>\n",
       "    </tr>\n",
       "  </tbody>\n",
       "</table>\n",
       "<p>276 rows × 5 columns</p>\n",
       "</div>"
      ],
      "text/plain": [
       "         id_individuo sexo  peso  talla  edad_dias\n",
       "15923            4076    M   8.9   30.0      341.0\n",
       "20461            5273    M  13.7   34.0      564.0\n",
       "28397            7335    F  22.1   22.0     2216.0\n",
       "28903            7466    F   2.7   32.0       23.0\n",
       "32958            8542    M  12.6   23.0      730.0\n",
       "...               ...  ...   ...    ...        ...\n",
       "1136317        293510    M  19.4   28.0     2003.0\n",
       "1137532        293828    M   8.8   22.0      403.0\n",
       "1140204        294555    M  31.9   31.0     2646.0\n",
       "1147984        296572    F  22.8   24.0     2790.0\n",
       "1159651        299561    F   4.0   32.0       30.0\n",
       "\n",
       "[276 rows x 5 columns]"
      ]
     },
     "execution_count": 1294,
     "metadata": {},
     "output_type": "execute_result"
    }
   ],
   "source": [
    "df[df['talla']<35]"
   ]
  },
  {
   "cell_type": "code",
   "execution_count": 1295,
   "id": "324d6cb4",
   "metadata": {},
   "outputs": [
    {
     "data": {
      "text/html": [
       "<div>\n",
       "<style scoped>\n",
       "    .dataframe tbody tr th:only-of-type {\n",
       "        vertical-align: middle;\n",
       "    }\n",
       "\n",
       "    .dataframe tbody tr th {\n",
       "        vertical-align: top;\n",
       "    }\n",
       "\n",
       "    .dataframe thead th {\n",
       "        text-align: right;\n",
       "    }\n",
       "</style>\n",
       "<table border=\"1\" class=\"dataframe\">\n",
       "  <thead>\n",
       "    <tr style=\"text-align: right;\">\n",
       "      <th></th>\n",
       "      <th>id_individuo</th>\n",
       "      <th>sexo</th>\n",
       "      <th>peso</th>\n",
       "      <th>talla</th>\n",
       "      <th>edad_dias</th>\n",
       "    </tr>\n",
       "  </thead>\n",
       "  <tbody>\n",
       "    <tr>\n",
       "      <th>68562</th>\n",
       "      <td>17902</td>\n",
       "      <td>F</td>\n",
       "      <td>9.6</td>\n",
       "      <td>251.0</td>\n",
       "      <td>315.0</td>\n",
       "    </tr>\n",
       "  </tbody>\n",
       "</table>\n",
       "</div>"
      ],
      "text/plain": [
       "       id_individuo sexo  peso  talla  edad_dias\n",
       "68562         17902    F   9.6  251.0      315.0"
      ]
     },
     "execution_count": 1295,
     "metadata": {},
     "output_type": "execute_result"
    }
   ],
   "source": [
    "df[df['talla']==251]"
   ]
  },
  {
   "cell_type": "code",
   "execution_count": 1296,
   "id": "67d899a4",
   "metadata": {},
   "outputs": [
    {
     "name": "stdout",
     "output_type": "stream",
     "text": [
      "cant. nulos: 114\n"
     ]
    },
    {
     "data": {
      "text/html": [
       "<div>\n",
       "<style scoped>\n",
       "    .dataframe tbody tr th:only-of-type {\n",
       "        vertical-align: middle;\n",
       "    }\n",
       "\n",
       "    .dataframe tbody tr th {\n",
       "        vertical-align: top;\n",
       "    }\n",
       "\n",
       "    .dataframe thead th {\n",
       "        text-align: right;\n",
       "    }\n",
       "</style>\n",
       "<table border=\"1\" class=\"dataframe\">\n",
       "  <thead>\n",
       "    <tr style=\"text-align: right;\">\n",
       "      <th></th>\n",
       "      <th>id_individuo</th>\n",
       "      <th>sexo</th>\n",
       "      <th>peso</th>\n",
       "      <th>talla</th>\n",
       "      <th>edad_dias</th>\n",
       "    </tr>\n",
       "  </thead>\n",
       "  <tbody>\n",
       "    <tr>\n",
       "      <th>389</th>\n",
       "      <td>105</td>\n",
       "      <td>F</td>\n",
       "      <td>33.7</td>\n",
       "      <td>NaN</td>\n",
       "      <td>2576.0</td>\n",
       "    </tr>\n",
       "    <tr>\n",
       "      <th>19368</th>\n",
       "      <td>4986</td>\n",
       "      <td>M</td>\n",
       "      <td>3.9</td>\n",
       "      <td>NaN</td>\n",
       "      <td>29.0</td>\n",
       "    </tr>\n",
       "    <tr>\n",
       "      <th>19736</th>\n",
       "      <td>5084</td>\n",
       "      <td>F</td>\n",
       "      <td>17.5</td>\n",
       "      <td>NaN</td>\n",
       "      <td>1503.0</td>\n",
       "    </tr>\n",
       "    <tr>\n",
       "      <th>21847</th>\n",
       "      <td>5615</td>\n",
       "      <td>F</td>\n",
       "      <td>49.4</td>\n",
       "      <td>NaN</td>\n",
       "      <td>4760.0</td>\n",
       "    </tr>\n",
       "    <tr>\n",
       "      <th>25305</th>\n",
       "      <td>6518</td>\n",
       "      <td>M</td>\n",
       "      <td>13.3</td>\n",
       "      <td>NaN</td>\n",
       "      <td>762.0</td>\n",
       "    </tr>\n",
       "    <tr>\n",
       "      <th>...</th>\n",
       "      <td>...</td>\n",
       "      <td>...</td>\n",
       "      <td>...</td>\n",
       "      <td>...</td>\n",
       "      <td>...</td>\n",
       "    </tr>\n",
       "    <tr>\n",
       "      <th>1119690</th>\n",
       "      <td>289214</td>\n",
       "      <td>M</td>\n",
       "      <td>13.1</td>\n",
       "      <td>NaN</td>\n",
       "      <td>818.0</td>\n",
       "    </tr>\n",
       "    <tr>\n",
       "      <th>1130327</th>\n",
       "      <td>291968</td>\n",
       "      <td>M</td>\n",
       "      <td>16.1</td>\n",
       "      <td>NaN</td>\n",
       "      <td>1588.0</td>\n",
       "    </tr>\n",
       "    <tr>\n",
       "      <th>1145304</th>\n",
       "      <td>295881</td>\n",
       "      <td>M</td>\n",
       "      <td>7.6</td>\n",
       "      <td>NaN</td>\n",
       "      <td>256.0</td>\n",
       "    </tr>\n",
       "    <tr>\n",
       "      <th>1148203</th>\n",
       "      <td>296626</td>\n",
       "      <td>M</td>\n",
       "      <td>21.6</td>\n",
       "      <td>NaN</td>\n",
       "      <td>2296.0</td>\n",
       "    </tr>\n",
       "    <tr>\n",
       "      <th>1153674</th>\n",
       "      <td>298047</td>\n",
       "      <td>F</td>\n",
       "      <td>3.2</td>\n",
       "      <td>NaN</td>\n",
       "      <td>18.0</td>\n",
       "    </tr>\n",
       "  </tbody>\n",
       "</table>\n",
       "<p>114 rows × 5 columns</p>\n",
       "</div>"
      ],
      "text/plain": [
       "         id_individuo sexo  peso  talla  edad_dias\n",
       "389               105    F  33.7    NaN     2576.0\n",
       "19368            4986    M   3.9    NaN       29.0\n",
       "19736            5084    F  17.5    NaN     1503.0\n",
       "21847            5615    F  49.4    NaN     4760.0\n",
       "25305            6518    M  13.3    NaN      762.0\n",
       "...               ...  ...   ...    ...        ...\n",
       "1119690        289214    M  13.1    NaN      818.0\n",
       "1130327        291968    M  16.1    NaN     1588.0\n",
       "1145304        295881    M   7.6    NaN      256.0\n",
       "1148203        296626    M  21.6    NaN     2296.0\n",
       "1153674        298047    F   3.2    NaN       18.0\n",
       "\n",
       "[114 rows x 5 columns]"
      ]
     },
     "execution_count": 1296,
     "metadata": {},
     "output_type": "execute_result"
    }
   ],
   "source": [
    "print('cant. nulos:', df[df['talla'].isnull()].shape[0])\n",
    "df[df['talla'].isnull()]"
   ]
  },
  {
   "cell_type": "markdown",
   "id": "982e0aed",
   "metadata": {},
   "source": [
    "# Nulos"
   ]
  },
  {
   "cell_type": "code",
   "execution_count": 1297,
   "id": "e1852173",
   "metadata": {},
   "outputs": [
    {
     "data": {
      "text/plain": [
       "1161406"
      ]
     },
     "execution_count": 1297,
     "metadata": {},
     "output_type": "execute_result"
    }
   ],
   "source": [
    "df.shape[0]"
   ]
  },
  {
   "cell_type": "code",
   "execution_count": 1298,
   "id": "b698ac45",
   "metadata": {},
   "outputs": [],
   "source": [
    "df.dropna(inplace=True)"
   ]
  },
  {
   "cell_type": "code",
   "execution_count": 1299,
   "id": "d59c8f89",
   "metadata": {},
   "outputs": [],
   "source": [
    "#df.reset_index(drop=True,inplace=True)"
   ]
  },
  {
   "cell_type": "code",
   "execution_count": 1300,
   "id": "d15ba7b7",
   "metadata": {},
   "outputs": [
    {
     "data": {
      "text/plain": [
       "1160918"
      ]
     },
     "execution_count": 1300,
     "metadata": {},
     "output_type": "execute_result"
    }
   ],
   "source": [
    "df.shape[0]"
   ]
  },
  {
   "cell_type": "markdown",
   "id": "e1953c30",
   "metadata": {},
   "source": [
    "# Unicidad\n",
    "- Es la medida en que los datos son únicos, no hay duplicados (no existen dos registros que representen la misma entidad).\n",
    "- Para un mismo individuo puede haber varias mediciones\n",
    "- Puedo ver duplicados y puedo ver si hay más de una medición para el mismo **id_individuo** y misma **edad_dias**"
   ]
  },
  {
   "cell_type": "markdown",
   "id": "85a259dc",
   "metadata": {},
   "source": [
    "### Duplicados"
   ]
  },
  {
   "cell_type": "code",
   "execution_count": 1301,
   "id": "dde2a1c2",
   "metadata": {},
   "outputs": [
    {
     "data": {
      "text/plain": [
       "737"
      ]
     },
     "execution_count": 1301,
     "metadata": {},
     "output_type": "execute_result"
    }
   ],
   "source": [
    "df[df.duplicated()].shape[0]"
   ]
  },
  {
   "cell_type": "code",
   "execution_count": 1302,
   "id": "6fc3bc94",
   "metadata": {},
   "outputs": [
    {
     "data": {
      "text/html": [
       "<div>\n",
       "<style scoped>\n",
       "    .dataframe tbody tr th:only-of-type {\n",
       "        vertical-align: middle;\n",
       "    }\n",
       "\n",
       "    .dataframe tbody tr th {\n",
       "        vertical-align: top;\n",
       "    }\n",
       "\n",
       "    .dataframe thead th {\n",
       "        text-align: right;\n",
       "    }\n",
       "</style>\n",
       "<table border=\"1\" class=\"dataframe\">\n",
       "  <thead>\n",
       "    <tr style=\"text-align: right;\">\n",
       "      <th></th>\n",
       "      <th>id_individuo</th>\n",
       "      <th>sexo</th>\n",
       "      <th>peso</th>\n",
       "      <th>talla</th>\n",
       "      <th>edad_dias</th>\n",
       "    </tr>\n",
       "  </thead>\n",
       "  <tbody>\n",
       "    <tr>\n",
       "      <th>1445</th>\n",
       "      <td>382</td>\n",
       "      <td>M</td>\n",
       "      <td>16.1</td>\n",
       "      <td>96.0</td>\n",
       "      <td>1462.0</td>\n",
       "    </tr>\n",
       "    <tr>\n",
       "      <th>2240</th>\n",
       "      <td>579</td>\n",
       "      <td>F</td>\n",
       "      <td>12.1</td>\n",
       "      <td>85.0</td>\n",
       "      <td>708.0</td>\n",
       "    </tr>\n",
       "    <tr>\n",
       "      <th>3024</th>\n",
       "      <td>783</td>\n",
       "      <td>M</td>\n",
       "      <td>10.1</td>\n",
       "      <td>77.0</td>\n",
       "      <td>442.0</td>\n",
       "    </tr>\n",
       "    <tr>\n",
       "      <th>3082</th>\n",
       "      <td>797</td>\n",
       "      <td>F</td>\n",
       "      <td>12.2</td>\n",
       "      <td>84.0</td>\n",
       "      <td>725.0</td>\n",
       "    </tr>\n",
       "    <tr>\n",
       "      <th>3782</th>\n",
       "      <td>982</td>\n",
       "      <td>F</td>\n",
       "      <td>10.7</td>\n",
       "      <td>89.0</td>\n",
       "      <td>568.0</td>\n",
       "    </tr>\n",
       "    <tr>\n",
       "      <th>...</th>\n",
       "      <td>...</td>\n",
       "      <td>...</td>\n",
       "      <td>...</td>\n",
       "      <td>...</td>\n",
       "      <td>...</td>\n",
       "    </tr>\n",
       "    <tr>\n",
       "      <th>1156748</th>\n",
       "      <td>298816</td>\n",
       "      <td>M</td>\n",
       "      <td>9.2</td>\n",
       "      <td>75.0</td>\n",
       "      <td>430.0</td>\n",
       "    </tr>\n",
       "    <tr>\n",
       "      <th>1157398</th>\n",
       "      <td>298992</td>\n",
       "      <td>M</td>\n",
       "      <td>9.0</td>\n",
       "      <td>67.0</td>\n",
       "      <td>210.0</td>\n",
       "    </tr>\n",
       "    <tr>\n",
       "      <th>1160215</th>\n",
       "      <td>299703</td>\n",
       "      <td>M</td>\n",
       "      <td>6.2</td>\n",
       "      <td>63.0</td>\n",
       "      <td>135.0</td>\n",
       "    </tr>\n",
       "    <tr>\n",
       "      <th>1160300</th>\n",
       "      <td>299723</td>\n",
       "      <td>F</td>\n",
       "      <td>4.1</td>\n",
       "      <td>55.0</td>\n",
       "      <td>21.0</td>\n",
       "    </tr>\n",
       "    <tr>\n",
       "      <th>1161179</th>\n",
       "      <td>299934</td>\n",
       "      <td>F</td>\n",
       "      <td>64.9</td>\n",
       "      <td>181.0</td>\n",
       "      <td>6336.0</td>\n",
       "    </tr>\n",
       "  </tbody>\n",
       "</table>\n",
       "<p>737 rows × 5 columns</p>\n",
       "</div>"
      ],
      "text/plain": [
       "         id_individuo sexo  peso  talla  edad_dias\n",
       "1445              382    M  16.1   96.0     1462.0\n",
       "2240              579    F  12.1   85.0      708.0\n",
       "3024              783    M  10.1   77.0      442.0\n",
       "3082              797    F  12.2   84.0      725.0\n",
       "3782              982    F  10.7   89.0      568.0\n",
       "...               ...  ...   ...    ...        ...\n",
       "1156748        298816    M   9.2   75.0      430.0\n",
       "1157398        298992    M   9.0   67.0      210.0\n",
       "1160215        299703    M   6.2   63.0      135.0\n",
       "1160300        299723    F   4.1   55.0       21.0\n",
       "1161179        299934    F  64.9  181.0     6336.0\n",
       "\n",
       "[737 rows x 5 columns]"
      ]
     },
     "execution_count": 1302,
     "metadata": {},
     "output_type": "execute_result"
    }
   ],
   "source": [
    "df_duplicados = df[df.duplicated()]\n",
    "df_duplicados"
   ]
  },
  {
   "cell_type": "code",
   "execution_count": 1303,
   "id": "8ee879c6",
   "metadata": {},
   "outputs": [],
   "source": [
    "ids_duplicados = df_duplicados['id_individuo']"
   ]
  },
  {
   "cell_type": "code",
   "execution_count": 1304,
   "id": "8dc310d8",
   "metadata": {},
   "outputs": [],
   "source": [
    "df.drop_duplicates(inplace=True)#.reset_index(drop=True,inplace=True)"
   ]
  },
  {
   "cell_type": "code",
   "execution_count": 1305,
   "id": "0adf8983",
   "metadata": {},
   "outputs": [],
   "source": [
    "df.reset_index(drop=True,inplace=True)"
   ]
  },
  {
   "cell_type": "markdown",
   "id": "9b704312",
   "metadata": {},
   "source": [
    "### Duplicados individuo - edad"
   ]
  },
  {
   "cell_type": "code",
   "execution_count": 1306,
   "id": "36eb4bbf",
   "metadata": {},
   "outputs": [
    {
     "data": {
      "text/plain": [
       "392"
      ]
     },
     "execution_count": 1306,
     "metadata": {},
     "output_type": "execute_result"
    }
   ],
   "source": [
    "df[df[['id_individuo', 'edad_dias']].duplicated()].shape[0]"
   ]
  },
  {
   "cell_type": "code",
   "execution_count": 1307,
   "id": "45b413c1",
   "metadata": {},
   "outputs": [
    {
     "data": {
      "text/plain": [
       "784"
      ]
     },
     "execution_count": 1307,
     "metadata": {},
     "output_type": "execute_result"
    }
   ],
   "source": [
    "df.shape[0] - df.drop_duplicates(['id_individuo', 'edad_dias'], keep=False).shape[0] # cantidad de registros"
   ]
  },
  {
   "cell_type": "code",
   "execution_count": 1308,
   "id": "80aa617e",
   "metadata": {},
   "outputs": [
    {
     "data": {
      "text/html": [
       "<div>\n",
       "<style scoped>\n",
       "    .dataframe tbody tr th:only-of-type {\n",
       "        vertical-align: middle;\n",
       "    }\n",
       "\n",
       "    .dataframe tbody tr th {\n",
       "        vertical-align: top;\n",
       "    }\n",
       "\n",
       "    .dataframe thead th {\n",
       "        text-align: right;\n",
       "    }\n",
       "</style>\n",
       "<table border=\"1\" class=\"dataframe\">\n",
       "  <thead>\n",
       "    <tr style=\"text-align: right;\">\n",
       "      <th></th>\n",
       "      <th>id_individuo</th>\n",
       "      <th>sexo</th>\n",
       "      <th>peso</th>\n",
       "      <th>talla</th>\n",
       "      <th>edad_dias</th>\n",
       "    </tr>\n",
       "  </thead>\n",
       "  <tbody>\n",
       "    <tr>\n",
       "      <th>5114</th>\n",
       "      <td>1332</td>\n",
       "      <td>F</td>\n",
       "      <td>293.6</td>\n",
       "      <td>133.0</td>\n",
       "      <td>2511.0</td>\n",
       "    </tr>\n",
       "    <tr>\n",
       "      <th>9513</th>\n",
       "      <td>2445</td>\n",
       "      <td>F</td>\n",
       "      <td>13.3</td>\n",
       "      <td>89.0</td>\n",
       "      <td>1009.0</td>\n",
       "    </tr>\n",
       "    <tr>\n",
       "      <th>11324</th>\n",
       "      <td>2901</td>\n",
       "      <td>M</td>\n",
       "      <td>8.3</td>\n",
       "      <td>69.0</td>\n",
       "      <td>374.0</td>\n",
       "    </tr>\n",
       "    <tr>\n",
       "      <th>11706</th>\n",
       "      <td>2994</td>\n",
       "      <td>F</td>\n",
       "      <td>11.6</td>\n",
       "      <td>84.0</td>\n",
       "      <td>585.0</td>\n",
       "    </tr>\n",
       "    <tr>\n",
       "      <th>17065</th>\n",
       "      <td>4377</td>\n",
       "      <td>F</td>\n",
       "      <td>24.4</td>\n",
       "      <td>121.0</td>\n",
       "      <td>2554.0</td>\n",
       "    </tr>\n",
       "    <tr>\n",
       "      <th>...</th>\n",
       "      <td>...</td>\n",
       "      <td>...</td>\n",
       "      <td>...</td>\n",
       "      <td>...</td>\n",
       "      <td>...</td>\n",
       "    </tr>\n",
       "    <tr>\n",
       "      <th>1155170</th>\n",
       "      <td>298727</td>\n",
       "      <td>M</td>\n",
       "      <td>7.7</td>\n",
       "      <td>68.0</td>\n",
       "      <td>247.0</td>\n",
       "    </tr>\n",
       "    <tr>\n",
       "      <th>1155504</th>\n",
       "      <td>298808</td>\n",
       "      <td>F</td>\n",
       "      <td>11.7</td>\n",
       "      <td>85.0</td>\n",
       "      <td>1159.0</td>\n",
       "    </tr>\n",
       "    <tr>\n",
       "      <th>1156618</th>\n",
       "      <td>299105</td>\n",
       "      <td>M</td>\n",
       "      <td>10.8</td>\n",
       "      <td>81.0</td>\n",
       "      <td>482.0</td>\n",
       "    </tr>\n",
       "    <tr>\n",
       "      <th>1158168</th>\n",
       "      <td>299496</td>\n",
       "      <td>F</td>\n",
       "      <td>6.4</td>\n",
       "      <td>59.0</td>\n",
       "      <td>95.0</td>\n",
       "    </tr>\n",
       "    <tr>\n",
       "      <th>1158684</th>\n",
       "      <td>299616</td>\n",
       "      <td>M</td>\n",
       "      <td>8.3</td>\n",
       "      <td>71.0</td>\n",
       "      <td>214.0</td>\n",
       "    </tr>\n",
       "  </tbody>\n",
       "</table>\n",
       "<p>392 rows × 5 columns</p>\n",
       "</div>"
      ],
      "text/plain": [
       "         id_individuo sexo   peso  talla  edad_dias\n",
       "5114             1332    F  293.6  133.0     2511.0\n",
       "9513             2445    F   13.3   89.0     1009.0\n",
       "11324            2901    M    8.3   69.0      374.0\n",
       "11706            2994    F   11.6   84.0      585.0\n",
       "17065            4377    F   24.4  121.0     2554.0\n",
       "...               ...  ...    ...    ...        ...\n",
       "1155170        298727    M    7.7   68.0      247.0\n",
       "1155504        298808    F   11.7   85.0     1159.0\n",
       "1156618        299105    M   10.8   81.0      482.0\n",
       "1158168        299496    F    6.4   59.0       95.0\n",
       "1158684        299616    M    8.3   71.0      214.0\n",
       "\n",
       "[392 rows x 5 columns]"
      ]
     },
     "execution_count": 1308,
     "metadata": {},
     "output_type": "execute_result"
    }
   ],
   "source": [
    "df_ind_edad = df[df[['id_individuo', 'edad_dias']].duplicated()]\n",
    "df_ind_edad"
   ]
  },
  {
   "cell_type": "code",
   "execution_count": 1309,
   "id": "5fbddb06",
   "metadata": {},
   "outputs": [
    {
     "data": {
      "text/plain": [
       "155773    2\n",
       "141824    1\n",
       "256500    1\n",
       "160606    1\n",
       "222115    1\n",
       "         ..\n",
       "135345    1\n",
       "14512     1\n",
       "82308     1\n",
       "67758     1\n",
       "101375    1\n",
       "Name: id_individuo, Length: 391, dtype: int64"
      ]
     },
     "execution_count": 1309,
     "metadata": {},
     "output_type": "execute_result"
    }
   ],
   "source": [
    "df_ind_edad['id_individuo'].value_counts()"
   ]
  },
  {
   "cell_type": "code",
   "execution_count": 1310,
   "id": "89f9333e",
   "metadata": {},
   "outputs": [
    {
     "data": {
      "text/html": [
       "<div>\n",
       "<style scoped>\n",
       "    .dataframe tbody tr th:only-of-type {\n",
       "        vertical-align: middle;\n",
       "    }\n",
       "\n",
       "    .dataframe tbody tr th {\n",
       "        vertical-align: top;\n",
       "    }\n",
       "\n",
       "    .dataframe thead th {\n",
       "        text-align: right;\n",
       "    }\n",
       "</style>\n",
       "<table border=\"1\" class=\"dataframe\">\n",
       "  <thead>\n",
       "    <tr style=\"text-align: right;\">\n",
       "      <th></th>\n",
       "      <th>id_individuo</th>\n",
       "      <th>sexo</th>\n",
       "      <th>peso</th>\n",
       "      <th>talla</th>\n",
       "      <th>edad_dias</th>\n",
       "    </tr>\n",
       "  </thead>\n",
       "  <tbody>\n",
       "    <tr>\n",
       "      <th>1158167</th>\n",
       "      <td>299496</td>\n",
       "      <td>F</td>\n",
       "      <td>6.3</td>\n",
       "      <td>59.0</td>\n",
       "      <td>95.0</td>\n",
       "    </tr>\n",
       "    <tr>\n",
       "      <th>1158168</th>\n",
       "      <td>299496</td>\n",
       "      <td>F</td>\n",
       "      <td>6.4</td>\n",
       "      <td>59.0</td>\n",
       "      <td>95.0</td>\n",
       "    </tr>\n",
       "  </tbody>\n",
       "</table>\n",
       "</div>"
      ],
      "text/plain": [
       "         id_individuo sexo  peso  talla  edad_dias\n",
       "1158167        299496    F   6.3   59.0       95.0\n",
       "1158168        299496    F   6.4   59.0       95.0"
      ]
     },
     "execution_count": 1310,
     "metadata": {},
     "output_type": "execute_result"
    }
   ],
   "source": [
    "df[(df['id_individuo'] == 299496) & (df['edad_dias'] == 95)] # Ejemplo: diferencia en la medición de peso"
   ]
  },
  {
   "cell_type": "markdown",
   "id": "41ab52cc",
   "metadata": {},
   "source": [
    "#### Diferencia en sexo"
   ]
  },
  {
   "cell_type": "code",
   "execution_count": 1311,
   "id": "aa959b14",
   "metadata": {},
   "outputs": [
    {
     "data": {
      "text/html": [
       "<div>\n",
       "<style scoped>\n",
       "    .dataframe tbody tr th:only-of-type {\n",
       "        vertical-align: middle;\n",
       "    }\n",
       "\n",
       "    .dataframe tbody tr th {\n",
       "        vertical-align: top;\n",
       "    }\n",
       "\n",
       "    .dataframe thead th {\n",
       "        text-align: right;\n",
       "    }\n",
       "</style>\n",
       "<table border=\"1\" class=\"dataframe\">\n",
       "  <thead>\n",
       "    <tr style=\"text-align: right;\">\n",
       "      <th></th>\n",
       "      <th>id_individuo</th>\n",
       "      <th>sexo</th>\n",
       "      <th>peso</th>\n",
       "      <th>talla</th>\n",
       "      <th>edad_dias</th>\n",
       "    </tr>\n",
       "  </thead>\n",
       "  <tbody>\n",
       "  </tbody>\n",
       "</table>\n",
       "</div>"
      ],
      "text/plain": [
       "Empty DataFrame\n",
       "Columns: [id_individuo, sexo, peso, talla, edad_dias]\n",
       "Index: []"
      ]
     },
     "execution_count": 1311,
     "metadata": {},
     "output_type": "execute_result"
    }
   ],
   "source": [
    "# diferencia en sexo ?\n",
    "df[(df[['id_individuo', 'edad_dias', 'peso', 'talla']].duplicated())] # NO HAY"
   ]
  },
  {
   "cell_type": "markdown",
   "id": "cdda7b27",
   "metadata": {},
   "source": [
    "#### Diferencia en peso"
   ]
  },
  {
   "cell_type": "code",
   "execution_count": 1312,
   "id": "51c9cfc2",
   "metadata": {},
   "outputs": [
    {
     "data": {
      "text/plain": [
       "155773    2\n",
       "286326    1\n",
       "153434    1\n",
       "91493     1\n",
       "6490      1\n",
       "         ..\n",
       "261511    1\n",
       "135345    1\n",
       "14512     1\n",
       "82308     1\n",
       "101375    1\n",
       "Name: id_individuo, Length: 367, dtype: int64"
      ]
     },
     "execution_count": 1312,
     "metadata": {},
     "output_type": "execute_result"
    }
   ],
   "source": [
    "# diferencia en peso\n",
    "df_dup_peso = df[(df[['id_individuo', 'edad_dias', 'talla']].duplicated())]\n",
    "ids_dup_peso = df_dup_peso['id_individuo']\n",
    "df_dup_peso['id_individuo'].value_counts()"
   ]
  },
  {
   "cell_type": "code",
   "execution_count": 1313,
   "id": "8ba72a25",
   "metadata": {},
   "outputs": [],
   "source": [
    "df_dif_peso = df[(df['id_individuo'].isin(ids_dup_peso))]"
   ]
  },
  {
   "cell_type": "code",
   "execution_count": 1314,
   "id": "043f9664",
   "metadata": {},
   "outputs": [
    {
     "data": {
      "text/html": [
       "<div>\n",
       "<style scoped>\n",
       "    .dataframe tbody tr th:only-of-type {\n",
       "        vertical-align: middle;\n",
       "    }\n",
       "\n",
       "    .dataframe tbody tr th {\n",
       "        vertical-align: top;\n",
       "    }\n",
       "\n",
       "    .dataframe thead th {\n",
       "        text-align: right;\n",
       "    }\n",
       "</style>\n",
       "<table border=\"1\" class=\"dataframe\">\n",
       "  <thead>\n",
       "    <tr style=\"text-align: right;\">\n",
       "      <th></th>\n",
       "      <th>id_individuo</th>\n",
       "      <th>edad_dias</th>\n",
       "      <th>peso_med_1</th>\n",
       "      <th>peso_med_2</th>\n",
       "    </tr>\n",
       "  </thead>\n",
       "  <tbody>\n",
       "    <tr>\n",
       "      <th>0</th>\n",
       "      <td>6822</td>\n",
       "      <td>656.0</td>\n",
       "      <td>10.8</td>\n",
       "      <td>108.2</td>\n",
       "    </tr>\n",
       "    <tr>\n",
       "      <th>1</th>\n",
       "      <td>108167</td>\n",
       "      <td>593.0</td>\n",
       "      <td>11.2</td>\n",
       "      <td>111.7</td>\n",
       "    </tr>\n",
       "    <tr>\n",
       "      <th>2</th>\n",
       "      <td>264560</td>\n",
       "      <td>715.0</td>\n",
       "      <td>12.2</td>\n",
       "      <td>120.4</td>\n",
       "    </tr>\n",
       "    <tr>\n",
       "      <th>3</th>\n",
       "      <td>222855</td>\n",
       "      <td>2932.0</td>\n",
       "      <td>26.7</td>\n",
       "      <td>266.8</td>\n",
       "    </tr>\n",
       "    <tr>\n",
       "      <th>4</th>\n",
       "      <td>1332</td>\n",
       "      <td>2511.0</td>\n",
       "      <td>29.4</td>\n",
       "      <td>293.6</td>\n",
       "    </tr>\n",
       "    <tr>\n",
       "      <th>5</th>\n",
       "      <td>177821</td>\n",
       "      <td>1019.0</td>\n",
       "      <td>12.6</td>\n",
       "      <td>12597.9</td>\n",
       "    </tr>\n",
       "  </tbody>\n",
       "</table>\n",
       "</div>"
      ],
      "text/plain": [
       "   id_individuo  edad_dias  peso_med_1  peso_med_2\n",
       "0          6822      656.0        10.8       108.2\n",
       "1        108167      593.0        11.2       111.7\n",
       "2        264560      715.0        12.2       120.4\n",
       "3        222855     2932.0        26.7       266.8\n",
       "4          1332     2511.0        29.4       293.6\n",
       "5        177821     1019.0        12.6     12597.9"
      ]
     },
     "execution_count": 1314,
     "metadata": {},
     "output_type": "execute_result"
    }
   ],
   "source": [
    "dif_peso = df_dif_peso.groupby(['id_individuo', 'edad_dias']).agg({'peso': ['min', 'max']})\n",
    "dif_peso['dif'] = dif_peso[('peso',    'max')] - dif_peso[('peso',    'min')]\n",
    "#dif_peso[(dif_peso['dif']>0) & (dif_peso['dif']<=10)].sort_values('dif') # 360\n",
    "ejemplo = dif_peso[(dif_peso['dif']>90)].sort_values('dif') # 7\n",
    "ejemplo.drop(columns='dif',inplace=True)\n",
    "ejemplo = ejemplo.reset_index()\n",
    "ejemplo.columns = ['_'.join(col) for col in ejemplo.columns.values]\n",
    "ejemplo.rename(columns={'id_individuo_': 'id_individuo', 'edad_dias_': 'edad_dias', 'peso_min': 'peso_med_1', 'peso_max': 'peso_med_2'},inplace=True)\n",
    "\n",
    "#dfi.export(ejemplo, 'images/dif_pesos.png')\n",
    "ejemplo\n",
    "#ejemplo.style.hide_index()\n",
    "#ejemplo.rename(columns={('peso',    'min'): ('peso',    'med_1')})\n",
    "# podemos tomar para los que difieren en menos de 10 kilos el promedio\n",
    "# que hacemos para el 155773 que no tiene sentido ninguna de las mediciones ???\n",
    "# para los que difieren en más de 10 kilos se puede ver que para la edad el peso razonable es el mínimo, \n",
    "# y viendo los números parecería que el error está en la unidad en que los datos fueron cargados, debería ser en kilos pero los cargaron en gramos"
   ]
  },
  {
   "cell_type": "code",
   "execution_count": 1315,
   "id": "01f83a1a",
   "metadata": {},
   "outputs": [
    {
     "data": {
      "text/plain": [
       "1160181"
      ]
     },
     "execution_count": 1315,
     "metadata": {},
     "output_type": "execute_result"
    }
   ],
   "source": [
    "df.shape[0]"
   ]
  },
  {
   "cell_type": "code",
   "execution_count": 1316,
   "id": "8098a808",
   "metadata": {},
   "outputs": [],
   "source": [
    "# elimino los fuera de rango de estos casos\n",
    "df.drop([687886],inplace=True)\n",
    "df.drop([5114],inplace=True)\n",
    "df.drop([862170],inplace=True)\n",
    "df.drop([1023018],inplace=True)\n",
    "df.drop([417895],inplace=True)\n",
    "df.drop([26386],inplace=True)"
   ]
  },
  {
   "cell_type": "code",
   "execution_count": 1318,
   "id": "1ae704e8",
   "metadata": {},
   "outputs": [],
   "source": [
    "# elimino los demás duplicados\n",
    "df.drop_duplicates(['id_individuo', 'edad_dias', 'talla'], keep=False,inplace=True)"
   ]
  },
  {
   "cell_type": "code",
   "execution_count": 1319,
   "id": "4337b7e1",
   "metadata": {},
   "outputs": [
    {
     "data": {
      "text/plain": [
       "1159451"
      ]
     },
     "execution_count": 1319,
     "metadata": {},
     "output_type": "execute_result"
    }
   ],
   "source": [
    "df.shape[0]"
   ]
  },
  {
   "cell_type": "code",
   "execution_count": 1320,
   "id": "cea24c50",
   "metadata": {},
   "outputs": [
    {
     "data": {
      "text/html": [
       "<div>\n",
       "<style scoped>\n",
       "    .dataframe tbody tr th:only-of-type {\n",
       "        vertical-align: middle;\n",
       "    }\n",
       "\n",
       "    .dataframe tbody tr th {\n",
       "        vertical-align: top;\n",
       "    }\n",
       "\n",
       "    .dataframe thead th {\n",
       "        text-align: right;\n",
       "    }\n",
       "</style>\n",
       "<table border=\"1\" class=\"dataframe\">\n",
       "  <thead>\n",
       "    <tr style=\"text-align: right;\">\n",
       "      <th></th>\n",
       "      <th>id_individuo</th>\n",
       "      <th>sexo</th>\n",
       "      <th>peso</th>\n",
       "      <th>talla</th>\n",
       "      <th>edad_dias</th>\n",
       "    </tr>\n",
       "  </thead>\n",
       "  <tbody>\n",
       "    <tr>\n",
       "      <th>602212</th>\n",
       "      <td>155773</td>\n",
       "      <td>F</td>\n",
       "      <td>34.3</td>\n",
       "      <td>55.0</td>\n",
       "      <td>70.0</td>\n",
       "    </tr>\n",
       "    <tr>\n",
       "      <th>602213</th>\n",
       "      <td>155773</td>\n",
       "      <td>F</td>\n",
       "      <td>67.6</td>\n",
       "      <td>55.0</td>\n",
       "      <td>70.0</td>\n",
       "    </tr>\n",
       "    <tr>\n",
       "      <th>602214</th>\n",
       "      <td>155773</td>\n",
       "      <td>F</td>\n",
       "      <td>34.3</td>\n",
       "      <td>61.0</td>\n",
       "      <td>98.0</td>\n",
       "    </tr>\n",
       "    <tr>\n",
       "      <th>602215</th>\n",
       "      <td>155773</td>\n",
       "      <td>F</td>\n",
       "      <td>67.6</td>\n",
       "      <td>61.0</td>\n",
       "      <td>98.0</td>\n",
       "    </tr>\n",
       "  </tbody>\n",
       "</table>\n",
       "</div>"
      ],
      "text/plain": [
       "        id_individuo sexo  peso  talla  edad_dias\n",
       "602212        155773    F  34.3   55.0       70.0\n",
       "602213        155773    F  67.6   55.0       70.0\n",
       "602214        155773    F  34.3   61.0       98.0\n",
       "602215        155773    F  67.6   61.0       98.0"
      ]
     },
     "execution_count": 1320,
     "metadata": {},
     "output_type": "execute_result"
    }
   ],
   "source": [
    "# el 155773 lo voy a ver por separado\n",
    "df_dif_peso[((df_dif_peso['id_individuo'] == 155773) & (df_dif_peso['edad_dias'] == 70)) | ((df_dif_peso['id_individuo'] == 155773) & (df_dif_peso['edad_dias'] == 98))]\n",
    "# ninguno de los pesos tiene sentido para la cantidad de días - probablemente sea un error"
   ]
  },
  {
   "cell_type": "code",
   "execution_count": 1321,
   "id": "5a1fa287",
   "metadata": {},
   "outputs": [
    {
     "data": {
      "text/html": [
       "<div>\n",
       "<style scoped>\n",
       "    .dataframe tbody tr th:only-of-type {\n",
       "        vertical-align: middle;\n",
       "    }\n",
       "\n",
       "    .dataframe tbody tr th {\n",
       "        vertical-align: top;\n",
       "    }\n",
       "\n",
       "    .dataframe thead th {\n",
       "        text-align: right;\n",
       "    }\n",
       "</style>\n",
       "<table border=\"1\" class=\"dataframe\">\n",
       "  <thead>\n",
       "    <tr style=\"text-align: right;\">\n",
       "      <th></th>\n",
       "      <th>id_individuo</th>\n",
       "      <th>sexo</th>\n",
       "      <th>peso</th>\n",
       "      <th>talla</th>\n",
       "      <th>edad_dias</th>\n",
       "    </tr>\n",
       "  </thead>\n",
       "  <tbody>\n",
       "    <tr>\n",
       "      <th>602210</th>\n",
       "      <td>155773</td>\n",
       "      <td>F</td>\n",
       "      <td>34.3</td>\n",
       "      <td>55.0</td>\n",
       "      <td>43.0</td>\n",
       "    </tr>\n",
       "    <tr>\n",
       "      <th>602211</th>\n",
       "      <td>155773</td>\n",
       "      <td>F</td>\n",
       "      <td>67.6</td>\n",
       "      <td>55.0</td>\n",
       "      <td>48.0</td>\n",
       "    </tr>\n",
       "    <tr>\n",
       "      <th>602212</th>\n",
       "      <td>155773</td>\n",
       "      <td>F</td>\n",
       "      <td>34.3</td>\n",
       "      <td>55.0</td>\n",
       "      <td>70.0</td>\n",
       "    </tr>\n",
       "    <tr>\n",
       "      <th>602213</th>\n",
       "      <td>155773</td>\n",
       "      <td>F</td>\n",
       "      <td>67.6</td>\n",
       "      <td>55.0</td>\n",
       "      <td>70.0</td>\n",
       "    </tr>\n",
       "    <tr>\n",
       "      <th>602214</th>\n",
       "      <td>155773</td>\n",
       "      <td>F</td>\n",
       "      <td>34.3</td>\n",
       "      <td>61.0</td>\n",
       "      <td>98.0</td>\n",
       "    </tr>\n",
       "    <tr>\n",
       "      <th>602215</th>\n",
       "      <td>155773</td>\n",
       "      <td>F</td>\n",
       "      <td>67.6</td>\n",
       "      <td>61.0</td>\n",
       "      <td>98.0</td>\n",
       "    </tr>\n",
       "    <tr>\n",
       "      <th>602216</th>\n",
       "      <td>155773</td>\n",
       "      <td>F</td>\n",
       "      <td>9.6</td>\n",
       "      <td>75.0</td>\n",
       "      <td>325.0</td>\n",
       "    </tr>\n",
       "    <tr>\n",
       "      <th>602217</th>\n",
       "      <td>155773</td>\n",
       "      <td>F</td>\n",
       "      <td>10.2</td>\n",
       "      <td>75.0</td>\n",
       "      <td>373.0</td>\n",
       "    </tr>\n",
       "    <tr>\n",
       "      <th>602218</th>\n",
       "      <td>155773</td>\n",
       "      <td>F</td>\n",
       "      <td>12.2</td>\n",
       "      <td>30.0</td>\n",
       "      <td>555.0</td>\n",
       "    </tr>\n",
       "    <tr>\n",
       "      <th>602219</th>\n",
       "      <td>155773</td>\n",
       "      <td>F</td>\n",
       "      <td>12.5</td>\n",
       "      <td>86.0</td>\n",
       "      <td>653.0</td>\n",
       "    </tr>\n",
       "    <tr>\n",
       "      <th>602220</th>\n",
       "      <td>155773</td>\n",
       "      <td>F</td>\n",
       "      <td>15.7</td>\n",
       "      <td>97.0</td>\n",
       "      <td>1122.0</td>\n",
       "    </tr>\n",
       "    <tr>\n",
       "      <th>602221</th>\n",
       "      <td>155773</td>\n",
       "      <td>F</td>\n",
       "      <td>16.6</td>\n",
       "      <td>101.0</td>\n",
       "      <td>1318.0</td>\n",
       "    </tr>\n",
       "    <tr>\n",
       "      <th>602222</th>\n",
       "      <td>155773</td>\n",
       "      <td>F</td>\n",
       "      <td>21.7</td>\n",
       "      <td>110.0</td>\n",
       "      <td>2004.0</td>\n",
       "    </tr>\n",
       "  </tbody>\n",
       "</table>\n",
       "</div>"
      ],
      "text/plain": [
       "        id_individuo sexo  peso  talla  edad_dias\n",
       "602210        155773    F  34.3   55.0       43.0\n",
       "602211        155773    F  67.6   55.0       48.0\n",
       "602212        155773    F  34.3   55.0       70.0\n",
       "602213        155773    F  67.6   55.0       70.0\n",
       "602214        155773    F  34.3   61.0       98.0\n",
       "602215        155773    F  67.6   61.0       98.0\n",
       "602216        155773    F   9.6   75.0      325.0\n",
       "602217        155773    F  10.2   75.0      373.0\n",
       "602218        155773    F  12.2   30.0      555.0\n",
       "602219        155773    F  12.5   86.0      653.0\n",
       "602220        155773    F  15.7   97.0     1122.0\n",
       "602221        155773    F  16.6  101.0     1318.0\n",
       "602222        155773    F  21.7  110.0     2004.0"
      ]
     },
     "execution_count": 1321,
     "metadata": {},
     "output_type": "execute_result"
    }
   ],
   "source": [
    "df_dif_peso[df_dif_peso['id_individuo'] == 155773]"
   ]
  },
  {
   "cell_type": "markdown",
   "id": "39cbaae7",
   "metadata": {},
   "source": [
    "#### Diferencia en talla"
   ]
  },
  {
   "cell_type": "code",
   "execution_count": 1322,
   "id": "4278f99d",
   "metadata": {},
   "outputs": [
    {
     "data": {
      "text/html": [
       "<div>\n",
       "<style scoped>\n",
       "    .dataframe tbody tr th:only-of-type {\n",
       "        vertical-align: middle;\n",
       "    }\n",
       "\n",
       "    .dataframe tbody tr th {\n",
       "        vertical-align: top;\n",
       "    }\n",
       "\n",
       "    .dataframe thead th {\n",
       "        text-align: right;\n",
       "    }\n",
       "</style>\n",
       "<table border=\"1\" class=\"dataframe\">\n",
       "  <thead>\n",
       "    <tr style=\"text-align: right;\">\n",
       "      <th></th>\n",
       "      <th>id_individuo</th>\n",
       "      <th>sexo</th>\n",
       "      <th>peso</th>\n",
       "      <th>talla</th>\n",
       "      <th>edad_dias</th>\n",
       "    </tr>\n",
       "  </thead>\n",
       "  <tbody>\n",
       "    <tr>\n",
       "      <th>388672</th>\n",
       "      <td>100620</td>\n",
       "      <td>F</td>\n",
       "      <td>4.1</td>\n",
       "      <td>96.0</td>\n",
       "      <td>14.0</td>\n",
       "    </tr>\n",
       "    <tr>\n",
       "      <th>1141340</th>\n",
       "      <td>295161</td>\n",
       "      <td>F</td>\n",
       "      <td>9.3</td>\n",
       "      <td>74.0</td>\n",
       "      <td>314.0</td>\n",
       "    </tr>\n",
       "  </tbody>\n",
       "</table>\n",
       "</div>"
      ],
      "text/plain": [
       "         id_individuo sexo  peso  talla  edad_dias\n",
       "388672         100620    F   4.1   96.0       14.0\n",
       "1141340        295161    F   9.3   74.0      314.0"
      ]
     },
     "execution_count": 1322,
     "metadata": {},
     "output_type": "execute_result"
    }
   ],
   "source": [
    "# diferencia en talla\n",
    "df_dup_talla = df[(df[['id_individuo', 'edad_dias', 'peso']].duplicated())]\n",
    "ids_dup_talla = df_dup_talla['id_individuo']\n",
    "df_dup_talla"
   ]
  },
  {
   "cell_type": "code",
   "execution_count": 1323,
   "id": "266056e6",
   "metadata": {},
   "outputs": [
    {
     "data": {
      "text/html": [
       "<div>\n",
       "<style scoped>\n",
       "    .dataframe tbody tr th:only-of-type {\n",
       "        vertical-align: middle;\n",
       "    }\n",
       "\n",
       "    .dataframe tbody tr th {\n",
       "        vertical-align: top;\n",
       "    }\n",
       "\n",
       "    .dataframe thead th {\n",
       "        text-align: right;\n",
       "    }\n",
       "</style>\n",
       "<table border=\"1\" class=\"dataframe\">\n",
       "  <thead>\n",
       "    <tr style=\"text-align: right;\">\n",
       "      <th></th>\n",
       "      <th>id_individuo</th>\n",
       "      <th>sexo</th>\n",
       "      <th>peso</th>\n",
       "      <th>talla</th>\n",
       "      <th>edad_dias</th>\n",
       "    </tr>\n",
       "  </thead>\n",
       "  <tbody>\n",
       "    <tr>\n",
       "      <th>388671</th>\n",
       "      <td>100620</td>\n",
       "      <td>F</td>\n",
       "      <td>4.1</td>\n",
       "      <td>51.0</td>\n",
       "      <td>14.0</td>\n",
       "    </tr>\n",
       "    <tr>\n",
       "      <th>388672</th>\n",
       "      <td>100620</td>\n",
       "      <td>F</td>\n",
       "      <td>4.1</td>\n",
       "      <td>96.0</td>\n",
       "      <td>14.0</td>\n",
       "    </tr>\n",
       "  </tbody>\n",
       "</table>\n",
       "</div>"
      ],
      "text/plain": [
       "        id_individuo sexo  peso  talla  edad_dias\n",
       "388671        100620    F   4.1   51.0       14.0\n",
       "388672        100620    F   4.1   96.0       14.0"
      ]
     },
     "execution_count": 1323,
     "metadata": {},
     "output_type": "execute_result"
    }
   ],
   "source": [
    "df[(df['id_individuo'] == 100620) & (df['edad_dias'] == 14)]"
   ]
  },
  {
   "cell_type": "code",
   "execution_count": 1324,
   "id": "dd0fb0ff",
   "metadata": {},
   "outputs": [
    {
     "data": {
      "text/html": [
       "<div>\n",
       "<style scoped>\n",
       "    .dataframe tbody tr th:only-of-type {\n",
       "        vertical-align: middle;\n",
       "    }\n",
       "\n",
       "    .dataframe tbody tr th {\n",
       "        vertical-align: top;\n",
       "    }\n",
       "\n",
       "    .dataframe thead th {\n",
       "        text-align: right;\n",
       "    }\n",
       "</style>\n",
       "<table border=\"1\" class=\"dataframe\">\n",
       "  <thead>\n",
       "    <tr style=\"text-align: right;\">\n",
       "      <th></th>\n",
       "      <th>id_individuo</th>\n",
       "      <th>sexo</th>\n",
       "      <th>peso</th>\n",
       "      <th>talla</th>\n",
       "      <th>edad_dias</th>\n",
       "    </tr>\n",
       "  </thead>\n",
       "  <tbody>\n",
       "    <tr>\n",
       "      <th>388671</th>\n",
       "      <td>100620</td>\n",
       "      <td>F</td>\n",
       "      <td>4.1</td>\n",
       "      <td>51.0</td>\n",
       "      <td>14.0</td>\n",
       "    </tr>\n",
       "    <tr>\n",
       "      <th>388672</th>\n",
       "      <td>100620</td>\n",
       "      <td>F</td>\n",
       "      <td>4.1</td>\n",
       "      <td>96.0</td>\n",
       "      <td>14.0</td>\n",
       "    </tr>\n",
       "    <tr>\n",
       "      <th>388673</th>\n",
       "      <td>100620</td>\n",
       "      <td>F</td>\n",
       "      <td>5.0</td>\n",
       "      <td>55.0</td>\n",
       "      <td>35.0</td>\n",
       "    </tr>\n",
       "    <tr>\n",
       "      <th>388674</th>\n",
       "      <td>100620</td>\n",
       "      <td>F</td>\n",
       "      <td>6.7</td>\n",
       "      <td>58.0</td>\n",
       "      <td>86.0</td>\n",
       "    </tr>\n",
       "    <tr>\n",
       "      <th>388675</th>\n",
       "      <td>100620</td>\n",
       "      <td>F</td>\n",
       "      <td>10.2</td>\n",
       "      <td>74.0</td>\n",
       "      <td>288.0</td>\n",
       "    </tr>\n",
       "    <tr>\n",
       "      <th>388676</th>\n",
       "      <td>100620</td>\n",
       "      <td>F</td>\n",
       "      <td>11.2</td>\n",
       "      <td>78.0</td>\n",
       "      <td>380.0</td>\n",
       "    </tr>\n",
       "    <tr>\n",
       "      <th>388677</th>\n",
       "      <td>100620</td>\n",
       "      <td>F</td>\n",
       "      <td>12.0</td>\n",
       "      <td>81.0</td>\n",
       "      <td>477.0</td>\n",
       "    </tr>\n",
       "    <tr>\n",
       "      <th>388678</th>\n",
       "      <td>100620</td>\n",
       "      <td>F</td>\n",
       "      <td>13.8</td>\n",
       "      <td>89.0</td>\n",
       "      <td>797.0</td>\n",
       "    </tr>\n",
       "  </tbody>\n",
       "</table>\n",
       "</div>"
      ],
      "text/plain": [
       "        id_individuo sexo  peso  talla  edad_dias\n",
       "388671        100620    F   4.1   51.0       14.0\n",
       "388672        100620    F   4.1   96.0       14.0\n",
       "388673        100620    F   5.0   55.0       35.0\n",
       "388674        100620    F   6.7   58.0       86.0\n",
       "388675        100620    F  10.2   74.0      288.0\n",
       "388676        100620    F  11.2   78.0      380.0\n",
       "388677        100620    F  12.0   81.0      477.0\n",
       "388678        100620    F  13.8   89.0      797.0"
      ]
     },
     "execution_count": 1324,
     "metadata": {},
     "output_type": "execute_result"
    }
   ],
   "source": [
    "df[(df['id_individuo'] == 100620)] # el de 96 está mal"
   ]
  },
  {
   "cell_type": "code",
   "execution_count": 1325,
   "id": "da40a098",
   "metadata": {},
   "outputs": [
    {
     "data": {
      "text/html": [
       "<div>\n",
       "<style scoped>\n",
       "    .dataframe tbody tr th:only-of-type {\n",
       "        vertical-align: middle;\n",
       "    }\n",
       "\n",
       "    .dataframe tbody tr th {\n",
       "        vertical-align: top;\n",
       "    }\n",
       "\n",
       "    .dataframe thead th {\n",
       "        text-align: right;\n",
       "    }\n",
       "</style>\n",
       "<table border=\"1\" class=\"dataframe\">\n",
       "  <thead>\n",
       "    <tr style=\"text-align: right;\">\n",
       "      <th></th>\n",
       "      <th>id_individuo</th>\n",
       "      <th>sexo</th>\n",
       "      <th>peso</th>\n",
       "      <th>talla</th>\n",
       "      <th>edad_dias</th>\n",
       "    </tr>\n",
       "  </thead>\n",
       "  <tbody>\n",
       "    <tr>\n",
       "      <th>1141339</th>\n",
       "      <td>295161</td>\n",
       "      <td>F</td>\n",
       "      <td>9.3</td>\n",
       "      <td>49.0</td>\n",
       "      <td>314.0</td>\n",
       "    </tr>\n",
       "    <tr>\n",
       "      <th>1141340</th>\n",
       "      <td>295161</td>\n",
       "      <td>F</td>\n",
       "      <td>9.3</td>\n",
       "      <td>74.0</td>\n",
       "      <td>314.0</td>\n",
       "    </tr>\n",
       "  </tbody>\n",
       "</table>\n",
       "</div>"
      ],
      "text/plain": [
       "         id_individuo sexo  peso  talla  edad_dias\n",
       "1141339        295161    F   9.3   49.0      314.0\n",
       "1141340        295161    F   9.3   74.0      314.0"
      ]
     },
     "execution_count": 1325,
     "metadata": {},
     "output_type": "execute_result"
    }
   ],
   "source": [
    "df[(df['id_individuo'] == 295161) & (df['edad_dias'] == 314)]"
   ]
  },
  {
   "cell_type": "code",
   "execution_count": 1326,
   "id": "e11e5837",
   "metadata": {},
   "outputs": [
    {
     "data": {
      "text/html": [
       "<div>\n",
       "<style scoped>\n",
       "    .dataframe tbody tr th:only-of-type {\n",
       "        vertical-align: middle;\n",
       "    }\n",
       "\n",
       "    .dataframe tbody tr th {\n",
       "        vertical-align: top;\n",
       "    }\n",
       "\n",
       "    .dataframe thead th {\n",
       "        text-align: right;\n",
       "    }\n",
       "</style>\n",
       "<table border=\"1\" class=\"dataframe\">\n",
       "  <thead>\n",
       "    <tr style=\"text-align: right;\">\n",
       "      <th></th>\n",
       "      <th>id_individuo</th>\n",
       "      <th>sexo</th>\n",
       "      <th>peso</th>\n",
       "      <th>talla</th>\n",
       "      <th>edad_dias</th>\n",
       "    </tr>\n",
       "  </thead>\n",
       "  <tbody>\n",
       "    <tr>\n",
       "      <th>1141337</th>\n",
       "      <td>295161</td>\n",
       "      <td>F</td>\n",
       "      <td>4.3</td>\n",
       "      <td>52.0</td>\n",
       "      <td>39.0</td>\n",
       "    </tr>\n",
       "    <tr>\n",
       "      <th>1141338</th>\n",
       "      <td>295161</td>\n",
       "      <td>F</td>\n",
       "      <td>5.1</td>\n",
       "      <td>56.0</td>\n",
       "      <td>69.0</td>\n",
       "    </tr>\n",
       "    <tr>\n",
       "      <th>1141339</th>\n",
       "      <td>295161</td>\n",
       "      <td>F</td>\n",
       "      <td>9.3</td>\n",
       "      <td>49.0</td>\n",
       "      <td>314.0</td>\n",
       "    </tr>\n",
       "    <tr>\n",
       "      <th>1141340</th>\n",
       "      <td>295161</td>\n",
       "      <td>F</td>\n",
       "      <td>9.3</td>\n",
       "      <td>74.0</td>\n",
       "      <td>314.0</td>\n",
       "    </tr>\n",
       "    <tr>\n",
       "      <th>1141341</th>\n",
       "      <td>295161</td>\n",
       "      <td>F</td>\n",
       "      <td>10.4</td>\n",
       "      <td>79.0</td>\n",
       "      <td>561.0</td>\n",
       "    </tr>\n",
       "    <tr>\n",
       "      <th>1141342</th>\n",
       "      <td>295161</td>\n",
       "      <td>F</td>\n",
       "      <td>11.6</td>\n",
       "      <td>84.0</td>\n",
       "      <td>749.0</td>\n",
       "    </tr>\n",
       "  </tbody>\n",
       "</table>\n",
       "</div>"
      ],
      "text/plain": [
       "         id_individuo sexo  peso  talla  edad_dias\n",
       "1141337        295161    F   4.3   52.0       39.0\n",
       "1141338        295161    F   5.1   56.0       69.0\n",
       "1141339        295161    F   9.3   49.0      314.0\n",
       "1141340        295161    F   9.3   74.0      314.0\n",
       "1141341        295161    F  10.4   79.0      561.0\n",
       "1141342        295161    F  11.6   84.0      749.0"
      ]
     },
     "execution_count": 1326,
     "metadata": {},
     "output_type": "execute_result"
    }
   ],
   "source": [
    "df[(df['id_individuo'] == 295161)] # el de 49 está mal"
   ]
  },
  {
   "cell_type": "code",
   "execution_count": 1327,
   "id": "fcce0c58",
   "metadata": {},
   "outputs": [],
   "source": [
    "# hago los drop necesarios\n",
    "df.drop([388672], inplace = True)\n",
    "df.drop([1141339], inplace = True)"
   ]
  },
  {
   "cell_type": "markdown",
   "id": "f55a7603",
   "metadata": {},
   "source": [
    "#### Diferencia en peso y talla"
   ]
  },
  {
   "cell_type": "code",
   "execution_count": 1328,
   "id": "f5b26c40",
   "metadata": {},
   "outputs": [
    {
     "data": {
      "text/html": [
       "<div>\n",
       "<style scoped>\n",
       "    .dataframe tbody tr th:only-of-type {\n",
       "        vertical-align: middle;\n",
       "    }\n",
       "\n",
       "    .dataframe tbody tr th {\n",
       "        vertical-align: top;\n",
       "    }\n",
       "\n",
       "    .dataframe thead th {\n",
       "        text-align: right;\n",
       "    }\n",
       "</style>\n",
       "<table border=\"1\" class=\"dataframe\">\n",
       "  <thead>\n",
       "    <tr style=\"text-align: right;\">\n",
       "      <th></th>\n",
       "      <th>id_individuo</th>\n",
       "      <th>sexo</th>\n",
       "      <th>peso</th>\n",
       "      <th>talla</th>\n",
       "      <th>edad_dias</th>\n",
       "    </tr>\n",
       "  </thead>\n",
       "  <tbody>\n",
       "    <tr>\n",
       "      <th>29334</th>\n",
       "      <td>7589</td>\n",
       "      <td>M</td>\n",
       "      <td>57.5</td>\n",
       "      <td>163.0</td>\n",
       "      <td>5547.0</td>\n",
       "    </tr>\n",
       "    <tr>\n",
       "      <th>78067</th>\n",
       "      <td>20374</td>\n",
       "      <td>F</td>\n",
       "      <td>19.9</td>\n",
       "      <td>120.0</td>\n",
       "      <td>2018.0</td>\n",
       "    </tr>\n",
       "    <tr>\n",
       "      <th>143070</th>\n",
       "      <td>37146</td>\n",
       "      <td>F</td>\n",
       "      <td>57.8</td>\n",
       "      <td>155.0</td>\n",
       "      <td>5765.0</td>\n",
       "    </tr>\n",
       "    <tr>\n",
       "      <th>220512</th>\n",
       "      <td>57197</td>\n",
       "      <td>M</td>\n",
       "      <td>9.5</td>\n",
       "      <td>76.0</td>\n",
       "      <td>392.0</td>\n",
       "    </tr>\n",
       "    <tr>\n",
       "      <th>338896</th>\n",
       "      <td>87774</td>\n",
       "      <td>M</td>\n",
       "      <td>14.2</td>\n",
       "      <td>54.0</td>\n",
       "      <td>758.0</td>\n",
       "    </tr>\n",
       "    <tr>\n",
       "      <th>361057</th>\n",
       "      <td>93448</td>\n",
       "      <td>M</td>\n",
       "      <td>24.1</td>\n",
       "      <td>116.0</td>\n",
       "      <td>2248.0</td>\n",
       "    </tr>\n",
       "    <tr>\n",
       "      <th>368111</th>\n",
       "      <td>95277</td>\n",
       "      <td>F</td>\n",
       "      <td>39.5</td>\n",
       "      <td>143.0</td>\n",
       "      <td>4169.0</td>\n",
       "    </tr>\n",
       "    <tr>\n",
       "      <th>385925</th>\n",
       "      <td>99897</td>\n",
       "      <td>F</td>\n",
       "      <td>25.8</td>\n",
       "      <td>121.0</td>\n",
       "      <td>2437.0</td>\n",
       "    </tr>\n",
       "    <tr>\n",
       "      <th>416708</th>\n",
       "      <td>107879</td>\n",
       "      <td>F</td>\n",
       "      <td>34.7</td>\n",
       "      <td>139.0</td>\n",
       "      <td>3589.0</td>\n",
       "    </tr>\n",
       "    <tr>\n",
       "      <th>463674</th>\n",
       "      <td>119982</td>\n",
       "      <td>F</td>\n",
       "      <td>43.9</td>\n",
       "      <td>132.0</td>\n",
       "      <td>2877.0</td>\n",
       "    </tr>\n",
       "    <tr>\n",
       "      <th>500885</th>\n",
       "      <td>129569</td>\n",
       "      <td>M</td>\n",
       "      <td>14.6</td>\n",
       "      <td>101.0</td>\n",
       "      <td>1157.0</td>\n",
       "    </tr>\n",
       "    <tr>\n",
       "      <th>561696</th>\n",
       "      <td>145358</td>\n",
       "      <td>F</td>\n",
       "      <td>21.0</td>\n",
       "      <td>137.0</td>\n",
       "      <td>342.0</td>\n",
       "    </tr>\n",
       "    <tr>\n",
       "      <th>586960</th>\n",
       "      <td>151870</td>\n",
       "      <td>F</td>\n",
       "      <td>6.0</td>\n",
       "      <td>59.0</td>\n",
       "      <td>121.0</td>\n",
       "    </tr>\n",
       "    <tr>\n",
       "      <th>587370</th>\n",
       "      <td>151976</td>\n",
       "      <td>M</td>\n",
       "      <td>23.4</td>\n",
       "      <td>112.0</td>\n",
       "      <td>759.0</td>\n",
       "    </tr>\n",
       "    <tr>\n",
       "      <th>631490</th>\n",
       "      <td>163301</td>\n",
       "      <td>M</td>\n",
       "      <td>56.7</td>\n",
       "      <td>163.0</td>\n",
       "      <td>4708.0</td>\n",
       "    </tr>\n",
       "    <tr>\n",
       "      <th>716194</th>\n",
       "      <td>185085</td>\n",
       "      <td>F</td>\n",
       "      <td>94.7</td>\n",
       "      <td>152.0</td>\n",
       "      <td>1084.0</td>\n",
       "    </tr>\n",
       "    <tr>\n",
       "      <th>794130</th>\n",
       "      <td>205279</td>\n",
       "      <td>M</td>\n",
       "      <td>67.0</td>\n",
       "      <td>171.0</td>\n",
       "      <td>6010.0</td>\n",
       "    </tr>\n",
       "    <tr>\n",
       "      <th>893258</th>\n",
       "      <td>230953</td>\n",
       "      <td>F</td>\n",
       "      <td>269.5</td>\n",
       "      <td>138.0</td>\n",
       "      <td>2789.0</td>\n",
       "    </tr>\n",
       "    <tr>\n",
       "      <th>898226</th>\n",
       "      <td>232247</td>\n",
       "      <td>F</td>\n",
       "      <td>43.3</td>\n",
       "      <td>150.0</td>\n",
       "      <td>4302.0</td>\n",
       "    </tr>\n",
       "    <tr>\n",
       "      <th>918806</th>\n",
       "      <td>237574</td>\n",
       "      <td>F</td>\n",
       "      <td>14.7</td>\n",
       "      <td>89.0</td>\n",
       "      <td>1151.0</td>\n",
       "    </tr>\n",
       "    <tr>\n",
       "      <th>1011519</th>\n",
       "      <td>261603</td>\n",
       "      <td>F</td>\n",
       "      <td>41.3</td>\n",
       "      <td>148.0</td>\n",
       "      <td>4661.0</td>\n",
       "    </tr>\n",
       "    <tr>\n",
       "      <th>1085014</th>\n",
       "      <td>280634</td>\n",
       "      <td>F</td>\n",
       "      <td>4.7</td>\n",
       "      <td>52.0</td>\n",
       "      <td>31.0</td>\n",
       "    </tr>\n",
       "  </tbody>\n",
       "</table>\n",
       "</div>"
      ],
      "text/plain": [
       "         id_individuo sexo   peso  talla  edad_dias\n",
       "29334            7589    M   57.5  163.0     5547.0\n",
       "78067           20374    F   19.9  120.0     2018.0\n",
       "143070          37146    F   57.8  155.0     5765.0\n",
       "220512          57197    M    9.5   76.0      392.0\n",
       "338896          87774    M   14.2   54.0      758.0\n",
       "361057          93448    M   24.1  116.0     2248.0\n",
       "368111          95277    F   39.5  143.0     4169.0\n",
       "385925          99897    F   25.8  121.0     2437.0\n",
       "416708         107879    F   34.7  139.0     3589.0\n",
       "463674         119982    F   43.9  132.0     2877.0\n",
       "500885         129569    M   14.6  101.0     1157.0\n",
       "561696         145358    F   21.0  137.0      342.0\n",
       "586960         151870    F    6.0   59.0      121.0\n",
       "587370         151976    M   23.4  112.0      759.0\n",
       "631490         163301    M   56.7  163.0     4708.0\n",
       "716194         185085    F   94.7  152.0     1084.0\n",
       "794130         205279    M   67.0  171.0     6010.0\n",
       "893258         230953    F  269.5  138.0     2789.0\n",
       "898226         232247    F   43.3  150.0     4302.0\n",
       "918806         237574    F   14.7   89.0     1151.0\n",
       "1011519        261603    F   41.3  148.0     4661.0\n",
       "1085014        280634    F    4.7   52.0       31.0"
      ]
     },
     "execution_count": 1328,
     "metadata": {},
     "output_type": "execute_result"
    }
   ],
   "source": [
    "# diferencia en ambos\n",
    "df_dup_ambos = df[(df[['id_individuo', 'edad_dias']].duplicated()) & (~df['id_individuo'].isin(ids_dup_talla)) & (~df['id_individuo'].isin(ids_dup_peso))]\n",
    "ids_dup_ambos = df_dup_ambos['id_individuo']\n",
    "df_dup_ambos"
   ]
  },
  {
   "cell_type": "code",
   "execution_count": 1329,
   "id": "0fa2eca4",
   "metadata": {},
   "outputs": [
    {
     "data": {
      "text/plain": [
       "22"
      ]
     },
     "execution_count": 1329,
     "metadata": {},
     "output_type": "execute_result"
    }
   ],
   "source": [
    "len(df_dup_ambos['id_individuo'].value_counts())"
   ]
  },
  {
   "cell_type": "code",
   "execution_count": 1330,
   "id": "11e4d657",
   "metadata": {},
   "outputs": [],
   "source": [
    "#df_dif_ambos = df[(df['id_individuo'].isin(ids_dup_ambos))]"
   ]
  },
  {
   "cell_type": "code",
   "execution_count": 1331,
   "id": "a9a8778f",
   "metadata": {
    "collapsed": true
   },
   "outputs": [
    {
     "data": {
      "text/plain": [
       "\"dif_ambos = df_dif_ambos.groupby(['id_individuo', 'edad_dias']).agg({'peso': ['min', 'max', 'mean'], 'talla': ['min', 'max', 'mean']})\\ndif_ambos['dif_peso'] = dif_ambos[('peso',    'max')] - dif_ambos[('peso',    'min')]\\ndif_ambos['dif_talla'] = dif_ambos[('talla',    'max')] - dif_ambos[('talla',    'min')]\\ndif_ambos\\ndif_ambos[(dif_ambos['dif_peso']>0) & (dif_ambos['dif_talla']>0)].sort_values('dif_peso') #22\\n#dif_peso[(dif_peso['dif']>10)].sort_values('dif') # 7\""
      ]
     },
     "execution_count": 1331,
     "metadata": {},
     "output_type": "execute_result"
    }
   ],
   "source": [
    "'''dif_ambos = df_dif_ambos.groupby(['id_individuo', 'edad_dias']).agg({'peso': ['min', 'max', 'mean'], 'talla': ['min', 'max', 'mean']})\n",
    "dif_ambos['dif_peso'] = dif_ambos[('peso',    'max')] - dif_ambos[('peso',    'min')]\n",
    "dif_ambos['dif_talla'] = dif_ambos[('talla',    'max')] - dif_ambos[('talla',    'min')]\n",
    "dif_ambos\n",
    "dif_ambos[(dif_ambos['dif_peso']>0) & (dif_ambos['dif_talla']>0)].sort_values('dif_peso') #22\n",
    "#dif_peso[(dif_peso['dif']>10)].sort_values('dif') # 7'''"
   ]
  },
  {
   "cell_type": "code",
   "execution_count": 1332,
   "id": "13ae6c91",
   "metadata": {},
   "outputs": [],
   "source": [
    "#df[(df['id_individuo'] == 7589) & (df['edad_dias'] == 5547)]"
   ]
  },
  {
   "cell_type": "code",
   "execution_count": 1333,
   "id": "4bb55fa4",
   "metadata": {},
   "outputs": [],
   "source": [
    "#df[(df['id_individuo'] == 7589)] # estará mal la edad en días?"
   ]
  },
  {
   "cell_type": "code",
   "execution_count": 1334,
   "id": "246d5f33",
   "metadata": {},
   "outputs": [],
   "source": [
    "#df[(df['id_individuo'] == 20374) & (df['edad_dias'] == 2018)]"
   ]
  },
  {
   "cell_type": "code",
   "execution_count": 1335,
   "id": "59b17103",
   "metadata": {},
   "outputs": [],
   "source": [
    "#df[(df['id_individuo'] == 20374)] # esta mal la de talla 109"
   ]
  },
  {
   "cell_type": "code",
   "execution_count": 1336,
   "id": "0c44ce4e",
   "metadata": {},
   "outputs": [],
   "source": [
    "#df[(df['id_individuo'] == 37146) & (df['edad_dias'] == 5765)]"
   ]
  },
  {
   "cell_type": "code",
   "execution_count": 1337,
   "id": "6b883a7f",
   "metadata": {},
   "outputs": [],
   "source": [
    "#df[(df['id_individuo'] == 37146)] # cualquiera de las dos podría estar bien - tomar promerdio de talla y peso"
   ]
  },
  {
   "cell_type": "code",
   "execution_count": 1338,
   "id": "1f2f1f31",
   "metadata": {},
   "outputs": [],
   "source": [
    "#df[(df['id_individuo'].isin(ids_dup_ambos))]"
   ]
  },
  {
   "cell_type": "code",
   "execution_count": 1339,
   "id": "4dcb0d2e",
   "metadata": {},
   "outputs": [
    {
     "data": {
      "text/plain": [
       "1159449"
      ]
     },
     "execution_count": 1339,
     "metadata": {},
     "output_type": "execute_result"
    }
   ],
   "source": [
    "df.shape[0]"
   ]
  },
  {
   "cell_type": "code",
   "execution_count": 1340,
   "id": "ae72f509",
   "metadata": {},
   "outputs": [],
   "source": [
    "df.drop_duplicates(['id_individuo', 'edad_dias'], keep=False,inplace=True)"
   ]
  },
  {
   "cell_type": "code",
   "execution_count": 1341,
   "id": "31f80516",
   "metadata": {},
   "outputs": [
    {
     "data": {
      "text/plain": [
       "1159405"
      ]
     },
     "execution_count": 1341,
     "metadata": {},
     "output_type": "execute_result"
    }
   ],
   "source": [
    "df.shape[0]"
   ]
  },
  {
   "cell_type": "markdown",
   "id": "2b98075d",
   "metadata": {},
   "source": [
    "# Análisis descriptivo\n",
    "- Peso\n",
    "- Talla"
   ]
  },
  {
   "cell_type": "code",
   "execution_count": 1001,
   "id": "73a7d3de",
   "metadata": {},
   "outputs": [],
   "source": [
    "# este drop que no hice antes - el que tiene una medición como F y otra como M\n",
    "df.drop([397101],inplace=True)\n",
    "df.drop([397102],inplace=True)"
   ]
  },
  {
   "cell_type": "code",
   "execution_count": 1004,
   "id": "4d26e534",
   "metadata": {},
   "outputs": [],
   "source": [
    "def defino_rango(edad_dias):\n",
    "    edad_meses = edad_dias/30.5\n",
    "    \n",
    "    if edad_meses <= 6:\n",
    "        return 'nacimiento - 6 meses'\n",
    "    \n",
    "    elif edad_meses <= 24:\n",
    "        return '6 meses - 2 años'\n",
    "    \n",
    "    elif edad_meses <= 60:\n",
    "        return '2 años - 5 años'\n",
    "    \n",
    "    elif edad_meses <= 228:\n",
    "        return '5 años - 19 años'\n",
    "    \n",
    "    #elif edad_meses <= 228:\n",
    "        #return '10 años - 19 años'\n",
    "    \n",
    "    else:\n",
    "        return 'fuera de rango'"
   ]
  },
  {
   "cell_type": "code",
   "execution_count": 1005,
   "id": "f0e4be1b",
   "metadata": {},
   "outputs": [
    {
     "data": {
      "text/plain": [
       "array(['5 años - 19 años', 'nacimiento - 6 meses', '6 meses - 2 años',\n",
       "       '2 años - 5 años', 'fuera de rango'], dtype=object)"
      ]
     },
     "execution_count": 1005,
     "metadata": {},
     "output_type": "execute_result"
    }
   ],
   "source": [
    "# defino los rangos etarios:\n",
    "# nacimiento a 6 meses \n",
    "# 6 meses a 2 años (24 meses)\n",
    "# 2 años a 5 - 24 meses a 60 meses\n",
    "# 5 a 19 (hasta 1140 meses)\n",
    "# qué hacemos con los que pasan los 19 ???\n",
    "\n",
    "df_rangos = df.copy()\n",
    "\n",
    "df_rangos['rango_etario'] = df_rangos['edad_dias'].apply(lambda x: defino_rango(x))\n",
    "\n",
    "df_rangos['rango_etario'].unique()"
   ]
  },
  {
   "cell_type": "code",
   "execution_count": 1006,
   "id": "86507d1f",
   "metadata": {},
   "outputs": [
    {
     "data": {
      "text/html": [
       "<div>\n",
       "<style scoped>\n",
       "    .dataframe tbody tr th:only-of-type {\n",
       "        vertical-align: middle;\n",
       "    }\n",
       "\n",
       "    .dataframe tbody tr th {\n",
       "        vertical-align: top;\n",
       "    }\n",
       "\n",
       "    .dataframe thead th {\n",
       "        text-align: right;\n",
       "    }\n",
       "</style>\n",
       "<table border=\"1\" class=\"dataframe\">\n",
       "  <thead>\n",
       "    <tr style=\"text-align: right;\">\n",
       "      <th></th>\n",
       "      <th>id_individuo</th>\n",
       "      <th>sexo</th>\n",
       "      <th>peso</th>\n",
       "      <th>talla</th>\n",
       "      <th>edad_dias</th>\n",
       "    </tr>\n",
       "    <tr>\n",
       "      <th>rango_etario</th>\n",
       "      <th></th>\n",
       "      <th></th>\n",
       "      <th></th>\n",
       "      <th></th>\n",
       "      <th></th>\n",
       "    </tr>\n",
       "  </thead>\n",
       "  <tbody>\n",
       "    <tr>\n",
       "      <th>2 años - 5 años</th>\n",
       "      <td>293729</td>\n",
       "      <td>293729</td>\n",
       "      <td>293729</td>\n",
       "      <td>293729</td>\n",
       "      <td>293729</td>\n",
       "    </tr>\n",
       "    <tr>\n",
       "      <th>5 años - 19 años</th>\n",
       "      <td>410781</td>\n",
       "      <td>410781</td>\n",
       "      <td>410781</td>\n",
       "      <td>410781</td>\n",
       "      <td>410781</td>\n",
       "    </tr>\n",
       "    <tr>\n",
       "      <th>6 meses - 2 años</th>\n",
       "      <td>298822</td>\n",
       "      <td>298822</td>\n",
       "      <td>298822</td>\n",
       "      <td>298822</td>\n",
       "      <td>298822</td>\n",
       "    </tr>\n",
       "    <tr>\n",
       "      <th>fuera de rango</th>\n",
       "      <td>4289</td>\n",
       "      <td>4289</td>\n",
       "      <td>4289</td>\n",
       "      <td>4289</td>\n",
       "      <td>4289</td>\n",
       "    </tr>\n",
       "    <tr>\n",
       "      <th>nacimiento - 6 meses</th>\n",
       "      <td>152166</td>\n",
       "      <td>152166</td>\n",
       "      <td>152166</td>\n",
       "      <td>152166</td>\n",
       "      <td>152166</td>\n",
       "    </tr>\n",
       "  </tbody>\n",
       "</table>\n",
       "</div>"
      ],
      "text/plain": [
       "                      id_individuo    sexo    peso   talla  edad_dias\n",
       "rango_etario                                                         \n",
       "2 años - 5 años             293729  293729  293729  293729     293729\n",
       "5 años - 19 años            410781  410781  410781  410781     410781\n",
       "6 meses - 2 años            298822  298822  298822  298822     298822\n",
       "fuera de rango                4289    4289    4289    4289       4289\n",
       "nacimiento - 6 meses        152166  152166  152166  152166     152166"
      ]
     },
     "execution_count": 1006,
     "metadata": {},
     "output_type": "execute_result"
    }
   ],
   "source": [
    "df_rangos.groupby('rango_etario').count()"
   ]
  },
  {
   "cell_type": "markdown",
   "id": "119ff8e5",
   "metadata": {},
   "source": [
    "### Peso"
   ]
  },
  {
   "cell_type": "code",
   "execution_count": 203,
   "id": "ea10a4d4",
   "metadata": {
    "collapsed": true
   },
   "outputs": [
    {
     "ename": "KeyboardInterrupt",
     "evalue": "",
     "output_type": "error",
     "traceback": [
      "\u001b[1;31m---------------------------------------------------------------------------\u001b[0m",
      "\u001b[1;31mKeyboardInterrupt\u001b[0m                         Traceback (most recent call last)",
      "\u001b[1;32m<ipython-input-203-aab283f09f60>\u001b[0m in \u001b[0;36m<module>\u001b[1;34m\u001b[0m\n\u001b[0;32m      3\u001b[0m \u001b[0maxs\u001b[0m\u001b[1;33m.\u001b[0m\u001b[0mset_xlabel\u001b[0m\u001b[1;33m(\u001b[0m\u001b[1;34m'Peso'\u001b[0m\u001b[1;33m)\u001b[0m\u001b[1;33m\u001b[0m\u001b[1;33m\u001b[0m\u001b[0m\n\u001b[0;32m      4\u001b[0m \u001b[1;31m#plt.savefig('images/peso_histpng')\u001b[0m\u001b[1;33m\u001b[0m\u001b[1;33m\u001b[0m\u001b[1;33m\u001b[0m\u001b[0m\n\u001b[1;32m----> 5\u001b[1;33m \u001b[0mplt\u001b[0m\u001b[1;33m.\u001b[0m\u001b[0mshow\u001b[0m\u001b[1;33m(\u001b[0m\u001b[1;33m)\u001b[0m\u001b[1;33m\u001b[0m\u001b[1;33m\u001b[0m\u001b[0m\n\u001b[0m",
      "\u001b[1;32m~\\anaconda3\\lib\\site-packages\\matplotlib\\pyplot.py\u001b[0m in \u001b[0;36mshow\u001b[1;34m(*args, **kwargs)\u001b[0m\n\u001b[0;32m    351\u001b[0m     \"\"\"\n\u001b[0;32m    352\u001b[0m     \u001b[0m_warn_if_gui_out_of_main_thread\u001b[0m\u001b[1;33m(\u001b[0m\u001b[1;33m)\u001b[0m\u001b[1;33m\u001b[0m\u001b[1;33m\u001b[0m\u001b[0m\n\u001b[1;32m--> 353\u001b[1;33m     \u001b[1;32mreturn\u001b[0m \u001b[0m_backend_mod\u001b[0m\u001b[1;33m.\u001b[0m\u001b[0mshow\u001b[0m\u001b[1;33m(\u001b[0m\u001b[1;33m*\u001b[0m\u001b[0margs\u001b[0m\u001b[1;33m,\u001b[0m \u001b[1;33m**\u001b[0m\u001b[0mkwargs\u001b[0m\u001b[1;33m)\u001b[0m\u001b[1;33m\u001b[0m\u001b[1;33m\u001b[0m\u001b[0m\n\u001b[0m\u001b[0;32m    354\u001b[0m \u001b[1;33m\u001b[0m\u001b[0m\n\u001b[0;32m    355\u001b[0m \u001b[1;33m\u001b[0m\u001b[0m\n",
      "\u001b[1;32m~\\anaconda3\\lib\\site-packages\\ipykernel\\pylab\\backend_inline.py\u001b[0m in \u001b[0;36mshow\u001b[1;34m(close, block)\u001b[0m\n\u001b[0;32m     39\u001b[0m     \u001b[1;32mtry\u001b[0m\u001b[1;33m:\u001b[0m\u001b[1;33m\u001b[0m\u001b[1;33m\u001b[0m\u001b[0m\n\u001b[0;32m     40\u001b[0m         \u001b[1;32mfor\u001b[0m \u001b[0mfigure_manager\u001b[0m \u001b[1;32min\u001b[0m \u001b[0mGcf\u001b[0m\u001b[1;33m.\u001b[0m\u001b[0mget_all_fig_managers\u001b[0m\u001b[1;33m(\u001b[0m\u001b[1;33m)\u001b[0m\u001b[1;33m:\u001b[0m\u001b[1;33m\u001b[0m\u001b[1;33m\u001b[0m\u001b[0m\n\u001b[1;32m---> 41\u001b[1;33m             display(\n\u001b[0m\u001b[0;32m     42\u001b[0m                 \u001b[0mfigure_manager\u001b[0m\u001b[1;33m.\u001b[0m\u001b[0mcanvas\u001b[0m\u001b[1;33m.\u001b[0m\u001b[0mfigure\u001b[0m\u001b[1;33m,\u001b[0m\u001b[1;33m\u001b[0m\u001b[1;33m\u001b[0m\u001b[0m\n\u001b[0;32m     43\u001b[0m                 \u001b[0mmetadata\u001b[0m\u001b[1;33m=\u001b[0m\u001b[0m_fetch_figure_metadata\u001b[0m\u001b[1;33m(\u001b[0m\u001b[0mfigure_manager\u001b[0m\u001b[1;33m.\u001b[0m\u001b[0mcanvas\u001b[0m\u001b[1;33m.\u001b[0m\u001b[0mfigure\u001b[0m\u001b[1;33m)\u001b[0m\u001b[1;33m\u001b[0m\u001b[1;33m\u001b[0m\u001b[0m\n",
      "\u001b[1;32m~\\anaconda3\\lib\\site-packages\\IPython\\core\\display.py\u001b[0m in \u001b[0;36mdisplay\u001b[1;34m(include, exclude, metadata, transient, display_id, *objs, **kwargs)\u001b[0m\n\u001b[0;32m    311\u001b[0m             \u001b[0mpublish_display_data\u001b[0m\u001b[1;33m(\u001b[0m\u001b[0mdata\u001b[0m\u001b[1;33m=\u001b[0m\u001b[0mobj\u001b[0m\u001b[1;33m,\u001b[0m \u001b[0mmetadata\u001b[0m\u001b[1;33m=\u001b[0m\u001b[0mmetadata\u001b[0m\u001b[1;33m,\u001b[0m \u001b[1;33m**\u001b[0m\u001b[0mkwargs\u001b[0m\u001b[1;33m)\u001b[0m\u001b[1;33m\u001b[0m\u001b[1;33m\u001b[0m\u001b[0m\n\u001b[0;32m    312\u001b[0m         \u001b[1;32melse\u001b[0m\u001b[1;33m:\u001b[0m\u001b[1;33m\u001b[0m\u001b[1;33m\u001b[0m\u001b[0m\n\u001b[1;32m--> 313\u001b[1;33m             \u001b[0mformat_dict\u001b[0m\u001b[1;33m,\u001b[0m \u001b[0mmd_dict\u001b[0m \u001b[1;33m=\u001b[0m \u001b[0mformat\u001b[0m\u001b[1;33m(\u001b[0m\u001b[0mobj\u001b[0m\u001b[1;33m,\u001b[0m \u001b[0minclude\u001b[0m\u001b[1;33m=\u001b[0m\u001b[0minclude\u001b[0m\u001b[1;33m,\u001b[0m \u001b[0mexclude\u001b[0m\u001b[1;33m=\u001b[0m\u001b[0mexclude\u001b[0m\u001b[1;33m)\u001b[0m\u001b[1;33m\u001b[0m\u001b[1;33m\u001b[0m\u001b[0m\n\u001b[0m\u001b[0;32m    314\u001b[0m             \u001b[1;32mif\u001b[0m \u001b[1;32mnot\u001b[0m \u001b[0mformat_dict\u001b[0m\u001b[1;33m:\u001b[0m\u001b[1;33m\u001b[0m\u001b[1;33m\u001b[0m\u001b[0m\n\u001b[0;32m    315\u001b[0m                 \u001b[1;31m# nothing to display (e.g. _ipython_display_ took over)\u001b[0m\u001b[1;33m\u001b[0m\u001b[1;33m\u001b[0m\u001b[1;33m\u001b[0m\u001b[0m\n",
      "\u001b[1;32m~\\anaconda3\\lib\\site-packages\\IPython\\core\\formatters.py\u001b[0m in \u001b[0;36mformat\u001b[1;34m(self, obj, include, exclude)\u001b[0m\n\u001b[0;32m    178\u001b[0m             \u001b[0mmd\u001b[0m \u001b[1;33m=\u001b[0m \u001b[1;32mNone\u001b[0m\u001b[1;33m\u001b[0m\u001b[1;33m\u001b[0m\u001b[0m\n\u001b[0;32m    179\u001b[0m             \u001b[1;32mtry\u001b[0m\u001b[1;33m:\u001b[0m\u001b[1;33m\u001b[0m\u001b[1;33m\u001b[0m\u001b[0m\n\u001b[1;32m--> 180\u001b[1;33m                 \u001b[0mdata\u001b[0m \u001b[1;33m=\u001b[0m \u001b[0mformatter\u001b[0m\u001b[1;33m(\u001b[0m\u001b[0mobj\u001b[0m\u001b[1;33m)\u001b[0m\u001b[1;33m\u001b[0m\u001b[1;33m\u001b[0m\u001b[0m\n\u001b[0m\u001b[0;32m    181\u001b[0m             \u001b[1;32mexcept\u001b[0m\u001b[1;33m:\u001b[0m\u001b[1;33m\u001b[0m\u001b[1;33m\u001b[0m\u001b[0m\n\u001b[0;32m    182\u001b[0m                 \u001b[1;31m# FIXME: log the exception\u001b[0m\u001b[1;33m\u001b[0m\u001b[1;33m\u001b[0m\u001b[1;33m\u001b[0m\u001b[0m\n",
      "\u001b[1;32m~\\anaconda3\\lib\\site-packages\\decorator.py\u001b[0m in \u001b[0;36mfun\u001b[1;34m(*args, **kw)\u001b[0m\n\u001b[0;32m    229\u001b[0m             \u001b[1;32mif\u001b[0m \u001b[1;32mnot\u001b[0m \u001b[0mkwsyntax\u001b[0m\u001b[1;33m:\u001b[0m\u001b[1;33m\u001b[0m\u001b[1;33m\u001b[0m\u001b[0m\n\u001b[0;32m    230\u001b[0m                 \u001b[0margs\u001b[0m\u001b[1;33m,\u001b[0m \u001b[0mkw\u001b[0m \u001b[1;33m=\u001b[0m \u001b[0mfix\u001b[0m\u001b[1;33m(\u001b[0m\u001b[0margs\u001b[0m\u001b[1;33m,\u001b[0m \u001b[0mkw\u001b[0m\u001b[1;33m,\u001b[0m \u001b[0msig\u001b[0m\u001b[1;33m)\u001b[0m\u001b[1;33m\u001b[0m\u001b[1;33m\u001b[0m\u001b[0m\n\u001b[1;32m--> 231\u001b[1;33m             \u001b[1;32mreturn\u001b[0m \u001b[0mcaller\u001b[0m\u001b[1;33m(\u001b[0m\u001b[0mfunc\u001b[0m\u001b[1;33m,\u001b[0m \u001b[1;33m*\u001b[0m\u001b[1;33m(\u001b[0m\u001b[0mextras\u001b[0m \u001b[1;33m+\u001b[0m \u001b[0margs\u001b[0m\u001b[1;33m)\u001b[0m\u001b[1;33m,\u001b[0m \u001b[1;33m**\u001b[0m\u001b[0mkw\u001b[0m\u001b[1;33m)\u001b[0m\u001b[1;33m\u001b[0m\u001b[1;33m\u001b[0m\u001b[0m\n\u001b[0m\u001b[0;32m    232\u001b[0m     \u001b[0mfun\u001b[0m\u001b[1;33m.\u001b[0m\u001b[0m__name__\u001b[0m \u001b[1;33m=\u001b[0m \u001b[0mfunc\u001b[0m\u001b[1;33m.\u001b[0m\u001b[0m__name__\u001b[0m\u001b[1;33m\u001b[0m\u001b[1;33m\u001b[0m\u001b[0m\n\u001b[0;32m    233\u001b[0m     \u001b[0mfun\u001b[0m\u001b[1;33m.\u001b[0m\u001b[0m__doc__\u001b[0m \u001b[1;33m=\u001b[0m \u001b[0mfunc\u001b[0m\u001b[1;33m.\u001b[0m\u001b[0m__doc__\u001b[0m\u001b[1;33m\u001b[0m\u001b[1;33m\u001b[0m\u001b[0m\n",
      "\u001b[1;32m~\\anaconda3\\lib\\site-packages\\IPython\\core\\formatters.py\u001b[0m in \u001b[0;36mcatch_format_error\u001b[1;34m(method, self, *args, **kwargs)\u001b[0m\n\u001b[0;32m    222\u001b[0m     \u001b[1;34m\"\"\"show traceback on failed format call\"\"\"\u001b[0m\u001b[1;33m\u001b[0m\u001b[1;33m\u001b[0m\u001b[0m\n\u001b[0;32m    223\u001b[0m     \u001b[1;32mtry\u001b[0m\u001b[1;33m:\u001b[0m\u001b[1;33m\u001b[0m\u001b[1;33m\u001b[0m\u001b[0m\n\u001b[1;32m--> 224\u001b[1;33m         \u001b[0mr\u001b[0m \u001b[1;33m=\u001b[0m \u001b[0mmethod\u001b[0m\u001b[1;33m(\u001b[0m\u001b[0mself\u001b[0m\u001b[1;33m,\u001b[0m \u001b[1;33m*\u001b[0m\u001b[0margs\u001b[0m\u001b[1;33m,\u001b[0m \u001b[1;33m**\u001b[0m\u001b[0mkwargs\u001b[0m\u001b[1;33m)\u001b[0m\u001b[1;33m\u001b[0m\u001b[1;33m\u001b[0m\u001b[0m\n\u001b[0m\u001b[0;32m    225\u001b[0m     \u001b[1;32mexcept\u001b[0m \u001b[0mNotImplementedError\u001b[0m\u001b[1;33m:\u001b[0m\u001b[1;33m\u001b[0m\u001b[1;33m\u001b[0m\u001b[0m\n\u001b[0;32m    226\u001b[0m         \u001b[1;31m# don't warn on NotImplementedErrors\u001b[0m\u001b[1;33m\u001b[0m\u001b[1;33m\u001b[0m\u001b[1;33m\u001b[0m\u001b[0m\n",
      "\u001b[1;32m~\\anaconda3\\lib\\site-packages\\IPython\\core\\formatters.py\u001b[0m in \u001b[0;36m__call__\u001b[1;34m(self, obj)\u001b[0m\n\u001b[0;32m    339\u001b[0m                 \u001b[1;32mpass\u001b[0m\u001b[1;33m\u001b[0m\u001b[1;33m\u001b[0m\u001b[0m\n\u001b[0;32m    340\u001b[0m             \u001b[1;32melse\u001b[0m\u001b[1;33m:\u001b[0m\u001b[1;33m\u001b[0m\u001b[1;33m\u001b[0m\u001b[0m\n\u001b[1;32m--> 341\u001b[1;33m                 \u001b[1;32mreturn\u001b[0m \u001b[0mprinter\u001b[0m\u001b[1;33m(\u001b[0m\u001b[0mobj\u001b[0m\u001b[1;33m)\u001b[0m\u001b[1;33m\u001b[0m\u001b[1;33m\u001b[0m\u001b[0m\n\u001b[0m\u001b[0;32m    342\u001b[0m             \u001b[1;31m# Finally look for special method names\u001b[0m\u001b[1;33m\u001b[0m\u001b[1;33m\u001b[0m\u001b[1;33m\u001b[0m\u001b[0m\n\u001b[0;32m    343\u001b[0m             \u001b[0mmethod\u001b[0m \u001b[1;33m=\u001b[0m \u001b[0mget_real_method\u001b[0m\u001b[1;33m(\u001b[0m\u001b[0mobj\u001b[0m\u001b[1;33m,\u001b[0m \u001b[0mself\u001b[0m\u001b[1;33m.\u001b[0m\u001b[0mprint_method\u001b[0m\u001b[1;33m)\u001b[0m\u001b[1;33m\u001b[0m\u001b[1;33m\u001b[0m\u001b[0m\n",
      "\u001b[1;32m~\\anaconda3\\lib\\site-packages\\IPython\\core\\pylabtools.py\u001b[0m in \u001b[0;36m<lambda>\u001b[1;34m(fig)\u001b[0m\n\u001b[0;32m    246\u001b[0m \u001b[1;33m\u001b[0m\u001b[0m\n\u001b[0;32m    247\u001b[0m     \u001b[1;32mif\u001b[0m \u001b[1;34m'png'\u001b[0m \u001b[1;32min\u001b[0m \u001b[0mformats\u001b[0m\u001b[1;33m:\u001b[0m\u001b[1;33m\u001b[0m\u001b[1;33m\u001b[0m\u001b[0m\n\u001b[1;32m--> 248\u001b[1;33m         \u001b[0mpng_formatter\u001b[0m\u001b[1;33m.\u001b[0m\u001b[0mfor_type\u001b[0m\u001b[1;33m(\u001b[0m\u001b[0mFigure\u001b[0m\u001b[1;33m,\u001b[0m \u001b[1;32mlambda\u001b[0m \u001b[0mfig\u001b[0m\u001b[1;33m:\u001b[0m \u001b[0mprint_figure\u001b[0m\u001b[1;33m(\u001b[0m\u001b[0mfig\u001b[0m\u001b[1;33m,\u001b[0m \u001b[1;34m'png'\u001b[0m\u001b[1;33m,\u001b[0m \u001b[1;33m**\u001b[0m\u001b[0mkwargs\u001b[0m\u001b[1;33m)\u001b[0m\u001b[1;33m)\u001b[0m\u001b[1;33m\u001b[0m\u001b[1;33m\u001b[0m\u001b[0m\n\u001b[0m\u001b[0;32m    249\u001b[0m     \u001b[1;32mif\u001b[0m \u001b[1;34m'retina'\u001b[0m \u001b[1;32min\u001b[0m \u001b[0mformats\u001b[0m \u001b[1;32mor\u001b[0m \u001b[1;34m'png2x'\u001b[0m \u001b[1;32min\u001b[0m \u001b[0mformats\u001b[0m\u001b[1;33m:\u001b[0m\u001b[1;33m\u001b[0m\u001b[1;33m\u001b[0m\u001b[0m\n\u001b[0;32m    250\u001b[0m         \u001b[0mpng_formatter\u001b[0m\u001b[1;33m.\u001b[0m\u001b[0mfor_type\u001b[0m\u001b[1;33m(\u001b[0m\u001b[0mFigure\u001b[0m\u001b[1;33m,\u001b[0m \u001b[1;32mlambda\u001b[0m \u001b[0mfig\u001b[0m\u001b[1;33m:\u001b[0m \u001b[0mretina_figure\u001b[0m\u001b[1;33m(\u001b[0m\u001b[0mfig\u001b[0m\u001b[1;33m,\u001b[0m \u001b[1;33m**\u001b[0m\u001b[0mkwargs\u001b[0m\u001b[1;33m)\u001b[0m\u001b[1;33m)\u001b[0m\u001b[1;33m\u001b[0m\u001b[1;33m\u001b[0m\u001b[0m\n",
      "\u001b[1;32m~\\anaconda3\\lib\\site-packages\\IPython\\core\\pylabtools.py\u001b[0m in \u001b[0;36mprint_figure\u001b[1;34m(fig, fmt, bbox_inches, **kwargs)\u001b[0m\n\u001b[0;32m    130\u001b[0m         \u001b[0mFigureCanvasBase\u001b[0m\u001b[1;33m(\u001b[0m\u001b[0mfig\u001b[0m\u001b[1;33m)\u001b[0m\u001b[1;33m\u001b[0m\u001b[1;33m\u001b[0m\u001b[0m\n\u001b[0;32m    131\u001b[0m \u001b[1;33m\u001b[0m\u001b[0m\n\u001b[1;32m--> 132\u001b[1;33m     \u001b[0mfig\u001b[0m\u001b[1;33m.\u001b[0m\u001b[0mcanvas\u001b[0m\u001b[1;33m.\u001b[0m\u001b[0mprint_figure\u001b[0m\u001b[1;33m(\u001b[0m\u001b[0mbytes_io\u001b[0m\u001b[1;33m,\u001b[0m \u001b[1;33m**\u001b[0m\u001b[0mkw\u001b[0m\u001b[1;33m)\u001b[0m\u001b[1;33m\u001b[0m\u001b[1;33m\u001b[0m\u001b[0m\n\u001b[0m\u001b[0;32m    133\u001b[0m     \u001b[0mdata\u001b[0m \u001b[1;33m=\u001b[0m \u001b[0mbytes_io\u001b[0m\u001b[1;33m.\u001b[0m\u001b[0mgetvalue\u001b[0m\u001b[1;33m(\u001b[0m\u001b[1;33m)\u001b[0m\u001b[1;33m\u001b[0m\u001b[1;33m\u001b[0m\u001b[0m\n\u001b[0;32m    134\u001b[0m     \u001b[1;32mif\u001b[0m \u001b[0mfmt\u001b[0m \u001b[1;33m==\u001b[0m \u001b[1;34m'svg'\u001b[0m\u001b[1;33m:\u001b[0m\u001b[1;33m\u001b[0m\u001b[1;33m\u001b[0m\u001b[0m\n",
      "\u001b[1;32m~\\anaconda3\\lib\\site-packages\\matplotlib\\backend_bases.py\u001b[0m in \u001b[0;36mprint_figure\u001b[1;34m(self, filename, dpi, facecolor, edgecolor, orientation, format, bbox_inches, pad_inches, bbox_extra_artists, backend, **kwargs)\u001b[0m\n\u001b[0;32m   2208\u001b[0m \u001b[1;33m\u001b[0m\u001b[0m\n\u001b[0;32m   2209\u001b[0m             \u001b[1;32mtry\u001b[0m\u001b[1;33m:\u001b[0m\u001b[1;33m\u001b[0m\u001b[1;33m\u001b[0m\u001b[0m\n\u001b[1;32m-> 2210\u001b[1;33m                 result = print_method(\n\u001b[0m\u001b[0;32m   2211\u001b[0m                     \u001b[0mfilename\u001b[0m\u001b[1;33m,\u001b[0m\u001b[1;33m\u001b[0m\u001b[1;33m\u001b[0m\u001b[0m\n\u001b[0;32m   2212\u001b[0m                     \u001b[0mdpi\u001b[0m\u001b[1;33m=\u001b[0m\u001b[0mdpi\u001b[0m\u001b[1;33m,\u001b[0m\u001b[1;33m\u001b[0m\u001b[1;33m\u001b[0m\u001b[0m\n",
      "\u001b[1;32m~\\anaconda3\\lib\\site-packages\\matplotlib\\backend_bases.py\u001b[0m in \u001b[0;36mwrapper\u001b[1;34m(*args, **kwargs)\u001b[0m\n\u001b[0;32m   1637\u001b[0m             \u001b[0mkwargs\u001b[0m\u001b[1;33m.\u001b[0m\u001b[0mpop\u001b[0m\u001b[1;33m(\u001b[0m\u001b[0marg\u001b[0m\u001b[1;33m)\u001b[0m\u001b[1;33m\u001b[0m\u001b[1;33m\u001b[0m\u001b[0m\n\u001b[0;32m   1638\u001b[0m \u001b[1;33m\u001b[0m\u001b[0m\n\u001b[1;32m-> 1639\u001b[1;33m         \u001b[1;32mreturn\u001b[0m \u001b[0mfunc\u001b[0m\u001b[1;33m(\u001b[0m\u001b[1;33m*\u001b[0m\u001b[0margs\u001b[0m\u001b[1;33m,\u001b[0m \u001b[1;33m**\u001b[0m\u001b[0mkwargs\u001b[0m\u001b[1;33m)\u001b[0m\u001b[1;33m\u001b[0m\u001b[1;33m\u001b[0m\u001b[0m\n\u001b[0m\u001b[0;32m   1640\u001b[0m \u001b[1;33m\u001b[0m\u001b[0m\n\u001b[0;32m   1641\u001b[0m     \u001b[1;32mreturn\u001b[0m \u001b[0mwrapper\u001b[0m\u001b[1;33m\u001b[0m\u001b[1;33m\u001b[0m\u001b[0m\n",
      "\u001b[1;32m~\\anaconda3\\lib\\site-packages\\matplotlib\\backends\\backend_agg.py\u001b[0m in \u001b[0;36mprint_png\u001b[1;34m(self, filename_or_obj, metadata, pil_kwargs, *args)\u001b[0m\n\u001b[0;32m    507\u001b[0m             \u001b[1;33m*\u001b[0m\u001b[0mmetadata\u001b[0m\u001b[1;33m*\u001b[0m\u001b[1;33m,\u001b[0m \u001b[0mincluding\u001b[0m \u001b[0mthe\u001b[0m \u001b[0mdefault\u001b[0m \u001b[1;34m'Software'\u001b[0m \u001b[0mkey\u001b[0m\u001b[1;33m.\u001b[0m\u001b[1;33m\u001b[0m\u001b[1;33m\u001b[0m\u001b[0m\n\u001b[0;32m    508\u001b[0m         \"\"\"\n\u001b[1;32m--> 509\u001b[1;33m         \u001b[0mFigureCanvasAgg\u001b[0m\u001b[1;33m.\u001b[0m\u001b[0mdraw\u001b[0m\u001b[1;33m(\u001b[0m\u001b[0mself\u001b[0m\u001b[1;33m)\u001b[0m\u001b[1;33m\u001b[0m\u001b[1;33m\u001b[0m\u001b[0m\n\u001b[0m\u001b[0;32m    510\u001b[0m         mpl.image.imsave(\n\u001b[0;32m    511\u001b[0m             \u001b[0mfilename_or_obj\u001b[0m\u001b[1;33m,\u001b[0m \u001b[0mself\u001b[0m\u001b[1;33m.\u001b[0m\u001b[0mbuffer_rgba\u001b[0m\u001b[1;33m(\u001b[0m\u001b[1;33m)\u001b[0m\u001b[1;33m,\u001b[0m \u001b[0mformat\u001b[0m\u001b[1;33m=\u001b[0m\u001b[1;34m\"png\"\u001b[0m\u001b[1;33m,\u001b[0m \u001b[0morigin\u001b[0m\u001b[1;33m=\u001b[0m\u001b[1;34m\"upper\"\u001b[0m\u001b[1;33m,\u001b[0m\u001b[1;33m\u001b[0m\u001b[1;33m\u001b[0m\u001b[0m\n",
      "\u001b[1;32m~\\anaconda3\\lib\\site-packages\\matplotlib\\backends\\backend_agg.py\u001b[0m in \u001b[0;36mdraw\u001b[1;34m(self)\u001b[0m\n\u001b[0;32m    405\u001b[0m              (self.toolbar._wait_cursor_for_draw_cm() if self.toolbar\n\u001b[0;32m    406\u001b[0m               else nullcontext()):\n\u001b[1;32m--> 407\u001b[1;33m             \u001b[0mself\u001b[0m\u001b[1;33m.\u001b[0m\u001b[0mfigure\u001b[0m\u001b[1;33m.\u001b[0m\u001b[0mdraw\u001b[0m\u001b[1;33m(\u001b[0m\u001b[0mself\u001b[0m\u001b[1;33m.\u001b[0m\u001b[0mrenderer\u001b[0m\u001b[1;33m)\u001b[0m\u001b[1;33m\u001b[0m\u001b[1;33m\u001b[0m\u001b[0m\n\u001b[0m\u001b[0;32m    408\u001b[0m             \u001b[1;31m# A GUI class may be need to update a window using this draw, so\u001b[0m\u001b[1;33m\u001b[0m\u001b[1;33m\u001b[0m\u001b[1;33m\u001b[0m\u001b[0m\n\u001b[0;32m    409\u001b[0m             \u001b[1;31m# don't forget to call the superclass.\u001b[0m\u001b[1;33m\u001b[0m\u001b[1;33m\u001b[0m\u001b[1;33m\u001b[0m\u001b[0m\n",
      "\u001b[1;32m~\\anaconda3\\lib\\site-packages\\matplotlib\\artist.py\u001b[0m in \u001b[0;36mdraw_wrapper\u001b[1;34m(artist, renderer, *args, **kwargs)\u001b[0m\n\u001b[0;32m     39\u001b[0m                 \u001b[0mrenderer\u001b[0m\u001b[1;33m.\u001b[0m\u001b[0mstart_filter\u001b[0m\u001b[1;33m(\u001b[0m\u001b[1;33m)\u001b[0m\u001b[1;33m\u001b[0m\u001b[1;33m\u001b[0m\u001b[0m\n\u001b[0;32m     40\u001b[0m \u001b[1;33m\u001b[0m\u001b[0m\n\u001b[1;32m---> 41\u001b[1;33m             \u001b[1;32mreturn\u001b[0m \u001b[0mdraw\u001b[0m\u001b[1;33m(\u001b[0m\u001b[0martist\u001b[0m\u001b[1;33m,\u001b[0m \u001b[0mrenderer\u001b[0m\u001b[1;33m,\u001b[0m \u001b[1;33m*\u001b[0m\u001b[0margs\u001b[0m\u001b[1;33m,\u001b[0m \u001b[1;33m**\u001b[0m\u001b[0mkwargs\u001b[0m\u001b[1;33m)\u001b[0m\u001b[1;33m\u001b[0m\u001b[1;33m\u001b[0m\u001b[0m\n\u001b[0m\u001b[0;32m     42\u001b[0m         \u001b[1;32mfinally\u001b[0m\u001b[1;33m:\u001b[0m\u001b[1;33m\u001b[0m\u001b[1;33m\u001b[0m\u001b[0m\n\u001b[0;32m     43\u001b[0m             \u001b[1;32mif\u001b[0m \u001b[0martist\u001b[0m\u001b[1;33m.\u001b[0m\u001b[0mget_agg_filter\u001b[0m\u001b[1;33m(\u001b[0m\u001b[1;33m)\u001b[0m \u001b[1;32mis\u001b[0m \u001b[1;32mnot\u001b[0m \u001b[1;32mNone\u001b[0m\u001b[1;33m:\u001b[0m\u001b[1;33m\u001b[0m\u001b[1;33m\u001b[0m\u001b[0m\n",
      "\u001b[1;32m~\\anaconda3\\lib\\site-packages\\matplotlib\\figure.py\u001b[0m in \u001b[0;36mdraw\u001b[1;34m(self, renderer)\u001b[0m\n\u001b[0;32m   1861\u001b[0m \u001b[1;33m\u001b[0m\u001b[0m\n\u001b[0;32m   1862\u001b[0m             \u001b[0mself\u001b[0m\u001b[1;33m.\u001b[0m\u001b[0mpatch\u001b[0m\u001b[1;33m.\u001b[0m\u001b[0mdraw\u001b[0m\u001b[1;33m(\u001b[0m\u001b[0mrenderer\u001b[0m\u001b[1;33m)\u001b[0m\u001b[1;33m\u001b[0m\u001b[1;33m\u001b[0m\u001b[0m\n\u001b[1;32m-> 1863\u001b[1;33m             mimage._draw_list_compositing_images(\n\u001b[0m\u001b[0;32m   1864\u001b[0m                 renderer, self, artists, self.suppressComposite)\n\u001b[0;32m   1865\u001b[0m \u001b[1;33m\u001b[0m\u001b[0m\n",
      "\u001b[1;32m~\\anaconda3\\lib\\site-packages\\matplotlib\\image.py\u001b[0m in \u001b[0;36m_draw_list_compositing_images\u001b[1;34m(renderer, parent, artists, suppress_composite)\u001b[0m\n\u001b[0;32m    129\u001b[0m     \u001b[1;32mif\u001b[0m \u001b[0mnot_composite\u001b[0m \u001b[1;32mor\u001b[0m \u001b[1;32mnot\u001b[0m \u001b[0mhas_images\u001b[0m\u001b[1;33m:\u001b[0m\u001b[1;33m\u001b[0m\u001b[1;33m\u001b[0m\u001b[0m\n\u001b[0;32m    130\u001b[0m         \u001b[1;32mfor\u001b[0m \u001b[0ma\u001b[0m \u001b[1;32min\u001b[0m \u001b[0martists\u001b[0m\u001b[1;33m:\u001b[0m\u001b[1;33m\u001b[0m\u001b[1;33m\u001b[0m\u001b[0m\n\u001b[1;32m--> 131\u001b[1;33m             \u001b[0ma\u001b[0m\u001b[1;33m.\u001b[0m\u001b[0mdraw\u001b[0m\u001b[1;33m(\u001b[0m\u001b[0mrenderer\u001b[0m\u001b[1;33m)\u001b[0m\u001b[1;33m\u001b[0m\u001b[1;33m\u001b[0m\u001b[0m\n\u001b[0m\u001b[0;32m    132\u001b[0m     \u001b[1;32melse\u001b[0m\u001b[1;33m:\u001b[0m\u001b[1;33m\u001b[0m\u001b[1;33m\u001b[0m\u001b[0m\n\u001b[0;32m    133\u001b[0m         \u001b[1;31m# Composite any adjacent images together\u001b[0m\u001b[1;33m\u001b[0m\u001b[1;33m\u001b[0m\u001b[1;33m\u001b[0m\u001b[0m\n",
      "\u001b[1;32m~\\anaconda3\\lib\\site-packages\\matplotlib\\artist.py\u001b[0m in \u001b[0;36mdraw_wrapper\u001b[1;34m(artist, renderer, *args, **kwargs)\u001b[0m\n\u001b[0;32m     39\u001b[0m                 \u001b[0mrenderer\u001b[0m\u001b[1;33m.\u001b[0m\u001b[0mstart_filter\u001b[0m\u001b[1;33m(\u001b[0m\u001b[1;33m)\u001b[0m\u001b[1;33m\u001b[0m\u001b[1;33m\u001b[0m\u001b[0m\n\u001b[0;32m     40\u001b[0m \u001b[1;33m\u001b[0m\u001b[0m\n\u001b[1;32m---> 41\u001b[1;33m             \u001b[1;32mreturn\u001b[0m \u001b[0mdraw\u001b[0m\u001b[1;33m(\u001b[0m\u001b[0martist\u001b[0m\u001b[1;33m,\u001b[0m \u001b[0mrenderer\u001b[0m\u001b[1;33m,\u001b[0m \u001b[1;33m*\u001b[0m\u001b[0margs\u001b[0m\u001b[1;33m,\u001b[0m \u001b[1;33m**\u001b[0m\u001b[0mkwargs\u001b[0m\u001b[1;33m)\u001b[0m\u001b[1;33m\u001b[0m\u001b[1;33m\u001b[0m\u001b[0m\n\u001b[0m\u001b[0;32m     42\u001b[0m         \u001b[1;32mfinally\u001b[0m\u001b[1;33m:\u001b[0m\u001b[1;33m\u001b[0m\u001b[1;33m\u001b[0m\u001b[0m\n\u001b[0;32m     43\u001b[0m             \u001b[1;32mif\u001b[0m \u001b[0martist\u001b[0m\u001b[1;33m.\u001b[0m\u001b[0mget_agg_filter\u001b[0m\u001b[1;33m(\u001b[0m\u001b[1;33m)\u001b[0m \u001b[1;32mis\u001b[0m \u001b[1;32mnot\u001b[0m \u001b[1;32mNone\u001b[0m\u001b[1;33m:\u001b[0m\u001b[1;33m\u001b[0m\u001b[1;33m\u001b[0m\u001b[0m\n",
      "\u001b[1;32m~\\anaconda3\\lib\\site-packages\\matplotlib\\cbook\\deprecation.py\u001b[0m in \u001b[0;36mwrapper\u001b[1;34m(*inner_args, **inner_kwargs)\u001b[0m\n\u001b[0;32m    409\u001b[0m                          \u001b[1;32melse\u001b[0m \u001b[0mdeprecation_addendum\u001b[0m\u001b[1;33m,\u001b[0m\u001b[1;33m\u001b[0m\u001b[1;33m\u001b[0m\u001b[0m\n\u001b[0;32m    410\u001b[0m                 **kwargs)\n\u001b[1;32m--> 411\u001b[1;33m         \u001b[1;32mreturn\u001b[0m \u001b[0mfunc\u001b[0m\u001b[1;33m(\u001b[0m\u001b[1;33m*\u001b[0m\u001b[0minner_args\u001b[0m\u001b[1;33m,\u001b[0m \u001b[1;33m**\u001b[0m\u001b[0minner_kwargs\u001b[0m\u001b[1;33m)\u001b[0m\u001b[1;33m\u001b[0m\u001b[1;33m\u001b[0m\u001b[0m\n\u001b[0m\u001b[0;32m    412\u001b[0m \u001b[1;33m\u001b[0m\u001b[0m\n\u001b[0;32m    413\u001b[0m     \u001b[1;32mreturn\u001b[0m \u001b[0mwrapper\u001b[0m\u001b[1;33m\u001b[0m\u001b[1;33m\u001b[0m\u001b[0m\n",
      "\u001b[1;32m~\\anaconda3\\lib\\site-packages\\matplotlib\\axes\\_base.py\u001b[0m in \u001b[0;36mdraw\u001b[1;34m(self, renderer, inframe)\u001b[0m\n\u001b[0;32m   2745\u001b[0m             \u001b[0mrenderer\u001b[0m\u001b[1;33m.\u001b[0m\u001b[0mstop_rasterizing\u001b[0m\u001b[1;33m(\u001b[0m\u001b[1;33m)\u001b[0m\u001b[1;33m\u001b[0m\u001b[1;33m\u001b[0m\u001b[0m\n\u001b[0;32m   2746\u001b[0m \u001b[1;33m\u001b[0m\u001b[0m\n\u001b[1;32m-> 2747\u001b[1;33m         \u001b[0mmimage\u001b[0m\u001b[1;33m.\u001b[0m\u001b[0m_draw_list_compositing_images\u001b[0m\u001b[1;33m(\u001b[0m\u001b[0mrenderer\u001b[0m\u001b[1;33m,\u001b[0m \u001b[0mself\u001b[0m\u001b[1;33m,\u001b[0m \u001b[0martists\u001b[0m\u001b[1;33m)\u001b[0m\u001b[1;33m\u001b[0m\u001b[1;33m\u001b[0m\u001b[0m\n\u001b[0m\u001b[0;32m   2748\u001b[0m \u001b[1;33m\u001b[0m\u001b[0m\n\u001b[0;32m   2749\u001b[0m         \u001b[0mrenderer\u001b[0m\u001b[1;33m.\u001b[0m\u001b[0mclose_group\u001b[0m\u001b[1;33m(\u001b[0m\u001b[1;34m'axes'\u001b[0m\u001b[1;33m)\u001b[0m\u001b[1;33m\u001b[0m\u001b[1;33m\u001b[0m\u001b[0m\n",
      "\u001b[1;32m~\\anaconda3\\lib\\site-packages\\matplotlib\\image.py\u001b[0m in \u001b[0;36m_draw_list_compositing_images\u001b[1;34m(renderer, parent, artists, suppress_composite)\u001b[0m\n\u001b[0;32m    129\u001b[0m     \u001b[1;32mif\u001b[0m \u001b[0mnot_composite\u001b[0m \u001b[1;32mor\u001b[0m \u001b[1;32mnot\u001b[0m \u001b[0mhas_images\u001b[0m\u001b[1;33m:\u001b[0m\u001b[1;33m\u001b[0m\u001b[1;33m\u001b[0m\u001b[0m\n\u001b[0;32m    130\u001b[0m         \u001b[1;32mfor\u001b[0m \u001b[0ma\u001b[0m \u001b[1;32min\u001b[0m \u001b[0martists\u001b[0m\u001b[1;33m:\u001b[0m\u001b[1;33m\u001b[0m\u001b[1;33m\u001b[0m\u001b[0m\n\u001b[1;32m--> 131\u001b[1;33m             \u001b[0ma\u001b[0m\u001b[1;33m.\u001b[0m\u001b[0mdraw\u001b[0m\u001b[1;33m(\u001b[0m\u001b[0mrenderer\u001b[0m\u001b[1;33m)\u001b[0m\u001b[1;33m\u001b[0m\u001b[1;33m\u001b[0m\u001b[0m\n\u001b[0m\u001b[0;32m    132\u001b[0m     \u001b[1;32melse\u001b[0m\u001b[1;33m:\u001b[0m\u001b[1;33m\u001b[0m\u001b[1;33m\u001b[0m\u001b[0m\n\u001b[0;32m    133\u001b[0m         \u001b[1;31m# Composite any adjacent images together\u001b[0m\u001b[1;33m\u001b[0m\u001b[1;33m\u001b[0m\u001b[1;33m\u001b[0m\u001b[0m\n",
      "\u001b[1;32m~\\anaconda3\\lib\\site-packages\\matplotlib\\artist.py\u001b[0m in \u001b[0;36mdraw_wrapper\u001b[1;34m(artist, renderer, *args, **kwargs)\u001b[0m\n\u001b[0;32m     39\u001b[0m                 \u001b[0mrenderer\u001b[0m\u001b[1;33m.\u001b[0m\u001b[0mstart_filter\u001b[0m\u001b[1;33m(\u001b[0m\u001b[1;33m)\u001b[0m\u001b[1;33m\u001b[0m\u001b[1;33m\u001b[0m\u001b[0m\n\u001b[0;32m     40\u001b[0m \u001b[1;33m\u001b[0m\u001b[0m\n\u001b[1;32m---> 41\u001b[1;33m             \u001b[1;32mreturn\u001b[0m \u001b[0mdraw\u001b[0m\u001b[1;33m(\u001b[0m\u001b[0martist\u001b[0m\u001b[1;33m,\u001b[0m \u001b[0mrenderer\u001b[0m\u001b[1;33m,\u001b[0m \u001b[1;33m*\u001b[0m\u001b[0margs\u001b[0m\u001b[1;33m,\u001b[0m \u001b[1;33m**\u001b[0m\u001b[0mkwargs\u001b[0m\u001b[1;33m)\u001b[0m\u001b[1;33m\u001b[0m\u001b[1;33m\u001b[0m\u001b[0m\n\u001b[0m\u001b[0;32m     42\u001b[0m         \u001b[1;32mfinally\u001b[0m\u001b[1;33m:\u001b[0m\u001b[1;33m\u001b[0m\u001b[1;33m\u001b[0m\u001b[0m\n\u001b[0;32m     43\u001b[0m             \u001b[1;32mif\u001b[0m \u001b[0martist\u001b[0m\u001b[1;33m.\u001b[0m\u001b[0mget_agg_filter\u001b[0m\u001b[1;33m(\u001b[0m\u001b[1;33m)\u001b[0m \u001b[1;32mis\u001b[0m \u001b[1;32mnot\u001b[0m \u001b[1;32mNone\u001b[0m\u001b[1;33m:\u001b[0m\u001b[1;33m\u001b[0m\u001b[1;33m\u001b[0m\u001b[0m\n",
      "\u001b[1;32m~\\anaconda3\\lib\\site-packages\\matplotlib\\patches.py\u001b[0m in \u001b[0;36mdraw\u001b[1;34m(self, renderer)\u001b[0m\n\u001b[0;32m    584\u001b[0m             \u001b[0mtransform\u001b[0m \u001b[1;33m=\u001b[0m \u001b[0mself\u001b[0m\u001b[1;33m.\u001b[0m\u001b[0mget_transform\u001b[0m\u001b[1;33m(\u001b[0m\u001b[1;33m)\u001b[0m\u001b[1;33m\u001b[0m\u001b[1;33m\u001b[0m\u001b[0m\n\u001b[0;32m    585\u001b[0m             \u001b[0mtpath\u001b[0m \u001b[1;33m=\u001b[0m \u001b[0mtransform\u001b[0m\u001b[1;33m.\u001b[0m\u001b[0mtransform_path_non_affine\u001b[0m\u001b[1;33m(\u001b[0m\u001b[0mpath\u001b[0m\u001b[1;33m)\u001b[0m\u001b[1;33m\u001b[0m\u001b[1;33m\u001b[0m\u001b[0m\n\u001b[1;32m--> 586\u001b[1;33m             \u001b[0maffine\u001b[0m \u001b[1;33m=\u001b[0m \u001b[0mtransform\u001b[0m\u001b[1;33m.\u001b[0m\u001b[0mget_affine\u001b[0m\u001b[1;33m(\u001b[0m\u001b[1;33m)\u001b[0m\u001b[1;33m\u001b[0m\u001b[1;33m\u001b[0m\u001b[0m\n\u001b[0m\u001b[0;32m    587\u001b[0m             draw_path(tpath, affine,\n\u001b[0;32m    588\u001b[0m                       \u001b[1;31m# Work around a bug in the PDF and SVG renderers, which\u001b[0m\u001b[1;33m\u001b[0m\u001b[1;33m\u001b[0m\u001b[1;33m\u001b[0m\u001b[0m\n",
      "\u001b[1;32m~\\anaconda3\\lib\\site-packages\\matplotlib\\transforms.py\u001b[0m in \u001b[0;36mget_affine\u001b[1;34m(self)\u001b[0m\n\u001b[0;32m   2369\u001b[0m             \u001b[1;32mreturn\u001b[0m \u001b[0mself\u001b[0m\u001b[1;33m.\u001b[0m\u001b[0m_b\u001b[0m\u001b[1;33m.\u001b[0m\u001b[0mget_affine\u001b[0m\u001b[1;33m(\u001b[0m\u001b[1;33m)\u001b[0m\u001b[1;33m\u001b[0m\u001b[1;33m\u001b[0m\u001b[0m\n\u001b[0;32m   2370\u001b[0m         \u001b[1;32melse\u001b[0m\u001b[1;33m:\u001b[0m\u001b[1;33m\u001b[0m\u001b[1;33m\u001b[0m\u001b[0m\n\u001b[1;32m-> 2371\u001b[1;33m             return Affine2D(np.dot(self._b.get_affine().get_matrix(),\n\u001b[0m\u001b[0;32m   2372\u001b[0m                                    self._a.get_affine().get_matrix()))\n\u001b[0;32m   2373\u001b[0m \u001b[1;33m\u001b[0m\u001b[0m\n",
      "\u001b[1;32m~\\anaconda3\\lib\\site-packages\\matplotlib\\transforms.py\u001b[0m in \u001b[0;36mget_affine\u001b[1;34m(self)\u001b[0m\n\u001b[0;32m   2369\u001b[0m             \u001b[1;32mreturn\u001b[0m \u001b[0mself\u001b[0m\u001b[1;33m.\u001b[0m\u001b[0m_b\u001b[0m\u001b[1;33m.\u001b[0m\u001b[0mget_affine\u001b[0m\u001b[1;33m(\u001b[0m\u001b[1;33m)\u001b[0m\u001b[1;33m\u001b[0m\u001b[1;33m\u001b[0m\u001b[0m\n\u001b[0;32m   2370\u001b[0m         \u001b[1;32melse\u001b[0m\u001b[1;33m:\u001b[0m\u001b[1;33m\u001b[0m\u001b[1;33m\u001b[0m\u001b[0m\n\u001b[1;32m-> 2371\u001b[1;33m             return Affine2D(np.dot(self._b.get_affine().get_matrix(),\n\u001b[0m\u001b[0;32m   2372\u001b[0m                                    self._a.get_affine().get_matrix()))\n\u001b[0;32m   2373\u001b[0m \u001b[1;33m\u001b[0m\u001b[0m\n",
      "\u001b[1;32m~\\anaconda3\\lib\\site-packages\\matplotlib\\transforms.py\u001b[0m in \u001b[0;36mget_affine\u001b[1;34m(self)\u001b[0m\n\u001b[0;32m   2369\u001b[0m             \u001b[1;32mreturn\u001b[0m \u001b[0mself\u001b[0m\u001b[1;33m.\u001b[0m\u001b[0m_b\u001b[0m\u001b[1;33m.\u001b[0m\u001b[0mget_affine\u001b[0m\u001b[1;33m(\u001b[0m\u001b[1;33m)\u001b[0m\u001b[1;33m\u001b[0m\u001b[1;33m\u001b[0m\u001b[0m\n\u001b[0;32m   2370\u001b[0m         \u001b[1;32melse\u001b[0m\u001b[1;33m:\u001b[0m\u001b[1;33m\u001b[0m\u001b[1;33m\u001b[0m\u001b[0m\n\u001b[1;32m-> 2371\u001b[1;33m             return Affine2D(np.dot(self._b.get_affine().get_matrix(),\n\u001b[0m\u001b[0;32m   2372\u001b[0m                                    self._a.get_affine().get_matrix()))\n\u001b[0;32m   2373\u001b[0m \u001b[1;33m\u001b[0m\u001b[0m\n",
      "\u001b[1;32m<__array_function__ internals>\u001b[0m in \u001b[0;36mdot\u001b[1;34m(*args, **kwargs)\u001b[0m\n",
      "\u001b[1;31mKeyboardInterrupt\u001b[0m: "
     ]
    }
   ],
   "source": [
    "fig, axs = plt.subplots(figsize = (8, 5))\n",
    "sns.histplot(x = 'peso', data=df)\n",
    "axs.set_xlabel('Peso')\n",
    "#plt.savefig('images/peso_histpng')\n",
    "plt.show()"
   ]
  },
  {
   "cell_type": "code",
   "execution_count": null,
   "id": "7400a58c",
   "metadata": {},
   "outputs": [],
   "source": [
    "fig, axs = plt.subplots(figsize = (8, 5))\n",
    "sns.histplot(x = 'peso', data=df[df['peso']<1000])\n",
    "axs.set_xlabel('Peso')\n",
    "#plt.savefig('images/peso_hist_zoom_300png')\n",
    "plt.show()\n",
    "# distribución sesgada a la derecha"
   ]
  },
  {
   "cell_type": "code",
   "execution_count": null,
   "id": "88935c79",
   "metadata": {},
   "outputs": [],
   "source": [
    "fig, axs = plt.subplots(figsize = (8, 5))\n",
    "sns.histplot(x = 'peso', data=df[df['peso']<100])\n",
    "axs.set_xlabel('Peso')\n",
    "#plt.savefig('images/peso_hist_zoom_100png')\n",
    "plt.show()"
   ]
  },
  {
   "cell_type": "code",
   "execution_count": 1007,
   "id": "65e4c230",
   "metadata": {},
   "outputs": [
    {
     "data": {
      "text/html": [
       "<div>\n",
       "<style scoped>\n",
       "    .dataframe tbody tr th:only-of-type {\n",
       "        vertical-align: middle;\n",
       "    }\n",
       "\n",
       "    .dataframe tbody tr th {\n",
       "        vertical-align: top;\n",
       "    }\n",
       "\n",
       "    .dataframe thead th {\n",
       "        text-align: right;\n",
       "    }\n",
       "</style>\n",
       "<table border=\"1\" class=\"dataframe\">\n",
       "  <thead>\n",
       "    <tr style=\"text-align: right;\">\n",
       "      <th></th>\n",
       "      <th>peso</th>\n",
       "    </tr>\n",
       "  </thead>\n",
       "  <tbody>\n",
       "    <tr>\n",
       "      <th>count</th>\n",
       "      <td>1.159787e+06</td>\n",
       "    </tr>\n",
       "    <tr>\n",
       "      <th>mean</th>\n",
       "      <td>2.030808e+01</td>\n",
       "    </tr>\n",
       "    <tr>\n",
       "      <th>std</th>\n",
       "      <td>1.829431e+01</td>\n",
       "    </tr>\n",
       "    <tr>\n",
       "      <th>min</th>\n",
       "      <td>0.000000e+00</td>\n",
       "    </tr>\n",
       "    <tr>\n",
       "      <th>0.06%</th>\n",
       "      <td>2.000000e+00</td>\n",
       "    </tr>\n",
       "    <tr>\n",
       "      <th>1%</th>\n",
       "      <td>3.400000e+00</td>\n",
       "    </tr>\n",
       "    <tr>\n",
       "      <th>5%</th>\n",
       "      <td>5.200000e+00</td>\n",
       "    </tr>\n",
       "    <tr>\n",
       "      <th>10%</th>\n",
       "      <td>6.800000e+00</td>\n",
       "    </tr>\n",
       "    <tr>\n",
       "      <th>25%</th>\n",
       "      <td>9.500000e+00</td>\n",
       "    </tr>\n",
       "    <tr>\n",
       "      <th>50%</th>\n",
       "      <td>1.460000e+01</td>\n",
       "    </tr>\n",
       "    <tr>\n",
       "      <th>75%</th>\n",
       "      <td>2.370000e+01</td>\n",
       "    </tr>\n",
       "    <tr>\n",
       "      <th>90%</th>\n",
       "      <td>4.410000e+01</td>\n",
       "    </tr>\n",
       "    <tr>\n",
       "      <th>95%</th>\n",
       "      <td>5.710000e+01</td>\n",
       "    </tr>\n",
       "    <tr>\n",
       "      <th>99%</th>\n",
       "      <td>8.160000e+01</td>\n",
       "    </tr>\n",
       "    <tr>\n",
       "      <th>max</th>\n",
       "      <td>3.150000e+02</td>\n",
       "    </tr>\n",
       "  </tbody>\n",
       "</table>\n",
       "</div>"
      ],
      "text/plain": [
       "               peso\n",
       "count  1.159787e+06\n",
       "mean   2.030808e+01\n",
       "std    1.829431e+01\n",
       "min    0.000000e+00\n",
       "0.06%  2.000000e+00\n",
       "1%     3.400000e+00\n",
       "5%     5.200000e+00\n",
       "10%    6.800000e+00\n",
       "25%    9.500000e+00\n",
       "50%    1.460000e+01\n",
       "75%    2.370000e+01\n",
       "90%    4.410000e+01\n",
       "95%    5.710000e+01\n",
       "99%    8.160000e+01\n",
       "max    3.150000e+02"
      ]
     },
     "execution_count": 1007,
     "metadata": {},
     "output_type": "execute_result"
    }
   ],
   "source": [
    "df[['peso']].describe(percentiles=[.0006, .01, .05, .10, .25, .5, .75, .90, .95, .99]) # max 315"
   ]
  },
  {
   "cell_type": "code",
   "execution_count": null,
   "id": "d7e57a91",
   "metadata": {},
   "outputs": [],
   "source": [
    "df.drop([688190])[['peso']].describe() # 315 sigue siendo un montón - cuánto es aceptable ???"
   ]
  },
  {
   "cell_type": "code",
   "execution_count": null,
   "id": "f0cb9ace",
   "metadata": {},
   "outputs": [],
   "source": [
    "df[df['peso'] == 315] # este podría ser un error en donde va la coma - 3 kilos para un bebé de 15 días podría ser"
   ]
  },
  {
   "cell_type": "code",
   "execution_count": null,
   "id": "55e3ca0b",
   "metadata": {
    "scrolled": true
   },
   "outputs": [],
   "source": [
    "df[df['peso']==309.8] # lo mismo acá - 30 kilos sería un peso razonable para un chico de 8 años"
   ]
  },
  {
   "cell_type": "code",
   "execution_count": 1010,
   "id": "909c979c",
   "metadata": {},
   "outputs": [
    {
     "data": {
      "text/html": [
       "<div>\n",
       "<style scoped>\n",
       "    .dataframe tbody tr th:only-of-type {\n",
       "        vertical-align: middle;\n",
       "    }\n",
       "\n",
       "    .dataframe tbody tr th {\n",
       "        vertical-align: top;\n",
       "    }\n",
       "\n",
       "    .dataframe thead th {\n",
       "        text-align: right;\n",
       "    }\n",
       "</style>\n",
       "<table border=\"1\" class=\"dataframe\">\n",
       "  <thead>\n",
       "    <tr style=\"text-align: right;\">\n",
       "      <th></th>\n",
       "      <th>id_individuo</th>\n",
       "      <th>sexo</th>\n",
       "      <th>peso</th>\n",
       "      <th>talla</th>\n",
       "      <th>edad_dias</th>\n",
       "    </tr>\n",
       "  </thead>\n",
       "  <tbody>\n",
       "    <tr>\n",
       "      <th>55131</th>\n",
       "      <td>14393</td>\n",
       "      <td>F</td>\n",
       "      <td>303.9</td>\n",
       "      <td>123.0</td>\n",
       "      <td>3207.0</td>\n",
       "    </tr>\n",
       "    <tr>\n",
       "      <th>183390</th>\n",
       "      <td>47577</td>\n",
       "      <td>F</td>\n",
       "      <td>300.9</td>\n",
       "      <td>119.0</td>\n",
       "      <td>2765.0</td>\n",
       "    </tr>\n",
       "    <tr>\n",
       "      <th>620535</th>\n",
       "      <td>160503</td>\n",
       "      <td>M</td>\n",
       "      <td>315.0</td>\n",
       "      <td>48.0</td>\n",
       "      <td>15.0</td>\n",
       "    </tr>\n",
       "    <tr>\n",
       "      <th>635403</th>\n",
       "      <td>164314</td>\n",
       "      <td>F</td>\n",
       "      <td>302.4</td>\n",
       "      <td>137.0</td>\n",
       "      <td>3569.0</td>\n",
       "    </tr>\n",
       "    <tr>\n",
       "      <th>684483</th>\n",
       "      <td>176958</td>\n",
       "      <td>M</td>\n",
       "      <td>306.0</td>\n",
       "      <td>131.0</td>\n",
       "      <td>2287.0</td>\n",
       "    </tr>\n",
       "    <tr>\n",
       "      <th>772706</th>\n",
       "      <td>199715</td>\n",
       "      <td>F</td>\n",
       "      <td>301.8</td>\n",
       "      <td>131.0</td>\n",
       "      <td>3226.0</td>\n",
       "    </tr>\n",
       "    <tr>\n",
       "      <th>779447</th>\n",
       "      <td>201446</td>\n",
       "      <td>F</td>\n",
       "      <td>305.6</td>\n",
       "      <td>50.0</td>\n",
       "      <td>16.0</td>\n",
       "    </tr>\n",
       "    <tr>\n",
       "      <th>837645</th>\n",
       "      <td>216572</td>\n",
       "      <td>F</td>\n",
       "      <td>305.9</td>\n",
       "      <td>116.0</td>\n",
       "      <td>2199.0</td>\n",
       "    </tr>\n",
       "    <tr>\n",
       "      <th>864712</th>\n",
       "      <td>223512</td>\n",
       "      <td>M</td>\n",
       "      <td>309.8</td>\n",
       "      <td>127.0</td>\n",
       "      <td>3025.0</td>\n",
       "    </tr>\n",
       "    <tr>\n",
       "      <th>989048</th>\n",
       "      <td>255719</td>\n",
       "      <td>M</td>\n",
       "      <td>304.5</td>\n",
       "      <td>124.0</td>\n",
       "      <td>2765.0</td>\n",
       "    </tr>\n",
       "    <tr>\n",
       "      <th>1072878</th>\n",
       "      <td>277477</td>\n",
       "      <td>F</td>\n",
       "      <td>300.9</td>\n",
       "      <td>125.0</td>\n",
       "      <td>2744.0</td>\n",
       "    </tr>\n",
       "    <tr>\n",
       "      <th>1081103</th>\n",
       "      <td>279607</td>\n",
       "      <td>M</td>\n",
       "      <td>303.9</td>\n",
       "      <td>135.0</td>\n",
       "      <td>3418.0</td>\n",
       "    </tr>\n",
       "    <tr>\n",
       "      <th>1095030</th>\n",
       "      <td>283208</td>\n",
       "      <td>M</td>\n",
       "      <td>300.3</td>\n",
       "      <td>132.0</td>\n",
       "      <td>3323.0</td>\n",
       "    </tr>\n",
       "    <tr>\n",
       "      <th>1154456</th>\n",
       "      <td>298551</td>\n",
       "      <td>M</td>\n",
       "      <td>300.9</td>\n",
       "      <td>118.0</td>\n",
       "      <td>2169.0</td>\n",
       "    </tr>\n",
       "  </tbody>\n",
       "</table>\n",
       "</div>"
      ],
      "text/plain": [
       "         id_individuo sexo   peso  talla  edad_dias\n",
       "55131           14393    F  303.9  123.0     3207.0\n",
       "183390          47577    F  300.9  119.0     2765.0\n",
       "620535         160503    M  315.0   48.0       15.0\n",
       "635403         164314    F  302.4  137.0     3569.0\n",
       "684483         176958    M  306.0  131.0     2287.0\n",
       "772706         199715    F  301.8  131.0     3226.0\n",
       "779447         201446    F  305.6   50.0       16.0\n",
       "837645         216572    F  305.9  116.0     2199.0\n",
       "864712         223512    M  309.8  127.0     3025.0\n",
       "989048         255719    M  304.5  124.0     2765.0\n",
       "1072878        277477    F  300.9  125.0     2744.0\n",
       "1081103        279607    M  303.9  135.0     3418.0\n",
       "1095030        283208    M  300.3  132.0     3323.0\n",
       "1154456        298551    M  300.9  118.0     2169.0"
      ]
     },
     "execution_count": 1010,
     "metadata": {},
     "output_type": "execute_result"
    }
   ],
   "source": [
    "df[df['peso']>300]"
   ]
  },
  {
   "cell_type": "markdown",
   "id": "05f41c32",
   "metadata": {},
   "source": [
    "#### Por rango etario"
   ]
  },
  {
   "cell_type": "code",
   "execution_count": null,
   "id": "02c843e6",
   "metadata": {},
   "outputs": [],
   "source": [
    "fig, axs = plt.subplots(figsize = (8, 5))\n",
    "order = ['nacimiento - 6 meses', '6 meses - 2 años', '2 años - 5 años', '5 años - 19 años', 'fuera de rango']\n",
    "sns.histplot(x = 'peso', data=df_rangos[df_rangos['peso']<100], binwidth=1, hue='rango_etario',  hue_order = order, palette = sns.color_palette(\"hls\",5), fill=True)\n",
    "axs.set_xlabel('Peso')\n",
    "#plt.savefig('images/peso_rango_5png')\n",
    "plt.show()\n",
    "# esto está bueno porque podemos ver que se ordenan perfectamente por rango etario, de nacimiento a 6 meses se encuentran en los pesos menores, y así hasta los 5 años a 19 años que se encuentran los pesos mayores"
   ]
  },
  {
   "cell_type": "code",
   "execution_count": null,
   "id": "fb88ebf8",
   "metadata": {},
   "outputs": [],
   "source": [
    "'''fig, axs = plt.subplots(figsize = (8, 5))\n",
    "order = ['nacimiento - 6 meses', '6 meses - 2 años', '2 años - 5 años', '5 años - 10 años', '10 años - 19 años', 'fuera de rango']\n",
    "sns.histplot(x = 'peso', data=df_rangos[df_rangos['peso']<100], binwidth=1, hue='rango_etario',  hue_order = order, palette = sns.color_palette(\"hls\",6), fill=True)\n",
    "axs.set_xlabel('Peso')\n",
    "#plt.savefig('images/peso_rango_6png')\n",
    "plt.show()'''"
   ]
  },
  {
   "cell_type": "code",
   "execution_count": null,
   "id": "1c7afa2d",
   "metadata": {},
   "outputs": [],
   "source": [
    "# boxplot\n",
    "# ver de ordenar bien y agregar cositas lindas al gráfico - título, etc\n",
    "fig, axs = plt.subplots(figsize = (10, 5))\n",
    "order = ['nacimiento - 6 meses', '6 meses - 2 años', '2 años - 5 años', '5 años - 19 años', 'fuera de rango']\n",
    "sns.boxplot(x='rango_etario', y='peso', data=df_rangos[df_rangos['peso']<100], order=order, palette=sns.color_palette(\"hls\",5), showfliers = False)\n",
    "axs.set_ylabel('Peso')\n",
    "axs.set_xlabel('Rango etario')\n",
    "#plt.savefig('images/peso_boxplot_rango_etario.png')\n",
    "plt.show()"
   ]
  },
  {
   "cell_type": "code",
   "execution_count": null,
   "id": "4f9b504d",
   "metadata": {},
   "outputs": [],
   "source": [
    "df_rangos.groupby('rango_etario')['peso'].describe(percentiles=[.01, .05, .10, .25, .5, .75, .90, .95, .99])"
   ]
  },
  {
   "cell_type": "markdown",
   "id": "afbb1dd1",
   "metadata": {},
   "source": [
    "#### Por sexo"
   ]
  },
  {
   "cell_type": "code",
   "execution_count": null,
   "id": "da44f98f",
   "metadata": {},
   "outputs": [],
   "source": [
    "#sns.violinplot(x='sexo', y='peso', data=df[df['peso']<100])"
   ]
  },
  {
   "cell_type": "code",
   "execution_count": null,
   "id": "ef0b5051",
   "metadata": {},
   "outputs": [],
   "source": [
    "# distribución\n",
    "fig, axs = plt.subplots(figsize = (8, 5))\n",
    "sns.histplot(x = 'peso', data=df[df['peso']<100], binwidth=1.5, hue='sexo', fill=True, kde=True)\n",
    "axs.set_xlabel('Peso')\n",
    "#plt.savefig('images/peso_hist_sexo.png')\n",
    "plt.show()\n",
    "# la distribución es prácticamente idéntica para ambos sexos\n",
    "# teniendo una distribución sesgada a la derecha"
   ]
  },
  {
   "cell_type": "code",
   "execution_count": null,
   "id": "2ecd0088",
   "metadata": {},
   "outputs": [],
   "source": [
    "df.groupby('sexo')['peso'].describe() # los estadísticos reflajan lo dicho anteriormente. \n",
    "# identificamos también un valor atípico, el máximo para F es de 12597"
   ]
  },
  {
   "cell_type": "code",
   "execution_count": null,
   "id": "29199b37",
   "metadata": {},
   "outputs": [],
   "source": [
    "# boxplot\n",
    "fig, axs = plt.subplots(figsize = (8, 5))\n",
    "sns.boxplot(x='sexo', y='peso', data=df[df['peso']<100])\n",
    "axs.set_ylabel('Peso')\n",
    "axs.set_xlabel('Sexo')\n",
    "#plt.savefig('images/peso_boxplot_sexo.png')\n",
    "plt.show()"
   ]
  },
  {
   "cell_type": "markdown",
   "id": "07426e4a",
   "metadata": {},
   "source": [
    "### Talla"
   ]
  },
  {
   "cell_type": "code",
   "execution_count": null,
   "id": "53a1223f",
   "metadata": {},
   "outputs": [],
   "source": [
    "fig, axs = plt.subplots(figsize = (8, 5))\n",
    "sns.histplot(x = 'talla', binwidth=2, data=df)\n",
    "axs.set_xlabel('Talla')\n",
    "#plt.savefig('images/talla_hist.png')\n",
    "plt.show()"
   ]
  },
  {
   "cell_type": "code",
   "execution_count": null,
   "id": "6a727224",
   "metadata": {},
   "outputs": [],
   "source": [
    "df[['talla']].describe(percentiles=[.01, .05, .10, .25, .5, .75, .90, .95, .99])"
   ]
  },
  {
   "cell_type": "code",
   "execution_count": null,
   "id": "b0bc73a3",
   "metadata": {},
   "outputs": [],
   "source": [
    "df[df['talla'] == 251] # este valor no tiene sentido para la edad "
   ]
  },
  {
   "cell_type": "markdown",
   "id": "f491bf9b",
   "metadata": {},
   "source": [
    "#### Por rango etario"
   ]
  },
  {
   "cell_type": "code",
   "execution_count": null,
   "id": "86308ec1",
   "metadata": {},
   "outputs": [],
   "source": [
    "fig, axs = plt.subplots(figsize = (8, 5))\n",
    "order = ['nacimiento - 6 meses', '6 meses - 2 años', '2 años - 5 años', '5 años - 19 años', 'fuera de rango']\n",
    "sns.histplot(x = 'talla', data=df_rangos, binwidth=2, hue='rango_etario',  hue_order = order, palette = sns.color_palette(\"hls\",5), fill=True)\n",
    "axs.set_xlabel('Talla')\n",
    "#plt.savefig('images/talla_rango_5png')\n",
    "plt.show()"
   ]
  },
  {
   "cell_type": "code",
   "execution_count": null,
   "id": "8ad444b3",
   "metadata": {},
   "outputs": [],
   "source": [
    "# 5 a 19 años subdividido\n",
    "'''fig, axs = plt.subplots(figsize = (8, 5))\n",
    "order = ['nacimiento - 6 meses', '6 meses - 2 años', '2 años - 5 años', '5 años - 10 años', '10 años - 19 años', 'fuera de rango']\n",
    "sns.histplot(x = 'talla', data=df_rangos, binwidth=2, hue='rango_etario',  hue_order = order, palette = sns.color_palette(\"hls\",6), fill=True)\n",
    "axs.set_xlabel('Talla')\n",
    "#plt.savefig('images/talla_rango_6.png')\n",
    "plt.show()'''"
   ]
  },
  {
   "cell_type": "code",
   "execution_count": null,
   "id": "47f2926b",
   "metadata": {},
   "outputs": [],
   "source": [
    "fig, axs = plt.subplots(figsize = (10, 5))\n",
    "order = ['nacimiento - 6 meses', '6 meses - 2 años', '2 años - 5 años', '5 años - 19 años', 'fuera de rango']\n",
    "sns.boxplot(x='rango_etario', y='talla', data=df_rangos, order=order, palette=sns.color_palette(\"hls\",5))\n",
    "axs.set_ylabel('Talla')\n",
    "axs.set_xlabel('Rango etario')\n",
    "#plt.savefig('images/talla_boxplot_rango_etario.png')\n",
    "plt.show()"
   ]
  },
  {
   "cell_type": "code",
   "execution_count": null,
   "id": "af30de54",
   "metadata": {},
   "outputs": [],
   "source": [
    "df_rangos.groupby('rango_etario')['talla'].describe(percentiles=[.01, .05, .10, .25, .5, .75, .90, .95, .99])"
   ]
  },
  {
   "cell_type": "markdown",
   "id": "db1bdace",
   "metadata": {},
   "source": [
    "#### Por sexo"
   ]
  },
  {
   "cell_type": "code",
   "execution_count": null,
   "id": "24148dbb",
   "metadata": {},
   "outputs": [],
   "source": [
    "# distribución\n",
    "fig, axs = plt.subplots(figsize = (8, 5))\n",
    "sns.histplot(x = 'talla', data=df, binwidth=2, hue='sexo', fill=True, kde=True)\n",
    "axs.set_xlabel('Talla')\n",
    "#plt.savefig('images/talla_hist_sexo.png')\n",
    "plt.show()\n",
    "# vemos que la ditribución para ambos sexos se comporta de forma similar, con una diferencia al rededor de los 160 cm"
   ]
  },
  {
   "cell_type": "code",
   "execution_count": null,
   "id": "1efede4a",
   "metadata": {},
   "outputs": [],
   "source": [
    "df.groupby('sexo')['talla'].describe() # los estadísticos reflejan lo mismo"
   ]
  },
  {
   "cell_type": "code",
   "execution_count": null,
   "id": "19e9fab2",
   "metadata": {},
   "outputs": [],
   "source": [
    "# boxplot\n",
    "fig, axs = plt.subplots(figsize = (8, 5))\n",
    "sns.boxplot(x='sexo', y='talla', data=df)\n",
    "axs.set_ylabel('Talla')\n",
    "axs.set_xlabel('Sexo')\n",
    "#plt.savefig('images/talla_boxplot_sexo.png')\n",
    "plt.show()"
   ]
  },
  {
   "cell_type": "markdown",
   "id": "8b72fb31",
   "metadata": {},
   "source": [
    "# Z-scores\n",
    "- **HAZ:** talla para la edad\n",
    "- **WAZ:** peso para la edad\n",
    "- **BMIZ:** índice de masa corporal para la edad"
   ]
  },
  {
   "cell_type": "code",
   "execution_count": 1029,
   "id": "d8966999",
   "metadata": {},
   "outputs": [],
   "source": [
    "# The \"include_cdc\" option will enable CDC measurements for children >5 years.\n",
    "\n",
    "calculator = Calculator(adjust_height_data=False, adjust_weight_scores=False,\n",
    "                       include_cdc=True, logger_name='pygrowup',\n",
    "                       log_level='INFO')"
   ]
  },
  {
   "cell_type": "code",
   "execution_count": 1019,
   "id": "d9ac019c",
   "metadata": {},
   "outputs": [],
   "source": [
    "# Utiliza edad en meses\n",
    "df['edad_meses'] = round(df['edad_dias']/30.5,1) # a cuanto redondeamos ???"
   ]
  },
  {
   "cell_type": "code",
   "execution_count": 1011,
   "id": "f386c8f5",
   "metadata": {},
   "outputs": [],
   "source": [
    "# Elimino los que tienen peso = 0\n",
    "df = df[df['peso']>0]"
   ]
  },
  {
   "cell_type": "code",
   "execution_count": 1012,
   "id": "856d4dbb",
   "metadata": {},
   "outputs": [
    {
     "data": {
      "text/plain": [
       "1159781"
      ]
     },
     "execution_count": 1012,
     "metadata": {},
     "output_type": "execute_result"
    }
   ],
   "source": [
    "df.shape[0]"
   ]
  },
  {
   "cell_type": "code",
   "execution_count": 1016,
   "id": "d2eda7db",
   "metadata": {},
   "outputs": [
    {
     "data": {
      "text/plain": [
       "0.1399166183057432"
      ]
     },
     "execution_count": 1016,
     "metadata": {},
     "output_type": "execute_result"
    }
   ],
   "source": [
    "((shape_original - df.shape[0]) *100) / shape_original"
   ]
  },
  {
   "cell_type": "code",
   "execution_count": 1020,
   "id": "03d6020d",
   "metadata": {},
   "outputs": [],
   "source": [
    "# Calculo la masa corporal - TIENE QUE ESTAR EN KG/M2\n",
    "df['masa_corporal'] = round(df['peso'] / ((df['talla']/100)**2),2) "
   ]
  },
  {
   "cell_type": "code",
   "execution_count": 1022,
   "id": "deedeb4e",
   "metadata": {},
   "outputs": [
    {
     "data": {
      "text/plain": [
       "count    1.159781e+06\n",
       "mean     1.878006e+01\n",
       "std      1.930145e+01\n",
       "min      1.700000e-01\n",
       "25%      1.562000e+01\n",
       "50%      1.694000e+01\n",
       "75%      1.891000e+01\n",
       "max      3.230000e+03\n",
       "Name: masa_corporal, dtype: float64"
      ]
     },
     "execution_count": 1022,
     "metadata": {},
     "output_type": "execute_result"
    }
   ],
   "source": [
    "df['masa_corporal'].describe()"
   ]
  },
  {
   "cell_type": "code",
   "execution_count": 1024,
   "id": "40f8bf14",
   "metadata": {},
   "outputs": [
    {
     "data": {
      "text/plain": [
       "0.17"
      ]
     },
     "execution_count": 1024,
     "metadata": {},
     "output_type": "execute_result"
    }
   ],
   "source": [
    "df['masa_corporal'].min()"
   ]
  },
  {
   "cell_type": "code",
   "execution_count": 1023,
   "id": "9b05610c",
   "metadata": {},
   "outputs": [
    {
     "data": {
      "text/plain": [
       "3230.0"
      ]
     },
     "execution_count": 1023,
     "metadata": {},
     "output_type": "execute_result"
    }
   ],
   "source": [
    "df['masa_corporal'].max()"
   ]
  },
  {
   "cell_type": "code",
   "execution_count": 1069,
   "id": "4485021c",
   "metadata": {},
   "outputs": [
    {
     "data": {
      "text/plain": [
       "6544"
      ]
     },
     "execution_count": 1069,
     "metadata": {},
     "output_type": "execute_result"
    }
   ],
   "source": [
    "df[(df['masa_corporal']>100)].shape[0]"
   ]
  },
  {
   "cell_type": "code",
   "execution_count": 1066,
   "id": "54084e55",
   "metadata": {},
   "outputs": [
    {
     "data": {
      "text/plain": [
       "47.59071980963713"
      ]
     },
     "execution_count": 1066,
     "metadata": {},
     "output_type": "execute_result"
    }
   ],
   "source": [
    "8/(0.41**2)"
   ]
  },
  {
   "cell_type": "code",
   "execution_count": 1064,
   "id": "c74eec63",
   "metadata": {},
   "outputs": [
    {
     "data": {
      "text/html": [
       "<div>\n",
       "<style scoped>\n",
       "    .dataframe tbody tr th:only-of-type {\n",
       "        vertical-align: middle;\n",
       "    }\n",
       "\n",
       "    .dataframe tbody tr th {\n",
       "        vertical-align: top;\n",
       "    }\n",
       "\n",
       "    .dataframe thead th {\n",
       "        text-align: right;\n",
       "    }\n",
       "</style>\n",
       "<table border=\"1\" class=\"dataframe\">\n",
       "  <thead>\n",
       "    <tr style=\"text-align: right;\">\n",
       "      <th></th>\n",
       "      <th>id_individuo</th>\n",
       "      <th>sexo</th>\n",
       "      <th>peso</th>\n",
       "      <th>talla</th>\n",
       "      <th>edad_dias</th>\n",
       "      <th>edad_meses</th>\n",
       "      <th>masa_corporal</th>\n",
       "    </tr>\n",
       "  </thead>\n",
       "  <tbody>\n",
       "    <tr>\n",
       "      <th>95</th>\n",
       "      <td>25</td>\n",
       "      <td>M</td>\n",
       "      <td>208.1</td>\n",
       "      <td>114.0</td>\n",
       "      <td>2121.0</td>\n",
       "      <td>69.5</td>\n",
       "      <td>160.13</td>\n",
       "    </tr>\n",
       "    <tr>\n",
       "      <th>224</th>\n",
       "      <td>60</td>\n",
       "      <td>M</td>\n",
       "      <td>106.7</td>\n",
       "      <td>127.0</td>\n",
       "      <td>1087.0</td>\n",
       "      <td>35.6</td>\n",
       "      <td>66.15</td>\n",
       "    </tr>\n",
       "    <tr>\n",
       "      <th>654</th>\n",
       "      <td>173</td>\n",
       "      <td>F</td>\n",
       "      <td>199.9</td>\n",
       "      <td>99.0</td>\n",
       "      <td>1159.0</td>\n",
       "      <td>38.0</td>\n",
       "      <td>203.96</td>\n",
       "    </tr>\n",
       "    <tr>\n",
       "      <th>703</th>\n",
       "      <td>187</td>\n",
       "      <td>F</td>\n",
       "      <td>36.3</td>\n",
       "      <td>63.0</td>\n",
       "      <td>3560.0</td>\n",
       "      <td>116.7</td>\n",
       "      <td>91.46</td>\n",
       "    </tr>\n",
       "    <tr>\n",
       "      <th>763</th>\n",
       "      <td>206</td>\n",
       "      <td>M</td>\n",
       "      <td>8.5</td>\n",
       "      <td>41.0</td>\n",
       "      <td>197.0</td>\n",
       "      <td>6.5</td>\n",
       "      <td>50.57</td>\n",
       "    </tr>\n",
       "    <tr>\n",
       "      <th>...</th>\n",
       "      <td>...</td>\n",
       "      <td>...</td>\n",
       "      <td>...</td>\n",
       "      <td>...</td>\n",
       "      <td>...</td>\n",
       "      <td>...</td>\n",
       "      <td>...</td>\n",
       "    </tr>\n",
       "    <tr>\n",
       "      <th>1159818</th>\n",
       "      <td>299903</td>\n",
       "      <td>F</td>\n",
       "      <td>132.6</td>\n",
       "      <td>87.0</td>\n",
       "      <td>619.0</td>\n",
       "      <td>20.3</td>\n",
       "      <td>175.19</td>\n",
       "    </tr>\n",
       "    <tr>\n",
       "      <th>1159848</th>\n",
       "      <td>299909</td>\n",
       "      <td>M</td>\n",
       "      <td>104.0</td>\n",
       "      <td>75.0</td>\n",
       "      <td>364.0</td>\n",
       "      <td>11.9</td>\n",
       "      <td>184.89</td>\n",
       "    </tr>\n",
       "    <tr>\n",
       "      <th>1160089</th>\n",
       "      <td>299975</td>\n",
       "      <td>M</td>\n",
       "      <td>33.6</td>\n",
       "      <td>70.0</td>\n",
       "      <td>2733.0</td>\n",
       "      <td>89.6</td>\n",
       "      <td>68.57</td>\n",
       "    </tr>\n",
       "    <tr>\n",
       "      <th>1160124</th>\n",
       "      <td>299984</td>\n",
       "      <td>M</td>\n",
       "      <td>65.0</td>\n",
       "      <td>62.0</td>\n",
       "      <td>127.0</td>\n",
       "      <td>4.2</td>\n",
       "      <td>169.09</td>\n",
       "    </tr>\n",
       "    <tr>\n",
       "      <th>1160177</th>\n",
       "      <td>300000</td>\n",
       "      <td>F</td>\n",
       "      <td>140.1</td>\n",
       "      <td>93.0</td>\n",
       "      <td>1210.0</td>\n",
       "      <td>39.7</td>\n",
       "      <td>161.98</td>\n",
       "    </tr>\n",
       "  </tbody>\n",
       "</table>\n",
       "<p>9274 rows × 7 columns</p>\n",
       "</div>"
      ],
      "text/plain": [
       "         id_individuo sexo   peso  talla  edad_dias  edad_meses  masa_corporal\n",
       "95                 25    M  208.1  114.0     2121.0        69.5         160.13\n",
       "224                60    M  106.7  127.0     1087.0        35.6          66.15\n",
       "654               173    F  199.9   99.0     1159.0        38.0         203.96\n",
       "703               187    F   36.3   63.0     3560.0       116.7          91.46\n",
       "763               206    M    8.5   41.0      197.0         6.5          50.57\n",
       "...               ...  ...    ...    ...        ...         ...            ...\n",
       "1159818        299903    F  132.6   87.0      619.0        20.3         175.19\n",
       "1159848        299909    M  104.0   75.0      364.0        11.9         184.89\n",
       "1160089        299975    M   33.6   70.0     2733.0        89.6          68.57\n",
       "1160124        299984    M   65.0   62.0      127.0         4.2         169.09\n",
       "1160177        300000    F  140.1   93.0     1210.0        39.7         161.98\n",
       "\n",
       "[9274 rows x 7 columns]"
      ]
     },
     "execution_count": 1064,
     "metadata": {},
     "output_type": "execute_result"
    }
   ],
   "source": [
    "df[df['masa_corporal']>50]"
   ]
  },
  {
   "cell_type": "code",
   "execution_count": 1063,
   "id": "b605d7f4",
   "metadata": {},
   "outputs": [
    {
     "data": {
      "text/plain": [
       "0.7985149034876693"
      ]
     },
     "execution_count": 1063,
     "metadata": {},
     "output_type": "execute_result"
    }
   ],
   "source": [
    "(9274 * 100) / 1161406"
   ]
  },
  {
   "cell_type": "code",
   "execution_count": 1072,
   "id": "69301d59",
   "metadata": {},
   "outputs": [
    {
     "data": {
      "image/png": "[encoded data removed]",
      "text/plain": [
       "<Figure size 576x360 with 1 Axes>"
      ]
     },
     "metadata": {
      "needs_background": "light"
     },
     "output_type": "display_data"
    }
   ],
   "source": [
    "fig, axs = plt.subplots(figsize = (8, 5))\n",
    "sns.histplot(x = 'masa_corporal', data=df[df['masa_corporal']<50])\n",
    "axs.set_xlabel('Masa corporal')\n",
    "#plt.savefig('images/hist_masa_corporal.png')\n",
    "plt.show()"
   ]
  },
  {
   "cell_type": "markdown",
   "id": "cde54f76",
   "metadata": {},
   "source": [
    "#### HAZ"
   ]
  },
  {
   "cell_type": "code",
   "execution_count": 1030,
   "id": "4538fafe",
   "metadata": {},
   "outputs": [
    {
     "data": {
      "text/plain": [
       "Decimal('-2.54')"
      ]
     },
     "execution_count": 1030,
     "metadata": {},
     "output_type": "execute_result"
    }
   ],
   "source": [
    "# ejemplo - debería estar entre -2 y -3 \n",
    "calculator.lhfa(measurement=df.loc[30]['talla'], age_in_months=str(df.loc[30]['edad_meses']), sex=df.loc[30]['sexo'])"
   ]
  },
  {
   "cell_type": "code",
   "execution_count": 1031,
   "id": "7fa05621",
   "metadata": {},
   "outputs": [
    {
     "data": {
      "text/plain": [
       "id_individuo         9\n",
       "sexo                 F\n",
       "peso               8.1\n",
       "talla             64.0\n",
       "edad_dias        292.0\n",
       "edad_meses         9.6\n",
       "masa_corporal    19.78\n",
       "Name: 30, dtype: object"
      ]
     },
     "execution_count": 1031,
     "metadata": {},
     "output_type": "execute_result"
    }
   ],
   "source": [
    "df.loc[30]"
   ]
  },
  {
   "cell_type": "code",
   "execution_count": 1086,
   "id": "16bca2f7",
   "metadata": {},
   "outputs": [],
   "source": [
    "df_haz = df.dropna(subset=['sexo', 'edad_meses', 'talla'])"
   ]
  },
  {
   "cell_type": "code",
   "execution_count": 1087,
   "id": "f67586af",
   "metadata": {},
   "outputs": [],
   "source": [
    "def get_haz(talla, edad_meses, sexo):\n",
    "    haz = calculator.lhfa(measurement=talla, age_in_months=edad_meses, sex=sexo)\n",
    "    return haz"
   ]
  },
  {
   "cell_type": "code",
   "execution_count": 1088,
   "id": "43f91955",
   "metadata": {},
   "outputs": [],
   "source": [
    "df_haz['haz'] = df_haz.apply(lambda d: float(get_haz(d['talla'], d['edad_meses'], d['sexo'])), axis =1)"
   ]
  },
  {
   "cell_type": "code",
   "execution_count": 1089,
   "id": "b21e6383",
   "metadata": {},
   "outputs": [
    {
     "data": {
      "text/html": [
       "<div>\n",
       "<style scoped>\n",
       "    .dataframe tbody tr th:only-of-type {\n",
       "        vertical-align: middle;\n",
       "    }\n",
       "\n",
       "    .dataframe tbody tr th {\n",
       "        vertical-align: top;\n",
       "    }\n",
       "\n",
       "    .dataframe thead th {\n",
       "        text-align: right;\n",
       "    }\n",
       "</style>\n",
       "<table border=\"1\" class=\"dataframe\">\n",
       "  <thead>\n",
       "    <tr style=\"text-align: right;\">\n",
       "      <th></th>\n",
       "      <th>id_individuo</th>\n",
       "      <th>sexo</th>\n",
       "      <th>peso</th>\n",
       "      <th>talla</th>\n",
       "      <th>edad_dias</th>\n",
       "      <th>edad_meses</th>\n",
       "      <th>masa_corporal</th>\n",
       "      <th>haz</th>\n",
       "    </tr>\n",
       "  </thead>\n",
       "  <tbody>\n",
       "    <tr>\n",
       "      <th>0</th>\n",
       "      <td>1</td>\n",
       "      <td>F</td>\n",
       "      <td>18.6</td>\n",
       "      <td>104.0</td>\n",
       "      <td>1964.0</td>\n",
       "      <td>64.4</td>\n",
       "      <td>17.20</td>\n",
       "      <td>-1.33</td>\n",
       "    </tr>\n",
       "    <tr>\n",
       "      <th>1</th>\n",
       "      <td>1</td>\n",
       "      <td>F</td>\n",
       "      <td>23.5</td>\n",
       "      <td>115.0</td>\n",
       "      <td>2615.0</td>\n",
       "      <td>85.7</td>\n",
       "      <td>17.77</td>\n",
       "      <td>-1.36</td>\n",
       "    </tr>\n",
       "    <tr>\n",
       "      <th>2</th>\n",
       "      <td>2</td>\n",
       "      <td>M</td>\n",
       "      <td>7.8</td>\n",
       "      <td>59.0</td>\n",
       "      <td>168.0</td>\n",
       "      <td>5.5</td>\n",
       "      <td>22.41</td>\n",
       "      <td>-3.27</td>\n",
       "    </tr>\n",
       "    <tr>\n",
       "      <th>3</th>\n",
       "      <td>2</td>\n",
       "      <td>M</td>\n",
       "      <td>7.8</td>\n",
       "      <td>66.0</td>\n",
       "      <td>193.0</td>\n",
       "      <td>6.3</td>\n",
       "      <td>17.91</td>\n",
       "      <td>-0.76</td>\n",
       "    </tr>\n",
       "    <tr>\n",
       "      <th>4</th>\n",
       "      <td>3</td>\n",
       "      <td>F</td>\n",
       "      <td>34.6</td>\n",
       "      <td>141.0</td>\n",
       "      <td>3573.0</td>\n",
       "      <td>117.1</td>\n",
       "      <td>17.40</td>\n",
       "      <td>0.61</td>\n",
       "    </tr>\n",
       "  </tbody>\n",
       "</table>\n",
       "</div>"
      ],
      "text/plain": [
       "   id_individuo sexo  peso  talla  edad_dias  edad_meses  masa_corporal   haz\n",
       "0             1    F  18.6  104.0     1964.0        64.4          17.20 -1.33\n",
       "1             1    F  23.5  115.0     2615.0        85.7          17.77 -1.36\n",
       "2             2    M   7.8   59.0      168.0         5.5          22.41 -3.27\n",
       "3             2    M   7.8   66.0      193.0         6.3          17.91 -0.76\n",
       "4             3    F  34.6  141.0     3573.0       117.1          17.40  0.61"
      ]
     },
     "execution_count": 1089,
     "metadata": {},
     "output_type": "execute_result"
    }
   ],
   "source": [
    "df_haz.head()"
   ]
  },
  {
   "cell_type": "code",
   "execution_count": 1090,
   "id": "f47d1c89",
   "metadata": {},
   "outputs": [
    {
     "data": {
      "text/plain": [
       "1159781"
      ]
     },
     "execution_count": 1090,
     "metadata": {},
     "output_type": "execute_result"
    }
   ],
   "source": [
    "df_haz.shape[0]"
   ]
  },
  {
   "cell_type": "code",
   "execution_count": 1091,
   "id": "8c1001ee",
   "metadata": {},
   "outputs": [
    {
     "data": {
      "text/plain": [
       "1159781"
      ]
     },
     "execution_count": 1091,
     "metadata": {},
     "output_type": "execute_result"
    }
   ],
   "source": [
    "df.shape[0]"
   ]
  },
  {
   "cell_type": "code",
   "execution_count": 1092,
   "id": "8690cb1a",
   "metadata": {},
   "outputs": [
    {
     "data": {
      "text/html": [
       "<div>\n",
       "<style scoped>\n",
       "    .dataframe tbody tr th:only-of-type {\n",
       "        vertical-align: middle;\n",
       "    }\n",
       "\n",
       "    .dataframe tbody tr th {\n",
       "        vertical-align: top;\n",
       "    }\n",
       "\n",
       "    .dataframe thead th {\n",
       "        text-align: right;\n",
       "    }\n",
       "</style>\n",
       "<table border=\"1\" class=\"dataframe\">\n",
       "  <thead>\n",
       "    <tr style=\"text-align: right;\">\n",
       "      <th></th>\n",
       "      <th>id_individuo</th>\n",
       "      <th>sexo</th>\n",
       "      <th>peso</th>\n",
       "      <th>talla</th>\n",
       "      <th>edad_dias</th>\n",
       "      <th>edad_meses</th>\n",
       "      <th>masa_corporal</th>\n",
       "      <th>haz</th>\n",
       "    </tr>\n",
       "  </thead>\n",
       "  <tbody>\n",
       "    <tr>\n",
       "      <th>0</th>\n",
       "      <td>1</td>\n",
       "      <td>F</td>\n",
       "      <td>18.6</td>\n",
       "      <td>104.0</td>\n",
       "      <td>1964.0</td>\n",
       "      <td>64.4</td>\n",
       "      <td>17.20</td>\n",
       "      <td>-1.33</td>\n",
       "    </tr>\n",
       "    <tr>\n",
       "      <th>1</th>\n",
       "      <td>1</td>\n",
       "      <td>F</td>\n",
       "      <td>23.5</td>\n",
       "      <td>115.0</td>\n",
       "      <td>2615.0</td>\n",
       "      <td>85.7</td>\n",
       "      <td>17.77</td>\n",
       "      <td>-1.36</td>\n",
       "    </tr>\n",
       "    <tr>\n",
       "      <th>2</th>\n",
       "      <td>2</td>\n",
       "      <td>M</td>\n",
       "      <td>7.8</td>\n",
       "      <td>59.0</td>\n",
       "      <td>168.0</td>\n",
       "      <td>5.5</td>\n",
       "      <td>22.41</td>\n",
       "      <td>-3.27</td>\n",
       "    </tr>\n",
       "    <tr>\n",
       "      <th>3</th>\n",
       "      <td>2</td>\n",
       "      <td>M</td>\n",
       "      <td>7.8</td>\n",
       "      <td>66.0</td>\n",
       "      <td>193.0</td>\n",
       "      <td>6.3</td>\n",
       "      <td>17.91</td>\n",
       "      <td>-0.76</td>\n",
       "    </tr>\n",
       "    <tr>\n",
       "      <th>4</th>\n",
       "      <td>3</td>\n",
       "      <td>F</td>\n",
       "      <td>34.6</td>\n",
       "      <td>141.0</td>\n",
       "      <td>3573.0</td>\n",
       "      <td>117.1</td>\n",
       "      <td>17.40</td>\n",
       "      <td>0.61</td>\n",
       "    </tr>\n",
       "  </tbody>\n",
       "</table>\n",
       "</div>"
      ],
      "text/plain": [
       "   id_individuo sexo  peso  talla  edad_dias  edad_meses  masa_corporal   haz\n",
       "0             1    F  18.6  104.0     1964.0        64.4          17.20 -1.33\n",
       "1             1    F  23.5  115.0     2615.0        85.7          17.77 -1.36\n",
       "2             2    M   7.8   59.0      168.0         5.5          22.41 -3.27\n",
       "3             2    M   7.8   66.0      193.0         6.3          17.91 -0.76\n",
       "4             3    F  34.6  141.0     3573.0       117.1          17.40  0.61"
      ]
     },
     "execution_count": 1092,
     "metadata": {},
     "output_type": "execute_result"
    }
   ],
   "source": [
    "# finalmente voy a querer hacer un join con el df original\n",
    "df_final = df.merge(df_haz, on=['id_individuo', 'sexo', 'peso', 'talla', 'edad_dias', 'edad_meses', 'masa_corporal'], how='left')\n",
    "df_final.head()"
   ]
  },
  {
   "cell_type": "code",
   "execution_count": 1093,
   "id": "3ba56fdd",
   "metadata": {},
   "outputs": [
    {
     "data": {
      "text/plain": [
       "1159781"
      ]
     },
     "execution_count": 1093,
     "metadata": {},
     "output_type": "execute_result"
    }
   ],
   "source": [
    "df_final.shape[0]"
   ]
  },
  {
   "cell_type": "markdown",
   "id": "6ee88d03",
   "metadata": {},
   "source": [
    "#### WAZ"
   ]
  },
  {
   "cell_type": "code",
   "execution_count": 1094,
   "id": "43a22561",
   "metadata": {},
   "outputs": [
    {
     "data": {
      "text/plain": [
       "Decimal('-0.13')"
      ]
     },
     "execution_count": 1094,
     "metadata": {},
     "output_type": "execute_result"
    }
   ],
   "source": [
    "# ejemplo \n",
    "calculator.wfa(measurement=df.loc[30]['peso'], age_in_months=str(df.loc[30]['edad_meses']), sex=df.loc[30]['sexo'])"
   ]
  },
  {
   "cell_type": "code",
   "execution_count": 1095,
   "id": "eaae76ea",
   "metadata": {},
   "outputs": [],
   "source": [
    "df_waz = df.dropna(subset=['sexo', 'edad_meses', 'peso'])\n",
    "df_waz = df_waz[df_waz['peso']>0] # tiene que ser mayor a 0 para que pueda hacer el cálculo"
   ]
  },
  {
   "cell_type": "code",
   "execution_count": 1096,
   "id": "c467686d",
   "metadata": {},
   "outputs": [],
   "source": [
    "def get_waz(peso, edad_meses, sexo):\n",
    "    waz = calculator.wfa(measurement=peso, age_in_months=edad_meses, sex=sexo)\n",
    "    return waz"
   ]
  },
  {
   "cell_type": "code",
   "execution_count": 1097,
   "id": "55742838",
   "metadata": {},
   "outputs": [],
   "source": [
    "df_waz['waz'] = df_waz.apply(lambda d: float(get_waz(d['peso'], d['edad_meses'], d['sexo'])), axis =1)"
   ]
  },
  {
   "cell_type": "code",
   "execution_count": 1098,
   "id": "9b18241f",
   "metadata": {},
   "outputs": [
    {
     "data": {
      "text/html": [
       "<div>\n",
       "<style scoped>\n",
       "    .dataframe tbody tr th:only-of-type {\n",
       "        vertical-align: middle;\n",
       "    }\n",
       "\n",
       "    .dataframe tbody tr th {\n",
       "        vertical-align: top;\n",
       "    }\n",
       "\n",
       "    .dataframe thead th {\n",
       "        text-align: right;\n",
       "    }\n",
       "</style>\n",
       "<table border=\"1\" class=\"dataframe\">\n",
       "  <thead>\n",
       "    <tr style=\"text-align: right;\">\n",
       "      <th></th>\n",
       "      <th>id_individuo</th>\n",
       "      <th>sexo</th>\n",
       "      <th>peso</th>\n",
       "      <th>talla</th>\n",
       "      <th>edad_dias</th>\n",
       "      <th>edad_meses</th>\n",
       "      <th>masa_corporal</th>\n",
       "      <th>waz</th>\n",
       "    </tr>\n",
       "  </thead>\n",
       "  <tbody>\n",
       "    <tr>\n",
       "      <th>0</th>\n",
       "      <td>1</td>\n",
       "      <td>F</td>\n",
       "      <td>18.6</td>\n",
       "      <td>104.0</td>\n",
       "      <td>1964.0</td>\n",
       "      <td>64.4</td>\n",
       "      <td>17.20</td>\n",
       "      <td>-0.07</td>\n",
       "    </tr>\n",
       "    <tr>\n",
       "      <th>1</th>\n",
       "      <td>1</td>\n",
       "      <td>F</td>\n",
       "      <td>23.5</td>\n",
       "      <td>115.0</td>\n",
       "      <td>2615.0</td>\n",
       "      <td>85.7</td>\n",
       "      <td>17.77</td>\n",
       "      <td>0.11</td>\n",
       "    </tr>\n",
       "    <tr>\n",
       "      <th>2</th>\n",
       "      <td>2</td>\n",
       "      <td>M</td>\n",
       "      <td>7.8</td>\n",
       "      <td>59.0</td>\n",
       "      <td>168.0</td>\n",
       "      <td>5.5</td>\n",
       "      <td>22.41</td>\n",
       "      <td>0.34</td>\n",
       "    </tr>\n",
       "    <tr>\n",
       "      <th>3</th>\n",
       "      <td>2</td>\n",
       "      <td>M</td>\n",
       "      <td>7.8</td>\n",
       "      <td>66.0</td>\n",
       "      <td>193.0</td>\n",
       "      <td>6.3</td>\n",
       "      <td>17.91</td>\n",
       "      <td>-0.16</td>\n",
       "    </tr>\n",
       "    <tr>\n",
       "      <th>4</th>\n",
       "      <td>3</td>\n",
       "      <td>F</td>\n",
       "      <td>34.6</td>\n",
       "      <td>141.0</td>\n",
       "      <td>3573.0</td>\n",
       "      <td>117.1</td>\n",
       "      <td>17.40</td>\n",
       "      <td>0.38</td>\n",
       "    </tr>\n",
       "  </tbody>\n",
       "</table>\n",
       "</div>"
      ],
      "text/plain": [
       "   id_individuo sexo  peso  talla  edad_dias  edad_meses  masa_corporal   waz\n",
       "0             1    F  18.6  104.0     1964.0        64.4          17.20 -0.07\n",
       "1             1    F  23.5  115.0     2615.0        85.7          17.77  0.11\n",
       "2             2    M   7.8   59.0      168.0         5.5          22.41  0.34\n",
       "3             2    M   7.8   66.0      193.0         6.3          17.91 -0.16\n",
       "4             3    F  34.6  141.0     3573.0       117.1          17.40  0.38"
      ]
     },
     "execution_count": 1098,
     "metadata": {},
     "output_type": "execute_result"
    }
   ],
   "source": [
    "df_waz.head()"
   ]
  },
  {
   "cell_type": "code",
   "execution_count": 1099,
   "id": "6ceb4a98",
   "metadata": {},
   "outputs": [
    {
     "data": {
      "text/plain": [
       "1159781"
      ]
     },
     "execution_count": 1099,
     "metadata": {},
     "output_type": "execute_result"
    }
   ],
   "source": [
    "df_waz.shape[0]"
   ]
  },
  {
   "cell_type": "code",
   "execution_count": 1100,
   "id": "f389162c",
   "metadata": {},
   "outputs": [
    {
     "data": {
      "text/plain": [
       "1159781"
      ]
     },
     "execution_count": 1100,
     "metadata": {},
     "output_type": "execute_result"
    }
   ],
   "source": [
    "df.shape[0]"
   ]
  },
  {
   "cell_type": "code",
   "execution_count": 1101,
   "id": "39c497bd",
   "metadata": {},
   "outputs": [
    {
     "data": {
      "text/html": [
       "<div>\n",
       "<style scoped>\n",
       "    .dataframe tbody tr th:only-of-type {\n",
       "        vertical-align: middle;\n",
       "    }\n",
       "\n",
       "    .dataframe tbody tr th {\n",
       "        vertical-align: top;\n",
       "    }\n",
       "\n",
       "    .dataframe thead th {\n",
       "        text-align: right;\n",
       "    }\n",
       "</style>\n",
       "<table border=\"1\" class=\"dataframe\">\n",
       "  <thead>\n",
       "    <tr style=\"text-align: right;\">\n",
       "      <th></th>\n",
       "      <th>id_individuo</th>\n",
       "      <th>sexo</th>\n",
       "      <th>peso</th>\n",
       "      <th>talla</th>\n",
       "      <th>edad_dias</th>\n",
       "      <th>edad_meses</th>\n",
       "      <th>masa_corporal</th>\n",
       "      <th>haz</th>\n",
       "      <th>waz</th>\n",
       "    </tr>\n",
       "  </thead>\n",
       "  <tbody>\n",
       "    <tr>\n",
       "      <th>0</th>\n",
       "      <td>1</td>\n",
       "      <td>F</td>\n",
       "      <td>18.6</td>\n",
       "      <td>104.0</td>\n",
       "      <td>1964.0</td>\n",
       "      <td>64.4</td>\n",
       "      <td>17.20</td>\n",
       "      <td>-1.33</td>\n",
       "      <td>-0.07</td>\n",
       "    </tr>\n",
       "    <tr>\n",
       "      <th>1</th>\n",
       "      <td>1</td>\n",
       "      <td>F</td>\n",
       "      <td>23.5</td>\n",
       "      <td>115.0</td>\n",
       "      <td>2615.0</td>\n",
       "      <td>85.7</td>\n",
       "      <td>17.77</td>\n",
       "      <td>-1.36</td>\n",
       "      <td>0.11</td>\n",
       "    </tr>\n",
       "    <tr>\n",
       "      <th>2</th>\n",
       "      <td>2</td>\n",
       "      <td>M</td>\n",
       "      <td>7.8</td>\n",
       "      <td>59.0</td>\n",
       "      <td>168.0</td>\n",
       "      <td>5.5</td>\n",
       "      <td>22.41</td>\n",
       "      <td>-3.27</td>\n",
       "      <td>0.34</td>\n",
       "    </tr>\n",
       "    <tr>\n",
       "      <th>3</th>\n",
       "      <td>2</td>\n",
       "      <td>M</td>\n",
       "      <td>7.8</td>\n",
       "      <td>66.0</td>\n",
       "      <td>193.0</td>\n",
       "      <td>6.3</td>\n",
       "      <td>17.91</td>\n",
       "      <td>-0.76</td>\n",
       "      <td>-0.16</td>\n",
       "    </tr>\n",
       "    <tr>\n",
       "      <th>4</th>\n",
       "      <td>3</td>\n",
       "      <td>F</td>\n",
       "      <td>34.6</td>\n",
       "      <td>141.0</td>\n",
       "      <td>3573.0</td>\n",
       "      <td>117.1</td>\n",
       "      <td>17.40</td>\n",
       "      <td>0.61</td>\n",
       "      <td>0.38</td>\n",
       "    </tr>\n",
       "  </tbody>\n",
       "</table>\n",
       "</div>"
      ],
      "text/plain": [
       "   id_individuo sexo  peso  talla  edad_dias  edad_meses  masa_corporal   haz  \\\n",
       "0             1    F  18.6  104.0     1964.0        64.4          17.20 -1.33   \n",
       "1             1    F  23.5  115.0     2615.0        85.7          17.77 -1.36   \n",
       "2             2    M   7.8   59.0      168.0         5.5          22.41 -3.27   \n",
       "3             2    M   7.8   66.0      193.0         6.3          17.91 -0.76   \n",
       "4             3    F  34.6  141.0     3573.0       117.1          17.40  0.61   \n",
       "\n",
       "    waz  \n",
       "0 -0.07  \n",
       "1  0.11  \n",
       "2  0.34  \n",
       "3 -0.16  \n",
       "4  0.38  "
      ]
     },
     "execution_count": 1101,
     "metadata": {},
     "output_type": "execute_result"
    }
   ],
   "source": [
    "# finalmente voy a querer hacer un join con el df original\n",
    "df_final = df_final.merge(df_waz, on=['id_individuo', 'sexo', 'peso', 'talla', 'edad_dias', 'edad_meses', 'masa_corporal'], how='left')\n",
    "df_final.head()"
   ]
  },
  {
   "cell_type": "code",
   "execution_count": 1102,
   "id": "12d7157b",
   "metadata": {},
   "outputs": [
    {
     "data": {
      "text/plain": [
       "1159781"
      ]
     },
     "execution_count": 1102,
     "metadata": {},
     "output_type": "execute_result"
    }
   ],
   "source": [
    "df_final.shape[0]"
   ]
  },
  {
   "cell_type": "markdown",
   "id": "f98dc0a1",
   "metadata": {},
   "source": [
    "#### BMIZ"
   ]
  },
  {
   "cell_type": "code",
   "execution_count": 1103,
   "id": "269db4e0",
   "metadata": {},
   "outputs": [
    {
     "data": {
      "text/plain": [
       "1.83"
      ]
     },
     "execution_count": 1103,
     "metadata": {},
     "output_type": "execute_result"
    }
   ],
   "source": [
    "# ejemplo \n",
    "float(calculator.bmifa(measurement=df.loc[30]['masa_corporal'], age_in_months=str(df.loc[30]['edad_meses']), sex=df.loc[30]['sexo']))"
   ]
  },
  {
   "cell_type": "code",
   "execution_count": 1104,
   "id": "90d24789",
   "metadata": {},
   "outputs": [],
   "source": [
    "df_bmiz = df.dropna(subset=['sexo', 'edad_meses', 'masa_corporal'])\n",
    "df_bmiz = df_bmiz[df_bmiz['masa_corporal']>0] # tiene que ser mayor a 0 para que pueda hacer el cálculo"
   ]
  },
  {
   "cell_type": "code",
   "execution_count": 1105,
   "id": "1c365e6b",
   "metadata": {},
   "outputs": [],
   "source": [
    "def get_bmiz(masa_corporal, edad_meses, sexo):\n",
    "    bmiz = calculator.bmifa(measurement=masa_corporal, age_in_months=edad_meses, sex=sexo)\n",
    "    return bmiz"
   ]
  },
  {
   "cell_type": "code",
   "execution_count": 1106,
   "id": "3728981c",
   "metadata": {},
   "outputs": [],
   "source": [
    "df_bmiz['bmiz'] = df_bmiz.apply(lambda d: float(get_bmiz(d['masa_corporal'], d['edad_meses'], d['sexo'])), axis =1)"
   ]
  },
  {
   "cell_type": "code",
   "execution_count": 1107,
   "id": "8f4ee603",
   "metadata": {},
   "outputs": [
    {
     "data": {
      "text/html": [
       "<div>\n",
       "<style scoped>\n",
       "    .dataframe tbody tr th:only-of-type {\n",
       "        vertical-align: middle;\n",
       "    }\n",
       "\n",
       "    .dataframe tbody tr th {\n",
       "        vertical-align: top;\n",
       "    }\n",
       "\n",
       "    .dataframe thead th {\n",
       "        text-align: right;\n",
       "    }\n",
       "</style>\n",
       "<table border=\"1\" class=\"dataframe\">\n",
       "  <thead>\n",
       "    <tr style=\"text-align: right;\">\n",
       "      <th></th>\n",
       "      <th>id_individuo</th>\n",
       "      <th>sexo</th>\n",
       "      <th>peso</th>\n",
       "      <th>talla</th>\n",
       "      <th>edad_dias</th>\n",
       "      <th>edad_meses</th>\n",
       "      <th>masa_corporal</th>\n",
       "      <th>bmiz</th>\n",
       "    </tr>\n",
       "  </thead>\n",
       "  <tbody>\n",
       "    <tr>\n",
       "      <th>0</th>\n",
       "      <td>1</td>\n",
       "      <td>F</td>\n",
       "      <td>18.6</td>\n",
       "      <td>104.0</td>\n",
       "      <td>1964.0</td>\n",
       "      <td>64.4</td>\n",
       "      <td>17.20</td>\n",
       "      <td>1.19</td>\n",
       "    </tr>\n",
       "    <tr>\n",
       "      <th>1</th>\n",
       "      <td>1</td>\n",
       "      <td>F</td>\n",
       "      <td>23.5</td>\n",
       "      <td>115.0</td>\n",
       "      <td>2615.0</td>\n",
       "      <td>85.7</td>\n",
       "      <td>17.77</td>\n",
       "      <td>1.07</td>\n",
       "    </tr>\n",
       "    <tr>\n",
       "      <th>2</th>\n",
       "      <td>2</td>\n",
       "      <td>M</td>\n",
       "      <td>7.8</td>\n",
       "      <td>59.0</td>\n",
       "      <td>168.0</td>\n",
       "      <td>5.5</td>\n",
       "      <td>22.41</td>\n",
       "      <td>3.07</td>\n",
       "    </tr>\n",
       "    <tr>\n",
       "      <th>3</th>\n",
       "      <td>2</td>\n",
       "      <td>M</td>\n",
       "      <td>7.8</td>\n",
       "      <td>66.0</td>\n",
       "      <td>193.0</td>\n",
       "      <td>6.3</td>\n",
       "      <td>17.91</td>\n",
       "      <td>0.39</td>\n",
       "    </tr>\n",
       "    <tr>\n",
       "      <th>4</th>\n",
       "      <td>3</td>\n",
       "      <td>F</td>\n",
       "      <td>34.6</td>\n",
       "      <td>141.0</td>\n",
       "      <td>3573.0</td>\n",
       "      <td>117.1</td>\n",
       "      <td>17.40</td>\n",
       "      <td>0.28</td>\n",
       "    </tr>\n",
       "  </tbody>\n",
       "</table>\n",
       "</div>"
      ],
      "text/plain": [
       "   id_individuo sexo  peso  talla  edad_dias  edad_meses  masa_corporal  bmiz\n",
       "0             1    F  18.6  104.0     1964.0        64.4          17.20  1.19\n",
       "1             1    F  23.5  115.0     2615.0        85.7          17.77  1.07\n",
       "2             2    M   7.8   59.0      168.0         5.5          22.41  3.07\n",
       "3             2    M   7.8   66.0      193.0         6.3          17.91  0.39\n",
       "4             3    F  34.6  141.0     3573.0       117.1          17.40  0.28"
      ]
     },
     "execution_count": 1107,
     "metadata": {},
     "output_type": "execute_result"
    }
   ],
   "source": [
    "df_bmiz.head()"
   ]
  },
  {
   "cell_type": "code",
   "execution_count": 1108,
   "id": "59738925",
   "metadata": {},
   "outputs": [
    {
     "data": {
      "text/plain": [
       "1159781"
      ]
     },
     "execution_count": 1108,
     "metadata": {},
     "output_type": "execute_result"
    }
   ],
   "source": [
    "df_bmiz.shape[0]"
   ]
  },
  {
   "cell_type": "code",
   "execution_count": 1109,
   "id": "1a75eeaa",
   "metadata": {},
   "outputs": [
    {
     "data": {
      "text/plain": [
       "1159781"
      ]
     },
     "execution_count": 1109,
     "metadata": {},
     "output_type": "execute_result"
    }
   ],
   "source": [
    "df.shape[0]"
   ]
  },
  {
   "cell_type": "code",
   "execution_count": 1110,
   "id": "c7aa17e6",
   "metadata": {},
   "outputs": [
    {
     "data": {
      "text/html": [
       "<div>\n",
       "<style scoped>\n",
       "    .dataframe tbody tr th:only-of-type {\n",
       "        vertical-align: middle;\n",
       "    }\n",
       "\n",
       "    .dataframe tbody tr th {\n",
       "        vertical-align: top;\n",
       "    }\n",
       "\n",
       "    .dataframe thead th {\n",
       "        text-align: right;\n",
       "    }\n",
       "</style>\n",
       "<table border=\"1\" class=\"dataframe\">\n",
       "  <thead>\n",
       "    <tr style=\"text-align: right;\">\n",
       "      <th></th>\n",
       "      <th>id_individuo</th>\n",
       "      <th>sexo</th>\n",
       "      <th>peso</th>\n",
       "      <th>talla</th>\n",
       "      <th>edad_dias</th>\n",
       "      <th>edad_meses</th>\n",
       "      <th>masa_corporal</th>\n",
       "      <th>haz</th>\n",
       "      <th>waz</th>\n",
       "      <th>bmiz</th>\n",
       "    </tr>\n",
       "  </thead>\n",
       "  <tbody>\n",
       "    <tr>\n",
       "      <th>0</th>\n",
       "      <td>1</td>\n",
       "      <td>F</td>\n",
       "      <td>18.6</td>\n",
       "      <td>104.0</td>\n",
       "      <td>1964.0</td>\n",
       "      <td>64.4</td>\n",
       "      <td>17.20</td>\n",
       "      <td>-1.33</td>\n",
       "      <td>-0.07</td>\n",
       "      <td>1.19</td>\n",
       "    </tr>\n",
       "    <tr>\n",
       "      <th>1</th>\n",
       "      <td>1</td>\n",
       "      <td>F</td>\n",
       "      <td>23.5</td>\n",
       "      <td>115.0</td>\n",
       "      <td>2615.0</td>\n",
       "      <td>85.7</td>\n",
       "      <td>17.77</td>\n",
       "      <td>-1.36</td>\n",
       "      <td>0.11</td>\n",
       "      <td>1.07</td>\n",
       "    </tr>\n",
       "    <tr>\n",
       "      <th>2</th>\n",
       "      <td>2</td>\n",
       "      <td>M</td>\n",
       "      <td>7.8</td>\n",
       "      <td>59.0</td>\n",
       "      <td>168.0</td>\n",
       "      <td>5.5</td>\n",
       "      <td>22.41</td>\n",
       "      <td>-3.27</td>\n",
       "      <td>0.34</td>\n",
       "      <td>3.07</td>\n",
       "    </tr>\n",
       "    <tr>\n",
       "      <th>3</th>\n",
       "      <td>2</td>\n",
       "      <td>M</td>\n",
       "      <td>7.8</td>\n",
       "      <td>66.0</td>\n",
       "      <td>193.0</td>\n",
       "      <td>6.3</td>\n",
       "      <td>17.91</td>\n",
       "      <td>-0.76</td>\n",
       "      <td>-0.16</td>\n",
       "      <td>0.39</td>\n",
       "    </tr>\n",
       "    <tr>\n",
       "      <th>4</th>\n",
       "      <td>3</td>\n",
       "      <td>F</td>\n",
       "      <td>34.6</td>\n",
       "      <td>141.0</td>\n",
       "      <td>3573.0</td>\n",
       "      <td>117.1</td>\n",
       "      <td>17.40</td>\n",
       "      <td>0.61</td>\n",
       "      <td>0.38</td>\n",
       "      <td>0.28</td>\n",
       "    </tr>\n",
       "  </tbody>\n",
       "</table>\n",
       "</div>"
      ],
      "text/plain": [
       "   id_individuo sexo  peso  talla  edad_dias  edad_meses  masa_corporal   haz  \\\n",
       "0             1    F  18.6  104.0     1964.0        64.4          17.20 -1.33   \n",
       "1             1    F  23.5  115.0     2615.0        85.7          17.77 -1.36   \n",
       "2             2    M   7.8   59.0      168.0         5.5          22.41 -3.27   \n",
       "3             2    M   7.8   66.0      193.0         6.3          17.91 -0.76   \n",
       "4             3    F  34.6  141.0     3573.0       117.1          17.40  0.61   \n",
       "\n",
       "    waz  bmiz  \n",
       "0 -0.07  1.19  \n",
       "1  0.11  1.07  \n",
       "2  0.34  3.07  \n",
       "3 -0.16  0.39  \n",
       "4  0.38  0.28  "
      ]
     },
     "execution_count": 1110,
     "metadata": {},
     "output_type": "execute_result"
    }
   ],
   "source": [
    "# finalmente voy a querer hacer un join con el df original\n",
    "df_final = df_final.merge(df_bmiz, on=['id_individuo', 'sexo', 'peso', 'talla', 'edad_dias', 'edad_meses', 'masa_corporal'], how='left')\n",
    "df_final.head()"
   ]
  },
  {
   "cell_type": "code",
   "execution_count": 1111,
   "id": "50b18d48",
   "metadata": {},
   "outputs": [
    {
     "data": {
      "text/plain": [
       "1159781"
      ]
     },
     "execution_count": 1111,
     "metadata": {},
     "output_type": "execute_result"
    }
   ],
   "source": [
    "df_final.shape[0]"
   ]
  },
  {
   "cell_type": "code",
   "execution_count": 1112,
   "id": "92e305e6",
   "metadata": {},
   "outputs": [
    {
     "name": "stdout",
     "output_type": "stream",
     "text": [
      "<class 'pandas.core.frame.DataFrame'>\n",
      "Int64Index: 1159781 entries, 0 to 1159780\n",
      "Data columns (total 10 columns):\n",
      " #   Column         Non-Null Count    Dtype  \n",
      "---  ------         --------------    -----  \n",
      " 0   id_individuo   1159781 non-null  int64  \n",
      " 1   sexo           1159781 non-null  object \n",
      " 2   peso           1159781 non-null  float64\n",
      " 3   talla          1159781 non-null  float64\n",
      " 4   edad_dias      1159781 non-null  float64\n",
      " 5   edad_meses     1159781 non-null  float64\n",
      " 6   masa_corporal  1159781 non-null  float64\n",
      " 7   haz            1159781 non-null  float64\n",
      " 8   waz            1159781 non-null  float64\n",
      " 9   bmiz           1159781 non-null  float64\n",
      "dtypes: float64(8), int64(1), object(1)\n",
      "memory usage: 97.3+ MB\n"
     ]
    }
   ],
   "source": [
    "df_final.info()"
   ]
  },
  {
   "cell_type": "code",
   "execution_count": 1156,
   "id": "1735c913",
   "metadata": {},
   "outputs": [
    {
     "data": {
      "text/html": [
       "<div>\n",
       "<style scoped>\n",
       "    .dataframe tbody tr th:only-of-type {\n",
       "        vertical-align: middle;\n",
       "    }\n",
       "\n",
       "    .dataframe tbody tr th {\n",
       "        vertical-align: top;\n",
       "    }\n",
       "\n",
       "    .dataframe thead th {\n",
       "        text-align: right;\n",
       "    }\n",
       "</style>\n",
       "<table border=\"1\" class=\"dataframe\">\n",
       "  <thead>\n",
       "    <tr style=\"text-align: right;\">\n",
       "      <th></th>\n",
       "      <th>id_individuo</th>\n",
       "      <th>sexo</th>\n",
       "      <th>peso</th>\n",
       "      <th>talla</th>\n",
       "      <th>edad_dias</th>\n",
       "      <th>edad_meses</th>\n",
       "      <th>masa_corporal</th>\n",
       "      <th>haz</th>\n",
       "      <th>waz</th>\n",
       "      <th>bmiz</th>\n",
       "    </tr>\n",
       "  </thead>\n",
       "  <tbody>\n",
       "    <tr>\n",
       "      <th>1076679</th>\n",
       "      <td>278547</td>\n",
       "      <td>M</td>\n",
       "      <td>11.3</td>\n",
       "      <td>82.0</td>\n",
       "      <td>612.0</td>\n",
       "      <td>20.1</td>\n",
       "      <td>16.81</td>\n",
       "      <td>-0.78</td>\n",
       "      <td>-0.04</td>\n",
       "      <td>0.64</td>\n",
       "    </tr>\n",
       "    <tr>\n",
       "      <th>357129</th>\n",
       "      <td>92462</td>\n",
       "      <td>M</td>\n",
       "      <td>64.3</td>\n",
       "      <td>171.0</td>\n",
       "      <td>4838.0</td>\n",
       "      <td>158.6</td>\n",
       "      <td>21.99</td>\n",
       "      <td>1.67</td>\n",
       "      <td>1.47</td>\n",
       "      <td>1.04</td>\n",
       "    </tr>\n",
       "    <tr>\n",
       "      <th>1032763</th>\n",
       "      <td>267185</td>\n",
       "      <td>F</td>\n",
       "      <td>9.5</td>\n",
       "      <td>72.0</td>\n",
       "      <td>366.0</td>\n",
       "      <td>12.0</td>\n",
       "      <td>18.33</td>\n",
       "      <td>-0.78</td>\n",
       "      <td>0.48</td>\n",
       "      <td>1.27</td>\n",
       "    </tr>\n",
       "    <tr>\n",
       "      <th>391808</th>\n",
       "      <td>101488</td>\n",
       "      <td>M</td>\n",
       "      <td>24.3</td>\n",
       "      <td>117.0</td>\n",
       "      <td>2314.0</td>\n",
       "      <td>75.9</td>\n",
       "      <td>17.75</td>\n",
       "      <td>-0.05</td>\n",
       "      <td>0.85</td>\n",
       "      <td>1.33</td>\n",
       "    </tr>\n",
       "    <tr>\n",
       "      <th>1133283</th>\n",
       "      <td>293132</td>\n",
       "      <td>F</td>\n",
       "      <td>30.9</td>\n",
       "      <td>133.0</td>\n",
       "      <td>2956.0</td>\n",
       "      <td>96.9</td>\n",
       "      <td>17.47</td>\n",
       "      <td>0.86</td>\n",
       "      <td>0.96</td>\n",
       "      <td>0.74</td>\n",
       "    </tr>\n",
       "  </tbody>\n",
       "</table>\n",
       "</div>"
      ],
      "text/plain": [
       "         id_individuo sexo  peso  talla  edad_dias  edad_meses  masa_corporal  \\\n",
       "1076679        278547    M  11.3   82.0      612.0        20.1          16.81   \n",
       "357129          92462    M  64.3  171.0     4838.0       158.6          21.99   \n",
       "1032763        267185    F   9.5   72.0      366.0        12.0          18.33   \n",
       "391808         101488    M  24.3  117.0     2314.0        75.9          17.75   \n",
       "1133283        293132    F  30.9  133.0     2956.0        96.9          17.47   \n",
       "\n",
       "          haz   waz  bmiz  \n",
       "1076679 -0.78 -0.04  0.64  \n",
       "357129   1.67  1.47  1.04  \n",
       "1032763 -0.78  0.48  1.27  \n",
       "391808  -0.05  0.85  1.33  \n",
       "1133283  0.86  0.96  0.74  "
      ]
     },
     "execution_count": 1156,
     "metadata": {},
     "output_type": "execute_result"
    }
   ],
   "source": [
    "df_final.sample(5, random_state=15).head(5)"
   ]
  },
  {
   "cell_type": "code",
   "execution_count": 1157,
   "id": "c7854359",
   "metadata": {},
   "outputs": [],
   "source": [
    "# extraer imagen\n",
    "df_sample = df_final.sample(5, random_state=15).head(5).reset_index(drop=True)\n",
    "dfi.export(df_sample, 'images/data_zscores_5.png')"
   ]
  },
  {
   "cell_type": "code",
   "execution_count": 1113,
   "id": "6d9ff00b",
   "metadata": {},
   "outputs": [],
   "source": [
    "# guardarlo\n",
    "#df_final.to_csv('data/df_zscores.csv', index=False)"
   ]
  },
  {
   "cell_type": "markdown",
   "id": "fedcc125",
   "metadata": {},
   "source": [
    "## Análisis Z-scores"
   ]
  },
  {
   "cell_type": "code",
   "execution_count": 232,
   "id": "89857f8b",
   "metadata": {},
   "outputs": [],
   "source": [
    "df_final = pd.read_csv('data/df_zscores.csv')"
   ]
  },
  {
   "cell_type": "code",
   "execution_count": 1114,
   "id": "81c69b60",
   "metadata": {},
   "outputs": [],
   "source": [
    "df_final = df_final[df_final['masa_corporal']<50]"
   ]
  },
  {
   "cell_type": "markdown",
   "id": "2a2c5691",
   "metadata": {},
   "source": [
    "#### BMIZ"
   ]
  },
  {
   "cell_type": "code",
   "execution_count": 1118,
   "id": "c5795c4c",
   "metadata": {},
   "outputs": [
    {
     "data": {
      "text/plain": [
       "count    1.150504e+06\n",
       "mean    -4.115610e+00\n",
       "std      4.106045e+03\n",
       "min     -4.401457e+06\n",
       "25%     -2.100000e-01\n",
       "50%      5.100000e-01\n",
       "75%      1.300000e+00\n",
       "max      1.838000e+01\n",
       "Name: bmiz, dtype: float64"
      ]
     },
     "execution_count": 1118,
     "metadata": {},
     "output_type": "execute_result"
    }
   ],
   "source": [
    "df_final.describe()['bmiz']"
   ]
  },
  {
   "cell_type": "code",
   "execution_count": 1116,
   "id": "9307969c",
   "metadata": {},
   "outputs": [
    {
     "data": {
      "text/plain": [
       "18.38"
      ]
     },
     "execution_count": 1116,
     "metadata": {},
     "output_type": "execute_result"
    }
   ],
   "source": [
    "df_final['bmiz'].max()"
   ]
  },
  {
   "cell_type": "code",
   "execution_count": 1117,
   "id": "1c8ecf8a",
   "metadata": {},
   "outputs": [
    {
     "data": {
      "text/plain": [
       "-4401456.97"
      ]
     },
     "execution_count": 1117,
     "metadata": {},
     "output_type": "execute_result"
    }
   ],
   "source": [
    "df_final['bmiz'].min()"
   ]
  },
  {
   "cell_type": "code",
   "execution_count": 241,
   "id": "6d4966a2",
   "metadata": {},
   "outputs": [
    {
     "data": {
      "text/html": [
       "<div>\n",
       "<style scoped>\n",
       "    .dataframe tbody tr th:only-of-type {\n",
       "        vertical-align: middle;\n",
       "    }\n",
       "\n",
       "    .dataframe tbody tr th {\n",
       "        vertical-align: top;\n",
       "    }\n",
       "\n",
       "    .dataframe thead th {\n",
       "        text-align: right;\n",
       "    }\n",
       "</style>\n",
       "<table border=\"1\" class=\"dataframe\">\n",
       "  <thead>\n",
       "    <tr style=\"text-align: right;\">\n",
       "      <th></th>\n",
       "      <th>id_individuo</th>\n",
       "      <th>sexo</th>\n",
       "      <th>peso</th>\n",
       "      <th>talla</th>\n",
       "      <th>edad_dias</th>\n",
       "      <th>edad_meses</th>\n",
       "      <th>masa_corporal</th>\n",
       "      <th>haz</th>\n",
       "      <th>waz</th>\n",
       "      <th>bmiz</th>\n",
       "    </tr>\n",
       "  </thead>\n",
       "  <tbody>\n",
       "    <tr>\n",
       "      <th>597316</th>\n",
       "      <td>154448</td>\n",
       "      <td>F</td>\n",
       "      <td>0.3</td>\n",
       "      <td>116.0</td>\n",
       "      <td>2013.0</td>\n",
       "      <td>66.0</td>\n",
       "      <td>0.22</td>\n",
       "      <td>0.89</td>\n",
       "      <td>-1249.47</td>\n",
       "      <td>-4401456.97</td>\n",
       "    </tr>\n",
       "  </tbody>\n",
       "</table>\n",
       "</div>"
      ],
      "text/plain": [
       "        id_individuo sexo  peso  talla  edad_dias  edad_meses  masa_corporal  \\\n",
       "597316        154448    F   0.3  116.0     2013.0        66.0           0.22   \n",
       "\n",
       "         haz      waz        bmiz  \n",
       "597316  0.89 -1249.47 -4401456.97  "
      ]
     },
     "execution_count": 241,
     "metadata": {},
     "output_type": "execute_result"
    }
   ],
   "source": [
    "df_final[df_final['bmiz']==(-4401456.97)]"
   ]
  },
  {
   "cell_type": "code",
   "execution_count": 1124,
   "id": "070474dd",
   "metadata": {},
   "outputs": [
    {
     "data": {
      "image/png": "[encoded data removed]",
      "text/plain": [
       "<Figure size 432x288 with 1 Axes>"
      ]
     },
     "metadata": {
      "needs_background": "light"
     },
     "output_type": "display_data"
    }
   ],
   "source": [
    "bmiz_fig = df_final[(df_final['bmiz']>-10) & (df_final['bmiz']<10)].hist('bmiz', bins=60)\n",
    "#plt.savefig('images/bmiz.png')"
   ]
  },
  {
   "cell_type": "markdown",
   "id": "7de88aff",
   "metadata": {},
   "source": [
    "### HAZ"
   ]
  },
  {
   "cell_type": "code",
   "execution_count": 1125,
   "id": "09dd3dcb",
   "metadata": {},
   "outputs": [
    {
     "data": {
      "text/plain": [
       "count    1.150504e+06\n",
       "mean    -3.096416e-01\n",
       "std      1.954771e+00\n",
       "min     -4.405000e+01\n",
       "25%     -1.110000e+00\n",
       "50%     -3.200000e-01\n",
       "75%      5.000000e-01\n",
       "max      7.275000e+01\n",
       "Name: haz, dtype: float64"
      ]
     },
     "execution_count": 1125,
     "metadata": {},
     "output_type": "execute_result"
    }
   ],
   "source": [
    "df_final['haz'].describe()"
   ]
  },
  {
   "cell_type": "code",
   "execution_count": 1126,
   "id": "321d1959",
   "metadata": {},
   "outputs": [
    {
     "data": {
      "text/plain": [
       "-44.05"
      ]
     },
     "execution_count": 1126,
     "metadata": {},
     "output_type": "execute_result"
    }
   ],
   "source": [
    "df_final['haz'].min()"
   ]
  },
  {
   "cell_type": "code",
   "execution_count": 1127,
   "id": "1dbcddb1",
   "metadata": {},
   "outputs": [
    {
     "data": {
      "text/plain": [
       "72.75"
      ]
     },
     "execution_count": 1127,
     "metadata": {},
     "output_type": "execute_result"
    }
   ],
   "source": [
    "df_final['haz'].max()"
   ]
  },
  {
   "cell_type": "code",
   "execution_count": 1130,
   "id": "e20db2e1",
   "metadata": {},
   "outputs": [
    {
     "data": {
      "image/png": "[encoded data removed]",
      "text/plain": [
       "<Figure size 432x288 with 1 Axes>"
      ]
     },
     "metadata": {
      "needs_background": "light"
     },
     "output_type": "display_data"
    }
   ],
   "source": [
    "haz_fig = df_final[(df_final['haz']>-10) & (df_final['haz']<10)].hist('haz', bins = 60)\n",
    "#plt.savefig('images/haz.png')"
   ]
  },
  {
   "cell_type": "markdown",
   "id": "d0ab34fc",
   "metadata": {},
   "source": [
    "### WAZ"
   ]
  },
  {
   "cell_type": "code",
   "execution_count": 1131,
   "id": "ec2c57cb",
   "metadata": {},
   "outputs": [
    {
     "data": {
      "text/plain": [
       "count    1.150504e+06\n",
       "mean     6.799696e-02\n",
       "std      2.498243e+00\n",
       "min     -1.249470e+03\n",
       "25%     -6.100000e-01\n",
       "50%      1.100000e-01\n",
       "75%      9.000000e-01\n",
       "max      3.185000e+01\n",
       "Name: waz, dtype: float64"
      ]
     },
     "execution_count": 1131,
     "metadata": {},
     "output_type": "execute_result"
    }
   ],
   "source": [
    "df_final['waz'].describe()"
   ]
  },
  {
   "cell_type": "code",
   "execution_count": 1133,
   "id": "00f7920d",
   "metadata": {},
   "outputs": [
    {
     "data": {
      "text/plain": [
       "-1249.47"
      ]
     },
     "execution_count": 1133,
     "metadata": {},
     "output_type": "execute_result"
    }
   ],
   "source": [
    "df_final['waz'].min()"
   ]
  },
  {
   "cell_type": "code",
   "execution_count": 1134,
   "id": "338b422f",
   "metadata": {},
   "outputs": [
    {
     "data": {
      "text/plain": [
       "31.85"
      ]
     },
     "execution_count": 1134,
     "metadata": {},
     "output_type": "execute_result"
    }
   ],
   "source": [
    "df_final['waz'].max()"
   ]
  },
  {
   "cell_type": "code",
   "execution_count": 1135,
   "id": "a158e8be",
   "metadata": {},
   "outputs": [
    {
     "data": {
      "image/png": "[encoded data removed]",
      "text/plain": [
       "<Figure size 432x288 with 1 Axes>"
      ]
     },
     "metadata": {
      "needs_background": "light"
     },
     "output_type": "display_data"
    }
   ],
   "source": [
    "waz_fig = df_final[(df_final['waz']>-10) & (df_final['waz']<10)].hist('waz', bins = 60)\n",
    "#plt.savefig('images/waz.png')"
   ]
  }
 ],
 "metadata": {
  "kernelspec": {
   "display_name": "Python 3 (ipykernel)",
   "language": "python",
   "name": "python3"
  },
  "language_info": {
   "codemirror_mode": {
    "name": "ipython",
    "version": 3
   },
   "file_extension": ".py",
   "mimetype": "text/x-python",
   "name": "python",
   "nbconvert_exporter": "python",
   "pygments_lexer": "ipython3",
   "version": "3.9.7"
  }
 },
 "nbformat": 4,
 "nbformat_minor": 5
}
