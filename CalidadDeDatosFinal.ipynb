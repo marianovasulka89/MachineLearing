{
 "cells": [
  {
   "cell_type": "code",
   "execution_count": 1,
   "id": "82770538",
   "metadata": {},
   "outputs": [
    {
     "data": {
      "text/plain": [
       "Index(['id_individuo', 'sexo', 'peso', 'talla', 'edad_dias', 'edad_meses',\n",
       "       'masa_corporal', 'haz', 'waz', 'bmiz'],\n",
       "      dtype='object')"
      ]
     },
     "execution_count": 1,
     "metadata": {},
     "output_type": "execute_result"
    }
   ],
   "source": [
    "import pandas as pd\n",
    "df = pd.read_csv('df_zscores.csv')\n",
    "df.columns"
   ]
  },
  {
   "cell_type": "code",
   "execution_count": 2,
   "id": "2a887f36",
   "metadata": {},
   "outputs": [
    {
     "data": {
      "text/html": [
       "<div>\n",
       "<style scoped>\n",
       "    .dataframe tbody tr th:only-of-type {\n",
       "        vertical-align: middle;\n",
       "    }\n",
       "\n",
       "    .dataframe tbody tr th {\n",
       "        vertical-align: top;\n",
       "    }\n",
       "\n",
       "    .dataframe thead th {\n",
       "        text-align: right;\n",
       "    }\n",
       "</style>\n",
       "<table border=\"1\" class=\"dataframe\">\n",
       "  <thead>\n",
       "    <tr style=\"text-align: right;\">\n",
       "      <th></th>\n",
       "      <th>id_individuo</th>\n",
       "      <th>sexo</th>\n",
       "      <th>peso</th>\n",
       "      <th>talla</th>\n",
       "      <th>edad_dias</th>\n",
       "      <th>edad_meses</th>\n",
       "      <th>masa_corporal</th>\n",
       "      <th>haz</th>\n",
       "      <th>waz</th>\n",
       "      <th>bmiz</th>\n",
       "    </tr>\n",
       "  </thead>\n",
       "  <tbody>\n",
       "    <tr>\n",
       "      <th>0</th>\n",
       "      <td>1</td>\n",
       "      <td>F</td>\n",
       "      <td>18.6</td>\n",
       "      <td>104.0</td>\n",
       "      <td>1964.0</td>\n",
       "      <td>64.4</td>\n",
       "      <td>17.20</td>\n",
       "      <td>-1.33</td>\n",
       "      <td>-0.07</td>\n",
       "      <td>1.19</td>\n",
       "    </tr>\n",
       "    <tr>\n",
       "      <th>1</th>\n",
       "      <td>1</td>\n",
       "      <td>F</td>\n",
       "      <td>23.5</td>\n",
       "      <td>115.0</td>\n",
       "      <td>2615.0</td>\n",
       "      <td>85.7</td>\n",
       "      <td>17.77</td>\n",
       "      <td>-1.36</td>\n",
       "      <td>0.11</td>\n",
       "      <td>1.07</td>\n",
       "    </tr>\n",
       "    <tr>\n",
       "      <th>2</th>\n",
       "      <td>2</td>\n",
       "      <td>M</td>\n",
       "      <td>7.8</td>\n",
       "      <td>59.0</td>\n",
       "      <td>168.0</td>\n",
       "      <td>5.5</td>\n",
       "      <td>22.41</td>\n",
       "      <td>-3.27</td>\n",
       "      <td>0.34</td>\n",
       "      <td>3.07</td>\n",
       "    </tr>\n",
       "    <tr>\n",
       "      <th>3</th>\n",
       "      <td>2</td>\n",
       "      <td>M</td>\n",
       "      <td>7.8</td>\n",
       "      <td>66.0</td>\n",
       "      <td>193.0</td>\n",
       "      <td>6.3</td>\n",
       "      <td>17.91</td>\n",
       "      <td>-0.76</td>\n",
       "      <td>-0.16</td>\n",
       "      <td>0.39</td>\n",
       "    </tr>\n",
       "    <tr>\n",
       "      <th>4</th>\n",
       "      <td>3</td>\n",
       "      <td>F</td>\n",
       "      <td>34.6</td>\n",
       "      <td>141.0</td>\n",
       "      <td>3573.0</td>\n",
       "      <td>117.1</td>\n",
       "      <td>17.40</td>\n",
       "      <td>0.61</td>\n",
       "      <td>0.38</td>\n",
       "      <td>0.28</td>\n",
       "    </tr>\n",
       "    <tr>\n",
       "      <th>...</th>\n",
       "      <td>...</td>\n",
       "      <td>...</td>\n",
       "      <td>...</td>\n",
       "      <td>...</td>\n",
       "      <td>...</td>\n",
       "      <td>...</td>\n",
       "      <td>...</td>\n",
       "      <td>...</td>\n",
       "      <td>...</td>\n",
       "      <td>...</td>\n",
       "    </tr>\n",
       "    <tr>\n",
       "      <th>1159387</th>\n",
       "      <td>299999</td>\n",
       "      <td>M</td>\n",
       "      <td>10.3</td>\n",
       "      <td>70.0</td>\n",
       "      <td>232.0</td>\n",
       "      <td>7.6</td>\n",
       "      <td>21.02</td>\n",
       "      <td>0.38</td>\n",
       "      <td>2.01</td>\n",
       "      <td>2.31</td>\n",
       "    </tr>\n",
       "    <tr>\n",
       "      <th>1159388</th>\n",
       "      <td>299999</td>\n",
       "      <td>M</td>\n",
       "      <td>10.3</td>\n",
       "      <td>74.0</td>\n",
       "      <td>302.0</td>\n",
       "      <td>9.9</td>\n",
       "      <td>18.81</td>\n",
       "      <td>0.91</td>\n",
       "      <td>1.35</td>\n",
       "      <td>1.11</td>\n",
       "    </tr>\n",
       "    <tr>\n",
       "      <th>1159389</th>\n",
       "      <td>299999</td>\n",
       "      <td>M</td>\n",
       "      <td>12.9</td>\n",
       "      <td>80.0</td>\n",
       "      <td>535.0</td>\n",
       "      <td>17.5</td>\n",
       "      <td>20.16</td>\n",
       "      <td>-0.47</td>\n",
       "      <td>1.67</td>\n",
       "      <td>2.59</td>\n",
       "    </tr>\n",
       "    <tr>\n",
       "      <th>1159390</th>\n",
       "      <td>299999</td>\n",
       "      <td>M</td>\n",
       "      <td>16.7</td>\n",
       "      <td>94.0</td>\n",
       "      <td>1003.0</td>\n",
       "      <td>32.9</td>\n",
       "      <td>18.90</td>\n",
       "      <td>0.34</td>\n",
       "      <td>1.64</td>\n",
       "      <td>2.26</td>\n",
       "    </tr>\n",
       "    <tr>\n",
       "      <th>1159391</th>\n",
       "      <td>299999</td>\n",
       "      <td>M</td>\n",
       "      <td>18.2</td>\n",
       "      <td>101.0</td>\n",
       "      <td>1354.0</td>\n",
       "      <td>44.4</td>\n",
       "      <td>17.84</td>\n",
       "      <td>0.20</td>\n",
       "      <td>1.22</td>\n",
       "      <td>1.77</td>\n",
       "    </tr>\n",
       "  </tbody>\n",
       "</table>\n",
       "<p>1159392 rows × 10 columns</p>\n",
       "</div>"
      ],
      "text/plain": [
       "         id_individuo sexo  peso  talla  edad_dias  edad_meses  masa_corporal  \\\n",
       "0                   1    F  18.6  104.0     1964.0        64.4          17.20   \n",
       "1                   1    F  23.5  115.0     2615.0        85.7          17.77   \n",
       "2                   2    M   7.8   59.0      168.0         5.5          22.41   \n",
       "3                   2    M   7.8   66.0      193.0         6.3          17.91   \n",
       "4                   3    F  34.6  141.0     3573.0       117.1          17.40   \n",
       "...               ...  ...   ...    ...        ...         ...            ...   \n",
       "1159387        299999    M  10.3   70.0      232.0         7.6          21.02   \n",
       "1159388        299999    M  10.3   74.0      302.0         9.9          18.81   \n",
       "1159389        299999    M  12.9   80.0      535.0        17.5          20.16   \n",
       "1159390        299999    M  16.7   94.0     1003.0        32.9          18.90   \n",
       "1159391        299999    M  18.2  101.0     1354.0        44.4          17.84   \n",
       "\n",
       "          haz   waz  bmiz  \n",
       "0       -1.33 -0.07  1.19  \n",
       "1       -1.36  0.11  1.07  \n",
       "2       -3.27  0.34  3.07  \n",
       "3       -0.76 -0.16  0.39  \n",
       "4        0.61  0.38  0.28  \n",
       "...       ...   ...   ...  \n",
       "1159387  0.38  2.01  2.31  \n",
       "1159388  0.91  1.35  1.11  \n",
       "1159389 -0.47  1.67  2.59  \n",
       "1159390  0.34  1.64  2.26  \n",
       "1159391  0.20  1.22  1.77  \n",
       "\n",
       "[1159392 rows x 10 columns]"
      ]
     },
     "execution_count": 2,
     "metadata": {},
     "output_type": "execute_result"
    }
   ],
   "source": [
    "df.head(-5)"
   ]
  },
  {
   "cell_type": "code",
   "execution_count": 3,
   "id": "40b055fd",
   "metadata": {},
   "outputs": [
    {
     "data": {
      "text/plain": [
       "(1159397, 10)"
      ]
     },
     "execution_count": 3,
     "metadata": {},
     "output_type": "execute_result"
    }
   ],
   "source": [
    "df.shape"
   ]
  },
  {
   "cell_type": "code",
   "execution_count": 4,
   "id": "0455022f",
   "metadata": {},
   "outputs": [],
   "source": [
    "#individuos totales = 299999"
   ]
  },
  {
   "cell_type": "code",
   "execution_count": 5,
   "id": "0628b3c6",
   "metadata": {},
   "outputs": [
    {
     "data": {
      "text/plain": [
       "299999"
      ]
     },
     "execution_count": 5,
     "metadata": {},
     "output_type": "execute_result"
    }
   ],
   "source": [
    "import numpy as np\n",
    "individuos = np.arange(1,300000)\n",
    "len(individuos)"
   ]
  },
  {
   "cell_type": "code",
   "execution_count": 6,
   "id": "0b5e0ddf",
   "metadata": {},
   "outputs": [],
   "source": [
    "#queremos chequear que la talla sea igual o mayor conforme pasa el tiempo\n",
    "#lista_tallas_anormales=[]\n",
    "#for i in range(0 , len(individuos)):\n",
    " #   subdf = df[df['id_individuo']==individuos[i]]#hasta aca devuelve un subdf con el Iesimo individuo\n",
    "  #  for j in range(0 , subdf.shape[0]-1):\n",
    "   #     if(subdf.loc[j+1 , ['talla']].item() < subdf.loc[j , ['talla']].item()):#aca evaluo si en la siguiente fecha la talla es <\n",
    "    #        lista_tallas_anormales.append((individuos[i] , subdf))#caso afirmativo, que guarde el indiv , y el df\n",
    "            #reescribo abajo, por comodiad"
   ]
  },
  {
   "cell_type": "code",
   "execution_count": null,
   "id": "9195e0c4",
   "metadata": {},
   "outputs": [],
   "source": []
  },
  {
   "cell_type": "code",
   "execution_count": null,
   "id": "e9c303f7",
   "metadata": {},
   "outputs": [],
   "source": []
  },
  {
   "cell_type": "code",
   "execution_count": null,
   "id": "a0aae5cf",
   "metadata": {},
   "outputs": [],
   "source": []
  },
  {
   "cell_type": "code",
   "execution_count": null,
   "id": "b105a2db",
   "metadata": {},
   "outputs": [],
   "source": []
  },
  {
   "cell_type": "code",
   "execution_count": null,
   "id": "22a69ac4",
   "metadata": {},
   "outputs": [],
   "source": []
  },
  {
   "cell_type": "code",
   "execution_count": null,
   "id": "da2389be",
   "metadata": {},
   "outputs": [],
   "source": []
  },
  {
   "cell_type": "code",
   "execution_count": null,
   "id": "c1570ee2",
   "metadata": {},
   "outputs": [],
   "source": []
  },
  {
   "cell_type": "code",
   "execution_count": null,
   "id": "af910cf9",
   "metadata": {},
   "outputs": [],
   "source": []
  },
  {
   "cell_type": "code",
   "execution_count": 7,
   "id": "6e41b7eb",
   "metadata": {},
   "outputs": [],
   "source": [
    "#verifico errores que me tira\n",
    "#subdf.loc[1 , ['talla']]"
   ]
  },
  {
   "cell_type": "code",
   "execution_count": 8,
   "id": "f4508d26",
   "metadata": {},
   "outputs": [],
   "source": [
    "#subdf.shape[0]-1#esta ok"
   ]
  },
  {
   "cell_type": "code",
   "execution_count": null,
   "id": "e785811f",
   "metadata": {},
   "outputs": [],
   "source": []
  },
  {
   "cell_type": "code",
   "execution_count": 9,
   "id": "cf34ab2d",
   "metadata": {},
   "outputs": [],
   "source": [
    "#(df[df['id_individuo']==individuos[1]]).info()#es df de pandas, y los tipos de datos estan bien"
   ]
  },
  {
   "cell_type": "code",
   "execution_count": null,
   "id": "f17a35ed",
   "metadata": {},
   "outputs": [],
   "source": []
  },
  {
   "cell_type": "code",
   "execution_count": null,
   "id": "d5c32c5f",
   "metadata": {},
   "outputs": [],
   "source": []
  },
  {
   "cell_type": "code",
   "execution_count": 10,
   "id": "5ce0f41d",
   "metadata": {},
   "outputs": [],
   "source": [
    "#subdf.loc[1 , ['talla']] < subdf.loc[0 , ['talla']]#anda"
   ]
  },
  {
   "cell_type": "code",
   "execution_count": 11,
   "id": "ef6990d2",
   "metadata": {},
   "outputs": [],
   "source": [
    "#subdf.loc[1 , ['talla']].info()#aca esta le problema, es una serie..."
   ]
  },
  {
   "cell_type": "code",
   "execution_count": null,
   "id": "fc9ae903",
   "metadata": {},
   "outputs": [],
   "source": []
  },
  {
   "cell_type": "code",
   "execution_count": null,
   "id": "6437f392",
   "metadata": {},
   "outputs": [],
   "source": []
  },
  {
   "cell_type": "code",
   "execution_count": 12,
   "id": "5dc75ddb",
   "metadata": {},
   "outputs": [],
   "source": [
    "#pd.DataFrame(subdf.loc[1 , ['talla']]).info()"
   ]
  },
  {
   "cell_type": "code",
   "execution_count": null,
   "id": "98177190",
   "metadata": {},
   "outputs": [],
   "source": []
  },
  {
   "cell_type": "code",
   "execution_count": null,
   "id": "0204bd2b",
   "metadata": {},
   "outputs": [],
   "source": []
  },
  {
   "cell_type": "code",
   "execution_count": 13,
   "id": "9e2ed939",
   "metadata": {},
   "outputs": [],
   "source": [
    "#df.loc[0 , ['talla']].item()#resuelto, resuelto?"
   ]
  },
  {
   "cell_type": "code",
   "execution_count": null,
   "id": "88090c3c",
   "metadata": {},
   "outputs": [],
   "source": []
  },
  {
   "cell_type": "code",
   "execution_count": null,
   "id": "bb22d295",
   "metadata": {},
   "outputs": [],
   "source": []
  },
  {
   "cell_type": "code",
   "execution_count": null,
   "id": "870dc809",
   "metadata": {},
   "outputs": [],
   "source": []
  },
  {
   "cell_type": "code",
   "execution_count": null,
   "id": "b068b3b5",
   "metadata": {},
   "outputs": [],
   "source": []
  },
  {
   "cell_type": "code",
   "execution_count": null,
   "id": "dd08b1a3",
   "metadata": {},
   "outputs": [],
   "source": []
  },
  {
   "cell_type": "code",
   "execution_count": null,
   "id": "8781f526",
   "metadata": {},
   "outputs": [],
   "source": []
  },
  {
   "cell_type": "code",
   "execution_count": null,
   "id": "f4b99667",
   "metadata": {},
   "outputs": [],
   "source": []
  },
  {
   "cell_type": "code",
   "execution_count": 14,
   "id": "e30b37c4",
   "metadata": {},
   "outputs": [],
   "source": [
    "#queremos chequear que la talla sea igual o mayor conforme pasa el tiempo\n",
    "individuos = np.arange(1,300000)\n",
    "lista_tallas_anormales=[]\n",
    "for i in range(0 , len(individuos)):\n",
    "    subdf = df[df['id_individuo']==individuos[i]]#hasta aca devuelve un subdf con el Iesimo individuo\n",
    "    for j in range(0 , (subdf.shape[0]-1)):\n",
    "        if(subdf.iloc[j+1 , 3].item() < subdf.iloc[j , 3].item()):#aca evaluo si en la siguiente fecha la talla es <\n",
    "            lista_tallas_anormales.append((individuos[i] , subdf))#caso afirmativo, que guarde el indiv , y el df"
   ]
  },
  {
   "cell_type": "code",
   "execution_count": null,
   "id": "83a585a3",
   "metadata": {},
   "outputs": [],
   "source": []
  },
  {
   "cell_type": "code",
   "execution_count": 15,
   "id": "0db0ec0b",
   "metadata": {},
   "outputs": [
    {
     "data": {
      "text/plain": [
       "80782"
      ]
     },
     "execution_count": 15,
     "metadata": {},
     "output_type": "execute_result"
    }
   ],
   "source": [
    "len(lista_tallas_anormales)"
   ]
  },
  {
   "cell_type": "code",
   "execution_count": null,
   "id": "dc4e037f",
   "metadata": {},
   "outputs": [],
   "source": []
  },
  {
   "cell_type": "code",
   "execution_count": null,
   "id": "2d90f31c",
   "metadata": {},
   "outputs": [],
   "source": []
  },
  {
   "cell_type": "code",
   "execution_count": null,
   "id": "e35e24c7",
   "metadata": {},
   "outputs": [],
   "source": []
  },
  {
   "cell_type": "code",
   "execution_count": 16,
   "id": "22c4fc17",
   "metadata": {},
   "outputs": [
    {
     "data": {
      "text/html": [
       "<div>\n",
       "<style scoped>\n",
       "    .dataframe tbody tr th:only-of-type {\n",
       "        vertical-align: middle;\n",
       "    }\n",
       "\n",
       "    .dataframe tbody tr th {\n",
       "        vertical-align: top;\n",
       "    }\n",
       "\n",
       "    .dataframe thead th {\n",
       "        text-align: right;\n",
       "    }\n",
       "</style>\n",
       "<table border=\"1\" class=\"dataframe\">\n",
       "  <thead>\n",
       "    <tr style=\"text-align: right;\">\n",
       "      <th></th>\n",
       "      <th>id_individuo</th>\n",
       "      <th>sexo</th>\n",
       "      <th>peso</th>\n",
       "      <th>talla</th>\n",
       "      <th>edad_dias</th>\n",
       "      <th>edad_meses</th>\n",
       "      <th>masa_corporal</th>\n",
       "      <th>haz</th>\n",
       "      <th>waz</th>\n",
       "      <th>bmiz</th>\n",
       "    </tr>\n",
       "  </thead>\n",
       "  <tbody>\n",
       "    <tr>\n",
       "      <th>1159387</th>\n",
       "      <td>299999</td>\n",
       "      <td>M</td>\n",
       "      <td>10.3</td>\n",
       "      <td>70.0</td>\n",
       "      <td>232.0</td>\n",
       "      <td>7.6</td>\n",
       "      <td>21.02</td>\n",
       "      <td>0.38</td>\n",
       "      <td>2.01</td>\n",
       "      <td>2.31</td>\n",
       "    </tr>\n",
       "    <tr>\n",
       "      <th>1159388</th>\n",
       "      <td>299999</td>\n",
       "      <td>M</td>\n",
       "      <td>10.3</td>\n",
       "      <td>74.0</td>\n",
       "      <td>302.0</td>\n",
       "      <td>9.9</td>\n",
       "      <td>18.81</td>\n",
       "      <td>0.91</td>\n",
       "      <td>1.35</td>\n",
       "      <td>1.11</td>\n",
       "    </tr>\n",
       "    <tr>\n",
       "      <th>1159389</th>\n",
       "      <td>299999</td>\n",
       "      <td>M</td>\n",
       "      <td>12.9</td>\n",
       "      <td>80.0</td>\n",
       "      <td>535.0</td>\n",
       "      <td>17.5</td>\n",
       "      <td>20.16</td>\n",
       "      <td>-0.47</td>\n",
       "      <td>1.67</td>\n",
       "      <td>2.59</td>\n",
       "    </tr>\n",
       "    <tr>\n",
       "      <th>1159390</th>\n",
       "      <td>299999</td>\n",
       "      <td>M</td>\n",
       "      <td>16.7</td>\n",
       "      <td>94.0</td>\n",
       "      <td>1003.0</td>\n",
       "      <td>32.9</td>\n",
       "      <td>18.90</td>\n",
       "      <td>0.34</td>\n",
       "      <td>1.64</td>\n",
       "      <td>2.26</td>\n",
       "    </tr>\n",
       "    <tr>\n",
       "      <th>1159391</th>\n",
       "      <td>299999</td>\n",
       "      <td>M</td>\n",
       "      <td>18.2</td>\n",
       "      <td>101.0</td>\n",
       "      <td>1354.0</td>\n",
       "      <td>44.4</td>\n",
       "      <td>17.84</td>\n",
       "      <td>0.20</td>\n",
       "      <td>1.22</td>\n",
       "      <td>1.77</td>\n",
       "    </tr>\n",
       "  </tbody>\n",
       "</table>\n",
       "</div>"
      ],
      "text/plain": [
       "         id_individuo sexo  peso  talla  edad_dias  edad_meses  masa_corporal  \\\n",
       "1159387        299999    M  10.3   70.0      232.0         7.6          21.02   \n",
       "1159388        299999    M  10.3   74.0      302.0         9.9          18.81   \n",
       "1159389        299999    M  12.9   80.0      535.0        17.5          20.16   \n",
       "1159390        299999    M  16.7   94.0     1003.0        32.9          18.90   \n",
       "1159391        299999    M  18.2  101.0     1354.0        44.4          17.84   \n",
       "\n",
       "          haz   waz  bmiz  \n",
       "1159387  0.38  2.01  2.31  \n",
       "1159388  0.91  1.35  1.11  \n",
       "1159389 -0.47  1.67  2.59  \n",
       "1159390  0.34  1.64  2.26  \n",
       "1159391  0.20  1.22  1.77  "
      ]
     },
     "execution_count": 16,
     "metadata": {},
     "output_type": "execute_result"
    }
   ],
   "source": [
    "#chequiemos el problema\n",
    "df[df['id_individuo']==individuos[i]]"
   ]
  },
  {
   "cell_type": "code",
   "execution_count": 17,
   "id": "59cacb88",
   "metadata": {},
   "outputs": [
    {
     "data": {
      "text/plain": [
       "70.0"
      ]
     },
     "execution_count": 17,
     "metadata": {},
     "output_type": "execute_result"
    }
   ],
   "source": [
    "df[df['id_individuo']==individuos[i]].iloc[0 , 3]#resuelto usando iloc en lugar de loc"
   ]
  },
  {
   "cell_type": "code",
   "execution_count": 18,
   "id": "a025780b",
   "metadata": {},
   "outputs": [
    {
     "data": {
      "text/plain": [
       "3"
      ]
     },
     "execution_count": 18,
     "metadata": {},
     "output_type": "execute_result"
    }
   ],
   "source": [
    "lista_tallas_anormales[0][0]"
   ]
  },
  {
   "cell_type": "code",
   "execution_count": null,
   "id": "df6f0316",
   "metadata": {},
   "outputs": [],
   "source": []
  },
  {
   "cell_type": "code",
   "execution_count": null,
   "id": "cc47013b",
   "metadata": {},
   "outputs": [],
   "source": []
  },
  {
   "cell_type": "code",
   "execution_count": 19,
   "id": "e45dd180",
   "metadata": {},
   "outputs": [],
   "source": [
    "#ahora sigo..."
   ]
  },
  {
   "cell_type": "code",
   "execution_count": 20,
   "id": "95eb151a",
   "metadata": {},
   "outputs": [
    {
     "data": {
      "text/plain": [
       "80782"
      ]
     },
     "execution_count": 20,
     "metadata": {},
     "output_type": "execute_result"
    }
   ],
   "source": [
    "#hasta ahora logre hacer el ciclo anidado que recorre todo subdf por idnicviduo, y evalua si alguna talla en \n",
    "#timpo t+1 es < a talla en tiempo t, y lo guarda en una lsita, con una tupla de (individuo,df)\n",
    "#voy a usar la lsita con las tuplas, y voy a sacar al primer elemento , que es el del individuo\n",
    "# y evaluar cuantos individuos compete, usando conjuntos\n",
    "lista_ind_anormales=[]\n",
    "for k in range(0,len(lista_tallas_anormales)):\n",
    "    lista_ind_anormales.append(lista_tallas_anormales[k][0])\n",
    "len(lista_ind_anormales)"
   ]
  },
  {
   "cell_type": "code",
   "execution_count": 21,
   "id": "8a6a3527",
   "metadata": {},
   "outputs": [
    {
     "data": {
      "text/plain": [
       "67383"
      ]
     },
     "execution_count": 21,
     "metadata": {},
     "output_type": "execute_result"
    }
   ],
   "source": [
    "#ahora hago el conjunto, para evaluar cuantos indiciduos osn efectivamente\n",
    "conjunto_ind_anormales = set(lista_ind_anormales)\n",
    "len(conjunto_ind_anormales)"
   ]
  },
  {
   "cell_type": "code",
   "execution_count": 22,
   "id": "0261e301",
   "metadata": {},
   "outputs": [
    {
     "data": {
      "text/plain": [
       "67383"
      ]
     },
     "execution_count": 22,
     "metadata": {},
     "output_type": "execute_result"
    }
   ],
   "source": [
    "anormales_listados = list(conjunto_ind_anormales)\n",
    "len(conjunto_ind_anormales)"
   ]
  },
  {
   "cell_type": "code",
   "execution_count": 23,
   "id": "a15552bf",
   "metadata": {},
   "outputs": [
    {
     "data": {
      "text/plain": [
       "67383"
      ]
     },
     "execution_count": 23,
     "metadata": {},
     "output_type": "execute_result"
    }
   ],
   "source": [
    "#ahora ya tengo a anormales_listados como lista de inidividuos unicos cuya talla es menor en al menos un t+1<t\n",
    "#chequiemos algunos casos, como para ver en que % cambia\n",
    "#armo lista de df con los indiv que orovienen de anormales_listados\n",
    "lista_df_anormales_individuales = []\n",
    "\n",
    "for ind in range(0,len(anormales_listados)):\n",
    "    dfsub = df[df['id_individuo']==anormales_listados[ind]]\n",
    "    lista_df_anormales_individuales.append(dfsub)\n",
    "len(lista_df_anormales_individuales)"
   ]
  },
  {
   "cell_type": "code",
   "execution_count": 24,
   "id": "6a7992d8",
   "metadata": {},
   "outputs": [
    {
     "data": {
      "text/html": [
       "<div>\n",
       "<style scoped>\n",
       "    .dataframe tbody tr th:only-of-type {\n",
       "        vertical-align: middle;\n",
       "    }\n",
       "\n",
       "    .dataframe tbody tr th {\n",
       "        vertical-align: top;\n",
       "    }\n",
       "\n",
       "    .dataframe thead th {\n",
       "        text-align: right;\n",
       "    }\n",
       "</style>\n",
       "<table border=\"1\" class=\"dataframe\">\n",
       "  <thead>\n",
       "    <tr style=\"text-align: right;\">\n",
       "      <th></th>\n",
       "      <th>id_individuo</th>\n",
       "      <th>sexo</th>\n",
       "      <th>peso</th>\n",
       "      <th>talla</th>\n",
       "      <th>edad_dias</th>\n",
       "      <th>edad_meses</th>\n",
       "      <th>masa_corporal</th>\n",
       "      <th>haz</th>\n",
       "      <th>waz</th>\n",
       "      <th>bmiz</th>\n",
       "    </tr>\n",
       "  </thead>\n",
       "  <tbody>\n",
       "    <tr>\n",
       "      <th>506450</th>\n",
       "      <td>131072</td>\n",
       "      <td>F</td>\n",
       "      <td>23.8</td>\n",
       "      <td>129.0</td>\n",
       "      <td>2641.0</td>\n",
       "      <td>86.6</td>\n",
       "      <td>14.30</td>\n",
       "      <td>1.07</td>\n",
       "      <td>0.12</td>\n",
       "      <td>-0.85</td>\n",
       "    </tr>\n",
       "    <tr>\n",
       "      <th>506451</th>\n",
       "      <td>131072</td>\n",
       "      <td>F</td>\n",
       "      <td>26.1</td>\n",
       "      <td>131.0</td>\n",
       "      <td>3062.0</td>\n",
       "      <td>100.4</td>\n",
       "      <td>15.21</td>\n",
       "      <td>0.22</td>\n",
       "      <td>-0.16</td>\n",
       "      <td>-0.43</td>\n",
       "    </tr>\n",
       "    <tr>\n",
       "      <th>506452</th>\n",
       "      <td>131072</td>\n",
       "      <td>F</td>\n",
       "      <td>25.6</td>\n",
       "      <td>129.0</td>\n",
       "      <td>3174.0</td>\n",
       "      <td>104.1</td>\n",
       "      <td>15.38</td>\n",
       "      <td>-0.40</td>\n",
       "      <td>-0.51</td>\n",
       "      <td>-0.41</td>\n",
       "    </tr>\n",
       "  </tbody>\n",
       "</table>\n",
       "</div>"
      ],
      "text/plain": [
       "        id_individuo sexo  peso  talla  edad_dias  edad_meses  masa_corporal  \\\n",
       "506450        131072    F  23.8  129.0     2641.0        86.6          14.30   \n",
       "506451        131072    F  26.1  131.0     3062.0       100.4          15.21   \n",
       "506452        131072    F  25.6  129.0     3174.0       104.1          15.38   \n",
       "\n",
       "         haz   waz  bmiz  \n",
       "506450  1.07  0.12 -0.85  \n",
       "506451  0.22 -0.16 -0.43  \n",
       "506452 -0.40 -0.51 -0.41  "
      ]
     },
     "execution_count": 24,
     "metadata": {},
     "output_type": "execute_result"
    }
   ],
   "source": [
    "lista_df_anormales_individuales[0]"
   ]
  },
  {
   "cell_type": "code",
   "execution_count": 25,
   "id": "8c2c5fc7",
   "metadata": {},
   "outputs": [
    {
     "data": {
      "text/html": [
       "<div>\n",
       "<style scoped>\n",
       "    .dataframe tbody tr th:only-of-type {\n",
       "        vertical-align: middle;\n",
       "    }\n",
       "\n",
       "    .dataframe tbody tr th {\n",
       "        vertical-align: top;\n",
       "    }\n",
       "\n",
       "    .dataframe thead th {\n",
       "        text-align: right;\n",
       "    }\n",
       "</style>\n",
       "<table border=\"1\" class=\"dataframe\">\n",
       "  <thead>\n",
       "    <tr style=\"text-align: right;\">\n",
       "      <th></th>\n",
       "      <th>id_individuo</th>\n",
       "      <th>sexo</th>\n",
       "      <th>peso</th>\n",
       "      <th>talla</th>\n",
       "      <th>edad_dias</th>\n",
       "      <th>edad_meses</th>\n",
       "      <th>masa_corporal</th>\n",
       "      <th>haz</th>\n",
       "      <th>waz</th>\n",
       "      <th>bmiz</th>\n",
       "    </tr>\n",
       "  </thead>\n",
       "  <tbody>\n",
       "    <tr>\n",
       "      <th>597</th>\n",
       "      <td>159</td>\n",
       "      <td>M</td>\n",
       "      <td>9.3</td>\n",
       "      <td>73.0</td>\n",
       "      <td>506.0</td>\n",
       "      <td>16.6</td>\n",
       "      <td>17.45</td>\n",
       "      <td>-2.79</td>\n",
       "      <td>-1.12</td>\n",
       "      <td>0.82</td>\n",
       "    </tr>\n",
       "    <tr>\n",
       "      <th>598</th>\n",
       "      <td>159</td>\n",
       "      <td>M</td>\n",
       "      <td>8.8</td>\n",
       "      <td>73.0</td>\n",
       "      <td>620.0</td>\n",
       "      <td>20.3</td>\n",
       "      <td>16.51</td>\n",
       "      <td>-3.98</td>\n",
       "      <td>-2.26</td>\n",
       "      <td>0.42</td>\n",
       "    </tr>\n",
       "    <tr>\n",
       "      <th>599</th>\n",
       "      <td>159</td>\n",
       "      <td>M</td>\n",
       "      <td>12.1</td>\n",
       "      <td>85.0</td>\n",
       "      <td>910.0</td>\n",
       "      <td>29.8</td>\n",
       "      <td>16.75</td>\n",
       "      <td>-1.55</td>\n",
       "      <td>-0.97</td>\n",
       "      <td>0.71</td>\n",
       "    </tr>\n",
       "    <tr>\n",
       "      <th>600</th>\n",
       "      <td>159</td>\n",
       "      <td>M</td>\n",
       "      <td>11.8</td>\n",
       "      <td>84.0</td>\n",
       "      <td>1067.0</td>\n",
       "      <td>35.0</td>\n",
       "      <td>16.72</td>\n",
       "      <td>-2.99</td>\n",
       "      <td>-1.80</td>\n",
       "      <td>0.84</td>\n",
       "    </tr>\n",
       "    <tr>\n",
       "      <th>601</th>\n",
       "      <td>159</td>\n",
       "      <td>M</td>\n",
       "      <td>14.7</td>\n",
       "      <td>93.0</td>\n",
       "      <td>1211.0</td>\n",
       "      <td>39.7</td>\n",
       "      <td>17.00</td>\n",
       "      <td>-1.08</td>\n",
       "      <td>-0.09</td>\n",
       "      <td>1.13</td>\n",
       "    </tr>\n",
       "    <tr>\n",
       "      <th>602</th>\n",
       "      <td>159</td>\n",
       "      <td>M</td>\n",
       "      <td>16.3</td>\n",
       "      <td>101.0</td>\n",
       "      <td>1397.0</td>\n",
       "      <td>45.8</td>\n",
       "      <td>15.98</td>\n",
       "      <td>0.05</td>\n",
       "      <td>0.26</td>\n",
       "      <td>0.46</td>\n",
       "    </tr>\n",
       "    <tr>\n",
       "      <th>603</th>\n",
       "      <td>159</td>\n",
       "      <td>M</td>\n",
       "      <td>15.7</td>\n",
       "      <td>107.0</td>\n",
       "      <td>1617.0</td>\n",
       "      <td>53.0</td>\n",
       "      <td>13.71</td>\n",
       "      <td>0.38</td>\n",
       "      <td>-0.77</td>\n",
       "      <td>-1.31</td>\n",
       "    </tr>\n",
       "    <tr>\n",
       "      <th>604</th>\n",
       "      <td>159</td>\n",
       "      <td>M</td>\n",
       "      <td>15.7</td>\n",
       "      <td>107.0</td>\n",
       "      <td>1750.0</td>\n",
       "      <td>57.4</td>\n",
       "      <td>13.71</td>\n",
       "      <td>-0.12</td>\n",
       "      <td>-1.11</td>\n",
       "      <td>-1.26</td>\n",
       "    </tr>\n",
       "    <tr>\n",
       "      <th>605</th>\n",
       "      <td>159</td>\n",
       "      <td>M</td>\n",
       "      <td>18.6</td>\n",
       "      <td>108.0</td>\n",
       "      <td>1914.0</td>\n",
       "      <td>62.8</td>\n",
       "      <td>15.95</td>\n",
       "      <td>-0.48</td>\n",
       "      <td>-0.11</td>\n",
       "      <td>0.43</td>\n",
       "    </tr>\n",
       "  </tbody>\n",
       "</table>\n",
       "</div>"
      ],
      "text/plain": [
       "     id_individuo sexo  peso  talla  edad_dias  edad_meses  masa_corporal  \\\n",
       "597           159    M   9.3   73.0      506.0        16.6          17.45   \n",
       "598           159    M   8.8   73.0      620.0        20.3          16.51   \n",
       "599           159    M  12.1   85.0      910.0        29.8          16.75   \n",
       "600           159    M  11.8   84.0     1067.0        35.0          16.72   \n",
       "601           159    M  14.7   93.0     1211.0        39.7          17.00   \n",
       "602           159    M  16.3  101.0     1397.0        45.8          15.98   \n",
       "603           159    M  15.7  107.0     1617.0        53.0          13.71   \n",
       "604           159    M  15.7  107.0     1750.0        57.4          13.71   \n",
       "605           159    M  18.6  108.0     1914.0        62.8          15.95   \n",
       "\n",
       "      haz   waz  bmiz  \n",
       "597 -2.79 -1.12  0.82  \n",
       "598 -3.98 -2.26  0.42  \n",
       "599 -1.55 -0.97  0.71  \n",
       "600 -2.99 -1.80  0.84  \n",
       "601 -1.08 -0.09  1.13  \n",
       "602  0.05  0.26  0.46  \n",
       "603  0.38 -0.77 -1.31  \n",
       "604 -0.12 -1.11 -1.26  \n",
       "605 -0.48 -0.11  0.43  "
      ]
     },
     "execution_count": 25,
     "metadata": {},
     "output_type": "execute_result"
    }
   ],
   "source": [
    "lista_df_anormales_individuales[100]"
   ]
  },
  {
   "cell_type": "code",
   "execution_count": 26,
   "id": "6777ef02",
   "metadata": {},
   "outputs": [
    {
     "data": {
      "text/html": [
       "<div>\n",
       "<style scoped>\n",
       "    .dataframe tbody tr th:only-of-type {\n",
       "        vertical-align: middle;\n",
       "    }\n",
       "\n",
       "    .dataframe tbody tr th {\n",
       "        vertical-align: top;\n",
       "    }\n",
       "\n",
       "    .dataframe thead th {\n",
       "        text-align: right;\n",
       "    }\n",
       "</style>\n",
       "<table border=\"1\" class=\"dataframe\">\n",
       "  <thead>\n",
       "    <tr style=\"text-align: right;\">\n",
       "      <th></th>\n",
       "      <th>id_individuo</th>\n",
       "      <th>sexo</th>\n",
       "      <th>peso</th>\n",
       "      <th>talla</th>\n",
       "      <th>edad_dias</th>\n",
       "      <th>edad_meses</th>\n",
       "      <th>masa_corporal</th>\n",
       "      <th>haz</th>\n",
       "      <th>waz</th>\n",
       "      <th>bmiz</th>\n",
       "    </tr>\n",
       "  </thead>\n",
       "  <tbody>\n",
       "    <tr>\n",
       "      <th>1018793</th>\n",
       "      <td>263646</td>\n",
       "      <td>F</td>\n",
       "      <td>13.4</td>\n",
       "      <td>91.0</td>\n",
       "      <td>884.0</td>\n",
       "      <td>29.0</td>\n",
       "      <td>16.18</td>\n",
       "      <td>0.38</td>\n",
       "      <td>0.34</td>\n",
       "      <td>0.46</td>\n",
       "    </tr>\n",
       "    <tr>\n",
       "      <th>1018794</th>\n",
       "      <td>263646</td>\n",
       "      <td>F</td>\n",
       "      <td>13.4</td>\n",
       "      <td>94.0</td>\n",
       "      <td>1150.0</td>\n",
       "      <td>37.7</td>\n",
       "      <td>15.17</td>\n",
       "      <td>-0.20</td>\n",
       "      <td>-0.43</td>\n",
       "      <td>-0.16</td>\n",
       "    </tr>\n",
       "    <tr>\n",
       "      <th>1018795</th>\n",
       "      <td>263646</td>\n",
       "      <td>F</td>\n",
       "      <td>18.0</td>\n",
       "      <td>108.0</td>\n",
       "      <td>1729.0</td>\n",
       "      <td>56.7</td>\n",
       "      <td>15.43</td>\n",
       "      <td>0.51</td>\n",
       "      <td>0.28</td>\n",
       "      <td>0.12</td>\n",
       "    </tr>\n",
       "    <tr>\n",
       "      <th>1018796</th>\n",
       "      <td>263646</td>\n",
       "      <td>F</td>\n",
       "      <td>19.8</td>\n",
       "      <td>117.0</td>\n",
       "      <td>1998.0</td>\n",
       "      <td>65.5</td>\n",
       "      <td>14.46</td>\n",
       "      <td>1.20</td>\n",
       "      <td>0.29</td>\n",
       "      <td>-0.58</td>\n",
       "    </tr>\n",
       "    <tr>\n",
       "      <th>1018797</th>\n",
       "      <td>263646</td>\n",
       "      <td>F</td>\n",
       "      <td>20.6</td>\n",
       "      <td>119.0</td>\n",
       "      <td>2137.0</td>\n",
       "      <td>70.1</td>\n",
       "      <td>14.55</td>\n",
       "      <td>0.98</td>\n",
       "      <td>0.22</td>\n",
       "      <td>-0.50</td>\n",
       "    </tr>\n",
       "    <tr>\n",
       "      <th>1018798</th>\n",
       "      <td>263646</td>\n",
       "      <td>F</td>\n",
       "      <td>22.5</td>\n",
       "      <td>124.0</td>\n",
       "      <td>2212.0</td>\n",
       "      <td>72.5</td>\n",
       "      <td>14.63</td>\n",
       "      <td>1.66</td>\n",
       "      <td>0.63</td>\n",
       "      <td>-0.45</td>\n",
       "    </tr>\n",
       "    <tr>\n",
       "      <th>1018799</th>\n",
       "      <td>263646</td>\n",
       "      <td>F</td>\n",
       "      <td>27.8</td>\n",
       "      <td>127.0</td>\n",
       "      <td>2549.0</td>\n",
       "      <td>83.6</td>\n",
       "      <td>17.24</td>\n",
       "      <td>1.02</td>\n",
       "      <td>1.14</td>\n",
       "      <td>0.91</td>\n",
       "    </tr>\n",
       "    <tr>\n",
       "      <th>1018800</th>\n",
       "      <td>263646</td>\n",
       "      <td>F</td>\n",
       "      <td>24.7</td>\n",
       "      <td>125.0</td>\n",
       "      <td>2649.0</td>\n",
       "      <td>86.9</td>\n",
       "      <td>15.81</td>\n",
       "      <td>0.38</td>\n",
       "      <td>0.34</td>\n",
       "      <td>0.18</td>\n",
       "    </tr>\n",
       "    <tr>\n",
       "      <th>1018801</th>\n",
       "      <td>263646</td>\n",
       "      <td>F</td>\n",
       "      <td>35.0</td>\n",
       "      <td>136.0</td>\n",
       "      <td>3444.0</td>\n",
       "      <td>112.9</td>\n",
       "      <td>18.92</td>\n",
       "      <td>0.19</td>\n",
       "      <td>0.70</td>\n",
       "      <td>0.90</td>\n",
       "    </tr>\n",
       "  </tbody>\n",
       "</table>\n",
       "</div>"
      ],
      "text/plain": [
       "         id_individuo sexo  peso  talla  edad_dias  edad_meses  masa_corporal  \\\n",
       "1018793        263646    F  13.4   91.0      884.0        29.0          16.18   \n",
       "1018794        263646    F  13.4   94.0     1150.0        37.7          15.17   \n",
       "1018795        263646    F  18.0  108.0     1729.0        56.7          15.43   \n",
       "1018796        263646    F  19.8  117.0     1998.0        65.5          14.46   \n",
       "1018797        263646    F  20.6  119.0     2137.0        70.1          14.55   \n",
       "1018798        263646    F  22.5  124.0     2212.0        72.5          14.63   \n",
       "1018799        263646    F  27.8  127.0     2549.0        83.6          17.24   \n",
       "1018800        263646    F  24.7  125.0     2649.0        86.9          15.81   \n",
       "1018801        263646    F  35.0  136.0     3444.0       112.9          18.92   \n",
       "\n",
       "          haz   waz  bmiz  \n",
       "1018793  0.38  0.34  0.46  \n",
       "1018794 -0.20 -0.43 -0.16  \n",
       "1018795  0.51  0.28  0.12  \n",
       "1018796  1.20  0.29 -0.58  \n",
       "1018797  0.98  0.22 -0.50  \n",
       "1018798  1.66  0.63 -0.45  \n",
       "1018799  1.02  1.14  0.91  \n",
       "1018800  0.38  0.34  0.18  \n",
       "1018801  0.19  0.70  0.90  "
      ]
     },
     "execution_count": 26,
     "metadata": {},
     "output_type": "execute_result"
    }
   ],
   "source": [
    "lista_df_anormales_individuales[1000]"
   ]
  },
  {
   "cell_type": "code",
   "execution_count": 27,
   "id": "1365089f",
   "metadata": {},
   "outputs": [
    {
     "data": {
      "text/html": [
       "<div>\n",
       "<style scoped>\n",
       "    .dataframe tbody tr th:only-of-type {\n",
       "        vertical-align: middle;\n",
       "    }\n",
       "\n",
       "    .dataframe tbody tr th {\n",
       "        vertical-align: top;\n",
       "    }\n",
       "\n",
       "    .dataframe thead th {\n",
       "        text-align: right;\n",
       "    }\n",
       "</style>\n",
       "<table border=\"1\" class=\"dataframe\">\n",
       "  <thead>\n",
       "    <tr style=\"text-align: right;\">\n",
       "      <th></th>\n",
       "      <th>id_individuo</th>\n",
       "      <th>sexo</th>\n",
       "      <th>peso</th>\n",
       "      <th>talla</th>\n",
       "      <th>edad_dias</th>\n",
       "      <th>edad_meses</th>\n",
       "      <th>masa_corporal</th>\n",
       "      <th>haz</th>\n",
       "      <th>waz</th>\n",
       "      <th>bmiz</th>\n",
       "    </tr>\n",
       "  </thead>\n",
       "  <tbody>\n",
       "    <tr>\n",
       "      <th>57438</th>\n",
       "      <td>14993</td>\n",
       "      <td>F</td>\n",
       "      <td>11.2</td>\n",
       "      <td>76.0</td>\n",
       "      <td>444.0</td>\n",
       "      <td>14.6</td>\n",
       "      <td>19.39</td>\n",
       "      <td>-0.14</td>\n",
       "      <td>1.41</td>\n",
       "      <td>2.04</td>\n",
       "    </tr>\n",
       "    <tr>\n",
       "      <th>57439</th>\n",
       "      <td>14993</td>\n",
       "      <td>F</td>\n",
       "      <td>11.9</td>\n",
       "      <td>80.0</td>\n",
       "      <td>554.0</td>\n",
       "      <td>18.2</td>\n",
       "      <td>18.59</td>\n",
       "      <td>-0.24</td>\n",
       "      <td>1.20</td>\n",
       "      <td>1.86</td>\n",
       "    </tr>\n",
       "    <tr>\n",
       "      <th>57440</th>\n",
       "      <td>14993</td>\n",
       "      <td>F</td>\n",
       "      <td>12.2</td>\n",
       "      <td>81.0</td>\n",
       "      <td>626.0</td>\n",
       "      <td>20.5</td>\n",
       "      <td>18.59</td>\n",
       "      <td>-0.57</td>\n",
       "      <td>1.08</td>\n",
       "      <td>1.95</td>\n",
       "    </tr>\n",
       "    <tr>\n",
       "      <th>57441</th>\n",
       "      <td>14993</td>\n",
       "      <td>F</td>\n",
       "      <td>12.7</td>\n",
       "      <td>86.0</td>\n",
       "      <td>680.0</td>\n",
       "      <td>22.3</td>\n",
       "      <td>17.17</td>\n",
       "      <td>0.45</td>\n",
       "      <td>1.10</td>\n",
       "      <td>1.17</td>\n",
       "    </tr>\n",
       "    <tr>\n",
       "      <th>57442</th>\n",
       "      <td>14993</td>\n",
       "      <td>F</td>\n",
       "      <td>13.7</td>\n",
       "      <td>94.0</td>\n",
       "      <td>801.0</td>\n",
       "      <td>26.3</td>\n",
       "      <td>15.50</td>\n",
       "      <td>1.90</td>\n",
       "      <td>0.85</td>\n",
       "      <td>-0.10</td>\n",
       "    </tr>\n",
       "    <tr>\n",
       "      <th>57443</th>\n",
       "      <td>14993</td>\n",
       "      <td>F</td>\n",
       "      <td>14.2</td>\n",
       "      <td>92.0</td>\n",
       "      <td>928.0</td>\n",
       "      <td>30.4</td>\n",
       "      <td>16.78</td>\n",
       "      <td>0.44</td>\n",
       "      <td>0.72</td>\n",
       "      <td>0.90</td>\n",
       "    </tr>\n",
       "    <tr>\n",
       "      <th>57444</th>\n",
       "      <td>14993</td>\n",
       "      <td>F</td>\n",
       "      <td>14.6</td>\n",
       "      <td>95.0</td>\n",
       "      <td>990.0</td>\n",
       "      <td>32.5</td>\n",
       "      <td>16.18</td>\n",
       "      <td>0.84</td>\n",
       "      <td>0.75</td>\n",
       "      <td>0.52</td>\n",
       "    </tr>\n",
       "    <tr>\n",
       "      <th>57445</th>\n",
       "      <td>14993</td>\n",
       "      <td>F</td>\n",
       "      <td>15.9</td>\n",
       "      <td>101.0</td>\n",
       "      <td>1115.0</td>\n",
       "      <td>36.6</td>\n",
       "      <td>15.59</td>\n",
       "      <td>1.69</td>\n",
       "      <td>1.03</td>\n",
       "      <td>0.15</td>\n",
       "    </tr>\n",
       "    <tr>\n",
       "      <th>57446</th>\n",
       "      <td>14993</td>\n",
       "      <td>F</td>\n",
       "      <td>15.7</td>\n",
       "      <td>101.0</td>\n",
       "      <td>1150.0</td>\n",
       "      <td>37.7</td>\n",
       "      <td>15.39</td>\n",
       "      <td>1.53</td>\n",
       "      <td>0.85</td>\n",
       "      <td>0.01</td>\n",
       "    </tr>\n",
       "    <tr>\n",
       "      <th>57447</th>\n",
       "      <td>14993</td>\n",
       "      <td>F</td>\n",
       "      <td>16.0</td>\n",
       "      <td>101.0</td>\n",
       "      <td>1235.0</td>\n",
       "      <td>40.5</td>\n",
       "      <td>15.68</td>\n",
       "      <td>1.08</td>\n",
       "      <td>0.72</td>\n",
       "      <td>0.25</td>\n",
       "    </tr>\n",
       "    <tr>\n",
       "      <th>57448</th>\n",
       "      <td>14993</td>\n",
       "      <td>F</td>\n",
       "      <td>16.1</td>\n",
       "      <td>101.0</td>\n",
       "      <td>1402.0</td>\n",
       "      <td>46.0</td>\n",
       "      <td>15.78</td>\n",
       "      <td>0.25</td>\n",
       "      <td>0.27</td>\n",
       "      <td>0.36</td>\n",
       "    </tr>\n",
       "    <tr>\n",
       "      <th>57449</th>\n",
       "      <td>14993</td>\n",
       "      <td>F</td>\n",
       "      <td>16.7</td>\n",
       "      <td>103.0</td>\n",
       "      <td>1541.0</td>\n",
       "      <td>50.5</td>\n",
       "      <td>15.74</td>\n",
       "      <td>0.19</td>\n",
       "      <td>0.21</td>\n",
       "      <td>0.34</td>\n",
       "    </tr>\n",
       "    <tr>\n",
       "      <th>57450</th>\n",
       "      <td>14993</td>\n",
       "      <td>F</td>\n",
       "      <td>16.6</td>\n",
       "      <td>102.0</td>\n",
       "      <td>1599.0</td>\n",
       "      <td>52.4</td>\n",
       "      <td>15.96</td>\n",
       "      <td>-0.29</td>\n",
       "      <td>0.01</td>\n",
       "      <td>0.48</td>\n",
       "    </tr>\n",
       "  </tbody>\n",
       "</table>\n",
       "</div>"
      ],
      "text/plain": [
       "       id_individuo sexo  peso  talla  edad_dias  edad_meses  masa_corporal  \\\n",
       "57438         14993    F  11.2   76.0      444.0        14.6          19.39   \n",
       "57439         14993    F  11.9   80.0      554.0        18.2          18.59   \n",
       "57440         14993    F  12.2   81.0      626.0        20.5          18.59   \n",
       "57441         14993    F  12.7   86.0      680.0        22.3          17.17   \n",
       "57442         14993    F  13.7   94.0      801.0        26.3          15.50   \n",
       "57443         14993    F  14.2   92.0      928.0        30.4          16.78   \n",
       "57444         14993    F  14.6   95.0      990.0        32.5          16.18   \n",
       "57445         14993    F  15.9  101.0     1115.0        36.6          15.59   \n",
       "57446         14993    F  15.7  101.0     1150.0        37.7          15.39   \n",
       "57447         14993    F  16.0  101.0     1235.0        40.5          15.68   \n",
       "57448         14993    F  16.1  101.0     1402.0        46.0          15.78   \n",
       "57449         14993    F  16.7  103.0     1541.0        50.5          15.74   \n",
       "57450         14993    F  16.6  102.0     1599.0        52.4          15.96   \n",
       "\n",
       "        haz   waz  bmiz  \n",
       "57438 -0.14  1.41  2.04  \n",
       "57439 -0.24  1.20  1.86  \n",
       "57440 -0.57  1.08  1.95  \n",
       "57441  0.45  1.10  1.17  \n",
       "57442  1.90  0.85 -0.10  \n",
       "57443  0.44  0.72  0.90  \n",
       "57444  0.84  0.75  0.52  \n",
       "57445  1.69  1.03  0.15  \n",
       "57446  1.53  0.85  0.01  \n",
       "57447  1.08  0.72  0.25  \n",
       "57448  0.25  0.27  0.36  \n",
       "57449  0.19  0.21  0.34  \n",
       "57450 -0.29  0.01  0.48  "
      ]
     },
     "execution_count": 27,
     "metadata": {},
     "output_type": "execute_result"
    }
   ],
   "source": [
    "#de una inspecci'on ocular, se ve que la diferecnia es muy pequenia. podr'iamos probar con una tolerancia de \n",
    "#hasta un 10%. pero tal vez vale la pena realizar la descripcion estadistica primero\n",
    "lista_df_anormales_individuales[10000]"
   ]
  },
  {
   "cell_type": "code",
   "execution_count": null,
   "id": "d408db5d",
   "metadata": {},
   "outputs": [],
   "source": []
  },
  {
   "cell_type": "code",
   "execution_count": 28,
   "id": "4f5347d8",
   "metadata": {},
   "outputs": [],
   "source": [
    "#voy a usar df0[df0['id_individuo'].isin(lista_id)]  usando una lsita dei individuos con \n",
    "#anormalidades(anormales_listados) ya que quiero armar un df, con esos individuos para luego analizar los deltas\n",
    "#temporales, y de talla, y ver los histogramas. por rnago etareo de 0-6 meses , de 6 meses a 2 anios y de 2 a 5\n",
    "# podria hacerse lo mismo para los NO anormales, y evaluar\n",
    "# o eliminando el dato anormal\n",
    "#se puede agregar col 'bool_talla' , 'bool_peso' y que tengan False en esos casos\n",
    "#df[df['id_individuo'].isin(anormales_listados)]"
   ]
  },
  {
   "cell_type": "code",
   "execution_count": 29,
   "id": "f4ac6b36",
   "metadata": {},
   "outputs": [
    {
     "name": "stdout",
     "output_type": "stream",
     "text": [
      "dim plau:  (1122845, 10) dim no_plau:  (36552, 10)\n"
     ]
    }
   ],
   "source": [
    "#primero dejo lso plausibles(copiado de Daiana)\n",
    "df_plau = df[((df['haz']<=6) & (df['haz']>=(-6))) &\n",
    "                      ((df['waz']<=5) & (df['waz']>=(-6))) &\n",
    "                      ((df['bmiz']<=5) & (df['bmiz']>=(-5)))] # esto pide que los tres estén en rango\n",
    "\n",
    "df_no_plau = df[((df['haz']>6) | (df['haz']<(-6))) |\n",
    "                      ((df['waz']>5) | (df['waz']<(-6))) |\n",
    "                      ((df['bmiz']>5) | (df['bmiz']<(-5)))] # esto me devuelve los que t\n",
    "\n",
    "print('dim plau: ' , df_plau.shape , 'dim no_plau: ' , df_no_plau.shape)"
   ]
  },
  {
   "cell_type": "code",
   "execution_count": 30,
   "id": "b998f7b7",
   "metadata": {},
   "outputs": [],
   "source": [
    "#queremos chequear que la talla sea igual o mayor conforme pasa el tiempo\n",
    "#individuos = np.arange(1,300000)\n",
    "lista_tallas_anormales=[]\n",
    "for i in range(0 , len(individuos)):\n",
    "    subdf = df_plau[df_plau['id_individuo']==individuos[i]]#hasta aca devuelve un subdf con el Iesimo individuo\n",
    "    for j in range(0 , (subdf.shape[0]-1)):\n",
    "        if(subdf.iloc[j+1 , 3].item() < subdf.iloc[j , 3].item()):#aca evaluo si en la siguiente fecha la talla es <\n",
    "            lista_tallas_anormales.append((individuos[i] , subdf))#caso afirmativo, que guarde el indiv , y el df"
   ]
  },
  {
   "cell_type": "code",
   "execution_count": 31,
   "id": "0974b10d",
   "metadata": {},
   "outputs": [
    {
     "name": "stdout",
     "output_type": "stream",
     "text": [
      "long lista ind anormales:  64900\n",
      "conjunto ind anormales:  55715\n",
      "longitud lista de anormales unicos:  55715\n"
     ]
    }
   ],
   "source": [
    "#hasta ahora logre hacer el ciclo anidado que recorre todo subdf por idnicviduo, y evalua si alguna talla en \n",
    "#timpo t+1 es < a talla en tiempo t, y lo guarda en una lsita, con una tupla de (individuo,df)\n",
    "#voy a usar la lsita con las tuplas, y voy a sacar al primer elemento , que es el del individuo\n",
    "# y evaluar cuantos individuos compete, usando conjuntos\n",
    "lista_ind_anormales=[]\n",
    "for k in range(0,len(lista_tallas_anormales)):\n",
    "    lista_ind_anormales.append(lista_tallas_anormales[k][0])\n",
    "print('long lista ind anormales: ' , len(lista_ind_anormales))\n",
    "#ahora hago el conjunto, para evaluar cuantos indiciduos osn efectivamente\n",
    "conjunto_ind_anormales = set(lista_ind_anormales)\n",
    "print('conjunto ind anormales: ' , len(conjunto_ind_anormales))\n",
    "anormales_listados = list(conjunto_ind_anormales)\n",
    "print('longitud lista de anormales unicos: ' , len(anormales_listados))"
   ]
  },
  {
   "cell_type": "code",
   "execution_count": null,
   "id": "2a769b5a",
   "metadata": {},
   "outputs": [],
   "source": []
  },
  {
   "cell_type": "code",
   "execution_count": 32,
   "id": "8c2735ee",
   "metadata": {},
   "outputs": [
    {
     "name": "stdout",
     "output_type": "stream",
     "text": [
      "dim df_plau_anormales_talla:  (283763, 10)\n"
     ]
    }
   ],
   "source": [
    "#dentro de  df_plau miremos...\n",
    "df_plau_anormales_talla = df_plau[df_plau['id_individuo'].isin(anormales_listados)]\n",
    "print('dim df_plau_anormales_talla: ' , df_plau_anormales_talla.shape)"
   ]
  },
  {
   "cell_type": "code",
   "execution_count": 33,
   "id": "4887e9b3",
   "metadata": {},
   "outputs": [
    {
     "name": "stdout",
     "output_type": "stream",
     "text": [
      "long tallas:  64900 long meses:  64900\n"
     ]
    }
   ],
   "source": [
    "#busco los delta de tiempo en meses , y de talla\n",
    "lista_delta_tallas = []\n",
    "lista_delta_meses = []\n",
    "for i in range(0 , len(anormales_listados)):\n",
    "    subdf = df_plau_anormales_talla[df_plau_anormales_talla['id_individuo']==anormales_listados[i]]#hasta aca devuelve un subdf con el Iesimo individuo\n",
    "    for j in range(0 , (subdf.shape[0]-1)):\n",
    "        if(subdf.iloc[j+1 , 3].item() < subdf.iloc[j , 3].item()):#aca evaluo si en la siguiente fecha la talla es <\n",
    "            lista_delta_tallas.append(subdf.iloc[j , 3].item() - subdf.iloc[j+1 , 3].item())#caso afirmativo, que guarde el indiv , y el df\n",
    "            lista_delta_meses.append(subdf.iloc[j+1 , 5].item() - subdf.iloc[j , 5].item())\n",
    "print('long tallas: ' , len(lista_delta_tallas) , 'long meses: ' , len(lista_delta_meses))"
   ]
  },
  {
   "cell_type": "code",
   "execution_count": null,
   "id": "525e487d",
   "metadata": {},
   "outputs": [],
   "source": []
  },
  {
   "cell_type": "code",
   "execution_count": null,
   "id": "e34d1425",
   "metadata": {},
   "outputs": [],
   "source": []
  },
  {
   "cell_type": "code",
   "execution_count": null,
   "id": "f2550895",
   "metadata": {},
   "outputs": [],
   "source": []
  },
  {
   "cell_type": "code",
   "execution_count": 34,
   "id": "cd99ba92",
   "metadata": {},
   "outputs": [
    {
     "data": {
      "text/plain": [
       "<AxesSubplot:>"
      ]
     },
     "execution_count": 34,
     "metadata": {},
     "output_type": "execute_result"
    },
    {
     "data": {
      "image/png": "[encoded data removed]",
      "text/plain": [
       "<Figure size 432x288 with 1 Axes>"
      ]
     },
     "metadata": {
      "needs_background": "light"
     },
     "output_type": "display_data"
    }
   ],
   "source": [
    "pd.Series(lista_delta_tallas).hist(bins=50)"
   ]
  },
  {
   "cell_type": "code",
   "execution_count": null,
   "id": "b4528066",
   "metadata": {},
   "outputs": [],
   "source": []
  },
  {
   "cell_type": "code",
   "execution_count": null,
   "id": "57c4a0d6",
   "metadata": {},
   "outputs": [],
   "source": []
  },
  {
   "cell_type": "code",
   "execution_count": null,
   "id": "0dbf7c21",
   "metadata": {},
   "outputs": [],
   "source": []
  },
  {
   "cell_type": "code",
   "execution_count": null,
   "id": "a3a438d2",
   "metadata": {},
   "outputs": [],
   "source": []
  },
  {
   "cell_type": "code",
   "execution_count": 35,
   "id": "3ac84882",
   "metadata": {},
   "outputs": [
    {
     "data": {
      "text/plain": [
       "<AxesSubplot:>"
      ]
     },
     "execution_count": 35,
     "metadata": {},
     "output_type": "execute_result"
    },
    {
     "data": {
      "image/png": "[encoded data removed]",
      "text/plain": [
       "<Figure size 432x288 with 1 Axes>"
      ]
     },
     "metadata": {
      "needs_background": "light"
     },
     "output_type": "display_data"
    }
   ],
   "source": [
    "pd.Series(lista_delta_meses).hist(bins=50)"
   ]
  },
  {
   "cell_type": "code",
   "execution_count": 36,
   "id": "9e9214df",
   "metadata": {},
   "outputs": [
    {
     "ename": "NameError",
     "evalue": "name 'df_plau_talla' is not defined",
     "output_type": "error",
     "traceback": [
      "\u001b[0;31m---------------------------------------------------------------------------\u001b[0m",
      "\u001b[0;31mNameError\u001b[0m                                 Traceback (most recent call last)",
      "Input \u001b[0;32mIn [36]\u001b[0m, in \u001b[0;36m<cell line: 1>\u001b[0;34m()\u001b[0m\n\u001b[0;32m----> 1\u001b[0m \u001b[43mdf_plau_talla\u001b[49m\u001b[38;5;241m.\u001b[39mcolumns\n",
      "\u001b[0;31mNameError\u001b[0m: name 'df_plau_talla' is not defined"
     ]
    }
   ],
   "source": [
    "#df_plau_talla.columns"
   ]
  },
  {
   "cell_type": "code",
   "execution_count": null,
   "id": "ef1f7214",
   "metadata": {},
   "outputs": [],
   "source": []
  },
  {
   "cell_type": "code",
   "execution_count": null,
   "id": "781ee09d",
   "metadata": {},
   "outputs": [],
   "source": [
    "#ahora podemos comparar con los plausibles, sin los anormales"
   ]
  },
  {
   "cell_type": "code",
   "execution_count": 37,
   "id": "5d535dc3",
   "metadata": {},
   "outputs": [
    {
     "name": "stdout",
     "output_type": "stream",
     "text": [
      "dim df_plau_talla:  (839082, 10)\n"
     ]
    }
   ],
   "source": [
    "df_plau_talla = df_plau[~df_plau['id_individuo'].isin(anormales_listados)]\n",
    "print('dim df_plau_talla: ' , df_plau_talla.shape)"
   ]
  },
  {
   "cell_type": "code",
   "execution_count": 38,
   "id": "df17b034",
   "metadata": {},
   "outputs": [
    {
     "name": "stdout",
     "output_type": "stream",
     "text": [
      "long tallas:  595394 long meses:  595394\n"
     ]
    }
   ],
   "source": [
    "#busco los delta de tiempo en meses , y de talla\n",
    "lista_delta_tallas_plau = []\n",
    "lista_delta_meses_plau = []\n",
    "for i in (df_plau_talla['id_individuo'].unique()):\n",
    "    subdf = df_plau_talla[df_plau_talla['id_individuo'] == i]#hasta aca devuelve un subdf con el Iesimo individuo\n",
    "    for j in range(0 , (subdf.shape[0]-1)):\n",
    "        lista_delta_tallas_plau.append(subdf.iloc[j+1 , 3].item() - subdf.iloc[j , 3].item())#caso afirmativo, que guarde el indiv , y el df\n",
    "        lista_delta_meses_plau.append(subdf.iloc[j+1 , 5].item() - subdf.iloc[j , 5].item())\n",
    "print('long tallas: ' , len(lista_delta_tallas_plau) , 'long meses: ' , len(lista_delta_meses_plau))"
   ]
  },
  {
   "cell_type": "code",
   "execution_count": null,
   "id": "fcc1793e",
   "metadata": {},
   "outputs": [],
   "source": []
  },
  {
   "cell_type": "code",
   "execution_count": 39,
   "id": "de30d46f",
   "metadata": {},
   "outputs": [
    {
     "data": {
      "text/plain": [
       "<AxesSubplot:>"
      ]
     },
     "execution_count": 39,
     "metadata": {},
     "output_type": "execute_result"
    },
    {
     "data": {
      "image/png": "[encoded data removed]",
      "text/plain": [
       "<Figure size 432x288 with 1 Axes>"
      ]
     },
     "metadata": {
      "needs_background": "light"
     },
     "output_type": "display_data"
    }
   ],
   "source": [
    "pd.Series(lista_delta_tallas_plau).hist(bins=50)"
   ]
  },
  {
   "cell_type": "code",
   "execution_count": null,
   "id": "4e0ed4a4",
   "metadata": {},
   "outputs": [],
   "source": []
  },
  {
   "cell_type": "code",
   "execution_count": null,
   "id": "b259eed3",
   "metadata": {},
   "outputs": [],
   "source": []
  },
  {
   "cell_type": "code",
   "execution_count": null,
   "id": "20937b34",
   "metadata": {},
   "outputs": [],
   "source": []
  },
  {
   "cell_type": "code",
   "execution_count": 40,
   "id": "9908b6b5",
   "metadata": {},
   "outputs": [
    {
     "data": {
      "text/plain": [
       "<AxesSubplot:>"
      ]
     },
     "execution_count": 40,
     "metadata": {},
     "output_type": "execute_result"
    },
    {
     "data": {
      "image/png": "[encoded data removed]",
      "text/plain": [
       "<Figure size 432x288 with 1 Axes>"
      ]
     },
     "metadata": {
      "needs_background": "light"
     },
     "output_type": "display_data"
    }
   ],
   "source": [
    "pd.Series(lista_delta_meses_plau).hist(bins=50)"
   ]
  },
  {
   "cell_type": "code",
   "execution_count": null,
   "id": "2d2307c0",
   "metadata": {},
   "outputs": [],
   "source": []
  },
  {
   "cell_type": "code",
   "execution_count": 41,
   "id": "34f65a9b",
   "metadata": {},
   "outputs": [],
   "source": [
    "#para cada rango etario, podemso hacer este mismo histograma"
   ]
  },
  {
   "cell_type": "code",
   "execution_count": 42,
   "id": "355934e4",
   "metadata": {},
   "outputs": [
    {
     "name": "stdout",
     "output_type": "stream",
     "text": [
      "long tallas de 0 6 meses :  66521 long mesesde 0 a 6 meses :  66521\n",
      "long tallas 6Ma2A :  114783 long meses 6Ma2A :  114783\n",
      "long tallas 2Aa5A :  88369 long meses 2Aa5A :  88369\n"
     ]
    }
   ],
   "source": [
    "#busco los delta de tiempo en meses , y de talla, por rnago etario\n",
    "lista_delta_tallas_plau_menor6meses = []\n",
    "lista_delta_meses_plau_menor6meses = []\n",
    "for i in (df_plau_talla['id_individuo'].unique()):\n",
    "    subdf = df_plau_talla[(df_plau_talla['id_individuo'] == i) & (df_plau_talla['edad_meses'] <= 6)]#hasta aca devuelve un subdf con el Iesimo individuo\n",
    "    for j in range(0 , (subdf.shape[0]-1)):\n",
    "        lista_delta_tallas_plau_menor6meses.append(subdf.iloc[j+1 , 3].item() - subdf.iloc[j , 3].item())#caso afirmativo, que guarde el indiv , y el df\n",
    "        lista_delta_meses_plau_menor6meses.append(subdf.iloc[j+1 , 5].item() - subdf.iloc[j , 5].item())\n",
    "print('long tallas de 0 6 meses : ' , len(lista_delta_tallas_plau_menor6meses) , 'long mesesde 0 a 6 meses : ' , len(lista_delta_meses_plau_menor6meses))\n",
    "\n",
    "lista_delta_tallas_plau_6Ma2A = []\n",
    "lista_delta_meses_plau_6Ma2A = []\n",
    "for i in (df_plau_talla['id_individuo'].unique()):\n",
    "    subdf = df_plau_talla[(df_plau_talla['id_individuo'] == i) & (df_plau_talla['edad_meses'] > 6) & (df_plau_talla['edad_meses'] <= 24)]#hasta aca devuelve un subdf con el Iesimo individuo\n",
    "    for j in range(0 , (subdf.shape[0]-1)):\n",
    "        lista_delta_tallas_plau_6Ma2A.append(subdf.iloc[j+1 , 3].item() - subdf.iloc[j , 3].item())#caso afirmativo, que guarde el indiv , y el df\n",
    "        lista_delta_meses_plau_6Ma2A.append(subdf.iloc[j+1 , 5].item() - subdf.iloc[j , 5].item())\n",
    "print('long tallas 6Ma2A : ' , len(lista_delta_tallas_plau_6Ma2A) , 'long meses 6Ma2A : ' , len(lista_delta_meses_plau_6Ma2A))\n",
    "\n",
    "lista_delta_tallas_plau_2Aa5A = []\n",
    "lista_delta_meses_plau_2Aa5A = []\n",
    "for i in (df_plau_talla['id_individuo'].unique()):\n",
    "    subdf = df_plau_talla[(df_plau_talla['id_individuo'] == i) & (df_plau_talla['edad_meses'] > 24) & (df_plau_talla['edad_meses'] <= 60)]#hasta aca devuelve un subdf con el Iesimo individuo\n",
    "    for j in range(0 , (subdf.shape[0]-1)):\n",
    "        lista_delta_tallas_plau_2Aa5A.append(subdf.iloc[j+1 , 3].item() - subdf.iloc[j , 3].item())#caso afirmativo, que guarde el indiv , y el df\n",
    "        lista_delta_meses_plau_2Aa5A.append(subdf.iloc[j+1 , 5].item() - subdf.iloc[j , 5].item())\n",
    "print('long tallas 2Aa5A : ' , len(lista_delta_tallas_plau_2Aa5A) , 'long meses 2Aa5A : ' , len(lista_delta_meses_plau_2Aa5A))"
   ]
  },
  {
   "cell_type": "code",
   "execution_count": 43,
   "id": "f1b3c15b",
   "metadata": {},
   "outputs": [
    {
     "data": {
      "text/plain": [
       "<AxesSubplot:>"
      ]
     },
     "execution_count": 43,
     "metadata": {},
     "output_type": "execute_result"
    },
    {
     "data": {
      "image/png": "[encoded data removed]",
      "text/plain": [
       "<Figure size 432x288 with 1 Axes>"
      ]
     },
     "metadata": {
      "needs_background": "light"
     },
     "output_type": "display_data"
    }
   ],
   "source": [
    "pd.Series(lista_delta_tallas_plau_menor6meses).hist(bins=50)"
   ]
  },
  {
   "cell_type": "code",
   "execution_count": null,
   "id": "7517c07f",
   "metadata": {},
   "outputs": [],
   "source": []
  },
  {
   "cell_type": "code",
   "execution_count": 44,
   "id": "6056e382",
   "metadata": {},
   "outputs": [
    {
     "data": {
      "text/plain": [
       "<AxesSubplot:>"
      ]
     },
     "execution_count": 44,
     "metadata": {},
     "output_type": "execute_result"
    },
    {
     "data": {
      "image/png": "[encoded data removed]",
      "text/plain": [
       "<Figure size 432x288 with 1 Axes>"
      ]
     },
     "metadata": {
      "needs_background": "light"
     },
     "output_type": "display_data"
    }
   ],
   "source": [
    "pd.Series(lista_delta_meses_plau_menor6meses).hist(bins=50)#3cm/mes"
   ]
  },
  {
   "cell_type": "code",
   "execution_count": 45,
   "id": "8fdaeb23",
   "metadata": {},
   "outputs": [
    {
     "data": {
      "text/plain": [
       "<AxesSubplot:>"
      ]
     },
     "execution_count": 45,
     "metadata": {},
     "output_type": "execute_result"
    },
    {
     "data": {
      "image/png": "[encoded data removed]",
      "text/plain": [
       "<Figure size 432x288 with 1 Axes>"
      ]
     },
     "metadata": {
      "needs_background": "light"
     },
     "output_type": "display_data"
    }
   ],
   "source": [
    "pd.Series(lista_delta_tallas_plau_6Ma2A).hist(bins=40)"
   ]
  },
  {
   "cell_type": "code",
   "execution_count": null,
   "id": "aca74b95",
   "metadata": {},
   "outputs": [],
   "source": []
  },
  {
   "cell_type": "code",
   "execution_count": null,
   "id": "59e37e6b",
   "metadata": {},
   "outputs": [],
   "source": []
  },
  {
   "cell_type": "code",
   "execution_count": 46,
   "id": "694cfad7",
   "metadata": {},
   "outputs": [
    {
     "data": {
      "text/plain": [
       "<AxesSubplot:>"
      ]
     },
     "execution_count": 46,
     "metadata": {},
     "output_type": "execute_result"
    },
    {
     "data": {
      "image/png": "[encoded data removed]",
      "text/plain": [
       "<Figure size 432x288 with 1 Axes>"
      ]
     },
     "metadata": {
      "needs_background": "light"
     },
     "output_type": "display_data"
    }
   ],
   "source": [
    "pd.Series(lista_delta_meses_plau_6Ma2A).hist(bins=30)"
   ]
  },
  {
   "cell_type": "code",
   "execution_count": 47,
   "id": "690d2bae",
   "metadata": {},
   "outputs": [],
   "source": [
    "#1cm/mes"
   ]
  },
  {
   "cell_type": "code",
   "execution_count": null,
   "id": "19f371a1",
   "metadata": {},
   "outputs": [],
   "source": []
  },
  {
   "cell_type": "code",
   "execution_count": 48,
   "id": "bb285f55",
   "metadata": {},
   "outputs": [
    {
     "data": {
      "text/plain": [
       "<AxesSubplot:>"
      ]
     },
     "execution_count": 48,
     "metadata": {},
     "output_type": "execute_result"
    },
    {
     "data": {
      "image/png": "[encoded data removed]",
      "text/plain": [
       "<Figure size 432x288 with 1 Axes>"
      ]
     },
     "metadata": {
      "needs_background": "light"
     },
     "output_type": "display_data"
    }
   ],
   "source": [
    "pd.Series(lista_delta_tallas_plau_2Aa5A).hist(bins=25)"
   ]
  },
  {
   "cell_type": "code",
   "execution_count": null,
   "id": "c28c294c",
   "metadata": {},
   "outputs": [],
   "source": []
  },
  {
   "cell_type": "code",
   "execution_count": 49,
   "id": "8bc819a8",
   "metadata": {},
   "outputs": [],
   "source": [
    "#0.7cm/mes aprox"
   ]
  },
  {
   "cell_type": "code",
   "execution_count": null,
   "id": "1d06cfcb",
   "metadata": {},
   "outputs": [],
   "source": []
  },
  {
   "cell_type": "code",
   "execution_count": null,
   "id": "02d0e97d",
   "metadata": {},
   "outputs": [],
   "source": [
    "#talla para mayores de 5 A"
   ]
  },
  {
   "cell_type": "code",
   "execution_count": 119,
   "id": "54cb5a96",
   "metadata": {},
   "outputs": [
    {
     "name": "stdout",
     "output_type": "stream",
     "text": [
      "long tallas mayores5A :  159903 long mesesde 0 a 6 meses :  159903\n"
     ]
    }
   ],
   "source": [
    "#para lso mayores de 5 anios\n",
    "\n",
    "lista_delta_tallas_plau_mayores5A = []\n",
    "lista_delta_meses_plau_mayores5A = []\n",
    "for i in (df_plau_talla['id_individuo'].unique()):\n",
    "    subdf = df_plau_talla[(df_plau_talla['id_individuo'] == i) & (df_plau_talla['edad_meses'] >60)]#hasta aca devuelve un subdf con el Iesimo individuo\n",
    "    for j in range(0 , (subdf.shape[0]-1)):\n",
    "        lista_delta_tallas_plau_mayores5A.append(subdf.iloc[j+1 , 3].item() - subdf.iloc[j , 3].item())#caso afirmativo, que guarde el indiv , y el df\n",
    "        lista_delta_meses_plau_mayores5A.append(subdf.iloc[j+1 , 5].item() - subdf.iloc[j , 5].item())\n",
    "print('long tallas mayores5A : ' , len(lista_delta_tallas_plau_mayores5A) , 'long mesesde 0 a 6 meses : ' , len(lista_delta_meses_plau_mayores5A))"
   ]
  },
  {
   "cell_type": "code",
   "execution_count": 120,
   "id": "7c9a0929",
   "metadata": {},
   "outputs": [
    {
     "data": {
      "text/plain": [
       "<AxesSubplot:>"
      ]
     },
     "execution_count": 120,
     "metadata": {},
     "output_type": "execute_result"
    },
    {
     "data": {
      "image/png": "[encoded data removed]",
      "text/plain": [
       "<Figure size 432x288 with 1 Axes>"
      ]
     },
     "metadata": {
      "needs_background": "light"
     },
     "output_type": "display_data"
    }
   ],
   "source": [
    "pd.Series(lista_delta_tallas_plau_mayores5A).hist(bins=60)"
   ]
  },
  {
   "cell_type": "code",
   "execution_count": 121,
   "id": "2d06c089",
   "metadata": {},
   "outputs": [
    {
     "data": {
      "text/plain": [
       "<AxesSubplot:>"
      ]
     },
     "execution_count": 121,
     "metadata": {},
     "output_type": "execute_result"
    },
    {
     "data": {
      "image/png": "[encoded data removed]",
      "text/plain": [
       "<Figure size 432x288 with 1 Axes>"
      ]
     },
     "metadata": {
      "needs_background": "light"
     },
     "output_type": "display_data"
    }
   ],
   "source": [
    "pd.Series(lista_delta_meses_plau_mayores5A).hist(bins=60)"
   ]
  },
  {
   "cell_type": "code",
   "execution_count": 126,
   "id": "8eac9b54",
   "metadata": {},
   "outputs": [],
   "source": [
    "tasa_talla_mayores5A = pd.Series(lista_delta_tallas_plau_mayores5A).median()/pd.Series(lista_delta_meses_plau_mayores5A).median()"
   ]
  },
  {
   "cell_type": "code",
   "execution_count": 127,
   "id": "e8473d46",
   "metadata": {},
   "outputs": [
    {
     "data": {
      "text/plain": [
       "0.5"
      ]
     },
     "execution_count": 127,
     "metadata": {},
     "output_type": "execute_result"
    }
   ],
   "source": [
    "tasa_talla_mayores5A"
   ]
  },
  {
   "cell_type": "code",
   "execution_count": null,
   "id": "fa4e7f2d",
   "metadata": {},
   "outputs": [],
   "source": []
  },
  {
   "cell_type": "code",
   "execution_count": null,
   "id": "932f4fb0",
   "metadata": {},
   "outputs": [],
   "source": [
    "#ahora para el peso"
   ]
  },
  {
   "cell_type": "code",
   "execution_count": null,
   "id": "bb2ce969",
   "metadata": {},
   "outputs": [],
   "source": [
    "#definimos rangos de 5 a 10A\n",
    "\n",
    "#y otro de 10 a 19A"
   ]
  },
  {
   "cell_type": "code",
   "execution_count": null,
   "id": "c11c1942",
   "metadata": {},
   "outputs": [],
   "source": []
  },
  {
   "cell_type": "code",
   "execution_count": 122,
   "id": "7d9a6dc4",
   "metadata": {},
   "outputs": [
    {
     "name": "stdout",
     "output_type": "stream",
     "text": [
      "long pesos mayores5A :  89145 long mesesde 0 a 6 meses :  89145\n",
      "long pesos mayores10A :  89145 long mesesde mayores10A :  89145\n"
     ]
    }
   ],
   "source": [
    "lista_delta_pesos_plau_5A_10A = []\n",
    "lista_delta_pesos_plau_meses_5A_10A = []\n",
    "for i in (df_plau_pesos['id_individuo'].unique()):\n",
    "    subdf = df_plau_pesos[(df_plau_pesos['id_individuo'] == i) & (df_plau_pesos['edad_meses'] >60) & (df_plau_pesos['edad_meses'] <= 120)]#hasta aca devuelve un subdf con el Iesimo individuo\n",
    "    for j in range(0 , (subdf.shape[0]-1)):\n",
    "        lista_delta_pesos_plau_5A_10A.append(subdf.iloc[j+1 , 3].item() - subdf.iloc[j , 3].item())#caso afirmativo, que guarde el indiv , y el df\n",
    "        lista_delta_pesos_plau_meses_5A_10A.append(subdf.iloc[j+1 , 5].item() - subdf.iloc[j , 5].item())\n",
    "print('long pesos mayores5A : ' , len(lista_delta_pesos_plau_5A_10A) , 'long mesesde 0 a 6 meses : ' , len(lista_delta_pesos_plau_meses_5A_10A))\n",
    "\n",
    "\n",
    "#los mayores a 10 anios\n",
    "lista_delta_pesos_plau_mayores10A = []\n",
    "lista_delta_pesos_plau_meses_mayores10A = []\n",
    "for i in (df_plau_pesos['id_individuo'].unique()):\n",
    "    subdf = df_plau_pesos[(df_plau_pesos['id_individuo'] == i) & (df_plau_pesos['edad_meses'] >120)]#hasta aca devuelve un subdf con el Iesimo individuo\n",
    "    for j in range(0 , (subdf.shape[0]-1)):\n",
    "        lista_delta_pesos_plau_mayores10A.append(subdf.iloc[j+1 , 3].item() - subdf.iloc[j , 3].item())#caso afirmativo, que guarde el indiv , y el df\n",
    "        lista_delta_pesos_plau_meses_mayores10A.append(subdf.iloc[j+1 , 5].item() - subdf.iloc[j , 5].item())\n",
    "print('long pesos mayores10A : ' , len(lista_delta_pesos_plau_mayores10A) , 'long mesesde mayores10A : ' , len(lista_delta_pesos_plau_meses_mayores10A))"
   ]
  },
  {
   "cell_type": "code",
   "execution_count": 123,
   "id": "0345c51f",
   "metadata": {},
   "outputs": [
    {
     "name": "stdout",
     "output_type": "stream",
     "text": [
      "long pesos mayores10A :  40133 long mesesde mayores10A :  40133\n"
     ]
    }
   ],
   "source": [
    "print('long pesos mayores10A : ' , len(lista_delta_pesos_plau_mayores10A) , 'long mesesde mayores10A : ' , len(lista_delta_pesos_plau_meses_mayores10A))"
   ]
  },
  {
   "cell_type": "code",
   "execution_count": 133,
   "id": "c4b62291",
   "metadata": {},
   "outputs": [
    {
     "data": {
      "text/plain": [
       "<AxesSubplot:>"
      ]
     },
     "execution_count": 133,
     "metadata": {},
     "output_type": "execute_result"
    },
    {
     "data": {
      "image/png": "[encoded data removed]",
      "text/plain": [
       "<Figure size 432x288 with 1 Axes>"
      ]
     },
     "metadata": {
      "needs_background": "light"
     },
     "output_type": "display_data"
    }
   ],
   "source": [
    "pd.Series(lista_delta_pesos_plau_5A_10A)[(pd.Series(lista_delta_pesos_plau_5A_10A)>=0)].hist(bins=50)"
   ]
  },
  {
   "cell_type": "code",
   "execution_count": null,
   "id": "3a3d7ed4",
   "metadata": {},
   "outputs": [],
   "source": []
  },
  {
   "cell_type": "code",
   "execution_count": 134,
   "id": "5e41df1a",
   "metadata": {},
   "outputs": [
    {
     "data": {
      "text/plain": [
       "<AxesSubplot:>"
      ]
     },
     "execution_count": 134,
     "metadata": {},
     "output_type": "execute_result"
    },
    {
     "data": {
      "image/png": "[encoded data removed]",
      "text/plain": [
       "<Figure size 432x288 with 1 Axes>"
      ]
     },
     "metadata": {
      "needs_background": "light"
     },
     "output_type": "display_data"
    }
   ],
   "source": [
    "pd.Series(lista_delta_pesos_plau_meses_5A_10A).hist(bins=50)"
   ]
  },
  {
   "cell_type": "code",
   "execution_count": null,
   "id": "4caa5771",
   "metadata": {},
   "outputs": [],
   "source": []
  },
  {
   "cell_type": "code",
   "execution_count": null,
   "id": "f68956f6",
   "metadata": {},
   "outputs": [],
   "source": []
  },
  {
   "cell_type": "code",
   "execution_count": 128,
   "id": "178f6796",
   "metadata": {},
   "outputs": [
    {
     "data": {
      "text/plain": [
       "<AxesSubplot:>"
      ]
     },
     "execution_count": 128,
     "metadata": {},
     "output_type": "execute_result"
    },
    {
     "data": {
      "image/png": "[encoded data removed]",
      "text/plain": [
       "<Figure size 432x288 with 1 Axes>"
      ]
     },
     "metadata": {
      "needs_background": "light"
     },
     "output_type": "display_data"
    }
   ],
   "source": [
    "pd.Series(lista_delta_pesos_plau_mayores10A)[pd.Series(lista_delta_pesos_plau_mayores10A)>=0].hist(bins=50)"
   ]
  },
  {
   "cell_type": "code",
   "execution_count": null,
   "id": "fc21c249",
   "metadata": {},
   "outputs": [],
   "source": []
  },
  {
   "cell_type": "code",
   "execution_count": null,
   "id": "4499d9c2",
   "metadata": {},
   "outputs": [],
   "source": []
  },
  {
   "cell_type": "code",
   "execution_count": 125,
   "id": "493970f5",
   "metadata": {},
   "outputs": [
    {
     "data": {
      "text/plain": [
       "<AxesSubplot:>"
      ]
     },
     "execution_count": 125,
     "metadata": {},
     "output_type": "execute_result"
    },
    {
     "data": {
      "image/png": "[encoded data removed]",
      "text/plain": [
       "<Figure size 432x288 with 1 Axes>"
      ]
     },
     "metadata": {
      "needs_background": "light"
     },
     "output_type": "display_data"
    }
   ],
   "source": [
    "pd.Series(lista_delta_pesos_plau_meses_mayores10A).hist(bins=50)"
   ]
  },
  {
   "cell_type": "code",
   "execution_count": 135,
   "id": "c62642bf",
   "metadata": {},
   "outputs": [],
   "source": [
    "#tasa pesos\n",
    "tasa_pesos_5Aa10A = pd.Series(lista_delta_pesos_plau_5A_10A)[(pd.Series(lista_delta_pesos_plau_5A_10A)>=0)].median()/pd.Series(lista_delta_pesos_plau_meses_5A_10A).median()"
   ]
  },
  {
   "cell_type": "code",
   "execution_count": 136,
   "id": "34a906c3",
   "metadata": {},
   "outputs": [
    {
     "data": {
      "text/plain": [
       "0.5309734513274331"
      ]
     },
     "execution_count": 136,
     "metadata": {},
     "output_type": "execute_result"
    }
   ],
   "source": [
    "tasa_pesos_5Aa10A"
   ]
  },
  {
   "cell_type": "code",
   "execution_count": null,
   "id": "89ff5a3d",
   "metadata": {},
   "outputs": [],
   "source": []
  },
  {
   "cell_type": "code",
   "execution_count": 129,
   "id": "704a2efa",
   "metadata": {},
   "outputs": [],
   "source": [
    "tasa_peso_mayores10A = pd.Series(lista_delta_pesos_plau_mayores10A)[pd.Series(lista_delta_pesos_plau_mayores10A)>=0].median()/pd.Series(lista_delta_pesos_plau_meses_mayores10A).median()"
   ]
  },
  {
   "cell_type": "code",
   "execution_count": 130,
   "id": "510d38a6",
   "metadata": {},
   "outputs": [
    {
     "data": {
      "text/plain": [
       "0.42016806722689054"
      ]
     },
     "execution_count": 130,
     "metadata": {},
     "output_type": "execute_result"
    }
   ],
   "source": [
    "tasa_peso_mayores10A"
   ]
  },
  {
   "cell_type": "code",
   "execution_count": null,
   "id": "0937a898",
   "metadata": {},
   "outputs": [],
   "source": []
  },
  {
   "cell_type": "code",
   "execution_count": null,
   "id": "8b3c5f89",
   "metadata": {},
   "outputs": [],
   "source": []
  },
  {
   "cell_type": "code",
   "execution_count": 50,
   "id": "25639587",
   "metadata": {},
   "outputs": [
    {
     "data": {
      "text/plain": [
       "<AxesSubplot:>"
      ]
     },
     "execution_count": 50,
     "metadata": {},
     "output_type": "execute_result"
    },
    {
     "data": {
      "image/png": "[encoded data removed]",
      "text/plain": [
       "<Figure size 432x288 with 1 Axes>"
      ]
     },
     "metadata": {
      "needs_background": "light"
     },
     "output_type": "display_data"
    }
   ],
   "source": [
    "pd.Series(lista_delta_meses_plau_2Aa5A).hist(bins=30)"
   ]
  },
  {
   "cell_type": "code",
   "execution_count": null,
   "id": "3af34892",
   "metadata": {},
   "outputs": [],
   "source": []
  },
  {
   "cell_type": "code",
   "execution_count": null,
   "id": "99591c32",
   "metadata": {},
   "outputs": [],
   "source": []
  },
  {
   "cell_type": "code",
   "execution_count": 51,
   "id": "3784e12e",
   "metadata": {},
   "outputs": [
    {
     "data": {
      "text/plain": [
       "count    66521.000000\n",
       "mean         4.591978\n",
       "std          2.946209\n",
       "min          0.000000\n",
       "25%          3.000000\n",
       "50%          4.000000\n",
       "75%          6.000000\n",
       "max         24.000000\n",
       "dtype: float64"
      ]
     },
     "execution_count": 51,
     "metadata": {},
     "output_type": "execute_result"
    }
   ],
   "source": [
    "#probar usnado el desvio estandar\n",
    "pd.Series(lista_delta_tallas_plau_menor6meses).describe()"
   ]
  },
  {
   "cell_type": "code",
   "execution_count": 52,
   "id": "6394c81b",
   "metadata": {},
   "outputs": [
    {
     "data": {
      "text/plain": [
       "count    88369.000000\n",
       "mean         6.557537\n",
       "std          5.357777\n",
       "min         -3.000000\n",
       "25%          3.000000\n",
       "50%          6.000000\n",
       "75%          9.000000\n",
       "max         47.000000\n",
       "dtype: float64"
      ]
     },
     "execution_count": 52,
     "metadata": {},
     "output_type": "execute_result"
    }
   ],
   "source": [
    "pd.Series(lista_delta_tallas_plau_2Aa5A).describe()"
   ]
  },
  {
   "cell_type": "code",
   "execution_count": 53,
   "id": "ffff305d",
   "metadata": {},
   "outputs": [
    {
     "data": {
      "text/plain": [
       "count    114783.000000\n",
       "mean          5.276731\n",
       "std           3.956512\n",
       "min           0.000000\n",
       "25%           2.000000\n",
       "50%           4.000000\n",
       "75%           7.000000\n",
       "max          40.000000\n",
       "dtype: float64"
      ]
     },
     "execution_count": 53,
     "metadata": {},
     "output_type": "execute_result"
    }
   ],
   "source": [
    "pd.Series(lista_delta_tallas_plau_6Ma2A).describe()"
   ]
  },
  {
   "cell_type": "code",
   "execution_count": null,
   "id": "df2ede1d",
   "metadata": {},
   "outputs": [],
   "source": []
  },
  {
   "cell_type": "code",
   "execution_count": null,
   "id": "43414fcc",
   "metadata": {},
   "outputs": [],
   "source": []
  },
  {
   "cell_type": "code",
   "execution_count": 54,
   "id": "ebf00c9d",
   "metadata": {},
   "outputs": [],
   "source": [
    "#chequeo una cosa, para ver como calcular la tasa\n",
    "#pd.Series(lista_delta_meses_plau_2Aa5A).hist(bins=30).mean()#no funciona"
   ]
  },
  {
   "cell_type": "code",
   "execution_count": null,
   "id": "bb599c04",
   "metadata": {},
   "outputs": [],
   "source": []
  },
  {
   "cell_type": "code",
   "execution_count": 55,
   "id": "ce97edcb",
   "metadata": {},
   "outputs": [
    {
     "data": {
      "text/plain": [
       "-3.0        1\n",
       " 47.0       1\n",
       " 43.0       1\n",
       " 42.0       2\n",
       " 45.0       2\n",
       " 41.0       3\n",
       " 39.0       5\n",
       " 40.0       6\n",
       " 38.0       8\n",
       " 36.0       9\n",
       " 37.0      11\n",
       " 35.0      18\n",
       " 34.0      22\n",
       " 32.0      23\n",
       " 33.0      25\n",
       " 31.0      46\n",
       " 29.0      55\n",
       " 30.0      73\n",
       " 28.0      76\n",
       " 26.0      83\n",
       " 27.0      97\n",
       " 25.0     162\n",
       " 24.0     185\n",
       " 23.0     249\n",
       " 22.0     335\n",
       " 21.0     391\n",
       " 20.0     512\n",
       " 19.0     615\n",
       " 18.0     795\n",
       " 17.0     944\n",
       " 16.0    1274\n",
       " 15.0    1441\n",
       " 14.0    1759\n",
       " 13.0    1958\n",
       " 12.0    2461\n",
       " 11.0    2890\n",
       " 10.0    3949\n",
       " 9.0     4691\n",
       " 1.0     5696\n",
       " 7.0     6549\n",
       " 2.0     6594\n",
       " 6.0     6688\n",
       " 8.0     6772\n",
       " 3.0     7025\n",
       " 5.0     7177\n",
       " 4.0     7348\n",
       " 0.0     9342\n",
       "dtype: int64"
      ]
     },
     "execution_count": 55,
     "metadata": {},
     "output_type": "execute_result"
    }
   ],
   "source": [
    "pd.Series(lista_delta_tallas_plau_2Aa5A).value_counts().sort_values(ascending=True)"
   ]
  },
  {
   "cell_type": "code",
   "execution_count": null,
   "id": "2c540809",
   "metadata": {},
   "outputs": [],
   "source": []
  },
  {
   "cell_type": "code",
   "execution_count": null,
   "id": "e7bd3e01",
   "metadata": {},
   "outputs": [],
   "source": []
  },
  {
   "cell_type": "code",
   "execution_count": 56,
   "id": "a816340c",
   "metadata": {},
   "outputs": [
    {
     "data": {
      "text/plain": [
       "88368   -3.0\n",
       "dtype: float64"
      ]
     },
     "execution_count": 56,
     "metadata": {},
     "output_type": "execute_result"
    }
   ],
   "source": [
    "pd.Series(lista_delta_tallas_plau_2Aa5A)[pd.Series(lista_delta_tallas_plau_2Aa5A)==-3]#aparen"
   ]
  },
  {
   "cell_type": "code",
   "execution_count": null,
   "id": "5e1a7172",
   "metadata": {},
   "outputs": [],
   "source": []
  },
  {
   "cell_type": "code",
   "execution_count": null,
   "id": "c489fe8a",
   "metadata": {},
   "outputs": [],
   "source": []
  },
  {
   "cell_type": "code",
   "execution_count": null,
   "id": "9486cfa9",
   "metadata": {},
   "outputs": [],
   "source": []
  },
  {
   "cell_type": "code",
   "execution_count": 57,
   "id": "c8e3221f",
   "metadata": {},
   "outputs": [
    {
     "data": {
      "text/html": [
       "<div>\n",
       "<style scoped>\n",
       "    .dataframe tbody tr th:only-of-type {\n",
       "        vertical-align: middle;\n",
       "    }\n",
       "\n",
       "    .dataframe tbody tr th {\n",
       "        vertical-align: top;\n",
       "    }\n",
       "\n",
       "    .dataframe thead th {\n",
       "        text-align: right;\n",
       "    }\n",
       "</style>\n",
       "<table border=\"1\" class=\"dataframe\">\n",
       "  <thead>\n",
       "    <tr style=\"text-align: right;\">\n",
       "      <th></th>\n",
       "      <th>id_individuo</th>\n",
       "      <th>sexo</th>\n",
       "      <th>peso</th>\n",
       "      <th>talla</th>\n",
       "      <th>edad_dias</th>\n",
       "      <th>edad_meses</th>\n",
       "      <th>masa_corporal</th>\n",
       "      <th>haz</th>\n",
       "      <th>waz</th>\n",
       "      <th>bmiz</th>\n",
       "    </tr>\n",
       "  </thead>\n",
       "  <tbody>\n",
       "    <tr>\n",
       "      <th>88368</th>\n",
       "      <td>23042</td>\n",
       "      <td>M</td>\n",
       "      <td>54.3</td>\n",
       "      <td>170.0</td>\n",
       "      <td>5974.0</td>\n",
       "      <td>195.9</td>\n",
       "      <td>18.79</td>\n",
       "      <td>-0.56</td>\n",
       "      <td>-0.83</td>\n",
       "      <td>-0.81</td>\n",
       "    </tr>\n",
       "  </tbody>\n",
       "</table>\n",
       "</div>"
      ],
      "text/plain": [
       "       id_individuo sexo  peso  talla  edad_dias  edad_meses  masa_corporal  \\\n",
       "88368         23042    M  54.3  170.0     5974.0       195.9          18.79   \n",
       "\n",
       "        haz   waz  bmiz  \n",
       "88368 -0.56 -0.83 -0.81  "
      ]
     },
     "execution_count": 57,
     "metadata": {},
     "output_type": "execute_result"
    }
   ],
   "source": [
    "df_plau_anormales_talla.filter(items =[88368] , axis=0)#este seria el individuo a descartar, ya que el delta da -3, verifiquemos..."
   ]
  },
  {
   "cell_type": "code",
   "execution_count": null,
   "id": "906ab749",
   "metadata": {},
   "outputs": [],
   "source": []
  },
  {
   "cell_type": "code",
   "execution_count": 81,
   "id": "f28757d6",
   "metadata": {},
   "outputs": [
    {
     "data": {
      "text/plain": [
       "40.0        1\n",
       "36.0        1\n",
       "35.0        1\n",
       "34.0        3\n",
       "33.0        3\n",
       "32.0        5\n",
       "29.0        5\n",
       "30.0        6\n",
       "31.0        7\n",
       "28.0       11\n",
       "27.0       18\n",
       "26.0       22\n",
       "25.0       46\n",
       "24.0       47\n",
       "23.0       56\n",
       "22.0       86\n",
       "21.0      145\n",
       "20.0      193\n",
       "19.0      233\n",
       "18.0      354\n",
       "17.0      541\n",
       "16.0      712\n",
       "15.0     1029\n",
       "14.0     1234\n",
       "13.0     1667\n",
       "12.0     2332\n",
       "11.0     3011\n",
       "10.0     3844\n",
       "9.0      4939\n",
       "8.0      6284\n",
       "0.0      7966\n",
       "7.0      7996\n",
       "1.0      8889\n",
       "6.0     10186\n",
       "5.0     12267\n",
       "2.0     12447\n",
       "3.0     14092\n",
       "4.0     14104\n",
       "dtype: int64"
      ]
     },
     "execution_count": 81,
     "metadata": {},
     "output_type": "execute_result"
    }
   ],
   "source": [
    "#chequiemos los de delta 1 cm\n",
    "pd.Series(lista_delta_tallas_plau_6Ma2A).value_counts().sort_values(ascending=True)"
   ]
  },
  {
   "cell_type": "code",
   "execution_count": 83,
   "id": "63005378",
   "metadata": {},
   "outputs": [
    {
     "data": {
      "text/plain": [
       "24.0        1\n",
       "21.0        2\n",
       "22.0        3\n",
       "20.0       13\n",
       "19.0       22\n",
       "18.0       38\n",
       "17.0       56\n",
       "16.0       91\n",
       "15.0      178\n",
       "14.0      295\n",
       "13.0      419\n",
       "12.0      667\n",
       "11.0     1035\n",
       "10.0     1595\n",
       "9.0      2278\n",
       "0.0      2864\n",
       "8.0      3374\n",
       "7.0      4711\n",
       "1.0      5193\n",
       "6.0      6492\n",
       "5.0      8166\n",
       "2.0      8530\n",
       "4.0      9975\n",
       "3.0     10523\n",
       "dtype: int64"
      ]
     },
     "execution_count": 83,
     "metadata": {},
     "output_type": "execute_result"
    }
   ],
   "source": [
    "pd.Series(lista_delta_tallas_plau_menor6meses).value_counts().sort_values(ascending=True)"
   ]
  },
  {
   "cell_type": "code",
   "execution_count": null,
   "id": "eef45bd2",
   "metadata": {},
   "outputs": [],
   "source": []
  },
  {
   "cell_type": "code",
   "execution_count": null,
   "id": "a3ba8da1",
   "metadata": {},
   "outputs": [],
   "source": []
  },
  {
   "cell_type": "code",
   "execution_count": null,
   "id": "a3578d2a",
   "metadata": {},
   "outputs": [],
   "source": []
  },
  {
   "cell_type": "code",
   "execution_count": 58,
   "id": "55e8679d",
   "metadata": {},
   "outputs": [],
   "source": [
    "#entonces si habri que eliminar a este dato, pero primero evaluemos al individuo 23042"
   ]
  },
  {
   "cell_type": "code",
   "execution_count": null,
   "id": "41e3d2b7",
   "metadata": {},
   "outputs": [],
   "source": []
  },
  {
   "cell_type": "code",
   "execution_count": 59,
   "id": "afd741b9",
   "metadata": {},
   "outputs": [
    {
     "data": {
      "text/html": [
       "<div>\n",
       "<style scoped>\n",
       "    .dataframe tbody tr th:only-of-type {\n",
       "        vertical-align: middle;\n",
       "    }\n",
       "\n",
       "    .dataframe tbody tr th {\n",
       "        vertical-align: top;\n",
       "    }\n",
       "\n",
       "    .dataframe thead th {\n",
       "        text-align: right;\n",
       "    }\n",
       "</style>\n",
       "<table border=\"1\" class=\"dataframe\">\n",
       "  <thead>\n",
       "    <tr style=\"text-align: right;\">\n",
       "      <th></th>\n",
       "      <th>id_individuo</th>\n",
       "      <th>sexo</th>\n",
       "      <th>peso</th>\n",
       "      <th>talla</th>\n",
       "      <th>edad_dias</th>\n",
       "      <th>edad_meses</th>\n",
       "      <th>masa_corporal</th>\n",
       "      <th>haz</th>\n",
       "      <th>waz</th>\n",
       "      <th>bmiz</th>\n",
       "    </tr>\n",
       "  </thead>\n",
       "  <tbody>\n",
       "    <tr>\n",
       "      <th>88366</th>\n",
       "      <td>23042</td>\n",
       "      <td>M</td>\n",
       "      <td>53.4</td>\n",
       "      <td>169.0</td>\n",
       "      <td>5484.0</td>\n",
       "      <td>179.8</td>\n",
       "      <td>18.70</td>\n",
       "      <td>-0.09</td>\n",
       "      <td>-0.27</td>\n",
       "      <td>-0.45</td>\n",
       "    </tr>\n",
       "    <tr>\n",
       "      <th>88367</th>\n",
       "      <td>23042</td>\n",
       "      <td>M</td>\n",
       "      <td>55.3</td>\n",
       "      <td>167.0</td>\n",
       "      <td>5801.0</td>\n",
       "      <td>190.2</td>\n",
       "      <td>19.83</td>\n",
       "      <td>-0.80</td>\n",
       "      <td>-0.52</td>\n",
       "      <td>-0.23</td>\n",
       "    </tr>\n",
       "    <tr>\n",
       "      <th>88368</th>\n",
       "      <td>23042</td>\n",
       "      <td>M</td>\n",
       "      <td>54.3</td>\n",
       "      <td>170.0</td>\n",
       "      <td>5974.0</td>\n",
       "      <td>195.9</td>\n",
       "      <td>18.79</td>\n",
       "      <td>-0.56</td>\n",
       "      <td>-0.83</td>\n",
       "      <td>-0.81</td>\n",
       "    </tr>\n",
       "  </tbody>\n",
       "</table>\n",
       "</div>"
      ],
      "text/plain": [
       "       id_individuo sexo  peso  talla  edad_dias  edad_meses  masa_corporal  \\\n",
       "88366         23042    M  53.4  169.0     5484.0       179.8          18.70   \n",
       "88367         23042    M  55.3  167.0     5801.0       190.2          19.83   \n",
       "88368         23042    M  54.3  170.0     5974.0       195.9          18.79   \n",
       "\n",
       "        haz   waz  bmiz  \n",
       "88366 -0.09 -0.27 -0.45  \n",
       "88367 -0.80 -0.52 -0.23  \n",
       "88368 -0.56 -0.83 -0.81  "
      ]
     },
     "execution_count": 59,
     "metadata": {},
     "output_type": "execute_result"
    }
   ],
   "source": [
    "df_plau_anormales_talla[df_plau_anormales_talla['id_individuo']==23042]"
   ]
  },
  {
   "cell_type": "code",
   "execution_count": null,
   "id": "ad7c0af9",
   "metadata": {},
   "outputs": [],
   "source": []
  },
  {
   "cell_type": "code",
   "execution_count": null,
   "id": "d7c08861",
   "metadata": {},
   "outputs": [],
   "source": []
  },
  {
   "cell_type": "code",
   "execution_count": 60,
   "id": "90a68963",
   "metadata": {},
   "outputs": [
    {
     "data": {
      "text/html": [
       "<div>\n",
       "<style scoped>\n",
       "    .dataframe tbody tr th:only-of-type {\n",
       "        vertical-align: middle;\n",
       "    }\n",
       "\n",
       "    .dataframe tbody tr th {\n",
       "        vertical-align: top;\n",
       "    }\n",
       "\n",
       "    .dataframe thead th {\n",
       "        text-align: right;\n",
       "    }\n",
       "</style>\n",
       "<table border=\"1\" class=\"dataframe\">\n",
       "  <thead>\n",
       "    <tr style=\"text-align: right;\">\n",
       "      <th></th>\n",
       "      <th>id_individuo</th>\n",
       "      <th>sexo</th>\n",
       "      <th>peso</th>\n",
       "      <th>talla</th>\n",
       "      <th>edad_dias</th>\n",
       "      <th>edad_meses</th>\n",
       "      <th>masa_corporal</th>\n",
       "      <th>haz</th>\n",
       "      <th>waz</th>\n",
       "      <th>bmiz</th>\n",
       "    </tr>\n",
       "  </thead>\n",
       "  <tbody>\n",
       "  </tbody>\n",
       "</table>\n",
       "</div>"
      ],
      "text/plain": [
       "Empty DataFrame\n",
       "Columns: [id_individuo, sexo, peso, talla, edad_dias, edad_meses, masa_corporal, haz, waz, bmiz]\n",
       "Index: []"
      ]
     },
     "execution_count": 60,
     "metadata": {},
     "output_type": "execute_result"
    }
   ],
   "source": [
    "#chequeo que no este en df_plau_talla\n",
    "df_plau_talla.filter(items =[88368] , axis=0)"
   ]
  },
  {
   "cell_type": "code",
   "execution_count": 61,
   "id": "8617f5d9",
   "metadata": {},
   "outputs": [
    {
     "data": {
      "text/html": [
       "<div>\n",
       "<style scoped>\n",
       "    .dataframe tbody tr th:only-of-type {\n",
       "        vertical-align: middle;\n",
       "    }\n",
       "\n",
       "    .dataframe tbody tr th {\n",
       "        vertical-align: top;\n",
       "    }\n",
       "\n",
       "    .dataframe thead th {\n",
       "        text-align: right;\n",
       "    }\n",
       "</style>\n",
       "<table border=\"1\" class=\"dataframe\">\n",
       "  <thead>\n",
       "    <tr style=\"text-align: right;\">\n",
       "      <th></th>\n",
       "      <th>id_individuo</th>\n",
       "      <th>sexo</th>\n",
       "      <th>peso</th>\n",
       "      <th>talla</th>\n",
       "      <th>edad_dias</th>\n",
       "      <th>edad_meses</th>\n",
       "      <th>masa_corporal</th>\n",
       "      <th>haz</th>\n",
       "      <th>waz</th>\n",
       "      <th>bmiz</th>\n",
       "    </tr>\n",
       "  </thead>\n",
       "  <tbody>\n",
       "  </tbody>\n",
       "</table>\n",
       "</div>"
      ],
      "text/plain": [
       "Empty DataFrame\n",
       "Columns: [id_individuo, sexo, peso, talla, edad_dias, edad_meses, masa_corporal, haz, waz, bmiz]\n",
       "Index: []"
      ]
     },
     "execution_count": 61,
     "metadata": {},
     "output_type": "execute_result"
    }
   ],
   "source": [
    "df_plau_talla[df_plau_talla['id_individuo']==23042]"
   ]
  },
  {
   "cell_type": "code",
   "execution_count": null,
   "id": "8ff1a322",
   "metadata": {},
   "outputs": [],
   "source": []
  },
  {
   "cell_type": "code",
   "execution_count": 62,
   "id": "21f0fbc3",
   "metadata": {},
   "outputs": [],
   "source": [
    "#quiero eliminar ese -3\n",
    "serie_delta_tallas_plau_2Aa5A = pd.Series(lista_delta_tallas_plau_2Aa5A).drop(88368 , axis=0)"
   ]
  },
  {
   "cell_type": "code",
   "execution_count": null,
   "id": "583bcc77",
   "metadata": {},
   "outputs": [],
   "source": []
  },
  {
   "cell_type": "code",
   "execution_count": null,
   "id": "b922c746",
   "metadata": {},
   "outputs": [],
   "source": []
  },
  {
   "cell_type": "code",
   "execution_count": 63,
   "id": "17332153",
   "metadata": {},
   "outputs": [
    {
     "data": {
      "text/plain": [
       "47.0       1\n",
       "43.0       1\n",
       "45.0       2\n",
       "42.0       2\n",
       "41.0       3\n",
       "39.0       5\n",
       "40.0       6\n",
       "38.0       8\n",
       "36.0       9\n",
       "37.0      11\n",
       "35.0      18\n",
       "34.0      22\n",
       "32.0      23\n",
       "33.0      25\n",
       "31.0      46\n",
       "29.0      55\n",
       "30.0      73\n",
       "28.0      76\n",
       "26.0      83\n",
       "27.0      97\n",
       "25.0     162\n",
       "24.0     185\n",
       "23.0     249\n",
       "22.0     335\n",
       "21.0     391\n",
       "20.0     512\n",
       "19.0     615\n",
       "18.0     795\n",
       "17.0     944\n",
       "16.0    1274\n",
       "15.0    1441\n",
       "14.0    1759\n",
       "13.0    1958\n",
       "12.0    2461\n",
       "11.0    2890\n",
       "10.0    3949\n",
       "9.0     4691\n",
       "1.0     5696\n",
       "7.0     6549\n",
       "2.0     6594\n",
       "6.0     6688\n",
       "8.0     6772\n",
       "3.0     7025\n",
       "5.0     7177\n",
       "4.0     7348\n",
       "0.0     9342\n",
       "dtype: int64"
      ]
     },
     "execution_count": 63,
     "metadata": {},
     "output_type": "execute_result"
    }
   ],
   "source": [
    "serie_delta_tallas_plau_2Aa5A.value_counts().sort_values()"
   ]
  },
  {
   "cell_type": "code",
   "execution_count": null,
   "id": "9ea3f83b",
   "metadata": {},
   "outputs": [],
   "source": []
  },
  {
   "cell_type": "code",
   "execution_count": 64,
   "id": "cf9ae6eb",
   "metadata": {},
   "outputs": [
    {
     "data": {
      "text/plain": [
       "<AxesSubplot:>"
      ]
     },
     "execution_count": 64,
     "metadata": {},
     "output_type": "execute_result"
    },
    {
     "data": {
      "image/png": "[encoded data removed]",
      "text/plain": [
       "<Figure size 432x288 with 1 Axes>"
      ]
     },
     "metadata": {
      "needs_background": "light"
     },
     "output_type": "display_data"
    }
   ],
   "source": [
    "serie_delta_tallas_plau_2Aa5A.hist(bins=45)"
   ]
  },
  {
   "cell_type": "code",
   "execution_count": null,
   "id": "66306a3b",
   "metadata": {},
   "outputs": [],
   "source": []
  },
  {
   "cell_type": "code",
   "execution_count": 65,
   "id": "a64ddd4f",
   "metadata": {},
   "outputs": [
    {
     "data": {
      "text/plain": [
       "<AxesSubplot:>"
      ]
     },
     "execution_count": 65,
     "metadata": {},
     "output_type": "execute_result"
    },
    {
     "data": {
      "image/png": "[encoded data removed]",
      "text/plain": [
       "<Figure size 432x288 with 1 Axes>"
      ]
     },
     "metadata": {
      "needs_background": "light"
     },
     "output_type": "display_data"
    }
   ],
   "source": [
    "pd.Series(lista_delta_meses_plau_2Aa5A).hist(bins=60)"
   ]
  },
  {
   "cell_type": "code",
   "execution_count": null,
   "id": "5eabbc34",
   "metadata": {},
   "outputs": [],
   "source": []
  },
  {
   "cell_type": "code",
   "execution_count": null,
   "id": "9ed7a645",
   "metadata": {},
   "outputs": [],
   "source": []
  },
  {
   "cell_type": "code",
   "execution_count": null,
   "id": "1d17c2f0",
   "metadata": {},
   "outputs": [],
   "source": []
  },
  {
   "cell_type": "code",
   "execution_count": 66,
   "id": "035623d8",
   "metadata": {},
   "outputs": [],
   "source": [
    "#puedo pedirle una medida de resumen a serie_delta_tallas_plau_2Aa5A , paraclacular la tasa"
   ]
  },
  {
   "cell_type": "code",
   "execution_count": null,
   "id": "0030ceac",
   "metadata": {},
   "outputs": [],
   "source": []
  },
  {
   "cell_type": "code",
   "execution_count": 67,
   "id": "e26dcb2e",
   "metadata": {},
   "outputs": [
    {
     "data": {
      "text/plain": [
       "count    88368.000000\n",
       "mean         6.557645\n",
       "std          5.357711\n",
       "min          0.000000\n",
       "25%          3.000000\n",
       "50%          6.000000\n",
       "75%          9.000000\n",
       "max         47.000000\n",
       "dtype: float64"
      ]
     },
     "execution_count": 67,
     "metadata": {},
     "output_type": "execute_result"
    }
   ],
   "source": [
    "serie_delta_tallas_plau_2Aa5A.describe()"
   ]
  },
  {
   "cell_type": "code",
   "execution_count": null,
   "id": "704be765",
   "metadata": {},
   "outputs": [],
   "source": [
    "#circa 20k con delta 1 cm"
   ]
  },
  {
   "cell_type": "code",
   "execution_count": null,
   "id": "33cfa351",
   "metadata": {},
   "outputs": [],
   "source": []
  },
  {
   "cell_type": "code",
   "execution_count": 68,
   "id": "eecada56",
   "metadata": {},
   "outputs": [],
   "source": [
    "#como el percentil 50% es la mediana, usar'ia ese dato como valor robusto, para calclar la tasa"
   ]
  },
  {
   "cell_type": "code",
   "execution_count": 69,
   "id": "539481a6",
   "metadata": {},
   "outputs": [],
   "source": [
    "#vamos a cualcualr las tasasas  para cada rango etario"
   ]
  },
  {
   "cell_type": "code",
   "execution_count": 159,
   "id": "c3d23945",
   "metadata": {},
   "outputs": [
    {
     "data": {
      "text/plain": [
       "count    66521.000000\n",
       "mean         4.591978\n",
       "std          2.946209\n",
       "min          0.000000\n",
       "25%          3.000000\n",
       "50%          4.000000\n",
       "75%          6.000000\n",
       "90%          9.000000\n",
       "95%         10.000000\n",
       "99%         14.000000\n",
       "max         24.000000\n",
       "dtype: float64"
      ]
     },
     "execution_count": 159,
     "metadata": {},
     "output_type": "execute_result"
    }
   ],
   "source": [
    "#para 0 a 6 meses\n",
    "pd.Series(lista_delta_tallas_plau_menor6meses).describe([.25, .5, .75, .90, .95, .99])"
   ]
  },
  {
   "cell_type": "code",
   "execution_count": null,
   "id": "718586ae",
   "metadata": {},
   "outputs": [],
   "source": []
  },
  {
   "cell_type": "code",
   "execution_count": null,
   "id": "2079eb06",
   "metadata": {},
   "outputs": [],
   "source": []
  },
  {
   "cell_type": "code",
   "execution_count": 71,
   "id": "0705f178",
   "metadata": {},
   "outputs": [
    {
     "data": {
      "text/plain": [
       "count    66521.000000\n",
       "mean         1.593237\n",
       "std          0.761258\n",
       "min          0.000000\n",
       "25%          1.000000\n",
       "50%          1.300000\n",
       "75%          2.000000\n",
       "max          5.900000\n",
       "dtype: float64"
      ]
     },
     "execution_count": 71,
     "metadata": {},
     "output_type": "execute_result"
    }
   ],
   "source": [
    "pd.Series(lista_delta_meses_plau_menor6meses).describe()"
   ]
  },
  {
   "cell_type": "code",
   "execution_count": 72,
   "id": "6ae35531",
   "metadata": {},
   "outputs": [],
   "source": [
    "tasa_menor6meses = pd.Series(lista_delta_tallas_plau_menor6meses).median()/pd.Series(lista_delta_meses_plau_menor6meses).median()"
   ]
  },
  {
   "cell_type": "code",
   "execution_count": 73,
   "id": "e5871e74",
   "metadata": {},
   "outputs": [
    {
     "data": {
      "text/plain": [
       "3.0769230769230753"
      ]
     },
     "execution_count": 73,
     "metadata": {},
     "output_type": "execute_result"
    }
   ],
   "source": [
    "tasa_menor6meses#cm/meses"
   ]
  },
  {
   "cell_type": "code",
   "execution_count": 158,
   "id": "b2566595",
   "metadata": {},
   "outputs": [
    {
     "data": {
      "text/plain": [
       "count    114783.000000\n",
       "mean          5.276731\n",
       "std           3.956512\n",
       "min           0.000000\n",
       "25%           2.000000\n",
       "50%           4.000000\n",
       "75%           7.000000\n",
       "90%          11.000000\n",
       "95%          13.000000\n",
       "99%          18.000000\n",
       "max          40.000000\n",
       "dtype: float64"
      ]
     },
     "execution_count": 158,
     "metadata": {},
     "output_type": "execute_result"
    }
   ],
   "source": [
    "#para 6 meses a 2 anios\n",
    "pd.Series(lista_delta_tallas_plau_6Ma2A).describe([.25, .5, .75, .90, .95, .99])"
   ]
  },
  {
   "cell_type": "code",
   "execution_count": null,
   "id": "56f9bf8d",
   "metadata": {},
   "outputs": [],
   "source": []
  },
  {
   "cell_type": "code",
   "execution_count": 75,
   "id": "a55ec4ac",
   "metadata": {},
   "outputs": [
    {
     "data": {
      "text/plain": [
       "count    114783.000000\n",
       "mean          4.738221\n",
       "std           2.987247\n",
       "min           0.000000\n",
       "25%           2.600000\n",
       "50%           3.900000\n",
       "75%           6.200000\n",
       "max          17.900000\n",
       "dtype: float64"
      ]
     },
     "execution_count": 75,
     "metadata": {},
     "output_type": "execute_result"
    }
   ],
   "source": [
    "pd.Series(lista_delta_meses_plau_6Ma2A).describe()"
   ]
  },
  {
   "cell_type": "code",
   "execution_count": null,
   "id": "937e76d3",
   "metadata": {},
   "outputs": [],
   "source": []
  },
  {
   "cell_type": "code",
   "execution_count": 76,
   "id": "a13ac50c",
   "metadata": {},
   "outputs": [
    {
     "name": "stdout",
     "output_type": "stream",
     "text": [
      "tasa 6meses a 2 anios:  1.025641025641025 cm/meses\n"
     ]
    }
   ],
   "source": [
    "tasa_6Ma2A = pd.Series(lista_delta_tallas_plau_6Ma2A).median()/pd.Series(lista_delta_meses_plau_6Ma2A).median()\n",
    "print('tasa 6meses a 2 anios: ' , tasa_6Ma2A , 'cm/meses')"
   ]
  },
  {
   "cell_type": "code",
   "execution_count": 157,
   "id": "8adda2e7",
   "metadata": {},
   "outputs": [
    {
     "data": {
      "text/plain": [
       "count    88368.000000\n",
       "mean         6.557645\n",
       "std          5.357711\n",
       "min          0.000000\n",
       "25%          3.000000\n",
       "50%          6.000000\n",
       "75%          9.000000\n",
       "90%         14.000000\n",
       "95%         17.000000\n",
       "99%         24.000000\n",
       "max         47.000000\n",
       "dtype: float64"
      ]
     },
     "execution_count": 157,
     "metadata": {},
     "output_type": "execute_result"
    }
   ],
   "source": [
    "#rango de 2 a 5 anios...\n",
    "serie_delta_tallas_plau_2Aa5A.describe([.25, .5, .75, .90, .95, .99])"
   ]
  },
  {
   "cell_type": "code",
   "execution_count": null,
   "id": "4e1d2095",
   "metadata": {},
   "outputs": [],
   "source": []
  },
  {
   "cell_type": "code",
   "execution_count": 78,
   "id": "f519e7c6",
   "metadata": {},
   "outputs": [
    {
     "data": {
      "text/plain": [
       "count    88369.000000\n",
       "mean         9.526108\n",
       "std          6.251633\n",
       "min          0.000000\n",
       "25%          4.800000\n",
       "50%          8.100000\n",
       "75%         12.600000\n",
       "max         35.800000\n",
       "dtype: float64"
      ]
     },
     "execution_count": 78,
     "metadata": {},
     "output_type": "execute_result"
    }
   ],
   "source": [
    "pd.Series(lista_delta_meses_plau_2Aa5A).describe()"
   ]
  },
  {
   "cell_type": "code",
   "execution_count": 79,
   "id": "193b158d",
   "metadata": {},
   "outputs": [
    {
     "name": "stdout",
     "output_type": "stream",
     "text": [
      "tasa 2 a 5 anios:  0.7407407407407406 cm/meses\n"
     ]
    }
   ],
   "source": [
    "tasa_2Aa5A = serie_delta_tallas_plau_2Aa5A.median()/pd.Series(lista_delta_meses_plau_2Aa5A).median()\n",
    "print('tasa 2 a 5 anios: ' , tasa_2Aa5A , 'cm/meses')"
   ]
  },
  {
   "cell_type": "code",
   "execution_count": 84,
   "id": "039857d5",
   "metadata": {},
   "outputs": [
    {
     "name": "stdout",
     "output_type": "stream",
     "text": [
      "long lista ind anormales:  76823\n",
      "conjunto ind pesos anormales:  63708\n",
      "longitud lista de anormales unicos:  63708\n",
      "long pesos de 0 6 meses :  14024 long mesesde 0 a 6 meses :  14024\n",
      "long pesos de 6 meses a 2 anios :  43013 long meses de 6 meses a 2 anios:  43013\n",
      "long pesos de 2 anios a 5 anios :  56847 long meses de 2 anios a 5 anios :  56847\n"
     ]
    }
   ],
   "source": [
    "#ahora que tengo las tasas, puedo implementar la idea para remediar, o al menso osl oeliminar los datos incorrectos\n",
    "#ya que puedo hacer (delta(t-1_t)*tasa)->t , (deltas(t_t+1)*tasa)-> t+1 , y (delta(t-1_t+1)*tasa)->t+1\n",
    "#como criterio el m'as disimil, indicaria en que medida esta el error.\n",
    "\n",
    "#hasta aca quedo l ode las tallas...\n",
    "###################################################################################################33\n",
    "#vamos con los pesos, para evaluar pr rango etario\n",
    "\n",
    "#queremos chequear que la talla sea igual o mayor conforme pasa el tiempo\n",
    "#individuos = np.arange(1,300000)\n",
    "lista_pesos_anormales=[]\n",
    "for i in range(0 , len(individuos)):\n",
    "    subdf = df_plau[df_plau['id_individuo']==individuos[i]]#hasta aca devuelve un subdf con el Iesimo individuo\n",
    "    for j in range(0 , (subdf.shape[0]-1)):\n",
    "        if(subdf.iloc[j+1 , 2].item() < subdf.iloc[j , 2].item()):#aca evaluo si en la siguiente fecha elpeso es <\n",
    "            lista_pesos_anormales.append((individuos[i] , subdf))#caso afirmativo, que guarde el indiv , y el df\n",
    "\n",
    "            \n",
    "            \n",
    "lista_ind_pesos_anormales=[]\n",
    "for k in range(0,len(lista_pesos_anormales)):\n",
    "    lista_ind_pesos_anormales.append(lista_pesos_anormales[k][0])\n",
    "print('long lista ind anormales: ' , len(lista_ind_pesos_anormales))\n",
    "#ahora hago el conjunto, para evaluar cuantos indiciduos osn efectivamente\n",
    "conjunto_ind_pesos_anormales = set(lista_ind_pesos_anormales)\n",
    "print('conjunto ind pesos anormales: ' , len(conjunto_ind_pesos_anormales))\n",
    "pesos_anormales_listados = list(conjunto_ind_pesos_anormales)\n",
    "print('longitud lista de anormales unicos: ' , len(pesos_anormales_listados))\n",
    "            \n",
    "            \n",
    "df_no_plau_pesos = df_plau[df_plau['id_individuo'].isin(pesos_anormales_listados)]        \n",
    "            \n",
    "\n",
    "df_plau_pesos = df_plau[~df_plau['id_individuo'].isin(pesos_anormales_listados)]\n",
    "    \n",
    "\n",
    "lista_delta_pesos_no_plau_menor6meses = []\n",
    "lista_delta_meses_pesos_no_plau_menor6meses = []\n",
    "for i in (df_no_plau_pesos['id_individuo'].unique()):\n",
    "    subdf = df_no_plau_pesos[(df_no_plau_pesos['id_individuo'] == i) & (df_no_plau_pesos['edad_meses'] <= 6)]#hasta aca devuelve un subdf con el Iesimo individuo\n",
    "    for j in range(0 , (subdf.shape[0]-1)):\n",
    "        lista_delta_pesos_no_plau_menor6meses.append(subdf.iloc[j+1 , 2].item() - subdf.iloc[j , 2].item())#caso afirmativo, que guarde el indiv , y el df\n",
    "        lista_delta_meses_pesos_no_plau_menor6meses.append(subdf.iloc[j+1 , 5].item() - subdf.iloc[j , 5].item())\n",
    "print('long pesos de 0 6 meses : ' , len(lista_delta_pesos_no_plau_menor6meses) , 'long mesesde 0 a 6 meses : ' , len(lista_delta_meses_pesos_no_plau_menor6meses))\n",
    "\n",
    "\n",
    "\n",
    "lista_delta_pesos_no_plau_6Ma2A = []\n",
    "lista_delta_meses_pesos_no_plau_6Ma2A = []\n",
    "for i in (df_no_plau_pesos['id_individuo'].unique()):\n",
    "    subdf = df_no_plau_pesos[(df_no_plau_pesos['id_individuo'] == i) & (df_no_plau_pesos['edad_meses'] > 6) & (df_no_plau_pesos['edad_meses'] <= 24)]#hasta aca devuelve un subdf con el Iesimo individuo\n",
    "    for j in range(0 , (subdf.shape[0]-1)):\n",
    "        lista_delta_pesos_no_plau_6Ma2A.append(subdf.iloc[j+1 , 2].item() - subdf.iloc[j , 2].item())#caso afirmativo, que guarde el indiv , y el df\n",
    "        lista_delta_meses_pesos_no_plau_6Ma2A.append(subdf.iloc[j+1 , 5].item() - subdf.iloc[j , 5].item())\n",
    "print('long pesos de 6 meses a 2 anios : ' , len(lista_delta_pesos_no_plau_6Ma2A) , 'long meses de 6 meses a 2 anios: ' , len(lista_delta_meses_pesos_no_plau_6Ma2A))\n",
    "\n",
    "\n",
    "\n",
    "\n",
    "\n",
    "lista_delta_pesos_no_plau_2Aa5A = []\n",
    "lista_delta_meses_pesos_no_plau_2Aa5A = []\n",
    "for i in (df_no_plau_pesos['id_individuo'].unique()):\n",
    "    subdf = df_no_plau_pesos[(df_no_plau_pesos['id_individuo'] == i) & (df_no_plau_pesos['edad_meses'] > 24) & (df_no_plau_pesos['edad_meses'] <= 60)]#hasta aca devuelve un subdf con el Iesimo individuo\n",
    "    for j in range(0 , (subdf.shape[0]-1)):\n",
    "        lista_delta_pesos_no_plau_2Aa5A.append(subdf.iloc[j+1 , 2].item() - subdf.iloc[j , 2].item())#caso afirmativo, que guarde el indiv , y el df\n",
    "        lista_delta_meses_pesos_no_plau_2Aa5A.append(subdf.iloc[j+1 , 5].item() - subdf.iloc[j , 5].item())\n",
    "print('long pesos de 2 anios a 5 anios : ' , len(lista_delta_pesos_no_plau_2Aa5A) , 'long meses de 2 anios a 5 anios : ' , len(lista_delta_meses_pesos_no_plau_2Aa5A))\n",
    "\n"
   ]
  },
  {
   "cell_type": "code",
   "execution_count": 168,
   "id": "5d48bd03",
   "metadata": {},
   "outputs": [
    {
     "data": {
      "text/plain": [
       "7.682300000000001"
      ]
     },
     "execution_count": 168,
     "metadata": {},
     "output_type": "execute_result"
    }
   ],
   "source": [
    "#divir los casos de cada rango etario por le n total de cada rango etario, asi se puede comparar %\n",
    "\n",
    "76823/1000000*100"
   ]
  },
  {
   "cell_type": "code",
   "execution_count": null,
   "id": "7a80db92",
   "metadata": {},
   "outputs": [],
   "source": []
  },
  {
   "cell_type": "code",
   "execution_count": null,
   "id": "f00ae08d",
   "metadata": {},
   "outputs": [],
   "source": []
  },
  {
   "cell_type": "code",
   "execution_count": 86,
   "id": "aa8152e7",
   "metadata": {},
   "outputs": [
    {
     "name": "stdout",
     "output_type": "stream",
     "text": [
      "long pesos de 0 6 meses :  65892 long mesesde 0 a 6 meses :  65892\n",
      "long pesos de 6 meses a 2 anios :  108703 long meses de 6 meses a 2 anios:  108703\n",
      "long pesos de 2 anios a 5 anios :  82146 long meses de 2 anios a 5 anios :  82146\n"
     ]
    }
   ],
   "source": [
    "#lista_pesos_anormales=[]\n",
    "#for i in range(0 , len(individuos)):\n",
    " #   subdf = df_plau[df_plau['id_individuo']==individuos[i]]#hasta aca devuelve un subdf con el Iesimo individuo\n",
    "  #  for j in range(0 , (subdf.shape[0]-1)):\n",
    "   #     if(subdf.iloc[j+1 , 2].item() < subdf.iloc[j , 2].item()):#aca evaluo si en la siguiente fecha elpeso es <\n",
    "    #        lista_pesos_anormales.append((individuos[i] , subdf))#caso afirmativo, que guarde el indiv , y el df\n",
    "\n",
    "            \n",
    "            \n",
    "#lista_ind_pesos_anormales=[]\n",
    "#for k in range(0,len(lista_pesos_anormales)):\n",
    "#    lista_ind_pesos_anormales.append(lista_pesos_anormales[k][0])\n",
    "#print('long lista ind anormales: ' , len(lista_ind_pesos_anormales))\n",
    "#ahora hago el conjunto, para evaluar cuantos indiciduos osn efectivamente\n",
    "#conjunto_ind_pesos_anormales = set(lista_ind_pesos_anormales)\n",
    "#print('conjunto ind pesos anormales: ' , len(conjunto_ind_pesos_anormales))\n",
    "#pesos_anormales_listados = list(conjunto_ind_pesos_anormales)\n",
    "#print('longitud lista de anormales unicos: ' , len(pesos_anormales_listados))\n",
    "            \n",
    "            \n",
    "#df_no_plau_pesos = df_plau[df_plau['id_individuo'].isin(pesos_anormales_listados)]        \n",
    "            \n",
    "\n",
    "df_plau_pesos = df_plau[~df_plau['id_individuo'].isin(pesos_anormales_listados)]\n",
    "    \n",
    "\n",
    "lista_delta_pesos_plau_menor6meses = []\n",
    "lista_delta_meses_pesos_plau_menor6meses = []\n",
    "for i in (df_plau_pesos['id_individuo'].unique()):\n",
    "    subdf = df_plau_pesos[(df_plau_pesos['id_individuo'] == i) & (df_plau_pesos['edad_meses'] <= 6)]#hasta aca devuelve un subdf con el Iesimo individuo\n",
    "    for j in range(0 , (subdf.shape[0]-1)):\n",
    "        lista_delta_pesos_plau_menor6meses.append(subdf.iloc[j+1 , 2].item() - subdf.iloc[j , 2].item())#caso afirmativo, que guarde el indiv , y el df\n",
    "        lista_delta_meses_pesos_plau_menor6meses.append(subdf.iloc[j+1 , 5].item() - subdf.iloc[j , 5].item())\n",
    "print('long pesos de 0 6 meses : ' , len(lista_delta_pesos_plau_menor6meses) , 'long mesesde 0 a 6 meses : ' , len(lista_delta_meses_pesos_plau_menor6meses))\n",
    "\n",
    "\n",
    "\n",
    "lista_delta_pesos_plau_6Ma2A = []\n",
    "lista_delta_meses_pesos_plau_6Ma2A = []\n",
    "for i in (df_plau_pesos['id_individuo'].unique()):\n",
    "    subdf = df_plau_pesos[(df_plau_pesos['id_individuo'] == i) & (df_plau_pesos['edad_meses'] > 6) & (df_plau_pesos['edad_meses'] <= 24)]#hasta aca devuelve un subdf con el Iesimo individuo\n",
    "    for j in range(0 , (subdf.shape[0]-1)):\n",
    "        lista_delta_pesos_plau_6Ma2A.append(subdf.iloc[j+1 , 2].item() - subdf.iloc[j , 2].item())#caso afirmativo, que guarde el indiv , y el df\n",
    "        lista_delta_meses_pesos_plau_6Ma2A.append(subdf.iloc[j+1 , 5].item() - subdf.iloc[j , 5].item())\n",
    "print('long pesos de 6 meses a 2 anios : ' , len(lista_delta_pesos_plau_6Ma2A) , 'long meses de 6 meses a 2 anios: ' , len(lista_delta_meses_pesos_plau_6Ma2A))\n",
    "\n",
    "\n",
    "\n",
    "\n",
    "\n",
    "lista_delta_pesos_plau_2Aa5A = []\n",
    "lista_delta_meses_pesos_plau_2Aa5A = []\n",
    "for i in (df_plau_pesos['id_individuo'].unique()):\n",
    "    subdf = df_plau_pesos[(df_plau_pesos['id_individuo'] == i) & (df_plau_pesos['edad_meses'] > 24) & (df_plau_pesos['edad_meses'] <= 60)]#hasta aca devuelve un subdf con el Iesimo individuo\n",
    "    for j in range(0 , (subdf.shape[0]-1)):\n",
    "        lista_delta_pesos_plau_2Aa5A.append(subdf.iloc[j+1 , 2].item() - subdf.iloc[j , 2].item())#caso afirmativo, que guarde el indiv , y el df\n",
    "        lista_delta_meses_pesos_plau_2Aa5A.append(subdf.iloc[j+1 , 5].item() - subdf.iloc[j , 5].item())\n",
    "print('long pesos de 2 anios a 5 anios : ' , len(lista_delta_pesos_plau_2Aa5A) , 'long meses de 2 anios a 5 anios : ' , len(lista_delta_meses_pesos_plau_2Aa5A))\n",
    "\n"
   ]
  },
  {
   "cell_type": "code",
   "execution_count": 100,
   "id": "3d1ad1bc",
   "metadata": {},
   "outputs": [
    {
     "data": {
      "text/plain": [
       "<AxesSubplot:>"
      ]
     },
     "execution_count": 100,
     "metadata": {},
     "output_type": "execute_result"
    },
    {
     "data": {
      "image/png": "[encoded data removed]",
      "text/plain": [
       "<Figure size 432x288 with 1 Axes>"
      ]
     },
     "metadata": {
      "needs_background": "light"
     },
     "output_type": "display_data"
    }
   ],
   "source": [
    "pd.Series(lista_delta_meses_pesos_no_plau_menor6meses).hist(bins=50)"
   ]
  },
  {
   "cell_type": "code",
   "execution_count": null,
   "id": "b962d367",
   "metadata": {},
   "outputs": [],
   "source": []
  },
  {
   "cell_type": "code",
   "execution_count": 104,
   "id": "c1e0ecf1",
   "metadata": {},
   "outputs": [
    {
     "data": {
      "text/plain": [
       "<AxesSubplot:>"
      ]
     },
     "execution_count": 104,
     "metadata": {},
     "output_type": "execute_result"
    },
    {
     "data": {
      "image/png": "[encoded data removed]",
      "text/plain": [
       "<Figure size 432x288 with 1 Axes>"
      ]
     },
     "metadata": {
      "needs_background": "light"
     },
     "output_type": "display_data"
    }
   ],
   "source": [
    "pd.Series(lista_delta_pesos_no_plau_menor6meses)[(pd.Series(lista_delta_pesos_no_plau_menor6meses)>=0)].hist(bins=60)"
   ]
  },
  {
   "cell_type": "code",
   "execution_count": null,
   "id": "95f25a38",
   "metadata": {},
   "outputs": [],
   "source": []
  },
  {
   "cell_type": "code",
   "execution_count": 165,
   "id": "9298a19f",
   "metadata": {},
   "outputs": [
    {
     "data": {
      "text/plain": [
       "count    14024.000000\n",
       "mean         1.146834\n",
       "std          1.183508\n",
       "min         -5.200000\n",
       "1%          -2.000000\n",
       "10%         -0.100000\n",
       "25%          0.600000\n",
       "50%          1.000000\n",
       "75%          1.900000\n",
       "90%          2.600000\n",
       "95%          3.100000\n",
       "99%          4.500000\n",
       "max          6.900000\n",
       "dtype: float64"
      ]
     },
     "execution_count": 165,
     "metadata": {},
     "output_type": "execute_result"
    }
   ],
   "source": [
    "pd.Series(lista_delta_pesos_no_plau_menor6meses).describe([.01,.1,.25 , .5 , .75 , .90 , .95 , .99])"
   ]
  },
  {
   "cell_type": "code",
   "execution_count": 166,
   "id": "1c9ccd44",
   "metadata": {},
   "outputs": [
    {
     "data": {
      "text/plain": [
       "count    12578.000000\n",
       "mean         1.385657\n",
       "std          0.969308\n",
       "min          0.000000\n",
       "1%           0.000000\n",
       "10%          0.300000\n",
       "25%          0.800000\n",
       "50%          1.100000\n",
       "75%          1.900000\n",
       "90%          2.700000\n",
       "95%          3.200000\n",
       "99%          4.600000\n",
       "max          6.900000\n",
       "dtype: float64"
      ]
     },
     "execution_count": 166,
     "metadata": {},
     "output_type": "execute_result"
    }
   ],
   "source": [
    "pd.Series(lista_delta_pesos_no_plau_menor6meses)[(pd.Series(lista_delta_pesos_no_plau_menor6meses)>=0)].describe([.01,.1,.25 , .5 , .75 , .90 , .95 , .99])"
   ]
  },
  {
   "cell_type": "code",
   "execution_count": null,
   "id": "5b7a3b31",
   "metadata": {},
   "outputs": [],
   "source": []
  },
  {
   "cell_type": "code",
   "execution_count": null,
   "id": "c333dab2",
   "metadata": {},
   "outputs": [],
   "source": []
  },
  {
   "cell_type": "code",
   "execution_count": null,
   "id": "3cafb9ca",
   "metadata": {},
   "outputs": [],
   "source": []
  },
  {
   "cell_type": "code",
   "execution_count": null,
   "id": "f83f42cc",
   "metadata": {},
   "outputs": [],
   "source": []
  },
  {
   "cell_type": "code",
   "execution_count": 161,
   "id": "edc57e91",
   "metadata": {},
   "outputs": [
    {
     "data": {
      "text/plain": [
       "count    43013.000000\n",
       "mean         4.096989\n",
       "std          2.637591\n",
       "min          0.000000\n",
       "25%          2.200000\n",
       "50%          3.500000\n",
       "75%          5.300000\n",
       "90%          7.800000\n",
       "95%          9.400000\n",
       "99%         12.700000\n",
       "max         17.500000\n",
       "dtype: float64"
      ]
     },
     "execution_count": 161,
     "metadata": {},
     "output_type": "execute_result"
    }
   ],
   "source": [
    "pd.Series(lista_delta_meses_pesos_no_plau_6Ma2A).describe([.25 , .5 , .75 , .90 , .95 , .99])"
   ]
  },
  {
   "cell_type": "code",
   "execution_count": null,
   "id": "82bc86b4",
   "metadata": {},
   "outputs": [],
   "source": []
  },
  {
   "cell_type": "code",
   "execution_count": 105,
   "id": "ef975f76",
   "metadata": {},
   "outputs": [
    {
     "data": {
      "text/plain": [
       "<AxesSubplot:>"
      ]
     },
     "execution_count": 105,
     "metadata": {},
     "output_type": "execute_result"
    },
    {
     "data": {
      "image/png": "[encoded data removed]",
      "text/plain": [
       "<Figure size 432x288 with 1 Axes>"
      ]
     },
     "metadata": {
      "needs_background": "light"
     },
     "output_type": "display_data"
    }
   ],
   "source": [
    "pd.Series(lista_delta_pesos_no_plau_6Ma2A)[(pd.Series(lista_delta_pesos_no_plau_6Ma2A)>=0)].hist(bins=60)"
   ]
  },
  {
   "cell_type": "code",
   "execution_count": null,
   "id": "2ee6cd66",
   "metadata": {},
   "outputs": [],
   "source": []
  },
  {
   "cell_type": "code",
   "execution_count": 162,
   "id": "0d2d7f91",
   "metadata": {},
   "outputs": [
    {
     "data": {
      "text/plain": [
       "count    56847.000000\n",
       "mean         6.751157\n",
       "std          4.972722\n",
       "min          0.000000\n",
       "25%          3.300000\n",
       "50%          5.400000\n",
       "75%          8.900000\n",
       "90%         13.200000\n",
       "95%         16.800000\n",
       "99%         24.154000\n",
       "max         35.200000\n",
       "dtype: float64"
      ]
     },
     "execution_count": 162,
     "metadata": {},
     "output_type": "execute_result"
    }
   ],
   "source": [
    "pd.Series(lista_delta_meses_pesos_no_plau_2Aa5A).describe([.25 , .5 , .75 , .90 , .95 , .99])"
   ]
  },
  {
   "cell_type": "code",
   "execution_count": 163,
   "id": "074d4708",
   "metadata": {},
   "outputs": [
    {
     "data": {
      "text/plain": [
       "0.02"
      ]
     },
     "execution_count": 163,
     "metadata": {},
     "output_type": "execute_result"
    }
   ],
   "source": [
    "100/5000"
   ]
  },
  {
   "cell_type": "code",
   "execution_count": 164,
   "id": "bc70627e",
   "metadata": {},
   "outputs": [
    {
     "data": {
      "text/plain": [
       "0.3"
      ]
     },
     "execution_count": 164,
     "metadata": {},
     "output_type": "execute_result"
    }
   ],
   "source": [
    "0.02*15"
   ]
  },
  {
   "cell_type": "code",
   "execution_count": null,
   "id": "38f635ed",
   "metadata": {},
   "outputs": [],
   "source": []
  },
  {
   "cell_type": "code",
   "execution_count": 106,
   "id": "10a9fdca",
   "metadata": {},
   "outputs": [
    {
     "data": {
      "text/plain": [
       "<AxesSubplot:>"
      ]
     },
     "execution_count": 106,
     "metadata": {},
     "output_type": "execute_result"
    },
    {
     "data": {
      "image/png": "[encoded data removed]",
      "text/plain": [
       "<Figure size 432x288 with 1 Axes>"
      ]
     },
     "metadata": {
      "needs_background": "light"
     },
     "output_type": "display_data"
    }
   ],
   "source": [
    "pd.Series(lista_delta_pesos_no_plau_2Aa5A)[(pd.Series(lista_delta_pesos_no_plau_2Aa5A)>=0)].hist(bins=60)"
   ]
  },
  {
   "cell_type": "code",
   "execution_count": null,
   "id": "1a01990a",
   "metadata": {},
   "outputs": [],
   "source": []
  },
  {
   "cell_type": "code",
   "execution_count": 94,
   "id": "7d3b98f8",
   "metadata": {},
   "outputs": [
    {
     "data": {
      "text/plain": [
       "<AxesSubplot:>"
      ]
     },
     "execution_count": 94,
     "metadata": {},
     "output_type": "execute_result"
    },
    {
     "data": {
      "image/png": "[encoded data removed]",
      "text/plain": [
       "<Figure size 432x288 with 1 Axes>"
      ]
     },
     "metadata": {
      "needs_background": "light"
     },
     "output_type": "display_data"
    }
   ],
   "source": [
    "###########################################################################################################\n",
    "#ahora con los plausibles\n",
    "pd.Series(lista_delta_meses_pesos_plau_menor6meses).hist(bins=60)"
   ]
  },
  {
   "cell_type": "code",
   "execution_count": 139,
   "id": "f2eec2fd",
   "metadata": {},
   "outputs": [
    {
     "data": {
      "text/plain": [
       "<AxesSubplot:>"
      ]
     },
     "execution_count": 139,
     "metadata": {},
     "output_type": "execute_result"
    },
    {
     "data": {
      "image/png": "[encoded data removed]",
      "text/plain": [
       "<Figure size 432x288 with 1 Axes>"
      ]
     },
     "metadata": {
      "needs_background": "light"
     },
     "output_type": "display_data"
    }
   ],
   "source": [
    "pd.Series(lista_delta_pesos_plau_menor6meses).hist(bins=40)"
   ]
  },
  {
   "cell_type": "code",
   "execution_count": null,
   "id": "ed6a7c6b",
   "metadata": {},
   "outputs": [],
   "source": []
  },
  {
   "cell_type": "code",
   "execution_count": null,
   "id": "de55c9e3",
   "metadata": {},
   "outputs": [],
   "source": []
  },
  {
   "cell_type": "code",
   "execution_count": null,
   "id": "02aa9e55",
   "metadata": {},
   "outputs": [],
   "source": []
  },
  {
   "cell_type": "code",
   "execution_count": null,
   "id": "e831e592",
   "metadata": {},
   "outputs": [],
   "source": []
  },
  {
   "cell_type": "code",
   "execution_count": 173,
   "id": "2b8ce7b3",
   "metadata": {},
   "outputs": [
    {
     "data": {
      "text/plain": [
       "<AxesSubplot:>"
      ]
     },
     "execution_count": 173,
     "metadata": {},
     "output_type": "execute_result"
    },
    {
     "data": {
      "image/png": "[encoded data removed]",
      "text/plain": [
       "<Figure size 432x288 with 1 Axes>"
      ]
     },
     "metadata": {
      "needs_background": "light"
     },
     "output_type": "display_data"
    }
   ],
   "source": [
    "pd.Series(lista_delta_meses_pesos_plau_6Ma2A).hist(bins=60)"
   ]
  },
  {
   "cell_type": "code",
   "execution_count": 196,
   "id": "11188f34",
   "metadata": {
    "scrolled": true
   },
   "outputs": [
    {
     "data": {
      "text/plain": [
       "43013"
      ]
     },
     "execution_count": 196,
     "metadata": {},
     "output_type": "execute_result"
    }
   ],
   "source": [
    "len(pd.Series(lista_delta_pesos_no_plau_6Ma2A))#[(pd.Series(lista_delta_pesos_plau_6Ma2A)<=0.1)])"
   ]
  },
  {
   "cell_type": "code",
   "execution_count": null,
   "id": "e021492f",
   "metadata": {},
   "outputs": [],
   "source": []
  },
  {
   "cell_type": "code",
   "execution_count": null,
   "id": "b7abe0f7",
   "metadata": {},
   "outputs": [],
   "source": []
  },
  {
   "cell_type": "code",
   "execution_count": null,
   "id": "dc2f3056",
   "metadata": {},
   "outputs": [],
   "source": []
  },
  {
   "cell_type": "code",
   "execution_count": 197,
   "id": "f7788311",
   "metadata": {},
   "outputs": [
    {
     "data": {
      "text/plain": [
       "56847"
      ]
     },
     "execution_count": 197,
     "metadata": {},
     "output_type": "execute_result"
    }
   ],
   "source": [
    "len(pd.Series(lista_delta_pesos_no_plau_2Aa5A))#[(pd.Series(lista_delta_pesos_plau_2Aa5A)<=0.1)])"
   ]
  },
  {
   "cell_type": "code",
   "execution_count": null,
   "id": "1483cdcd",
   "metadata": {},
   "outputs": [],
   "source": []
  },
  {
   "cell_type": "code",
   "execution_count": null,
   "id": "7854069b",
   "metadata": {},
   "outputs": [],
   "source": []
  },
  {
   "cell_type": "code",
   "execution_count": null,
   "id": "09d99813",
   "metadata": {},
   "outputs": [],
   "source": []
  },
  {
   "cell_type": "code",
   "execution_count": 198,
   "id": "5a82bf02",
   "metadata": {},
   "outputs": [
    {
     "data": {
      "text/plain": [
       "14024"
      ]
     },
     "execution_count": 198,
     "metadata": {},
     "output_type": "execute_result"
    }
   ],
   "source": [
    "len(pd.Series(lista_delta_pesos_no_plau_menor6meses))#[(pd.Series(lista_delta_pesos_plau_menor6meses)<=0.1)])"
   ]
  },
  {
   "cell_type": "code",
   "execution_count": null,
   "id": "85372ca1",
   "metadata": {},
   "outputs": [],
   "source": []
  },
  {
   "cell_type": "code",
   "execution_count": null,
   "id": "c9f64092",
   "metadata": {},
   "outputs": [],
   "source": []
  },
  {
   "cell_type": "code",
   "execution_count": null,
   "id": "ef1cfa74",
   "metadata": {},
   "outputs": [],
   "source": []
  },
  {
   "cell_type": "code",
   "execution_count": 199,
   "id": "043706af",
   "metadata": {},
   "outputs": [
    {
     "ename": "NameError",
     "evalue": "name 'lista_delta_pesos_no_plau_5A_10A' is not defined",
     "output_type": "error",
     "traceback": [
      "\u001b[0;31m---------------------------------------------------------------------------\u001b[0m",
      "\u001b[0;31mNameError\u001b[0m                                 Traceback (most recent call last)",
      "Input \u001b[0;32mIn [199]\u001b[0m, in \u001b[0;36m<cell line: 1>\u001b[0;34m()\u001b[0m\n\u001b[0;32m----> 1\u001b[0m \u001b[38;5;28mlen\u001b[39m(pd\u001b[38;5;241m.\u001b[39mSeries(\u001b[43mlista_delta_pesos_no_plau_5A_10A\u001b[49m))\n",
      "\u001b[0;31mNameError\u001b[0m: name 'lista_delta_pesos_no_plau_5A_10A' is not defined"
     ]
    }
   ],
   "source": [
    "len(pd.Series(lista_delta_pesos_no_plau_5A_10A))#[(pd.Series(lista_delta_pesos_plau_5A_10A)<=0.1)])"
   ]
  },
  {
   "cell_type": "code",
   "execution_count": null,
   "id": "a0386d88",
   "metadata": {},
   "outputs": [],
   "source": []
  },
  {
   "cell_type": "code",
   "execution_count": null,
   "id": "c151052e",
   "metadata": {},
   "outputs": [],
   "source": []
  },
  {
   "cell_type": "code",
   "execution_count": null,
   "id": "4da5b5dc",
   "metadata": {},
   "outputs": [],
   "source": []
  },
  {
   "cell_type": "code",
   "execution_count": null,
   "id": "f0aee6ce",
   "metadata": {},
   "outputs": [],
   "source": []
  },
  {
   "cell_type": "code",
   "execution_count": 190,
   "id": "f295cf74",
   "metadata": {},
   "outputs": [
    {
     "data": {
      "text/plain": [
       "11714"
      ]
     },
     "execution_count": 190,
     "metadata": {},
     "output_type": "execute_result"
    }
   ],
   "source": []
  },
  {
   "cell_type": "code",
   "execution_count": null,
   "id": "173e34dd",
   "metadata": {},
   "outputs": [],
   "source": []
  },
  {
   "cell_type": "code",
   "execution_count": 188,
   "id": "99480c48",
   "metadata": {},
   "outputs": [
    {
     "data": {
      "text/plain": [
       "40133"
      ]
     },
     "execution_count": 188,
     "metadata": {},
     "output_type": "execute_result"
    }
   ],
   "source": [
    "len(pd.Series(lista_delta_pesos_plau_mayores10A))"
   ]
  },
  {
   "cell_type": "code",
   "execution_count": null,
   "id": "b8a77eee",
   "metadata": {},
   "outputs": [],
   "source": []
  },
  {
   "cell_type": "code",
   "execution_count": null,
   "id": "756955da",
   "metadata": {},
   "outputs": [],
   "source": []
  },
  {
   "cell_type": "code",
   "execution_count": null,
   "id": "d9c8dc84",
   "metadata": {},
   "outputs": [],
   "source": []
  },
  {
   "cell_type": "code",
   "execution_count": null,
   "id": "540be0f0",
   "metadata": {},
   "outputs": [],
   "source": [
    "#mayores10A"
   ]
  },
  {
   "cell_type": "code",
   "execution_count": null,
   "id": "086431c8",
   "metadata": {},
   "outputs": [],
   "source": []
  },
  {
   "cell_type": "code",
   "execution_count": null,
   "id": "a65b8d19",
   "metadata": {},
   "outputs": [],
   "source": []
  },
  {
   "cell_type": "code",
   "execution_count": null,
   "id": "8858c66f",
   "metadata": {},
   "outputs": [],
   "source": []
  },
  {
   "cell_type": "code",
   "execution_count": 97,
   "id": "baa8f783",
   "metadata": {},
   "outputs": [
    {
     "data": {
      "text/plain": [
       "<AxesSubplot:>"
      ]
     },
     "execution_count": 97,
     "metadata": {},
     "output_type": "execute_result"
    },
    {
     "data": {
      "image/png": "[encoded data removed]",
      "text/plain": [
       "<Figure size 432x288 with 1 Axes>"
      ]
     },
     "metadata": {
      "needs_background": "light"
     },
     "output_type": "display_data"
    }
   ],
   "source": [
    "pd.Series(lista_delta_pesos_plau_6Ma2A).hist(bins=60)"
   ]
  },
  {
   "cell_type": "code",
   "execution_count": 98,
   "id": "fd3bc2dd",
   "metadata": {},
   "outputs": [
    {
     "data": {
      "text/plain": [
       "<AxesSubplot:>"
      ]
     },
     "execution_count": 98,
     "metadata": {},
     "output_type": "execute_result"
    },
    {
     "data": {
      "image/png": "[encoded data removed]",
      "text/plain": [
       "<Figure size 432x288 with 1 Axes>"
      ]
     },
     "metadata": {
      "needs_background": "light"
     },
     "output_type": "display_data"
    }
   ],
   "source": [
    "pd.Series(lista_delta_meses_pesos_plau_2Aa5A).hist(bins=60)"
   ]
  },
  {
   "cell_type": "code",
   "execution_count": 142,
   "id": "8d80321f",
   "metadata": {},
   "outputs": [
    {
     "data": {
      "text/plain": [
       "<AxesSubplot:>"
      ]
     },
     "execution_count": 142,
     "metadata": {},
     "output_type": "execute_result"
    },
    {
     "data": {
      "image/png": "[encoded data removed]",
      "text/plain": [
       "<Figure size 432x288 with 1 Axes>"
      ]
     },
     "metadata": {
      "needs_background": "light"
     },
     "output_type": "display_data"
    }
   ],
   "source": [
    "pd.Series(lista_delta_pesos_plau_2Aa5A).hist(bins=40)"
   ]
  },
  {
   "cell_type": "code",
   "execution_count": null,
   "id": "b809bde6",
   "metadata": {},
   "outputs": [],
   "source": []
  },
  {
   "cell_type": "code",
   "execution_count": null,
   "id": "885ec882",
   "metadata": {},
   "outputs": [],
   "source": []
  },
  {
   "cell_type": "code",
   "execution_count": null,
   "id": "1df56d89",
   "metadata": {},
   "outputs": [],
   "source": []
  },
  {
   "cell_type": "code",
   "execution_count": null,
   "id": "5fe54ee6",
   "metadata": {},
   "outputs": [],
   "source": []
  },
  {
   "cell_type": "code",
   "execution_count": 108,
   "id": "015850f5",
   "metadata": {},
   "outputs": [],
   "source": [
    "#caso de solo dos datos que descienden talla o peso, se eliminan\n",
    "\n",
    "#si el num de mediciones de talla o peso n , (n+1 o n-1) son iguales, queda la media\n",
    "\n",
    "#caso contrario, el mayoritario, ya que acarrea menos cambios\n",
    "\n"
   ]
  },
  {
   "cell_type": "code",
   "execution_count": 114,
   "id": "ad9c687e",
   "metadata": {},
   "outputs": [
    {
     "data": {
      "text/plain": [
       "0.7692307692307692"
      ]
     },
     "execution_count": 114,
     "metadata": {},
     "output_type": "execute_result"
    }
   ],
   "source": [
    "#tasas para peso, series no plausibles\n",
    "\n",
    "tasa_0M_6M_plau = pd.Series(lista_delta_pesos_plau_menor6meses)[(pd.Series(lista_delta_pesos_plau_menor6meses)>=0)].median()/pd.Series(lista_delta_meses_pesos_plau_menor6meses).median()\n",
    "tasa_0M_6M_plau"
   ]
  },
  {
   "cell_type": "code",
   "execution_count": 118,
   "id": "cfffd410",
   "metadata": {},
   "outputs": [
    {
     "name": "stdout",
     "output_type": "stream",
     "text": [
      "en promedio por mes aumenta:  2.3076923076923075\n"
     ]
    }
   ],
   "source": [
    "v = 3*0.7692307692307692\n",
    "print('en promedio por mes aumenta: ' , v)"
   ]
  },
  {
   "cell_type": "code",
   "execution_count": null,
   "id": "113d0eed",
   "metadata": {},
   "outputs": [],
   "source": []
  },
  {
   "cell_type": "code",
   "execution_count": null,
   "id": "b5b3d215",
   "metadata": {},
   "outputs": [],
   "source": []
  },
  {
   "cell_type": "code",
   "execution_count": null,
   "id": "58b99544",
   "metadata": {},
   "outputs": [],
   "source": []
  },
  {
   "cell_type": "code",
   "execution_count": 115,
   "id": "6db43523",
   "metadata": {},
   "outputs": [
    {
     "data": {
      "text/plain": [
       "0.25"
      ]
     },
     "execution_count": 115,
     "metadata": {},
     "output_type": "execute_result"
    }
   ],
   "source": [
    "tasa_6M_2A_plau = pd.Series(lista_delta_pesos_plau_6Ma2A)[(pd.Series(lista_delta_pesos_plau_6Ma2A)>=0)].median()/pd.Series(lista_delta_meses_pesos_plau_6Ma2A).median()\n",
    "tasa_6M_2A_plau"
   ]
  },
  {
   "cell_type": "code",
   "execution_count": null,
   "id": "4e90ee82",
   "metadata": {},
   "outputs": [],
   "source": []
  },
  {
   "cell_type": "code",
   "execution_count": 116,
   "id": "8563b178",
   "metadata": {},
   "outputs": [
    {
     "data": {
      "text/plain": [
       "0.20238095238095233"
      ]
     },
     "execution_count": 116,
     "metadata": {},
     "output_type": "execute_result"
    }
   ],
   "source": [
    "tasa_2A_5A_plau = pd.Series(lista_delta_pesos_plau_2Aa5A).median()/pd.Series(lista_delta_meses_pesos_plau_2Aa5A).median()\n",
    "tasa_2A_5A_plau"
   ]
  },
  {
   "cell_type": "code",
   "execution_count": null,
   "id": "d4c5333a",
   "metadata": {},
   "outputs": [],
   "source": []
  },
  {
   "cell_type": "code",
   "execution_count": 156,
   "id": "cace6049",
   "metadata": {},
   "outputs": [
    {
     "data": {
      "text/plain": [
       "count    108703.000000\n",
       "mean          1.204142\n",
       "std           1.003210\n",
       "min           0.000000\n",
       "25%           0.500000\n",
       "50%           1.000000\n",
       "75%           1.700000\n",
       "90%           2.500000\n",
       "95%           3.100000\n",
       "99%           4.600000\n",
       "max          14.800000\n",
       "dtype: float64"
      ]
     },
     "execution_count": 156,
     "metadata": {},
     "output_type": "execute_result"
    }
   ],
   "source": [
    "\n",
    "pd.Series(lista_delta_pesos_plau_6Ma2A).describe([.25, .5, .75, .90, .95, .99])"
   ]
  },
  {
   "cell_type": "code",
   "execution_count": null,
   "id": "5c944cb1",
   "metadata": {},
   "outputs": [],
   "source": []
  },
  {
   "cell_type": "code",
   "execution_count": null,
   "id": "78c268f6",
   "metadata": {},
   "outputs": [],
   "source": []
  },
  {
   "cell_type": "code",
   "execution_count": null,
   "id": "3a0eabd9",
   "metadata": {},
   "outputs": [],
   "source": []
  },
  {
   "cell_type": "code",
   "execution_count": null,
   "id": "5f2d3349",
   "metadata": {},
   "outputs": [],
   "source": []
  },
  {
   "cell_type": "code",
   "execution_count": null,
   "id": "0e0c1c3e",
   "metadata": {},
   "outputs": [],
   "source": []
  },
  {
   "cell_type": "code",
   "execution_count": null,
   "id": "3bb1057a",
   "metadata": {},
   "outputs": [],
   "source": []
  },
  {
   "cell_type": "code",
   "execution_count": 154,
   "id": "0ab4ec28",
   "metadata": {},
   "outputs": [
    {
     "data": {
      "text/plain": [
       "count    65892.000000\n",
       "mean         1.277569\n",
       "std          0.828544\n",
       "min          0.000000\n",
       "25%          0.800000\n",
       "50%          1.000000\n",
       "75%          1.800000\n",
       "90%          2.300000\n",
       "95%          2.900000\n",
       "99%          3.900000\n",
       "max          7.500000\n",
       "dtype: float64"
      ]
     },
     "execution_count": 154,
     "metadata": {},
     "output_type": "execute_result"
    }
   ],
   "source": [
    "pd.Series(lista_delta_pesos_plau_menor6meses).describe([.25, .5, .75, .90, .95, .99])"
   ]
  },
  {
   "cell_type": "code",
   "execution_count": 155,
   "id": "49f35365",
   "metadata": {},
   "outputs": [
    {
     "data": {
      "text/plain": [
       "4.199999999999999"
      ]
     },
     "execution_count": 155,
     "metadata": {},
     "output_type": "execute_result"
    }
   ],
   "source": [
    "6*0.7"
   ]
  },
  {
   "cell_type": "code",
   "execution_count": null,
   "id": "4e652085",
   "metadata": {},
   "outputs": [],
   "source": []
  },
  {
   "cell_type": "code",
   "execution_count": 172,
   "id": "06aa7838",
   "metadata": {},
   "outputs": [
    {
     "data": {
      "text/plain": [
       "count    81707.000000\n",
       "mean         1.958875\n",
       "std          1.651060\n",
       "min          0.000000\n",
       "25%          0.900000\n",
       "50%          1.700000\n",
       "75%          2.800000\n",
       "90%          4.100000\n",
       "95%          5.200000\n",
       "99%          7.500000\n",
       "max          9.900000\n",
       "dtype: float64"
      ]
     },
     "execution_count": 172,
     "metadata": {},
     "output_type": "execute_result"
    }
   ],
   "source": [
    "pd.Series(lista_delta_pesos_plau_2Aa5A)[(pd.Series(lista_delta_pesos_plau_2Aa5A)>=0)&(pd.Series(lista_delta_pesos_plau_2Aa5A)<10)].describe([.25, .5, .75, .90, .95, .99])"
   ]
  },
  {
   "cell_type": "code",
   "execution_count": null,
   "id": "c586a093",
   "metadata": {},
   "outputs": [],
   "source": []
  },
  {
   "cell_type": "code",
   "execution_count": null,
   "id": "7a2359f6",
   "metadata": {},
   "outputs": [],
   "source": []
  },
  {
   "cell_type": "code",
   "execution_count": null,
   "id": "158ba8c9",
   "metadata": {},
   "outputs": [],
   "source": []
  },
  {
   "cell_type": "code",
   "execution_count": null,
   "id": "59c0be50",
   "metadata": {},
   "outputs": [],
   "source": []
  },
  {
   "cell_type": "code",
   "execution_count": null,
   "id": "4f000518",
   "metadata": {},
   "outputs": [],
   "source": []
  },
  {
   "cell_type": "code",
   "execution_count": null,
   "id": "b95dd87c",
   "metadata": {},
   "outputs": [],
   "source": [
    "#la lista   lista_pesos_anormales"
   ]
  },
  {
   "cell_type": "code",
   "execution_count": null,
   "id": "e91eb14f",
   "metadata": {},
   "outputs": [],
   "source": []
  },
  {
   "cell_type": "code",
   "execution_count": null,
   "id": "2ed4df53",
   "metadata": {},
   "outputs": [],
   "source": []
  },
  {
   "cell_type": "code",
   "execution_count": null,
   "id": "e1723f6a",
   "metadata": {},
   "outputs": [],
   "source": []
  }
 ],
 "metadata": {
  "kernelspec": {
   "display_name": "Python 3 (ipykernel)",
   "language": "python",
   "name": "python3"
  },
  "language_info": {
   "codemirror_mode": {
    "name": "ipython",
    "version": 3
   },
   "file_extension": ".py",
   "mimetype": "text/x-python",
   "name": "python",
   "nbconvert_exporter": "python",
   "pygments_lexer": "ipython3",
   "version": "3.9.7"
  }
 },
 "nbformat": 4,
 "nbformat_minor": 5
}
